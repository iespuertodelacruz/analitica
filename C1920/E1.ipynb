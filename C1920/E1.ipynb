{
 "cells": [
  {
   "cell_type": "code",
   "execution_count": 1,
   "metadata": {
    "scrolled": false
   },
   "outputs": [],
   "source": [
    "YEAR, EVALUATION = 2019, 1"
   ]
  },
  {
   "cell_type": "code",
   "execution_count": 2,
   "metadata": {
    "scrolled": false
   },
   "outputs": [
    {
     "data": {
      "text/html": [
       "<h1>ANÁLISIS DE LA 1ª EVALUACIÓN</h1>"
      ],
      "text/plain": [
       "<IPython.core.display.HTML object>"
      ]
     },
     "metadata": {},
     "output_type": "display_data"
    },
    {
     "data": {
      "text/html": [
       "<h2>IES Puerto de la Cruz - Telesforo Bravo | Curso 2019-2020</h2>"
      ],
      "text/plain": [
       "<IPython.core.display.HTML object>"
      ]
     },
     "metadata": {},
     "output_type": "display_data"
    }
   ],
   "source": [
    "from IPython.core.display import display, HTML\n",
    "display(HTML(f'<h1>ANÁLISIS DE LA {EVALUATION}ª EVALUACIÓN</h1>'))\n",
    "display(HTML(f'<h2>IES Puerto de la Cruz - Telesforo Bravo | Curso {YEAR}-{YEAR + 1}</h2>'))"
   ]
  },
  {
   "cell_type": "code",
   "execution_count": 3,
   "metadata": {
    "scrolled": false
   },
   "outputs": [
    {
     "data": {
      "text/html": [
       "        <script type=\"text/javascript\">\n",
       "        window.PlotlyConfig = {MathJaxConfig: 'local'};\n",
       "        if (window.MathJax) {MathJax.Hub.Config({SVG: {font: \"STIX-Web\"}});}\n",
       "        if (typeof require !== 'undefined') {\n",
       "        require.undef(\"plotly\");\n",
       "        requirejs.config({\n",
       "            paths: {\n",
       "                'plotly': ['https://cdn.plot.ly/plotly-latest.min']\n",
       "            }\n",
       "        });\n",
       "        require(['plotly'], function(Plotly) {\n",
       "            window._Plotly = Plotly;\n",
       "        });\n",
       "        }\n",
       "        </script>\n",
       "        "
      ]
     },
     "metadata": {},
     "output_type": "display_data"
    },
    {
     "data": {
      "text/html": [
       "        <script type=\"text/javascript\">\n",
       "        window.PlotlyConfig = {MathJaxConfig: 'local'};\n",
       "        if (window.MathJax) {MathJax.Hub.Config({SVG: {font: \"STIX-Web\"}});}\n",
       "        if (typeof require !== 'undefined') {\n",
       "        require.undef(\"plotly\");\n",
       "        requirejs.config({\n",
       "            paths: {\n",
       "                'plotly': ['https://cdn.plot.ly/plotly-latest.min']\n",
       "            }\n",
       "        });\n",
       "        require(['plotly'], function(Plotly) {\n",
       "            window._Plotly = Plotly;\n",
       "        });\n",
       "        }\n",
       "        </script>\n",
       "        "
      ]
     },
     "metadata": {},
     "output_type": "display_data"
    }
   ],
   "source": [
    "import os\n",
    "import sys\n",
    "import re\n",
    "\n",
    "import pandas as pd\n",
    "import numpy as np\n",
    "from scipy import stats\n",
    "import seaborn as sns\n",
    "from matplotlib import pyplot as plt\n",
    "from plotly.offline import init_notebook_mode, iplot\n",
    "import plotly.graph_objs as go\n",
    "import colorlover as cl\n",
    "from IPython.core.display import display, HTML\n",
    "\n",
    "sys.path.append('..')\n",
    "from services import loaders, charts, myplotly, utils\n",
    "\n",
    "init_notebook_mode(connected=True)"
   ]
  },
  {
   "cell_type": "markdown",
   "metadata": {},
   "source": [
    "Estilo propio para los dataframes:"
   ]
  },
  {
   "cell_type": "code",
   "execution_count": 4,
   "metadata": {},
   "outputs": [
    {
     "data": {
      "text/html": [
       "<style>/* title of columns */\n",
       "table.dataframe thead th {\n",
       "    font-size: 1.2em !important;\n",
       "    padding-top: 0.2em !important;\n",
       "    padding-bottom: 0.2em !important;\n",
       "}\n",
       "\n",
       "/* title of rows */\n",
       "table.dataframe tbody th {\n",
       "    font-size: 1.2em !important;\n",
       "    background: rgba(199, 199, 199, 0.356) !important;\n",
       "    border: 1px solid black !important;\n",
       "}\n",
       "\n",
       "/* style for each cell */\n",
       "table.dataframe td {\n",
       "    font-size: 1.15em !important;\n",
       "    border: 1px solid black !important;\n",
       "}\n",
       "\n",
       "/* disable zebra-style */\n",
       "table.dataframe tbody tr {\n",
       "    background: white !important;\n",
       "}\n",
       "\n",
       "/* row color on hover */\n",
       "table.dataframe tbody tr:hover {\n",
       "    background: rgba(43, 137, 226, 0.144) !important;\n",
       "}\n",
       "\n",
       "/* Settings for slides */\n",
       "\n",
       ".present table.dataframe thead th {\n",
       "    font-size: 1.5em !important;\n",
       "}\n",
       "\n",
       ".present table.dataframe tbody th {\n",
       "    font-size: 1.5em !important;\n",
       "}\n",
       "\n",
       ".present table.dataframe td {\n",
       "    font-size: 1.3em !important;\n",
       "}\n",
       "\n",
       ".present table.dataframe thead th {\n",
       "    border-bottom: none !important;\n",
       "    padding-top: 0.1em !important;\n",
       "    padding-bottom: 0.1em !important;\n",
       "}\n",
       "</style>"
      ],
      "text/plain": [
       "<IPython.core.display.HTML object>"
      ]
     },
     "execution_count": 4,
     "metadata": {},
     "output_type": "execute_result"
    }
   ],
   "source": [
    "with open('../custom.css') as f:\n",
    "    css_rules = ''.join(f.readlines())\n",
    "HTML('<style>' + css_rules + '</style>')"
   ]
  },
  {
   "cell_type": "markdown",
   "metadata": {},
   "source": [
    "Deshabilitar el *auto-scrolling* en todo el notebook:"
   ]
  },
  {
   "cell_type": "code",
   "execution_count": 5,
   "metadata": {},
   "outputs": [
    {
     "data": {
      "application/javascript": [
       "IPython.OutputArea.prototype._should_scroll = function(lines) {\n",
       "    return false;\n",
       "}\n"
      ],
      "text/plain": [
       "<IPython.core.display.Javascript object>"
      ]
     },
     "metadata": {},
     "output_type": "display_data"
    }
   ],
   "source": [
    "%%javascript\n",
    "IPython.OutputArea.prototype._should_scroll = function(lines) {\n",
    "    return false;\n",
    "}"
   ]
  },
  {
   "cell_type": "markdown",
   "metadata": {},
   "source": [
    "## CARGA DE DATOS"
   ]
  },
  {
   "cell_type": "code",
   "execution_count": 6,
   "metadata": {},
   "outputs": [],
   "source": [
    "df, df_bc, labels = loaders.load_data(YEAR, EVALUATION)"
   ]
  },
  {
   "cell_type": "code",
   "execution_count": 7,
   "metadata": {},
   "outputs": [
    {
     "data": {
      "text/html": [
       "<div>\n",
       "<style scoped>\n",
       "    .dataframe tbody tr th:only-of-type {\n",
       "        vertical-align: middle;\n",
       "    }\n",
       "\n",
       "    .dataframe tbody tr th {\n",
       "        vertical-align: top;\n",
       "    }\n",
       "\n",
       "    .dataframe thead th {\n",
       "        text-align: right;\n",
       "    }\n",
       "</style>\n",
       "<table border=\"1\" class=\"dataframe\">\n",
       "  <thead>\n",
       "    <tr style=\"text-align: right;\">\n",
       "      <th></th>\n",
       "      <th></th>\n",
       "      <th></th>\n",
       "      <th>etapa</th>\n",
       "      <th>éxito</th>\n",
       "      <th>absentismo_justificado</th>\n",
       "      <th>absentismo_injustificado</th>\n",
       "      <th>partes</th>\n",
       "      <th>suspensión_asistencia</th>\n",
       "      <th>ratio</th>\n",
       "      <th>absentismo</th>\n",
       "      <th>éxito_abs</th>\n",
       "      <th>ccbb</th>\n",
       "    </tr>\n",
       "    <tr>\n",
       "      <th>curso</th>\n",
       "      <th>evaluación</th>\n",
       "      <th>grupo</th>\n",
       "      <th></th>\n",
       "      <th></th>\n",
       "      <th></th>\n",
       "      <th></th>\n",
       "      <th></th>\n",
       "      <th></th>\n",
       "      <th></th>\n",
       "      <th></th>\n",
       "      <th></th>\n",
       "      <th></th>\n",
       "    </tr>\n",
       "  </thead>\n",
       "  <tbody>\n",
       "    <tr>\n",
       "      <th rowspan=\"5\" valign=\"top\">C1718</th>\n",
       "      <th rowspan=\"5\" valign=\"top\">E1</th>\n",
       "      <th>ESO1A</th>\n",
       "      <td>ESO</td>\n",
       "      <td>32.0</td>\n",
       "      <td>3.49</td>\n",
       "      <td>5.48</td>\n",
       "      <td>2.0</td>\n",
       "      <td>0.0</td>\n",
       "      <td>25</td>\n",
       "      <td>8.97</td>\n",
       "      <td>8.0</td>\n",
       "      <td>4.685714</td>\n",
       "    </tr>\n",
       "    <tr>\n",
       "      <th>ESO1B</th>\n",
       "      <td>ESO</td>\n",
       "      <td>43.5</td>\n",
       "      <td>2.41</td>\n",
       "      <td>3.77</td>\n",
       "      <td>0.0</td>\n",
       "      <td>0.0</td>\n",
       "      <td>22</td>\n",
       "      <td>6.18</td>\n",
       "      <td>10.0</td>\n",
       "      <td>4.746429</td>\n",
       "    </tr>\n",
       "    <tr>\n",
       "      <th>ESO1C</th>\n",
       "      <td>ESO</td>\n",
       "      <td>44.0</td>\n",
       "      <td>0.72</td>\n",
       "      <td>4.22</td>\n",
       "      <td>3.0</td>\n",
       "      <td>0.0</td>\n",
       "      <td>25</td>\n",
       "      <td>4.94</td>\n",
       "      <td>11.0</td>\n",
       "      <td>5.242857</td>\n",
       "    </tr>\n",
       "    <tr>\n",
       "      <th>ESO1D</th>\n",
       "      <td>ESO</td>\n",
       "      <td>46.2</td>\n",
       "      <td>0.54</td>\n",
       "      <td>2.58</td>\n",
       "      <td>3.0</td>\n",
       "      <td>0.0</td>\n",
       "      <td>27</td>\n",
       "      <td>3.12</td>\n",
       "      <td>12.0</td>\n",
       "      <td>4.775000</td>\n",
       "    </tr>\n",
       "    <tr>\n",
       "      <th>ESO2A</th>\n",
       "      <td>ESO</td>\n",
       "      <td>24.1</td>\n",
       "      <td>1.54</td>\n",
       "      <td>4.52</td>\n",
       "      <td>10.0</td>\n",
       "      <td>3.0</td>\n",
       "      <td>29</td>\n",
       "      <td>6.06</td>\n",
       "      <td>7.0</td>\n",
       "      <td>4.614286</td>\n",
       "    </tr>\n",
       "  </tbody>\n",
       "</table>\n",
       "</div>"
      ],
      "text/plain": [
       "                       etapa  éxito  absentismo_justificado  \\\n",
       "curso evaluación grupo                                        \n",
       "C1718 E1         ESO1A   ESO   32.0                    3.49   \n",
       "                 ESO1B   ESO   43.5                    2.41   \n",
       "                 ESO1C   ESO   44.0                    0.72   \n",
       "                 ESO1D   ESO   46.2                    0.54   \n",
       "                 ESO2A   ESO   24.1                    1.54   \n",
       "\n",
       "                        absentismo_injustificado  partes  \\\n",
       "curso evaluación grupo                                     \n",
       "C1718 E1         ESO1A                      5.48     2.0   \n",
       "                 ESO1B                      3.77     0.0   \n",
       "                 ESO1C                      4.22     3.0   \n",
       "                 ESO1D                      2.58     3.0   \n",
       "                 ESO2A                      4.52    10.0   \n",
       "\n",
       "                        suspensión_asistencia  ratio  absentismo  éxito_abs  \\\n",
       "curso evaluación grupo                                                        \n",
       "C1718 E1         ESO1A                    0.0     25        8.97        8.0   \n",
       "                 ESO1B                    0.0     22        6.18       10.0   \n",
       "                 ESO1C                    0.0     25        4.94       11.0   \n",
       "                 ESO1D                    0.0     27        3.12       12.0   \n",
       "                 ESO2A                    3.0     29        6.06        7.0   \n",
       "\n",
       "                            ccbb  \n",
       "curso evaluación grupo            \n",
       "C1718 E1         ESO1A  4.685714  \n",
       "                 ESO1B  4.746429  \n",
       "                 ESO1C  5.242857  \n",
       "                 ESO1D  4.775000  \n",
       "                 ESO2A  4.614286  "
      ]
     },
     "execution_count": 7,
     "metadata": {},
     "output_type": "execute_result"
    }
   ],
   "source": [
    "df.head()"
   ]
  },
  {
   "cell_type": "code",
   "execution_count": 8,
   "metadata": {},
   "outputs": [
    {
     "data": {
      "text/html": [
       "<div>\n",
       "<style scoped>\n",
       "    .dataframe tbody tr th:only-of-type {\n",
       "        vertical-align: middle;\n",
       "    }\n",
       "\n",
       "    .dataframe tbody tr th {\n",
       "        vertical-align: top;\n",
       "    }\n",
       "\n",
       "    .dataframe thead th {\n",
       "        text-align: right;\n",
       "    }\n",
       "</style>\n",
       "<table border=\"1\" class=\"dataframe\">\n",
       "  <thead>\n",
       "    <tr style=\"text-align: right;\">\n",
       "      <th></th>\n",
       "      <th></th>\n",
       "      <th></th>\n",
       "      <th>nivel</th>\n",
       "      <th>item</th>\n",
       "      <th>PA</th>\n",
       "      <th>AD</th>\n",
       "      <th>MA</th>\n",
       "      <th>EX</th>\n",
       "      <th>marca</th>\n",
       "    </tr>\n",
       "    <tr>\n",
       "      <th>curso</th>\n",
       "      <th>evaluación</th>\n",
       "      <th>grupo</th>\n",
       "      <th></th>\n",
       "      <th></th>\n",
       "      <th></th>\n",
       "      <th></th>\n",
       "      <th></th>\n",
       "      <th></th>\n",
       "      <th></th>\n",
       "    </tr>\n",
       "  </thead>\n",
       "  <tbody>\n",
       "    <tr>\n",
       "      <th rowspan=\"5\" valign=\"top\">C1718</th>\n",
       "      <th rowspan=\"5\" valign=\"top\">E1</th>\n",
       "      <th>ESO1A</th>\n",
       "      <td>1ESO</td>\n",
       "      <td>CL</td>\n",
       "      <td>36</td>\n",
       "      <td>56</td>\n",
       "      <td>8</td>\n",
       "      <td>0</td>\n",
       "      <td>4.3</td>\n",
       "    </tr>\n",
       "    <tr>\n",
       "      <th>ESO1A</th>\n",
       "      <td>1ESO</td>\n",
       "      <td>CMCT</td>\n",
       "      <td>24</td>\n",
       "      <td>56</td>\n",
       "      <td>20</td>\n",
       "      <td>0</td>\n",
       "      <td>4.9</td>\n",
       "    </tr>\n",
       "    <tr>\n",
       "      <th>ESO1A</th>\n",
       "      <td>1ESO</td>\n",
       "      <td>CD</td>\n",
       "      <td>8</td>\n",
       "      <td>80</td>\n",
       "      <td>12</td>\n",
       "      <td>0</td>\n",
       "      <td>5.1</td>\n",
       "    </tr>\n",
       "    <tr>\n",
       "      <th>ESO1A</th>\n",
       "      <td>1ESO</td>\n",
       "      <td>AAP</td>\n",
       "      <td>28</td>\n",
       "      <td>64</td>\n",
       "      <td>8</td>\n",
       "      <td>0</td>\n",
       "      <td>4.5</td>\n",
       "    </tr>\n",
       "    <tr>\n",
       "      <th>ESO1A</th>\n",
       "      <td>1ESO</td>\n",
       "      <td>CSC</td>\n",
       "      <td>16</td>\n",
       "      <td>76</td>\n",
       "      <td>8</td>\n",
       "      <td>0</td>\n",
       "      <td>4.8</td>\n",
       "    </tr>\n",
       "  </tbody>\n",
       "</table>\n",
       "</div>"
      ],
      "text/plain": [
       "                       nivel  item  PA  AD  MA  EX  marca\n",
       "curso evaluación grupo                                   \n",
       "C1718 E1         ESO1A  1ESO    CL  36  56   8   0    4.3\n",
       "                 ESO1A  1ESO  CMCT  24  56  20   0    4.9\n",
       "                 ESO1A  1ESO    CD   8  80  12   0    5.1\n",
       "                 ESO1A  1ESO   AAP  28  64   8   0    4.5\n",
       "                 ESO1A  1ESO   CSC  16  76   8   0    4.8"
      ]
     },
     "execution_count": 8,
     "metadata": {},
     "output_type": "execute_result"
    }
   ],
   "source": [
    "df_bc.head()"
   ]
  },
  {
   "cell_type": "code",
   "execution_count": 9,
   "metadata": {
    "scrolled": false
   },
   "outputs": [],
   "source": [
    "# dataframe for current year and evaluation\n",
    "dfc = df.loc[labels[-1]]\n",
    "dfc_bc = df_bc.loc[labels[-1]]"
   ]
  },
  {
   "cell_type": "code",
   "execution_count": 10,
   "metadata": {
    "scrolled": false
   },
   "outputs": [],
   "source": [
    "# dataframe for comparisons with last evaluation\n",
    "df_comp = dfc.merge(df.loc[labels[-2]], left_index=True, right_index=True)\n",
    "\n",
    "df_bc_last_eval_new_index = df_bc.loc[labels[-2]].reset_index().set_index(['grupo', 'item'])\n",
    "dfc_bc_new_index = dfc_bc.reset_index().set_index(['grupo', 'item'])\n",
    "df_bc_comp = dfc_bc_new_index.merge(df_bc_last_eval_new_index, left_index=True, right_index=True)\n",
    "df_bc_comp = df_bc_comp.reset_index().set_index(['grupo'])"
   ]
  },
  {
   "cell_type": "code",
   "execution_count": 11,
   "metadata": {},
   "outputs": [],
   "source": [
    "# recurrent variables\n",
    "stages = df['etapa'].unique()\n",
    "years = df.index.levels[0]"
   ]
  },
  {
   "cell_type": "markdown",
   "metadata": {},
   "source": [
    "# ÉXITO ESCOLAR"
   ]
  },
  {
   "cell_type": "markdown",
   "metadata": {},
   "source": [
    "<div class=\"alert alert-success\" role=\"alert\">\n",
    "    ÉXITO ESCOLAR = <b>0 suspensos</b>\n",
    "</div>"
   ]
  },
  {
   "cell_type": "markdown",
   "metadata": {},
   "source": [
    "## ÉXITO EN VALORES ABSOLUTOS"
   ]
  },
  {
   "cell_type": "code",
   "execution_count": 12,
   "metadata": {
    "scrolled": true
   },
   "outputs": [
    {
     "data": {
      "application/vnd.plotly.v1+json": {
       "config": {
        "linkText": "Export to plot.ly",
        "plotlyServerURL": "https://plot.ly",
        "responsive": true,
        "showLink": false
       },
       "data": [
        {
         "marker": {
          "color": "rgb(166,206,227)"
         },
         "name": "Ratio",
         "orientation": "h",
         "type": "bar",
         "uid": "58be5457-a21f-4739-a57c-6b0e4b0cd2f0",
         "x": [
          25,
          26,
          28,
          27,
          24,
          16,
          8,
          26,
          26,
          28,
          12,
          21,
          25,
          25,
          15,
          7,
          17,
          25,
          19,
          24,
          17,
          17,
          20,
          9,
          13,
          11,
          14,
          29,
          28,
          29,
          29,
          15,
          23,
          23,
          19,
          13
         ],
         "y": [
          "ESO1A",
          "ESO1B",
          "ESO1C",
          "ESO1D",
          "ESO2A",
          "ESO2B",
          "ESO2C",
          "ESO3A",
          "ESO3B",
          "ESO3C",
          "ESO3D",
          "ESO4A",
          "ESO4B",
          "ESO4C",
          "1FPB",
          "2FPB",
          "1CIE",
          "1SOC",
          "2CIE",
          "2SOC",
          "1TEL",
          "1ELE",
          "1CAR",
          "2TEL",
          "2ELE",
          "2CAR",
          "1ARI",
          "1ALO",
          "1GIT",
          "1ASR",
          "1DAW",
          "2ARI",
          "2ALO",
          "2GIT",
          "2ASR",
          "2DAW"
         ]
        },
        {
         "marker": {
          "color": "rgb(31,120,180)"
         },
         "name": "Éxito",
         "orientation": "h",
         "type": "bar",
         "uid": "ffc31234-5f96-4090-a749-d9c20455f8a5",
         "x": [
          8,
          6,
          7,
          11,
          12,
          4,
          1,
          4,
          7,
          8,
          2,
          10,
          10,
          3,
          5,
          2,
          9,
          6,
          9,
          6,
          4,
          4,
          5,
          8,
          4,
          3,
          10,
          18,
          20,
          12,
          10,
          7,
          22,
          18,
          16,
          5
         ],
         "y": [
          "ESO1A",
          "ESO1B",
          "ESO1C",
          "ESO1D",
          "ESO2A",
          "ESO2B",
          "ESO2C",
          "ESO3A",
          "ESO3B",
          "ESO3C",
          "ESO3D",
          "ESO4A",
          "ESO4B",
          "ESO4C",
          "1FPB",
          "2FPB",
          "1CIE",
          "1SOC",
          "2CIE",
          "2SOC",
          "1TEL",
          "1ELE",
          "1CAR",
          "2TEL",
          "2ELE",
          "2CAR",
          "1ARI",
          "1ALO",
          "1GIT",
          "1ASR",
          "1DAW",
          "2ARI",
          "2ALO",
          "2GIT",
          "2ASR",
          "2DAW"
         ]
        }
       ],
       "layout": {
        "barmode": "overlay",
        "height": 1000,
        "title": {
         "text": ""
        },
        "width": 700,
        "yaxis": {
         "autorange": "reversed",
         "type": "category"
        }
       }
      },
      "text/html": [
       "<div>\n",
       "        \n",
       "        \n",
       "            <div id=\"60bd206a-4354-46b3-984e-b5e62e1acdb1\" class=\"plotly-graph-div\" style=\"height:1000px; width:700px;\"></div>\n",
       "            <script type=\"text/javascript\">\n",
       "                require([\"plotly\"], function(Plotly) {\n",
       "                    window.PLOTLYENV=window.PLOTLYENV || {};\n",
       "                    window.PLOTLYENV.BASE_URL='https://plot.ly';\n",
       "                    \n",
       "                if (document.getElementById(\"60bd206a-4354-46b3-984e-b5e62e1acdb1\")) {\n",
       "                    Plotly.newPlot(\n",
       "                        '60bd206a-4354-46b3-984e-b5e62e1acdb1',\n",
       "                        [{\"marker\": {\"color\": \"rgb(166,206,227)\"}, \"name\": \"Ratio\", \"orientation\": \"h\", \"type\": \"bar\", \"uid\": \"c4b8ebd6-8fbe-4b6b-b48b-d5379ca9bcf6\", \"x\": [25, 26, 28, 27, 24, 16, 8, 26, 26, 28, 12, 21, 25, 25, 15, 7, 17, 25, 19, 24, 17, 17, 20, 9, 13, 11, 14, 29, 28, 29, 29, 15, 23, 23, 19, 13], \"y\": [\"ESO1A\", \"ESO1B\", \"ESO1C\", \"ESO1D\", \"ESO2A\", \"ESO2B\", \"ESO2C\", \"ESO3A\", \"ESO3B\", \"ESO3C\", \"ESO3D\", \"ESO4A\", \"ESO4B\", \"ESO4C\", \"1FPB\", \"2FPB\", \"1CIE\", \"1SOC\", \"2CIE\", \"2SOC\", \"1TEL\", \"1ELE\", \"1CAR\", \"2TEL\", \"2ELE\", \"2CAR\", \"1ARI\", \"1ALO\", \"1GIT\", \"1ASR\", \"1DAW\", \"2ARI\", \"2ALO\", \"2GIT\", \"2ASR\", \"2DAW\"]}, {\"marker\": {\"color\": \"rgb(31,120,180)\"}, \"name\": \"\\u00c9xito\", \"orientation\": \"h\", \"type\": \"bar\", \"uid\": \"2fdd0c46-5f43-4623-8939-32b157d2ddaa\", \"x\": [8.0, 6.0, 7.0, 11.0, 12.0, 4.0, 1.0, 4.0, 7.0, 8.0, 2.0, 10.0, 10.0, 3.0, 5.0, 2.0, 9.0, 6.0, 9.0, 6.0, 4.0, 4.0, 5.0, 8.0, 4.0, 3.0, 10.0, 18.0, 20.0, 12.0, 10.0, 7.0, 22.0, 18.0, 16.0, 5.0], \"y\": [\"ESO1A\", \"ESO1B\", \"ESO1C\", \"ESO1D\", \"ESO2A\", \"ESO2B\", \"ESO2C\", \"ESO3A\", \"ESO3B\", \"ESO3C\", \"ESO3D\", \"ESO4A\", \"ESO4B\", \"ESO4C\", \"1FPB\", \"2FPB\", \"1CIE\", \"1SOC\", \"2CIE\", \"2SOC\", \"1TEL\", \"1ELE\", \"1CAR\", \"2TEL\", \"2ELE\", \"2CAR\", \"1ARI\", \"1ALO\", \"1GIT\", \"1ASR\", \"1DAW\", \"2ARI\", \"2ALO\", \"2GIT\", \"2ASR\", \"2DAW\"]}],\n",
       "                        {\"barmode\": \"overlay\", \"height\": 1000, \"title\": {\"text\": \"\"}, \"width\": 700, \"yaxis\": {\"autorange\": \"reversed\", \"type\": \"category\"}},\n",
       "                        {\"showLink\": false, \"linkText\": \"Export to plot.ly\", \"plotlyServerURL\": \"https://plot.ly\", \"responsive\": true}\n",
       "                    ).then(function(){\n",
       "                            \n",
       "var gd = document.getElementById('60bd206a-4354-46b3-984e-b5e62e1acdb1');\n",
       "var x = new MutationObserver(function (mutations, observer) {{\n",
       "        var display = window.getComputedStyle(gd).display;\n",
       "        if (!display || display === 'none') {{\n",
       "            console.log([gd, 'removed!']);\n",
       "            Plotly.purge(gd);\n",
       "            observer.disconnect();\n",
       "        }}\n",
       "}});\n",
       "\n",
       "// Listen for the removal of the full notebook cells\n",
       "var notebookContainer = gd.closest('#notebook-container');\n",
       "if (notebookContainer) {{\n",
       "    x.observe(notebookContainer, {childList: true});\n",
       "}}\n",
       "\n",
       "// Listen for the clearing of the current output cell\n",
       "var outputEl = gd.closest('.output');\n",
       "if (outputEl) {{\n",
       "    x.observe(outputEl, {childList: true});\n",
       "}}\n",
       "\n",
       "                        })\n",
       "                };\n",
       "                });\n",
       "            </script>\n",
       "        </div>"
      ]
     },
     "metadata": {},
     "output_type": "display_data"
    }
   ],
   "source": [
    "myplotly.hbar((dfc['ratio'], dfc['éxito_abs']), dfc.index, trace_names=('Ratio', 'Éxito'))"
   ]
  },
  {
   "cell_type": "markdown",
   "metadata": {},
   "source": [
    "## ESO"
   ]
  },
  {
   "cell_type": "code",
   "execution_count": 13,
   "metadata": {
    "scrolled": false
   },
   "outputs": [
    {
     "data": {
      "application/vnd.plotly.v1+json": {
       "config": {
        "linkText": "Export to plot.ly",
        "plotlyServerURL": "https://plot.ly",
        "responsive": true,
        "showLink": false
       },
       "data": [
        {
         "hoverinfo": "x+text",
         "marker": {
          "color": [
           32,
           23.1,
           25,
           40.7,
           50,
           25,
           12.5,
           15.4,
           26.9,
           28.6,
           16.7,
           47.6,
           40,
           12
          ],
          "colorscale": [
           [
            0,
            "rgb(186,228,179)"
           ],
           [
            0.3333333333333333,
            "rgb(116,196,118)"
           ],
           [
            0.6666666666666666,
            "rgb(49,163,84)"
           ],
           [
            1,
            "rgb(0,109,44)"
           ]
          ]
         },
         "text": [
          "32.00%",
          "23.10%",
          "25.00%",
          "40.70%",
          "50.00%",
          "25.00%",
          "12.50%",
          "15.40%",
          "26.90%",
          "28.60%",
          "16.70%",
          "47.60%",
          "40.00%",
          "12.00%"
         ],
         "type": "bar",
         "uid": "aa68600f-0663-436f-b670-d82bd5d500ad",
         "x": [
          "ESO1A",
          "ESO1B",
          "ESO1C",
          "ESO1D",
          "ESO2A",
          "ESO2B",
          "ESO2C",
          "ESO3A",
          "ESO3B",
          "ESO3C",
          "ESO3D",
          "ESO4A",
          "ESO4B",
          "ESO4C"
         ],
         "y": [
          32,
          23.1,
          25,
          40.7,
          50,
          25,
          12.5,
          15.4,
          26.9,
          28.6,
          16.7,
          47.6,
          40,
          12
         ]
        }
       ],
       "layout": {
        "title": {
         "text": ""
        }
       }
      },
      "text/html": [
       "<div>\n",
       "        \n",
       "        \n",
       "            <div id=\"3d1201b2-1051-4b34-a7a5-307e1b448b64\" class=\"plotly-graph-div\" style=\"height:525px; width:100%;\"></div>\n",
       "            <script type=\"text/javascript\">\n",
       "                require([\"plotly\"], function(Plotly) {\n",
       "                    window.PLOTLYENV=window.PLOTLYENV || {};\n",
       "                    window.PLOTLYENV.BASE_URL='https://plot.ly';\n",
       "                    \n",
       "                if (document.getElementById(\"3d1201b2-1051-4b34-a7a5-307e1b448b64\")) {\n",
       "                    Plotly.newPlot(\n",
       "                        '3d1201b2-1051-4b34-a7a5-307e1b448b64',\n",
       "                        [{\"hoverinfo\": \"x+text\", \"marker\": {\"color\": [32.0, 23.1, 25.0, 40.7, 50.0, 25.0, 12.5, 15.4, 26.9, 28.6, 16.7, 47.6, 40.0, 12.0], \"colorscale\": [[0.0, \"rgb(186,228,179)\"], [0.3333333333333333, \"rgb(116,196,118)\"], [0.6666666666666666, \"rgb(49,163,84)\"], [1.0, \"rgb(0,109,44)\"]]}, \"text\": [\"32.00%\", \"23.10%\", \"25.00%\", \"40.70%\", \"50.00%\", \"25.00%\", \"12.50%\", \"15.40%\", \"26.90%\", \"28.60%\", \"16.70%\", \"47.60%\", \"40.00%\", \"12.00%\"], \"type\": \"bar\", \"uid\": \"abf51b79-f8e3-4620-a122-f0142d1d6177\", \"x\": [\"ESO1A\", \"ESO1B\", \"ESO1C\", \"ESO1D\", \"ESO2A\", \"ESO2B\", \"ESO2C\", \"ESO3A\", \"ESO3B\", \"ESO3C\", \"ESO3D\", \"ESO4A\", \"ESO4B\", \"ESO4C\"], \"y\": [32.0, 23.1, 25.0, 40.7, 50.0, 25.0, 12.5, 15.4, 26.9, 28.6, 16.7, 47.6, 40.0, 12.0]}],\n",
       "                        {\"title\": {\"text\": \"\"}},\n",
       "                        {\"showLink\": false, \"linkText\": \"Export to plot.ly\", \"plotlyServerURL\": \"https://plot.ly\", \"responsive\": true}\n",
       "                    ).then(function(){\n",
       "                            \n",
       "var gd = document.getElementById('3d1201b2-1051-4b34-a7a5-307e1b448b64');\n",
       "var x = new MutationObserver(function (mutations, observer) {{\n",
       "        var display = window.getComputedStyle(gd).display;\n",
       "        if (!display || display === 'none') {{\n",
       "            console.log([gd, 'removed!']);\n",
       "            Plotly.purge(gd);\n",
       "            observer.disconnect();\n",
       "        }}\n",
       "}});\n",
       "\n",
       "// Listen for the removal of the full notebook cells\n",
       "var notebookContainer = gd.closest('#notebook-container');\n",
       "if (notebookContainer) {{\n",
       "    x.observe(notebookContainer, {childList: true});\n",
       "}}\n",
       "\n",
       "// Listen for the clearing of the current output cell\n",
       "var outputEl = gd.closest('.output');\n",
       "if (outputEl) {{\n",
       "    x.observe(outputEl, {childList: true});\n",
       "}}\n",
       "\n",
       "                        })\n",
       "                };\n",
       "                });\n",
       "            </script>\n",
       "        </div>"
      ]
     },
     "metadata": {},
     "output_type": "display_data"
    }
   ],
   "source": [
    "dfc_ESO = loaders.get_data_by_stages(dfc, 'ESO')\n",
    "myplotly.bar_simple(dfc_ESO.index, dfc_ESO['éxito'])"
   ]
  },
  {
   "cell_type": "code",
   "execution_count": 14,
   "metadata": {
    "scrolled": true
   },
   "outputs": [
    {
     "data": {
      "text/plain": [
       "éxito                       28.250000\n",
       "absentismo_justificado       1.810000\n",
       "absentismo_injustificado     3.943571\n",
       "partes                       1.714286\n",
       "suspensión_asistencia        0.285714\n",
       "ratio                       22.642857\n",
       "absentismo                   5.753571\n",
       "éxito_abs                    6.642857\n",
       "ccbb                         4.451786\n",
       "dtype: float64"
      ]
     },
     "execution_count": 14,
     "metadata": {},
     "output_type": "execute_result"
    }
   ],
   "source": [
    "dfc_ESO.mean()"
   ]
  },
  {
   "cell_type": "markdown",
   "metadata": {},
   "source": [
    "## FPB"
   ]
  },
  {
   "cell_type": "code",
   "execution_count": 15,
   "metadata": {},
   "outputs": [
    {
     "data": {
      "application/vnd.plotly.v1+json": {
       "config": {
        "linkText": "Export to plot.ly",
        "plotlyServerURL": "https://plot.ly",
        "responsive": true,
        "showLink": false
       },
       "data": [
        {
         "hoverinfo": "x+text",
         "marker": {
          "color": [
           33.3,
           28.6
          ],
          "colorscale": [
           [
            0,
            "rgb(186,228,179)"
           ],
           [
            0.3333333333333333,
            "rgb(116,196,118)"
           ],
           [
            0.6666666666666666,
            "rgb(49,163,84)"
           ],
           [
            1,
            "rgb(0,109,44)"
           ]
          ]
         },
         "text": [
          "33.30%",
          "28.60%"
         ],
         "type": "bar",
         "uid": "98dbdded-d47a-4110-bb02-eeb74c77ff99",
         "x": [
          "1FPB",
          "2FPB"
         ],
         "y": [
          33.3,
          28.6
         ]
        }
       ],
       "layout": {
        "title": {
         "text": ""
        }
       }
      },
      "text/html": [
       "<div>\n",
       "        \n",
       "        \n",
       "            <div id=\"d2feb997-81e3-46fa-9092-ec1febb170a4\" class=\"plotly-graph-div\" style=\"height:525px; width:100%;\"></div>\n",
       "            <script type=\"text/javascript\">\n",
       "                require([\"plotly\"], function(Plotly) {\n",
       "                    window.PLOTLYENV=window.PLOTLYENV || {};\n",
       "                    window.PLOTLYENV.BASE_URL='https://plot.ly';\n",
       "                    \n",
       "                if (document.getElementById(\"d2feb997-81e3-46fa-9092-ec1febb170a4\")) {\n",
       "                    Plotly.newPlot(\n",
       "                        'd2feb997-81e3-46fa-9092-ec1febb170a4',\n",
       "                        [{\"hoverinfo\": \"x+text\", \"marker\": {\"color\": [33.3, 28.6], \"colorscale\": [[0.0, \"rgb(186,228,179)\"], [0.3333333333333333, \"rgb(116,196,118)\"], [0.6666666666666666, \"rgb(49,163,84)\"], [1.0, \"rgb(0,109,44)\"]]}, \"text\": [\"33.30%\", \"28.60%\"], \"type\": \"bar\", \"uid\": \"bc0a195a-22ca-4643-9900-fa625fb8aeba\", \"x\": [\"1FPB\", \"2FPB\"], \"y\": [33.3, 28.6]}],\n",
       "                        {\"title\": {\"text\": \"\"}},\n",
       "                        {\"showLink\": false, \"linkText\": \"Export to plot.ly\", \"plotlyServerURL\": \"https://plot.ly\", \"responsive\": true}\n",
       "                    ).then(function(){\n",
       "                            \n",
       "var gd = document.getElementById('d2feb997-81e3-46fa-9092-ec1febb170a4');\n",
       "var x = new MutationObserver(function (mutations, observer) {{\n",
       "        var display = window.getComputedStyle(gd).display;\n",
       "        if (!display || display === 'none') {{\n",
       "            console.log([gd, 'removed!']);\n",
       "            Plotly.purge(gd);\n",
       "            observer.disconnect();\n",
       "        }}\n",
       "}});\n",
       "\n",
       "// Listen for the removal of the full notebook cells\n",
       "var notebookContainer = gd.closest('#notebook-container');\n",
       "if (notebookContainer) {{\n",
       "    x.observe(notebookContainer, {childList: true});\n",
       "}}\n",
       "\n",
       "// Listen for the clearing of the current output cell\n",
       "var outputEl = gd.closest('.output');\n",
       "if (outputEl) {{\n",
       "    x.observe(outputEl, {childList: true});\n",
       "}}\n",
       "\n",
       "                        })\n",
       "                };\n",
       "                });\n",
       "            </script>\n",
       "        </div>"
      ]
     },
     "metadata": {},
     "output_type": "display_data"
    }
   ],
   "source": [
    "dfc_FPB = loaders.get_data_by_stages(dfc, 'FPB')\n",
    "myplotly.bar_simple(dfc_FPB.index, dfc_FPB['éxito'])"
   ]
  },
  {
   "cell_type": "code",
   "execution_count": 16,
   "metadata": {},
   "outputs": [
    {
     "data": {
      "text/plain": [
       "éxito                       30.950\n",
       "absentismo_justificado       7.250\n",
       "absentismo_injustificado    17.755\n",
       "partes                       8.000\n",
       "suspensión_asistencia        3.000\n",
       "ratio                       11.000\n",
       "absentismo                  25.005\n",
       "éxito_abs                    3.500\n",
       "ccbb                           NaN\n",
       "dtype: float64"
      ]
     },
     "execution_count": 16,
     "metadata": {},
     "output_type": "execute_result"
    }
   ],
   "source": [
    "dfc_FPB.mean()"
   ]
  },
  {
   "cell_type": "markdown",
   "metadata": {},
   "source": [
    "## BACHILLERATO"
   ]
  },
  {
   "cell_type": "code",
   "execution_count": 17,
   "metadata": {
    "scrolled": true
   },
   "outputs": [
    {
     "data": {
      "application/vnd.plotly.v1+json": {
       "config": {
        "linkText": "Export to plot.ly",
        "plotlyServerURL": "https://plot.ly",
        "responsive": true,
        "showLink": false
       },
       "data": [
        {
         "hoverinfo": "x+text",
         "marker": {
          "color": [
           52.9,
           24,
           47.4,
           25
          ],
          "colorscale": [
           [
            0,
            "rgb(186,228,179)"
           ],
           [
            0.3333333333333333,
            "rgb(116,196,118)"
           ],
           [
            0.6666666666666666,
            "rgb(49,163,84)"
           ],
           [
            1,
            "rgb(0,109,44)"
           ]
          ]
         },
         "text": [
          "52.90%",
          "24.00%",
          "47.40%",
          "25.00%"
         ],
         "type": "bar",
         "uid": "5a669a13-d6d8-4877-a77f-0bffc5d4747c",
         "x": [
          "1CIE",
          "1SOC",
          "2CIE",
          "2SOC"
         ],
         "y": [
          52.9,
          24,
          47.4,
          25
         ]
        }
       ],
       "layout": {
        "title": {
         "text": ""
        }
       }
      },
      "text/html": [
       "<div>\n",
       "        \n",
       "        \n",
       "            <div id=\"67838ceb-fff2-4f85-a1be-600d15078039\" class=\"plotly-graph-div\" style=\"height:525px; width:100%;\"></div>\n",
       "            <script type=\"text/javascript\">\n",
       "                require([\"plotly\"], function(Plotly) {\n",
       "                    window.PLOTLYENV=window.PLOTLYENV || {};\n",
       "                    window.PLOTLYENV.BASE_URL='https://plot.ly';\n",
       "                    \n",
       "                if (document.getElementById(\"67838ceb-fff2-4f85-a1be-600d15078039\")) {\n",
       "                    Plotly.newPlot(\n",
       "                        '67838ceb-fff2-4f85-a1be-600d15078039',\n",
       "                        [{\"hoverinfo\": \"x+text\", \"marker\": {\"color\": [52.9, 24.0, 47.4, 25.0], \"colorscale\": [[0.0, \"rgb(186,228,179)\"], [0.3333333333333333, \"rgb(116,196,118)\"], [0.6666666666666666, \"rgb(49,163,84)\"], [1.0, \"rgb(0,109,44)\"]]}, \"text\": [\"52.90%\", \"24.00%\", \"47.40%\", \"25.00%\"], \"type\": \"bar\", \"uid\": \"ca309452-e0b7-49d2-9532-7b0c09183f1f\", \"x\": [\"1CIE\", \"1SOC\", \"2CIE\", \"2SOC\"], \"y\": [52.9, 24.0, 47.4, 25.0]}],\n",
       "                        {\"title\": {\"text\": \"\"}},\n",
       "                        {\"showLink\": false, \"linkText\": \"Export to plot.ly\", \"plotlyServerURL\": \"https://plot.ly\", \"responsive\": true}\n",
       "                    ).then(function(){\n",
       "                            \n",
       "var gd = document.getElementById('67838ceb-fff2-4f85-a1be-600d15078039');\n",
       "var x = new MutationObserver(function (mutations, observer) {{\n",
       "        var display = window.getComputedStyle(gd).display;\n",
       "        if (!display || display === 'none') {{\n",
       "            console.log([gd, 'removed!']);\n",
       "            Plotly.purge(gd);\n",
       "            observer.disconnect();\n",
       "        }}\n",
       "}});\n",
       "\n",
       "// Listen for the removal of the full notebook cells\n",
       "var notebookContainer = gd.closest('#notebook-container');\n",
       "if (notebookContainer) {{\n",
       "    x.observe(notebookContainer, {childList: true});\n",
       "}}\n",
       "\n",
       "// Listen for the clearing of the current output cell\n",
       "var outputEl = gd.closest('.output');\n",
       "if (outputEl) {{\n",
       "    x.observe(outputEl, {childList: true});\n",
       "}}\n",
       "\n",
       "                        })\n",
       "                };\n",
       "                });\n",
       "            </script>\n",
       "        </div>"
      ]
     },
     "metadata": {},
     "output_type": "display_data"
    }
   ],
   "source": [
    "dfc_BACH = loaders.get_data_by_stages(dfc, 'BACH')\n",
    "myplotly.bar_simple(dfc_BACH.index, dfc_BACH['éxito'])"
   ]
  },
  {
   "cell_type": "code",
   "execution_count": 18,
   "metadata": {
    "scrolled": false
   },
   "outputs": [
    {
     "data": {
      "text/plain": [
       "éxito                       37.3250\n",
       "absentismo_justificado       2.0500\n",
       "absentismo_injustificado     4.0975\n",
       "partes                       1.7500\n",
       "suspensión_asistencia        0.2500\n",
       "ratio                       21.2500\n",
       "absentismo                   6.1475\n",
       "éxito_abs                    7.5000\n",
       "ccbb                            NaN\n",
       "dtype: float64"
      ]
     },
     "execution_count": 18,
     "metadata": {},
     "output_type": "execute_result"
    }
   ],
   "source": [
    "dfc_BACH.mean()"
   ]
  },
  {
   "cell_type": "markdown",
   "metadata": {},
   "source": [
    "## CICLOS FORMATIVOS DE GRADO MEDIO"
   ]
  },
  {
   "cell_type": "code",
   "execution_count": 19,
   "metadata": {
    "scrolled": true
   },
   "outputs": [
    {
     "data": {
      "application/vnd.plotly.v1+json": {
       "config": {
        "linkText": "Export to plot.ly",
        "plotlyServerURL": "https://plot.ly",
        "responsive": true,
        "showLink": false
       },
       "data": [
        {
         "hoverinfo": "x+text",
         "marker": {
          "color": [
           23.5,
           23.5,
           25,
           88.9,
           30.8,
           27.3
          ],
          "colorscale": [
           [
            0,
            "rgb(186,228,179)"
           ],
           [
            0.3333333333333333,
            "rgb(116,196,118)"
           ],
           [
            0.6666666666666666,
            "rgb(49,163,84)"
           ],
           [
            1,
            "rgb(0,109,44)"
           ]
          ]
         },
         "text": [
          "23.50%",
          "23.50%",
          "25.00%",
          "88.90%",
          "30.80%",
          "27.30%"
         ],
         "type": "bar",
         "uid": "831649a3-b6d8-4237-82ac-955a53f8d143",
         "x": [
          "1TEL",
          "1ELE",
          "1CAR",
          "2TEL",
          "2ELE",
          "2CAR"
         ],
         "y": [
          23.5,
          23.5,
          25,
          88.9,
          30.8,
          27.3
         ]
        }
       ],
       "layout": {
        "title": {
         "text": ""
        }
       }
      },
      "text/html": [
       "<div>\n",
       "        \n",
       "        \n",
       "            <div id=\"e0546be7-d726-427a-a2df-2b608d730cad\" class=\"plotly-graph-div\" style=\"height:525px; width:100%;\"></div>\n",
       "            <script type=\"text/javascript\">\n",
       "                require([\"plotly\"], function(Plotly) {\n",
       "                    window.PLOTLYENV=window.PLOTLYENV || {};\n",
       "                    window.PLOTLYENV.BASE_URL='https://plot.ly';\n",
       "                    \n",
       "                if (document.getElementById(\"e0546be7-d726-427a-a2df-2b608d730cad\")) {\n",
       "                    Plotly.newPlot(\n",
       "                        'e0546be7-d726-427a-a2df-2b608d730cad',\n",
       "                        [{\"hoverinfo\": \"x+text\", \"marker\": {\"color\": [23.5, 23.5, 25.0, 88.9, 30.8, 27.3], \"colorscale\": [[0.0, \"rgb(186,228,179)\"], [0.3333333333333333, \"rgb(116,196,118)\"], [0.6666666666666666, \"rgb(49,163,84)\"], [1.0, \"rgb(0,109,44)\"]]}, \"text\": [\"23.50%\", \"23.50%\", \"25.00%\", \"88.90%\", \"30.80%\", \"27.30%\"], \"type\": \"bar\", \"uid\": \"37fdf896-52f6-4660-97eb-727c31768556\", \"x\": [\"1TEL\", \"1ELE\", \"1CAR\", \"2TEL\", \"2ELE\", \"2CAR\"], \"y\": [23.5, 23.5, 25.0, 88.9, 30.8, 27.3]}],\n",
       "                        {\"title\": {\"text\": \"\"}},\n",
       "                        {\"showLink\": false, \"linkText\": \"Export to plot.ly\", \"plotlyServerURL\": \"https://plot.ly\", \"responsive\": true}\n",
       "                    ).then(function(){\n",
       "                            \n",
       "var gd = document.getElementById('e0546be7-d726-427a-a2df-2b608d730cad');\n",
       "var x = new MutationObserver(function (mutations, observer) {{\n",
       "        var display = window.getComputedStyle(gd).display;\n",
       "        if (!display || display === 'none') {{\n",
       "            console.log([gd, 'removed!']);\n",
       "            Plotly.purge(gd);\n",
       "            observer.disconnect();\n",
       "        }}\n",
       "}});\n",
       "\n",
       "// Listen for the removal of the full notebook cells\n",
       "var notebookContainer = gd.closest('#notebook-container');\n",
       "if (notebookContainer) {{\n",
       "    x.observe(notebookContainer, {childList: true});\n",
       "}}\n",
       "\n",
       "// Listen for the clearing of the current output cell\n",
       "var outputEl = gd.closest('.output');\n",
       "if (outputEl) {{\n",
       "    x.observe(outputEl, {childList: true});\n",
       "}}\n",
       "\n",
       "                        })\n",
       "                };\n",
       "                });\n",
       "            </script>\n",
       "        </div>"
      ]
     },
     "metadata": {},
     "output_type": "display_data"
    }
   ],
   "source": [
    "dfc_CFGM = loaders.get_data_by_stages(dfc, 'CFGM')\n",
    "myplotly.bar_simple(dfc_CFGM.index, dfc_CFGM['éxito'])"
   ]
  },
  {
   "cell_type": "code",
   "execution_count": 20,
   "metadata": {
    "scrolled": false
   },
   "outputs": [
    {
     "data": {
      "text/plain": [
       "éxito                       36.500000\n",
       "absentismo_justificado       2.768333\n",
       "absentismo_injustificado    14.365000\n",
       "partes                       0.000000\n",
       "suspensión_asistencia        0.000000\n",
       "ratio                       14.500000\n",
       "absentismo                  17.133333\n",
       "éxito_abs                    4.666667\n",
       "ccbb                              NaN\n",
       "dtype: float64"
      ]
     },
     "execution_count": 20,
     "metadata": {},
     "output_type": "execute_result"
    }
   ],
   "source": [
    "dfc_CFGM.mean()"
   ]
  },
  {
   "cell_type": "markdown",
   "metadata": {},
   "source": [
    "## CICLOS FORMATIVOS DE GRADO SUPERIOR"
   ]
  },
  {
   "cell_type": "code",
   "execution_count": 21,
   "metadata": {
    "scrolled": true
   },
   "outputs": [
    {
     "data": {
      "application/vnd.plotly.v1+json": {
       "config": {
        "linkText": "Export to plot.ly",
        "plotlyServerURL": "https://plot.ly",
        "responsive": true,
        "showLink": false
       },
       "data": [
        {
         "hoverinfo": "x+text",
         "marker": {
          "color": [
           71.4,
           62.1,
           71.4,
           41.4,
           34.5,
           46.7,
           95.7,
           78.3,
           84.2,
           38.5
          ],
          "colorscale": [
           [
            0,
            "rgb(186,228,179)"
           ],
           [
            0.3333333333333333,
            "rgb(116,196,118)"
           ],
           [
            0.6666666666666666,
            "rgb(49,163,84)"
           ],
           [
            1,
            "rgb(0,109,44)"
           ]
          ]
         },
         "text": [
          "71.40%",
          "62.10%",
          "71.40%",
          "41.40%",
          "34.50%",
          "46.70%",
          "95.70%",
          "78.30%",
          "84.20%",
          "38.50%"
         ],
         "type": "bar",
         "uid": "910a94e2-2b94-4d6a-921d-791e179b646c",
         "x": [
          "1ARI",
          "1ALO",
          "1GIT",
          "1ASR",
          "1DAW",
          "2ARI",
          "2ALO",
          "2GIT",
          "2ASR",
          "2DAW"
         ],
         "y": [
          71.4,
          62.1,
          71.4,
          41.4,
          34.5,
          46.7,
          95.7,
          78.3,
          84.2,
          38.5
         ]
        }
       ],
       "layout": {
        "title": {
         "text": ""
        }
       }
      },
      "text/html": [
       "<div>\n",
       "        \n",
       "        \n",
       "            <div id=\"3e05602a-76db-41dc-b8ee-20989e170a83\" class=\"plotly-graph-div\" style=\"height:525px; width:100%;\"></div>\n",
       "            <script type=\"text/javascript\">\n",
       "                require([\"plotly\"], function(Plotly) {\n",
       "                    window.PLOTLYENV=window.PLOTLYENV || {};\n",
       "                    window.PLOTLYENV.BASE_URL='https://plot.ly';\n",
       "                    \n",
       "                if (document.getElementById(\"3e05602a-76db-41dc-b8ee-20989e170a83\")) {\n",
       "                    Plotly.newPlot(\n",
       "                        '3e05602a-76db-41dc-b8ee-20989e170a83',\n",
       "                        [{\"hoverinfo\": \"x+text\", \"marker\": {\"color\": [71.4, 62.1, 71.4, 41.4, 34.5, 46.7, 95.7, 78.3, 84.2, 38.5], \"colorscale\": [[0.0, \"rgb(186,228,179)\"], [0.3333333333333333, \"rgb(116,196,118)\"], [0.6666666666666666, \"rgb(49,163,84)\"], [1.0, \"rgb(0,109,44)\"]]}, \"text\": [\"71.40%\", \"62.10%\", \"71.40%\", \"41.40%\", \"34.50%\", \"46.70%\", \"95.70%\", \"78.30%\", \"84.20%\", \"38.50%\"], \"type\": \"bar\", \"uid\": \"704a628b-37ff-4b4d-9b50-bcb917e5c68a\", \"x\": [\"1ARI\", \"1ALO\", \"1GIT\", \"1ASR\", \"1DAW\", \"2ARI\", \"2ALO\", \"2GIT\", \"2ASR\", \"2DAW\"], \"y\": [71.4, 62.1, 71.4, 41.4, 34.5, 46.7, 95.7, 78.3, 84.2, 38.5]}],\n",
       "                        {\"title\": {\"text\": \"\"}},\n",
       "                        {\"showLink\": false, \"linkText\": \"Export to plot.ly\", \"plotlyServerURL\": \"https://plot.ly\", \"responsive\": true}\n",
       "                    ).then(function(){\n",
       "                            \n",
       "var gd = document.getElementById('3e05602a-76db-41dc-b8ee-20989e170a83');\n",
       "var x = new MutationObserver(function (mutations, observer) {{\n",
       "        var display = window.getComputedStyle(gd).display;\n",
       "        if (!display || display === 'none') {{\n",
       "            console.log([gd, 'removed!']);\n",
       "            Plotly.purge(gd);\n",
       "            observer.disconnect();\n",
       "        }}\n",
       "}});\n",
       "\n",
       "// Listen for the removal of the full notebook cells\n",
       "var notebookContainer = gd.closest('#notebook-container');\n",
       "if (notebookContainer) {{\n",
       "    x.observe(notebookContainer, {childList: true});\n",
       "}}\n",
       "\n",
       "// Listen for the clearing of the current output cell\n",
       "var outputEl = gd.closest('.output');\n",
       "if (outputEl) {{\n",
       "    x.observe(outputEl, {childList: true});\n",
       "}}\n",
       "\n",
       "                        })\n",
       "                };\n",
       "                });\n",
       "            </script>\n",
       "        </div>"
      ]
     },
     "metadata": {},
     "output_type": "display_data"
    }
   ],
   "source": [
    "dfc_CFGS = loaders.get_data_by_stages(dfc, 'CFGS')\n",
    "myplotly.bar_simple(dfc_CFGS.index, dfc_CFGS['éxito'])"
   ]
  },
  {
   "cell_type": "code",
   "execution_count": 22,
   "metadata": {
    "scrolled": false
   },
   "outputs": [
    {
     "data": {
      "text/plain": [
       "éxito                       62.420\n",
       "absentismo_justificado       2.363\n",
       "absentismo_injustificado     8.525\n",
       "partes                       0.000\n",
       "suspensión_asistencia        0.000\n",
       "ratio                       22.200\n",
       "absentismo                  10.888\n",
       "éxito_abs                   13.800\n",
       "ccbb                           NaN\n",
       "dtype: float64"
      ]
     },
     "execution_count": 22,
     "metadata": {},
     "output_type": "execute_result"
    }
   ],
   "source": [
    "dfc_CFGS.mean()"
   ]
  },
  {
   "cell_type": "markdown",
   "metadata": {},
   "source": [
    "## GLOBAL"
   ]
  },
  {
   "cell_type": "code",
   "execution_count": 23,
   "metadata": {
    "scrolled": false
   },
   "outputs": [
    {
     "data": {
      "application/vnd.plotly.v1+json": {
       "config": {
        "linkText": "Export to plot.ly",
        "plotlyServerURL": "https://plot.ly",
        "responsive": true,
        "showLink": false
       },
       "data": [
        {
         "hoverinfo": "x+text",
         "marker": {
          "color": [
           28.250000000000004,
           30.95,
           37.325,
           36.50000000000001,
           62.42
          ],
          "colorscale": [
           [
            0,
            "rgb(186,228,179)"
           ],
           [
            0.3333333333333333,
            "rgb(116,196,118)"
           ],
           [
            0.6666666666666666,
            "rgb(49,163,84)"
           ],
           [
            1,
            "rgb(0,109,44)"
           ]
          ]
         },
         "text": [
          "28.25%",
          "30.95%",
          "37.33%",
          "36.50%",
          "62.42%"
         ],
         "type": "bar",
         "uid": "0fd05300-f883-4763-af8a-a77ef6cda689",
         "x": [
          "ESO",
          "FPB",
          "BACH",
          "CFGM",
          "CFGS"
         ],
         "y": [
          28.250000000000004,
          30.95,
          37.325,
          36.50000000000001,
          62.42
         ]
        }
       ],
       "layout": {
        "title": {
         "text": ""
        }
       }
      },
      "text/html": [
       "<div>\n",
       "        \n",
       "        \n",
       "            <div id=\"f89beef4-f974-4b2c-8ef5-0c0f3dba0597\" class=\"plotly-graph-div\" style=\"height:525px; width:100%;\"></div>\n",
       "            <script type=\"text/javascript\">\n",
       "                require([\"plotly\"], function(Plotly) {\n",
       "                    window.PLOTLYENV=window.PLOTLYENV || {};\n",
       "                    window.PLOTLYENV.BASE_URL='https://plot.ly';\n",
       "                    \n",
       "                if (document.getElementById(\"f89beef4-f974-4b2c-8ef5-0c0f3dba0597\")) {\n",
       "                    Plotly.newPlot(\n",
       "                        'f89beef4-f974-4b2c-8ef5-0c0f3dba0597',\n",
       "                        [{\"hoverinfo\": \"x+text\", \"marker\": {\"color\": [28.250000000000004, 30.95, 37.325, 36.50000000000001, 62.42], \"colorscale\": [[0.0, \"rgb(186,228,179)\"], [0.3333333333333333, \"rgb(116,196,118)\"], [0.6666666666666666, \"rgb(49,163,84)\"], [1.0, \"rgb(0,109,44)\"]]}, \"text\": [\"28.25%\", \"30.95%\", \"37.33%\", \"36.50%\", \"62.42%\"], \"type\": \"bar\", \"uid\": \"91a72e21-82ae-426a-8409-517ff5526527\", \"x\": [\"ESO\", \"FPB\", \"BACH\", \"CFGM\", \"CFGS\"], \"y\": [28.250000000000004, 30.95, 37.325, 36.50000000000001, 62.42]}],\n",
       "                        {\"title\": {\"text\": \"\"}},\n",
       "                        {\"showLink\": false, \"linkText\": \"Export to plot.ly\", \"plotlyServerURL\": \"https://plot.ly\", \"responsive\": true}\n",
       "                    ).then(function(){\n",
       "                            \n",
       "var gd = document.getElementById('f89beef4-f974-4b2c-8ef5-0c0f3dba0597');\n",
       "var x = new MutationObserver(function (mutations, observer) {{\n",
       "        var display = window.getComputedStyle(gd).display;\n",
       "        if (!display || display === 'none') {{\n",
       "            console.log([gd, 'removed!']);\n",
       "            Plotly.purge(gd);\n",
       "            observer.disconnect();\n",
       "        }}\n",
       "}});\n",
       "\n",
       "// Listen for the removal of the full notebook cells\n",
       "var notebookContainer = gd.closest('#notebook-container');\n",
       "if (notebookContainer) {{\n",
       "    x.observe(notebookContainer, {childList: true});\n",
       "}}\n",
       "\n",
       "// Listen for the clearing of the current output cell\n",
       "var outputEl = gd.closest('.output');\n",
       "if (outputEl) {{\n",
       "    x.observe(outputEl, {childList: true});\n",
       "}}\n",
       "\n",
       "                        })\n",
       "                };\n",
       "                });\n",
       "            </script>\n",
       "        </div>"
      ]
     },
     "metadata": {},
     "output_type": "display_data"
    }
   ],
   "source": [
    "dfc_summary = dfc.groupby('etapa').mean().loc[stages]\n",
    "myplotly.bar_simple(dfc_summary.index, dfc_summary['éxito'])"
   ]
  },
  {
   "cell_type": "markdown",
   "metadata": {},
   "source": [
    "## COMPARATIVA CON LOS ÚLTIMOS CURSOS"
   ]
  },
  {
   "cell_type": "code",
   "execution_count": 24,
   "metadata": {},
   "outputs": [
    {
     "data": {
      "application/vnd.plotly.v1+json": {
       "config": {
        "linkText": "Export to plot.ly",
        "plotlyServerURL": "https://plot.ly",
        "responsive": true,
        "showLink": false
       },
       "data": [
        {
         "hoverinfo": "x+text+name",
         "name": "C1718",
         "text": [
          "28.10%",
          "37.35%",
          "46.48%",
          "55.00%",
          "52.87%"
         ],
         "type": "bar",
         "uid": "b7dceda6-cb7f-4462-9abe-1eaedd56ec31",
         "x": [
          "ESO",
          "FPB",
          "BACH",
          "CFGM",
          "CFGS"
         ],
         "y": [
          28.099999999999998,
          37.35,
          46.475,
          55,
          52.870000000000005
         ]
        },
        {
         "hoverinfo": "x+text+name",
         "name": "C1819",
         "text": [
          "30.92%",
          "55.00%",
          "37.08%",
          "48.52%",
          "56.43%"
         ],
         "type": "bar",
         "uid": "97f34121-fe49-47e3-b43a-9980d072753a",
         "x": [
          "ESO",
          "FPB",
          "BACH",
          "CFGM",
          "CFGS"
         ],
         "y": [
          30.923076923076923,
          55,
          37.075,
          48.51666666666667,
          56.43000000000001
         ]
        },
        {
         "hoverinfo": "x+text+name",
         "name": "C1920",
         "text": [
          "28.25%",
          "30.95%",
          "37.33%",
          "36.50%",
          "62.42%"
         ],
         "type": "bar",
         "uid": "655f9bb3-6008-41c3-b516-5789df3dedc1",
         "x": [
          "ESO",
          "FPB",
          "BACH",
          "CFGM",
          "CFGS"
         ],
         "y": [
          28.250000000000004,
          30.95,
          37.325,
          36.50000000000001,
          62.42
         ]
        }
       ],
       "layout": {
        "barmode": "group"
       }
      },
      "text/html": [
       "<div>\n",
       "        \n",
       "        \n",
       "            <div id=\"c6ae84b6-996f-4d92-ad6a-2d05c8c332fd\" class=\"plotly-graph-div\" style=\"height:525px; width:100%;\"></div>\n",
       "            <script type=\"text/javascript\">\n",
       "                require([\"plotly\"], function(Plotly) {\n",
       "                    window.PLOTLYENV=window.PLOTLYENV || {};\n",
       "                    window.PLOTLYENV.BASE_URL='https://plot.ly';\n",
       "                    \n",
       "                if (document.getElementById(\"c6ae84b6-996f-4d92-ad6a-2d05c8c332fd\")) {\n",
       "                    Plotly.newPlot(\n",
       "                        'c6ae84b6-996f-4d92-ad6a-2d05c8c332fd',\n",
       "                        [{\"hoverinfo\": \"x+text+name\", \"name\": \"C1718\", \"text\": [\"28.10%\", \"37.35%\", \"46.48%\", \"55.00%\", \"52.87%\"], \"type\": \"bar\", \"uid\": \"50f66729-dafb-410b-9c1d-262f565a0233\", \"x\": [\"ESO\", \"FPB\", \"BACH\", \"CFGM\", \"CFGS\"], \"y\": [28.099999999999998, 37.35, 46.475, 55.0, 52.870000000000005]}, {\"hoverinfo\": \"x+text+name\", \"name\": \"C1819\", \"text\": [\"30.92%\", \"55.00%\", \"37.08%\", \"48.52%\", \"56.43%\"], \"type\": \"bar\", \"uid\": \"9bf2e235-8948-4040-b7f4-6ba12974d6db\", \"x\": [\"ESO\", \"FPB\", \"BACH\", \"CFGM\", \"CFGS\"], \"y\": [30.923076923076923, 55.0, 37.075, 48.51666666666667, 56.43000000000001]}, {\"hoverinfo\": \"x+text+name\", \"name\": \"C1920\", \"text\": [\"28.25%\", \"30.95%\", \"37.33%\", \"36.50%\", \"62.42%\"], \"type\": \"bar\", \"uid\": \"31018902-f1a9-4c39-9f4a-8defbdfc797d\", \"x\": [\"ESO\", \"FPB\", \"BACH\", \"CFGM\", \"CFGS\"], \"y\": [28.250000000000004, 30.95, 37.325, 36.50000000000001, 62.42]}],\n",
       "                        {\"barmode\": \"group\"},\n",
       "                        {\"showLink\": false, \"linkText\": \"Export to plot.ly\", \"plotlyServerURL\": \"https://plot.ly\", \"responsive\": true}\n",
       "                    ).then(function(){\n",
       "                            \n",
       "var gd = document.getElementById('c6ae84b6-996f-4d92-ad6a-2d05c8c332fd');\n",
       "var x = new MutationObserver(function (mutations, observer) {{\n",
       "        var display = window.getComputedStyle(gd).display;\n",
       "        if (!display || display === 'none') {{\n",
       "            console.log([gd, 'removed!']);\n",
       "            Plotly.purge(gd);\n",
       "            observer.disconnect();\n",
       "        }}\n",
       "}});\n",
       "\n",
       "// Listen for the removal of the full notebook cells\n",
       "var notebookContainer = gd.closest('#notebook-container');\n",
       "if (notebookContainer) {{\n",
       "    x.observe(notebookContainer, {childList: true});\n",
       "}}\n",
       "\n",
       "// Listen for the clearing of the current output cell\n",
       "var outputEl = gd.closest('.output');\n",
       "if (outputEl) {{\n",
       "    x.observe(outputEl, {childList: true});\n",
       "}}\n",
       "\n",
       "                        })\n",
       "                };\n",
       "                });\n",
       "            </script>\n",
       "        </div>"
      ]
     },
     "metadata": {},
     "output_type": "display_data"
    }
   ],
   "source": [
    "aux = df.groupby(['etapa', 'curso', 'evaluación']).mean().reset_index().set_index('etapa')\n",
    "series = {year: aux.loc[stages].query(f'curso == \"{year}\" & evaluación == \"{labels[-1][1]}\"')['éxito'].values\n",
    "          for year in years}\n",
    "\n",
    "myplotly.cbar(stages, series)"
   ]
  },
  {
   "cell_type": "code",
   "execution_count": 25,
   "metadata": {
    "scrolled": false
   },
   "outputs": [
    {
     "data": {
      "text/html": [
       "\n",
       "<div class='alert alert-info' role=\"alert\">\n",
       "    Éxito global medio: <b>40.28</b>%\n",
       "</div>\n"
      ],
      "text/plain": [
       "<IPython.core.display.HTML object>"
      ]
     },
     "metadata": {},
     "output_type": "display_data"
    }
   ],
   "source": [
    "mean_success = dfc['éxito'].mean()\n",
    "display(HTML(f'''\n",
    "<div class='alert alert-info' role=\"alert\">\n",
    "    Éxito global medio: <b>{mean_success:.2f}</b>%\n",
    "</div>\n",
    "'''))"
   ]
  },
  {
   "cell_type": "code",
   "execution_count": 26,
   "metadata": {
    "scrolled": false
   },
   "outputs": [],
   "source": [
    "if EVALUATION > 1:\n",
    "    display(HTML('<h2>EVOLUCIÓN DE GRUPOS CON RESPECTO A LA EVALUACIÓN ANTERIOR</h2>'))\n",
    "\n",
    "    aux = df_comp['éxito_x'] - df_comp['éxito_y']\n",
    "    myplotly.dbar(aux.index, aux)"
   ]
  },
  {
   "cell_type": "markdown",
   "metadata": {},
   "source": [
    "## COMPETENCIAS BÁSICAS"
   ]
  },
  {
   "cell_type": "markdown",
   "metadata": {},
   "source": [
    "**AAP**: Aprender a aprender.  \n",
    "**CD**: Competencia digital.  \n",
    "**CEC**: Conciencia y expresiones culturales.  \n",
    "**CL**: Comunicación lingüística.  \n",
    "**CMCT**: Competencia matemática y competencias básicas en ciencia y tecnología.  \n",
    "**CSC**: Competencias sociales y cívicas.  \n",
    "**SIEE**: Sentido de iniciativa y espíritu emprendedor.  "
   ]
  },
  {
   "cell_type": "markdown",
   "metadata": {},
   "source": [
    "#### Valor resumen por competencia básica:\n",
    "\\begin{equation}\n",
    "MARCA = 0.025 * \\mathbb{PA} + 0.050 * \\mathbb{AD} + 0.075 * \\mathbb{MA} + 0.1 * \\mathbb{EX}\n",
    "\\end{equation}\n",
    "\n",
    ", donde $\\mathbb{PA}$, $\\mathbb{AD}$, $\\mathbb{MA}$ y $\\mathbb{EX}$ son los porcentajes de adquisición de la competencia básica en cuestión."
   ]
  },
  {
   "cell_type": "markdown",
   "metadata": {},
   "source": [
    "### ESTUDIO POR NIVELES Y COMPETENCIA"
   ]
  },
  {
   "cell_type": "code",
   "execution_count": 27,
   "metadata": {
    "scrolled": false
   },
   "outputs": [
    {
     "data": {
      "application/vnd.plotly.v1+json": {
       "config": {
        "linkText": "Export to plot.ly",
        "plotlyServerURL": "https://plot.ly",
        "responsive": true,
        "showLink": false
       },
       "data": [
        {
         "hoverinfo": "x+text+name",
         "legendgroup": "PA",
         "marker": {
          "color": "rgb(215,25,28)"
         },
         "name": "PA",
         "text": [
          "38.50%",
          "17.25%",
          "19.75%",
          "34.25%",
          "49.00%",
          "17.00%",
          "41.50%"
         ],
         "type": "bar",
         "uid": "6ab24ba1-901d-4238-9bef-4c5009882b9d",
         "x": [
          "AAP",
          "CD",
          "CEC",
          "CL",
          "CMCT",
          "CSC",
          "SIEE"
         ],
         "xaxis": "x",
         "y": [
          38.5,
          17.25,
          19.75,
          34.25,
          49,
          17,
          41.5
         ],
         "yaxis": "y"
        },
        {
         "hoverinfo": "x+text+name",
         "legendgroup": "AD",
         "marker": {
          "color": "rgb(253,174,97)"
         },
         "name": "AD",
         "text": [
          "37.75%",
          "64.25%",
          "55.00%",
          "45.25%",
          "34.25%",
          "58.00%",
          "38.00%"
         ],
         "type": "bar",
         "uid": "85bd55a5-1e7b-433b-b9d6-2eab8ebb9316",
         "x": [
          "AAP",
          "CD",
          "CEC",
          "CL",
          "CMCT",
          "CSC",
          "SIEE"
         ],
         "xaxis": "x",
         "y": [
          37.75,
          64.25,
          55,
          45.25,
          34.25,
          58,
          38
         ],
         "yaxis": "y"
        },
        {
         "hoverinfo": "x+text+name",
         "legendgroup": "MA",
         "marker": {
          "color": "rgb(171,221,164)"
         },
         "name": "MA",
         "text": [
          "18.75%",
          "16.75%",
          "22.50%",
          "17.00%",
          "14.00%",
          "17.75%",
          "18.50%"
         ],
         "type": "bar",
         "uid": "82d28a89-a51c-4e01-8f5e-5717f57b35f4",
         "x": [
          "AAP",
          "CD",
          "CEC",
          "CL",
          "CMCT",
          "CSC",
          "SIEE"
         ],
         "xaxis": "x",
         "y": [
          18.75,
          16.75,
          22.5,
          17,
          14,
          17.75,
          18.5
         ],
         "yaxis": "y"
        },
        {
         "hoverinfo": "x+text+name",
         "legendgroup": "EX",
         "marker": {
          "color": "rgb(43,131,186)"
         },
         "name": "EX",
         "text": [
          "4.75%",
          "2.00%",
          "2.75%",
          "3.75%",
          "3.00%",
          "7.25%",
          "2.00%"
         ],
         "type": "bar",
         "uid": "4b579a1f-2393-454e-9aad-45f1ae277d37",
         "x": [
          "AAP",
          "CD",
          "CEC",
          "CL",
          "CMCT",
          "CSC",
          "SIEE"
         ],
         "xaxis": "x",
         "y": [
          4.75,
          2,
          2.75,
          3.75,
          3,
          7.25,
          2
         ],
         "yaxis": "y"
        },
        {
         "hoverinfo": "x+text+name",
         "legendgroup": "PA",
         "marker": {
          "color": "rgb(215,25,28)"
         },
         "name": "PA",
         "showlegend": false,
         "text": [
          "27.00%",
          "12.50%",
          "20.00%",
          "21.00%",
          "36.50%",
          "16.50%",
          "28.00%"
         ],
         "type": "bar",
         "uid": "22f73050-2506-42c8-8067-ba67a6697a30",
         "x": [
          "AAP",
          "CD",
          "CEC",
          "CL",
          "CMCT",
          "CSC",
          "SIEE"
         ],
         "xaxis": "x2",
         "y": [
          27,
          12.5,
          20,
          21,
          36.5,
          16.5,
          28
         ],
         "yaxis": "y"
        },
        {
         "hoverinfo": "x+text+name",
         "legendgroup": "AD",
         "marker": {
          "color": "rgb(253,174,97)"
         },
         "name": "AD",
         "showlegend": false,
         "text": [
          "54.00%",
          "69.50%",
          "77.00%",
          "65.50%",
          "45.00%",
          "68.50%",
          "50.00%"
         ],
         "type": "bar",
         "uid": "fb40b1d5-efdd-48bb-a06e-cb49109d6da6",
         "x": [
          "AAP",
          "CD",
          "CEC",
          "CL",
          "CMCT",
          "CSC",
          "SIEE"
         ],
         "xaxis": "x2",
         "y": [
          54,
          69.5,
          77,
          65.5,
          45,
          68.5,
          50
         ],
         "yaxis": "y"
        },
        {
         "hoverinfo": "x+text+name",
         "legendgroup": "MA",
         "marker": {
          "color": "rgb(171,221,164)"
         },
         "name": "MA",
         "showlegend": false,
         "text": [
          "15.50%",
          "14.50%",
          "0.00%",
          "10.50%",
          "15.50%",
          "11.50%",
          "18.50%"
         ],
         "type": "bar",
         "uid": "4acd6b4b-634e-4f89-a013-2a2672b05fca",
         "x": [
          "AAP",
          "CD",
          "CEC",
          "CL",
          "CMCT",
          "CSC",
          "SIEE"
         ],
         "xaxis": "x2",
         "y": [
          15.5,
          14.5,
          0,
          10.5,
          15.5,
          11.5,
          18.5
         ],
         "yaxis": "y"
        },
        {
         "hoverinfo": "x+text+name",
         "legendgroup": "EX",
         "marker": {
          "color": "rgb(43,131,186)"
         },
         "name": "EX",
         "showlegend": false,
         "text": [
          "0.00%",
          "0.00%",
          "0.00%",
          "0.00%",
          "0.00%",
          "0.00%",
          "0.00%"
         ],
         "type": "bar",
         "uid": "1d11893c-7f9a-47bb-815b-6eeeeeb3728f",
         "x": [
          "AAP",
          "CD",
          "CEC",
          "CL",
          "CMCT",
          "CSC",
          "SIEE"
         ],
         "xaxis": "x2",
         "y": [
          0,
          0,
          0,
          0,
          0,
          0,
          0
         ],
         "yaxis": "y"
        },
        {
         "hoverinfo": "x+text+name",
         "legendgroup": "PA",
         "marker": {
          "color": "rgb(215,25,28)"
         },
         "name": "PA",
         "showlegend": false,
         "text": [
          "62.00%",
          "75.00%",
          "88.00%",
          "50.00%",
          "50.00%",
          "50.00%",
          "75.00%"
         ],
         "type": "bar",
         "uid": "db151c75-4ba4-4103-8a36-2432c5a91be3",
         "x": [
          "AAP",
          "CD",
          "CEC",
          "CL",
          "CMCT",
          "CSC",
          "SIEE"
         ],
         "xaxis": "x3",
         "y": [
          62,
          75,
          88,
          50,
          50,
          50,
          75
         ],
         "yaxis": "y"
        },
        {
         "hoverinfo": "x+text+name",
         "legendgroup": "AD",
         "marker": {
          "color": "rgb(253,174,97)"
         },
         "name": "AD",
         "showlegend": false,
         "text": [
          "38.00%",
          "25.00%",
          "12.00%",
          "50.00%",
          "50.00%",
          "50.00%",
          "25.00%"
         ],
         "type": "bar",
         "uid": "972b1633-b31b-4f8c-931b-5a53c4a9a1ec",
         "x": [
          "AAP",
          "CD",
          "CEC",
          "CL",
          "CMCT",
          "CSC",
          "SIEE"
         ],
         "xaxis": "x3",
         "y": [
          38,
          25,
          12,
          50,
          50,
          50,
          25
         ],
         "yaxis": "y"
        },
        {
         "hoverinfo": "x+text+name",
         "legendgroup": "MA",
         "marker": {
          "color": "rgb(171,221,164)"
         },
         "name": "MA",
         "showlegend": false,
         "text": [
          "0.00%",
          "0.00%",
          "0.00%",
          "0.00%",
          "0.00%",
          "0.00%",
          "0.00%"
         ],
         "type": "bar",
         "uid": "5962d347-7d1d-4907-8693-dcbb3a8521f5",
         "x": [
          "AAP",
          "CD",
          "CEC",
          "CL",
          "CMCT",
          "CSC",
          "SIEE"
         ],
         "xaxis": "x3",
         "y": [
          0,
          0,
          0,
          0,
          0,
          0,
          0
         ],
         "yaxis": "y"
        },
        {
         "hoverinfo": "x+text+name",
         "legendgroup": "EX",
         "marker": {
          "color": "rgb(43,131,186)"
         },
         "name": "EX",
         "showlegend": false,
         "text": [
          "0.00%",
          "0.00%",
          "0.00%",
          "0.00%",
          "0.00%",
          "0.00%",
          "0.00%"
         ],
         "type": "bar",
         "uid": "ee698b4e-7198-450b-ab54-78660cc27f8f",
         "x": [
          "AAP",
          "CD",
          "CEC",
          "CL",
          "CMCT",
          "CSC",
          "SIEE"
         ],
         "xaxis": "x3",
         "y": [
          0,
          0,
          0,
          0,
          0,
          0,
          0
         ],
         "yaxis": "y"
        },
        {
         "hoverinfo": "x+text+name",
         "legendgroup": "PA",
         "marker": {
          "color": "rgb(215,25,28)"
         },
         "name": "PA",
         "showlegend": false,
         "text": [
          "48.67%",
          "30.00%",
          "39.67%",
          "47.33%",
          "56.33%",
          "32.00%",
          "51.33%"
         ],
         "type": "bar",
         "uid": "70c0bdca-f710-49e1-830b-1344aa61f020",
         "x": [
          "AAP",
          "CD",
          "CEC",
          "CL",
          "CMCT",
          "CSC",
          "SIEE"
         ],
         "xaxis": "x4",
         "y": [
          48.666666666666664,
          30,
          39.666666666666664,
          47.333333333333336,
          56.333333333333336,
          32,
          51.333333333333336
         ],
         "yaxis": "y2"
        },
        {
         "hoverinfo": "x+text+name",
         "legendgroup": "AD",
         "marker": {
          "color": "rgb(253,174,97)"
         },
         "name": "AD",
         "showlegend": false,
         "text": [
          "34.00%",
          "53.67%",
          "45.33%",
          "38.00%",
          "29.00%",
          "58.00%",
          "39.00%"
         ],
         "type": "bar",
         "uid": "6fea1f02-d556-427b-ba0b-64c53b1c404a",
         "x": [
          "AAP",
          "CD",
          "CEC",
          "CL",
          "CMCT",
          "CSC",
          "SIEE"
         ],
         "xaxis": "x4",
         "y": [
          34,
          53.666666666666664,
          45.333333333333336,
          38,
          29,
          58,
          39
         ],
         "yaxis": "y2"
        },
        {
         "hoverinfo": "x+text+name",
         "legendgroup": "MA",
         "marker": {
          "color": "rgb(171,221,164)"
         },
         "name": "MA",
         "showlegend": false,
         "text": [
          "16.00%",
          "16.00%",
          "13.67%",
          "14.67%",
          "15.00%",
          "10.00%",
          "8.67%"
         ],
         "type": "bar",
         "uid": "b7e0f2ff-9a51-4cfc-93cd-96f3c29dddbf",
         "x": [
          "AAP",
          "CD",
          "CEC",
          "CL",
          "CMCT",
          "CSC",
          "SIEE"
         ],
         "xaxis": "x4",
         "y": [
          16,
          16,
          13.666666666666666,
          14.666666666666666,
          15,
          10,
          8.666666666666666
         ],
         "yaxis": "y2"
        },
        {
         "hoverinfo": "x+text+name",
         "legendgroup": "EX",
         "marker": {
          "color": "rgb(43,131,186)"
         },
         "name": "EX",
         "showlegend": false,
         "text": [
          "1.33%",
          "0.00%",
          "1.33%",
          "0.00%",
          "0.00%",
          "0.00%",
          "1.33%"
         ],
         "type": "bar",
         "uid": "b72eb63b-6c99-44e8-b9cc-263a2406ba43",
         "x": [
          "AAP",
          "CD",
          "CEC",
          "CL",
          "CMCT",
          "CSC",
          "SIEE"
         ],
         "xaxis": "x4",
         "y": [
          1.3333333333333333,
          0,
          1.3333333333333333,
          0,
          0,
          0,
          1.3333333333333333
         ],
         "yaxis": "y2"
        },
        {
         "hoverinfo": "x+text+name",
         "legendgroup": "PA",
         "marker": {
          "color": "rgb(215,25,28)"
         },
         "name": "PA",
         "showlegend": false,
         "text": [
          "58.00%",
          "50.00%",
          "33.00%",
          "50.00%",
          "83.00%",
          "50.00%",
          "58.00%"
         ],
         "type": "bar",
         "uid": "b1291785-be39-42ae-b621-85d73368ff4a",
         "x": [
          "AAP",
          "CD",
          "CEC",
          "CL",
          "CMCT",
          "CSC",
          "SIEE"
         ],
         "xaxis": "x5",
         "y": [
          58,
          50,
          33,
          50,
          83,
          50,
          58
         ],
         "yaxis": "y2"
        },
        {
         "hoverinfo": "x+text+name",
         "legendgroup": "AD",
         "marker": {
          "color": "rgb(253,174,97)"
         },
         "name": "AD",
         "showlegend": false,
         "text": [
          "42.00%",
          "42.00%",
          "67.00%",
          "42.00%",
          "8.00%",
          "42.00%",
          "42.00%"
         ],
         "type": "bar",
         "uid": "5567497a-35a5-407f-b6b4-d83a0927078c",
         "x": [
          "AAP",
          "CD",
          "CEC",
          "CL",
          "CMCT",
          "CSC",
          "SIEE"
         ],
         "xaxis": "x5",
         "y": [
          42,
          42,
          67,
          42,
          8,
          42,
          42
         ],
         "yaxis": "y2"
        },
        {
         "hoverinfo": "x+text+name",
         "legendgroup": "MA",
         "marker": {
          "color": "rgb(171,221,164)"
         },
         "name": "MA",
         "showlegend": false,
         "text": [
          "0.00%",
          "8.00%",
          "0.00%",
          "8.00%",
          "8.00%",
          "8.00%",
          "0.00%"
         ],
         "type": "bar",
         "uid": "97e890a0-9d23-44b3-af41-3212d936c902",
         "x": [
          "AAP",
          "CD",
          "CEC",
          "CL",
          "CMCT",
          "CSC",
          "SIEE"
         ],
         "xaxis": "x5",
         "y": [
          0,
          8,
          0,
          8,
          8,
          8,
          0
         ],
         "yaxis": "y2"
        },
        {
         "hoverinfo": "x+text+name",
         "legendgroup": "EX",
         "marker": {
          "color": "rgb(43,131,186)"
         },
         "name": "EX",
         "showlegend": false,
         "text": [
          "0.00%",
          "0.00%",
          "0.00%",
          "0.00%",
          "0.00%",
          "0.00%",
          "0.00%"
         ],
         "type": "bar",
         "uid": "7cb25019-7f31-4231-9559-ae5da12d7715",
         "x": [
          "AAP",
          "CD",
          "CEC",
          "CL",
          "CMCT",
          "CSC",
          "SIEE"
         ],
         "xaxis": "x5",
         "y": [
          0,
          0,
          0,
          0,
          0,
          0,
          0
         ],
         "yaxis": "y2"
        },
        {
         "hoverinfo": "x+text+name",
         "legendgroup": "PA",
         "marker": {
          "color": "rgb(215,25,28)"
         },
         "name": "PA",
         "showlegend": false,
         "text": [
          "21.67%",
          "15.33%",
          "10.33%",
          "23.33%",
          "40.00%",
          "14.00%",
          "22.00%"
         ],
         "type": "bar",
         "uid": "d466c4bb-c2be-4899-9b36-0020b353de04",
         "x": [
          "AAP",
          "CD",
          "CEC",
          "CL",
          "CMCT",
          "CSC",
          "SIEE"
         ],
         "xaxis": "x6",
         "y": [
          21.666666666666668,
          15.333333333333334,
          10.333333333333334,
          23.333333333333332,
          40,
          14,
          22
         ],
         "yaxis": "y2"
        },
        {
         "hoverinfo": "x+text+name",
         "legendgroup": "AD",
         "marker": {
          "color": "rgb(253,174,97)"
         },
         "name": "AD",
         "showlegend": false,
         "text": [
          "58.33%",
          "66.00%",
          "68.33%",
          "54.00%",
          "36.00%",
          "63.33%",
          "57.00%"
         ],
         "type": "bar",
         "uid": "d5e0813e-f93a-44c0-9363-1ce8893dd8c2",
         "x": [
          "AAP",
          "CD",
          "CEC",
          "CL",
          "CMCT",
          "CSC",
          "SIEE"
         ],
         "xaxis": "x6",
         "y": [
          58.333333333333336,
          66,
          68.33333333333333,
          54,
          36,
          63.333333333333336,
          57
         ],
         "yaxis": "y2"
        },
        {
         "hoverinfo": "x+text+name",
         "legendgroup": "MA",
         "marker": {
          "color": "rgb(171,221,164)"
         },
         "name": "MA",
         "showlegend": false,
         "text": [
          "14.33%",
          "13.67%",
          "15.67%",
          "15.33%",
          "18.67%",
          "17.00%",
          "15.33%"
         ],
         "type": "bar",
         "uid": "7d6a6ff8-e9ad-4462-8c78-210aefecd1d4",
         "x": [
          "AAP",
          "CD",
          "CEC",
          "CL",
          "CMCT",
          "CSC",
          "SIEE"
         ],
         "xaxis": "x6",
         "y": [
          14.333333333333334,
          13.666666666666666,
          15.666666666666666,
          15.333333333333334,
          18.666666666666668,
          17,
          15.333333333333334
         ],
         "yaxis": "y2"
        },
        {
         "hoverinfo": "x+text+name",
         "legendgroup": "EX",
         "marker": {
          "color": "rgb(43,131,186)"
         },
         "name": "EX",
         "showlegend": false,
         "text": [
          "0.00%",
          "0.00%",
          "0.00%",
          "1.33%",
          "0.00%",
          "0.00%",
          "0.00%"
         ],
         "type": "bar",
         "uid": "60593692-c62a-4234-9e2f-042ef28974f5",
         "x": [
          "AAP",
          "CD",
          "CEC",
          "CL",
          "CMCT",
          "CSC",
          "SIEE"
         ],
         "xaxis": "x6",
         "y": [
          0,
          0,
          0,
          1.3333333333333333,
          0,
          0,
          0
         ],
         "yaxis": "y2"
        }
       ],
       "layout": {
        "annotations": [
         {
          "font": {
           "size": 16
          },
          "showarrow": false,
          "text": "1ESO",
          "x": 0.14444444444444446,
          "xanchor": "center",
          "xref": "paper",
          "y": 1,
          "yanchor": "bottom",
          "yref": "paper"
         },
         {
          "font": {
           "size": 16
          },
          "showarrow": false,
          "text": "2ESO",
          "x": 0.5,
          "xanchor": "center",
          "xref": "paper",
          "y": 1,
          "yanchor": "bottom",
          "yref": "paper"
         },
         {
          "font": {
           "size": 16
          },
          "showarrow": false,
          "text": "1PMAR",
          "x": 0.8555555555555556,
          "xanchor": "center",
          "xref": "paper",
          "y": 1,
          "yanchor": "bottom",
          "yref": "paper"
         },
         {
          "font": {
           "size": 16
          },
          "showarrow": false,
          "text": "3ESO",
          "x": 0.14444444444444446,
          "xanchor": "center",
          "xref": "paper",
          "y": 0.375,
          "yanchor": "bottom",
          "yref": "paper"
         },
         {
          "font": {
           "size": 16
          },
          "showarrow": false,
          "text": "2PMAR",
          "x": 0.5,
          "xanchor": "center",
          "xref": "paper",
          "y": 0.375,
          "yanchor": "bottom",
          "yref": "paper"
         },
         {
          "font": {
           "size": 16
          },
          "showarrow": false,
          "text": "4ESO",
          "x": 0.8555555555555556,
          "xanchor": "center",
          "xref": "paper",
          "y": 0.375,
          "yanchor": "bottom",
          "yref": "paper"
         }
        ],
        "barmode": "group",
        "height": 800,
        "xaxis": {
         "anchor": "y",
         "domain": [
          0,
          0.2888888888888889
         ]
        },
        "xaxis2": {
         "anchor": "free",
         "domain": [
          0.35555555555555557,
          0.6444444444444445
         ],
         "position": 0.625
        },
        "xaxis3": {
         "anchor": "free",
         "domain": [
          0.7111111111111111,
          1
         ],
         "position": 0.625
        },
        "xaxis4": {
         "anchor": "y2",
         "domain": [
          0,
          0.2888888888888889
         ]
        },
        "xaxis5": {
         "anchor": "free",
         "domain": [
          0.35555555555555557,
          0.6444444444444445
         ],
         "position": 0
        },
        "xaxis6": {
         "anchor": "free",
         "domain": [
          0.7111111111111111,
          1
         ],
         "position": 0
        },
        "yaxis": {
         "anchor": "x",
         "domain": [
          0.625,
          1
         ]
        },
        "yaxis2": {
         "anchor": "x4",
         "domain": [
          0,
          0.375
         ]
        }
       }
      },
      "text/html": [
       "<div>\n",
       "        \n",
       "        \n",
       "            <div id=\"88810b3e-8877-4f86-944d-d277fa965b74\" class=\"plotly-graph-div\" style=\"height:800px; width:100%;\"></div>\n",
       "            <script type=\"text/javascript\">\n",
       "                require([\"plotly\"], function(Plotly) {\n",
       "                    window.PLOTLYENV=window.PLOTLYENV || {};\n",
       "                    window.PLOTLYENV.BASE_URL='https://plot.ly';\n",
       "                    \n",
       "                if (document.getElementById(\"88810b3e-8877-4f86-944d-d277fa965b74\")) {\n",
       "                    Plotly.newPlot(\n",
       "                        '88810b3e-8877-4f86-944d-d277fa965b74',\n",
       "                        [{\"hoverinfo\": \"x+text+name\", \"legendgroup\": \"PA\", \"marker\": {\"color\": \"rgb(215,25,28)\"}, \"name\": \"PA\", \"text\": [\"38.50%\", \"17.25%\", \"19.75%\", \"34.25%\", \"49.00%\", \"17.00%\", \"41.50%\"], \"type\": \"bar\", \"uid\": \"e946ea8e-2e93-4285-b772-7eb7af54c75e\", \"x\": [\"AAP\", \"CD\", \"CEC\", \"CL\", \"CMCT\", \"CSC\", \"SIEE\"], \"xaxis\": \"x\", \"y\": [38.5, 17.25, 19.75, 34.25, 49.0, 17.0, 41.5], \"yaxis\": \"y\"}, {\"hoverinfo\": \"x+text+name\", \"legendgroup\": \"AD\", \"marker\": {\"color\": \"rgb(253,174,97)\"}, \"name\": \"AD\", \"text\": [\"37.75%\", \"64.25%\", \"55.00%\", \"45.25%\", \"34.25%\", \"58.00%\", \"38.00%\"], \"type\": \"bar\", \"uid\": \"27146ca5-92f8-4882-a93c-bc7a4751994c\", \"x\": [\"AAP\", \"CD\", \"CEC\", \"CL\", \"CMCT\", \"CSC\", \"SIEE\"], \"xaxis\": \"x\", \"y\": [37.75, 64.25, 55.0, 45.25, 34.25, 58.0, 38.0], \"yaxis\": \"y\"}, {\"hoverinfo\": \"x+text+name\", \"legendgroup\": \"MA\", \"marker\": {\"color\": \"rgb(171,221,164)\"}, \"name\": \"MA\", \"text\": [\"18.75%\", \"16.75%\", \"22.50%\", \"17.00%\", \"14.00%\", \"17.75%\", \"18.50%\"], \"type\": \"bar\", \"uid\": \"fd1d50f4-4e06-4d09-bbcd-a2d0640bb1fd\", \"x\": [\"AAP\", \"CD\", \"CEC\", \"CL\", \"CMCT\", \"CSC\", \"SIEE\"], \"xaxis\": \"x\", \"y\": [18.75, 16.75, 22.5, 17.0, 14.0, 17.75, 18.5], \"yaxis\": \"y\"}, {\"hoverinfo\": \"x+text+name\", \"legendgroup\": \"EX\", \"marker\": {\"color\": \"rgb(43,131,186)\"}, \"name\": \"EX\", \"text\": [\"4.75%\", \"2.00%\", \"2.75%\", \"3.75%\", \"3.00%\", \"7.25%\", \"2.00%\"], \"type\": \"bar\", \"uid\": \"4ae76237-5bd0-4672-bcbc-a7a46b0e51eb\", \"x\": [\"AAP\", \"CD\", \"CEC\", \"CL\", \"CMCT\", \"CSC\", \"SIEE\"], \"xaxis\": \"x\", \"y\": [4.75, 2.0, 2.75, 3.75, 3.0, 7.25, 2.0], \"yaxis\": \"y\"}, {\"hoverinfo\": \"x+text+name\", \"legendgroup\": \"PA\", \"marker\": {\"color\": \"rgb(215,25,28)\"}, \"name\": \"PA\", \"showlegend\": false, \"text\": [\"27.00%\", \"12.50%\", \"20.00%\", \"21.00%\", \"36.50%\", \"16.50%\", \"28.00%\"], \"type\": \"bar\", \"uid\": \"b3889914-64ad-4420-a64c-24629fb7de5a\", \"x\": [\"AAP\", \"CD\", \"CEC\", \"CL\", \"CMCT\", \"CSC\", \"SIEE\"], \"xaxis\": \"x2\", \"y\": [27.0, 12.5, 20.0, 21.0, 36.5, 16.5, 28.0], \"yaxis\": \"y\"}, {\"hoverinfo\": \"x+text+name\", \"legendgroup\": \"AD\", \"marker\": {\"color\": \"rgb(253,174,97)\"}, \"name\": \"AD\", \"showlegend\": false, \"text\": [\"54.00%\", \"69.50%\", \"77.00%\", \"65.50%\", \"45.00%\", \"68.50%\", \"50.00%\"], \"type\": \"bar\", \"uid\": \"171476b8-e9ae-44f2-aa89-185cc98e4cae\", \"x\": [\"AAP\", \"CD\", \"CEC\", \"CL\", \"CMCT\", \"CSC\", \"SIEE\"], \"xaxis\": \"x2\", \"y\": [54.0, 69.5, 77.0, 65.5, 45.0, 68.5, 50.0], \"yaxis\": \"y\"}, {\"hoverinfo\": \"x+text+name\", \"legendgroup\": \"MA\", \"marker\": {\"color\": \"rgb(171,221,164)\"}, \"name\": \"MA\", \"showlegend\": false, \"text\": [\"15.50%\", \"14.50%\", \"0.00%\", \"10.50%\", \"15.50%\", \"11.50%\", \"18.50%\"], \"type\": \"bar\", \"uid\": \"068476f0-ef83-4c39-bcea-9d135b35405e\", \"x\": [\"AAP\", \"CD\", \"CEC\", \"CL\", \"CMCT\", \"CSC\", \"SIEE\"], \"xaxis\": \"x2\", \"y\": [15.5, 14.5, 0.0, 10.5, 15.5, 11.5, 18.5], \"yaxis\": \"y\"}, {\"hoverinfo\": \"x+text+name\", \"legendgroup\": \"EX\", \"marker\": {\"color\": \"rgb(43,131,186)\"}, \"name\": \"EX\", \"showlegend\": false, \"text\": [\"0.00%\", \"0.00%\", \"0.00%\", \"0.00%\", \"0.00%\", \"0.00%\", \"0.00%\"], \"type\": \"bar\", \"uid\": \"9073a031-8f30-4065-8ba4-949ddbf09129\", \"x\": [\"AAP\", \"CD\", \"CEC\", \"CL\", \"CMCT\", \"CSC\", \"SIEE\"], \"xaxis\": \"x2\", \"y\": [0.0, 0.0, 0.0, 0.0, 0.0, 0.0, 0.0], \"yaxis\": \"y\"}, {\"hoverinfo\": \"x+text+name\", \"legendgroup\": \"PA\", \"marker\": {\"color\": \"rgb(215,25,28)\"}, \"name\": \"PA\", \"showlegend\": false, \"text\": [\"62.00%\", \"75.00%\", \"88.00%\", \"50.00%\", \"50.00%\", \"50.00%\", \"75.00%\"], \"type\": \"bar\", \"uid\": \"09de2a39-0ab7-4a21-bad2-d13b40c2a4dc\", \"x\": [\"AAP\", \"CD\", \"CEC\", \"CL\", \"CMCT\", \"CSC\", \"SIEE\"], \"xaxis\": \"x3\", \"y\": [62.0, 75.0, 88.0, 50.0, 50.0, 50.0, 75.0], \"yaxis\": \"y\"}, {\"hoverinfo\": \"x+text+name\", \"legendgroup\": \"AD\", \"marker\": {\"color\": \"rgb(253,174,97)\"}, \"name\": \"AD\", \"showlegend\": false, \"text\": [\"38.00%\", \"25.00%\", \"12.00%\", \"50.00%\", \"50.00%\", \"50.00%\", \"25.00%\"], \"type\": \"bar\", \"uid\": \"25c00e2a-b475-4e29-bacf-6d181e17bb27\", \"x\": [\"AAP\", \"CD\", \"CEC\", \"CL\", \"CMCT\", \"CSC\", \"SIEE\"], \"xaxis\": \"x3\", \"y\": [38.0, 25.0, 12.0, 50.0, 50.0, 50.0, 25.0], \"yaxis\": \"y\"}, {\"hoverinfo\": \"x+text+name\", \"legendgroup\": \"MA\", \"marker\": {\"color\": \"rgb(171,221,164)\"}, \"name\": \"MA\", \"showlegend\": false, \"text\": [\"0.00%\", \"0.00%\", \"0.00%\", \"0.00%\", \"0.00%\", \"0.00%\", \"0.00%\"], \"type\": \"bar\", \"uid\": \"cfec50cc-93d3-45ee-b4f1-c4cd74b345aa\", \"x\": [\"AAP\", \"CD\", \"CEC\", \"CL\", \"CMCT\", \"CSC\", \"SIEE\"], \"xaxis\": \"x3\", \"y\": [0.0, 0.0, 0.0, 0.0, 0.0, 0.0, 0.0], \"yaxis\": \"y\"}, {\"hoverinfo\": \"x+text+name\", \"legendgroup\": \"EX\", \"marker\": {\"color\": \"rgb(43,131,186)\"}, \"name\": \"EX\", \"showlegend\": false, \"text\": [\"0.00%\", \"0.00%\", \"0.00%\", \"0.00%\", \"0.00%\", \"0.00%\", \"0.00%\"], \"type\": \"bar\", \"uid\": \"64cecd2f-a080-45f9-a033-f5fb23502fac\", \"x\": [\"AAP\", \"CD\", \"CEC\", \"CL\", \"CMCT\", \"CSC\", \"SIEE\"], \"xaxis\": \"x3\", \"y\": [0.0, 0.0, 0.0, 0.0, 0.0, 0.0, 0.0], \"yaxis\": \"y\"}, {\"hoverinfo\": \"x+text+name\", \"legendgroup\": \"PA\", \"marker\": {\"color\": \"rgb(215,25,28)\"}, \"name\": \"PA\", \"showlegend\": false, \"text\": [\"48.67%\", \"30.00%\", \"39.67%\", \"47.33%\", \"56.33%\", \"32.00%\", \"51.33%\"], \"type\": \"bar\", \"uid\": \"afb2b0be-6ad7-484c-9a4e-3bc719f167c8\", \"x\": [\"AAP\", \"CD\", \"CEC\", \"CL\", \"CMCT\", \"CSC\", \"SIEE\"], \"xaxis\": \"x4\", \"y\": [48.666666666666664, 30.0, 39.666666666666664, 47.333333333333336, 56.333333333333336, 32.0, 51.333333333333336], \"yaxis\": \"y2\"}, {\"hoverinfo\": \"x+text+name\", \"legendgroup\": \"AD\", \"marker\": {\"color\": \"rgb(253,174,97)\"}, \"name\": \"AD\", \"showlegend\": false, \"text\": [\"34.00%\", \"53.67%\", \"45.33%\", \"38.00%\", \"29.00%\", \"58.00%\", \"39.00%\"], \"type\": \"bar\", \"uid\": \"fb90549d-db17-4753-b99c-c0294da3fb9b\", \"x\": [\"AAP\", \"CD\", \"CEC\", \"CL\", \"CMCT\", \"CSC\", \"SIEE\"], \"xaxis\": \"x4\", \"y\": [34.0, 53.666666666666664, 45.333333333333336, 38.0, 29.0, 58.0, 39.0], \"yaxis\": \"y2\"}, {\"hoverinfo\": \"x+text+name\", \"legendgroup\": \"MA\", \"marker\": {\"color\": \"rgb(171,221,164)\"}, \"name\": \"MA\", \"showlegend\": false, \"text\": [\"16.00%\", \"16.00%\", \"13.67%\", \"14.67%\", \"15.00%\", \"10.00%\", \"8.67%\"], \"type\": \"bar\", \"uid\": \"9bce1c89-e0c7-4e0b-85fb-8d6f4b102c92\", \"x\": [\"AAP\", \"CD\", \"CEC\", \"CL\", \"CMCT\", \"CSC\", \"SIEE\"], \"xaxis\": \"x4\", \"y\": [16.0, 16.0, 13.666666666666666, 14.666666666666666, 15.0, 10.0, 8.666666666666666], \"yaxis\": \"y2\"}, {\"hoverinfo\": \"x+text+name\", \"legendgroup\": \"EX\", \"marker\": {\"color\": \"rgb(43,131,186)\"}, \"name\": \"EX\", \"showlegend\": false, \"text\": [\"1.33%\", \"0.00%\", \"1.33%\", \"0.00%\", \"0.00%\", \"0.00%\", \"1.33%\"], \"type\": \"bar\", \"uid\": \"2f01d0a1-c12c-4cc9-b413-ae8b87944e3c\", \"x\": [\"AAP\", \"CD\", \"CEC\", \"CL\", \"CMCT\", \"CSC\", \"SIEE\"], \"xaxis\": \"x4\", \"y\": [1.3333333333333333, 0.0, 1.3333333333333333, 0.0, 0.0, 0.0, 1.3333333333333333], \"yaxis\": \"y2\"}, {\"hoverinfo\": \"x+text+name\", \"legendgroup\": \"PA\", \"marker\": {\"color\": \"rgb(215,25,28)\"}, \"name\": \"PA\", \"showlegend\": false, \"text\": [\"58.00%\", \"50.00%\", \"33.00%\", \"50.00%\", \"83.00%\", \"50.00%\", \"58.00%\"], \"type\": \"bar\", \"uid\": \"f698e2b8-2548-4220-b513-54dada70df8d\", \"x\": [\"AAP\", \"CD\", \"CEC\", \"CL\", \"CMCT\", \"CSC\", \"SIEE\"], \"xaxis\": \"x5\", \"y\": [58.0, 50.0, 33.0, 50.0, 83.0, 50.0, 58.0], \"yaxis\": \"y2\"}, {\"hoverinfo\": \"x+text+name\", \"legendgroup\": \"AD\", \"marker\": {\"color\": \"rgb(253,174,97)\"}, \"name\": \"AD\", \"showlegend\": false, \"text\": [\"42.00%\", \"42.00%\", \"67.00%\", \"42.00%\", \"8.00%\", \"42.00%\", \"42.00%\"], \"type\": \"bar\", \"uid\": \"c57ab1bc-ae4a-424d-8291-ad58bfe86744\", \"x\": [\"AAP\", \"CD\", \"CEC\", \"CL\", \"CMCT\", \"CSC\", \"SIEE\"], \"xaxis\": \"x5\", \"y\": [42.0, 42.0, 67.0, 42.0, 8.0, 42.0, 42.0], \"yaxis\": \"y2\"}, {\"hoverinfo\": \"x+text+name\", \"legendgroup\": \"MA\", \"marker\": {\"color\": \"rgb(171,221,164)\"}, \"name\": \"MA\", \"showlegend\": false, \"text\": [\"0.00%\", \"8.00%\", \"0.00%\", \"8.00%\", \"8.00%\", \"8.00%\", \"0.00%\"], \"type\": \"bar\", \"uid\": \"c717f774-90dc-4ac5-a1e3-ab68a87c0a19\", \"x\": [\"AAP\", \"CD\", \"CEC\", \"CL\", \"CMCT\", \"CSC\", \"SIEE\"], \"xaxis\": \"x5\", \"y\": [0.0, 8.0, 0.0, 8.0, 8.0, 8.0, 0.0], \"yaxis\": \"y2\"}, {\"hoverinfo\": \"x+text+name\", \"legendgroup\": \"EX\", \"marker\": {\"color\": \"rgb(43,131,186)\"}, \"name\": \"EX\", \"showlegend\": false, \"text\": [\"0.00%\", \"0.00%\", \"0.00%\", \"0.00%\", \"0.00%\", \"0.00%\", \"0.00%\"], \"type\": \"bar\", \"uid\": \"2c966f12-5236-44a4-add7-a0cd73b42975\", \"x\": [\"AAP\", \"CD\", \"CEC\", \"CL\", \"CMCT\", \"CSC\", \"SIEE\"], \"xaxis\": \"x5\", \"y\": [0.0, 0.0, 0.0, 0.0, 0.0, 0.0, 0.0], \"yaxis\": \"y2\"}, {\"hoverinfo\": \"x+text+name\", \"legendgroup\": \"PA\", \"marker\": {\"color\": \"rgb(215,25,28)\"}, \"name\": \"PA\", \"showlegend\": false, \"text\": [\"21.67%\", \"15.33%\", \"10.33%\", \"23.33%\", \"40.00%\", \"14.00%\", \"22.00%\"], \"type\": \"bar\", \"uid\": \"46ac6b11-7e21-4205-a4d0-1cff800f5cf3\", \"x\": [\"AAP\", \"CD\", \"CEC\", \"CL\", \"CMCT\", \"CSC\", \"SIEE\"], \"xaxis\": \"x6\", \"y\": [21.666666666666668, 15.333333333333334, 10.333333333333334, 23.333333333333332, 40.0, 14.0, 22.0], \"yaxis\": \"y2\"}, {\"hoverinfo\": \"x+text+name\", \"legendgroup\": \"AD\", \"marker\": {\"color\": \"rgb(253,174,97)\"}, \"name\": \"AD\", \"showlegend\": false, \"text\": [\"58.33%\", \"66.00%\", \"68.33%\", \"54.00%\", \"36.00%\", \"63.33%\", \"57.00%\"], \"type\": \"bar\", \"uid\": \"ff6fb4ca-efb6-448f-b62f-f22ac123de10\", \"x\": [\"AAP\", \"CD\", \"CEC\", \"CL\", \"CMCT\", \"CSC\", \"SIEE\"], \"xaxis\": \"x6\", \"y\": [58.333333333333336, 66.0, 68.33333333333333, 54.0, 36.0, 63.333333333333336, 57.0], \"yaxis\": \"y2\"}, {\"hoverinfo\": \"x+text+name\", \"legendgroup\": \"MA\", \"marker\": {\"color\": \"rgb(171,221,164)\"}, \"name\": \"MA\", \"showlegend\": false, \"text\": [\"14.33%\", \"13.67%\", \"15.67%\", \"15.33%\", \"18.67%\", \"17.00%\", \"15.33%\"], \"type\": \"bar\", \"uid\": \"c20d7e7c-9939-45eb-996a-2b121bb8e720\", \"x\": [\"AAP\", \"CD\", \"CEC\", \"CL\", \"CMCT\", \"CSC\", \"SIEE\"], \"xaxis\": \"x6\", \"y\": [14.333333333333334, 13.666666666666666, 15.666666666666666, 15.333333333333334, 18.666666666666668, 17.0, 15.333333333333334], \"yaxis\": \"y2\"}, {\"hoverinfo\": \"x+text+name\", \"legendgroup\": \"EX\", \"marker\": {\"color\": \"rgb(43,131,186)\"}, \"name\": \"EX\", \"showlegend\": false, \"text\": [\"0.00%\", \"0.00%\", \"0.00%\", \"1.33%\", \"0.00%\", \"0.00%\", \"0.00%\"], \"type\": \"bar\", \"uid\": \"40412a9c-5009-4487-8a2b-5888f81ab943\", \"x\": [\"AAP\", \"CD\", \"CEC\", \"CL\", \"CMCT\", \"CSC\", \"SIEE\"], \"xaxis\": \"x6\", \"y\": [0.0, 0.0, 0.0, 1.3333333333333333, 0.0, 0.0, 0.0], \"yaxis\": \"y2\"}],\n",
       "                        {\"annotations\": [{\"font\": {\"size\": 16}, \"showarrow\": false, \"text\": \"1ESO\", \"x\": 0.14444444444444446, \"xanchor\": \"center\", \"xref\": \"paper\", \"y\": 1.0, \"yanchor\": \"bottom\", \"yref\": \"paper\"}, {\"font\": {\"size\": 16}, \"showarrow\": false, \"text\": \"2ESO\", \"x\": 0.5, \"xanchor\": \"center\", \"xref\": \"paper\", \"y\": 1.0, \"yanchor\": \"bottom\", \"yref\": \"paper\"}, {\"font\": {\"size\": 16}, \"showarrow\": false, \"text\": \"1PMAR\", \"x\": 0.8555555555555556, \"xanchor\": \"center\", \"xref\": \"paper\", \"y\": 1.0, \"yanchor\": \"bottom\", \"yref\": \"paper\"}, {\"font\": {\"size\": 16}, \"showarrow\": false, \"text\": \"3ESO\", \"x\": 0.14444444444444446, \"xanchor\": \"center\", \"xref\": \"paper\", \"y\": 0.375, \"yanchor\": \"bottom\", \"yref\": \"paper\"}, {\"font\": {\"size\": 16}, \"showarrow\": false, \"text\": \"2PMAR\", \"x\": 0.5, \"xanchor\": \"center\", \"xref\": \"paper\", \"y\": 0.375, \"yanchor\": \"bottom\", \"yref\": \"paper\"}, {\"font\": {\"size\": 16}, \"showarrow\": false, \"text\": \"4ESO\", \"x\": 0.8555555555555556, \"xanchor\": \"center\", \"xref\": \"paper\", \"y\": 0.375, \"yanchor\": \"bottom\", \"yref\": \"paper\"}], \"barmode\": \"group\", \"height\": 800, \"xaxis\": {\"anchor\": \"y\", \"domain\": [0.0, 0.2888888888888889]}, \"xaxis2\": {\"anchor\": \"free\", \"domain\": [0.35555555555555557, 0.6444444444444445], \"position\": 0.625}, \"xaxis3\": {\"anchor\": \"free\", \"domain\": [0.7111111111111111, 1.0], \"position\": 0.625}, \"xaxis4\": {\"anchor\": \"y2\", \"domain\": [0.0, 0.2888888888888889]}, \"xaxis5\": {\"anchor\": \"free\", \"domain\": [0.35555555555555557, 0.6444444444444445], \"position\": 0.0}, \"xaxis6\": {\"anchor\": \"free\", \"domain\": [0.7111111111111111, 1.0], \"position\": 0.0}, \"yaxis\": {\"anchor\": \"x\", \"domain\": [0.625, 1.0]}, \"yaxis2\": {\"anchor\": \"x4\", \"domain\": [0.0, 0.375]}},\n",
       "                        {\"showLink\": false, \"linkText\": \"Export to plot.ly\", \"plotlyServerURL\": \"https://plot.ly\", \"responsive\": true}\n",
       "                    ).then(function(){\n",
       "                            \n",
       "var gd = document.getElementById('88810b3e-8877-4f86-944d-d277fa965b74');\n",
       "var x = new MutationObserver(function (mutations, observer) {{\n",
       "        var display = window.getComputedStyle(gd).display;\n",
       "        if (!display || display === 'none') {{\n",
       "            console.log([gd, 'removed!']);\n",
       "            Plotly.purge(gd);\n",
       "            observer.disconnect();\n",
       "        }}\n",
       "}});\n",
       "\n",
       "// Listen for the removal of the full notebook cells\n",
       "var notebookContainer = gd.closest('#notebook-container');\n",
       "if (notebookContainer) {{\n",
       "    x.observe(notebookContainer, {childList: true});\n",
       "}}\n",
       "\n",
       "// Listen for the clearing of the current output cell\n",
       "var outputEl = gd.closest('.output');\n",
       "if (outputEl) {{\n",
       "    x.observe(outputEl, {childList: true});\n",
       "}}\n",
       "\n",
       "                        })\n",
       "                };\n",
       "                });\n",
       "            </script>\n",
       "        </div>"
      ]
     },
     "metadata": {},
     "output_type": "display_data"
    }
   ],
   "source": [
    "myplotly.bc_bar(dfc_bc)"
   ]
  },
  {
   "cell_type": "markdown",
   "metadata": {},
   "source": [
    "## Análisis simplificado por competencias básicas"
   ]
  },
  {
   "cell_type": "code",
   "execution_count": 28,
   "metadata": {
    "scrolled": true
   },
   "outputs": [],
   "source": [
    "dfc_bc_marked = dfc_bc.groupby(['nivel', 'item']).mean().reset_index().pivot('item', 'nivel', 'marca')"
   ]
  },
  {
   "cell_type": "code",
   "execution_count": 29,
   "metadata": {
    "scrolled": true
   },
   "outputs": [
    {
     "data": {
      "application/vnd.plotly.v1+json": {
       "config": {
        "linkText": "Export to plot.ly",
        "plotlyServerURL": "https://plot.ly",
        "responsive": true,
        "showLink": false
       },
       "data": [
        {
         "colorbar": {
          "ticks": "outside"
         },
         "colorscale": [
          [
           0,
           "rgb(215,25,28)"
          ],
          [
           0.255690072639225,
           "rgb(215,25,28)"
          ],
          [
           0.255690072639225,
           "rgb(253,174,97)"
          ],
          [
           0.8523002421307504,
           "rgb(253,174,97)"
          ],
          [
           0.8523002421307504,
           "rgb(166,217,106)"
          ],
          [
           1,
           "rgb(166,217,106)"
          ]
         ],
         "type": "heatmap",
         "uid": "5c81a261-fff4-4ad8-9794-1f1ee867516c",
         "x": [
          "AAP",
          "CD",
          "CEC",
          "CL",
          "CMCT",
          "CSC",
          "SIEE"
         ],
         "y": [
          "1ESO",
          "1PMAR",
          "2ESO",
          "2PMAR",
          "3ESO",
          "4ESO"
         ],
         "z": [
          [
           4.731250000000001,
           5.1000000000000005,
           5.20625,
           4.76875,
           4.2875000000000005,
           5.3812500000000005,
           4.525
          ],
          [
           3.45,
           3.125,
           2.8000000000000003,
           3.75,
           3.75,
           3.75,
           3.125
          ],
          [
           4.5375,
           4.875,
           4.35,
           4.5875,
           4.325,
           4.7,
           4.5875
          ],
          [
           3.5500000000000003,
           3.95,
           4.175,
           3.95,
           3.075,
           3.95,
           3.5500000000000003
          ],
          [
           4.25,
           4.633333333333334,
           4.416666666666667,
           4.183333333333334,
           3.983333333333333,
           4.45,
           4.016666666666667
          ],
          [
           4.533333333333334,
           4.708333333333333,
           4.85,
           4.566666666666666,
           4.2,
           4.791666666666667,
           4.550000000000001
          ]
         ]
        }
       ],
       "layout": {
        "height": 600,
        "width": 600
       }
      },
      "text/html": [
       "<div>\n",
       "        \n",
       "        \n",
       "            <div id=\"4b54b81a-83f5-48eb-90de-2d839ed20188\" class=\"plotly-graph-div\" style=\"height:600px; width:600px;\"></div>\n",
       "            <script type=\"text/javascript\">\n",
       "                require([\"plotly\"], function(Plotly) {\n",
       "                    window.PLOTLYENV=window.PLOTLYENV || {};\n",
       "                    window.PLOTLYENV.BASE_URL='https://plot.ly';\n",
       "                    \n",
       "                if (document.getElementById(\"4b54b81a-83f5-48eb-90de-2d839ed20188\")) {\n",
       "                    Plotly.newPlot(\n",
       "                        '4b54b81a-83f5-48eb-90de-2d839ed20188',\n",
       "                        [{\"colorbar\": {\"ticks\": \"outside\"}, \"colorscale\": [[0.0, \"rgb(215,25,28)\"], [0.255690072639225, \"rgb(215,25,28)\"], [0.255690072639225, \"rgb(253,174,97)\"], [0.8523002421307504, \"rgb(253,174,97)\"], [0.8523002421307504, \"rgb(166,217,106)\"], [1.0, \"rgb(166,217,106)\"]], \"type\": \"heatmap\", \"uid\": \"d2e1cc08-cfb6-4742-a3f2-2ea5ec326f4f\", \"x\": [\"AAP\", \"CD\", \"CEC\", \"CL\", \"CMCT\", \"CSC\", \"SIEE\"], \"y\": [\"1ESO\", \"1PMAR\", \"2ESO\", \"2PMAR\", \"3ESO\", \"4ESO\"], \"z\": [[4.731250000000001, 5.1000000000000005, 5.20625, 4.76875, 4.2875000000000005, 5.3812500000000005, 4.525], [3.45, 3.125, 2.8000000000000003, 3.75, 3.75, 3.75, 3.125], [4.5375, 4.875, 4.35, 4.5875, 4.325, 4.7, 4.5875], [3.5500000000000003, 3.95, 4.175, 3.95, 3.075, 3.95, 3.5500000000000003], [4.25, 4.633333333333334, 4.416666666666667, 4.183333333333334, 3.983333333333333, 4.45, 4.016666666666667], [4.533333333333334, 4.708333333333333, 4.85, 4.566666666666666, 4.2, 4.791666666666667, 4.550000000000001]]}],\n",
       "                        {\"height\": 600, \"width\": 600},\n",
       "                        {\"showLink\": false, \"linkText\": \"Export to plot.ly\", \"plotlyServerURL\": \"https://plot.ly\", \"responsive\": true}\n",
       "                    ).then(function(){\n",
       "                            \n",
       "var gd = document.getElementById('4b54b81a-83f5-48eb-90de-2d839ed20188');\n",
       "var x = new MutationObserver(function (mutations, observer) {{\n",
       "        var display = window.getComputedStyle(gd).display;\n",
       "        if (!display || display === 'none') {{\n",
       "            console.log([gd, 'removed!']);\n",
       "            Plotly.purge(gd);\n",
       "            observer.disconnect();\n",
       "        }}\n",
       "}});\n",
       "\n",
       "// Listen for the removal of the full notebook cells\n",
       "var notebookContainer = gd.closest('#notebook-container');\n",
       "if (notebookContainer) {{\n",
       "    x.observe(notebookContainer, {childList: true});\n",
       "}}\n",
       "\n",
       "// Listen for the clearing of the current output cell\n",
       "var outputEl = gd.closest('.output');\n",
       "if (outputEl) {{\n",
       "    x.observe(outputEl, {childList: true});\n",
       "}}\n",
       "\n",
       "                        })\n",
       "                };\n",
       "                });\n",
       "            </script>\n",
       "        </div>"
      ]
     },
     "metadata": {},
     "output_type": "display_data"
    }
   ],
   "source": [
    "colors = cl.scales['4']['div']['RdYlGn']\n",
    "q1 = np.quantile(dfc_bc_marked.values, q=0.1)\n",
    "q2 = 5\n",
    "q3 = np.quantile(dfc_bc_marked.values, q=0.9)\n",
    "if q3 > q2:\n",
    "    new_thresholds = [q1, q2, q3]\n",
    "else:\n",
    "    new_thresholds = [q1, q2]\n",
    "thresholds = utils.normalize_thresholds(dfc_bc_marked, new_thresholds)\n",
    "colorscale = utils.make_colorscale(colors, thresholds, discrete=True)\n",
    "\n",
    "myplotly.heatmap(dfc_bc_marked.index, dfc_bc_marked.columns, dfc_bc_marked.values.T, colorscale)"
   ]
  },
  {
   "cell_type": "markdown",
   "metadata": {},
   "source": [
    "### Nivel competencial resumen por nivel"
   ]
  },
  {
   "cell_type": "code",
   "execution_count": 30,
   "metadata": {
    "scrolled": false
   },
   "outputs": [
    {
     "data": {
      "application/vnd.plotly.v1+json": {
       "config": {
        "linkText": "Export to plot.ly",
        "plotlyServerURL": "https://plot.ly",
        "responsive": true,
        "showLink": false
       },
       "data": [
        {
         "marker": {
          "color": [
           "red",
           "red",
           "red",
           "red",
           "red",
           "red"
          ]
         },
         "type": "bar",
         "uid": "f3731e39-f7c4-4a66-932b-e186d3e3458f",
         "x": [
          "1ESO",
          "1PMAR",
          "2ESO",
          "2PMAR",
          "3ESO",
          "4ESO"
         ],
         "y": [
          4.857142857142856,
          3.392857142857143,
          4.566071428571429,
          3.7428571428571433,
          4.276190476190475,
          4.6
         ]
        }
       ],
       "layout": {
        "title": {
         "text": ""
        },
        "yaxis": {
         "range": [
          0,
          10
         ]
        }
       }
      },
      "text/html": [
       "<div>\n",
       "        \n",
       "        \n",
       "            <div id=\"5e27455b-9f96-42fe-9c52-2f5651f818b1\" class=\"plotly-graph-div\" style=\"height:525px; width:100%;\"></div>\n",
       "            <script type=\"text/javascript\">\n",
       "                require([\"plotly\"], function(Plotly) {\n",
       "                    window.PLOTLYENV=window.PLOTLYENV || {};\n",
       "                    window.PLOTLYENV.BASE_URL='https://plot.ly';\n",
       "                    \n",
       "                if (document.getElementById(\"5e27455b-9f96-42fe-9c52-2f5651f818b1\")) {\n",
       "                    Plotly.newPlot(\n",
       "                        '5e27455b-9f96-42fe-9c52-2f5651f818b1',\n",
       "                        [{\"marker\": {\"color\": [\"red\", \"red\", \"red\", \"red\", \"red\", \"red\"]}, \"type\": \"bar\", \"uid\": \"9e3ef930-122a-4e7f-8173-89037c279678\", \"x\": [\"1ESO\", \"1PMAR\", \"2ESO\", \"2PMAR\", \"3ESO\", \"4ESO\"], \"y\": [4.857142857142856, 3.392857142857143, 4.566071428571429, 3.7428571428571433, 4.276190476190475, 4.6]}],\n",
       "                        {\"title\": {\"text\": \"\"}, \"yaxis\": {\"range\": [0, 10]}},\n",
       "                        {\"showLink\": false, \"linkText\": \"Export to plot.ly\", \"plotlyServerURL\": \"https://plot.ly\", \"responsive\": true}\n",
       "                    ).then(function(){\n",
       "                            \n",
       "var gd = document.getElementById('5e27455b-9f96-42fe-9c52-2f5651f818b1');\n",
       "var x = new MutationObserver(function (mutations, observer) {{\n",
       "        var display = window.getComputedStyle(gd).display;\n",
       "        if (!display || display === 'none') {{\n",
       "            console.log([gd, 'removed!']);\n",
       "            Plotly.purge(gd);\n",
       "            observer.disconnect();\n",
       "        }}\n",
       "}});\n",
       "\n",
       "// Listen for the removal of the full notebook cells\n",
       "var notebookContainer = gd.closest('#notebook-container');\n",
       "if (notebookContainer) {{\n",
       "    x.observe(notebookContainer, {childList: true});\n",
       "}}\n",
       "\n",
       "// Listen for the clearing of the current output cell\n",
       "var outputEl = gd.closest('.output');\n",
       "if (outputEl) {{\n",
       "    x.observe(outputEl, {childList: true});\n",
       "}}\n",
       "\n",
       "                        })\n",
       "                };\n",
       "                });\n",
       "            </script>\n",
       "        </div>"
      ]
     },
     "metadata": {},
     "output_type": "display_data"
    }
   ],
   "source": [
    "aux = dfc_bc['marca'].groupby(dfc_bc['nivel']).mean()\n",
    "myplotly.bar_simple(aux.index, aux, is_percentage=False, yaxis_range=[0, 10], mark_colors=True)"
   ]
  },
  {
   "cell_type": "markdown",
   "metadata": {},
   "source": [
    "### Nivel competencial resumen por competencias básicas"
   ]
  },
  {
   "cell_type": "code",
   "execution_count": 31,
   "metadata": {},
   "outputs": [
    {
     "data": {
      "application/vnd.plotly.v1+json": {
       "config": {
        "linkText": "Export to plot.ly",
        "plotlyServerURL": "https://plot.ly",
        "responsive": true,
        "showLink": false
       },
       "data": [
        {
         "marker": {
          "color": [
           "red",
           "red",
           "red",
           "red",
           "red",
           "red",
           "red"
          ]
         },
         "type": "bar",
         "uid": "fc97568e-d12f-45d1-ae33-9c7b5f185fab",
         "x": [
          "AAP",
          "CD",
          "CEC",
          "CL",
          "CMCT",
          "CSC",
          "SIEE"
         ],
         "y": [
          4.382142857142857,
          4.660714285714286,
          4.5928571428571425,
          4.442857142857143,
          4.083928571428571,
          4.739285714285715,
          4.260714285714286
         ]
        }
       ],
       "layout": {
        "title": {
         "text": ""
        },
        "yaxis": {
         "range": [
          0,
          10
         ]
        }
       }
      },
      "text/html": [
       "<div>\n",
       "        \n",
       "        \n",
       "            <div id=\"b637e190-8fb1-435e-857c-bcf2036574ef\" class=\"plotly-graph-div\" style=\"height:525px; width:100%;\"></div>\n",
       "            <script type=\"text/javascript\">\n",
       "                require([\"plotly\"], function(Plotly) {\n",
       "                    window.PLOTLYENV=window.PLOTLYENV || {};\n",
       "                    window.PLOTLYENV.BASE_URL='https://plot.ly';\n",
       "                    \n",
       "                if (document.getElementById(\"b637e190-8fb1-435e-857c-bcf2036574ef\")) {\n",
       "                    Plotly.newPlot(\n",
       "                        'b637e190-8fb1-435e-857c-bcf2036574ef',\n",
       "                        [{\"marker\": {\"color\": [\"red\", \"red\", \"red\", \"red\", \"red\", \"red\", \"red\"]}, \"type\": \"bar\", \"uid\": \"de9a9820-c227-4e63-8222-1a956a4b88f1\", \"x\": [\"AAP\", \"CD\", \"CEC\", \"CL\", \"CMCT\", \"CSC\", \"SIEE\"], \"y\": [4.382142857142857, 4.660714285714286, 4.5928571428571425, 4.442857142857143, 4.083928571428571, 4.739285714285715, 4.260714285714286]}],\n",
       "                        {\"title\": {\"text\": \"\"}, \"yaxis\": {\"range\": [0, 10]}},\n",
       "                        {\"showLink\": false, \"linkText\": \"Export to plot.ly\", \"plotlyServerURL\": \"https://plot.ly\", \"responsive\": true}\n",
       "                    ).then(function(){\n",
       "                            \n",
       "var gd = document.getElementById('b637e190-8fb1-435e-857c-bcf2036574ef');\n",
       "var x = new MutationObserver(function (mutations, observer) {{\n",
       "        var display = window.getComputedStyle(gd).display;\n",
       "        if (!display || display === 'none') {{\n",
       "            console.log([gd, 'removed!']);\n",
       "            Plotly.purge(gd);\n",
       "            observer.disconnect();\n",
       "        }}\n",
       "}});\n",
       "\n",
       "// Listen for the removal of the full notebook cells\n",
       "var notebookContainer = gd.closest('#notebook-container');\n",
       "if (notebookContainer) {{\n",
       "    x.observe(notebookContainer, {childList: true});\n",
       "}}\n",
       "\n",
       "// Listen for the clearing of the current output cell\n",
       "var outputEl = gd.closest('.output');\n",
       "if (outputEl) {{\n",
       "    x.observe(outputEl, {childList: true});\n",
       "}}\n",
       "\n",
       "                        })\n",
       "                };\n",
       "                });\n",
       "            </script>\n",
       "        </div>"
      ]
     },
     "metadata": {},
     "output_type": "display_data"
    }
   ],
   "source": [
    "aux = dfc_bc['marca'].groupby(dfc_bc['item']).mean()\n",
    "myplotly.bar_simple(aux.index, aux, is_percentage=False, yaxis_range=[0, 10], mark_colors=True)"
   ]
  },
  {
   "cell_type": "markdown",
   "metadata": {},
   "source": [
    "### Máximo nivel competencial"
   ]
  },
  {
   "cell_type": "code",
   "execution_count": 32,
   "metadata": {
    "scrolled": false
   },
   "outputs": [
    {
     "data": {
      "text/plain": [
       "item     CSC\n",
       "marca      6\n",
       "Name: ESO1D, dtype: object"
      ]
     },
     "execution_count": 32,
     "metadata": {},
     "output_type": "execute_result"
    }
   ],
   "source": [
    "dfc_bc.iloc[dfc_bc.reset_index()['marca'].idxmax()][['item', 'marca']]"
   ]
  },
  {
   "cell_type": "markdown",
   "metadata": {},
   "source": [
    "### Mínimo nivel competencial"
   ]
  },
  {
   "cell_type": "code",
   "execution_count": 33,
   "metadata": {
    "scrolled": false
   },
   "outputs": [
    {
     "data": {
      "text/plain": [
       "item     CEC\n",
       "marca    2.8\n",
       "Name: ESO2C, dtype: object"
      ]
     },
     "execution_count": 33,
     "metadata": {},
     "output_type": "execute_result"
    }
   ],
   "source": [
    "dfc_bc.iloc[dfc_bc.reset_index()['marca'].idxmin()][['item', 'marca']]"
   ]
  },
  {
   "cell_type": "markdown",
   "metadata": {},
   "source": [
    "## Evolución de los niveles competenciales"
   ]
  },
  {
   "cell_type": "code",
   "execution_count": 34,
   "metadata": {},
   "outputs": [
    {
     "data": {
      "application/vnd.plotly.v1+json": {
       "config": {
        "linkText": "Export to plot.ly",
        "plotlyServerURL": "https://plot.ly",
        "responsive": true,
        "showLink": false
       },
       "data": [
        {
         "hoverinfo": "x+name+text",
         "line": {
          "width": 3
         },
         "marker": {
          "size": 8
         },
         "name": "AAP",
         "text": [
          "4.34",
          "4.72",
          "4.38"
         ],
         "type": "scatter",
         "uid": "45ddaab5-ceee-4881-a59f-1e1d8a34a4bb",
         "x": [
          "C1718",
          "C1819",
          "C1920"
         ],
         "y": [
          4.3403846153846155,
          4.7153846153846155,
          4.382142857142857
         ]
        },
        {
         "hoverinfo": "x+name+text",
         "line": {
          "width": 3
         },
         "marker": {
          "size": 8
         },
         "name": "CD",
         "text": [
          "4.87",
          "4.86",
          "4.66"
         ],
         "type": "scatter",
         "uid": "62ee5bde-1f1d-46c1-9a99-4339c327002a",
         "x": [
          "C1718",
          "C1819",
          "C1920"
         ],
         "y": [
          4.8730769230769235,
          4.855769230769231,
          4.660714285714286
         ]
        },
        {
         "hoverinfo": "x+name+text",
         "line": {
          "width": 3
         },
         "marker": {
          "size": 8
         },
         "name": "CEC",
         "text": [
          "4.89",
          "4.92",
          "4.59"
         ],
         "type": "scatter",
         "uid": "aa9bdb58-a803-4c83-bfc3-829940f90d95",
         "x": [
          "C1718",
          "C1819",
          "C1920"
         ],
         "y": [
          4.890384615384615,
          4.921153846153846,
          4.5928571428571425
         ]
        },
        {
         "hoverinfo": "x+name+text",
         "line": {
          "width": 3
         },
         "marker": {
          "size": 8
         },
         "name": "CL",
         "text": [
          "4.50",
          "4.45",
          "4.44"
         ],
         "type": "scatter",
         "uid": "2159d6f8-1627-4221-9049-91ad218c0457",
         "x": [
          "C1718",
          "C1819",
          "C1920"
         ],
         "y": [
          4.503846153846154,
          4.448076923076924,
          4.442857142857143
         ]
        },
        {
         "hoverinfo": "x+name+text",
         "line": {
          "width": 3
         },
         "marker": {
          "size": 8
         },
         "name": "CMCT",
         "text": [
          "4.43",
          "4.38",
          "4.08"
         ],
         "type": "scatter",
         "uid": "eb56e122-8dda-41e6-bab7-88650eb21d78",
         "x": [
          "C1718",
          "C1819",
          "C1920"
         ],
         "y": [
          4.430769230769231,
          4.3826923076923086,
          4.083928571428571
         ]
        },
        {
         "hoverinfo": "x+name+text",
         "line": {
          "width": 3
         },
         "marker": {
          "size": 8
         },
         "name": "CSC",
         "text": [
          "4.94",
          "4.74",
          "4.74"
         ],
         "type": "scatter",
         "uid": "ab0690aa-6f90-4d25-96ab-472db63e81a3",
         "x": [
          "C1718",
          "C1819",
          "C1920"
         ],
         "y": [
          4.936538461538462,
          4.738461538461538,
          4.739285714285715
         ]
        },
        {
         "hoverinfo": "x+name+text",
         "line": {
          "width": 3
         },
         "marker": {
          "size": 8
         },
         "name": "SIEE",
         "text": [
          "4.52",
          "4.63",
          "4.26"
         ],
         "type": "scatter",
         "uid": "de49a0d0-d686-4f79-a607-7fc3e58abc2e",
         "x": [
          "C1718",
          "C1819",
          "C1920"
         ],
         "y": [
          4.521153846153846,
          4.625000000000001,
          4.260714285714286
         ]
        }
       ],
       "layout": {
        "height": 600,
        "width": 600,
        "xaxis": {
         "title": {
          "text": "Curso escolar"
         }
        },
        "yaxis": {
         "title": {
          "text": "Valoración CCBB"
         }
        }
       }
      },
      "text/html": [
       "<div>\n",
       "        \n",
       "        \n",
       "            <div id=\"6cb10909-1eb5-4a0b-9d70-7ad942bdae77\" class=\"plotly-graph-div\" style=\"height:600px; width:600px;\"></div>\n",
       "            <script type=\"text/javascript\">\n",
       "                require([\"plotly\"], function(Plotly) {\n",
       "                    window.PLOTLYENV=window.PLOTLYENV || {};\n",
       "                    window.PLOTLYENV.BASE_URL='https://plot.ly';\n",
       "                    \n",
       "                if (document.getElementById(\"6cb10909-1eb5-4a0b-9d70-7ad942bdae77\")) {\n",
       "                    Plotly.newPlot(\n",
       "                        '6cb10909-1eb5-4a0b-9d70-7ad942bdae77',\n",
       "                        [{\"hoverinfo\": \"x+name+text\", \"line\": {\"width\": 3}, \"marker\": {\"size\": 8}, \"name\": \"AAP\", \"text\": [\"4.34\", \"4.72\", \"4.38\"], \"type\": \"scatter\", \"uid\": \"fa1cd997-d82f-4800-a2de-78fd33d0e6ac\", \"x\": [\"C1718\", \"C1819\", \"C1920\"], \"y\": [4.3403846153846155, 4.7153846153846155, 4.382142857142857]}, {\"hoverinfo\": \"x+name+text\", \"line\": {\"width\": 3}, \"marker\": {\"size\": 8}, \"name\": \"CD\", \"text\": [\"4.87\", \"4.86\", \"4.66\"], \"type\": \"scatter\", \"uid\": \"9b1565e4-2e37-44c2-9d22-cdc54b1b0e30\", \"x\": [\"C1718\", \"C1819\", \"C1920\"], \"y\": [4.8730769230769235, 4.855769230769231, 4.660714285714286]}, {\"hoverinfo\": \"x+name+text\", \"line\": {\"width\": 3}, \"marker\": {\"size\": 8}, \"name\": \"CEC\", \"text\": [\"4.89\", \"4.92\", \"4.59\"], \"type\": \"scatter\", \"uid\": \"7bb0db57-5ca2-4746-8597-029448bed756\", \"x\": [\"C1718\", \"C1819\", \"C1920\"], \"y\": [4.890384615384615, 4.921153846153846, 4.5928571428571425]}, {\"hoverinfo\": \"x+name+text\", \"line\": {\"width\": 3}, \"marker\": {\"size\": 8}, \"name\": \"CL\", \"text\": [\"4.50\", \"4.45\", \"4.44\"], \"type\": \"scatter\", \"uid\": \"15ba3356-c3bc-4763-9577-47c240c669b5\", \"x\": [\"C1718\", \"C1819\", \"C1920\"], \"y\": [4.503846153846154, 4.448076923076924, 4.442857142857143]}, {\"hoverinfo\": \"x+name+text\", \"line\": {\"width\": 3}, \"marker\": {\"size\": 8}, \"name\": \"CMCT\", \"text\": [\"4.43\", \"4.38\", \"4.08\"], \"type\": \"scatter\", \"uid\": \"6c47532f-829f-4315-a8a5-59fc33e38eab\", \"x\": [\"C1718\", \"C1819\", \"C1920\"], \"y\": [4.430769230769231, 4.3826923076923086, 4.083928571428571]}, {\"hoverinfo\": \"x+name+text\", \"line\": {\"width\": 3}, \"marker\": {\"size\": 8}, \"name\": \"CSC\", \"text\": [\"4.94\", \"4.74\", \"4.74\"], \"type\": \"scatter\", \"uid\": \"64da43e1-e680-4b89-87b2-58e54e44eb66\", \"x\": [\"C1718\", \"C1819\", \"C1920\"], \"y\": [4.936538461538462, 4.738461538461538, 4.739285714285715]}, {\"hoverinfo\": \"x+name+text\", \"line\": {\"width\": 3}, \"marker\": {\"size\": 8}, \"name\": \"SIEE\", \"text\": [\"4.52\", \"4.63\", \"4.26\"], \"type\": \"scatter\", \"uid\": \"0aee7653-a96c-46c8-861f-bbf6cb3f11e0\", \"x\": [\"C1718\", \"C1819\", \"C1920\"], \"y\": [4.521153846153846, 4.625000000000001, 4.260714285714286]}],\n",
       "                        {\"height\": 600, \"width\": 600, \"xaxis\": {\"title\": {\"text\": \"Curso escolar\"}}, \"yaxis\": {\"title\": {\"text\": \"Valoraci\\u00f3n CCBB\"}}},\n",
       "                        {\"showLink\": false, \"linkText\": \"Export to plot.ly\", \"plotlyServerURL\": \"https://plot.ly\", \"responsive\": true}\n",
       "                    ).then(function(){\n",
       "                            \n",
       "var gd = document.getElementById('6cb10909-1eb5-4a0b-9d70-7ad942bdae77');\n",
       "var x = new MutationObserver(function (mutations, observer) {{\n",
       "        var display = window.getComputedStyle(gd).display;\n",
       "        if (!display || display === 'none') {{\n",
       "            console.log([gd, 'removed!']);\n",
       "            Plotly.purge(gd);\n",
       "            observer.disconnect();\n",
       "        }}\n",
       "}});\n",
       "\n",
       "// Listen for the removal of the full notebook cells\n",
       "var notebookContainer = gd.closest('#notebook-container');\n",
       "if (notebookContainer) {{\n",
       "    x.observe(notebookContainer, {childList: true});\n",
       "}}\n",
       "\n",
       "// Listen for the clearing of the current output cell\n",
       "var outputEl = gd.closest('.output');\n",
       "if (outputEl) {{\n",
       "    x.observe(outputEl, {childList: true});\n",
       "}}\n",
       "\n",
       "                        })\n",
       "                };\n",
       "                });\n",
       "            </script>\n",
       "        </div>"
      ]
     },
     "metadata": {},
     "output_type": "display_data"
    }
   ],
   "source": [
    "# filter by evaluation\n",
    "df_bc_same_eval = df_bc.xs(labels[-1][1], level='evaluación')\n",
    "myplotly.bc_evolution(df_bc_same_eval)"
   ]
  },
  {
   "cell_type": "code",
   "execution_count": 35,
   "metadata": {},
   "outputs": [],
   "source": [
    "if EVALUATION > 1:\n",
    "    display(HTML('<h2>Evolución competencial con respecto a la evaluación anterior</h2>'))\n",
    "    \n",
    "    df_bc_comp['delta'] = df_bc_comp['marca_x'] - df_bc_comp['marca_y']\n",
    "    df_bc_comp_marked = df_bc_comp.groupby(['nivel_x', 'item']).mean().reset_index().pivot('item', 'nivel_x', 'delta')\n",
    "\n",
    "    min_diff_value = df_bc_comp_marked.values.min()\n",
    "    max_diff_value = df_bc_comp_marked.values.max()\n",
    "    print(f'El valor mínimo del diferencial es: {min_diff_value}')\n",
    "    print(f'El valor máximo del diferencial es: {max_diff_value}')\n",
    "    \n",
    "    values = input('Introduzca los 3 valores umbral (entre máximo y mínimo) separados por comas para la escala de colores:')\n",
    "    thresholds = [float(v) for v in re.split(' *, *', values)]\n",
    "\n",
    "    colors = cl.scales['4']['div']['RdYlGn']\n",
    "    thresholds = utils.normalize_thresholds(df_bc_comp_marked, thresholds)\n",
    "    colorscale = utils.make_colorscale(colors, thresholds=thresholds, discrete=True)\n",
    "\n",
    "    myplotly.heatmap(df_bc_comp_marked.index, df_bc_comp_marked.columns, df_bc_comp_marked.values.T, colorscale)"
   ]
  },
  {
   "cell_type": "markdown",
   "metadata": {},
   "source": [
    "## Correlación entre competencias básicas"
   ]
  },
  {
   "cell_type": "markdown",
   "metadata": {},
   "source": [
    "> Se considera que dos variables cuantitativas están correlacionadas cuando los valores de una de ellas varían sistemáticamente con respecto a los valores homónimos de la otra: si tenemos dos variables (A y B) existe correlación entre ellas si al disminuir los valores de A lo hacen también los de B y viceversa. La correlación entre dos variables no implica, por sí misma, ninguna relación de causalidad.\n",
    "\n",
    "Fuente: [Wikipedia](https://es.wikipedia.org/wiki/Correlaci%C3%B3n)"
   ]
  },
  {
   "cell_type": "code",
   "execution_count": 36,
   "metadata": {},
   "outputs": [
    {
     "data": {
      "application/vnd.plotly.v1+json": {
       "config": {
        "linkText": "Export to plot.ly",
        "plotlyServerURL": "https://plot.ly",
        "responsive": true,
        "showLink": false
       },
       "data": [
        {
         "colorbar": {
          "ticks": "outside"
         },
         "colorscale": [
          [
           0,
           "rgb(197,27,125)"
          ],
          [
           0.14285714285714285,
           "rgb(222,119,174)"
          ],
          [
           0.2857142857142857,
           "rgb(241,182,218)"
          ],
          [
           0.42857142857142855,
           "rgb(253,224,239)"
          ],
          [
           0.5714285714285714,
           "rgb(230,245,208)"
          ],
          [
           0.7142857142857142,
           "rgb(184,225,134)"
          ],
          [
           0.8571428571428571,
           "rgb(127,188,65)"
          ],
          [
           1,
           "rgb(77,146,33)"
          ]
         ],
         "type": "heatmap",
         "uid": "d535fddb-34f4-4e60-9af8-a2bfb3ae6f4a",
         "x": [
          "AAP",
          "CD",
          "CEC",
          "CL",
          "CMCT",
          "CSC",
          "SIEE"
         ],
         "y": [
          "AAP",
          "CD",
          "CEC",
          "CL",
          "CMCT",
          "CSC",
          "SIEE"
         ],
         "z": [
          [
           null,
           0.7979581726111534,
           0.725987042064368,
           0.8449877315187009,
           0.6913104170410097,
           0.8329798288889888,
           0.8924640102123588
          ],
          [
           null,
           null,
           0.8269817466092441,
           0.7105438370506634,
           0.6635492574095196,
           0.7998388628993065,
           0.7695702362436688
          ],
          [
           null,
           null,
           null,
           0.7405385438157704,
           0.3546610209286865,
           0.8789806759775143,
           0.7271424630891955
          ],
          [
           null,
           null,
           null,
           null,
           0.4640083848499614,
           0.8530534149195521,
           0.8746051943668927
          ],
          [
           null,
           null,
           null,
           null,
           null,
           0.49723940910928,
           0.5874894562272945
          ],
          [
           null,
           null,
           null,
           null,
           null,
           null,
           0.8228929024555719
          ],
          [
           null,
           null,
           null,
           null,
           null,
           null,
           null
          ]
         ]
        }
       ],
       "layout": {
        "height": 600,
        "width": 600
       }
      },
      "text/html": [
       "<div>\n",
       "        \n",
       "        \n",
       "            <div id=\"211d9a35-ef57-4621-8a5a-136d2a87cc8f\" class=\"plotly-graph-div\" style=\"height:600px; width:600px;\"></div>\n",
       "            <script type=\"text/javascript\">\n",
       "                require([\"plotly\"], function(Plotly) {\n",
       "                    window.PLOTLYENV=window.PLOTLYENV || {};\n",
       "                    window.PLOTLYENV.BASE_URL='https://plot.ly';\n",
       "                    \n",
       "                if (document.getElementById(\"211d9a35-ef57-4621-8a5a-136d2a87cc8f\")) {\n",
       "                    Plotly.newPlot(\n",
       "                        '211d9a35-ef57-4621-8a5a-136d2a87cc8f',\n",
       "                        [{\"colorbar\": {\"ticks\": \"outside\"}, \"colorscale\": [[0.0, \"rgb(197,27,125)\"], [0.14285714285714285, \"rgb(222,119,174)\"], [0.2857142857142857, \"rgb(241,182,218)\"], [0.42857142857142855, \"rgb(253,224,239)\"], [0.5714285714285714, \"rgb(230,245,208)\"], [0.7142857142857142, \"rgb(184,225,134)\"], [0.8571428571428571, \"rgb(127,188,65)\"], [1.0, \"rgb(77,146,33)\"]], \"type\": \"heatmap\", \"uid\": \"ed06e4a9-7da9-4875-beca-b88e81c89396\", \"x\": [\"AAP\", \"CD\", \"CEC\", \"CL\", \"CMCT\", \"CSC\", \"SIEE\"], \"y\": [\"AAP\", \"CD\", \"CEC\", \"CL\", \"CMCT\", \"CSC\", \"SIEE\"], \"z\": [[null, 0.7979581726111534, 0.725987042064368, 0.8449877315187009, 0.6913104170410097, 0.8329798288889888, 0.8924640102123588], [null, null, 0.8269817466092441, 0.7105438370506634, 0.6635492574095196, 0.7998388628993065, 0.7695702362436688], [null, null, null, 0.7405385438157704, 0.3546610209286865, 0.8789806759775143, 0.7271424630891955], [null, null, null, null, 0.4640083848499614, 0.8530534149195521, 0.8746051943668927], [null, null, null, null, null, 0.49723940910928, 0.5874894562272945], [null, null, null, null, null, null, 0.8228929024555719], [null, null, null, null, null, null, null]]}],\n",
       "                        {\"height\": 600, \"width\": 600},\n",
       "                        {\"showLink\": false, \"linkText\": \"Export to plot.ly\", \"plotlyServerURL\": \"https://plot.ly\", \"responsive\": true}\n",
       "                    ).then(function(){\n",
       "                            \n",
       "var gd = document.getElementById('211d9a35-ef57-4621-8a5a-136d2a87cc8f');\n",
       "var x = new MutationObserver(function (mutations, observer) {{\n",
       "        var display = window.getComputedStyle(gd).display;\n",
       "        if (!display || display === 'none') {{\n",
       "            console.log([gd, 'removed!']);\n",
       "            Plotly.purge(gd);\n",
       "            observer.disconnect();\n",
       "        }}\n",
       "}});\n",
       "\n",
       "// Listen for the removal of the full notebook cells\n",
       "var notebookContainer = gd.closest('#notebook-container');\n",
       "if (notebookContainer) {{\n",
       "    x.observe(notebookContainer, {childList: true});\n",
       "}}\n",
       "\n",
       "// Listen for the clearing of the current output cell\n",
       "var outputEl = gd.closest('.output');\n",
       "if (outputEl) {{\n",
       "    x.observe(outputEl, {childList: true});\n",
       "}}\n",
       "\n",
       "                        })\n",
       "                };\n",
       "                });\n",
       "            </script>\n",
       "        </div>"
      ]
     },
     "metadata": {},
     "output_type": "display_data"
    }
   ],
   "source": [
    "aux = dfc_bc.reset_index().pivot(index='grupo', columns='item', values='marca').corr()\n",
    "aux.values[np.triu_indices(aux.shape[0])] = np.NaN\n",
    "\n",
    "colorscale = utils.make_colorscale(cl.scales['8']['div']['PiYG'])\n",
    "myplotly.heatmap(aux.index, aux.columns, aux.values.T, colorscale=colorscale)"
   ]
  },
  {
   "cell_type": "markdown",
   "metadata": {},
   "source": [
    "## Mejores y peores valoraciones de competencias básicas por grupo"
   ]
  },
  {
   "cell_type": "code",
   "execution_count": 37,
   "metadata": {
    "scrolled": true
   },
   "outputs": [
    {
     "data": {
      "application/vnd.plotly.v1+json": {
       "config": {
        "linkText": "Export to plot.ly",
        "plotlyServerURL": "https://plot.ly",
        "responsive": true,
        "showLink": false
       },
       "data": [
        {
         "marker": {
          "color": "green",
          "size": [
           15,
           16.575000000000003,
           16.05,
           18,
           15.3,
           14.849999999999998,
           11.25,
           14.475000000000001,
           14.399999999999999,
           14.025000000000002,
           12.524999999999999,
           14.475000000000001,
           15.825,
           14.174999999999999
          ]
         },
         "mode": "markers",
         "name": "Mejor valoración",
         "text": [
          5,
          5.52,
          5.35,
          6,
          5.1,
          4.95,
          3.75,
          4.82,
          4.8,
          4.68,
          4.18,
          4.82,
          5.28,
          4.72
         ],
         "type": "scatter",
         "uid": "b57ba888-663e-44bd-b722-bb62ddefe6af",
         "x": [
          "ESO1A",
          "ESO1B",
          "ESO1C",
          "ESO1D",
          "ESO2A",
          "ESO2B",
          "ESO2C",
          "ESO3A",
          "ESO3B",
          "ESO3C",
          "ESO3D",
          "ESO4A",
          "ESO4B",
          "ESO4C"
         ],
         "y": [
          "CSC",
          "CEC",
          "CSC",
          "CSC",
          "CL",
          "CD",
          "CL",
          "CEC",
          "CD",
          "CD",
          "CEC",
          "CD",
          "CEC",
          "CEC"
         ]
        },
        {
         "marker": {
          "color": "red",
          "size": [
           12.600000000000001,
           12.375,
           12.600000000000001,
           13.275000000000002,
           12.75,
           12.225000000000001,
           8.4,
           10.799999999999999,
           12,
           11.774999999999999,
           9.225000000000001,
           13.05,
           14.100000000000001,
           9.825
          ]
         },
         "mode": "markers",
         "name": "Peor valoración",
         "text": [
          4.2,
          4.12,
          4.2,
          4.43,
          4.25,
          4.08,
          2.8,
          3.6,
          4,
          3.92,
          3.08,
          4.35,
          4.7,
          3.28
         ],
         "type": "scatter",
         "uid": "f4cad913-55de-440d-be20-89484d9e666d",
         "x": [
          "ESO1A",
          "ESO1B",
          "ESO1C",
          "ESO1D",
          "ESO2A",
          "ESO2B",
          "ESO2C",
          "ESO3A",
          "ESO3B",
          "ESO3C",
          "ESO3D",
          "ESO4A",
          "ESO4B",
          "ESO4C"
         ],
         "y": [
          "CMCT",
          "SIEE",
          "CMCT",
          "CMCT",
          "CMCT",
          "CL",
          "CEC",
          "CMCT",
          "SIEE",
          "CMCT",
          "CMCT",
          "SIEE",
          "CL",
          "CMCT"
         ]
        }
       ],
       "layout": {
        "height": 600,
        "hovermode": "closest",
        "width": 600
       }
      },
      "text/html": [
       "<div>\n",
       "        \n",
       "        \n",
       "            <div id=\"337a235c-fcfc-4d67-a627-5d37ce5bf0e8\" class=\"plotly-graph-div\" style=\"height:600px; width:600px;\"></div>\n",
       "            <script type=\"text/javascript\">\n",
       "                require([\"plotly\"], function(Plotly) {\n",
       "                    window.PLOTLYENV=window.PLOTLYENV || {};\n",
       "                    window.PLOTLYENV.BASE_URL='https://plot.ly';\n",
       "                    \n",
       "                if (document.getElementById(\"337a235c-fcfc-4d67-a627-5d37ce5bf0e8\")) {\n",
       "                    Plotly.newPlot(\n",
       "                        '337a235c-fcfc-4d67-a627-5d37ce5bf0e8',\n",
       "                        [{\"marker\": {\"color\": \"green\", \"size\": [15.0, 16.575000000000003, 16.05, 18.0, 15.3, 14.849999999999998, 11.25, 14.475000000000001, 14.399999999999999, 14.025000000000002, 12.524999999999999, 14.475000000000001, 15.825, 14.174999999999999]}, \"mode\": \"markers\", \"name\": \"Mejor valoraci\\u00f3n\", \"text\": [5.0, 5.52, 5.35, 6.0, 5.1, 4.95, 3.75, 4.82, 4.8, 4.68, 4.18, 4.82, 5.28, 4.72], \"type\": \"scatter\", \"uid\": \"8efaf71e-0b2a-49ac-a519-11887fe52dba\", \"x\": [\"ESO1A\", \"ESO1B\", \"ESO1C\", \"ESO1D\", \"ESO2A\", \"ESO2B\", \"ESO2C\", \"ESO3A\", \"ESO3B\", \"ESO3C\", \"ESO3D\", \"ESO4A\", \"ESO4B\", \"ESO4C\"], \"y\": [\"CSC\", \"CEC\", \"CSC\", \"CSC\", \"CL\", \"CD\", \"CL\", \"CEC\", \"CD\", \"CD\", \"CEC\", \"CD\", \"CEC\", \"CEC\"]}, {\"marker\": {\"color\": \"red\", \"size\": [12.600000000000001, 12.375, 12.600000000000001, 13.275000000000002, 12.75, 12.225000000000001, 8.4, 10.799999999999999, 12.0, 11.774999999999999, 9.225000000000001, 13.05, 14.100000000000001, 9.825]}, \"mode\": \"markers\", \"name\": \"Peor valoraci\\u00f3n\", \"text\": [4.2, 4.12, 4.2, 4.43, 4.25, 4.08, 2.8, 3.6, 4.0, 3.92, 3.08, 4.35, 4.7, 3.28], \"type\": \"scatter\", \"uid\": \"f10c073f-6071-4a12-a049-544b66fbbb6d\", \"x\": [\"ESO1A\", \"ESO1B\", \"ESO1C\", \"ESO1D\", \"ESO2A\", \"ESO2B\", \"ESO2C\", \"ESO3A\", \"ESO3B\", \"ESO3C\", \"ESO3D\", \"ESO4A\", \"ESO4B\", \"ESO4C\"], \"y\": [\"CMCT\", \"SIEE\", \"CMCT\", \"CMCT\", \"CMCT\", \"CL\", \"CEC\", \"CMCT\", \"SIEE\", \"CMCT\", \"CMCT\", \"SIEE\", \"CL\", \"CMCT\"]}],\n",
       "                        {\"height\": 600, \"hovermode\": \"closest\", \"width\": 600},\n",
       "                        {\"showLink\": false, \"linkText\": \"Export to plot.ly\", \"plotlyServerURL\": \"https://plot.ly\", \"responsive\": true}\n",
       "                    ).then(function(){\n",
       "                            \n",
       "var gd = document.getElementById('337a235c-fcfc-4d67-a627-5d37ce5bf0e8');\n",
       "var x = new MutationObserver(function (mutations, observer) {{\n",
       "        var display = window.getComputedStyle(gd).display;\n",
       "        if (!display || display === 'none') {{\n",
       "            console.log([gd, 'removed!']);\n",
       "            Plotly.purge(gd);\n",
       "            observer.disconnect();\n",
       "        }}\n",
       "}});\n",
       "\n",
       "// Listen for the removal of the full notebook cells\n",
       "var notebookContainer = gd.closest('#notebook-container');\n",
       "if (notebookContainer) {{\n",
       "    x.observe(notebookContainer, {childList: true});\n",
       "}}\n",
       "\n",
       "// Listen for the clearing of the current output cell\n",
       "var outputEl = gd.closest('.output');\n",
       "if (outputEl) {{\n",
       "    x.observe(outputEl, {childList: true});\n",
       "}}\n",
       "\n",
       "                        })\n",
       "                };\n",
       "                });\n",
       "            </script>\n",
       "        </div>"
      ]
     },
     "metadata": {},
     "output_type": "display_data"
    }
   ],
   "source": [
    "myplotly.bc_extremes(dfc_bc)"
   ]
  },
  {
   "cell_type": "markdown",
   "metadata": {},
   "source": [
    "# ABSENTISMO"
   ]
  },
  {
   "cell_type": "markdown",
   "metadata": {},
   "source": [
    "<div class=\"alert alert-success\" role=\"alert\">\n",
    "    ABSENTISMO = <b>Faltas justificadas + Faltas injustificadas</b>\n",
    "</div>\n",
    "\n",
    "**Se va a estudiar el ABSENTISMO ACUMULADO desde el 1 de septiembre hasta la fecha de finalización del trimestre de análisis.**"
   ]
  },
  {
   "cell_type": "markdown",
   "metadata": {},
   "source": [
    "## ABSENTISMO TOTAL vs ABSENTISMO JUSTIFICADO"
   ]
  },
  {
   "cell_type": "code",
   "execution_count": 38,
   "metadata": {},
   "outputs": [
    {
     "data": {
      "application/vnd.plotly.v1+json": {
       "config": {
        "linkText": "Export to plot.ly",
        "plotlyServerURL": "https://plot.ly",
        "responsive": true,
        "showLink": false
       },
       "data": [
        {
         "marker": {
          "color": "rgb(166,206,227)"
         },
         "name": "Abs. Total (%)",
         "orientation": "h",
         "type": "bar",
         "uid": "8a4dbb74-ed2d-4129-bdc1-d227b7155073",
         "x": [
          3.48,
          4.86,
          3.5300000000000002,
          6.32,
          4.56,
          3.5500000000000003,
          11.88,
          4.97,
          6.61,
          5.01,
          6.17,
          5.34,
          5.13,
          9.14,
          23.29,
          26.72,
          4.02,
          8.77,
          5.53,
          6.27,
          20.75,
          15.290000000000001,
          20.919999999999998,
          19.83,
          14.93,
          11.08,
          10.43,
          12.76,
          13.27,
          10.97,
          9.73,
          8.1,
          7.66,
          10.84,
          7.1000000000000005,
          18.02
         ],
         "y": [
          "ESO1A",
          "ESO1B",
          "ESO1C",
          "ESO1D",
          "ESO2A",
          "ESO2B",
          "ESO2C",
          "ESO3A",
          "ESO3B",
          "ESO3C",
          "ESO3D",
          "ESO4A",
          "ESO4B",
          "ESO4C",
          "1FPB",
          "2FPB",
          "1CIE",
          "1SOC",
          "2CIE",
          "2SOC",
          "1TEL",
          "1ELE",
          "1CAR",
          "2TEL",
          "2ELE",
          "2CAR",
          "1ARI",
          "1ALO",
          "1GIT",
          "1ASR",
          "1DAW",
          "2ARI",
          "2ALO",
          "2GIT",
          "2ASR",
          "2DAW"
         ]
        },
        {
         "marker": {
          "color": "rgb(31,120,180)"
         },
         "name": "Abs. Justificado (%)",
         "orientation": "h",
         "type": "bar",
         "uid": "75b5e781-7301-480b-b31a-b146159e63c0",
         "x": [
          1.02,
          0.89,
          0.72,
          1.49,
          0.66,
          0.83,
          2.06,
          2.07,
          1.7,
          2.71,
          2.49,
          2.61,
          3.28,
          2.81,
          4.88,
          9.62,
          2.08,
          2.12,
          1.83,
          2.17,
          3.09,
          1.9,
          3.47,
          3.45,
          2.34,
          2.36,
          2.71,
          1.66,
          3.91,
          1.56,
          3.81,
          1.77,
          1.98,
          2.7,
          1.74,
          1.79
         ],
         "y": [
          "ESO1A",
          "ESO1B",
          "ESO1C",
          "ESO1D",
          "ESO2A",
          "ESO2B",
          "ESO2C",
          "ESO3A",
          "ESO3B",
          "ESO3C",
          "ESO3D",
          "ESO4A",
          "ESO4B",
          "ESO4C",
          "1FPB",
          "2FPB",
          "1CIE",
          "1SOC",
          "2CIE",
          "2SOC",
          "1TEL",
          "1ELE",
          "1CAR",
          "2TEL",
          "2ELE",
          "2CAR",
          "1ARI",
          "1ALO",
          "1GIT",
          "1ASR",
          "1DAW",
          "2ARI",
          "2ALO",
          "2GIT",
          "2ASR",
          "2DAW"
         ]
        }
       ],
       "layout": {
        "barmode": "overlay",
        "height": 1000,
        "title": {
         "text": ""
        },
        "width": 700,
        "yaxis": {
         "autorange": "reversed",
         "type": "category"
        }
       }
      },
      "text/html": [
       "<div>\n",
       "        \n",
       "        \n",
       "            <div id=\"dfe11979-4264-4824-a339-7ce984db6094\" class=\"plotly-graph-div\" style=\"height:1000px; width:700px;\"></div>\n",
       "            <script type=\"text/javascript\">\n",
       "                require([\"plotly\"], function(Plotly) {\n",
       "                    window.PLOTLYENV=window.PLOTLYENV || {};\n",
       "                    window.PLOTLYENV.BASE_URL='https://plot.ly';\n",
       "                    \n",
       "                if (document.getElementById(\"dfe11979-4264-4824-a339-7ce984db6094\")) {\n",
       "                    Plotly.newPlot(\n",
       "                        'dfe11979-4264-4824-a339-7ce984db6094',\n",
       "                        [{\"marker\": {\"color\": \"rgb(166,206,227)\"}, \"name\": \"Abs. Total (%)\", \"orientation\": \"h\", \"type\": \"bar\", \"uid\": \"9ea3f25e-da74-4b8e-9676-e33fa45af8da\", \"x\": [3.48, 4.86, 3.5300000000000002, 6.32, 4.56, 3.5500000000000003, 11.88, 4.97, 6.61, 5.01, 6.17, 5.34, 5.13, 9.14, 23.29, 26.72, 4.02, 8.77, 5.53, 6.27, 20.75, 15.290000000000001, 20.919999999999998, 19.83, 14.93, 11.08, 10.43, 12.76, 13.27, 10.97, 9.73, 8.1, 7.66, 10.84, 7.1000000000000005, 18.02], \"y\": [\"ESO1A\", \"ESO1B\", \"ESO1C\", \"ESO1D\", \"ESO2A\", \"ESO2B\", \"ESO2C\", \"ESO3A\", \"ESO3B\", \"ESO3C\", \"ESO3D\", \"ESO4A\", \"ESO4B\", \"ESO4C\", \"1FPB\", \"2FPB\", \"1CIE\", \"1SOC\", \"2CIE\", \"2SOC\", \"1TEL\", \"1ELE\", \"1CAR\", \"2TEL\", \"2ELE\", \"2CAR\", \"1ARI\", \"1ALO\", \"1GIT\", \"1ASR\", \"1DAW\", \"2ARI\", \"2ALO\", \"2GIT\", \"2ASR\", \"2DAW\"]}, {\"marker\": {\"color\": \"rgb(31,120,180)\"}, \"name\": \"Abs. Justificado (%)\", \"orientation\": \"h\", \"type\": \"bar\", \"uid\": \"c106e483-c2d9-4520-8fdb-cfaaa357f6f9\", \"x\": [1.02, 0.89, 0.72, 1.49, 0.66, 0.83, 2.06, 2.07, 1.7, 2.71, 2.49, 2.61, 3.28, 2.81, 4.88, 9.62, 2.08, 2.12, 1.83, 2.17, 3.09, 1.9, 3.47, 3.45, 2.34, 2.36, 2.71, 1.66, 3.91, 1.56, 3.81, 1.77, 1.98, 2.7, 1.74, 1.79], \"y\": [\"ESO1A\", \"ESO1B\", \"ESO1C\", \"ESO1D\", \"ESO2A\", \"ESO2B\", \"ESO2C\", \"ESO3A\", \"ESO3B\", \"ESO3C\", \"ESO3D\", \"ESO4A\", \"ESO4B\", \"ESO4C\", \"1FPB\", \"2FPB\", \"1CIE\", \"1SOC\", \"2CIE\", \"2SOC\", \"1TEL\", \"1ELE\", \"1CAR\", \"2TEL\", \"2ELE\", \"2CAR\", \"1ARI\", \"1ALO\", \"1GIT\", \"1ASR\", \"1DAW\", \"2ARI\", \"2ALO\", \"2GIT\", \"2ASR\", \"2DAW\"]}],\n",
       "                        {\"barmode\": \"overlay\", \"height\": 1000, \"title\": {\"text\": \"\"}, \"width\": 700, \"yaxis\": {\"autorange\": \"reversed\", \"type\": \"category\"}},\n",
       "                        {\"showLink\": false, \"linkText\": \"Export to plot.ly\", \"plotlyServerURL\": \"https://plot.ly\", \"responsive\": true}\n",
       "                    ).then(function(){\n",
       "                            \n",
       "var gd = document.getElementById('dfe11979-4264-4824-a339-7ce984db6094');\n",
       "var x = new MutationObserver(function (mutations, observer) {{\n",
       "        var display = window.getComputedStyle(gd).display;\n",
       "        if (!display || display === 'none') {{\n",
       "            console.log([gd, 'removed!']);\n",
       "            Plotly.purge(gd);\n",
       "            observer.disconnect();\n",
       "        }}\n",
       "}});\n",
       "\n",
       "// Listen for the removal of the full notebook cells\n",
       "var notebookContainer = gd.closest('#notebook-container');\n",
       "if (notebookContainer) {{\n",
       "    x.observe(notebookContainer, {childList: true});\n",
       "}}\n",
       "\n",
       "// Listen for the clearing of the current output cell\n",
       "var outputEl = gd.closest('.output');\n",
       "if (outputEl) {{\n",
       "    x.observe(outputEl, {childList: true});\n",
       "}}\n",
       "\n",
       "                        })\n",
       "                };\n",
       "                });\n",
       "            </script>\n",
       "        </div>"
      ]
     },
     "metadata": {},
     "output_type": "display_data"
    }
   ],
   "source": [
    "myplotly.hbar((dfc['absentismo'], dfc['absentismo_justificado']), dfc.index,\n",
    "              trace_names=('Abs. Total (%)', 'Abs. Justificado (%)'))"
   ]
  },
  {
   "cell_type": "markdown",
   "metadata": {},
   "source": [
    "## ESO"
   ]
  },
  {
   "cell_type": "code",
   "execution_count": 39,
   "metadata": {
    "scrolled": true
   },
   "outputs": [
    {
     "data": {
      "application/vnd.plotly.v1+json": {
       "config": {
        "linkText": "Export to plot.ly",
        "plotlyServerURL": "https://plot.ly",
        "responsive": true,
        "showLink": false
       },
       "data": [
        {
         "hoverinfo": "x+text",
         "marker": {
          "color": [
           3.48,
           4.86,
           3.5300000000000002,
           6.32,
           4.56,
           3.5500000000000003,
           11.88,
           4.97,
           6.61,
           5.01,
           6.17,
           5.34,
           5.13,
           9.14
          ],
          "colorscale": [
           [
            0,
            "rgb(252,174,145)"
           ],
           [
            0.3333333333333333,
            "rgb(251,106,74)"
           ],
           [
            0.6666666666666666,
            "rgb(222,45,38)"
           ],
           [
            1,
            "rgb(165,15,21)"
           ]
          ]
         },
         "text": [
          "3.48%",
          "4.86%",
          "3.53%",
          "6.32%",
          "4.56%",
          "3.55%",
          "11.88%",
          "4.97%",
          "6.61%",
          "5.01%",
          "6.17%",
          "5.34%",
          "5.13%",
          "9.14%"
         ],
         "type": "bar",
         "uid": "10695aef-9faf-43d9-ba42-97e40c77c871",
         "x": [
          "ESO1A",
          "ESO1B",
          "ESO1C",
          "ESO1D",
          "ESO2A",
          "ESO2B",
          "ESO2C",
          "ESO3A",
          "ESO3B",
          "ESO3C",
          "ESO3D",
          "ESO4A",
          "ESO4B",
          "ESO4C"
         ],
         "y": [
          3.48,
          4.86,
          3.5300000000000002,
          6.32,
          4.56,
          3.5500000000000003,
          11.88,
          4.97,
          6.61,
          5.01,
          6.17,
          5.34,
          5.13,
          9.14
         ]
        }
       ],
       "layout": {
        "title": {
         "text": ""
        }
       }
      },
      "text/html": [
       "<div>\n",
       "        \n",
       "        \n",
       "            <div id=\"e6cde4e7-1cc1-4d48-969e-f78cc3c2fd19\" class=\"plotly-graph-div\" style=\"height:525px; width:100%;\"></div>\n",
       "            <script type=\"text/javascript\">\n",
       "                require([\"plotly\"], function(Plotly) {\n",
       "                    window.PLOTLYENV=window.PLOTLYENV || {};\n",
       "                    window.PLOTLYENV.BASE_URL='https://plot.ly';\n",
       "                    \n",
       "                if (document.getElementById(\"e6cde4e7-1cc1-4d48-969e-f78cc3c2fd19\")) {\n",
       "                    Plotly.newPlot(\n",
       "                        'e6cde4e7-1cc1-4d48-969e-f78cc3c2fd19',\n",
       "                        [{\"hoverinfo\": \"x+text\", \"marker\": {\"color\": [3.48, 4.86, 3.5300000000000002, 6.32, 4.56, 3.5500000000000003, 11.88, 4.97, 6.61, 5.01, 6.17, 5.34, 5.13, 9.14], \"colorscale\": [[0.0, \"rgb(252,174,145)\"], [0.3333333333333333, \"rgb(251,106,74)\"], [0.6666666666666666, \"rgb(222,45,38)\"], [1.0, \"rgb(165,15,21)\"]]}, \"text\": [\"3.48%\", \"4.86%\", \"3.53%\", \"6.32%\", \"4.56%\", \"3.55%\", \"11.88%\", \"4.97%\", \"6.61%\", \"5.01%\", \"6.17%\", \"5.34%\", \"5.13%\", \"9.14%\"], \"type\": \"bar\", \"uid\": \"7a118c82-d9c2-411c-817f-95a1253bf68a\", \"x\": [\"ESO1A\", \"ESO1B\", \"ESO1C\", \"ESO1D\", \"ESO2A\", \"ESO2B\", \"ESO2C\", \"ESO3A\", \"ESO3B\", \"ESO3C\", \"ESO3D\", \"ESO4A\", \"ESO4B\", \"ESO4C\"], \"y\": [3.48, 4.86, 3.5300000000000002, 6.32, 4.56, 3.5500000000000003, 11.88, 4.97, 6.61, 5.01, 6.17, 5.34, 5.13, 9.14]}],\n",
       "                        {\"title\": {\"text\": \"\"}},\n",
       "                        {\"showLink\": false, \"linkText\": \"Export to plot.ly\", \"plotlyServerURL\": \"https://plot.ly\", \"responsive\": true}\n",
       "                    ).then(function(){\n",
       "                            \n",
       "var gd = document.getElementById('e6cde4e7-1cc1-4d48-969e-f78cc3c2fd19');\n",
       "var x = new MutationObserver(function (mutations, observer) {{\n",
       "        var display = window.getComputedStyle(gd).display;\n",
       "        if (!display || display === 'none') {{\n",
       "            console.log([gd, 'removed!']);\n",
       "            Plotly.purge(gd);\n",
       "            observer.disconnect();\n",
       "        }}\n",
       "}});\n",
       "\n",
       "// Listen for the removal of the full notebook cells\n",
       "var notebookContainer = gd.closest('#notebook-container');\n",
       "if (notebookContainer) {{\n",
       "    x.observe(notebookContainer, {childList: true});\n",
       "}}\n",
       "\n",
       "// Listen for the clearing of the current output cell\n",
       "var outputEl = gd.closest('.output');\n",
       "if (outputEl) {{\n",
       "    x.observe(outputEl, {childList: true});\n",
       "}}\n",
       "\n",
       "                        })\n",
       "                };\n",
       "                });\n",
       "            </script>\n",
       "        </div>"
      ]
     },
     "metadata": {},
     "output_type": "display_data"
    }
   ],
   "source": [
    "myplotly.bar_simple(dfc_ESO.index, dfc_ESO['absentismo'], colormap='Reds')"
   ]
  },
  {
   "cell_type": "markdown",
   "metadata": {},
   "source": [
    "# FPB"
   ]
  },
  {
   "cell_type": "code",
   "execution_count": 40,
   "metadata": {},
   "outputs": [
    {
     "data": {
      "application/vnd.plotly.v1+json": {
       "config": {
        "linkText": "Export to plot.ly",
        "plotlyServerURL": "https://plot.ly",
        "responsive": true,
        "showLink": false
       },
       "data": [
        {
         "hoverinfo": "x+text",
         "marker": {
          "color": [
           23.29,
           26.72
          ],
          "colorscale": [
           [
            0,
            "rgb(252,174,145)"
           ],
           [
            0.3333333333333333,
            "rgb(251,106,74)"
           ],
           [
            0.6666666666666666,
            "rgb(222,45,38)"
           ],
           [
            1,
            "rgb(165,15,21)"
           ]
          ]
         },
         "text": [
          "23.29%",
          "26.72%"
         ],
         "type": "bar",
         "uid": "4c166bd6-bf36-458e-b405-06e9d5aab701",
         "x": [
          "1FPB",
          "2FPB"
         ],
         "y": [
          23.29,
          26.72
         ]
        }
       ],
       "layout": {
        "title": {
         "text": ""
        }
       }
      },
      "text/html": [
       "<div>\n",
       "        \n",
       "        \n",
       "            <div id=\"2897fadd-f063-4c57-a31f-817e3c70acb4\" class=\"plotly-graph-div\" style=\"height:525px; width:100%;\"></div>\n",
       "            <script type=\"text/javascript\">\n",
       "                require([\"plotly\"], function(Plotly) {\n",
       "                    window.PLOTLYENV=window.PLOTLYENV || {};\n",
       "                    window.PLOTLYENV.BASE_URL='https://plot.ly';\n",
       "                    \n",
       "                if (document.getElementById(\"2897fadd-f063-4c57-a31f-817e3c70acb4\")) {\n",
       "                    Plotly.newPlot(\n",
       "                        '2897fadd-f063-4c57-a31f-817e3c70acb4',\n",
       "                        [{\"hoverinfo\": \"x+text\", \"marker\": {\"color\": [23.29, 26.72], \"colorscale\": [[0.0, \"rgb(252,174,145)\"], [0.3333333333333333, \"rgb(251,106,74)\"], [0.6666666666666666, \"rgb(222,45,38)\"], [1.0, \"rgb(165,15,21)\"]]}, \"text\": [\"23.29%\", \"26.72%\"], \"type\": \"bar\", \"uid\": \"4b5ddd75-b68a-4d7c-b6ab-a514dd970544\", \"x\": [\"1FPB\", \"2FPB\"], \"y\": [23.29, 26.72]}],\n",
       "                        {\"title\": {\"text\": \"\"}},\n",
       "                        {\"showLink\": false, \"linkText\": \"Export to plot.ly\", \"plotlyServerURL\": \"https://plot.ly\", \"responsive\": true}\n",
       "                    ).then(function(){\n",
       "                            \n",
       "var gd = document.getElementById('2897fadd-f063-4c57-a31f-817e3c70acb4');\n",
       "var x = new MutationObserver(function (mutations, observer) {{\n",
       "        var display = window.getComputedStyle(gd).display;\n",
       "        if (!display || display === 'none') {{\n",
       "            console.log([gd, 'removed!']);\n",
       "            Plotly.purge(gd);\n",
       "            observer.disconnect();\n",
       "        }}\n",
       "}});\n",
       "\n",
       "// Listen for the removal of the full notebook cells\n",
       "var notebookContainer = gd.closest('#notebook-container');\n",
       "if (notebookContainer) {{\n",
       "    x.observe(notebookContainer, {childList: true});\n",
       "}}\n",
       "\n",
       "// Listen for the clearing of the current output cell\n",
       "var outputEl = gd.closest('.output');\n",
       "if (outputEl) {{\n",
       "    x.observe(outputEl, {childList: true});\n",
       "}}\n",
       "\n",
       "                        })\n",
       "                };\n",
       "                });\n",
       "            </script>\n",
       "        </div>"
      ]
     },
     "metadata": {},
     "output_type": "display_data"
    }
   ],
   "source": [
    "myplotly.bar_simple(dfc_FPB.index, dfc_FPB['absentismo'], colormap='Reds')"
   ]
  },
  {
   "cell_type": "markdown",
   "metadata": {},
   "source": [
    "## BACHILLERATO"
   ]
  },
  {
   "cell_type": "code",
   "execution_count": 41,
   "metadata": {
    "scrolled": false
   },
   "outputs": [
    {
     "data": {
      "application/vnd.plotly.v1+json": {
       "config": {
        "linkText": "Export to plot.ly",
        "plotlyServerURL": "https://plot.ly",
        "responsive": true,
        "showLink": false
       },
       "data": [
        {
         "hoverinfo": "x+text",
         "marker": {
          "color": [
           4.02,
           8.77,
           5.53,
           6.27
          ],
          "colorscale": [
           [
            0,
            "rgb(252,174,145)"
           ],
           [
            0.3333333333333333,
            "rgb(251,106,74)"
           ],
           [
            0.6666666666666666,
            "rgb(222,45,38)"
           ],
           [
            1,
            "rgb(165,15,21)"
           ]
          ]
         },
         "text": [
          "4.02%",
          "8.77%",
          "5.53%",
          "6.27%"
         ],
         "type": "bar",
         "uid": "a151c981-9c00-42b5-8697-18085f0d8276",
         "x": [
          "1CIE",
          "1SOC",
          "2CIE",
          "2SOC"
         ],
         "y": [
          4.02,
          8.77,
          5.53,
          6.27
         ]
        }
       ],
       "layout": {
        "title": {
         "text": ""
        }
       }
      },
      "text/html": [
       "<div>\n",
       "        \n",
       "        \n",
       "            <div id=\"8aa8dbd8-a0c5-483e-bc0f-63b68f995440\" class=\"plotly-graph-div\" style=\"height:525px; width:100%;\"></div>\n",
       "            <script type=\"text/javascript\">\n",
       "                require([\"plotly\"], function(Plotly) {\n",
       "                    window.PLOTLYENV=window.PLOTLYENV || {};\n",
       "                    window.PLOTLYENV.BASE_URL='https://plot.ly';\n",
       "                    \n",
       "                if (document.getElementById(\"8aa8dbd8-a0c5-483e-bc0f-63b68f995440\")) {\n",
       "                    Plotly.newPlot(\n",
       "                        '8aa8dbd8-a0c5-483e-bc0f-63b68f995440',\n",
       "                        [{\"hoverinfo\": \"x+text\", \"marker\": {\"color\": [4.02, 8.77, 5.53, 6.27], \"colorscale\": [[0.0, \"rgb(252,174,145)\"], [0.3333333333333333, \"rgb(251,106,74)\"], [0.6666666666666666, \"rgb(222,45,38)\"], [1.0, \"rgb(165,15,21)\"]]}, \"text\": [\"4.02%\", \"8.77%\", \"5.53%\", \"6.27%\"], \"type\": \"bar\", \"uid\": \"5bf86b1a-13d7-4f11-9472-102e437f86c3\", \"x\": [\"1CIE\", \"1SOC\", \"2CIE\", \"2SOC\"], \"y\": [4.02, 8.77, 5.53, 6.27]}],\n",
       "                        {\"title\": {\"text\": \"\"}},\n",
       "                        {\"showLink\": false, \"linkText\": \"Export to plot.ly\", \"plotlyServerURL\": \"https://plot.ly\", \"responsive\": true}\n",
       "                    ).then(function(){\n",
       "                            \n",
       "var gd = document.getElementById('8aa8dbd8-a0c5-483e-bc0f-63b68f995440');\n",
       "var x = new MutationObserver(function (mutations, observer) {{\n",
       "        var display = window.getComputedStyle(gd).display;\n",
       "        if (!display || display === 'none') {{\n",
       "            console.log([gd, 'removed!']);\n",
       "            Plotly.purge(gd);\n",
       "            observer.disconnect();\n",
       "        }}\n",
       "}});\n",
       "\n",
       "// Listen for the removal of the full notebook cells\n",
       "var notebookContainer = gd.closest('#notebook-container');\n",
       "if (notebookContainer) {{\n",
       "    x.observe(notebookContainer, {childList: true});\n",
       "}}\n",
       "\n",
       "// Listen for the clearing of the current output cell\n",
       "var outputEl = gd.closest('.output');\n",
       "if (outputEl) {{\n",
       "    x.observe(outputEl, {childList: true});\n",
       "}}\n",
       "\n",
       "                        })\n",
       "                };\n",
       "                });\n",
       "            </script>\n",
       "        </div>"
      ]
     },
     "metadata": {},
     "output_type": "display_data"
    }
   ],
   "source": [
    "myplotly.bar_simple(dfc_BACH.index, dfc_BACH['absentismo'], colormap='Reds')"
   ]
  },
  {
   "cell_type": "markdown",
   "metadata": {},
   "source": [
    "## CICLOS FORMATIVOS DE GRADO MEDIO"
   ]
  },
  {
   "cell_type": "code",
   "execution_count": 42,
   "metadata": {},
   "outputs": [
    {
     "data": {
      "application/vnd.plotly.v1+json": {
       "config": {
        "linkText": "Export to plot.ly",
        "plotlyServerURL": "https://plot.ly",
        "responsive": true,
        "showLink": false
       },
       "data": [
        {
         "hoverinfo": "x+text",
         "marker": {
          "color": [
           20.75,
           15.290000000000001,
           20.919999999999998,
           19.83,
           14.93,
           11.08
          ],
          "colorscale": [
           [
            0,
            "rgb(252,174,145)"
           ],
           [
            0.3333333333333333,
            "rgb(251,106,74)"
           ],
           [
            0.6666666666666666,
            "rgb(222,45,38)"
           ],
           [
            1,
            "rgb(165,15,21)"
           ]
          ]
         },
         "text": [
          "20.75%",
          "15.29%",
          "20.92%",
          "19.83%",
          "14.93%",
          "11.08%"
         ],
         "type": "bar",
         "uid": "2897872b-d55a-4881-86b5-2490c3abb8f9",
         "x": [
          "1TEL",
          "1ELE",
          "1CAR",
          "2TEL",
          "2ELE",
          "2CAR"
         ],
         "y": [
          20.75,
          15.290000000000001,
          20.919999999999998,
          19.83,
          14.93,
          11.08
         ]
        }
       ],
       "layout": {
        "title": {
         "text": ""
        }
       }
      },
      "text/html": [
       "<div>\n",
       "        \n",
       "        \n",
       "            <div id=\"4d2e837b-3dbb-415a-8e9b-8132b30dcc82\" class=\"plotly-graph-div\" style=\"height:525px; width:100%;\"></div>\n",
       "            <script type=\"text/javascript\">\n",
       "                require([\"plotly\"], function(Plotly) {\n",
       "                    window.PLOTLYENV=window.PLOTLYENV || {};\n",
       "                    window.PLOTLYENV.BASE_URL='https://plot.ly';\n",
       "                    \n",
       "                if (document.getElementById(\"4d2e837b-3dbb-415a-8e9b-8132b30dcc82\")) {\n",
       "                    Plotly.newPlot(\n",
       "                        '4d2e837b-3dbb-415a-8e9b-8132b30dcc82',\n",
       "                        [{\"hoverinfo\": \"x+text\", \"marker\": {\"color\": [20.75, 15.290000000000001, 20.919999999999998, 19.83, 14.93, 11.08], \"colorscale\": [[0.0, \"rgb(252,174,145)\"], [0.3333333333333333, \"rgb(251,106,74)\"], [0.6666666666666666, \"rgb(222,45,38)\"], [1.0, \"rgb(165,15,21)\"]]}, \"text\": [\"20.75%\", \"15.29%\", \"20.92%\", \"19.83%\", \"14.93%\", \"11.08%\"], \"type\": \"bar\", \"uid\": \"9c2c8ab0-9424-48d7-92d8-92bb34311a95\", \"x\": [\"1TEL\", \"1ELE\", \"1CAR\", \"2TEL\", \"2ELE\", \"2CAR\"], \"y\": [20.75, 15.290000000000001, 20.919999999999998, 19.83, 14.93, 11.08]}],\n",
       "                        {\"title\": {\"text\": \"\"}},\n",
       "                        {\"showLink\": false, \"linkText\": \"Export to plot.ly\", \"plotlyServerURL\": \"https://plot.ly\", \"responsive\": true}\n",
       "                    ).then(function(){\n",
       "                            \n",
       "var gd = document.getElementById('4d2e837b-3dbb-415a-8e9b-8132b30dcc82');\n",
       "var x = new MutationObserver(function (mutations, observer) {{\n",
       "        var display = window.getComputedStyle(gd).display;\n",
       "        if (!display || display === 'none') {{\n",
       "            console.log([gd, 'removed!']);\n",
       "            Plotly.purge(gd);\n",
       "            observer.disconnect();\n",
       "        }}\n",
       "}});\n",
       "\n",
       "// Listen for the removal of the full notebook cells\n",
       "var notebookContainer = gd.closest('#notebook-container');\n",
       "if (notebookContainer) {{\n",
       "    x.observe(notebookContainer, {childList: true});\n",
       "}}\n",
       "\n",
       "// Listen for the clearing of the current output cell\n",
       "var outputEl = gd.closest('.output');\n",
       "if (outputEl) {{\n",
       "    x.observe(outputEl, {childList: true});\n",
       "}}\n",
       "\n",
       "                        })\n",
       "                };\n",
       "                });\n",
       "            </script>\n",
       "        </div>"
      ]
     },
     "metadata": {},
     "output_type": "display_data"
    }
   ],
   "source": [
    "myplotly.bar_simple(dfc_CFGM.index, dfc_CFGM['absentismo'], colormap='Reds')"
   ]
  },
  {
   "cell_type": "markdown",
   "metadata": {},
   "source": [
    "## CICLOS FORMATIVOS DE GRADO SUPERIOR"
   ]
  },
  {
   "cell_type": "code",
   "execution_count": 43,
   "metadata": {
    "scrolled": false
   },
   "outputs": [
    {
     "data": {
      "application/vnd.plotly.v1+json": {
       "config": {
        "linkText": "Export to plot.ly",
        "plotlyServerURL": "https://plot.ly",
        "responsive": true,
        "showLink": false
       },
       "data": [
        {
         "hoverinfo": "x+text",
         "marker": {
          "color": [
           10.43,
           12.76,
           13.27,
           10.97,
           9.73,
           8.1,
           7.66,
           10.84,
           7.1000000000000005,
           18.02
          ],
          "colorscale": [
           [
            0,
            "rgb(252,174,145)"
           ],
           [
            0.3333333333333333,
            "rgb(251,106,74)"
           ],
           [
            0.6666666666666666,
            "rgb(222,45,38)"
           ],
           [
            1,
            "rgb(165,15,21)"
           ]
          ]
         },
         "text": [
          "10.43%",
          "12.76%",
          "13.27%",
          "10.97%",
          "9.73%",
          "8.10%",
          "7.66%",
          "10.84%",
          "7.10%",
          "18.02%"
         ],
         "type": "bar",
         "uid": "cf91d6ce-8250-4ef3-ba5f-1d4ea0ac0a8f",
         "x": [
          "1ARI",
          "1ALO",
          "1GIT",
          "1ASR",
          "1DAW",
          "2ARI",
          "2ALO",
          "2GIT",
          "2ASR",
          "2DAW"
         ],
         "y": [
          10.43,
          12.76,
          13.27,
          10.97,
          9.73,
          8.1,
          7.66,
          10.84,
          7.1000000000000005,
          18.02
         ]
        }
       ],
       "layout": {
        "title": {
         "text": ""
        }
       }
      },
      "text/html": [
       "<div>\n",
       "        \n",
       "        \n",
       "            <div id=\"9167653b-3c73-4ff8-9059-3c4b744b9131\" class=\"plotly-graph-div\" style=\"height:525px; width:100%;\"></div>\n",
       "            <script type=\"text/javascript\">\n",
       "                require([\"plotly\"], function(Plotly) {\n",
       "                    window.PLOTLYENV=window.PLOTLYENV || {};\n",
       "                    window.PLOTLYENV.BASE_URL='https://plot.ly';\n",
       "                    \n",
       "                if (document.getElementById(\"9167653b-3c73-4ff8-9059-3c4b744b9131\")) {\n",
       "                    Plotly.newPlot(\n",
       "                        '9167653b-3c73-4ff8-9059-3c4b744b9131',\n",
       "                        [{\"hoverinfo\": \"x+text\", \"marker\": {\"color\": [10.43, 12.76, 13.27, 10.97, 9.73, 8.1, 7.66, 10.84, 7.1000000000000005, 18.02], \"colorscale\": [[0.0, \"rgb(252,174,145)\"], [0.3333333333333333, \"rgb(251,106,74)\"], [0.6666666666666666, \"rgb(222,45,38)\"], [1.0, \"rgb(165,15,21)\"]]}, \"text\": [\"10.43%\", \"12.76%\", \"13.27%\", \"10.97%\", \"9.73%\", \"8.10%\", \"7.66%\", \"10.84%\", \"7.10%\", \"18.02%\"], \"type\": \"bar\", \"uid\": \"9caaf38d-19d4-44cd-a770-9994a3666175\", \"x\": [\"1ARI\", \"1ALO\", \"1GIT\", \"1ASR\", \"1DAW\", \"2ARI\", \"2ALO\", \"2GIT\", \"2ASR\", \"2DAW\"], \"y\": [10.43, 12.76, 13.27, 10.97, 9.73, 8.1, 7.66, 10.84, 7.1000000000000005, 18.02]}],\n",
       "                        {\"title\": {\"text\": \"\"}},\n",
       "                        {\"showLink\": false, \"linkText\": \"Export to plot.ly\", \"plotlyServerURL\": \"https://plot.ly\", \"responsive\": true}\n",
       "                    ).then(function(){\n",
       "                            \n",
       "var gd = document.getElementById('9167653b-3c73-4ff8-9059-3c4b744b9131');\n",
       "var x = new MutationObserver(function (mutations, observer) {{\n",
       "        var display = window.getComputedStyle(gd).display;\n",
       "        if (!display || display === 'none') {{\n",
       "            console.log([gd, 'removed!']);\n",
       "            Plotly.purge(gd);\n",
       "            observer.disconnect();\n",
       "        }}\n",
       "}});\n",
       "\n",
       "// Listen for the removal of the full notebook cells\n",
       "var notebookContainer = gd.closest('#notebook-container');\n",
       "if (notebookContainer) {{\n",
       "    x.observe(notebookContainer, {childList: true});\n",
       "}}\n",
       "\n",
       "// Listen for the clearing of the current output cell\n",
       "var outputEl = gd.closest('.output');\n",
       "if (outputEl) {{\n",
       "    x.observe(outputEl, {childList: true});\n",
       "}}\n",
       "\n",
       "                        })\n",
       "                };\n",
       "                });\n",
       "            </script>\n",
       "        </div>"
      ]
     },
     "metadata": {},
     "output_type": "display_data"
    }
   ],
   "source": [
    "myplotly.bar_simple(dfc_CFGS.index, dfc_CFGS['absentismo'], colormap='Reds')"
   ]
  },
  {
   "cell_type": "markdown",
   "metadata": {},
   "source": [
    "## GLOBAL"
   ]
  },
  {
   "cell_type": "code",
   "execution_count": 44,
   "metadata": {
    "scrolled": true
   },
   "outputs": [
    {
     "data": {
      "application/vnd.plotly.v1+json": {
       "config": {
        "linkText": "Export to plot.ly",
        "plotlyServerURL": "https://plot.ly",
        "responsive": true,
        "showLink": false
       },
       "data": [
        {
         "hoverinfo": "x+text",
         "marker": {
          "color": [
           5.753571428571428,
           25.005,
           6.1475,
           17.133333333333333,
           10.887999999999998
          ],
          "colorscale": [
           [
            0,
            "rgb(252,174,145)"
           ],
           [
            0.3333333333333333,
            "rgb(251,106,74)"
           ],
           [
            0.6666666666666666,
            "rgb(222,45,38)"
           ],
           [
            1,
            "rgb(165,15,21)"
           ]
          ]
         },
         "text": [
          "5.75%",
          "25.00%",
          "6.15%",
          "17.13%",
          "10.89%"
         ],
         "type": "bar",
         "uid": "a880b1e9-bf50-4fe6-a77f-86de1e95e2c9",
         "x": [
          "ESO",
          "FPB",
          "BACH",
          "CFGM",
          "CFGS"
         ],
         "y": [
          5.753571428571428,
          25.005,
          6.1475,
          17.133333333333333,
          10.887999999999998
         ]
        }
       ],
       "layout": {
        "title": {
         "text": ""
        }
       }
      },
      "text/html": [
       "<div>\n",
       "        \n",
       "        \n",
       "            <div id=\"e3a9db24-f90b-4b07-b4df-5d9a1e3b8c1c\" class=\"plotly-graph-div\" style=\"height:525px; width:100%;\"></div>\n",
       "            <script type=\"text/javascript\">\n",
       "                require([\"plotly\"], function(Plotly) {\n",
       "                    window.PLOTLYENV=window.PLOTLYENV || {};\n",
       "                    window.PLOTLYENV.BASE_URL='https://plot.ly';\n",
       "                    \n",
       "                if (document.getElementById(\"e3a9db24-f90b-4b07-b4df-5d9a1e3b8c1c\")) {\n",
       "                    Plotly.newPlot(\n",
       "                        'e3a9db24-f90b-4b07-b4df-5d9a1e3b8c1c',\n",
       "                        [{\"hoverinfo\": \"x+text\", \"marker\": {\"color\": [5.753571428571428, 25.005, 6.1475, 17.133333333333333, 10.887999999999998], \"colorscale\": [[0.0, \"rgb(252,174,145)\"], [0.3333333333333333, \"rgb(251,106,74)\"], [0.6666666666666666, \"rgb(222,45,38)\"], [1.0, \"rgb(165,15,21)\"]]}, \"text\": [\"5.75%\", \"25.00%\", \"6.15%\", \"17.13%\", \"10.89%\"], \"type\": \"bar\", \"uid\": \"ffb57252-3e71-4458-b5e9-33465d2ad48a\", \"x\": [\"ESO\", \"FPB\", \"BACH\", \"CFGM\", \"CFGS\"], \"y\": [5.753571428571428, 25.005, 6.1475, 17.133333333333333, 10.887999999999998]}],\n",
       "                        {\"title\": {\"text\": \"\"}},\n",
       "                        {\"showLink\": false, \"linkText\": \"Export to plot.ly\", \"plotlyServerURL\": \"https://plot.ly\", \"responsive\": true}\n",
       "                    ).then(function(){\n",
       "                            \n",
       "var gd = document.getElementById('e3a9db24-f90b-4b07-b4df-5d9a1e3b8c1c');\n",
       "var x = new MutationObserver(function (mutations, observer) {{\n",
       "        var display = window.getComputedStyle(gd).display;\n",
       "        if (!display || display === 'none') {{\n",
       "            console.log([gd, 'removed!']);\n",
       "            Plotly.purge(gd);\n",
       "            observer.disconnect();\n",
       "        }}\n",
       "}});\n",
       "\n",
       "// Listen for the removal of the full notebook cells\n",
       "var notebookContainer = gd.closest('#notebook-container');\n",
       "if (notebookContainer) {{\n",
       "    x.observe(notebookContainer, {childList: true});\n",
       "}}\n",
       "\n",
       "// Listen for the clearing of the current output cell\n",
       "var outputEl = gd.closest('.output');\n",
       "if (outputEl) {{\n",
       "    x.observe(outputEl, {childList: true});\n",
       "}}\n",
       "\n",
       "                        })\n",
       "                };\n",
       "                });\n",
       "            </script>\n",
       "        </div>"
      ]
     },
     "metadata": {},
     "output_type": "display_data"
    }
   ],
   "source": [
    "myplotly.bar_simple(dfc_summary.index, dfc_summary['absentismo'], colormap='Reds')"
   ]
  },
  {
   "cell_type": "markdown",
   "metadata": {},
   "source": [
    "## COMPARATIVA CON LOS ÚLTIMOS CURSOS"
   ]
  },
  {
   "cell_type": "code",
   "execution_count": 45,
   "metadata": {},
   "outputs": [
    {
     "data": {
      "application/vnd.plotly.v1+json": {
       "config": {
        "linkText": "Export to plot.ly",
        "plotlyServerURL": "https://plot.ly",
        "responsive": true,
        "showLink": false
       },
       "data": [
        {
         "hoverinfo": "x+text+name",
         "name": "C1718",
         "text": [
          "6.95%",
          "27.52%",
          "5.31%",
          "14.93%",
          "12.86%"
         ],
         "type": "bar",
         "uid": "4901a413-9112-44b3-8914-3918159f2fd1",
         "x": [
          "ESO",
          "FPB",
          "BACH",
          "CFGM",
          "CFGS"
         ],
         "y": [
          6.952307692307694,
          27.520000000000003,
          5.31,
          14.928333333333333,
          12.864999999999998
         ]
        },
        {
         "hoverinfo": "x+text+name",
         "name": "C1819",
         "text": [
          "7.09%",
          "21.60%",
          "5.67%",
          "14.40%",
          "11.74%"
         ],
         "type": "bar",
         "uid": "7c42fe08-2978-48e6-a237-7523a972970b",
         "x": [
          "ESO",
          "FPB",
          "BACH",
          "CFGM",
          "CFGS"
         ],
         "y": [
          7.090769230769231,
          21.6,
          5.67,
          14.403333333333336,
          11.738000000000001
         ]
        },
        {
         "hoverinfo": "x+text+name",
         "name": "C1920",
         "text": [
          "5.75%",
          "25.00%",
          "6.15%",
          "17.13%",
          "10.89%"
         ],
         "type": "bar",
         "uid": "eab95be8-4d4d-4f0c-9420-163b9c02e263",
         "x": [
          "ESO",
          "FPB",
          "BACH",
          "CFGM",
          "CFGS"
         ],
         "y": [
          5.753571428571428,
          25.005,
          6.1475,
          17.133333333333333,
          10.887999999999998
         ]
        }
       ],
       "layout": {
        "barmode": "group"
       }
      },
      "text/html": [
       "<div>\n",
       "        \n",
       "        \n",
       "            <div id=\"87202014-e5b4-4b28-b014-07ae85d0257c\" class=\"plotly-graph-div\" style=\"height:525px; width:100%;\"></div>\n",
       "            <script type=\"text/javascript\">\n",
       "                require([\"plotly\"], function(Plotly) {\n",
       "                    window.PLOTLYENV=window.PLOTLYENV || {};\n",
       "                    window.PLOTLYENV.BASE_URL='https://plot.ly';\n",
       "                    \n",
       "                if (document.getElementById(\"87202014-e5b4-4b28-b014-07ae85d0257c\")) {\n",
       "                    Plotly.newPlot(\n",
       "                        '87202014-e5b4-4b28-b014-07ae85d0257c',\n",
       "                        [{\"hoverinfo\": \"x+text+name\", \"name\": \"C1718\", \"text\": [\"6.95%\", \"27.52%\", \"5.31%\", \"14.93%\", \"12.86%\"], \"type\": \"bar\", \"uid\": \"b63b9c90-58b1-48c4-8e35-314127d3f5e4\", \"x\": [\"ESO\", \"FPB\", \"BACH\", \"CFGM\", \"CFGS\"], \"y\": [6.952307692307694, 27.520000000000003, 5.31, 14.928333333333333, 12.864999999999998]}, {\"hoverinfo\": \"x+text+name\", \"name\": \"C1819\", \"text\": [\"7.09%\", \"21.60%\", \"5.67%\", \"14.40%\", \"11.74%\"], \"type\": \"bar\", \"uid\": \"b3998eac-aad2-4e3d-b976-4712372906dd\", \"x\": [\"ESO\", \"FPB\", \"BACH\", \"CFGM\", \"CFGS\"], \"y\": [7.090769230769231, 21.6, 5.67, 14.403333333333336, 11.738000000000001]}, {\"hoverinfo\": \"x+text+name\", \"name\": \"C1920\", \"text\": [\"5.75%\", \"25.00%\", \"6.15%\", \"17.13%\", \"10.89%\"], \"type\": \"bar\", \"uid\": \"8769ab4a-6555-41a8-942e-2b0d44b469e1\", \"x\": [\"ESO\", \"FPB\", \"BACH\", \"CFGM\", \"CFGS\"], \"y\": [5.753571428571428, 25.005, 6.1475, 17.133333333333333, 10.887999999999998]}],\n",
       "                        {\"barmode\": \"group\"},\n",
       "                        {\"showLink\": false, \"linkText\": \"Export to plot.ly\", \"plotlyServerURL\": \"https://plot.ly\", \"responsive\": true}\n",
       "                    ).then(function(){\n",
       "                            \n",
       "var gd = document.getElementById('87202014-e5b4-4b28-b014-07ae85d0257c');\n",
       "var x = new MutationObserver(function (mutations, observer) {{\n",
       "        var display = window.getComputedStyle(gd).display;\n",
       "        if (!display || display === 'none') {{\n",
       "            console.log([gd, 'removed!']);\n",
       "            Plotly.purge(gd);\n",
       "            observer.disconnect();\n",
       "        }}\n",
       "}});\n",
       "\n",
       "// Listen for the removal of the full notebook cells\n",
       "var notebookContainer = gd.closest('#notebook-container');\n",
       "if (notebookContainer) {{\n",
       "    x.observe(notebookContainer, {childList: true});\n",
       "}}\n",
       "\n",
       "// Listen for the clearing of the current output cell\n",
       "var outputEl = gd.closest('.output');\n",
       "if (outputEl) {{\n",
       "    x.observe(outputEl, {childList: true});\n",
       "}}\n",
       "\n",
       "                        })\n",
       "                };\n",
       "                });\n",
       "            </script>\n",
       "        </div>"
      ]
     },
     "metadata": {},
     "output_type": "display_data"
    }
   ],
   "source": [
    "aux = df.groupby(['etapa', 'curso', 'evaluación']).mean().reset_index().set_index('etapa')\n",
    "series = {year: aux.loc[stages].query(f'curso == \"{year}\" & evaluación == \"{labels[-1][1]}\"')['absentismo'].values\n",
    "          for year in years}\n",
    "\n",
    "myplotly.cbar(stages, series)"
   ]
  },
  {
   "cell_type": "code",
   "execution_count": 46,
   "metadata": {
    "scrolled": false
   },
   "outputs": [
    {
     "data": {
      "text/html": [
       "\n",
       "<div class='alert alert-info' role=\"alert\">\n",
       "    Absentismo global medio: <b>10.19</b>%\n",
       "</div>\n"
      ],
      "text/plain": [
       "<IPython.core.display.HTML object>"
      ]
     },
     "metadata": {},
     "output_type": "display_data"
    }
   ],
   "source": [
    "mean_absence = dfc['absentismo'].mean()\n",
    "display(HTML(f'''\n",
    "<div class='alert alert-info' role=\"alert\">\n",
    "    Absentismo global medio: <b>{mean_absence:.2f}</b>%\n",
    "</div>\n",
    "'''))"
   ]
  },
  {
   "cell_type": "code",
   "execution_count": 47,
   "metadata": {
    "scrolled": false
   },
   "outputs": [],
   "source": [
    "if EVALUATION > 1:\n",
    "    display(HTML('<h2>EVOLUCIÓN DE GRUPOS CON RESPECTO A LA EVALUACIÓN ANTERIOR'))\n",
    "\n",
    "    aux = df_comp['absentismo_x'] - df_comp['absentismo_y']\n",
    "    myplotly.dbar(aux.index, aux, inverted_colors=True)"
   ]
  },
  {
   "cell_type": "markdown",
   "metadata": {},
   "source": [
    "# GESTIÓN DE LA CONVIVENCIA"
   ]
  },
  {
   "cell_type": "markdown",
   "metadata": {},
   "source": [
    "## PARTES DE GESTIÓN"
   ]
  },
  {
   "cell_type": "code",
   "execution_count": 48,
   "metadata": {},
   "outputs": [
    {
     "data": {
      "application/vnd.plotly.v1+json": {
       "config": {
        "linkText": "Export to plot.ly",
        "plotlyServerURL": "https://plot.ly",
        "responsive": true,
        "showLink": false
       },
       "data": [
        {
         "marker": {
          "color": [
           1,
           2,
           1,
           3,
           3,
           6,
           3,
           5,
           10,
           6,
           7
          ],
          "colorscale": [
           [
            0,
            "rgb(252,174,145)"
           ],
           [
            0.3333333333333333,
            "rgb(251,106,74)"
           ],
           [
            0.6666666666666666,
            "rgb(222,45,38)"
           ],
           [
            1,
            "rgb(165,15,21)"
           ]
          ]
         },
         "type": "bar",
         "uid": "dbb65add-02ff-4416-b695-2a4657e1f499",
         "x": [
          "ESO1A",
          "ESO1C",
          "ESO1D",
          "ESO2A",
          "ESO2B",
          "ESO2C",
          "ESO3C",
          "ESO4C",
          "1FPB",
          "2FPB",
          "1SOC"
         ],
         "y": [
          1,
          2,
          1,
          3,
          3,
          6,
          3,
          5,
          10,
          6,
          7
         ]
        }
       ],
       "layout": {
        "title": {
         "text": ""
        }
       }
      },
      "text/html": [
       "<div>\n",
       "        \n",
       "        \n",
       "            <div id=\"b2cd50d8-77bf-4c21-94d1-9d5b28b67438\" class=\"plotly-graph-div\" style=\"height:525px; width:100%;\"></div>\n",
       "            <script type=\"text/javascript\">\n",
       "                require([\"plotly\"], function(Plotly) {\n",
       "                    window.PLOTLYENV=window.PLOTLYENV || {};\n",
       "                    window.PLOTLYENV.BASE_URL='https://plot.ly';\n",
       "                    \n",
       "                if (document.getElementById(\"b2cd50d8-77bf-4c21-94d1-9d5b28b67438\")) {\n",
       "                    Plotly.newPlot(\n",
       "                        'b2cd50d8-77bf-4c21-94d1-9d5b28b67438',\n",
       "                        [{\"marker\": {\"color\": [1.0, 2.0, 1.0, 3.0, 3.0, 6.0, 3.0, 5.0, 10.0, 6.0, 7.0], \"colorscale\": [[0.0, \"rgb(252,174,145)\"], [0.3333333333333333, \"rgb(251,106,74)\"], [0.6666666666666666, \"rgb(222,45,38)\"], [1.0, \"rgb(165,15,21)\"]]}, \"type\": \"bar\", \"uid\": \"4cb234ac-4695-4cd9-b035-de750aab7e76\", \"x\": [\"ESO1A\", \"ESO1C\", \"ESO1D\", \"ESO2A\", \"ESO2B\", \"ESO2C\", \"ESO3C\", \"ESO4C\", \"1FPB\", \"2FPB\", \"1SOC\"], \"y\": [1.0, 2.0, 1.0, 3.0, 3.0, 6.0, 3.0, 5.0, 10.0, 6.0, 7.0]}],\n",
       "                        {\"title\": {\"text\": \"\"}},\n",
       "                        {\"showLink\": false, \"linkText\": \"Export to plot.ly\", \"plotlyServerURL\": \"https://plot.ly\", \"responsive\": true}\n",
       "                    ).then(function(){\n",
       "                            \n",
       "var gd = document.getElementById('b2cd50d8-77bf-4c21-94d1-9d5b28b67438');\n",
       "var x = new MutationObserver(function (mutations, observer) {{\n",
       "        var display = window.getComputedStyle(gd).display;\n",
       "        if (!display || display === 'none') {{\n",
       "            console.log([gd, 'removed!']);\n",
       "            Plotly.purge(gd);\n",
       "            observer.disconnect();\n",
       "        }}\n",
       "}});\n",
       "\n",
       "// Listen for the removal of the full notebook cells\n",
       "var notebookContainer = gd.closest('#notebook-container');\n",
       "if (notebookContainer) {{\n",
       "    x.observe(notebookContainer, {childList: true});\n",
       "}}\n",
       "\n",
       "// Listen for the clearing of the current output cell\n",
       "var outputEl = gd.closest('.output');\n",
       "if (outputEl) {{\n",
       "    x.observe(outputEl, {childList: true});\n",
       "}}\n",
       "\n",
       "                        })\n",
       "                };\n",
       "                });\n",
       "            </script>\n",
       "        </div>"
      ]
     },
     "metadata": {},
     "output_type": "display_data"
    }
   ],
   "source": [
    "dfc_reports = dfc.query('partes > 0')['partes']\n",
    "myplotly.bar_simple(dfc_reports.index, dfc_reports, colormap='Reds', is_percentage=False)"
   ]
  },
  {
   "cell_type": "markdown",
   "metadata": {},
   "source": [
    "## COMPARATIVA CON LOS ÚLTIMOS CURSOS"
   ]
  },
  {
   "cell_type": "code",
   "execution_count": 49,
   "metadata": {},
   "outputs": [
    {
     "data": {
      "application/vnd.plotly.v1+json": {
       "config": {
        "linkText": "Export to plot.ly",
        "plotlyServerURL": "https://plot.ly",
        "responsive": true,
        "showLink": false
       },
       "data": [
        {
         "name": "C1718",
         "type": "bar",
         "uid": "570e2a58-6e8c-4870-9230-727f6b4d033e",
         "x": [
          "ESO",
          "FPB",
          "BACH",
          "CFGM",
          "CFGS"
         ],
         "y": [
          64,
          17,
          1,
          3,
          1
         ]
        },
        {
         "name": "C1819",
         "type": "bar",
         "uid": "bcec6cdd-4ac1-4d83-8844-a383f400721a",
         "x": [
          "ESO",
          "FPB",
          "BACH",
          "CFGM",
          "CFGS"
         ],
         "y": [
          22,
          2,
          1,
          0,
          0
         ]
        },
        {
         "name": "C1920",
         "type": "bar",
         "uid": "9a94ac76-4144-48fe-ab99-d3bd2eab5cc5",
         "x": [
          "ESO",
          "FPB",
          "BACH",
          "CFGM",
          "CFGS"
         ],
         "y": [
          24,
          16,
          7,
          0,
          0
         ]
        }
       ],
       "layout": {
        "barmode": "group"
       }
      },
      "text/html": [
       "<div>\n",
       "        \n",
       "        \n",
       "            <div id=\"aaa71c83-6713-43c7-b6f0-3520f6486fff\" class=\"plotly-graph-div\" style=\"height:525px; width:100%;\"></div>\n",
       "            <script type=\"text/javascript\">\n",
       "                require([\"plotly\"], function(Plotly) {\n",
       "                    window.PLOTLYENV=window.PLOTLYENV || {};\n",
       "                    window.PLOTLYENV.BASE_URL='https://plot.ly';\n",
       "                    \n",
       "                if (document.getElementById(\"aaa71c83-6713-43c7-b6f0-3520f6486fff\")) {\n",
       "                    Plotly.newPlot(\n",
       "                        'aaa71c83-6713-43c7-b6f0-3520f6486fff',\n",
       "                        [{\"name\": \"C1718\", \"type\": \"bar\", \"uid\": \"4d5e1a74-9242-4650-ba25-434db81266d7\", \"x\": [\"ESO\", \"FPB\", \"BACH\", \"CFGM\", \"CFGS\"], \"y\": [64.0, 17.0, 1.0, 3.0, 1.0]}, {\"name\": \"C1819\", \"type\": \"bar\", \"uid\": \"90667d9e-7bbc-4a7d-9301-604365ff52c0\", \"x\": [\"ESO\", \"FPB\", \"BACH\", \"CFGM\", \"CFGS\"], \"y\": [22.0, 2.0, 1.0, 0.0, 0.0]}, {\"name\": \"C1920\", \"type\": \"bar\", \"uid\": \"e5e9bada-df5f-404f-9e97-1cc6258fd770\", \"x\": [\"ESO\", \"FPB\", \"BACH\", \"CFGM\", \"CFGS\"], \"y\": [24.0, 16.0, 7.0, 0.0, 0.0]}],\n",
       "                        {\"barmode\": \"group\"},\n",
       "                        {\"showLink\": false, \"linkText\": \"Export to plot.ly\", \"plotlyServerURL\": \"https://plot.ly\", \"responsive\": true}\n",
       "                    ).then(function(){\n",
       "                            \n",
       "var gd = document.getElementById('aaa71c83-6713-43c7-b6f0-3520f6486fff');\n",
       "var x = new MutationObserver(function (mutations, observer) {{\n",
       "        var display = window.getComputedStyle(gd).display;\n",
       "        if (!display || display === 'none') {{\n",
       "            console.log([gd, 'removed!']);\n",
       "            Plotly.purge(gd);\n",
       "            observer.disconnect();\n",
       "        }}\n",
       "}});\n",
       "\n",
       "// Listen for the removal of the full notebook cells\n",
       "var notebookContainer = gd.closest('#notebook-container');\n",
       "if (notebookContainer) {{\n",
       "    x.observe(notebookContainer, {childList: true});\n",
       "}}\n",
       "\n",
       "// Listen for the clearing of the current output cell\n",
       "var outputEl = gd.closest('.output');\n",
       "if (outputEl) {{\n",
       "    x.observe(outputEl, {childList: true});\n",
       "}}\n",
       "\n",
       "                        })\n",
       "                };\n",
       "                });\n",
       "            </script>\n",
       "        </div>"
      ]
     },
     "metadata": {},
     "output_type": "display_data"
    }
   ],
   "source": [
    "aux = df.groupby(['etapa', 'curso', 'evaluación']).sum().reset_index().set_index('etapa')\n",
    "series = {year: aux.loc[stages].query(f'curso == \"{year}\" & evaluación == \"{labels[-1][1]}\"')['partes'].values\n",
    "          for year in years}\n",
    "\n",
    "myplotly.cbar(stages, series, is_percentage=False)"
   ]
  },
  {
   "cell_type": "code",
   "execution_count": 50,
   "metadata": {
    "scrolled": false
   },
   "outputs": [
    {
     "data": {
      "text/html": [
       "\n",
       "<div class='alert alert-info' role=\"alert\">\n",
       "    Total de partes de gestión: <b>47</b>\n",
       "</div>\n"
      ],
      "text/plain": [
       "<IPython.core.display.HTML object>"
      ]
     },
     "metadata": {},
     "output_type": "display_data"
    }
   ],
   "source": [
    "total_reports = dfc_reports.sum()\n",
    "display(HTML(f'''\n",
    "<div class='alert alert-info' role=\"alert\">\n",
    "    Total de partes de gestión: <b>{total_reports:.0f}</b>\n",
    "</div>\n",
    "'''))"
   ]
  },
  {
   "cell_type": "code",
   "execution_count": 51,
   "metadata": {
    "scrolled": true
   },
   "outputs": [],
   "source": [
    "if EVALUATION > 1:\n",
    "    display(HTML('<h2>EVOLUCIÓN DE GRUPOS CON RESPECTO A LA EVALUACIÓN ANTERIOR'))\n",
    "\n",
    "    aux = df_comp['partes_x'] - df_comp['partes_y']\n",
    "    myplotly.dbar(aux.index, aux, is_percentage=False, inverted_colors=True)"
   ]
  },
  {
   "cell_type": "markdown",
   "metadata": {},
   "source": [
    "## SUSPENSIÓN DEL DERECHO DE ASISTENCIA"
   ]
  },
  {
   "cell_type": "code",
   "execution_count": 52,
   "metadata": {},
   "outputs": [
    {
     "data": {
      "application/vnd.plotly.v1+json": {
       "config": {
        "linkText": "Export to plot.ly",
        "plotlyServerURL": "https://plot.ly",
        "responsive": true,
        "showLink": false
       },
       "data": [
        {
         "marker": {
          "color": [
           1,
           1,
           1,
           1,
           3,
           3,
           1
          ],
          "colorscale": [
           [
            0,
            "rgb(252,174,145)"
           ],
           [
            0.3333333333333333,
            "rgb(251,106,74)"
           ],
           [
            0.6666666666666666,
            "rgb(222,45,38)"
           ],
           [
            1,
            "rgb(165,15,21)"
           ]
          ]
         },
         "type": "bar",
         "uid": "7c814d26-98f7-4cc8-abe6-e515c1466629",
         "x": [
          "ESO1D",
          "ESO2B",
          "ESO2C",
          "ESO3C",
          "1FPB",
          "2FPB",
          "1SOC"
         ],
         "y": [
          1,
          1,
          1,
          1,
          3,
          3,
          1
         ]
        }
       ],
       "layout": {
        "title": {
         "text": ""
        }
       }
      },
      "text/html": [
       "<div>\n",
       "        \n",
       "        \n",
       "            <div id=\"4b15cbf0-45c6-47fd-a475-f3f5a4783b81\" class=\"plotly-graph-div\" style=\"height:525px; width:100%;\"></div>\n",
       "            <script type=\"text/javascript\">\n",
       "                require([\"plotly\"], function(Plotly) {\n",
       "                    window.PLOTLYENV=window.PLOTLYENV || {};\n",
       "                    window.PLOTLYENV.BASE_URL='https://plot.ly';\n",
       "                    \n",
       "                if (document.getElementById(\"4b15cbf0-45c6-47fd-a475-f3f5a4783b81\")) {\n",
       "                    Plotly.newPlot(\n",
       "                        '4b15cbf0-45c6-47fd-a475-f3f5a4783b81',\n",
       "                        [{\"marker\": {\"color\": [1.0, 1.0, 1.0, 1.0, 3.0, 3.0, 1.0], \"colorscale\": [[0.0, \"rgb(252,174,145)\"], [0.3333333333333333, \"rgb(251,106,74)\"], [0.6666666666666666, \"rgb(222,45,38)\"], [1.0, \"rgb(165,15,21)\"]]}, \"type\": \"bar\", \"uid\": \"58c8633e-693f-40d7-b68a-345027ed59b3\", \"x\": [\"ESO1D\", \"ESO2B\", \"ESO2C\", \"ESO3C\", \"1FPB\", \"2FPB\", \"1SOC\"], \"y\": [1.0, 1.0, 1.0, 1.0, 3.0, 3.0, 1.0]}],\n",
       "                        {\"title\": {\"text\": \"\"}},\n",
       "                        {\"showLink\": false, \"linkText\": \"Export to plot.ly\", \"plotlyServerURL\": \"https://plot.ly\", \"responsive\": true}\n",
       "                    ).then(function(){\n",
       "                            \n",
       "var gd = document.getElementById('4b15cbf0-45c6-47fd-a475-f3f5a4783b81');\n",
       "var x = new MutationObserver(function (mutations, observer) {{\n",
       "        var display = window.getComputedStyle(gd).display;\n",
       "        if (!display || display === 'none') {{\n",
       "            console.log([gd, 'removed!']);\n",
       "            Plotly.purge(gd);\n",
       "            observer.disconnect();\n",
       "        }}\n",
       "}});\n",
       "\n",
       "// Listen for the removal of the full notebook cells\n",
       "var notebookContainer = gd.closest('#notebook-container');\n",
       "if (notebookContainer) {{\n",
       "    x.observe(notebookContainer, {childList: true});\n",
       "}}\n",
       "\n",
       "// Listen for the clearing of the current output cell\n",
       "var outputEl = gd.closest('.output');\n",
       "if (outputEl) {{\n",
       "    x.observe(outputEl, {childList: true});\n",
       "}}\n",
       "\n",
       "                        })\n",
       "                };\n",
       "                });\n",
       "            </script>\n",
       "        </div>"
      ]
     },
     "metadata": {},
     "output_type": "display_data"
    }
   ],
   "source": [
    "dfc_non_attendance = dfc.query('suspensión_asistencia > 0')['suspensión_asistencia']\n",
    "myplotly.bar_simple(dfc_non_attendance.index, dfc_non_attendance, colormap='Reds', is_percentage=False)"
   ]
  },
  {
   "cell_type": "markdown",
   "metadata": {},
   "source": [
    "## COMPARATIVA CON LOS ÚLTIMOS CURSOS"
   ]
  },
  {
   "cell_type": "code",
   "execution_count": 53,
   "metadata": {},
   "outputs": [
    {
     "data": {
      "application/vnd.plotly.v1+json": {
       "config": {
        "linkText": "Export to plot.ly",
        "plotlyServerURL": "https://plot.ly",
        "responsive": true,
        "showLink": false
       },
       "data": [
        {
         "name": "C1718",
         "type": "bar",
         "uid": "71ec40e5-078d-4daa-811b-3b676b37f582",
         "x": [
          "ESO",
          "FPB",
          "BACH",
          "CFGM",
          "CFGS"
         ],
         "y": [
          6,
          6,
          0,
          1,
          1
         ]
        },
        {
         "name": "C1819",
         "type": "bar",
         "uid": "b0e7c090-11c9-41e1-beb0-0c77b3d76b97",
         "x": [
          "ESO",
          "FPB",
          "BACH",
          "CFGM",
          "CFGS"
         ],
         "y": [
          2,
          1,
          0,
          0,
          0
         ]
        },
        {
         "name": "C1920",
         "type": "bar",
         "uid": "a76decf2-f827-4d1f-a1ee-65167bc686f2",
         "x": [
          "ESO",
          "FPB",
          "BACH",
          "CFGM",
          "CFGS"
         ],
         "y": [
          4,
          6,
          1,
          0,
          0
         ]
        }
       ],
       "layout": {
        "barmode": "group"
       }
      },
      "text/html": [
       "<div>\n",
       "        \n",
       "        \n",
       "            <div id=\"c3885493-1c6f-4c13-879a-60eb9a87b0b9\" class=\"plotly-graph-div\" style=\"height:525px; width:100%;\"></div>\n",
       "            <script type=\"text/javascript\">\n",
       "                require([\"plotly\"], function(Plotly) {\n",
       "                    window.PLOTLYENV=window.PLOTLYENV || {};\n",
       "                    window.PLOTLYENV.BASE_URL='https://plot.ly';\n",
       "                    \n",
       "                if (document.getElementById(\"c3885493-1c6f-4c13-879a-60eb9a87b0b9\")) {\n",
       "                    Plotly.newPlot(\n",
       "                        'c3885493-1c6f-4c13-879a-60eb9a87b0b9',\n",
       "                        [{\"name\": \"C1718\", \"type\": \"bar\", \"uid\": \"7d6f1b63-3238-42a6-9690-1dfaa2dba55b\", \"x\": [\"ESO\", \"FPB\", \"BACH\", \"CFGM\", \"CFGS\"], \"y\": [6.0, 6.0, 0.0, 1.0, 1.0]}, {\"name\": \"C1819\", \"type\": \"bar\", \"uid\": \"c92464a0-31d1-4d72-8e14-43af4e430a50\", \"x\": [\"ESO\", \"FPB\", \"BACH\", \"CFGM\", \"CFGS\"], \"y\": [2.0, 1.0, 0.0, 0.0, 0.0]}, {\"name\": \"C1920\", \"type\": \"bar\", \"uid\": \"20c274d6-d0e1-4642-9804-5db6090d7276\", \"x\": [\"ESO\", \"FPB\", \"BACH\", \"CFGM\", \"CFGS\"], \"y\": [4.0, 6.0, 1.0, 0.0, 0.0]}],\n",
       "                        {\"barmode\": \"group\"},\n",
       "                        {\"showLink\": false, \"linkText\": \"Export to plot.ly\", \"plotlyServerURL\": \"https://plot.ly\", \"responsive\": true}\n",
       "                    ).then(function(){\n",
       "                            \n",
       "var gd = document.getElementById('c3885493-1c6f-4c13-879a-60eb9a87b0b9');\n",
       "var x = new MutationObserver(function (mutations, observer) {{\n",
       "        var display = window.getComputedStyle(gd).display;\n",
       "        if (!display || display === 'none') {{\n",
       "            console.log([gd, 'removed!']);\n",
       "            Plotly.purge(gd);\n",
       "            observer.disconnect();\n",
       "        }}\n",
       "}});\n",
       "\n",
       "// Listen for the removal of the full notebook cells\n",
       "var notebookContainer = gd.closest('#notebook-container');\n",
       "if (notebookContainer) {{\n",
       "    x.observe(notebookContainer, {childList: true});\n",
       "}}\n",
       "\n",
       "// Listen for the clearing of the current output cell\n",
       "var outputEl = gd.closest('.output');\n",
       "if (outputEl) {{\n",
       "    x.observe(outputEl, {childList: true});\n",
       "}}\n",
       "\n",
       "                        })\n",
       "                };\n",
       "                });\n",
       "            </script>\n",
       "        </div>"
      ]
     },
     "metadata": {},
     "output_type": "display_data"
    }
   ],
   "source": [
    "aux = df.groupby(['etapa', 'curso', 'evaluación']).sum().reset_index().set_index('etapa')\n",
    "series = {year: aux.loc[stages].query(f'curso == \"{year}\" & evaluación == \"{labels[-1][1]}\"')['suspensión_asistencia'].values\n",
    "          for year in years}\n",
    "\n",
    "myplotly.cbar(stages, series, is_percentage=False)"
   ]
  },
  {
   "cell_type": "code",
   "execution_count": 54,
   "metadata": {
    "scrolled": false
   },
   "outputs": [
    {
     "data": {
      "text/html": [
       "\n",
       "<div class='alert alert-info' role=\"alert\">\n",
       "    Total de partes de gestión con <b>suspensión</b> del derecho de asistencia: <b>11</b>\n",
       "</div>\n"
      ],
      "text/plain": [
       "<IPython.core.display.HTML object>"
      ]
     },
     "metadata": {},
     "output_type": "display_data"
    }
   ],
   "source": [
    "total_non_attendance = dfc_non_attendance.sum()\n",
    "display(HTML(f'''\n",
    "<div class='alert alert-info' role=\"alert\">\n",
    "    Total de partes de gestión con <b>suspensión</b> del derecho de asistencia: <b>{total_non_attendance:.0f}</b>\n",
    "</div>\n",
    "'''))"
   ]
  },
  {
   "cell_type": "markdown",
   "metadata": {},
   "source": [
    "# RELACIÓN `éxito-competencias básicas`"
   ]
  },
  {
   "cell_type": "markdown",
   "metadata": {},
   "source": [
    "> **NOTA**: Análisis únicamente con grupos de la ESO."
   ]
  },
  {
   "cell_type": "code",
   "execution_count": 55,
   "metadata": {},
   "outputs": [
    {
     "data": {
      "application/vnd.plotly.v1+json": {
       "config": {
        "linkText": "Export to plot.ly",
        "plotlyServerURL": "https://plot.ly",
        "responsive": true,
        "showLink": false
       },
       "data": [
        {
         "marker": {
          "size": 12
         },
         "mode": "markers",
         "name": "",
         "showlegend": false,
         "text": [
          "ESO1A",
          "ESO1B",
          "ESO1C",
          "ESO1D",
          "ESO2A",
          "ESO2B",
          "ESO2C",
          "ESO3A",
          "ESO3B",
          "ESO3C",
          "ESO3D",
          "ESO4A",
          "ESO4B",
          "ESO4C"
         ],
         "type": "scatter",
         "uid": "26a7ceb6-1d9b-4957-b4bd-e2dc4584e681",
         "x": [
          32,
          23.1,
          25,
          40.7,
          50,
          25,
          12.5,
          15.4,
          26.9,
          28.6,
          16.7,
          47.6,
          40,
          12
         ],
         "y": [
          4.628571428571428,
          4.796428571428572,
          4.757142857142857,
          5.246428571428573,
          4.775,
          4.357142857142857,
          3.392857142857143,
          4.260714285714286,
          4.210714285714285,
          4.357142857142857,
          3.7428571428571433,
          4.546428571428572,
          4.989285714285714,
          4.264285714285714
         ]
        },
        {
         "hoverinfo": "skip",
         "mode": "lines",
         "name": "Regresión",
         "type": "scatter",
         "uid": "f4634acf-2a27-4b29-88f9-a92f3f2e63c8",
         "x": [
          32,
          23.1,
          25,
          40.7,
          50,
          25,
          12.5,
          15.4,
          26.9,
          28.6,
          16.7,
          47.6,
          40,
          12
         ],
         "y": [
          4.55216658625204,
          4.31392931678529,
          4.364788958581563,
          4.78505020921392,
          5.033994771690411,
          4.364788958581563,
          4.030186052027139,
          4.107813926347765,
          4.4156486003778355,
          4.461154595669237,
          4.142612628629426,
          4.969751013631962,
          4.766312446446872,
          4.016801935764962
         ]
        }
       ],
       "layout": {
        "height": 600,
        "hovermode": "closest",
        "width": 600,
        "xaxis": {
         "title": {
          "text": "Éxito"
         }
        },
        "yaxis": {
         "title": {
          "text": "Competencias básicas"
         }
        }
       }
      },
      "text/html": [
       "<div>\n",
       "        \n",
       "        \n",
       "            <div id=\"ca631f57-b3d6-4a6e-bb65-5bd21aef9e0e\" class=\"plotly-graph-div\" style=\"height:600px; width:600px;\"></div>\n",
       "            <script type=\"text/javascript\">\n",
       "                require([\"plotly\"], function(Plotly) {\n",
       "                    window.PLOTLYENV=window.PLOTLYENV || {};\n",
       "                    window.PLOTLYENV.BASE_URL='https://plot.ly';\n",
       "                    \n",
       "                if (document.getElementById(\"ca631f57-b3d6-4a6e-bb65-5bd21aef9e0e\")) {\n",
       "                    Plotly.newPlot(\n",
       "                        'ca631f57-b3d6-4a6e-bb65-5bd21aef9e0e',\n",
       "                        [{\"marker\": {\"size\": 12}, \"mode\": \"markers\", \"name\": \"\", \"showlegend\": false, \"text\": [\"ESO1A\", \"ESO1B\", \"ESO1C\", \"ESO1D\", \"ESO2A\", \"ESO2B\", \"ESO2C\", \"ESO3A\", \"ESO3B\", \"ESO3C\", \"ESO3D\", \"ESO4A\", \"ESO4B\", \"ESO4C\"], \"type\": \"scatter\", \"uid\": \"224e0323-ad03-45c2-8836-1f22fdffafb7\", \"x\": [32.0, 23.1, 25.0, 40.7, 50.0, 25.0, 12.5, 15.4, 26.9, 28.6, 16.7, 47.6, 40.0, 12.0], \"y\": [4.628571428571428, 4.796428571428572, 4.757142857142857, 5.246428571428573, 4.775, 4.357142857142857, 3.392857142857143, 4.260714285714286, 4.210714285714285, 4.357142857142857, 3.7428571428571433, 4.546428571428572, 4.989285714285714, 4.264285714285714]}, {\"hoverinfo\": \"skip\", \"mode\": \"lines\", \"name\": \"Regresi\\u00f3n\", \"type\": \"scatter\", \"uid\": \"7401ce81-5670-4aff-b064-bc6b0bc8379b\", \"x\": [32.0, 23.1, 25.0, 40.7, 50.0, 25.0, 12.5, 15.4, 26.9, 28.6, 16.7, 47.6, 40.0, 12.0], \"y\": [4.55216658625204, 4.31392931678529, 4.364788958581563, 4.78505020921392, 5.033994771690411, 4.364788958581563, 4.030186052027139, 4.107813926347765, 4.4156486003778355, 4.461154595669237, 4.142612628629426, 4.969751013631962, 4.766312446446872, 4.016801935764962]}],\n",
       "                        {\"height\": 600, \"hovermode\": \"closest\", \"width\": 600, \"xaxis\": {\"title\": {\"text\": \"\\u00c9xito\"}}, \"yaxis\": {\"title\": {\"text\": \"Competencias b\\u00e1sicas\"}}},\n",
       "                        {\"showLink\": false, \"linkText\": \"Export to plot.ly\", \"plotlyServerURL\": \"https://plot.ly\", \"responsive\": true}\n",
       "                    ).then(function(){\n",
       "                            \n",
       "var gd = document.getElementById('ca631f57-b3d6-4a6e-bb65-5bd21aef9e0e');\n",
       "var x = new MutationObserver(function (mutations, observer) {{\n",
       "        var display = window.getComputedStyle(gd).display;\n",
       "        if (!display || display === 'none') {{\n",
       "            console.log([gd, 'removed!']);\n",
       "            Plotly.purge(gd);\n",
       "            observer.disconnect();\n",
       "        }}\n",
       "}});\n",
       "\n",
       "// Listen for the removal of the full notebook cells\n",
       "var notebookContainer = gd.closest('#notebook-container');\n",
       "if (notebookContainer) {{\n",
       "    x.observe(notebookContainer, {childList: true});\n",
       "}}\n",
       "\n",
       "// Listen for the clearing of the current output cell\n",
       "var outputEl = gd.closest('.output');\n",
       "if (outputEl) {{\n",
       "    x.observe(outputEl, {childList: true});\n",
       "}}\n",
       "\n",
       "                        })\n",
       "                };\n",
       "                });\n",
       "            </script>\n",
       "        </div>"
      ]
     },
     "metadata": {},
     "output_type": "display_data"
    }
   ],
   "source": [
    "myplotly.scatter(dfc_ESO['éxito'], dfc_ESO['ccbb'], dfc_ESO.index,\n",
    "        x_title='Éxito', y_title='Competencias básicas')"
   ]
  },
  {
   "cell_type": "code",
   "execution_count": 56,
   "metadata": {},
   "outputs": [
    {
     "data": {
      "text/html": [
       "\n",
       "    <div class='alert alert-success' role='alert'>\n",
       "        COEFICIENTE DE CORRELACIÓN: <b>0.6882</b>\n",
       "    </div>\n"
      ],
      "text/plain": [
       "<IPython.core.display.HTML object>"
      ]
     },
     "metadata": {},
     "output_type": "display_data"
    }
   ],
   "source": [
    "corr = dfc_ESO.corrwith(dfc['éxito'])['ccbb']\n",
    "display(HTML(f'''\n",
    "    <div class='alert alert-success' role='alert'>\n",
    "        COEFICIENTE DE CORRELACIÓN: <b>{corr:.4f}</b>\n",
    "    </div>\n",
    "'''))"
   ]
  },
  {
   "cell_type": "markdown",
   "metadata": {},
   "source": [
    "## Detección de *outliers*"
   ]
  },
  {
   "cell_type": "markdown",
   "metadata": {},
   "source": [
    "### Bajo éxito y alta adquisición de competencias básicas"
   ]
  },
  {
   "cell_type": "code",
   "execution_count": 57,
   "metadata": {
    "scrolled": false
   },
   "outputs": [
    {
     "data": {
      "text/html": [
       "<div>\n",
       "<style scoped>\n",
       "    .dataframe tbody tr th:only-of-type {\n",
       "        vertical-align: middle;\n",
       "    }\n",
       "\n",
       "    .dataframe tbody tr th {\n",
       "        vertical-align: top;\n",
       "    }\n",
       "\n",
       "    .dataframe thead th {\n",
       "        text-align: right;\n",
       "    }\n",
       "</style>\n",
       "<table border=\"1\" class=\"dataframe\">\n",
       "  <thead>\n",
       "    <tr style=\"text-align: right;\">\n",
       "      <th></th>\n",
       "      <th>éxito</th>\n",
       "      <th>ccbb</th>\n",
       "    </tr>\n",
       "    <tr>\n",
       "      <th>grupo</th>\n",
       "      <th></th>\n",
       "      <th></th>\n",
       "    </tr>\n",
       "  </thead>\n",
       "  <tbody>\n",
       "  </tbody>\n",
       "</table>\n",
       "</div>"
      ],
      "text/plain": [
       "Empty DataFrame\n",
       "Columns: [éxito, ccbb]\n",
       "Index: []"
      ]
     },
     "execution_count": 57,
     "metadata": {},
     "output_type": "execute_result"
    }
   ],
   "source": [
    "dfc_ESO[(dfc_ESO['éxito'] < 20) & (dfc_ESO['ccbb'] > 5)][['éxito', 'ccbb']]"
   ]
  },
  {
   "cell_type": "markdown",
   "metadata": {},
   "source": [
    "### Alto éxito y baja adquisición de competencias básicas"
   ]
  },
  {
   "cell_type": "code",
   "execution_count": 58,
   "metadata": {
    "scrolled": false
   },
   "outputs": [
    {
     "data": {
      "text/html": [
       "<div>\n",
       "<style scoped>\n",
       "    .dataframe tbody tr th:only-of-type {\n",
       "        vertical-align: middle;\n",
       "    }\n",
       "\n",
       "    .dataframe tbody tr th {\n",
       "        vertical-align: top;\n",
       "    }\n",
       "\n",
       "    .dataframe thead th {\n",
       "        text-align: right;\n",
       "    }\n",
       "</style>\n",
       "<table border=\"1\" class=\"dataframe\">\n",
       "  <thead>\n",
       "    <tr style=\"text-align: right;\">\n",
       "      <th></th>\n",
       "      <th>éxito</th>\n",
       "      <th>ccbb</th>\n",
       "    </tr>\n",
       "    <tr>\n",
       "      <th>grupo</th>\n",
       "      <th></th>\n",
       "      <th></th>\n",
       "    </tr>\n",
       "  </thead>\n",
       "  <tbody>\n",
       "  </tbody>\n",
       "</table>\n",
       "</div>"
      ],
      "text/plain": [
       "Empty DataFrame\n",
       "Columns: [éxito, ccbb]\n",
       "Index: []"
      ]
     },
     "execution_count": 58,
     "metadata": {},
     "output_type": "execute_result"
    }
   ],
   "source": [
    "dfc_ESO[(dfc_ESO['éxito'] > 50) & (dfc_ESO['ccbb'] < 4)][['éxito', 'ccbb']]"
   ]
  },
  {
   "cell_type": "markdown",
   "metadata": {},
   "source": [
    "# RELACIÓN `ratio-éxito`"
   ]
  },
  {
   "cell_type": "code",
   "execution_count": 59,
   "metadata": {},
   "outputs": [
    {
     "data": {
      "application/vnd.plotly.v1+json": {
       "config": {
        "linkText": "Export to plot.ly",
        "plotlyServerURL": "https://plot.ly",
        "responsive": true,
        "showLink": false
       },
       "data": [
        {
         "marker": {
          "size": 12
         },
         "mode": "markers",
         "name": "",
         "showlegend": false,
         "text": [
          "ESO1A",
          "ESO1B",
          "ESO1C",
          "ESO1D",
          "ESO2A",
          "ESO2B",
          "ESO2C",
          "ESO3A",
          "ESO3B",
          "ESO3C",
          "ESO3D",
          "ESO4A",
          "ESO4B",
          "ESO4C",
          "1FPB",
          "2FPB",
          "1CIE",
          "1SOC",
          "2CIE",
          "2SOC",
          "1TEL",
          "1ELE",
          "1CAR",
          "2TEL",
          "2ELE",
          "2CAR",
          "1ARI",
          "1ALO",
          "1GIT",
          "1ASR",
          "1DAW",
          "2ARI",
          "2ALO",
          "2GIT",
          "2ASR",
          "2DAW"
         ],
         "type": "scatter",
         "uid": "95ded4c2-66ac-4655-b2be-902a9dfe1d60",
         "x": [
          25,
          26,
          28,
          27,
          24,
          16,
          8,
          26,
          26,
          28,
          12,
          21,
          25,
          25,
          15,
          7,
          17,
          25,
          19,
          24,
          17,
          17,
          20,
          9,
          13,
          11,
          14,
          29,
          28,
          29,
          29,
          15,
          23,
          23,
          19,
          13
         ],
         "y": [
          32,
          23.1,
          25,
          40.7,
          50,
          25,
          12.5,
          15.4,
          26.9,
          28.6,
          16.7,
          47.6,
          40,
          12,
          33.3,
          28.6,
          52.9,
          24,
          47.4,
          25,
          23.5,
          23.5,
          25,
          88.9,
          30.8,
          27.3,
          71.4,
          62.1,
          71.4,
          41.4,
          34.5,
          46.7,
          95.7,
          78.3,
          84.2,
          38.5
         ]
        },
        {
         "hoverinfo": "skip",
         "mode": "lines",
         "name": "Regresión",
         "type": "scatter",
         "uid": "aa056ae7-3800-4de0-a183-881021a76b10",
         "x": [
          25,
          26,
          28,
          27,
          24,
          16,
          8,
          26,
          26,
          28,
          12,
          21,
          25,
          25,
          15,
          7,
          17,
          25,
          19,
          24,
          17,
          17,
          20,
          9,
          13,
          11,
          14,
          29,
          28,
          29,
          29,
          15,
          23,
          23,
          19,
          13
         ],
         "y": [
          40.519573535487815,
          40.57229597427561,
          40.67774085185119,
          40.6250184130634,
          40.466851096700026,
          40.04507158639769,
          39.62329207609536,
          40.57229597427561,
          40.57229597427561,
          40.67774085185119,
          39.834181831246525,
          40.30868378033665,
          40.519573535487815,
          40.519573535487815,
          39.9923491476099,
          39.570569637307564,
          40.097794025185486,
          40.519573535487815,
          40.203238902761065,
          40.466851096700026,
          40.097794025185486,
          40.097794025185486,
          40.25596134154886,
          39.67601451488315,
          39.886904270034314,
          39.781459392458736,
          39.93962670882211,
          40.73046329063898,
          40.67774085185119,
          40.73046329063898,
          40.73046329063898,
          39.9923491476099,
          40.41412865791224,
          40.41412865791224,
          40.203238902761065,
          39.886904270034314
         ]
        }
       ],
       "layout": {
        "height": 600,
        "hovermode": "closest",
        "width": 600,
        "xaxis": {
         "title": {
          "text": "Ratio"
         }
        },
        "yaxis": {
         "title": {
          "text": "Éxito"
         }
        }
       }
      },
      "text/html": [
       "<div>\n",
       "        \n",
       "        \n",
       "            <div id=\"4170677c-5178-4275-928c-0040ddac7ff0\" class=\"plotly-graph-div\" style=\"height:600px; width:600px;\"></div>\n",
       "            <script type=\"text/javascript\">\n",
       "                require([\"plotly\"], function(Plotly) {\n",
       "                    window.PLOTLYENV=window.PLOTLYENV || {};\n",
       "                    window.PLOTLYENV.BASE_URL='https://plot.ly';\n",
       "                    \n",
       "                if (document.getElementById(\"4170677c-5178-4275-928c-0040ddac7ff0\")) {\n",
       "                    Plotly.newPlot(\n",
       "                        '4170677c-5178-4275-928c-0040ddac7ff0',\n",
       "                        [{\"marker\": {\"size\": 12}, \"mode\": \"markers\", \"name\": \"\", \"showlegend\": false, \"text\": [\"ESO1A\", \"ESO1B\", \"ESO1C\", \"ESO1D\", \"ESO2A\", \"ESO2B\", \"ESO2C\", \"ESO3A\", \"ESO3B\", \"ESO3C\", \"ESO3D\", \"ESO4A\", \"ESO4B\", \"ESO4C\", \"1FPB\", \"2FPB\", \"1CIE\", \"1SOC\", \"2CIE\", \"2SOC\", \"1TEL\", \"1ELE\", \"1CAR\", \"2TEL\", \"2ELE\", \"2CAR\", \"1ARI\", \"1ALO\", \"1GIT\", \"1ASR\", \"1DAW\", \"2ARI\", \"2ALO\", \"2GIT\", \"2ASR\", \"2DAW\"], \"type\": \"scatter\", \"uid\": \"8cfcfa93-3640-491a-a97d-eb7305dae5ff\", \"x\": [25, 26, 28, 27, 24, 16, 8, 26, 26, 28, 12, 21, 25, 25, 15, 7, 17, 25, 19, 24, 17, 17, 20, 9, 13, 11, 14, 29, 28, 29, 29, 15, 23, 23, 19, 13], \"y\": [32.0, 23.1, 25.0, 40.7, 50.0, 25.0, 12.5, 15.4, 26.9, 28.6, 16.7, 47.6, 40.0, 12.0, 33.3, 28.6, 52.9, 24.0, 47.4, 25.0, 23.5, 23.5, 25.0, 88.9, 30.8, 27.3, 71.4, 62.1, 71.4, 41.4, 34.5, 46.7, 95.7, 78.3, 84.2, 38.5]}, {\"hoverinfo\": \"skip\", \"mode\": \"lines\", \"name\": \"Regresi\\u00f3n\", \"type\": \"scatter\", \"uid\": \"74d32112-97df-40bc-b3e4-6388090dd216\", \"x\": [25, 26, 28, 27, 24, 16, 8, 26, 26, 28, 12, 21, 25, 25, 15, 7, 17, 25, 19, 24, 17, 17, 20, 9, 13, 11, 14, 29, 28, 29, 29, 15, 23, 23, 19, 13], \"y\": [40.519573535487815, 40.57229597427561, 40.67774085185119, 40.6250184130634, 40.466851096700026, 40.04507158639769, 39.62329207609536, 40.57229597427561, 40.57229597427561, 40.67774085185119, 39.834181831246525, 40.30868378033665, 40.519573535487815, 40.519573535487815, 39.9923491476099, 39.570569637307564, 40.097794025185486, 40.519573535487815, 40.203238902761065, 40.466851096700026, 40.097794025185486, 40.097794025185486, 40.25596134154886, 39.67601451488315, 39.886904270034314, 39.781459392458736, 39.93962670882211, 40.73046329063898, 40.67774085185119, 40.73046329063898, 40.73046329063898, 39.9923491476099, 40.41412865791224, 40.41412865791224, 40.203238902761065, 39.886904270034314]}],\n",
       "                        {\"height\": 600, \"hovermode\": \"closest\", \"width\": 600, \"xaxis\": {\"title\": {\"text\": \"Ratio\"}}, \"yaxis\": {\"title\": {\"text\": \"\\u00c9xito\"}}},\n",
       "                        {\"showLink\": false, \"linkText\": \"Export to plot.ly\", \"plotlyServerURL\": \"https://plot.ly\", \"responsive\": true}\n",
       "                    ).then(function(){\n",
       "                            \n",
       "var gd = document.getElementById('4170677c-5178-4275-928c-0040ddac7ff0');\n",
       "var x = new MutationObserver(function (mutations, observer) {{\n",
       "        var display = window.getComputedStyle(gd).display;\n",
       "        if (!display || display === 'none') {{\n",
       "            console.log([gd, 'removed!']);\n",
       "            Plotly.purge(gd);\n",
       "            observer.disconnect();\n",
       "        }}\n",
       "}});\n",
       "\n",
       "// Listen for the removal of the full notebook cells\n",
       "var notebookContainer = gd.closest('#notebook-container');\n",
       "if (notebookContainer) {{\n",
       "    x.observe(notebookContainer, {childList: true});\n",
       "}}\n",
       "\n",
       "// Listen for the clearing of the current output cell\n",
       "var outputEl = gd.closest('.output');\n",
       "if (outputEl) {{\n",
       "    x.observe(outputEl, {childList: true});\n",
       "}}\n",
       "\n",
       "                        })\n",
       "                };\n",
       "                });\n",
       "            </script>\n",
       "        </div>"
      ]
     },
     "metadata": {},
     "output_type": "display_data"
    }
   ],
   "source": [
    "myplotly.scatter(dfc['ratio'], dfc['éxito'], dfc.index,\n",
    "        x_title='Ratio', y_title='Éxito')"
   ]
  },
  {
   "cell_type": "code",
   "execution_count": 60,
   "metadata": {},
   "outputs": [
    {
     "data": {
      "text/html": [
       "\n",
       "    <div class='alert alert-success' role='alert'>\n",
       "        COEFICIENTE DE CORRELACIÓN: <b>0.0158</b>\n",
       "    </div>\n"
      ],
      "text/plain": [
       "<IPython.core.display.HTML object>"
      ]
     },
     "metadata": {},
     "output_type": "display_data"
    }
   ],
   "source": [
    "corr = dfc.corrwith(dfc['ratio'])['éxito']\n",
    "display(HTML(f'''\n",
    "    <div class='alert alert-success' role='alert'>\n",
    "        COEFICIENTE DE CORRELACIÓN: <b>{corr:.4f}</b>\n",
    "    </div>\n",
    "'''))"
   ]
  },
  {
   "cell_type": "markdown",
   "metadata": {},
   "source": [
    "## Detección de *outliers*"
   ]
  },
  {
   "cell_type": "markdown",
   "metadata": {},
   "source": [
    "### Baja ratio y bajo éxito"
   ]
  },
  {
   "cell_type": "code",
   "execution_count": 61,
   "metadata": {
    "scrolled": false
   },
   "outputs": [
    {
     "data": {
      "text/html": [
       "<div>\n",
       "<style scoped>\n",
       "    .dataframe tbody tr th:only-of-type {\n",
       "        vertical-align: middle;\n",
       "    }\n",
       "\n",
       "    .dataframe tbody tr th {\n",
       "        vertical-align: top;\n",
       "    }\n",
       "\n",
       "    .dataframe thead th {\n",
       "        text-align: right;\n",
       "    }\n",
       "</style>\n",
       "<table border=\"1\" class=\"dataframe\">\n",
       "  <thead>\n",
       "    <tr style=\"text-align: right;\">\n",
       "      <th></th>\n",
       "      <th>ratio</th>\n",
       "      <th>éxito</th>\n",
       "    </tr>\n",
       "    <tr>\n",
       "      <th>grupo</th>\n",
       "      <th></th>\n",
       "      <th></th>\n",
       "    </tr>\n",
       "  </thead>\n",
       "  <tbody>\n",
       "    <tr>\n",
       "      <th>ESO2C</th>\n",
       "      <td>8</td>\n",
       "      <td>12.5</td>\n",
       "    </tr>\n",
       "    <tr>\n",
       "      <th>ESO3D</th>\n",
       "      <td>12</td>\n",
       "      <td>16.7</td>\n",
       "    </tr>\n",
       "  </tbody>\n",
       "</table>\n",
       "</div>"
      ],
      "text/plain": [
       "       ratio  éxito\n",
       "grupo              \n",
       "ESO2C      8   12.5\n",
       "ESO3D     12   16.7"
      ]
     },
     "execution_count": 61,
     "metadata": {},
     "output_type": "execute_result"
    }
   ],
   "source": [
    "dfc[(dfc['ratio'] < 20) & (dfc['éxito'] < 20)][['ratio', 'éxito']]"
   ]
  },
  {
   "cell_type": "markdown",
   "metadata": {},
   "source": [
    "### Alta ratio y alto éxito"
   ]
  },
  {
   "cell_type": "code",
   "execution_count": 62,
   "metadata": {
    "scrolled": false
   },
   "outputs": [
    {
     "data": {
      "text/html": [
       "<div>\n",
       "<style scoped>\n",
       "    .dataframe tbody tr th:only-of-type {\n",
       "        vertical-align: middle;\n",
       "    }\n",
       "\n",
       "    .dataframe tbody tr th {\n",
       "        vertical-align: top;\n",
       "    }\n",
       "\n",
       "    .dataframe thead th {\n",
       "        text-align: right;\n",
       "    }\n",
       "</style>\n",
       "<table border=\"1\" class=\"dataframe\">\n",
       "  <thead>\n",
       "    <tr style=\"text-align: right;\">\n",
       "      <th></th>\n",
       "      <th>ratio</th>\n",
       "      <th>éxito</th>\n",
       "    </tr>\n",
       "    <tr>\n",
       "      <th>grupo</th>\n",
       "      <th></th>\n",
       "      <th></th>\n",
       "    </tr>\n",
       "  </thead>\n",
       "  <tbody>\n",
       "    <tr>\n",
       "      <th>1ALO</th>\n",
       "      <td>29</td>\n",
       "      <td>62.1</td>\n",
       "    </tr>\n",
       "    <tr>\n",
       "      <th>1GIT</th>\n",
       "      <td>28</td>\n",
       "      <td>71.4</td>\n",
       "    </tr>\n",
       "  </tbody>\n",
       "</table>\n",
       "</div>"
      ],
      "text/plain": [
       "       ratio  éxito\n",
       "grupo              \n",
       "1ALO      29   62.1\n",
       "1GIT      28   71.4"
      ]
     },
     "execution_count": 62,
     "metadata": {},
     "output_type": "execute_result"
    }
   ],
   "source": [
    "dfc[(dfc['ratio'] > 25) & (dfc['éxito'] > 50)][['ratio', 'éxito']]"
   ]
  },
  {
   "cell_type": "markdown",
   "metadata": {},
   "source": [
    "# RELACIÓN `absentismo-éxito`"
   ]
  },
  {
   "cell_type": "code",
   "execution_count": 63,
   "metadata": {},
   "outputs": [
    {
     "data": {
      "application/vnd.plotly.v1+json": {
       "config": {
        "linkText": "Export to plot.ly",
        "plotlyServerURL": "https://plot.ly",
        "responsive": true,
        "showLink": false
       },
       "data": [
        {
         "marker": {
          "size": 12
         },
         "mode": "markers",
         "name": "",
         "showlegend": false,
         "text": [
          "ESO1A",
          "ESO1B",
          "ESO1C",
          "ESO1D",
          "ESO2A",
          "ESO2B",
          "ESO2C",
          "ESO3A",
          "ESO3B",
          "ESO3C",
          "ESO3D",
          "ESO4A",
          "ESO4B",
          "ESO4C",
          "1FPB",
          "2FPB",
          "1CIE",
          "1SOC",
          "2CIE",
          "2SOC",
          "1TEL",
          "1ELE",
          "1CAR",
          "2TEL",
          "2ELE",
          "2CAR",
          "1ARI",
          "1ALO",
          "1GIT",
          "1ASR",
          "1DAW",
          "2ARI",
          "2ALO",
          "2GIT",
          "2ASR",
          "2DAW"
         ],
         "type": "scatter",
         "uid": "f5d2aec6-0a37-4c32-ad1c-22be963ade67",
         "x": [
          3.48,
          4.86,
          3.5300000000000002,
          6.32,
          4.56,
          3.5500000000000003,
          11.88,
          4.97,
          6.61,
          5.01,
          6.17,
          5.34,
          5.13,
          9.14,
          23.29,
          26.72,
          4.02,
          8.77,
          5.53,
          6.27,
          20.75,
          15.290000000000001,
          20.919999999999998,
          19.83,
          14.93,
          11.08,
          10.43,
          12.76,
          13.27,
          10.97,
          9.73,
          8.1,
          7.66,
          10.84,
          7.1000000000000005,
          18.02
         ],
         "y": [
          32,
          23.1,
          25,
          40.7,
          50,
          25,
          12.5,
          15.4,
          26.9,
          28.6,
          16.7,
          47.6,
          40,
          12,
          33.3,
          28.6,
          52.9,
          24,
          47.4,
          25,
          23.5,
          23.5,
          25,
          88.9,
          30.8,
          27.3,
          71.4,
          62.1,
          71.4,
          41.4,
          34.5,
          46.7,
          95.7,
          78.3,
          84.2,
          38.5
         ]
        },
        {
         "hoverinfo": "skip",
         "mode": "lines",
         "name": "Regresión",
         "type": "scatter",
         "uid": "8d0b0ccc-156a-4af4-ad5f-46d7155d5892",
         "x": [
          3.48,
          4.86,
          3.5300000000000002,
          6.32,
          4.56,
          3.5500000000000003,
          11.88,
          4.97,
          6.61,
          5.01,
          6.17,
          5.34,
          5.13,
          9.14,
          23.29,
          26.72,
          4.02,
          8.77,
          5.53,
          6.27,
          20.75,
          15.290000000000001,
          20.919999999999998,
          19.83,
          14.93,
          11.08,
          10.43,
          12.76,
          13.27,
          10.97,
          9.73,
          8.1,
          7.66,
          10.84,
          7.1000000000000005,
          18.02
         ],
         "y": [
          39.60615354920618,
          39.743716338175076,
          39.61113770822679,
          39.889253781576954,
          39.713811384051404,
          39.61313137183504,
          40.44349226466903,
          39.754681488020424,
          39.918161903896504,
          39.758668815236916,
          39.874301304515114,
          39.79156426477295,
          39.77063079688638,
          40.170360350339486,
          41.580877353172745,
          41.92279066198674,
          39.65998246662879,
          40.13347757358695,
          39.81050406905128,
          39.88426962255634,
          41.32768207492564,
          40.783411909874786,
          41.34462821559572,
          41.235973548946376,
          40.74752596492638,
          40.36374572033924,
          40.29895165307128,
          40.53121346343181,
          40.582051885442056,
          40.35278057049389,
          40.22917342678271,
          40.06668984271075,
          40.02282924332936,
          40.3398217570403,
          39.9670066622985,
          41.05554699240022
         ]
        }
       ],
       "layout": {
        "height": 600,
        "hovermode": "closest",
        "width": 600,
        "xaxis": {
         "title": {
          "text": "Absentismo"
         }
        },
        "yaxis": {
         "title": {
          "text": "Éxito"
         }
        }
       }
      },
      "text/html": [
       "<div>\n",
       "        \n",
       "        \n",
       "            <div id=\"c3c4ead8-8652-46c0-90ec-307c19f2f753\" class=\"plotly-graph-div\" style=\"height:600px; width:600px;\"></div>\n",
       "            <script type=\"text/javascript\">\n",
       "                require([\"plotly\"], function(Plotly) {\n",
       "                    window.PLOTLYENV=window.PLOTLYENV || {};\n",
       "                    window.PLOTLYENV.BASE_URL='https://plot.ly';\n",
       "                    \n",
       "                if (document.getElementById(\"c3c4ead8-8652-46c0-90ec-307c19f2f753\")) {\n",
       "                    Plotly.newPlot(\n",
       "                        'c3c4ead8-8652-46c0-90ec-307c19f2f753',\n",
       "                        [{\"marker\": {\"size\": 12}, \"mode\": \"markers\", \"name\": \"\", \"showlegend\": false, \"text\": [\"ESO1A\", \"ESO1B\", \"ESO1C\", \"ESO1D\", \"ESO2A\", \"ESO2B\", \"ESO2C\", \"ESO3A\", \"ESO3B\", \"ESO3C\", \"ESO3D\", \"ESO4A\", \"ESO4B\", \"ESO4C\", \"1FPB\", \"2FPB\", \"1CIE\", \"1SOC\", \"2CIE\", \"2SOC\", \"1TEL\", \"1ELE\", \"1CAR\", \"2TEL\", \"2ELE\", \"2CAR\", \"1ARI\", \"1ALO\", \"1GIT\", \"1ASR\", \"1DAW\", \"2ARI\", \"2ALO\", \"2GIT\", \"2ASR\", \"2DAW\"], \"type\": \"scatter\", \"uid\": \"435a20f0-5523-4d43-808e-0e7f8aa2b74b\", \"x\": [3.48, 4.86, 3.5300000000000002, 6.32, 4.56, 3.5500000000000003, 11.88, 4.97, 6.61, 5.01, 6.17, 5.34, 5.13, 9.14, 23.29, 26.72, 4.02, 8.77, 5.53, 6.27, 20.75, 15.290000000000001, 20.919999999999998, 19.83, 14.93, 11.08, 10.43, 12.76, 13.27, 10.97, 9.73, 8.1, 7.66, 10.84, 7.1000000000000005, 18.02], \"y\": [32.0, 23.1, 25.0, 40.7, 50.0, 25.0, 12.5, 15.4, 26.9, 28.6, 16.7, 47.6, 40.0, 12.0, 33.3, 28.6, 52.9, 24.0, 47.4, 25.0, 23.5, 23.5, 25.0, 88.9, 30.8, 27.3, 71.4, 62.1, 71.4, 41.4, 34.5, 46.7, 95.7, 78.3, 84.2, 38.5]}, {\"hoverinfo\": \"skip\", \"mode\": \"lines\", \"name\": \"Regresi\\u00f3n\", \"type\": \"scatter\", \"uid\": \"3b62d9f6-87d6-4c56-a090-9b680374aca7\", \"x\": [3.48, 4.86, 3.5300000000000002, 6.32, 4.56, 3.5500000000000003, 11.88, 4.97, 6.61, 5.01, 6.17, 5.34, 5.13, 9.14, 23.29, 26.72, 4.02, 8.77, 5.53, 6.27, 20.75, 15.290000000000001, 20.919999999999998, 19.83, 14.93, 11.08, 10.43, 12.76, 13.27, 10.97, 9.73, 8.1, 7.66, 10.84, 7.1000000000000005, 18.02], \"y\": [39.60615354920618, 39.743716338175076, 39.61113770822679, 39.889253781576954, 39.713811384051404, 39.61313137183504, 40.44349226466903, 39.754681488020424, 39.918161903896504, 39.758668815236916, 39.874301304515114, 39.79156426477295, 39.77063079688638, 40.170360350339486, 41.580877353172745, 41.92279066198674, 39.65998246662879, 40.13347757358695, 39.81050406905128, 39.88426962255634, 41.32768207492564, 40.783411909874786, 41.34462821559572, 41.235973548946376, 40.74752596492638, 40.36374572033924, 40.29895165307128, 40.53121346343181, 40.582051885442056, 40.35278057049389, 40.22917342678271, 40.06668984271075, 40.02282924332936, 40.3398217570403, 39.9670066622985, 41.05554699240022]}],\n",
       "                        {\"height\": 600, \"hovermode\": \"closest\", \"width\": 600, \"xaxis\": {\"title\": {\"text\": \"Absentismo\"}}, \"yaxis\": {\"title\": {\"text\": \"\\u00c9xito\"}}},\n",
       "                        {\"showLink\": false, \"linkText\": \"Export to plot.ly\", \"plotlyServerURL\": \"https://plot.ly\", \"responsive\": true}\n",
       "                    ).then(function(){\n",
       "                            \n",
       "var gd = document.getElementById('c3c4ead8-8652-46c0-90ec-307c19f2f753');\n",
       "var x = new MutationObserver(function (mutations, observer) {{\n",
       "        var display = window.getComputedStyle(gd).display;\n",
       "        if (!display || display === 'none') {{\n",
       "            console.log([gd, 'removed!']);\n",
       "            Plotly.purge(gd);\n",
       "            observer.disconnect();\n",
       "        }}\n",
       "}});\n",
       "\n",
       "// Listen for the removal of the full notebook cells\n",
       "var notebookContainer = gd.closest('#notebook-container');\n",
       "if (notebookContainer) {{\n",
       "    x.observe(notebookContainer, {childList: true});\n",
       "}}\n",
       "\n",
       "// Listen for the clearing of the current output cell\n",
       "var outputEl = gd.closest('.output');\n",
       "if (outputEl) {{\n",
       "    x.observe(outputEl, {childList: true});\n",
       "}}\n",
       "\n",
       "                        })\n",
       "                };\n",
       "                });\n",
       "            </script>\n",
       "        </div>"
      ]
     },
     "metadata": {},
     "output_type": "display_data"
    }
   ],
   "source": [
    "myplotly.scatter(dfc['absentismo'], dfc['éxito'], dfc.index,\n",
    "        x_title='Absentismo', y_title='Éxito')"
   ]
  },
  {
   "cell_type": "code",
   "execution_count": 64,
   "metadata": {},
   "outputs": [
    {
     "data": {
      "text/html": [
       "\n",
       "    <div class='alert alert-success' role='alert'>\n",
       "        COEFICIENTE DE CORRELACIÓN: <b>0.0277</b>\n",
       "    </div>\n"
      ],
      "text/plain": [
       "<IPython.core.display.HTML object>"
      ]
     },
     "metadata": {},
     "output_type": "display_data"
    }
   ],
   "source": [
    "corr = dfc.corrwith(dfc['absentismo'])['éxito']\n",
    "display(HTML(f'''\n",
    "    <div class='alert alert-success' role='alert'>\n",
    "        COEFICIENTE DE CORRELACIÓN: <b>{corr:.4f}</b>\n",
    "    </div>\n",
    "'''))"
   ]
  },
  {
   "cell_type": "markdown",
   "metadata": {},
   "source": [
    "## Detección de *outliers*"
   ]
  },
  {
   "cell_type": "markdown",
   "metadata": {},
   "source": [
    "### Bajo absentismo y bajo éxito"
   ]
  },
  {
   "cell_type": "code",
   "execution_count": 65,
   "metadata": {
    "scrolled": false
   },
   "outputs": [
    {
     "data": {
      "text/html": [
       "<div>\n",
       "<style scoped>\n",
       "    .dataframe tbody tr th:only-of-type {\n",
       "        vertical-align: middle;\n",
       "    }\n",
       "\n",
       "    .dataframe tbody tr th {\n",
       "        vertical-align: top;\n",
       "    }\n",
       "\n",
       "    .dataframe thead th {\n",
       "        text-align: right;\n",
       "    }\n",
       "</style>\n",
       "<table border=\"1\" class=\"dataframe\">\n",
       "  <thead>\n",
       "    <tr style=\"text-align: right;\">\n",
       "      <th></th>\n",
       "      <th>absentismo</th>\n",
       "      <th>éxito</th>\n",
       "    </tr>\n",
       "    <tr>\n",
       "      <th>grupo</th>\n",
       "      <th></th>\n",
       "      <th></th>\n",
       "    </tr>\n",
       "  </thead>\n",
       "  <tbody>\n",
       "    <tr>\n",
       "      <th>ESO4C</th>\n",
       "      <td>9.14</td>\n",
       "      <td>12.0</td>\n",
       "    </tr>\n",
       "  </tbody>\n",
       "</table>\n",
       "</div>"
      ],
      "text/plain": [
       "       absentismo  éxito\n",
       "grupo                   \n",
       "ESO4C        9.14   12.0"
      ]
     },
     "execution_count": 65,
     "metadata": {},
     "output_type": "execute_result"
    }
   ],
   "source": [
    "dfc[(dfc['absentismo'] < 10) & (dfc['éxito'] < 15)][['absentismo', 'éxito']]"
   ]
  },
  {
   "cell_type": "markdown",
   "metadata": {},
   "source": [
    "### Alto absentismo y alto éxito"
   ]
  },
  {
   "cell_type": "code",
   "execution_count": 66,
   "metadata": {
    "scrolled": false
   },
   "outputs": [
    {
     "data": {
      "text/html": [
       "<div>\n",
       "<style scoped>\n",
       "    .dataframe tbody tr th:only-of-type {\n",
       "        vertical-align: middle;\n",
       "    }\n",
       "\n",
       "    .dataframe tbody tr th {\n",
       "        vertical-align: top;\n",
       "    }\n",
       "\n",
       "    .dataframe thead th {\n",
       "        text-align: right;\n",
       "    }\n",
       "</style>\n",
       "<table border=\"1\" class=\"dataframe\">\n",
       "  <thead>\n",
       "    <tr style=\"text-align: right;\">\n",
       "      <th></th>\n",
       "      <th>absentismo</th>\n",
       "      <th>éxito</th>\n",
       "    </tr>\n",
       "    <tr>\n",
       "      <th>grupo</th>\n",
       "      <th></th>\n",
       "      <th></th>\n",
       "    </tr>\n",
       "  </thead>\n",
       "  <tbody>\n",
       "  </tbody>\n",
       "</table>\n",
       "</div>"
      ],
      "text/plain": [
       "Empty DataFrame\n",
       "Columns: [absentismo, éxito]\n",
       "Index: []"
      ]
     },
     "execution_count": 66,
     "metadata": {},
     "output_type": "execute_result"
    }
   ],
   "source": [
    "dfc[(dfc['absentismo'] > 25) & (dfc['éxito'] > 50)][['absentismo', 'éxito']]"
   ]
  },
  {
   "cell_type": "markdown",
   "metadata": {},
   "source": [
    "# RELACIÓN `partes-éxito`"
   ]
  },
  {
   "cell_type": "code",
   "execution_count": 67,
   "metadata": {},
   "outputs": [
    {
     "data": {
      "application/vnd.plotly.v1+json": {
       "config": {
        "linkText": "Export to plot.ly",
        "plotlyServerURL": "https://plot.ly",
        "responsive": true,
        "showLink": false
       },
       "data": [
        {
         "marker": {
          "size": 12
         },
         "mode": "markers",
         "name": "",
         "showlegend": false,
         "text": [
          "ESO1A",
          "ESO1B",
          "ESO1C",
          "ESO1D",
          "ESO2A",
          "ESO2B",
          "ESO2C",
          "ESO3A",
          "ESO3B",
          "ESO3C",
          "ESO3D",
          "ESO4A",
          "ESO4B",
          "ESO4C",
          "1FPB",
          "2FPB",
          "1CIE",
          "1SOC",
          "2CIE",
          "2SOC",
          "1TEL",
          "1ELE",
          "1CAR",
          "2TEL",
          "2ELE",
          "2CAR",
          "1ARI",
          "1ALO",
          "1GIT",
          "1ASR",
          "1DAW",
          "2ARI",
          "2ALO",
          "2GIT",
          "2ASR",
          "2DAW"
         ],
         "type": "scatter",
         "uid": "0bf8f760-0831-4564-b412-d4913b70ae52",
         "x": [
          1,
          0,
          2,
          1,
          3,
          3,
          6,
          0,
          0,
          3,
          0,
          0,
          0,
          5,
          10,
          6,
          0,
          7,
          0,
          0,
          0,
          0,
          0,
          0,
          0,
          0,
          0,
          0,
          0,
          0,
          0,
          0,
          0,
          0,
          0,
          0
         ],
         "y": [
          32,
          23.1,
          25,
          40.7,
          50,
          25,
          12.5,
          15.4,
          26.9,
          28.6,
          16.7,
          47.6,
          40,
          12,
          33.3,
          28.6,
          52.9,
          24,
          47.4,
          25,
          23.5,
          23.5,
          25,
          88.9,
          30.8,
          27.3,
          71.4,
          62.1,
          71.4,
          41.4,
          34.5,
          46.7,
          95.7,
          78.3,
          84.2,
          38.5
         ]
        },
        {
         "hoverinfo": "skip",
         "mode": "lines",
         "name": "Regresión",
         "type": "scatter",
         "uid": "62329d07-b464-4fe5-a137-f06bb8c39c0b",
         "x": [
          1,
          0,
          2,
          1,
          3,
          3,
          6,
          0,
          0,
          3,
          0,
          0,
          0,
          5,
          10,
          6,
          0,
          7,
          0,
          0,
          0,
          0,
          0,
          0,
          0,
          0,
          0,
          0,
          0,
          0,
          0,
          0,
          0,
          0,
          0,
          0
         ],
         "y": [
          41.19013401403957,
          44.18511805998724,
          38.1951499680919,
          41.19013401403957,
          35.20016592214423,
          35.20016592214423,
          26.21521378430122,
          44.18511805998724,
          44.18511805998724,
          35.20016592214423,
          44.18511805998724,
          44.18511805998724,
          44.18511805998724,
          29.210197830248887,
          14.235277600510535,
          26.21521378430122,
          44.18511805998724,
          23.22022973835355,
          44.18511805998724,
          44.18511805998724,
          44.18511805998724,
          44.18511805998724,
          44.18511805998724,
          44.18511805998724,
          44.18511805998724,
          44.18511805998724,
          44.18511805998724,
          44.18511805998724,
          44.18511805998724,
          44.18511805998724,
          44.18511805998724,
          44.18511805998724,
          44.18511805998724,
          44.18511805998724,
          44.18511805998724,
          44.18511805998724
         ]
        }
       ],
       "layout": {
        "height": 600,
        "hovermode": "closest",
        "width": 600,
        "xaxis": {
         "title": {
          "text": "Partes de gestión"
         }
        },
        "yaxis": {
         "title": {
          "text": "Éxito"
         }
        }
       }
      },
      "text/html": [
       "<div>\n",
       "        \n",
       "        \n",
       "            <div id=\"6b13642e-6073-41c5-b831-e2ae48c8957c\" class=\"plotly-graph-div\" style=\"height:600px; width:600px;\"></div>\n",
       "            <script type=\"text/javascript\">\n",
       "                require([\"plotly\"], function(Plotly) {\n",
       "                    window.PLOTLYENV=window.PLOTLYENV || {};\n",
       "                    window.PLOTLYENV.BASE_URL='https://plot.ly';\n",
       "                    \n",
       "                if (document.getElementById(\"6b13642e-6073-41c5-b831-e2ae48c8957c\")) {\n",
       "                    Plotly.newPlot(\n",
       "                        '6b13642e-6073-41c5-b831-e2ae48c8957c',\n",
       "                        [{\"marker\": {\"size\": 12}, \"mode\": \"markers\", \"name\": \"\", \"showlegend\": false, \"text\": [\"ESO1A\", \"ESO1B\", \"ESO1C\", \"ESO1D\", \"ESO2A\", \"ESO2B\", \"ESO2C\", \"ESO3A\", \"ESO3B\", \"ESO3C\", \"ESO3D\", \"ESO4A\", \"ESO4B\", \"ESO4C\", \"1FPB\", \"2FPB\", \"1CIE\", \"1SOC\", \"2CIE\", \"2SOC\", \"1TEL\", \"1ELE\", \"1CAR\", \"2TEL\", \"2ELE\", \"2CAR\", \"1ARI\", \"1ALO\", \"1GIT\", \"1ASR\", \"1DAW\", \"2ARI\", \"2ALO\", \"2GIT\", \"2ASR\", \"2DAW\"], \"type\": \"scatter\", \"uid\": \"3092bf90-72cf-49b4-9f2e-cfca68e4c026\", \"x\": [1.0, 0.0, 2.0, 1.0, 3.0, 3.0, 6.0, 0.0, 0.0, 3.0, 0.0, 0.0, 0.0, 5.0, 10.0, 6.0, 0.0, 7.0, 0.0, 0.0, 0.0, 0.0, 0.0, 0.0, 0.0, 0.0, 0.0, 0.0, 0.0, 0.0, 0.0, 0.0, 0.0, 0.0, 0.0, 0.0], \"y\": [32.0, 23.1, 25.0, 40.7, 50.0, 25.0, 12.5, 15.4, 26.9, 28.6, 16.7, 47.6, 40.0, 12.0, 33.3, 28.6, 52.9, 24.0, 47.4, 25.0, 23.5, 23.5, 25.0, 88.9, 30.8, 27.3, 71.4, 62.1, 71.4, 41.4, 34.5, 46.7, 95.7, 78.3, 84.2, 38.5]}, {\"hoverinfo\": \"skip\", \"mode\": \"lines\", \"name\": \"Regresi\\u00f3n\", \"type\": \"scatter\", \"uid\": \"32b5c0ca-bb8c-4389-8c0c-44f468f9e249\", \"x\": [1.0, 0.0, 2.0, 1.0, 3.0, 3.0, 6.0, 0.0, 0.0, 3.0, 0.0, 0.0, 0.0, 5.0, 10.0, 6.0, 0.0, 7.0, 0.0, 0.0, 0.0, 0.0, 0.0, 0.0, 0.0, 0.0, 0.0, 0.0, 0.0, 0.0, 0.0, 0.0, 0.0, 0.0, 0.0, 0.0], \"y\": [41.19013401403957, 44.18511805998724, 38.1951499680919, 41.19013401403957, 35.20016592214423, 35.20016592214423, 26.21521378430122, 44.18511805998724, 44.18511805998724, 35.20016592214423, 44.18511805998724, 44.18511805998724, 44.18511805998724, 29.210197830248887, 14.235277600510535, 26.21521378430122, 44.18511805998724, 23.22022973835355, 44.18511805998724, 44.18511805998724, 44.18511805998724, 44.18511805998724, 44.18511805998724, 44.18511805998724, 44.18511805998724, 44.18511805998724, 44.18511805998724, 44.18511805998724, 44.18511805998724, 44.18511805998724, 44.18511805998724, 44.18511805998724, 44.18511805998724, 44.18511805998724, 44.18511805998724, 44.18511805998724]}],\n",
       "                        {\"height\": 600, \"hovermode\": \"closest\", \"width\": 600, \"xaxis\": {\"title\": {\"text\": \"Partes de gesti\\u00f3n\"}}, \"yaxis\": {\"title\": {\"text\": \"\\u00c9xito\"}}},\n",
       "                        {\"showLink\": false, \"linkText\": \"Export to plot.ly\", \"plotlyServerURL\": \"https://plot.ly\", \"responsive\": true}\n",
       "                    ).then(function(){\n",
       "                            \n",
       "var gd = document.getElementById('6b13642e-6073-41c5-b831-e2ae48c8957c');\n",
       "var x = new MutationObserver(function (mutations, observer) {{\n",
       "        var display = window.getComputedStyle(gd).display;\n",
       "        if (!display || display === 'none') {{\n",
       "            console.log([gd, 'removed!']);\n",
       "            Plotly.purge(gd);\n",
       "            observer.disconnect();\n",
       "        }}\n",
       "}});\n",
       "\n",
       "// Listen for the removal of the full notebook cells\n",
       "var notebookContainer = gd.closest('#notebook-container');\n",
       "if (notebookContainer) {{\n",
       "    x.observe(notebookContainer, {childList: true});\n",
       "}}\n",
       "\n",
       "// Listen for the clearing of the current output cell\n",
       "var outputEl = gd.closest('.output');\n",
       "if (outputEl) {{\n",
       "    x.observe(outputEl, {childList: true});\n",
       "}}\n",
       "\n",
       "                        })\n",
       "                };\n",
       "                });\n",
       "            </script>\n",
       "        </div>"
      ]
     },
     "metadata": {},
     "output_type": "display_data"
    }
   ],
   "source": [
    "myplotly.scatter(dfc['partes'], dfc['éxito'], dfc.index,\n",
    "        x_title='Partes de gestión', y_title='Éxito')"
   ]
  },
  {
   "cell_type": "code",
   "execution_count": 68,
   "metadata": {},
   "outputs": [
    {
     "data": {
      "text/html": [
       "\n",
       "    <div class='alert alert-success' role='alert'>\n",
       "        COEFICIENTE DE CORRELACIÓN: <b>-0.3360</b>\n",
       "    </div>\n"
      ],
      "text/plain": [
       "<IPython.core.display.HTML object>"
      ]
     },
     "metadata": {},
     "output_type": "display_data"
    }
   ],
   "source": [
    "corr = dfc.corrwith(dfc['partes'])['éxito']\n",
    "display(HTML(f'''\n",
    "    <div class='alert alert-success' role='alert'>\n",
    "        COEFICIENTE DE CORRELACIÓN: <b>{corr:.4f}</b>\n",
    "    </div>\n",
    "'''))"
   ]
  },
  {
   "cell_type": "markdown",
   "metadata": {},
   "source": [
    "## Detección de *outliers*"
   ]
  },
  {
   "cell_type": "markdown",
   "metadata": {},
   "source": [
    "### Bajo número de partes y bajo éxito"
   ]
  },
  {
   "cell_type": "code",
   "execution_count": 69,
   "metadata": {
    "scrolled": false
   },
   "outputs": [
    {
     "data": {
      "text/html": [
       "<div>\n",
       "<style scoped>\n",
       "    .dataframe tbody tr th:only-of-type {\n",
       "        vertical-align: middle;\n",
       "    }\n",
       "\n",
       "    .dataframe tbody tr th {\n",
       "        vertical-align: top;\n",
       "    }\n",
       "\n",
       "    .dataframe thead th {\n",
       "        text-align: right;\n",
       "    }\n",
       "</style>\n",
       "<table border=\"1\" class=\"dataframe\">\n",
       "  <thead>\n",
       "    <tr style=\"text-align: right;\">\n",
       "      <th></th>\n",
       "      <th>partes</th>\n",
       "      <th>éxito</th>\n",
       "    </tr>\n",
       "    <tr>\n",
       "      <th>grupo</th>\n",
       "      <th></th>\n",
       "      <th></th>\n",
       "    </tr>\n",
       "  </thead>\n",
       "  <tbody>\n",
       "  </tbody>\n",
       "</table>\n",
       "</div>"
      ],
      "text/plain": [
       "Empty DataFrame\n",
       "Columns: [partes, éxito]\n",
       "Index: []"
      ]
     },
     "execution_count": 69,
     "metadata": {},
     "output_type": "execute_result"
    }
   ],
   "source": [
    "dfc[(dfc['partes'] < 10) & (dfc['éxito'] < 10)][['partes', 'éxito']]"
   ]
  },
  {
   "cell_type": "markdown",
   "metadata": {},
   "source": [
    "### Alto número de partes y alto éxito"
   ]
  },
  {
   "cell_type": "code",
   "execution_count": 70,
   "metadata": {
    "scrolled": false
   },
   "outputs": [
    {
     "data": {
      "text/html": [
       "<div>\n",
       "<style scoped>\n",
       "    .dataframe tbody tr th:only-of-type {\n",
       "        vertical-align: middle;\n",
       "    }\n",
       "\n",
       "    .dataframe tbody tr th {\n",
       "        vertical-align: top;\n",
       "    }\n",
       "\n",
       "    .dataframe thead th {\n",
       "        text-align: right;\n",
       "    }\n",
       "</style>\n",
       "<table border=\"1\" class=\"dataframe\">\n",
       "  <thead>\n",
       "    <tr style=\"text-align: right;\">\n",
       "      <th></th>\n",
       "      <th>partes</th>\n",
       "      <th>éxito</th>\n",
       "    </tr>\n",
       "    <tr>\n",
       "      <th>grupo</th>\n",
       "      <th></th>\n",
       "      <th></th>\n",
       "    </tr>\n",
       "  </thead>\n",
       "  <tbody>\n",
       "  </tbody>\n",
       "</table>\n",
       "</div>"
      ],
      "text/plain": [
       "Empty DataFrame\n",
       "Columns: [partes, éxito]\n",
       "Index: []"
      ]
     },
     "execution_count": 70,
     "metadata": {},
     "output_type": "execute_result"
    }
   ],
   "source": [
    "dfc[(dfc['partes'] > 15) & (dfc['éxito'] > 30)][['partes', 'éxito']]"
   ]
  },
  {
   "cell_type": "markdown",
   "metadata": {},
   "source": [
    "# GRUPOS MÁGICOS"
   ]
  },
  {
   "cell_type": "markdown",
   "metadata": {},
   "source": [
    "> Son aquellos que tienen mejores valores de éxito escolar, menor absentismo y menos partes de gestión."
   ]
  },
  {
   "cell_type": "markdown",
   "metadata": {},
   "source": [
    "\\begin{equation}\n",
    "magic = 0.6 · success + 0.2 · e^{-absence} + 0.2 · e^{-reports}\n",
    "\\end{equation}"
   ]
  },
  {
   "cell_type": "code",
   "execution_count": 71,
   "metadata": {
    "scrolled": true
   },
   "outputs": [
    {
     "data": {
      "application/vnd.plotly.v1+json": {
       "config": {
        "linkText": "Export to plot.ly",
        "plotlyServerURL": "https://plot.ly",
        "responsive": true,
        "showLink": false
       },
       "data": [
        {
         "name": "Éxito escolar",
         "type": "bar",
         "uid": "4039f729-0b67-42cb-9269-1c2a7066ebce",
         "x": [
          "2ALO",
          "2TEL",
          "2ASR",
          "2GIT",
          "1ARI",
          "1GIT",
          "1ALO",
          "1CIE",
          "ESO2A",
          "ESO4A",
          "2CIE",
          "2ARI",
          "1ASR",
          "ESO1D",
          "ESO4B",
          "2DAW",
          "1DAW",
          "1FPB",
          "ESO1A",
          "2ELE",
          "ESO3C",
          "2FPB",
          "2CAR",
          "ESO3B",
          "2SOC",
          "1CAR",
          "ESO1C",
          "ESO2B",
          "1SOC",
          "1ELE",
          "1TEL",
          "ESO1B",
          "ESO3D",
          "ESO3A",
          "ESO2C",
          "ESO4C"
         ],
         "y": [
          95.7,
          88.9,
          84.2,
          78.3,
          71.4,
          71.4,
          62.1,
          52.9,
          50,
          47.6,
          47.4,
          46.7,
          41.4,
          40.7,
          40,
          38.5,
          34.5,
          33.3,
          32,
          30.8,
          28.6,
          28.6,
          27.3,
          26.9,
          25,
          25,
          25,
          25,
          24,
          23.5,
          23.5,
          23.1,
          16.7,
          15.4,
          12.5,
          12
         ]
        },
        {
         "name": "Absentismo",
         "type": "bar",
         "uid": "cd75b36b-28fe-495f-9052-403dea57c05d",
         "x": [
          "2ALO",
          "2TEL",
          "2ASR",
          "2GIT",
          "1ARI",
          "1GIT",
          "1ALO",
          "1CIE",
          "ESO2A",
          "ESO4A",
          "2CIE",
          "2ARI",
          "1ASR",
          "ESO1D",
          "ESO4B",
          "2DAW",
          "1DAW",
          "1FPB",
          "ESO1A",
          "2ELE",
          "ESO3C",
          "2FPB",
          "2CAR",
          "ESO3B",
          "2SOC",
          "1CAR",
          "ESO1C",
          "ESO2B",
          "1SOC",
          "1ELE",
          "1TEL",
          "ESO1B",
          "ESO3D",
          "ESO3A",
          "ESO2C",
          "ESO4C"
         ],
         "y": [
          7.66,
          19.83,
          7.1000000000000005,
          10.84,
          10.43,
          13.27,
          12.76,
          4.02,
          4.56,
          5.34,
          5.53,
          8.1,
          10.97,
          6.32,
          5.13,
          18.02,
          9.73,
          23.29,
          3.48,
          14.93,
          5.01,
          26.72,
          11.08,
          6.61,
          6.27,
          20.919999999999998,
          3.5300000000000002,
          3.5500000000000003,
          8.77,
          15.290000000000001,
          20.75,
          4.86,
          6.17,
          4.97,
          11.88,
          9.14
         ]
        },
        {
         "name": "Partes gestión",
         "type": "bar",
         "uid": "e7b2383d-cce1-46df-b235-8cd17fb03731",
         "x": [
          "2ALO",
          "2TEL",
          "2ASR",
          "2GIT",
          "1ARI",
          "1GIT",
          "1ALO",
          "1CIE",
          "ESO2A",
          "ESO4A",
          "2CIE",
          "2ARI",
          "1ASR",
          "ESO1D",
          "ESO4B",
          "2DAW",
          "1DAW",
          "1FPB",
          "ESO1A",
          "2ELE",
          "ESO3C",
          "2FPB",
          "2CAR",
          "ESO3B",
          "2SOC",
          "1CAR",
          "ESO1C",
          "ESO2B",
          "1SOC",
          "1ELE",
          "1TEL",
          "ESO1B",
          "ESO3D",
          "ESO3A",
          "ESO2C",
          "ESO4C"
         ],
         "y": [
          0,
          0,
          0,
          0,
          0,
          0,
          0,
          0,
          3,
          0,
          0,
          0,
          0,
          1,
          0,
          0,
          0,
          10,
          1,
          0,
          3,
          6,
          0,
          0,
          0,
          0,
          2,
          3,
          7,
          0,
          0,
          0,
          0,
          0,
          6,
          5
         ]
        }
       ],
       "layout": {
        "barmode": "stack"
       }
      },
      "text/html": [
       "<div>\n",
       "        \n",
       "        \n",
       "            <div id=\"100b1f07-655a-4266-b729-89891ed7baac\" class=\"plotly-graph-div\" style=\"height:525px; width:100%;\"></div>\n",
       "            <script type=\"text/javascript\">\n",
       "                require([\"plotly\"], function(Plotly) {\n",
       "                    window.PLOTLYENV=window.PLOTLYENV || {};\n",
       "                    window.PLOTLYENV.BASE_URL='https://plot.ly';\n",
       "                    \n",
       "                if (document.getElementById(\"100b1f07-655a-4266-b729-89891ed7baac\")) {\n",
       "                    Plotly.newPlot(\n",
       "                        '100b1f07-655a-4266-b729-89891ed7baac',\n",
       "                        [{\"name\": \"\\u00c9xito escolar\", \"type\": \"bar\", \"uid\": \"4bd9293a-dc0d-41f3-bf55-9404b2c66941\", \"x\": [\"2ALO\", \"2TEL\", \"2ASR\", \"2GIT\", \"1ARI\", \"1GIT\", \"1ALO\", \"1CIE\", \"ESO2A\", \"ESO4A\", \"2CIE\", \"2ARI\", \"1ASR\", \"ESO1D\", \"ESO4B\", \"2DAW\", \"1DAW\", \"1FPB\", \"ESO1A\", \"2ELE\", \"ESO3C\", \"2FPB\", \"2CAR\", \"ESO3B\", \"2SOC\", \"1CAR\", \"ESO1C\", \"ESO2B\", \"1SOC\", \"1ELE\", \"1TEL\", \"ESO1B\", \"ESO3D\", \"ESO3A\", \"ESO2C\", \"ESO4C\"], \"y\": [95.7, 88.9, 84.2, 78.3, 71.4, 71.4, 62.1, 52.9, 50.0, 47.6, 47.4, 46.7, 41.4, 40.7, 40.0, 38.5, 34.5, 33.3, 32.0, 30.8, 28.6, 28.6, 27.3, 26.9, 25.0, 25.0, 25.0, 25.0, 24.0, 23.5, 23.5, 23.1, 16.7, 15.4, 12.5, 12.0]}, {\"name\": \"Absentismo\", \"type\": \"bar\", \"uid\": \"c474477a-b8f6-45ba-9ab8-519cdbebc8d3\", \"x\": [\"2ALO\", \"2TEL\", \"2ASR\", \"2GIT\", \"1ARI\", \"1GIT\", \"1ALO\", \"1CIE\", \"ESO2A\", \"ESO4A\", \"2CIE\", \"2ARI\", \"1ASR\", \"ESO1D\", \"ESO4B\", \"2DAW\", \"1DAW\", \"1FPB\", \"ESO1A\", \"2ELE\", \"ESO3C\", \"2FPB\", \"2CAR\", \"ESO3B\", \"2SOC\", \"1CAR\", \"ESO1C\", \"ESO2B\", \"1SOC\", \"1ELE\", \"1TEL\", \"ESO1B\", \"ESO3D\", \"ESO3A\", \"ESO2C\", \"ESO4C\"], \"y\": [7.66, 19.83, 7.1000000000000005, 10.84, 10.43, 13.27, 12.76, 4.02, 4.56, 5.34, 5.53, 8.1, 10.97, 6.32, 5.13, 18.02, 9.73, 23.29, 3.48, 14.93, 5.01, 26.72, 11.08, 6.61, 6.27, 20.919999999999998, 3.5300000000000002, 3.5500000000000003, 8.77, 15.290000000000001, 20.75, 4.86, 6.17, 4.97, 11.88, 9.14]}, {\"name\": \"Partes gesti\\u00f3n\", \"type\": \"bar\", \"uid\": \"f9668029-52e4-490a-a66e-307d24eb8901\", \"x\": [\"2ALO\", \"2TEL\", \"2ASR\", \"2GIT\", \"1ARI\", \"1GIT\", \"1ALO\", \"1CIE\", \"ESO2A\", \"ESO4A\", \"2CIE\", \"2ARI\", \"1ASR\", \"ESO1D\", \"ESO4B\", \"2DAW\", \"1DAW\", \"1FPB\", \"ESO1A\", \"2ELE\", \"ESO3C\", \"2FPB\", \"2CAR\", \"ESO3B\", \"2SOC\", \"1CAR\", \"ESO1C\", \"ESO2B\", \"1SOC\", \"1ELE\", \"1TEL\", \"ESO1B\", \"ESO3D\", \"ESO3A\", \"ESO2C\", \"ESO4C\"], \"y\": [0.0, 0.0, 0.0, 0.0, 0.0, 0.0, 0.0, 0.0, 3.0, 0.0, 0.0, 0.0, 0.0, 1.0, 0.0, 0.0, 0.0, 10.0, 1.0, 0.0, 3.0, 6.0, 0.0, 0.0, 0.0, 0.0, 2.0, 3.0, 7.0, 0.0, 0.0, 0.0, 0.0, 0.0, 6.0, 5.0]}],\n",
       "                        {\"barmode\": \"stack\"},\n",
       "                        {\"showLink\": false, \"linkText\": \"Export to plot.ly\", \"plotlyServerURL\": \"https://plot.ly\", \"responsive\": true}\n",
       "                    ).then(function(){\n",
       "                            \n",
       "var gd = document.getElementById('100b1f07-655a-4266-b729-89891ed7baac');\n",
       "var x = new MutationObserver(function (mutations, observer) {{\n",
       "        var display = window.getComputedStyle(gd).display;\n",
       "        if (!display || display === 'none') {{\n",
       "            console.log([gd, 'removed!']);\n",
       "            Plotly.purge(gd);\n",
       "            observer.disconnect();\n",
       "        }}\n",
       "}});\n",
       "\n",
       "// Listen for the removal of the full notebook cells\n",
       "var notebookContainer = gd.closest('#notebook-container');\n",
       "if (notebookContainer) {{\n",
       "    x.observe(notebookContainer, {childList: true});\n",
       "}}\n",
       "\n",
       "// Listen for the clearing of the current output cell\n",
       "var outputEl = gd.closest('.output');\n",
       "if (outputEl) {{\n",
       "    x.observe(outputEl, {childList: true});\n",
       "}}\n",
       "\n",
       "                        })\n",
       "                };\n",
       "                });\n",
       "            </script>\n",
       "        </div>"
      ]
     },
     "metadata": {},
     "output_type": "display_data"
    }
   ],
   "source": [
    "df2 = dfc.copy()\n",
    "df2['magic'] = 0.6 * df2['éxito'] + 0.2 * \\\n",
    "    np.exp(-df2['absentismo']) + 0.2 * np.exp(-df2['partes'])\n",
    "magic = df2.sort_values('magic', ascending=False)\n",
    "\n",
    "series = {\n",
    "    'Éxito escolar': magic['éxito'].values,\n",
    "    'Absentismo': magic['absentismo'].values,\n",
    "    'Partes gestión': magic['partes'].values\n",
    "}\n",
    "\n",
    "myplotly.cbar(magic.index, series, is_percentage=False, barmode='stack')"
   ]
  }
 ],
 "metadata": {
  "kernelspec": {
   "display_name": "Python 3",
   "language": "python",
   "name": "python3"
  },
  "language_info": {
   "codemirror_mode": {
    "name": "ipython",
    "version": 3
   },
   "file_extension": ".py",
   "mimetype": "text/x-python",
   "name": "python",
   "nbconvert_exporter": "python",
   "pygments_lexer": "ipython3",
   "version": "3.7.4"
  }
 },
 "nbformat": 4,
 "nbformat_minor": 2
}
