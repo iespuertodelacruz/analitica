{
 "cells": [
  {
   "cell_type": "code",
   "execution_count": 1,
   "metadata": {
    "scrolled": false
   },
   "outputs": [],
   "source": [
    "YEAR, EVALUATION = 2019, 1"
   ]
  },
  {
   "cell_type": "code",
   "execution_count": 2,
   "metadata": {
    "scrolled": false
   },
   "outputs": [
    {
     "data": {
      "text/html": [
       "<h1>ANÁLISIS DE LA 1ª EVALUACIÓN</h1>"
      ],
      "text/plain": [
       "<IPython.core.display.HTML object>"
      ]
     },
     "metadata": {},
     "output_type": "display_data"
    },
    {
     "data": {
      "text/html": [
       "<h2>IES Puerto de la Cruz - Telesforo Bravo | Curso 2019-2020</h2>"
      ],
      "text/plain": [
       "<IPython.core.display.HTML object>"
      ]
     },
     "metadata": {},
     "output_type": "display_data"
    }
   ],
   "source": [
    "from IPython.core.display import display, HTML\n",
    "display(HTML(f'<h1>ANÁLISIS DE LA {EVALUATION}ª EVALUACIÓN</h1>'))\n",
    "display(HTML(f'<h2>IES Puerto de la Cruz - Telesforo Bravo | Curso {YEAR}-{YEAR + 1}</h2>'))"
   ]
  },
  {
   "cell_type": "code",
   "execution_count": 3,
   "metadata": {
    "scrolled": false
   },
   "outputs": [
    {
     "data": {
      "text/html": [
       "        <script type=\"text/javascript\">\n",
       "        window.PlotlyConfig = {MathJaxConfig: 'local'};\n",
       "        if (window.MathJax) {MathJax.Hub.Config({SVG: {font: \"STIX-Web\"}});}\n",
       "        if (typeof require !== 'undefined') {\n",
       "        require.undef(\"plotly\");\n",
       "        requirejs.config({\n",
       "            paths: {\n",
       "                'plotly': ['https://cdn.plot.ly/plotly-latest.min']\n",
       "            }\n",
       "        });\n",
       "        require(['plotly'], function(Plotly) {\n",
       "            window._Plotly = Plotly;\n",
       "        });\n",
       "        }\n",
       "        </script>\n",
       "        "
      ]
     },
     "metadata": {},
     "output_type": "display_data"
    },
    {
     "data": {
      "text/html": [
       "        <script type=\"text/javascript\">\n",
       "        window.PlotlyConfig = {MathJaxConfig: 'local'};\n",
       "        if (window.MathJax) {MathJax.Hub.Config({SVG: {font: \"STIX-Web\"}});}\n",
       "        if (typeof require !== 'undefined') {\n",
       "        require.undef(\"plotly\");\n",
       "        requirejs.config({\n",
       "            paths: {\n",
       "                'plotly': ['https://cdn.plot.ly/plotly-latest.min']\n",
       "            }\n",
       "        });\n",
       "        require(['plotly'], function(Plotly) {\n",
       "            window._Plotly = Plotly;\n",
       "        });\n",
       "        }\n",
       "        </script>\n",
       "        "
      ]
     },
     "metadata": {},
     "output_type": "display_data"
    }
   ],
   "source": [
    "import os\n",
    "import sys\n",
    "import re\n",
    "\n",
    "import pandas as pd\n",
    "import numpy as np\n",
    "from scipy import stats\n",
    "import seaborn as sns\n",
    "from matplotlib import pyplot as plt\n",
    "from plotly.offline import init_notebook_mode, iplot\n",
    "import plotly.graph_objs as go\n",
    "import colorlover as cl\n",
    "from IPython.core.display import display, HTML\n",
    "\n",
    "sys.path.append('..')\n",
    "from services import loaders, charts, myplotly, utils\n",
    "\n",
    "init_notebook_mode(connected=True)"
   ]
  },
  {
   "cell_type": "markdown",
   "metadata": {},
   "source": [
    "Estilo propio para los dataframes:"
   ]
  },
  {
   "cell_type": "code",
   "execution_count": 4,
   "metadata": {},
   "outputs": [
    {
     "data": {
      "text/html": [
       "<style>/* title of columns */\n",
       "table.dataframe thead th {\n",
       "    font-size: 1.2em !important;\n",
       "    padding-top: 0.2em !important;\n",
       "    padding-bottom: 0.2em !important;\n",
       "}\n",
       "\n",
       "/* title of rows */\n",
       "table.dataframe tbody th {\n",
       "    font-size: 1.2em !important;\n",
       "    background: rgba(199, 199, 199, 0.356) !important;\n",
       "    border: 1px solid black !important;\n",
       "}\n",
       "\n",
       "/* style for each cell */\n",
       "table.dataframe td {\n",
       "    font-size: 1.15em !important;\n",
       "    border: 1px solid black !important;\n",
       "}\n",
       "\n",
       "/* disable zebra-style */\n",
       "table.dataframe tbody tr {\n",
       "    background: white !important;\n",
       "}\n",
       "\n",
       "/* row color on hover */\n",
       "table.dataframe tbody tr:hover {\n",
       "    background: rgba(43, 137, 226, 0.144) !important;\n",
       "}\n",
       "\n",
       "/* Settings for slides */\n",
       "\n",
       ".present table.dataframe thead th {\n",
       "    font-size: 1.5em !important;\n",
       "}\n",
       "\n",
       ".present table.dataframe tbody th {\n",
       "    font-size: 1.5em !important;\n",
       "}\n",
       "\n",
       ".present table.dataframe td {\n",
       "    font-size: 1.3em !important;\n",
       "}\n",
       "\n",
       ".present table.dataframe thead th {\n",
       "    border-bottom: none !important;\n",
       "    padding-top: 0.1em !important;\n",
       "    padding-bottom: 0.1em !important;\n",
       "}\n",
       "</style>"
      ],
      "text/plain": [
       "<IPython.core.display.HTML object>"
      ]
     },
     "execution_count": 4,
     "metadata": {},
     "output_type": "execute_result"
    }
   ],
   "source": [
    "with open('../custom.css') as f:\n",
    "    css_rules = ''.join(f.readlines())\n",
    "HTML('<style>' + css_rules + '</style>')"
   ]
  },
  {
   "cell_type": "markdown",
   "metadata": {},
   "source": [
    "Deshabilitar el *auto-scrolling* en todo el notebook:"
   ]
  },
  {
   "cell_type": "code",
   "execution_count": 5,
   "metadata": {},
   "outputs": [
    {
     "data": {
      "application/javascript": [
       "IPython.OutputArea.prototype._should_scroll = function(lines) {\n",
       "    return false;\n",
       "}\n"
      ],
      "text/plain": [
       "<IPython.core.display.Javascript object>"
      ]
     },
     "metadata": {},
     "output_type": "display_data"
    }
   ],
   "source": [
    "%%javascript\n",
    "IPython.OutputArea.prototype._should_scroll = function(lines) {\n",
    "    return false;\n",
    "}"
   ]
  },
  {
   "cell_type": "markdown",
   "metadata": {},
   "source": [
    "## CARGA DE DATOS"
   ]
  },
  {
   "cell_type": "code",
   "execution_count": 6,
   "metadata": {},
   "outputs": [],
   "source": [
    "df, df_bc, labels = loaders.load_data(YEAR, EVALUATION)"
   ]
  },
  {
   "cell_type": "code",
   "execution_count": 7,
   "metadata": {},
   "outputs": [
    {
     "data": {
      "text/html": [
       "<div>\n",
       "<style scoped>\n",
       "    .dataframe tbody tr th:only-of-type {\n",
       "        vertical-align: middle;\n",
       "    }\n",
       "\n",
       "    .dataframe tbody tr th {\n",
       "        vertical-align: top;\n",
       "    }\n",
       "\n",
       "    .dataframe thead th {\n",
       "        text-align: right;\n",
       "    }\n",
       "</style>\n",
       "<table border=\"1\" class=\"dataframe\">\n",
       "  <thead>\n",
       "    <tr style=\"text-align: right;\">\n",
       "      <th></th>\n",
       "      <th></th>\n",
       "      <th></th>\n",
       "      <th>etapa</th>\n",
       "      <th>éxito</th>\n",
       "      <th>absentismo_justificado</th>\n",
       "      <th>absentismo_injustificado</th>\n",
       "      <th>partes</th>\n",
       "      <th>suspensión_asistencia</th>\n",
       "      <th>ratio</th>\n",
       "      <th>absentismo</th>\n",
       "      <th>éxito_abs</th>\n",
       "      <th>ccbb</th>\n",
       "    </tr>\n",
       "    <tr>\n",
       "      <th>curso</th>\n",
       "      <th>evaluación</th>\n",
       "      <th>grupo</th>\n",
       "      <th></th>\n",
       "      <th></th>\n",
       "      <th></th>\n",
       "      <th></th>\n",
       "      <th></th>\n",
       "      <th></th>\n",
       "      <th></th>\n",
       "      <th></th>\n",
       "      <th></th>\n",
       "      <th></th>\n",
       "    </tr>\n",
       "  </thead>\n",
       "  <tbody>\n",
       "    <tr>\n",
       "      <th rowspan=\"5\" valign=\"top\">C1718</th>\n",
       "      <th rowspan=\"5\" valign=\"top\">E1</th>\n",
       "      <th>ESO1A</th>\n",
       "      <td>ESO</td>\n",
       "      <td>32.0</td>\n",
       "      <td>3.49</td>\n",
       "      <td>5.48</td>\n",
       "      <td>2.0</td>\n",
       "      <td>0.0</td>\n",
       "      <td>25</td>\n",
       "      <td>8.97</td>\n",
       "      <td>8.0</td>\n",
       "      <td>4.685714</td>\n",
       "    </tr>\n",
       "    <tr>\n",
       "      <th>ESO1B</th>\n",
       "      <td>ESO</td>\n",
       "      <td>43.5</td>\n",
       "      <td>2.41</td>\n",
       "      <td>3.77</td>\n",
       "      <td>0.0</td>\n",
       "      <td>0.0</td>\n",
       "      <td>22</td>\n",
       "      <td>6.18</td>\n",
       "      <td>10.0</td>\n",
       "      <td>4.746429</td>\n",
       "    </tr>\n",
       "    <tr>\n",
       "      <th>ESO1C</th>\n",
       "      <td>ESO</td>\n",
       "      <td>44.0</td>\n",
       "      <td>0.72</td>\n",
       "      <td>4.22</td>\n",
       "      <td>3.0</td>\n",
       "      <td>0.0</td>\n",
       "      <td>25</td>\n",
       "      <td>4.94</td>\n",
       "      <td>11.0</td>\n",
       "      <td>5.242857</td>\n",
       "    </tr>\n",
       "    <tr>\n",
       "      <th>ESO1D</th>\n",
       "      <td>ESO</td>\n",
       "      <td>46.2</td>\n",
       "      <td>0.54</td>\n",
       "      <td>2.58</td>\n",
       "      <td>3.0</td>\n",
       "      <td>0.0</td>\n",
       "      <td>27</td>\n",
       "      <td>3.12</td>\n",
       "      <td>12.0</td>\n",
       "      <td>4.775000</td>\n",
       "    </tr>\n",
       "    <tr>\n",
       "      <th>ESO2A</th>\n",
       "      <td>ESO</td>\n",
       "      <td>24.1</td>\n",
       "      <td>1.54</td>\n",
       "      <td>4.52</td>\n",
       "      <td>10.0</td>\n",
       "      <td>3.0</td>\n",
       "      <td>29</td>\n",
       "      <td>6.06</td>\n",
       "      <td>7.0</td>\n",
       "      <td>4.614286</td>\n",
       "    </tr>\n",
       "  </tbody>\n",
       "</table>\n",
       "</div>"
      ],
      "text/plain": [
       "                       etapa  éxito  absentismo_justificado  \\\n",
       "curso evaluación grupo                                        \n",
       "C1718 E1         ESO1A   ESO   32.0                    3.49   \n",
       "                 ESO1B   ESO   43.5                    2.41   \n",
       "                 ESO1C   ESO   44.0                    0.72   \n",
       "                 ESO1D   ESO   46.2                    0.54   \n",
       "                 ESO2A   ESO   24.1                    1.54   \n",
       "\n",
       "                        absentismo_injustificado  partes  \\\n",
       "curso evaluación grupo                                     \n",
       "C1718 E1         ESO1A                      5.48     2.0   \n",
       "                 ESO1B                      3.77     0.0   \n",
       "                 ESO1C                      4.22     3.0   \n",
       "                 ESO1D                      2.58     3.0   \n",
       "                 ESO2A                      4.52    10.0   \n",
       "\n",
       "                        suspensión_asistencia  ratio  absentismo  éxito_abs  \\\n",
       "curso evaluación grupo                                                        \n",
       "C1718 E1         ESO1A                    0.0     25        8.97        8.0   \n",
       "                 ESO1B                    0.0     22        6.18       10.0   \n",
       "                 ESO1C                    0.0     25        4.94       11.0   \n",
       "                 ESO1D                    0.0     27        3.12       12.0   \n",
       "                 ESO2A                    3.0     29        6.06        7.0   \n",
       "\n",
       "                            ccbb  \n",
       "curso evaluación grupo            \n",
       "C1718 E1         ESO1A  4.685714  \n",
       "                 ESO1B  4.746429  \n",
       "                 ESO1C  5.242857  \n",
       "                 ESO1D  4.775000  \n",
       "                 ESO2A  4.614286  "
      ]
     },
     "execution_count": 7,
     "metadata": {},
     "output_type": "execute_result"
    }
   ],
   "source": [
    "df.head()"
   ]
  },
  {
   "cell_type": "code",
   "execution_count": 8,
   "metadata": {},
   "outputs": [
    {
     "data": {
      "text/html": [
       "<div>\n",
       "<style scoped>\n",
       "    .dataframe tbody tr th:only-of-type {\n",
       "        vertical-align: middle;\n",
       "    }\n",
       "\n",
       "    .dataframe tbody tr th {\n",
       "        vertical-align: top;\n",
       "    }\n",
       "\n",
       "    .dataframe thead th {\n",
       "        text-align: right;\n",
       "    }\n",
       "</style>\n",
       "<table border=\"1\" class=\"dataframe\">\n",
       "  <thead>\n",
       "    <tr style=\"text-align: right;\">\n",
       "      <th></th>\n",
       "      <th></th>\n",
       "      <th></th>\n",
       "      <th>nivel</th>\n",
       "      <th>item</th>\n",
       "      <th>PA</th>\n",
       "      <th>AD</th>\n",
       "      <th>MA</th>\n",
       "      <th>EX</th>\n",
       "      <th>marca</th>\n",
       "    </tr>\n",
       "    <tr>\n",
       "      <th>curso</th>\n",
       "      <th>evaluación</th>\n",
       "      <th>grupo</th>\n",
       "      <th></th>\n",
       "      <th></th>\n",
       "      <th></th>\n",
       "      <th></th>\n",
       "      <th></th>\n",
       "      <th></th>\n",
       "      <th></th>\n",
       "    </tr>\n",
       "  </thead>\n",
       "  <tbody>\n",
       "    <tr>\n",
       "      <th rowspan=\"5\" valign=\"top\">C1718</th>\n",
       "      <th rowspan=\"5\" valign=\"top\">E1</th>\n",
       "      <th>ESO1A</th>\n",
       "      <td>1ESO</td>\n",
       "      <td>CL</td>\n",
       "      <td>36</td>\n",
       "      <td>56</td>\n",
       "      <td>8</td>\n",
       "      <td>0</td>\n",
       "      <td>4.3</td>\n",
       "    </tr>\n",
       "    <tr>\n",
       "      <th>ESO1A</th>\n",
       "      <td>1ESO</td>\n",
       "      <td>CMCT</td>\n",
       "      <td>24</td>\n",
       "      <td>56</td>\n",
       "      <td>20</td>\n",
       "      <td>0</td>\n",
       "      <td>4.9</td>\n",
       "    </tr>\n",
       "    <tr>\n",
       "      <th>ESO1A</th>\n",
       "      <td>1ESO</td>\n",
       "      <td>CD</td>\n",
       "      <td>8</td>\n",
       "      <td>80</td>\n",
       "      <td>12</td>\n",
       "      <td>0</td>\n",
       "      <td>5.1</td>\n",
       "    </tr>\n",
       "    <tr>\n",
       "      <th>ESO1A</th>\n",
       "      <td>1ESO</td>\n",
       "      <td>AAP</td>\n",
       "      <td>28</td>\n",
       "      <td>64</td>\n",
       "      <td>8</td>\n",
       "      <td>0</td>\n",
       "      <td>4.5</td>\n",
       "    </tr>\n",
       "    <tr>\n",
       "      <th>ESO1A</th>\n",
       "      <td>1ESO</td>\n",
       "      <td>CSC</td>\n",
       "      <td>16</td>\n",
       "      <td>76</td>\n",
       "      <td>8</td>\n",
       "      <td>0</td>\n",
       "      <td>4.8</td>\n",
       "    </tr>\n",
       "  </tbody>\n",
       "</table>\n",
       "</div>"
      ],
      "text/plain": [
       "                       nivel  item  PA  AD  MA  EX  marca\n",
       "curso evaluación grupo                                   \n",
       "C1718 E1         ESO1A  1ESO    CL  36  56   8   0    4.3\n",
       "                 ESO1A  1ESO  CMCT  24  56  20   0    4.9\n",
       "                 ESO1A  1ESO    CD   8  80  12   0    5.1\n",
       "                 ESO1A  1ESO   AAP  28  64   8   0    4.5\n",
       "                 ESO1A  1ESO   CSC  16  76   8   0    4.8"
      ]
     },
     "execution_count": 8,
     "metadata": {},
     "output_type": "execute_result"
    }
   ],
   "source": [
    "df_bc.head()"
   ]
  },
  {
   "cell_type": "code",
   "execution_count": 9,
   "metadata": {},
   "outputs": [],
   "source": [
    "# recurrent variables\n",
    "stages = df['etapa'].unique()\n",
    "years = df.index.levels[0]\n",
    "current_year, current_eval = labels[-1]"
   ]
  },
  {
   "cell_type": "code",
   "execution_count": 10,
   "metadata": {
    "scrolled": false
   },
   "outputs": [],
   "source": [
    "# dataframe for current year and evaluation\n",
    "dfc = df.loc[labels[-1]]\n",
    "dfc_bc = df_bc.loc[labels[-1]]"
   ]
  },
  {
   "cell_type": "code",
   "execution_count": 11,
   "metadata": {
    "scrolled": false
   },
   "outputs": [],
   "source": [
    "# dataframe for comparisons with last evaluation\n",
    "df_comp = dfc.merge(df.loc[labels[-2]], left_index=True, right_index=True)\n",
    "\n",
    "df_bc_last_eval_new_index = df_bc.loc[labels[-2]].reset_index().set_index(['grupo', 'item'])\n",
    "dfc_bc_new_index = dfc_bc.reset_index().set_index(['grupo', 'item'])\n",
    "df_bc_comp = dfc_bc_new_index.merge(df_bc_last_eval_new_index, left_index=True, right_index=True)\n",
    "df_bc_comp = df_bc_comp.reset_index().set_index(['grupo'])"
   ]
  },
  {
   "cell_type": "markdown",
   "metadata": {},
   "source": [
    "# RATIOS"
   ]
  },
  {
   "cell_type": "code",
   "execution_count": 12,
   "metadata": {},
   "outputs": [],
   "source": [
    "# filter for current evaluation\n",
    "df_ce = df.xs(current_eval, level='evaluación')"
   ]
  },
  {
   "cell_type": "markdown",
   "metadata": {},
   "source": [
    "## Evolución del número total de alumnado por niveles"
   ]
  },
  {
   "cell_type": "code",
   "execution_count": 13,
   "metadata": {},
   "outputs": [
    {
     "data": {
      "application/vnd.plotly.v1+json": {
       "config": {
        "linkText": "Export to plot.ly",
        "plotlyServerURL": "https://plot.ly",
        "responsive": true,
        "showLink": false
       },
       "data": [
        {
         "hoverinfo": "name+text",
         "line": {
          "width": 3
         },
         "marker": {
          "size": 8
         },
         "name": "ESO",
         "text": [
          314,
          293,
          317
         ],
         "type": "scatter",
         "uid": "f4f6f726-21ab-4d28-907f-a50b7ebc5d8d",
         "x": [
          "C1718",
          "C1819",
          "C1920"
         ],
         "y": [
          314,
          293,
          317
         ]
        },
        {
         "hoverinfo": "name+text",
         "line": {
          "width": 3
         },
         "marker": {
          "size": 8
         },
         "name": "FPB",
         "text": [
          22,
          25,
          22
         ],
         "type": "scatter",
         "uid": "0e7c7c45-3e02-4477-9e62-292b020720df",
         "x": [
          "C1718",
          "C1819",
          "C1920"
         ],
         "y": [
          22,
          25,
          22
         ]
        },
        {
         "hoverinfo": "name+text",
         "line": {
          "width": 3
         },
         "marker": {
          "size": 8
         },
         "name": "BACH",
         "text": [
          97,
          97,
          85
         ],
         "type": "scatter",
         "uid": "c3d4d459-76ea-4d8e-8e10-7b89b31b5abb",
         "x": [
          "C1718",
          "C1819",
          "C1920"
         ],
         "y": [
          97,
          97,
          85
         ]
        },
        {
         "hoverinfo": "name+text",
         "line": {
          "width": 3
         },
         "marker": {
          "size": 8
         },
         "name": "CFGM",
         "text": [
          82,
          85,
          87
         ],
         "type": "scatter",
         "uid": "566812df-bd14-4583-a659-73e70bf3e413",
         "x": [
          "C1718",
          "C1819",
          "C1920"
         ],
         "y": [
          82,
          85,
          87
         ]
        },
        {
         "hoverinfo": "name+text",
         "line": {
          "width": 3
         },
         "marker": {
          "size": 8
         },
         "name": "CFGS",
         "text": [
          216,
          232,
          222
         ],
         "type": "scatter",
         "uid": "adb4a1d9-3545-4d21-8a09-d86adbc0c06b",
         "x": [
          "C1718",
          "C1819",
          "C1920"
         ],
         "y": [
          216,
          232,
          222
         ]
        }
       ],
       "layout": {
        "height": 500,
        "width": 700,
        "xaxis": {
         "title": {
          "text": "Curso escolar"
         }
        },
        "yaxis": {
         "title": {
          "text": "Núm. alumnado"
         }
        }
       }
      },
      "text/html": [
       "<div>\n",
       "        \n",
       "        \n",
       "            <div id=\"e6103d5d-0994-4ca0-b922-61ba582f5856\" class=\"plotly-graph-div\" style=\"height:500px; width:700px;\"></div>\n",
       "            <script type=\"text/javascript\">\n",
       "                require([\"plotly\"], function(Plotly) {\n",
       "                    window.PLOTLYENV=window.PLOTLYENV || {};\n",
       "                    window.PLOTLYENV.BASE_URL='https://plot.ly';\n",
       "                    \n",
       "                if (document.getElementById(\"e6103d5d-0994-4ca0-b922-61ba582f5856\")) {\n",
       "                    Plotly.newPlot(\n",
       "                        'e6103d5d-0994-4ca0-b922-61ba582f5856',\n",
       "                        [{\"hoverinfo\": \"name+text\", \"line\": {\"width\": 3}, \"marker\": {\"size\": 8}, \"name\": \"ESO\", \"text\": [314.0, 293.0, 317.0], \"type\": \"scatter\", \"uid\": \"a1e5e49c-3f4d-4799-b25d-d8552c5ae990\", \"x\": [\"C1718\", \"C1819\", \"C1920\"], \"y\": [314, 293, 317]}, {\"hoverinfo\": \"name+text\", \"line\": {\"width\": 3}, \"marker\": {\"size\": 8}, \"name\": \"FPB\", \"text\": [22.0, 25.0, 22.0], \"type\": \"scatter\", \"uid\": \"f21807bd-7014-4fef-8b59-b22192a45196\", \"x\": [\"C1718\", \"C1819\", \"C1920\"], \"y\": [22, 25, 22]}, {\"hoverinfo\": \"name+text\", \"line\": {\"width\": 3}, \"marker\": {\"size\": 8}, \"name\": \"BACH\", \"text\": [97.0, 97.0, 85.0], \"type\": \"scatter\", \"uid\": \"aece6245-738c-4018-af81-13a54355b84a\", \"x\": [\"C1718\", \"C1819\", \"C1920\"], \"y\": [97, 97, 85]}, {\"hoverinfo\": \"name+text\", \"line\": {\"width\": 3}, \"marker\": {\"size\": 8}, \"name\": \"CFGM\", \"text\": [82.0, 85.0, 87.0], \"type\": \"scatter\", \"uid\": \"2b05abd5-8f08-4acc-b06d-a14de3839019\", \"x\": [\"C1718\", \"C1819\", \"C1920\"], \"y\": [82, 85, 87]}, {\"hoverinfo\": \"name+text\", \"line\": {\"width\": 3}, \"marker\": {\"size\": 8}, \"name\": \"CFGS\", \"text\": [216.0, 232.0, 222.0], \"type\": \"scatter\", \"uid\": \"ca1fc3aa-cbb7-4167-8c36-2d3c61bc3561\", \"x\": [\"C1718\", \"C1819\", \"C1920\"], \"y\": [216, 232, 222]}],\n",
       "                        {\"height\": 500, \"width\": 700, \"xaxis\": {\"title\": {\"text\": \"Curso escolar\"}}, \"yaxis\": {\"title\": {\"text\": \"N\\u00fam. alumnado\"}}},\n",
       "                        {\"showLink\": false, \"linkText\": \"Export to plot.ly\", \"plotlyServerURL\": \"https://plot.ly\", \"responsive\": true}\n",
       "                    ).then(function(){\n",
       "                            \n",
       "var gd = document.getElementById('e6103d5d-0994-4ca0-b922-61ba582f5856');\n",
       "var x = new MutationObserver(function (mutations, observer) {{\n",
       "        var display = window.getComputedStyle(gd).display;\n",
       "        if (!display || display === 'none') {{\n",
       "            console.log([gd, 'removed!']);\n",
       "            Plotly.purge(gd);\n",
       "            observer.disconnect();\n",
       "        }}\n",
       "}});\n",
       "\n",
       "// Listen for the removal of the full notebook cells\n",
       "var notebookContainer = gd.closest('#notebook-container');\n",
       "if (notebookContainer) {{\n",
       "    x.observe(notebookContainer, {childList: true});\n",
       "}}\n",
       "\n",
       "// Listen for the clearing of the current output cell\n",
       "var outputEl = gd.closest('.output');\n",
       "if (outputEl) {{\n",
       "    x.observe(outputEl, {childList: true});\n",
       "}}\n",
       "\n",
       "                        })\n",
       "                };\n",
       "                });\n",
       "            </script>\n",
       "        </div>"
      ]
     },
     "metadata": {},
     "output_type": "display_data"
    }
   ],
   "source": [
    "myplotly.num_students_evolution(df_ce, stages, years)"
   ]
  },
  {
   "cell_type": "markdown",
   "metadata": {},
   "source": [
    "## Evolución de la ratio de alumnado por niveles"
   ]
  },
  {
   "cell_type": "code",
   "execution_count": 14,
   "metadata": {},
   "outputs": [
    {
     "data": {
      "application/vnd.plotly.v1+json": {
       "config": {
        "linkText": "Export to plot.ly",
        "plotlyServerURL": "https://plot.ly",
        "responsive": true,
        "showLink": false
       },
       "data": [
        {
         "hoverinfo": "name+text",
         "line": {
          "width": 3
         },
         "marker": {
          "size": 8
         },
         "name": "ESO",
         "text": [
          24.15,
          22.54,
          22.64
         ],
         "type": "scatter",
         "uid": "b723367c-10ea-4e2c-b339-a54c59dde8ed",
         "x": [
          "C1718",
          "C1819",
          "C1920"
         ],
         "y": [
          24.153846153846153,
          22.53846153846154,
          22.642857142857142
         ]
        },
        {
         "hoverinfo": "name+text",
         "line": {
          "width": 3
         },
         "marker": {
          "size": 8
         },
         "name": "FPB",
         "text": [
          11,
          12.5,
          11
         ],
         "type": "scatter",
         "uid": "c0f6bf15-ddc4-4c97-adc5-4d4e33675ed6",
         "x": [
          "C1718",
          "C1819",
          "C1920"
         ],
         "y": [
          11,
          12.5,
          11
         ]
        },
        {
         "hoverinfo": "name+text",
         "line": {
          "width": 3
         },
         "marker": {
          "size": 8
         },
         "name": "BACH",
         "text": [
          24.25,
          24.25,
          21.25
         ],
         "type": "scatter",
         "uid": "53aca295-c981-46af-9888-b0c72d90cd59",
         "x": [
          "C1718",
          "C1819",
          "C1920"
         ],
         "y": [
          24.25,
          24.25,
          21.25
         ]
        },
        {
         "hoverinfo": "name+text",
         "line": {
          "width": 3
         },
         "marker": {
          "size": 8
         },
         "name": "CFGM",
         "text": [
          13.67,
          14.17,
          14.5
         ],
         "type": "scatter",
         "uid": "cb2f095b-a4c8-4b84-ae08-c22214c15817",
         "x": [
          "C1718",
          "C1819",
          "C1920"
         ],
         "y": [
          13.666666666666666,
          14.166666666666666,
          14.5
         ]
        },
        {
         "hoverinfo": "name+text",
         "line": {
          "width": 3
         },
         "marker": {
          "size": 8
         },
         "name": "CFGS",
         "text": [
          21.6,
          23.2,
          22.2
         ],
         "type": "scatter",
         "uid": "f0ed0f32-ffbb-45e3-aacb-b6508be281e8",
         "x": [
          "C1718",
          "C1819",
          "C1920"
         ],
         "y": [
          21.6,
          23.2,
          22.2
         ]
        }
       ],
       "layout": {
        "height": 500,
        "width": 700,
        "xaxis": {
         "title": {
          "text": "Curso escolar"
         }
        },
        "yaxis": {
         "title": {
          "text": "Ratio"
         }
        }
       }
      },
      "text/html": [
       "<div>\n",
       "        \n",
       "        \n",
       "            <div id=\"c1e4b13b-3ee4-4c7e-897d-4d2cca147dc8\" class=\"plotly-graph-div\" style=\"height:500px; width:700px;\"></div>\n",
       "            <script type=\"text/javascript\">\n",
       "                require([\"plotly\"], function(Plotly) {\n",
       "                    window.PLOTLYENV=window.PLOTLYENV || {};\n",
       "                    window.PLOTLYENV.BASE_URL='https://plot.ly';\n",
       "                    \n",
       "                if (document.getElementById(\"c1e4b13b-3ee4-4c7e-897d-4d2cca147dc8\")) {\n",
       "                    Plotly.newPlot(\n",
       "                        'c1e4b13b-3ee4-4c7e-897d-4d2cca147dc8',\n",
       "                        [{\"hoverinfo\": \"name+text\", \"line\": {\"width\": 3}, \"marker\": {\"size\": 8}, \"name\": \"ESO\", \"text\": [24.15, 22.54, 22.64], \"type\": \"scatter\", \"uid\": \"54036bbe-c7d1-4812-9277-5720bb8f4741\", \"x\": [\"C1718\", \"C1819\", \"C1920\"], \"y\": [24.153846153846153, 22.53846153846154, 22.642857142857142]}, {\"hoverinfo\": \"name+text\", \"line\": {\"width\": 3}, \"marker\": {\"size\": 8}, \"name\": \"FPB\", \"text\": [11.0, 12.5, 11.0], \"type\": \"scatter\", \"uid\": \"20827c5f-85eb-471d-b67b-6aee3948cff1\", \"x\": [\"C1718\", \"C1819\", \"C1920\"], \"y\": [11.0, 12.5, 11.0]}, {\"hoverinfo\": \"name+text\", \"line\": {\"width\": 3}, \"marker\": {\"size\": 8}, \"name\": \"BACH\", \"text\": [24.25, 24.25, 21.25], \"type\": \"scatter\", \"uid\": \"ac090c33-1e72-4ef5-928f-b51ff31d4320\", \"x\": [\"C1718\", \"C1819\", \"C1920\"], \"y\": [24.25, 24.25, 21.25]}, {\"hoverinfo\": \"name+text\", \"line\": {\"width\": 3}, \"marker\": {\"size\": 8}, \"name\": \"CFGM\", \"text\": [13.67, 14.17, 14.5], \"type\": \"scatter\", \"uid\": \"b20e8da7-20a8-41ce-8da2-90408966248c\", \"x\": [\"C1718\", \"C1819\", \"C1920\"], \"y\": [13.666666666666666, 14.166666666666666, 14.5]}, {\"hoverinfo\": \"name+text\", \"line\": {\"width\": 3}, \"marker\": {\"size\": 8}, \"name\": \"CFGS\", \"text\": [21.6, 23.2, 22.2], \"type\": \"scatter\", \"uid\": \"2aef8e2f-bc07-4261-8f0c-e0cfd70c49fe\", \"x\": [\"C1718\", \"C1819\", \"C1920\"], \"y\": [21.6, 23.2, 22.2]}],\n",
       "                        {\"height\": 500, \"width\": 700, \"xaxis\": {\"title\": {\"text\": \"Curso escolar\"}}, \"yaxis\": {\"title\": {\"text\": \"Ratio\"}}},\n",
       "                        {\"showLink\": false, \"linkText\": \"Export to plot.ly\", \"plotlyServerURL\": \"https://plot.ly\", \"responsive\": true}\n",
       "                    ).then(function(){\n",
       "                            \n",
       "var gd = document.getElementById('c1e4b13b-3ee4-4c7e-897d-4d2cca147dc8');\n",
       "var x = new MutationObserver(function (mutations, observer) {{\n",
       "        var display = window.getComputedStyle(gd).display;\n",
       "        if (!display || display === 'none') {{\n",
       "            console.log([gd, 'removed!']);\n",
       "            Plotly.purge(gd);\n",
       "            observer.disconnect();\n",
       "        }}\n",
       "}});\n",
       "\n",
       "// Listen for the removal of the full notebook cells\n",
       "var notebookContainer = gd.closest('#notebook-container');\n",
       "if (notebookContainer) {{\n",
       "    x.observe(notebookContainer, {childList: true});\n",
       "}}\n",
       "\n",
       "// Listen for the clearing of the current output cell\n",
       "var outputEl = gd.closest('.output');\n",
       "if (outputEl) {{\n",
       "    x.observe(outputEl, {childList: true});\n",
       "}}\n",
       "\n",
       "                        })\n",
       "                };\n",
       "                });\n",
       "            </script>\n",
       "        </div>"
      ]
     },
     "metadata": {},
     "output_type": "display_data"
    }
   ],
   "source": [
    "myplotly.num_students_evolution(df_ce, stages, years, ratio=True)"
   ]
  },
  {
   "cell_type": "markdown",
   "metadata": {},
   "source": [
    "# ÉXITO ESCOLAR"
   ]
  },
  {
   "cell_type": "markdown",
   "metadata": {},
   "source": [
    "<div class=\"alert alert-success\" role=\"alert\">\n",
    "    ÉXITO ESCOLAR = <b>0 suspensos</b>\n",
    "</div>"
   ]
  },
  {
   "cell_type": "markdown",
   "metadata": {},
   "source": [
    "## ÉXITO EN VALORES ABSOLUTOS"
   ]
  },
  {
   "cell_type": "code",
   "execution_count": 13,
   "metadata": {
    "scrolled": true
   },
   "outputs": [
    {
     "data": {
      "application/vnd.plotly.v1+json": {
       "config": {
        "linkText": "Export to plot.ly",
        "plotlyServerURL": "https://plot.ly",
        "responsive": true,
        "showLink": false
       },
       "data": [
        {
         "marker": {
          "color": "rgb(166,206,227)"
         },
         "name": "Ratio",
         "orientation": "h",
         "type": "bar",
         "uid": "5f2e4b42-e838-4557-8781-3d2678bde7b4",
         "x": [
          25,
          26,
          28,
          27,
          24,
          16,
          8,
          26,
          26,
          28,
          12,
          21,
          25,
          25,
          15,
          7,
          17,
          25,
          19,
          24,
          17,
          17,
          20,
          9,
          13,
          11,
          14,
          29,
          28,
          29,
          29,
          15,
          23,
          23,
          19,
          13
         ],
         "y": [
          "ESO1A",
          "ESO1B",
          "ESO1C",
          "ESO1D",
          "ESO2A",
          "ESO2B",
          "ESO2C",
          "ESO3A",
          "ESO3B",
          "ESO3C",
          "ESO3D",
          "ESO4A",
          "ESO4B",
          "ESO4C",
          "1FPB",
          "2FPB",
          "1CIE",
          "1SOC",
          "2CIE",
          "2SOC",
          "1TEL",
          "1ELE",
          "1CAR",
          "2TEL",
          "2ELE",
          "2CAR",
          "1ARI",
          "1ALO",
          "1GIT",
          "1ASR",
          "1DAW",
          "2ARI",
          "2ALO",
          "2GIT",
          "2ASR",
          "2DAW"
         ]
        },
        {
         "marker": {
          "color": "rgb(31,120,180)"
         },
         "name": "Éxito",
         "orientation": "h",
         "type": "bar",
         "uid": "b323c5ee-43f7-4cbd-8ae3-ad832ab2ac02",
         "x": [
          8,
          6,
          7,
          11,
          12,
          4,
          1,
          4,
          7,
          8,
          2,
          10,
          10,
          3,
          5,
          2,
          9,
          6,
          9,
          6,
          4,
          4,
          5,
          8,
          4,
          3,
          10,
          18,
          20,
          12,
          10,
          7,
          22,
          18,
          16,
          5
         ],
         "y": [
          "ESO1A",
          "ESO1B",
          "ESO1C",
          "ESO1D",
          "ESO2A",
          "ESO2B",
          "ESO2C",
          "ESO3A",
          "ESO3B",
          "ESO3C",
          "ESO3D",
          "ESO4A",
          "ESO4B",
          "ESO4C",
          "1FPB",
          "2FPB",
          "1CIE",
          "1SOC",
          "2CIE",
          "2SOC",
          "1TEL",
          "1ELE",
          "1CAR",
          "2TEL",
          "2ELE",
          "2CAR",
          "1ARI",
          "1ALO",
          "1GIT",
          "1ASR",
          "1DAW",
          "2ARI",
          "2ALO",
          "2GIT",
          "2ASR",
          "2DAW"
         ]
        }
       ],
       "layout": {
        "barmode": "overlay",
        "height": 1000,
        "title": {
         "text": ""
        },
        "width": 700,
        "yaxis": {
         "autorange": "reversed",
         "type": "category"
        }
       }
      },
      "text/html": [
       "<div>\n",
       "        \n",
       "        \n",
       "            <div id=\"2352575e-4114-4d71-aa44-2ba92254ed46\" class=\"plotly-graph-div\" style=\"height:1000px; width:700px;\"></div>\n",
       "            <script type=\"text/javascript\">\n",
       "                require([\"plotly\"], function(Plotly) {\n",
       "                    window.PLOTLYENV=window.PLOTLYENV || {};\n",
       "                    window.PLOTLYENV.BASE_URL='https://plot.ly';\n",
       "                    \n",
       "                if (document.getElementById(\"2352575e-4114-4d71-aa44-2ba92254ed46\")) {\n",
       "                    Plotly.newPlot(\n",
       "                        '2352575e-4114-4d71-aa44-2ba92254ed46',\n",
       "                        [{\"marker\": {\"color\": \"rgb(166,206,227)\"}, \"name\": \"Ratio\", \"orientation\": \"h\", \"type\": \"bar\", \"uid\": \"ca6351a5-ec69-42d6-9362-8ad5cf22ab1e\", \"x\": [25, 26, 28, 27, 24, 16, 8, 26, 26, 28, 12, 21, 25, 25, 15, 7, 17, 25, 19, 24, 17, 17, 20, 9, 13, 11, 14, 29, 28, 29, 29, 15, 23, 23, 19, 13], \"y\": [\"ESO1A\", \"ESO1B\", \"ESO1C\", \"ESO1D\", \"ESO2A\", \"ESO2B\", \"ESO2C\", \"ESO3A\", \"ESO3B\", \"ESO3C\", \"ESO3D\", \"ESO4A\", \"ESO4B\", \"ESO4C\", \"1FPB\", \"2FPB\", \"1CIE\", \"1SOC\", \"2CIE\", \"2SOC\", \"1TEL\", \"1ELE\", \"1CAR\", \"2TEL\", \"2ELE\", \"2CAR\", \"1ARI\", \"1ALO\", \"1GIT\", \"1ASR\", \"1DAW\", \"2ARI\", \"2ALO\", \"2GIT\", \"2ASR\", \"2DAW\"]}, {\"marker\": {\"color\": \"rgb(31,120,180)\"}, \"name\": \"\\u00c9xito\", \"orientation\": \"h\", \"type\": \"bar\", \"uid\": \"16902e71-6a8a-4f53-86d6-7dd5561f944b\", \"x\": [8.0, 6.0, 7.0, 11.0, 12.0, 4.0, 1.0, 4.0, 7.0, 8.0, 2.0, 10.0, 10.0, 3.0, 5.0, 2.0, 9.0, 6.0, 9.0, 6.0, 4.0, 4.0, 5.0, 8.0, 4.0, 3.0, 10.0, 18.0, 20.0, 12.0, 10.0, 7.0, 22.0, 18.0, 16.0, 5.0], \"y\": [\"ESO1A\", \"ESO1B\", \"ESO1C\", \"ESO1D\", \"ESO2A\", \"ESO2B\", \"ESO2C\", \"ESO3A\", \"ESO3B\", \"ESO3C\", \"ESO3D\", \"ESO4A\", \"ESO4B\", \"ESO4C\", \"1FPB\", \"2FPB\", \"1CIE\", \"1SOC\", \"2CIE\", \"2SOC\", \"1TEL\", \"1ELE\", \"1CAR\", \"2TEL\", \"2ELE\", \"2CAR\", \"1ARI\", \"1ALO\", \"1GIT\", \"1ASR\", \"1DAW\", \"2ARI\", \"2ALO\", \"2GIT\", \"2ASR\", \"2DAW\"]}],\n",
       "                        {\"barmode\": \"overlay\", \"height\": 1000, \"title\": {\"text\": \"\"}, \"width\": 700, \"yaxis\": {\"autorange\": \"reversed\", \"type\": \"category\"}},\n",
       "                        {\"showLink\": false, \"linkText\": \"Export to plot.ly\", \"plotlyServerURL\": \"https://plot.ly\", \"responsive\": true}\n",
       "                    ).then(function(){\n",
       "                            \n",
       "var gd = document.getElementById('2352575e-4114-4d71-aa44-2ba92254ed46');\n",
       "var x = new MutationObserver(function (mutations, observer) {{\n",
       "        var display = window.getComputedStyle(gd).display;\n",
       "        if (!display || display === 'none') {{\n",
       "            console.log([gd, 'removed!']);\n",
       "            Plotly.purge(gd);\n",
       "            observer.disconnect();\n",
       "        }}\n",
       "}});\n",
       "\n",
       "// Listen for the removal of the full notebook cells\n",
       "var notebookContainer = gd.closest('#notebook-container');\n",
       "if (notebookContainer) {{\n",
       "    x.observe(notebookContainer, {childList: true});\n",
       "}}\n",
       "\n",
       "// Listen for the clearing of the current output cell\n",
       "var outputEl = gd.closest('.output');\n",
       "if (outputEl) {{\n",
       "    x.observe(outputEl, {childList: true});\n",
       "}}\n",
       "\n",
       "                        })\n",
       "                };\n",
       "                });\n",
       "            </script>\n",
       "        </div>"
      ]
     },
     "metadata": {},
     "output_type": "display_data"
    }
   ],
   "source": [
    "myplotly.hbar((dfc['ratio'], dfc['éxito_abs']), dfc.index, trace_names=('Ratio', 'Éxito'))"
   ]
  },
  {
   "cell_type": "markdown",
   "metadata": {},
   "source": [
    "## ESO"
   ]
  },
  {
   "cell_type": "code",
   "execution_count": 14,
   "metadata": {
    "scrolled": false
   },
   "outputs": [
    {
     "data": {
      "application/vnd.plotly.v1+json": {
       "config": {
        "linkText": "Export to plot.ly",
        "plotlyServerURL": "https://plot.ly",
        "responsive": true,
        "showLink": false
       },
       "data": [
        {
         "hoverinfo": "x+text",
         "marker": {
          "color": [
           32,
           23.1,
           25,
           40.7,
           50,
           25,
           12.5,
           15.4,
           26.9,
           28.6,
           16.7,
           47.6,
           40,
           12
          ],
          "colorscale": [
           [
            0,
            "rgb(186,228,179)"
           ],
           [
            0.3333333333333333,
            "rgb(116,196,118)"
           ],
           [
            0.6666666666666666,
            "rgb(49,163,84)"
           ],
           [
            1,
            "rgb(0,109,44)"
           ]
          ]
         },
         "text": [
          "32.00%",
          "23.10%",
          "25.00%",
          "40.70%",
          "50.00%",
          "25.00%",
          "12.50%",
          "15.40%",
          "26.90%",
          "28.60%",
          "16.70%",
          "47.60%",
          "40.00%",
          "12.00%"
         ],
         "type": "bar",
         "uid": "a0de0b28-c584-4df5-92f9-3e98b7035586",
         "x": [
          "ESO1A",
          "ESO1B",
          "ESO1C",
          "ESO1D",
          "ESO2A",
          "ESO2B",
          "ESO2C",
          "ESO3A",
          "ESO3B",
          "ESO3C",
          "ESO3D",
          "ESO4A",
          "ESO4B",
          "ESO4C"
         ],
         "y": [
          32,
          23.1,
          25,
          40.7,
          50,
          25,
          12.5,
          15.4,
          26.9,
          28.6,
          16.7,
          47.6,
          40,
          12
         ]
        }
       ],
       "layout": {
        "title": {
         "text": ""
        }
       }
      },
      "text/html": [
       "<div>\n",
       "        \n",
       "        \n",
       "            <div id=\"36e7e5f0-4f9c-4b61-9e8e-dd1da18694f8\" class=\"plotly-graph-div\" style=\"height:525px; width:100%;\"></div>\n",
       "            <script type=\"text/javascript\">\n",
       "                require([\"plotly\"], function(Plotly) {\n",
       "                    window.PLOTLYENV=window.PLOTLYENV || {};\n",
       "                    window.PLOTLYENV.BASE_URL='https://plot.ly';\n",
       "                    \n",
       "                if (document.getElementById(\"36e7e5f0-4f9c-4b61-9e8e-dd1da18694f8\")) {\n",
       "                    Plotly.newPlot(\n",
       "                        '36e7e5f0-4f9c-4b61-9e8e-dd1da18694f8',\n",
       "                        [{\"hoverinfo\": \"x+text\", \"marker\": {\"color\": [32.0, 23.1, 25.0, 40.7, 50.0, 25.0, 12.5, 15.4, 26.9, 28.6, 16.7, 47.6, 40.0, 12.0], \"colorscale\": [[0.0, \"rgb(186,228,179)\"], [0.3333333333333333, \"rgb(116,196,118)\"], [0.6666666666666666, \"rgb(49,163,84)\"], [1.0, \"rgb(0,109,44)\"]]}, \"text\": [\"32.00%\", \"23.10%\", \"25.00%\", \"40.70%\", \"50.00%\", \"25.00%\", \"12.50%\", \"15.40%\", \"26.90%\", \"28.60%\", \"16.70%\", \"47.60%\", \"40.00%\", \"12.00%\"], \"type\": \"bar\", \"uid\": \"bbe1c6ba-daa5-4eee-854e-8ef24a55977b\", \"x\": [\"ESO1A\", \"ESO1B\", \"ESO1C\", \"ESO1D\", \"ESO2A\", \"ESO2B\", \"ESO2C\", \"ESO3A\", \"ESO3B\", \"ESO3C\", \"ESO3D\", \"ESO4A\", \"ESO4B\", \"ESO4C\"], \"y\": [32.0, 23.1, 25.0, 40.7, 50.0, 25.0, 12.5, 15.4, 26.9, 28.6, 16.7, 47.6, 40.0, 12.0]}],\n",
       "                        {\"title\": {\"text\": \"\"}},\n",
       "                        {\"showLink\": false, \"linkText\": \"Export to plot.ly\", \"plotlyServerURL\": \"https://plot.ly\", \"responsive\": true}\n",
       "                    ).then(function(){\n",
       "                            \n",
       "var gd = document.getElementById('36e7e5f0-4f9c-4b61-9e8e-dd1da18694f8');\n",
       "var x = new MutationObserver(function (mutations, observer) {{\n",
       "        var display = window.getComputedStyle(gd).display;\n",
       "        if (!display || display === 'none') {{\n",
       "            console.log([gd, 'removed!']);\n",
       "            Plotly.purge(gd);\n",
       "            observer.disconnect();\n",
       "        }}\n",
       "}});\n",
       "\n",
       "// Listen for the removal of the full notebook cells\n",
       "var notebookContainer = gd.closest('#notebook-container');\n",
       "if (notebookContainer) {{\n",
       "    x.observe(notebookContainer, {childList: true});\n",
       "}}\n",
       "\n",
       "// Listen for the clearing of the current output cell\n",
       "var outputEl = gd.closest('.output');\n",
       "if (outputEl) {{\n",
       "    x.observe(outputEl, {childList: true});\n",
       "}}\n",
       "\n",
       "                        })\n",
       "                };\n",
       "                });\n",
       "            </script>\n",
       "        </div>"
      ]
     },
     "metadata": {},
     "output_type": "display_data"
    }
   ],
   "source": [
    "dfc_ESO = loaders.get_data_by_stages(dfc, 'ESO')\n",
    "myplotly.bar_simple(dfc_ESO.index, dfc_ESO['éxito'])"
   ]
  },
  {
   "cell_type": "code",
   "execution_count": 15,
   "metadata": {
    "scrolled": true
   },
   "outputs": [
    {
     "data": {
      "text/plain": [
       "éxito                       28.250000\n",
       "absentismo_justificado       1.810000\n",
       "absentismo_injustificado     3.943571\n",
       "partes                       1.714286\n",
       "suspensión_asistencia        0.285714\n",
       "ratio                       22.642857\n",
       "absentismo                   5.753571\n",
       "éxito_abs                    6.642857\n",
       "ccbb                         4.451786\n",
       "dtype: float64"
      ]
     },
     "execution_count": 15,
     "metadata": {},
     "output_type": "execute_result"
    }
   ],
   "source": [
    "dfc_ESO.mean()"
   ]
  },
  {
   "cell_type": "markdown",
   "metadata": {},
   "source": [
    "## FPB"
   ]
  },
  {
   "cell_type": "code",
   "execution_count": 16,
   "metadata": {},
   "outputs": [
    {
     "data": {
      "application/vnd.plotly.v1+json": {
       "config": {
        "linkText": "Export to plot.ly",
        "plotlyServerURL": "https://plot.ly",
        "responsive": true,
        "showLink": false
       },
       "data": [
        {
         "hoverinfo": "x+text",
         "marker": {
          "color": [
           33.3,
           28.6
          ],
          "colorscale": [
           [
            0,
            "rgb(186,228,179)"
           ],
           [
            0.3333333333333333,
            "rgb(116,196,118)"
           ],
           [
            0.6666666666666666,
            "rgb(49,163,84)"
           ],
           [
            1,
            "rgb(0,109,44)"
           ]
          ]
         },
         "text": [
          "33.30%",
          "28.60%"
         ],
         "type": "bar",
         "uid": "0373ae4c-ec9f-4831-915b-98db00ca4793",
         "x": [
          "1FPB",
          "2FPB"
         ],
         "y": [
          33.3,
          28.6
         ]
        }
       ],
       "layout": {
        "title": {
         "text": ""
        }
       }
      },
      "text/html": [
       "<div>\n",
       "        \n",
       "        \n",
       "            <div id=\"a6f11a7a-e97b-43c0-9c0f-68163a9a7a1f\" class=\"plotly-graph-div\" style=\"height:525px; width:100%;\"></div>\n",
       "            <script type=\"text/javascript\">\n",
       "                require([\"plotly\"], function(Plotly) {\n",
       "                    window.PLOTLYENV=window.PLOTLYENV || {};\n",
       "                    window.PLOTLYENV.BASE_URL='https://plot.ly';\n",
       "                    \n",
       "                if (document.getElementById(\"a6f11a7a-e97b-43c0-9c0f-68163a9a7a1f\")) {\n",
       "                    Plotly.newPlot(\n",
       "                        'a6f11a7a-e97b-43c0-9c0f-68163a9a7a1f',\n",
       "                        [{\"hoverinfo\": \"x+text\", \"marker\": {\"color\": [33.3, 28.6], \"colorscale\": [[0.0, \"rgb(186,228,179)\"], [0.3333333333333333, \"rgb(116,196,118)\"], [0.6666666666666666, \"rgb(49,163,84)\"], [1.0, \"rgb(0,109,44)\"]]}, \"text\": [\"33.30%\", \"28.60%\"], \"type\": \"bar\", \"uid\": \"fc652ce2-8c48-4bd7-9669-114eec31bfec\", \"x\": [\"1FPB\", \"2FPB\"], \"y\": [33.3, 28.6]}],\n",
       "                        {\"title\": {\"text\": \"\"}},\n",
       "                        {\"showLink\": false, \"linkText\": \"Export to plot.ly\", \"plotlyServerURL\": \"https://plot.ly\", \"responsive\": true}\n",
       "                    ).then(function(){\n",
       "                            \n",
       "var gd = document.getElementById('a6f11a7a-e97b-43c0-9c0f-68163a9a7a1f');\n",
       "var x = new MutationObserver(function (mutations, observer) {{\n",
       "        var display = window.getComputedStyle(gd).display;\n",
       "        if (!display || display === 'none') {{\n",
       "            console.log([gd, 'removed!']);\n",
       "            Plotly.purge(gd);\n",
       "            observer.disconnect();\n",
       "        }}\n",
       "}});\n",
       "\n",
       "// Listen for the removal of the full notebook cells\n",
       "var notebookContainer = gd.closest('#notebook-container');\n",
       "if (notebookContainer) {{\n",
       "    x.observe(notebookContainer, {childList: true});\n",
       "}}\n",
       "\n",
       "// Listen for the clearing of the current output cell\n",
       "var outputEl = gd.closest('.output');\n",
       "if (outputEl) {{\n",
       "    x.observe(outputEl, {childList: true});\n",
       "}}\n",
       "\n",
       "                        })\n",
       "                };\n",
       "                });\n",
       "            </script>\n",
       "        </div>"
      ]
     },
     "metadata": {},
     "output_type": "display_data"
    }
   ],
   "source": [
    "dfc_FPB = loaders.get_data_by_stages(dfc, 'FPB')\n",
    "myplotly.bar_simple(dfc_FPB.index, dfc_FPB['éxito'])"
   ]
  },
  {
   "cell_type": "code",
   "execution_count": 17,
   "metadata": {},
   "outputs": [
    {
     "data": {
      "text/plain": [
       "éxito                       30.950\n",
       "absentismo_justificado       7.250\n",
       "absentismo_injustificado    17.755\n",
       "partes                       8.000\n",
       "suspensión_asistencia        3.000\n",
       "ratio                       11.000\n",
       "absentismo                  25.005\n",
       "éxito_abs                    3.500\n",
       "ccbb                           NaN\n",
       "dtype: float64"
      ]
     },
     "execution_count": 17,
     "metadata": {},
     "output_type": "execute_result"
    }
   ],
   "source": [
    "dfc_FPB.mean()"
   ]
  },
  {
   "cell_type": "markdown",
   "metadata": {},
   "source": [
    "## BACHILLERATO"
   ]
  },
  {
   "cell_type": "code",
   "execution_count": 18,
   "metadata": {
    "scrolled": true
   },
   "outputs": [
    {
     "data": {
      "application/vnd.plotly.v1+json": {
       "config": {
        "linkText": "Export to plot.ly",
        "plotlyServerURL": "https://plot.ly",
        "responsive": true,
        "showLink": false
       },
       "data": [
        {
         "hoverinfo": "x+text",
         "marker": {
          "color": [
           52.9,
           24,
           47.4,
           25
          ],
          "colorscale": [
           [
            0,
            "rgb(186,228,179)"
           ],
           [
            0.3333333333333333,
            "rgb(116,196,118)"
           ],
           [
            0.6666666666666666,
            "rgb(49,163,84)"
           ],
           [
            1,
            "rgb(0,109,44)"
           ]
          ]
         },
         "text": [
          "52.90%",
          "24.00%",
          "47.40%",
          "25.00%"
         ],
         "type": "bar",
         "uid": "20c121bb-0ad8-4372-9475-78241209b901",
         "x": [
          "1CIE",
          "1SOC",
          "2CIE",
          "2SOC"
         ],
         "y": [
          52.9,
          24,
          47.4,
          25
         ]
        }
       ],
       "layout": {
        "title": {
         "text": ""
        }
       }
      },
      "text/html": [
       "<div>\n",
       "        \n",
       "        \n",
       "            <div id=\"7b9c6a27-ce5d-4850-ba58-de0c4830279a\" class=\"plotly-graph-div\" style=\"height:525px; width:100%;\"></div>\n",
       "            <script type=\"text/javascript\">\n",
       "                require([\"plotly\"], function(Plotly) {\n",
       "                    window.PLOTLYENV=window.PLOTLYENV || {};\n",
       "                    window.PLOTLYENV.BASE_URL='https://plot.ly';\n",
       "                    \n",
       "                if (document.getElementById(\"7b9c6a27-ce5d-4850-ba58-de0c4830279a\")) {\n",
       "                    Plotly.newPlot(\n",
       "                        '7b9c6a27-ce5d-4850-ba58-de0c4830279a',\n",
       "                        [{\"hoverinfo\": \"x+text\", \"marker\": {\"color\": [52.9, 24.0, 47.4, 25.0], \"colorscale\": [[0.0, \"rgb(186,228,179)\"], [0.3333333333333333, \"rgb(116,196,118)\"], [0.6666666666666666, \"rgb(49,163,84)\"], [1.0, \"rgb(0,109,44)\"]]}, \"text\": [\"52.90%\", \"24.00%\", \"47.40%\", \"25.00%\"], \"type\": \"bar\", \"uid\": \"dbb586f6-7101-4b7a-904f-11dbe40dcb1f\", \"x\": [\"1CIE\", \"1SOC\", \"2CIE\", \"2SOC\"], \"y\": [52.9, 24.0, 47.4, 25.0]}],\n",
       "                        {\"title\": {\"text\": \"\"}},\n",
       "                        {\"showLink\": false, \"linkText\": \"Export to plot.ly\", \"plotlyServerURL\": \"https://plot.ly\", \"responsive\": true}\n",
       "                    ).then(function(){\n",
       "                            \n",
       "var gd = document.getElementById('7b9c6a27-ce5d-4850-ba58-de0c4830279a');\n",
       "var x = new MutationObserver(function (mutations, observer) {{\n",
       "        var display = window.getComputedStyle(gd).display;\n",
       "        if (!display || display === 'none') {{\n",
       "            console.log([gd, 'removed!']);\n",
       "            Plotly.purge(gd);\n",
       "            observer.disconnect();\n",
       "        }}\n",
       "}});\n",
       "\n",
       "// Listen for the removal of the full notebook cells\n",
       "var notebookContainer = gd.closest('#notebook-container');\n",
       "if (notebookContainer) {{\n",
       "    x.observe(notebookContainer, {childList: true});\n",
       "}}\n",
       "\n",
       "// Listen for the clearing of the current output cell\n",
       "var outputEl = gd.closest('.output');\n",
       "if (outputEl) {{\n",
       "    x.observe(outputEl, {childList: true});\n",
       "}}\n",
       "\n",
       "                        })\n",
       "                };\n",
       "                });\n",
       "            </script>\n",
       "        </div>"
      ]
     },
     "metadata": {},
     "output_type": "display_data"
    }
   ],
   "source": [
    "dfc_BACH = loaders.get_data_by_stages(dfc, 'BACH')\n",
    "myplotly.bar_simple(dfc_BACH.index, dfc_BACH['éxito'])"
   ]
  },
  {
   "cell_type": "code",
   "execution_count": 19,
   "metadata": {
    "scrolled": false
   },
   "outputs": [
    {
     "data": {
      "text/plain": [
       "éxito                       37.3250\n",
       "absentismo_justificado       2.0500\n",
       "absentismo_injustificado     4.0975\n",
       "partes                       1.7500\n",
       "suspensión_asistencia        0.2500\n",
       "ratio                       21.2500\n",
       "absentismo                   6.1475\n",
       "éxito_abs                    7.5000\n",
       "ccbb                            NaN\n",
       "dtype: float64"
      ]
     },
     "execution_count": 19,
     "metadata": {},
     "output_type": "execute_result"
    }
   ],
   "source": [
    "dfc_BACH.mean()"
   ]
  },
  {
   "cell_type": "markdown",
   "metadata": {},
   "source": [
    "## CICLOS FORMATIVOS DE GRADO MEDIO"
   ]
  },
  {
   "cell_type": "code",
   "execution_count": 20,
   "metadata": {
    "scrolled": true
   },
   "outputs": [
    {
     "data": {
      "application/vnd.plotly.v1+json": {
       "config": {
        "linkText": "Export to plot.ly",
        "plotlyServerURL": "https://plot.ly",
        "responsive": true,
        "showLink": false
       },
       "data": [
        {
         "hoverinfo": "x+text",
         "marker": {
          "color": [
           23.5,
           23.5,
           25,
           88.9,
           30.8,
           27.3
          ],
          "colorscale": [
           [
            0,
            "rgb(186,228,179)"
           ],
           [
            0.3333333333333333,
            "rgb(116,196,118)"
           ],
           [
            0.6666666666666666,
            "rgb(49,163,84)"
           ],
           [
            1,
            "rgb(0,109,44)"
           ]
          ]
         },
         "text": [
          "23.50%",
          "23.50%",
          "25.00%",
          "88.90%",
          "30.80%",
          "27.30%"
         ],
         "type": "bar",
         "uid": "0689c869-9246-4ffc-9daf-4166c10cfd73",
         "x": [
          "1TEL",
          "1ELE",
          "1CAR",
          "2TEL",
          "2ELE",
          "2CAR"
         ],
         "y": [
          23.5,
          23.5,
          25,
          88.9,
          30.8,
          27.3
         ]
        }
       ],
       "layout": {
        "title": {
         "text": ""
        }
       }
      },
      "text/html": [
       "<div>\n",
       "        \n",
       "        \n",
       "            <div id=\"b1959bdb-164b-4756-b929-3c2371d8e73f\" class=\"plotly-graph-div\" style=\"height:525px; width:100%;\"></div>\n",
       "            <script type=\"text/javascript\">\n",
       "                require([\"plotly\"], function(Plotly) {\n",
       "                    window.PLOTLYENV=window.PLOTLYENV || {};\n",
       "                    window.PLOTLYENV.BASE_URL='https://plot.ly';\n",
       "                    \n",
       "                if (document.getElementById(\"b1959bdb-164b-4756-b929-3c2371d8e73f\")) {\n",
       "                    Plotly.newPlot(\n",
       "                        'b1959bdb-164b-4756-b929-3c2371d8e73f',\n",
       "                        [{\"hoverinfo\": \"x+text\", \"marker\": {\"color\": [23.5, 23.5, 25.0, 88.9, 30.8, 27.3], \"colorscale\": [[0.0, \"rgb(186,228,179)\"], [0.3333333333333333, \"rgb(116,196,118)\"], [0.6666666666666666, \"rgb(49,163,84)\"], [1.0, \"rgb(0,109,44)\"]]}, \"text\": [\"23.50%\", \"23.50%\", \"25.00%\", \"88.90%\", \"30.80%\", \"27.30%\"], \"type\": \"bar\", \"uid\": \"3abb664d-6296-4d18-b5e5-937279a85f8d\", \"x\": [\"1TEL\", \"1ELE\", \"1CAR\", \"2TEL\", \"2ELE\", \"2CAR\"], \"y\": [23.5, 23.5, 25.0, 88.9, 30.8, 27.3]}],\n",
       "                        {\"title\": {\"text\": \"\"}},\n",
       "                        {\"showLink\": false, \"linkText\": \"Export to plot.ly\", \"plotlyServerURL\": \"https://plot.ly\", \"responsive\": true}\n",
       "                    ).then(function(){\n",
       "                            \n",
       "var gd = document.getElementById('b1959bdb-164b-4756-b929-3c2371d8e73f');\n",
       "var x = new MutationObserver(function (mutations, observer) {{\n",
       "        var display = window.getComputedStyle(gd).display;\n",
       "        if (!display || display === 'none') {{\n",
       "            console.log([gd, 'removed!']);\n",
       "            Plotly.purge(gd);\n",
       "            observer.disconnect();\n",
       "        }}\n",
       "}});\n",
       "\n",
       "// Listen for the removal of the full notebook cells\n",
       "var notebookContainer = gd.closest('#notebook-container');\n",
       "if (notebookContainer) {{\n",
       "    x.observe(notebookContainer, {childList: true});\n",
       "}}\n",
       "\n",
       "// Listen for the clearing of the current output cell\n",
       "var outputEl = gd.closest('.output');\n",
       "if (outputEl) {{\n",
       "    x.observe(outputEl, {childList: true});\n",
       "}}\n",
       "\n",
       "                        })\n",
       "                };\n",
       "                });\n",
       "            </script>\n",
       "        </div>"
      ]
     },
     "metadata": {},
     "output_type": "display_data"
    }
   ],
   "source": [
    "dfc_CFGM = loaders.get_data_by_stages(dfc, 'CFGM')\n",
    "myplotly.bar_simple(dfc_CFGM.index, dfc_CFGM['éxito'])"
   ]
  },
  {
   "cell_type": "code",
   "execution_count": 21,
   "metadata": {
    "scrolled": false
   },
   "outputs": [
    {
     "data": {
      "text/plain": [
       "éxito                       36.500000\n",
       "absentismo_justificado       2.768333\n",
       "absentismo_injustificado    14.365000\n",
       "partes                       0.000000\n",
       "suspensión_asistencia        0.000000\n",
       "ratio                       14.500000\n",
       "absentismo                  17.133333\n",
       "éxito_abs                    4.666667\n",
       "ccbb                              NaN\n",
       "dtype: float64"
      ]
     },
     "execution_count": 21,
     "metadata": {},
     "output_type": "execute_result"
    }
   ],
   "source": [
    "dfc_CFGM.mean()"
   ]
  },
  {
   "cell_type": "markdown",
   "metadata": {},
   "source": [
    "## CICLOS FORMATIVOS DE GRADO SUPERIOR"
   ]
  },
  {
   "cell_type": "code",
   "execution_count": 22,
   "metadata": {
    "scrolled": true
   },
   "outputs": [
    {
     "data": {
      "application/vnd.plotly.v1+json": {
       "config": {
        "linkText": "Export to plot.ly",
        "plotlyServerURL": "https://plot.ly",
        "responsive": true,
        "showLink": false
       },
       "data": [
        {
         "hoverinfo": "x+text",
         "marker": {
          "color": [
           71.4,
           62.1,
           71.4,
           41.4,
           34.5,
           46.7,
           95.7,
           78.3,
           84.2,
           38.5
          ],
          "colorscale": [
           [
            0,
            "rgb(186,228,179)"
           ],
           [
            0.3333333333333333,
            "rgb(116,196,118)"
           ],
           [
            0.6666666666666666,
            "rgb(49,163,84)"
           ],
           [
            1,
            "rgb(0,109,44)"
           ]
          ]
         },
         "text": [
          "71.40%",
          "62.10%",
          "71.40%",
          "41.40%",
          "34.50%",
          "46.70%",
          "95.70%",
          "78.30%",
          "84.20%",
          "38.50%"
         ],
         "type": "bar",
         "uid": "ddb7f639-95a6-4ce0-a658-421cf35d76e3",
         "x": [
          "1ARI",
          "1ALO",
          "1GIT",
          "1ASR",
          "1DAW",
          "2ARI",
          "2ALO",
          "2GIT",
          "2ASR",
          "2DAW"
         ],
         "y": [
          71.4,
          62.1,
          71.4,
          41.4,
          34.5,
          46.7,
          95.7,
          78.3,
          84.2,
          38.5
         ]
        }
       ],
       "layout": {
        "title": {
         "text": ""
        }
       }
      },
      "text/html": [
       "<div>\n",
       "        \n",
       "        \n",
       "            <div id=\"df9c156b-b2f6-443e-9a0a-5e064610e10f\" class=\"plotly-graph-div\" style=\"height:525px; width:100%;\"></div>\n",
       "            <script type=\"text/javascript\">\n",
       "                require([\"plotly\"], function(Plotly) {\n",
       "                    window.PLOTLYENV=window.PLOTLYENV || {};\n",
       "                    window.PLOTLYENV.BASE_URL='https://plot.ly';\n",
       "                    \n",
       "                if (document.getElementById(\"df9c156b-b2f6-443e-9a0a-5e064610e10f\")) {\n",
       "                    Plotly.newPlot(\n",
       "                        'df9c156b-b2f6-443e-9a0a-5e064610e10f',\n",
       "                        [{\"hoverinfo\": \"x+text\", \"marker\": {\"color\": [71.4, 62.1, 71.4, 41.4, 34.5, 46.7, 95.7, 78.3, 84.2, 38.5], \"colorscale\": [[0.0, \"rgb(186,228,179)\"], [0.3333333333333333, \"rgb(116,196,118)\"], [0.6666666666666666, \"rgb(49,163,84)\"], [1.0, \"rgb(0,109,44)\"]]}, \"text\": [\"71.40%\", \"62.10%\", \"71.40%\", \"41.40%\", \"34.50%\", \"46.70%\", \"95.70%\", \"78.30%\", \"84.20%\", \"38.50%\"], \"type\": \"bar\", \"uid\": \"d76d1456-b8b7-44ba-9229-3008eb4aab92\", \"x\": [\"1ARI\", \"1ALO\", \"1GIT\", \"1ASR\", \"1DAW\", \"2ARI\", \"2ALO\", \"2GIT\", \"2ASR\", \"2DAW\"], \"y\": [71.4, 62.1, 71.4, 41.4, 34.5, 46.7, 95.7, 78.3, 84.2, 38.5]}],\n",
       "                        {\"title\": {\"text\": \"\"}},\n",
       "                        {\"showLink\": false, \"linkText\": \"Export to plot.ly\", \"plotlyServerURL\": \"https://plot.ly\", \"responsive\": true}\n",
       "                    ).then(function(){\n",
       "                            \n",
       "var gd = document.getElementById('df9c156b-b2f6-443e-9a0a-5e064610e10f');\n",
       "var x = new MutationObserver(function (mutations, observer) {{\n",
       "        var display = window.getComputedStyle(gd).display;\n",
       "        if (!display || display === 'none') {{\n",
       "            console.log([gd, 'removed!']);\n",
       "            Plotly.purge(gd);\n",
       "            observer.disconnect();\n",
       "        }}\n",
       "}});\n",
       "\n",
       "// Listen for the removal of the full notebook cells\n",
       "var notebookContainer = gd.closest('#notebook-container');\n",
       "if (notebookContainer) {{\n",
       "    x.observe(notebookContainer, {childList: true});\n",
       "}}\n",
       "\n",
       "// Listen for the clearing of the current output cell\n",
       "var outputEl = gd.closest('.output');\n",
       "if (outputEl) {{\n",
       "    x.observe(outputEl, {childList: true});\n",
       "}}\n",
       "\n",
       "                        })\n",
       "                };\n",
       "                });\n",
       "            </script>\n",
       "        </div>"
      ]
     },
     "metadata": {},
     "output_type": "display_data"
    }
   ],
   "source": [
    "dfc_CFGS = loaders.get_data_by_stages(dfc, 'CFGS')\n",
    "myplotly.bar_simple(dfc_CFGS.index, dfc_CFGS['éxito'])"
   ]
  },
  {
   "cell_type": "code",
   "execution_count": 23,
   "metadata": {
    "scrolled": false
   },
   "outputs": [
    {
     "data": {
      "text/plain": [
       "éxito                       62.420\n",
       "absentismo_justificado       2.363\n",
       "absentismo_injustificado     8.525\n",
       "partes                       0.000\n",
       "suspensión_asistencia        0.000\n",
       "ratio                       22.200\n",
       "absentismo                  10.888\n",
       "éxito_abs                   13.800\n",
       "ccbb                           NaN\n",
       "dtype: float64"
      ]
     },
     "execution_count": 23,
     "metadata": {},
     "output_type": "execute_result"
    }
   ],
   "source": [
    "dfc_CFGS.mean()"
   ]
  },
  {
   "cell_type": "markdown",
   "metadata": {},
   "source": [
    "## GLOBAL"
   ]
  },
  {
   "cell_type": "code",
   "execution_count": 24,
   "metadata": {
    "scrolled": false
   },
   "outputs": [
    {
     "data": {
      "application/vnd.plotly.v1+json": {
       "config": {
        "linkText": "Export to plot.ly",
        "plotlyServerURL": "https://plot.ly",
        "responsive": true,
        "showLink": false
       },
       "data": [
        {
         "hoverinfo": "x+text",
         "marker": {
          "color": [
           28.250000000000004,
           30.95,
           37.325,
           36.50000000000001,
           62.42
          ],
          "colorscale": [
           [
            0,
            "rgb(186,228,179)"
           ],
           [
            0.3333333333333333,
            "rgb(116,196,118)"
           ],
           [
            0.6666666666666666,
            "rgb(49,163,84)"
           ],
           [
            1,
            "rgb(0,109,44)"
           ]
          ]
         },
         "text": [
          "28.25%",
          "30.95%",
          "37.33%",
          "36.50%",
          "62.42%"
         ],
         "type": "bar",
         "uid": "db5cfba3-c4fe-4054-a169-55599ab20c93",
         "x": [
          "ESO",
          "FPB",
          "BACH",
          "CFGM",
          "CFGS"
         ],
         "y": [
          28.250000000000004,
          30.95,
          37.325,
          36.50000000000001,
          62.42
         ]
        }
       ],
       "layout": {
        "title": {
         "text": ""
        }
       }
      },
      "text/html": [
       "<div>\n",
       "        \n",
       "        \n",
       "            <div id=\"dcb408e2-07b9-46af-bc93-3f946c8815ab\" class=\"plotly-graph-div\" style=\"height:525px; width:100%;\"></div>\n",
       "            <script type=\"text/javascript\">\n",
       "                require([\"plotly\"], function(Plotly) {\n",
       "                    window.PLOTLYENV=window.PLOTLYENV || {};\n",
       "                    window.PLOTLYENV.BASE_URL='https://plot.ly';\n",
       "                    \n",
       "                if (document.getElementById(\"dcb408e2-07b9-46af-bc93-3f946c8815ab\")) {\n",
       "                    Plotly.newPlot(\n",
       "                        'dcb408e2-07b9-46af-bc93-3f946c8815ab',\n",
       "                        [{\"hoverinfo\": \"x+text\", \"marker\": {\"color\": [28.250000000000004, 30.95, 37.325, 36.50000000000001, 62.42], \"colorscale\": [[0.0, \"rgb(186,228,179)\"], [0.3333333333333333, \"rgb(116,196,118)\"], [0.6666666666666666, \"rgb(49,163,84)\"], [1.0, \"rgb(0,109,44)\"]]}, \"text\": [\"28.25%\", \"30.95%\", \"37.33%\", \"36.50%\", \"62.42%\"], \"type\": \"bar\", \"uid\": \"2affa01f-46b0-450e-8117-23e61fb0c994\", \"x\": [\"ESO\", \"FPB\", \"BACH\", \"CFGM\", \"CFGS\"], \"y\": [28.250000000000004, 30.95, 37.325, 36.50000000000001, 62.42]}],\n",
       "                        {\"title\": {\"text\": \"\"}},\n",
       "                        {\"showLink\": false, \"linkText\": \"Export to plot.ly\", \"plotlyServerURL\": \"https://plot.ly\", \"responsive\": true}\n",
       "                    ).then(function(){\n",
       "                            \n",
       "var gd = document.getElementById('dcb408e2-07b9-46af-bc93-3f946c8815ab');\n",
       "var x = new MutationObserver(function (mutations, observer) {{\n",
       "        var display = window.getComputedStyle(gd).display;\n",
       "        if (!display || display === 'none') {{\n",
       "            console.log([gd, 'removed!']);\n",
       "            Plotly.purge(gd);\n",
       "            observer.disconnect();\n",
       "        }}\n",
       "}});\n",
       "\n",
       "// Listen for the removal of the full notebook cells\n",
       "var notebookContainer = gd.closest('#notebook-container');\n",
       "if (notebookContainer) {{\n",
       "    x.observe(notebookContainer, {childList: true});\n",
       "}}\n",
       "\n",
       "// Listen for the clearing of the current output cell\n",
       "var outputEl = gd.closest('.output');\n",
       "if (outputEl) {{\n",
       "    x.observe(outputEl, {childList: true});\n",
       "}}\n",
       "\n",
       "                        })\n",
       "                };\n",
       "                });\n",
       "            </script>\n",
       "        </div>"
      ]
     },
     "metadata": {},
     "output_type": "display_data"
    }
   ],
   "source": [
    "dfc_summary = dfc.groupby('etapa').mean().loc[stages]\n",
    "myplotly.bar_simple(dfc_summary.index, dfc_summary['éxito'])"
   ]
  },
  {
   "cell_type": "markdown",
   "metadata": {},
   "source": [
    "## COMPARATIVA CON LOS ÚLTIMOS CURSOS"
   ]
  },
  {
   "cell_type": "code",
   "execution_count": 25,
   "metadata": {},
   "outputs": [
    {
     "data": {
      "application/vnd.plotly.v1+json": {
       "config": {
        "linkText": "Export to plot.ly",
        "plotlyServerURL": "https://plot.ly",
        "responsive": true,
        "showLink": false
       },
       "data": [
        {
         "hoverinfo": "x+text+name",
         "name": "C1718",
         "text": [
          "28.10%",
          "37.35%",
          "46.48%",
          "55.00%",
          "52.87%"
         ],
         "type": "bar",
         "uid": "5dc79edd-599a-419c-a10c-5d62a22da58d",
         "x": [
          "ESO",
          "FPB",
          "BACH",
          "CFGM",
          "CFGS"
         ],
         "y": [
          28.099999999999998,
          37.35,
          46.475,
          55,
          52.870000000000005
         ]
        },
        {
         "hoverinfo": "x+text+name",
         "name": "C1819",
         "text": [
          "30.92%",
          "55.00%",
          "37.08%",
          "48.52%",
          "56.43%"
         ],
         "type": "bar",
         "uid": "c5ec25c3-5bb8-4cce-9aa2-ff97d34dac8b",
         "x": [
          "ESO",
          "FPB",
          "BACH",
          "CFGM",
          "CFGS"
         ],
         "y": [
          30.923076923076923,
          55,
          37.075,
          48.51666666666667,
          56.43000000000001
         ]
        },
        {
         "hoverinfo": "x+text+name",
         "name": "C1920",
         "text": [
          "28.25%",
          "30.95%",
          "37.33%",
          "36.50%",
          "62.42%"
         ],
         "type": "bar",
         "uid": "d12cdf60-e376-4c3a-bf7c-3e9400e8ddc6",
         "x": [
          "ESO",
          "FPB",
          "BACH",
          "CFGM",
          "CFGS"
         ],
         "y": [
          28.250000000000004,
          30.95,
          37.325,
          36.50000000000001,
          62.42
         ]
        }
       ],
       "layout": {
        "barmode": "group"
       }
      },
      "text/html": [
       "<div>\n",
       "        \n",
       "        \n",
       "            <div id=\"ac2d5cdf-d1c7-4436-83dd-7ac74e901b66\" class=\"plotly-graph-div\" style=\"height:525px; width:100%;\"></div>\n",
       "            <script type=\"text/javascript\">\n",
       "                require([\"plotly\"], function(Plotly) {\n",
       "                    window.PLOTLYENV=window.PLOTLYENV || {};\n",
       "                    window.PLOTLYENV.BASE_URL='https://plot.ly';\n",
       "                    \n",
       "                if (document.getElementById(\"ac2d5cdf-d1c7-4436-83dd-7ac74e901b66\")) {\n",
       "                    Plotly.newPlot(\n",
       "                        'ac2d5cdf-d1c7-4436-83dd-7ac74e901b66',\n",
       "                        [{\"hoverinfo\": \"x+text+name\", \"name\": \"C1718\", \"text\": [\"28.10%\", \"37.35%\", \"46.48%\", \"55.00%\", \"52.87%\"], \"type\": \"bar\", \"uid\": \"e880a4fd-a707-4ca2-bc50-549ef0c1535a\", \"x\": [\"ESO\", \"FPB\", \"BACH\", \"CFGM\", \"CFGS\"], \"y\": [28.099999999999998, 37.35, 46.475, 55.0, 52.870000000000005]}, {\"hoverinfo\": \"x+text+name\", \"name\": \"C1819\", \"text\": [\"30.92%\", \"55.00%\", \"37.08%\", \"48.52%\", \"56.43%\"], \"type\": \"bar\", \"uid\": \"e046bb49-17e5-43f8-985e-37ebd9c64769\", \"x\": [\"ESO\", \"FPB\", \"BACH\", \"CFGM\", \"CFGS\"], \"y\": [30.923076923076923, 55.0, 37.075, 48.51666666666667, 56.43000000000001]}, {\"hoverinfo\": \"x+text+name\", \"name\": \"C1920\", \"text\": [\"28.25%\", \"30.95%\", \"37.33%\", \"36.50%\", \"62.42%\"], \"type\": \"bar\", \"uid\": \"976c0dad-7ce1-424b-9194-9b699fa418fd\", \"x\": [\"ESO\", \"FPB\", \"BACH\", \"CFGM\", \"CFGS\"], \"y\": [28.250000000000004, 30.95, 37.325, 36.50000000000001, 62.42]}],\n",
       "                        {\"barmode\": \"group\"},\n",
       "                        {\"showLink\": false, \"linkText\": \"Export to plot.ly\", \"plotlyServerURL\": \"https://plot.ly\", \"responsive\": true}\n",
       "                    ).then(function(){\n",
       "                            \n",
       "var gd = document.getElementById('ac2d5cdf-d1c7-4436-83dd-7ac74e901b66');\n",
       "var x = new MutationObserver(function (mutations, observer) {{\n",
       "        var display = window.getComputedStyle(gd).display;\n",
       "        if (!display || display === 'none') {{\n",
       "            console.log([gd, 'removed!']);\n",
       "            Plotly.purge(gd);\n",
       "            observer.disconnect();\n",
       "        }}\n",
       "}});\n",
       "\n",
       "// Listen for the removal of the full notebook cells\n",
       "var notebookContainer = gd.closest('#notebook-container');\n",
       "if (notebookContainer) {{\n",
       "    x.observe(notebookContainer, {childList: true});\n",
       "}}\n",
       "\n",
       "// Listen for the clearing of the current output cell\n",
       "var outputEl = gd.closest('.output');\n",
       "if (outputEl) {{\n",
       "    x.observe(outputEl, {childList: true});\n",
       "}}\n",
       "\n",
       "                        })\n",
       "                };\n",
       "                });\n",
       "            </script>\n",
       "        </div>"
      ]
     },
     "metadata": {},
     "output_type": "display_data"
    }
   ],
   "source": [
    "aux = df.groupby(['etapa', 'curso', 'evaluación']).mean().reset_index().set_index('etapa')\n",
    "series = {year: aux.loc[stages].query(f'curso == \"{year}\" & evaluación == \"{labels[-1][1]}\"')['éxito'].values\n",
    "          for year in years}\n",
    "\n",
    "myplotly.cbar(stages, series)"
   ]
  },
  {
   "cell_type": "code",
   "execution_count": 26,
   "metadata": {
    "scrolled": false
   },
   "outputs": [
    {
     "data": {
      "text/html": [
       "\n",
       "<div class='alert alert-info' role=\"alert\">\n",
       "    Éxito global medio: <b>40.28</b>%\n",
       "</div>\n"
      ],
      "text/plain": [
       "<IPython.core.display.HTML object>"
      ]
     },
     "metadata": {},
     "output_type": "display_data"
    }
   ],
   "source": [
    "mean_success = dfc['éxito'].mean()\n",
    "display(HTML(f'''\n",
    "<div class='alert alert-info' role=\"alert\">\n",
    "    Éxito global medio: <b>{mean_success:.2f}</b>%\n",
    "</div>\n",
    "'''))"
   ]
  },
  {
   "cell_type": "code",
   "execution_count": 27,
   "metadata": {
    "scrolled": false
   },
   "outputs": [],
   "source": [
    "if EVALUATION > 1:\n",
    "    display(HTML('<h2>EVOLUCIÓN DE GRUPOS CON RESPECTO A LA EVALUACIÓN ANTERIOR</h2>'))\n",
    "\n",
    "    aux = df_comp['éxito_x'] - df_comp['éxito_y']\n",
    "    myplotly.dbar(aux.index, aux)"
   ]
  },
  {
   "cell_type": "markdown",
   "metadata": {},
   "source": [
    "## COMPETENCIAS BÁSICAS"
   ]
  },
  {
   "cell_type": "markdown",
   "metadata": {},
   "source": [
    "**AAP**: Aprender a aprender.  \n",
    "**CD**: Competencia digital.  \n",
    "**CEC**: Conciencia y expresiones culturales.  \n",
    "**CL**: Comunicación lingüística.  \n",
    "**CMCT**: Competencia matemática y competencias básicas en ciencia y tecnología.  \n",
    "**CSC**: Competencias sociales y cívicas.  \n",
    "**SIEE**: Sentido de iniciativa y espíritu emprendedor.  "
   ]
  },
  {
   "cell_type": "markdown",
   "metadata": {},
   "source": [
    "#### Valor resumen por competencia básica:\n",
    "\\begin{equation}\n",
    "MARCA = 0.025 * \\mathbb{PA} + 0.050 * \\mathbb{AD} + 0.075 * \\mathbb{MA} + 0.1 * \\mathbb{EX}\n",
    "\\end{equation}\n",
    "\n",
    ", donde $\\mathbb{PA}$, $\\mathbb{AD}$, $\\mathbb{MA}$ y $\\mathbb{EX}$ son los porcentajes de adquisición de la competencia básica en cuestión."
   ]
  },
  {
   "cell_type": "markdown",
   "metadata": {},
   "source": [
    "### ESTUDIO POR NIVELES Y COMPETENCIA"
   ]
  },
  {
   "cell_type": "code",
   "execution_count": 28,
   "metadata": {
    "scrolled": false
   },
   "outputs": [
    {
     "data": {
      "application/vnd.plotly.v1+json": {
       "config": {
        "linkText": "Export to plot.ly",
        "plotlyServerURL": "https://plot.ly",
        "responsive": true,
        "showLink": false
       },
       "data": [
        {
         "hoverinfo": "x+text+name",
         "legendgroup": "PA",
         "marker": {
          "color": "rgb(215,25,28)"
         },
         "name": "PA",
         "text": [
          "38.50%",
          "17.25%",
          "19.75%",
          "34.25%",
          "49.00%",
          "17.00%",
          "41.50%"
         ],
         "type": "bar",
         "uid": "bb68178f-8eca-461b-8923-ee58bc6bd42b",
         "x": [
          "AAP",
          "CD",
          "CEC",
          "CL",
          "CMCT",
          "CSC",
          "SIEE"
         ],
         "xaxis": "x",
         "y": [
          38.5,
          17.25,
          19.75,
          34.25,
          49,
          17,
          41.5
         ],
         "yaxis": "y"
        },
        {
         "hoverinfo": "x+text+name",
         "legendgroup": "AD",
         "marker": {
          "color": "rgb(253,174,97)"
         },
         "name": "AD",
         "text": [
          "37.75%",
          "64.25%",
          "55.00%",
          "45.25%",
          "34.25%",
          "58.00%",
          "38.00%"
         ],
         "type": "bar",
         "uid": "163e3e5e-dfa3-495f-9586-630a5cb15edd",
         "x": [
          "AAP",
          "CD",
          "CEC",
          "CL",
          "CMCT",
          "CSC",
          "SIEE"
         ],
         "xaxis": "x",
         "y": [
          37.75,
          64.25,
          55,
          45.25,
          34.25,
          58,
          38
         ],
         "yaxis": "y"
        },
        {
         "hoverinfo": "x+text+name",
         "legendgroup": "MA",
         "marker": {
          "color": "rgb(171,221,164)"
         },
         "name": "MA",
         "text": [
          "18.75%",
          "16.75%",
          "22.50%",
          "17.00%",
          "14.00%",
          "17.75%",
          "18.50%"
         ],
         "type": "bar",
         "uid": "a7a242a2-1793-4bba-adae-4bbf976fc546",
         "x": [
          "AAP",
          "CD",
          "CEC",
          "CL",
          "CMCT",
          "CSC",
          "SIEE"
         ],
         "xaxis": "x",
         "y": [
          18.75,
          16.75,
          22.5,
          17,
          14,
          17.75,
          18.5
         ],
         "yaxis": "y"
        },
        {
         "hoverinfo": "x+text+name",
         "legendgroup": "EX",
         "marker": {
          "color": "rgb(43,131,186)"
         },
         "name": "EX",
         "text": [
          "4.75%",
          "2.00%",
          "2.75%",
          "3.75%",
          "3.00%",
          "7.25%",
          "2.00%"
         ],
         "type": "bar",
         "uid": "417fb88b-0a76-4d2f-8abb-65fd46e79525",
         "x": [
          "AAP",
          "CD",
          "CEC",
          "CL",
          "CMCT",
          "CSC",
          "SIEE"
         ],
         "xaxis": "x",
         "y": [
          4.75,
          2,
          2.75,
          3.75,
          3,
          7.25,
          2
         ],
         "yaxis": "y"
        },
        {
         "hoverinfo": "x+text+name",
         "legendgroup": "PA",
         "marker": {
          "color": "rgb(215,25,28)"
         },
         "name": "PA",
         "showlegend": false,
         "text": [
          "27.00%",
          "12.50%",
          "20.00%",
          "21.00%",
          "36.50%",
          "16.50%",
          "28.00%"
         ],
         "type": "bar",
         "uid": "6691e181-9f00-4161-b7ec-df774073e15b",
         "x": [
          "AAP",
          "CD",
          "CEC",
          "CL",
          "CMCT",
          "CSC",
          "SIEE"
         ],
         "xaxis": "x2",
         "y": [
          27,
          12.5,
          20,
          21,
          36.5,
          16.5,
          28
         ],
         "yaxis": "y"
        },
        {
         "hoverinfo": "x+text+name",
         "legendgroup": "AD",
         "marker": {
          "color": "rgb(253,174,97)"
         },
         "name": "AD",
         "showlegend": false,
         "text": [
          "54.00%",
          "69.50%",
          "77.00%",
          "65.50%",
          "45.00%",
          "68.50%",
          "50.00%"
         ],
         "type": "bar",
         "uid": "4d2b5725-d297-429a-b8d7-2478de495121",
         "x": [
          "AAP",
          "CD",
          "CEC",
          "CL",
          "CMCT",
          "CSC",
          "SIEE"
         ],
         "xaxis": "x2",
         "y": [
          54,
          69.5,
          77,
          65.5,
          45,
          68.5,
          50
         ],
         "yaxis": "y"
        },
        {
         "hoverinfo": "x+text+name",
         "legendgroup": "MA",
         "marker": {
          "color": "rgb(171,221,164)"
         },
         "name": "MA",
         "showlegend": false,
         "text": [
          "15.50%",
          "14.50%",
          "0.00%",
          "10.50%",
          "15.50%",
          "11.50%",
          "18.50%"
         ],
         "type": "bar",
         "uid": "3e7e13a4-4426-43b0-a3fb-d2765dd22c16",
         "x": [
          "AAP",
          "CD",
          "CEC",
          "CL",
          "CMCT",
          "CSC",
          "SIEE"
         ],
         "xaxis": "x2",
         "y": [
          15.5,
          14.5,
          0,
          10.5,
          15.5,
          11.5,
          18.5
         ],
         "yaxis": "y"
        },
        {
         "hoverinfo": "x+text+name",
         "legendgroup": "EX",
         "marker": {
          "color": "rgb(43,131,186)"
         },
         "name": "EX",
         "showlegend": false,
         "text": [
          "0.00%",
          "0.00%",
          "0.00%",
          "0.00%",
          "0.00%",
          "0.00%",
          "0.00%"
         ],
         "type": "bar",
         "uid": "8287d9cb-27dd-4466-9596-7e246be274c9",
         "x": [
          "AAP",
          "CD",
          "CEC",
          "CL",
          "CMCT",
          "CSC",
          "SIEE"
         ],
         "xaxis": "x2",
         "y": [
          0,
          0,
          0,
          0,
          0,
          0,
          0
         ],
         "yaxis": "y"
        },
        {
         "hoverinfo": "x+text+name",
         "legendgroup": "PA",
         "marker": {
          "color": "rgb(215,25,28)"
         },
         "name": "PA",
         "showlegend": false,
         "text": [
          "62.00%",
          "75.00%",
          "88.00%",
          "50.00%",
          "50.00%",
          "50.00%",
          "75.00%"
         ],
         "type": "bar",
         "uid": "d2138962-1415-4ae4-af03-b867235b300b",
         "x": [
          "AAP",
          "CD",
          "CEC",
          "CL",
          "CMCT",
          "CSC",
          "SIEE"
         ],
         "xaxis": "x3",
         "y": [
          62,
          75,
          88,
          50,
          50,
          50,
          75
         ],
         "yaxis": "y"
        },
        {
         "hoverinfo": "x+text+name",
         "legendgroup": "AD",
         "marker": {
          "color": "rgb(253,174,97)"
         },
         "name": "AD",
         "showlegend": false,
         "text": [
          "38.00%",
          "25.00%",
          "12.00%",
          "50.00%",
          "50.00%",
          "50.00%",
          "25.00%"
         ],
         "type": "bar",
         "uid": "a81ede54-911a-404d-b205-cadb7af6e0fb",
         "x": [
          "AAP",
          "CD",
          "CEC",
          "CL",
          "CMCT",
          "CSC",
          "SIEE"
         ],
         "xaxis": "x3",
         "y": [
          38,
          25,
          12,
          50,
          50,
          50,
          25
         ],
         "yaxis": "y"
        },
        {
         "hoverinfo": "x+text+name",
         "legendgroup": "MA",
         "marker": {
          "color": "rgb(171,221,164)"
         },
         "name": "MA",
         "showlegend": false,
         "text": [
          "0.00%",
          "0.00%",
          "0.00%",
          "0.00%",
          "0.00%",
          "0.00%",
          "0.00%"
         ],
         "type": "bar",
         "uid": "d725ba8d-b532-457b-a252-762d161acdfc",
         "x": [
          "AAP",
          "CD",
          "CEC",
          "CL",
          "CMCT",
          "CSC",
          "SIEE"
         ],
         "xaxis": "x3",
         "y": [
          0,
          0,
          0,
          0,
          0,
          0,
          0
         ],
         "yaxis": "y"
        },
        {
         "hoverinfo": "x+text+name",
         "legendgroup": "EX",
         "marker": {
          "color": "rgb(43,131,186)"
         },
         "name": "EX",
         "showlegend": false,
         "text": [
          "0.00%",
          "0.00%",
          "0.00%",
          "0.00%",
          "0.00%",
          "0.00%",
          "0.00%"
         ],
         "type": "bar",
         "uid": "b5908785-cae6-40bc-be69-cc8ed664f7ae",
         "x": [
          "AAP",
          "CD",
          "CEC",
          "CL",
          "CMCT",
          "CSC",
          "SIEE"
         ],
         "xaxis": "x3",
         "y": [
          0,
          0,
          0,
          0,
          0,
          0,
          0
         ],
         "yaxis": "y"
        },
        {
         "hoverinfo": "x+text+name",
         "legendgroup": "PA",
         "marker": {
          "color": "rgb(215,25,28)"
         },
         "name": "PA",
         "showlegend": false,
         "text": [
          "48.67%",
          "30.00%",
          "39.67%",
          "47.33%",
          "56.33%",
          "32.00%",
          "51.33%"
         ],
         "type": "bar",
         "uid": "767c2bbe-f811-441a-828e-f9e0302fbd3f",
         "x": [
          "AAP",
          "CD",
          "CEC",
          "CL",
          "CMCT",
          "CSC",
          "SIEE"
         ],
         "xaxis": "x4",
         "y": [
          48.666666666666664,
          30,
          39.666666666666664,
          47.333333333333336,
          56.333333333333336,
          32,
          51.333333333333336
         ],
         "yaxis": "y2"
        },
        {
         "hoverinfo": "x+text+name",
         "legendgroup": "AD",
         "marker": {
          "color": "rgb(253,174,97)"
         },
         "name": "AD",
         "showlegend": false,
         "text": [
          "34.00%",
          "53.67%",
          "45.33%",
          "38.00%",
          "29.00%",
          "58.00%",
          "39.00%"
         ],
         "type": "bar",
         "uid": "48aa0e63-824e-4966-868c-e97d6b738bb7",
         "x": [
          "AAP",
          "CD",
          "CEC",
          "CL",
          "CMCT",
          "CSC",
          "SIEE"
         ],
         "xaxis": "x4",
         "y": [
          34,
          53.666666666666664,
          45.333333333333336,
          38,
          29,
          58,
          39
         ],
         "yaxis": "y2"
        },
        {
         "hoverinfo": "x+text+name",
         "legendgroup": "MA",
         "marker": {
          "color": "rgb(171,221,164)"
         },
         "name": "MA",
         "showlegend": false,
         "text": [
          "16.00%",
          "16.00%",
          "13.67%",
          "14.67%",
          "15.00%",
          "10.00%",
          "8.67%"
         ],
         "type": "bar",
         "uid": "9c7c64f7-7fc1-4f95-b121-8b6a65e92a7d",
         "x": [
          "AAP",
          "CD",
          "CEC",
          "CL",
          "CMCT",
          "CSC",
          "SIEE"
         ],
         "xaxis": "x4",
         "y": [
          16,
          16,
          13.666666666666666,
          14.666666666666666,
          15,
          10,
          8.666666666666666
         ],
         "yaxis": "y2"
        },
        {
         "hoverinfo": "x+text+name",
         "legendgroup": "EX",
         "marker": {
          "color": "rgb(43,131,186)"
         },
         "name": "EX",
         "showlegend": false,
         "text": [
          "1.33%",
          "0.00%",
          "1.33%",
          "0.00%",
          "0.00%",
          "0.00%",
          "1.33%"
         ],
         "type": "bar",
         "uid": "95166152-0d61-4032-ad7c-02be67e8d55e",
         "x": [
          "AAP",
          "CD",
          "CEC",
          "CL",
          "CMCT",
          "CSC",
          "SIEE"
         ],
         "xaxis": "x4",
         "y": [
          1.3333333333333333,
          0,
          1.3333333333333333,
          0,
          0,
          0,
          1.3333333333333333
         ],
         "yaxis": "y2"
        },
        {
         "hoverinfo": "x+text+name",
         "legendgroup": "PA",
         "marker": {
          "color": "rgb(215,25,28)"
         },
         "name": "PA",
         "showlegend": false,
         "text": [
          "58.00%",
          "50.00%",
          "33.00%",
          "50.00%",
          "83.00%",
          "50.00%",
          "58.00%"
         ],
         "type": "bar",
         "uid": "fc76428e-96a0-4188-820e-f48fda47ec7b",
         "x": [
          "AAP",
          "CD",
          "CEC",
          "CL",
          "CMCT",
          "CSC",
          "SIEE"
         ],
         "xaxis": "x5",
         "y": [
          58,
          50,
          33,
          50,
          83,
          50,
          58
         ],
         "yaxis": "y2"
        },
        {
         "hoverinfo": "x+text+name",
         "legendgroup": "AD",
         "marker": {
          "color": "rgb(253,174,97)"
         },
         "name": "AD",
         "showlegend": false,
         "text": [
          "42.00%",
          "42.00%",
          "67.00%",
          "42.00%",
          "8.00%",
          "42.00%",
          "42.00%"
         ],
         "type": "bar",
         "uid": "cec814dd-6127-432b-a289-8ed96762654c",
         "x": [
          "AAP",
          "CD",
          "CEC",
          "CL",
          "CMCT",
          "CSC",
          "SIEE"
         ],
         "xaxis": "x5",
         "y": [
          42,
          42,
          67,
          42,
          8,
          42,
          42
         ],
         "yaxis": "y2"
        },
        {
         "hoverinfo": "x+text+name",
         "legendgroup": "MA",
         "marker": {
          "color": "rgb(171,221,164)"
         },
         "name": "MA",
         "showlegend": false,
         "text": [
          "0.00%",
          "8.00%",
          "0.00%",
          "8.00%",
          "8.00%",
          "8.00%",
          "0.00%"
         ],
         "type": "bar",
         "uid": "4b979208-7385-4178-90dc-1676351ddb78",
         "x": [
          "AAP",
          "CD",
          "CEC",
          "CL",
          "CMCT",
          "CSC",
          "SIEE"
         ],
         "xaxis": "x5",
         "y": [
          0,
          8,
          0,
          8,
          8,
          8,
          0
         ],
         "yaxis": "y2"
        },
        {
         "hoverinfo": "x+text+name",
         "legendgroup": "EX",
         "marker": {
          "color": "rgb(43,131,186)"
         },
         "name": "EX",
         "showlegend": false,
         "text": [
          "0.00%",
          "0.00%",
          "0.00%",
          "0.00%",
          "0.00%",
          "0.00%",
          "0.00%"
         ],
         "type": "bar",
         "uid": "57fad65f-eb4c-4d29-9a48-e6655e22d60c",
         "x": [
          "AAP",
          "CD",
          "CEC",
          "CL",
          "CMCT",
          "CSC",
          "SIEE"
         ],
         "xaxis": "x5",
         "y": [
          0,
          0,
          0,
          0,
          0,
          0,
          0
         ],
         "yaxis": "y2"
        },
        {
         "hoverinfo": "x+text+name",
         "legendgroup": "PA",
         "marker": {
          "color": "rgb(215,25,28)"
         },
         "name": "PA",
         "showlegend": false,
         "text": [
          "21.67%",
          "15.33%",
          "10.33%",
          "23.33%",
          "40.00%",
          "14.00%",
          "22.00%"
         ],
         "type": "bar",
         "uid": "4f331ae1-b33e-44bf-9322-e513de9a41c3",
         "x": [
          "AAP",
          "CD",
          "CEC",
          "CL",
          "CMCT",
          "CSC",
          "SIEE"
         ],
         "xaxis": "x6",
         "y": [
          21.666666666666668,
          15.333333333333334,
          10.333333333333334,
          23.333333333333332,
          40,
          14,
          22
         ],
         "yaxis": "y2"
        },
        {
         "hoverinfo": "x+text+name",
         "legendgroup": "AD",
         "marker": {
          "color": "rgb(253,174,97)"
         },
         "name": "AD",
         "showlegend": false,
         "text": [
          "58.33%",
          "66.00%",
          "68.33%",
          "54.00%",
          "36.00%",
          "63.33%",
          "57.00%"
         ],
         "type": "bar",
         "uid": "c6869ef4-7005-493d-b53e-50d56b6d5c03",
         "x": [
          "AAP",
          "CD",
          "CEC",
          "CL",
          "CMCT",
          "CSC",
          "SIEE"
         ],
         "xaxis": "x6",
         "y": [
          58.333333333333336,
          66,
          68.33333333333333,
          54,
          36,
          63.333333333333336,
          57
         ],
         "yaxis": "y2"
        },
        {
         "hoverinfo": "x+text+name",
         "legendgroup": "MA",
         "marker": {
          "color": "rgb(171,221,164)"
         },
         "name": "MA",
         "showlegend": false,
         "text": [
          "14.33%",
          "13.67%",
          "15.67%",
          "15.33%",
          "18.67%",
          "17.00%",
          "15.33%"
         ],
         "type": "bar",
         "uid": "184bc637-1e2f-4ee2-83c1-b69e59015028",
         "x": [
          "AAP",
          "CD",
          "CEC",
          "CL",
          "CMCT",
          "CSC",
          "SIEE"
         ],
         "xaxis": "x6",
         "y": [
          14.333333333333334,
          13.666666666666666,
          15.666666666666666,
          15.333333333333334,
          18.666666666666668,
          17,
          15.333333333333334
         ],
         "yaxis": "y2"
        },
        {
         "hoverinfo": "x+text+name",
         "legendgroup": "EX",
         "marker": {
          "color": "rgb(43,131,186)"
         },
         "name": "EX",
         "showlegend": false,
         "text": [
          "0.00%",
          "0.00%",
          "0.00%",
          "1.33%",
          "0.00%",
          "0.00%",
          "0.00%"
         ],
         "type": "bar",
         "uid": "cc4d7588-4cf1-4706-babf-a905f6ac0bda",
         "x": [
          "AAP",
          "CD",
          "CEC",
          "CL",
          "CMCT",
          "CSC",
          "SIEE"
         ],
         "xaxis": "x6",
         "y": [
          0,
          0,
          0,
          1.3333333333333333,
          0,
          0,
          0
         ],
         "yaxis": "y2"
        }
       ],
       "layout": {
        "annotations": [
         {
          "font": {
           "size": 16
          },
          "showarrow": false,
          "text": "1ESO",
          "x": 0.14444444444444446,
          "xanchor": "center",
          "xref": "paper",
          "y": 1,
          "yanchor": "bottom",
          "yref": "paper"
         },
         {
          "font": {
           "size": 16
          },
          "showarrow": false,
          "text": "2ESO",
          "x": 0.5,
          "xanchor": "center",
          "xref": "paper",
          "y": 1,
          "yanchor": "bottom",
          "yref": "paper"
         },
         {
          "font": {
           "size": 16
          },
          "showarrow": false,
          "text": "1PMAR",
          "x": 0.8555555555555556,
          "xanchor": "center",
          "xref": "paper",
          "y": 1,
          "yanchor": "bottom",
          "yref": "paper"
         },
         {
          "font": {
           "size": 16
          },
          "showarrow": false,
          "text": "3ESO",
          "x": 0.14444444444444446,
          "xanchor": "center",
          "xref": "paper",
          "y": 0.375,
          "yanchor": "bottom",
          "yref": "paper"
         },
         {
          "font": {
           "size": 16
          },
          "showarrow": false,
          "text": "2PMAR",
          "x": 0.5,
          "xanchor": "center",
          "xref": "paper",
          "y": 0.375,
          "yanchor": "bottom",
          "yref": "paper"
         },
         {
          "font": {
           "size": 16
          },
          "showarrow": false,
          "text": "4ESO",
          "x": 0.8555555555555556,
          "xanchor": "center",
          "xref": "paper",
          "y": 0.375,
          "yanchor": "bottom",
          "yref": "paper"
         }
        ],
        "barmode": "group",
        "height": 800,
        "xaxis": {
         "anchor": "y",
         "domain": [
          0,
          0.2888888888888889
         ]
        },
        "xaxis2": {
         "anchor": "free",
         "domain": [
          0.35555555555555557,
          0.6444444444444445
         ],
         "position": 0.625
        },
        "xaxis3": {
         "anchor": "free",
         "domain": [
          0.7111111111111111,
          1
         ],
         "position": 0.625
        },
        "xaxis4": {
         "anchor": "y2",
         "domain": [
          0,
          0.2888888888888889
         ]
        },
        "xaxis5": {
         "anchor": "free",
         "domain": [
          0.35555555555555557,
          0.6444444444444445
         ],
         "position": 0
        },
        "xaxis6": {
         "anchor": "free",
         "domain": [
          0.7111111111111111,
          1
         ],
         "position": 0
        },
        "yaxis": {
         "anchor": "x",
         "domain": [
          0.625,
          1
         ]
        },
        "yaxis2": {
         "anchor": "x4",
         "domain": [
          0,
          0.375
         ]
        }
       }
      },
      "text/html": [
       "<div>\n",
       "        \n",
       "        \n",
       "            <div id=\"5106a522-ff30-41e1-93ba-4137bd1634ff\" class=\"plotly-graph-div\" style=\"height:800px; width:100%;\"></div>\n",
       "            <script type=\"text/javascript\">\n",
       "                require([\"plotly\"], function(Plotly) {\n",
       "                    window.PLOTLYENV=window.PLOTLYENV || {};\n",
       "                    window.PLOTLYENV.BASE_URL='https://plot.ly';\n",
       "                    \n",
       "                if (document.getElementById(\"5106a522-ff30-41e1-93ba-4137bd1634ff\")) {\n",
       "                    Plotly.newPlot(\n",
       "                        '5106a522-ff30-41e1-93ba-4137bd1634ff',\n",
       "                        [{\"hoverinfo\": \"x+text+name\", \"legendgroup\": \"PA\", \"marker\": {\"color\": \"rgb(215,25,28)\"}, \"name\": \"PA\", \"text\": [\"38.50%\", \"17.25%\", \"19.75%\", \"34.25%\", \"49.00%\", \"17.00%\", \"41.50%\"], \"type\": \"bar\", \"uid\": \"fd269e2b-2183-4cd0-839e-c3d5818df578\", \"x\": [\"AAP\", \"CD\", \"CEC\", \"CL\", \"CMCT\", \"CSC\", \"SIEE\"], \"xaxis\": \"x\", \"y\": [38.5, 17.25, 19.75, 34.25, 49.0, 17.0, 41.5], \"yaxis\": \"y\"}, {\"hoverinfo\": \"x+text+name\", \"legendgroup\": \"AD\", \"marker\": {\"color\": \"rgb(253,174,97)\"}, \"name\": \"AD\", \"text\": [\"37.75%\", \"64.25%\", \"55.00%\", \"45.25%\", \"34.25%\", \"58.00%\", \"38.00%\"], \"type\": \"bar\", \"uid\": \"8169459e-9dea-40e8-8e55-d3bb3b822bce\", \"x\": [\"AAP\", \"CD\", \"CEC\", \"CL\", \"CMCT\", \"CSC\", \"SIEE\"], \"xaxis\": \"x\", \"y\": [37.75, 64.25, 55.0, 45.25, 34.25, 58.0, 38.0], \"yaxis\": \"y\"}, {\"hoverinfo\": \"x+text+name\", \"legendgroup\": \"MA\", \"marker\": {\"color\": \"rgb(171,221,164)\"}, \"name\": \"MA\", \"text\": [\"18.75%\", \"16.75%\", \"22.50%\", \"17.00%\", \"14.00%\", \"17.75%\", \"18.50%\"], \"type\": \"bar\", \"uid\": \"b07a1011-c934-4529-ba20-59e7fd7247ff\", \"x\": [\"AAP\", \"CD\", \"CEC\", \"CL\", \"CMCT\", \"CSC\", \"SIEE\"], \"xaxis\": \"x\", \"y\": [18.75, 16.75, 22.5, 17.0, 14.0, 17.75, 18.5], \"yaxis\": \"y\"}, {\"hoverinfo\": \"x+text+name\", \"legendgroup\": \"EX\", \"marker\": {\"color\": \"rgb(43,131,186)\"}, \"name\": \"EX\", \"text\": [\"4.75%\", \"2.00%\", \"2.75%\", \"3.75%\", \"3.00%\", \"7.25%\", \"2.00%\"], \"type\": \"bar\", \"uid\": \"9ca869d3-8813-4887-9110-6b3749d6f6ba\", \"x\": [\"AAP\", \"CD\", \"CEC\", \"CL\", \"CMCT\", \"CSC\", \"SIEE\"], \"xaxis\": \"x\", \"y\": [4.75, 2.0, 2.75, 3.75, 3.0, 7.25, 2.0], \"yaxis\": \"y\"}, {\"hoverinfo\": \"x+text+name\", \"legendgroup\": \"PA\", \"marker\": {\"color\": \"rgb(215,25,28)\"}, \"name\": \"PA\", \"showlegend\": false, \"text\": [\"27.00%\", \"12.50%\", \"20.00%\", \"21.00%\", \"36.50%\", \"16.50%\", \"28.00%\"], \"type\": \"bar\", \"uid\": \"f7761672-c912-433d-adf1-42c4fe865513\", \"x\": [\"AAP\", \"CD\", \"CEC\", \"CL\", \"CMCT\", \"CSC\", \"SIEE\"], \"xaxis\": \"x2\", \"y\": [27.0, 12.5, 20.0, 21.0, 36.5, 16.5, 28.0], \"yaxis\": \"y\"}, {\"hoverinfo\": \"x+text+name\", \"legendgroup\": \"AD\", \"marker\": {\"color\": \"rgb(253,174,97)\"}, \"name\": \"AD\", \"showlegend\": false, \"text\": [\"54.00%\", \"69.50%\", \"77.00%\", \"65.50%\", \"45.00%\", \"68.50%\", \"50.00%\"], \"type\": \"bar\", \"uid\": \"898fd062-b06c-41a3-971c-8485335cace4\", \"x\": [\"AAP\", \"CD\", \"CEC\", \"CL\", \"CMCT\", \"CSC\", \"SIEE\"], \"xaxis\": \"x2\", \"y\": [54.0, 69.5, 77.0, 65.5, 45.0, 68.5, 50.0], \"yaxis\": \"y\"}, {\"hoverinfo\": \"x+text+name\", \"legendgroup\": \"MA\", \"marker\": {\"color\": \"rgb(171,221,164)\"}, \"name\": \"MA\", \"showlegend\": false, \"text\": [\"15.50%\", \"14.50%\", \"0.00%\", \"10.50%\", \"15.50%\", \"11.50%\", \"18.50%\"], \"type\": \"bar\", \"uid\": \"80d6076a-c0ac-40b4-b0ae-6daaabb6bd7d\", \"x\": [\"AAP\", \"CD\", \"CEC\", \"CL\", \"CMCT\", \"CSC\", \"SIEE\"], \"xaxis\": \"x2\", \"y\": [15.5, 14.5, 0.0, 10.5, 15.5, 11.5, 18.5], \"yaxis\": \"y\"}, {\"hoverinfo\": \"x+text+name\", \"legendgroup\": \"EX\", \"marker\": {\"color\": \"rgb(43,131,186)\"}, \"name\": \"EX\", \"showlegend\": false, \"text\": [\"0.00%\", \"0.00%\", \"0.00%\", \"0.00%\", \"0.00%\", \"0.00%\", \"0.00%\"], \"type\": \"bar\", \"uid\": \"f063e5a9-b7ab-4d3b-9bd1-7c49ead8f7e6\", \"x\": [\"AAP\", \"CD\", \"CEC\", \"CL\", \"CMCT\", \"CSC\", \"SIEE\"], \"xaxis\": \"x2\", \"y\": [0.0, 0.0, 0.0, 0.0, 0.0, 0.0, 0.0], \"yaxis\": \"y\"}, {\"hoverinfo\": \"x+text+name\", \"legendgroup\": \"PA\", \"marker\": {\"color\": \"rgb(215,25,28)\"}, \"name\": \"PA\", \"showlegend\": false, \"text\": [\"62.00%\", \"75.00%\", \"88.00%\", \"50.00%\", \"50.00%\", \"50.00%\", \"75.00%\"], \"type\": \"bar\", \"uid\": \"47bf2da8-0e17-4793-9469-2452839a4eb8\", \"x\": [\"AAP\", \"CD\", \"CEC\", \"CL\", \"CMCT\", \"CSC\", \"SIEE\"], \"xaxis\": \"x3\", \"y\": [62.0, 75.0, 88.0, 50.0, 50.0, 50.0, 75.0], \"yaxis\": \"y\"}, {\"hoverinfo\": \"x+text+name\", \"legendgroup\": \"AD\", \"marker\": {\"color\": \"rgb(253,174,97)\"}, \"name\": \"AD\", \"showlegend\": false, \"text\": [\"38.00%\", \"25.00%\", \"12.00%\", \"50.00%\", \"50.00%\", \"50.00%\", \"25.00%\"], \"type\": \"bar\", \"uid\": \"e0866ca3-3d0b-4fd3-a756-749df1be6ff2\", \"x\": [\"AAP\", \"CD\", \"CEC\", \"CL\", \"CMCT\", \"CSC\", \"SIEE\"], \"xaxis\": \"x3\", \"y\": [38.0, 25.0, 12.0, 50.0, 50.0, 50.0, 25.0], \"yaxis\": \"y\"}, {\"hoverinfo\": \"x+text+name\", \"legendgroup\": \"MA\", \"marker\": {\"color\": \"rgb(171,221,164)\"}, \"name\": \"MA\", \"showlegend\": false, \"text\": [\"0.00%\", \"0.00%\", \"0.00%\", \"0.00%\", \"0.00%\", \"0.00%\", \"0.00%\"], \"type\": \"bar\", \"uid\": \"94732364-099f-47e0-b698-72651582655f\", \"x\": [\"AAP\", \"CD\", \"CEC\", \"CL\", \"CMCT\", \"CSC\", \"SIEE\"], \"xaxis\": \"x3\", \"y\": [0.0, 0.0, 0.0, 0.0, 0.0, 0.0, 0.0], \"yaxis\": \"y\"}, {\"hoverinfo\": \"x+text+name\", \"legendgroup\": \"EX\", \"marker\": {\"color\": \"rgb(43,131,186)\"}, \"name\": \"EX\", \"showlegend\": false, \"text\": [\"0.00%\", \"0.00%\", \"0.00%\", \"0.00%\", \"0.00%\", \"0.00%\", \"0.00%\"], \"type\": \"bar\", \"uid\": \"2a6667dc-b2c5-49fd-a194-b3c58a43d780\", \"x\": [\"AAP\", \"CD\", \"CEC\", \"CL\", \"CMCT\", \"CSC\", \"SIEE\"], \"xaxis\": \"x3\", \"y\": [0.0, 0.0, 0.0, 0.0, 0.0, 0.0, 0.0], \"yaxis\": \"y\"}, {\"hoverinfo\": \"x+text+name\", \"legendgroup\": \"PA\", \"marker\": {\"color\": \"rgb(215,25,28)\"}, \"name\": \"PA\", \"showlegend\": false, \"text\": [\"48.67%\", \"30.00%\", \"39.67%\", \"47.33%\", \"56.33%\", \"32.00%\", \"51.33%\"], \"type\": \"bar\", \"uid\": \"8d06f2e2-0b3e-416e-aeff-b60db6b983fe\", \"x\": [\"AAP\", \"CD\", \"CEC\", \"CL\", \"CMCT\", \"CSC\", \"SIEE\"], \"xaxis\": \"x4\", \"y\": [48.666666666666664, 30.0, 39.666666666666664, 47.333333333333336, 56.333333333333336, 32.0, 51.333333333333336], \"yaxis\": \"y2\"}, {\"hoverinfo\": \"x+text+name\", \"legendgroup\": \"AD\", \"marker\": {\"color\": \"rgb(253,174,97)\"}, \"name\": \"AD\", \"showlegend\": false, \"text\": [\"34.00%\", \"53.67%\", \"45.33%\", \"38.00%\", \"29.00%\", \"58.00%\", \"39.00%\"], \"type\": \"bar\", \"uid\": \"ae0576df-7698-4c05-9b7e-2583d36c3bd4\", \"x\": [\"AAP\", \"CD\", \"CEC\", \"CL\", \"CMCT\", \"CSC\", \"SIEE\"], \"xaxis\": \"x4\", \"y\": [34.0, 53.666666666666664, 45.333333333333336, 38.0, 29.0, 58.0, 39.0], \"yaxis\": \"y2\"}, {\"hoverinfo\": \"x+text+name\", \"legendgroup\": \"MA\", \"marker\": {\"color\": \"rgb(171,221,164)\"}, \"name\": \"MA\", \"showlegend\": false, \"text\": [\"16.00%\", \"16.00%\", \"13.67%\", \"14.67%\", \"15.00%\", \"10.00%\", \"8.67%\"], \"type\": \"bar\", \"uid\": \"ad14a226-687e-4854-9560-ccff75e02922\", \"x\": [\"AAP\", \"CD\", \"CEC\", \"CL\", \"CMCT\", \"CSC\", \"SIEE\"], \"xaxis\": \"x4\", \"y\": [16.0, 16.0, 13.666666666666666, 14.666666666666666, 15.0, 10.0, 8.666666666666666], \"yaxis\": \"y2\"}, {\"hoverinfo\": \"x+text+name\", \"legendgroup\": \"EX\", \"marker\": {\"color\": \"rgb(43,131,186)\"}, \"name\": \"EX\", \"showlegend\": false, \"text\": [\"1.33%\", \"0.00%\", \"1.33%\", \"0.00%\", \"0.00%\", \"0.00%\", \"1.33%\"], \"type\": \"bar\", \"uid\": \"f6835c85-c51a-4a77-ad40-21b4b6d5deab\", \"x\": [\"AAP\", \"CD\", \"CEC\", \"CL\", \"CMCT\", \"CSC\", \"SIEE\"], \"xaxis\": \"x4\", \"y\": [1.3333333333333333, 0.0, 1.3333333333333333, 0.0, 0.0, 0.0, 1.3333333333333333], \"yaxis\": \"y2\"}, {\"hoverinfo\": \"x+text+name\", \"legendgroup\": \"PA\", \"marker\": {\"color\": \"rgb(215,25,28)\"}, \"name\": \"PA\", \"showlegend\": false, \"text\": [\"58.00%\", \"50.00%\", \"33.00%\", \"50.00%\", \"83.00%\", \"50.00%\", \"58.00%\"], \"type\": \"bar\", \"uid\": \"02c22591-f626-469e-b30e-9850750afaed\", \"x\": [\"AAP\", \"CD\", \"CEC\", \"CL\", \"CMCT\", \"CSC\", \"SIEE\"], \"xaxis\": \"x5\", \"y\": [58.0, 50.0, 33.0, 50.0, 83.0, 50.0, 58.0], \"yaxis\": \"y2\"}, {\"hoverinfo\": \"x+text+name\", \"legendgroup\": \"AD\", \"marker\": {\"color\": \"rgb(253,174,97)\"}, \"name\": \"AD\", \"showlegend\": false, \"text\": [\"42.00%\", \"42.00%\", \"67.00%\", \"42.00%\", \"8.00%\", \"42.00%\", \"42.00%\"], \"type\": \"bar\", \"uid\": \"93ff5ca1-a419-4d4c-92f4-7b636f7f2cb4\", \"x\": [\"AAP\", \"CD\", \"CEC\", \"CL\", \"CMCT\", \"CSC\", \"SIEE\"], \"xaxis\": \"x5\", \"y\": [42.0, 42.0, 67.0, 42.0, 8.0, 42.0, 42.0], \"yaxis\": \"y2\"}, {\"hoverinfo\": \"x+text+name\", \"legendgroup\": \"MA\", \"marker\": {\"color\": \"rgb(171,221,164)\"}, \"name\": \"MA\", \"showlegend\": false, \"text\": [\"0.00%\", \"8.00%\", \"0.00%\", \"8.00%\", \"8.00%\", \"8.00%\", \"0.00%\"], \"type\": \"bar\", \"uid\": \"c2657a1b-4136-4961-80c4-fea5f255b488\", \"x\": [\"AAP\", \"CD\", \"CEC\", \"CL\", \"CMCT\", \"CSC\", \"SIEE\"], \"xaxis\": \"x5\", \"y\": [0.0, 8.0, 0.0, 8.0, 8.0, 8.0, 0.0], \"yaxis\": \"y2\"}, {\"hoverinfo\": \"x+text+name\", \"legendgroup\": \"EX\", \"marker\": {\"color\": \"rgb(43,131,186)\"}, \"name\": \"EX\", \"showlegend\": false, \"text\": [\"0.00%\", \"0.00%\", \"0.00%\", \"0.00%\", \"0.00%\", \"0.00%\", \"0.00%\"], \"type\": \"bar\", \"uid\": \"9a7158de-de6c-459f-9099-b39a536e5679\", \"x\": [\"AAP\", \"CD\", \"CEC\", \"CL\", \"CMCT\", \"CSC\", \"SIEE\"], \"xaxis\": \"x5\", \"y\": [0.0, 0.0, 0.0, 0.0, 0.0, 0.0, 0.0], \"yaxis\": \"y2\"}, {\"hoverinfo\": \"x+text+name\", \"legendgroup\": \"PA\", \"marker\": {\"color\": \"rgb(215,25,28)\"}, \"name\": \"PA\", \"showlegend\": false, \"text\": [\"21.67%\", \"15.33%\", \"10.33%\", \"23.33%\", \"40.00%\", \"14.00%\", \"22.00%\"], \"type\": \"bar\", \"uid\": \"2752899b-d2c2-4008-92e7-bdb596db44e9\", \"x\": [\"AAP\", \"CD\", \"CEC\", \"CL\", \"CMCT\", \"CSC\", \"SIEE\"], \"xaxis\": \"x6\", \"y\": [21.666666666666668, 15.333333333333334, 10.333333333333334, 23.333333333333332, 40.0, 14.0, 22.0], \"yaxis\": \"y2\"}, {\"hoverinfo\": \"x+text+name\", \"legendgroup\": \"AD\", \"marker\": {\"color\": \"rgb(253,174,97)\"}, \"name\": \"AD\", \"showlegend\": false, \"text\": [\"58.33%\", \"66.00%\", \"68.33%\", \"54.00%\", \"36.00%\", \"63.33%\", \"57.00%\"], \"type\": \"bar\", \"uid\": \"0c892ead-0ab1-46e8-b5d0-27ef2ac5ed7f\", \"x\": [\"AAP\", \"CD\", \"CEC\", \"CL\", \"CMCT\", \"CSC\", \"SIEE\"], \"xaxis\": \"x6\", \"y\": [58.333333333333336, 66.0, 68.33333333333333, 54.0, 36.0, 63.333333333333336, 57.0], \"yaxis\": \"y2\"}, {\"hoverinfo\": \"x+text+name\", \"legendgroup\": \"MA\", \"marker\": {\"color\": \"rgb(171,221,164)\"}, \"name\": \"MA\", \"showlegend\": false, \"text\": [\"14.33%\", \"13.67%\", \"15.67%\", \"15.33%\", \"18.67%\", \"17.00%\", \"15.33%\"], \"type\": \"bar\", \"uid\": \"c5287b55-c459-45bc-91b9-c13a2287e2b9\", \"x\": [\"AAP\", \"CD\", \"CEC\", \"CL\", \"CMCT\", \"CSC\", \"SIEE\"], \"xaxis\": \"x6\", \"y\": [14.333333333333334, 13.666666666666666, 15.666666666666666, 15.333333333333334, 18.666666666666668, 17.0, 15.333333333333334], \"yaxis\": \"y2\"}, {\"hoverinfo\": \"x+text+name\", \"legendgroup\": \"EX\", \"marker\": {\"color\": \"rgb(43,131,186)\"}, \"name\": \"EX\", \"showlegend\": false, \"text\": [\"0.00%\", \"0.00%\", \"0.00%\", \"1.33%\", \"0.00%\", \"0.00%\", \"0.00%\"], \"type\": \"bar\", \"uid\": \"122a815d-c6d6-4174-85f5-444725d48671\", \"x\": [\"AAP\", \"CD\", \"CEC\", \"CL\", \"CMCT\", \"CSC\", \"SIEE\"], \"xaxis\": \"x6\", \"y\": [0.0, 0.0, 0.0, 1.3333333333333333, 0.0, 0.0, 0.0], \"yaxis\": \"y2\"}],\n",
       "                        {\"annotations\": [{\"font\": {\"size\": 16}, \"showarrow\": false, \"text\": \"1ESO\", \"x\": 0.14444444444444446, \"xanchor\": \"center\", \"xref\": \"paper\", \"y\": 1.0, \"yanchor\": \"bottom\", \"yref\": \"paper\"}, {\"font\": {\"size\": 16}, \"showarrow\": false, \"text\": \"2ESO\", \"x\": 0.5, \"xanchor\": \"center\", \"xref\": \"paper\", \"y\": 1.0, \"yanchor\": \"bottom\", \"yref\": \"paper\"}, {\"font\": {\"size\": 16}, \"showarrow\": false, \"text\": \"1PMAR\", \"x\": 0.8555555555555556, \"xanchor\": \"center\", \"xref\": \"paper\", \"y\": 1.0, \"yanchor\": \"bottom\", \"yref\": \"paper\"}, {\"font\": {\"size\": 16}, \"showarrow\": false, \"text\": \"3ESO\", \"x\": 0.14444444444444446, \"xanchor\": \"center\", \"xref\": \"paper\", \"y\": 0.375, \"yanchor\": \"bottom\", \"yref\": \"paper\"}, {\"font\": {\"size\": 16}, \"showarrow\": false, \"text\": \"2PMAR\", \"x\": 0.5, \"xanchor\": \"center\", \"xref\": \"paper\", \"y\": 0.375, \"yanchor\": \"bottom\", \"yref\": \"paper\"}, {\"font\": {\"size\": 16}, \"showarrow\": false, \"text\": \"4ESO\", \"x\": 0.8555555555555556, \"xanchor\": \"center\", \"xref\": \"paper\", \"y\": 0.375, \"yanchor\": \"bottom\", \"yref\": \"paper\"}], \"barmode\": \"group\", \"height\": 800, \"xaxis\": {\"anchor\": \"y\", \"domain\": [0.0, 0.2888888888888889]}, \"xaxis2\": {\"anchor\": \"free\", \"domain\": [0.35555555555555557, 0.6444444444444445], \"position\": 0.625}, \"xaxis3\": {\"anchor\": \"free\", \"domain\": [0.7111111111111111, 1.0], \"position\": 0.625}, \"xaxis4\": {\"anchor\": \"y2\", \"domain\": [0.0, 0.2888888888888889]}, \"xaxis5\": {\"anchor\": \"free\", \"domain\": [0.35555555555555557, 0.6444444444444445], \"position\": 0.0}, \"xaxis6\": {\"anchor\": \"free\", \"domain\": [0.7111111111111111, 1.0], \"position\": 0.0}, \"yaxis\": {\"anchor\": \"x\", \"domain\": [0.625, 1.0]}, \"yaxis2\": {\"anchor\": \"x4\", \"domain\": [0.0, 0.375]}},\n",
       "                        {\"showLink\": false, \"linkText\": \"Export to plot.ly\", \"plotlyServerURL\": \"https://plot.ly\", \"responsive\": true}\n",
       "                    ).then(function(){\n",
       "                            \n",
       "var gd = document.getElementById('5106a522-ff30-41e1-93ba-4137bd1634ff');\n",
       "var x = new MutationObserver(function (mutations, observer) {{\n",
       "        var display = window.getComputedStyle(gd).display;\n",
       "        if (!display || display === 'none') {{\n",
       "            console.log([gd, 'removed!']);\n",
       "            Plotly.purge(gd);\n",
       "            observer.disconnect();\n",
       "        }}\n",
       "}});\n",
       "\n",
       "// Listen for the removal of the full notebook cells\n",
       "var notebookContainer = gd.closest('#notebook-container');\n",
       "if (notebookContainer) {{\n",
       "    x.observe(notebookContainer, {childList: true});\n",
       "}}\n",
       "\n",
       "// Listen for the clearing of the current output cell\n",
       "var outputEl = gd.closest('.output');\n",
       "if (outputEl) {{\n",
       "    x.observe(outputEl, {childList: true});\n",
       "}}\n",
       "\n",
       "                        })\n",
       "                };\n",
       "                });\n",
       "            </script>\n",
       "        </div>"
      ]
     },
     "metadata": {},
     "output_type": "display_data"
    }
   ],
   "source": [
    "myplotly.bc_bar(dfc_bc)"
   ]
  },
  {
   "cell_type": "markdown",
   "metadata": {},
   "source": [
    "## Análisis simplificado por competencias básicas"
   ]
  },
  {
   "cell_type": "code",
   "execution_count": 29,
   "metadata": {
    "scrolled": true
   },
   "outputs": [],
   "source": [
    "dfc_bc_marked = dfc_bc.groupby(['nivel', 'item']).mean().reset_index().pivot('item', 'nivel', 'marca')"
   ]
  },
  {
   "cell_type": "code",
   "execution_count": 30,
   "metadata": {
    "scrolled": true
   },
   "outputs": [
    {
     "data": {
      "application/vnd.plotly.v1+json": {
       "config": {
        "linkText": "Export to plot.ly",
        "plotlyServerURL": "https://plot.ly",
        "responsive": true,
        "showLink": false
       },
       "data": [
        {
         "colorbar": {
          "ticks": "outside"
         },
         "colorscale": [
          [
           0,
           "rgb(215,25,28)"
          ],
          [
           0.255690072639225,
           "rgb(215,25,28)"
          ],
          [
           0.255690072639225,
           "rgb(253,174,97)"
          ],
          [
           0.8523002421307504,
           "rgb(253,174,97)"
          ],
          [
           0.8523002421307504,
           "rgb(166,217,106)"
          ],
          [
           1,
           "rgb(166,217,106)"
          ]
         ],
         "type": "heatmap",
         "uid": "87a94e32-883b-4174-b66a-ad371792d17d",
         "x": [
          "AAP",
          "CD",
          "CEC",
          "CL",
          "CMCT",
          "CSC",
          "SIEE"
         ],
         "y": [
          "1ESO",
          "1PMAR",
          "2ESO",
          "2PMAR",
          "3ESO",
          "4ESO"
         ],
         "z": [
          [
           4.731250000000001,
           5.1000000000000005,
           5.20625,
           4.76875,
           4.2875000000000005,
           5.3812500000000005,
           4.525
          ],
          [
           3.45,
           3.125,
           2.8000000000000003,
           3.75,
           3.75,
           3.75,
           3.125
          ],
          [
           4.5375,
           4.875,
           4.35,
           4.5875,
           4.325,
           4.7,
           4.5875
          ],
          [
           3.5500000000000003,
           3.95,
           4.175,
           3.95,
           3.075,
           3.95,
           3.5500000000000003
          ],
          [
           4.25,
           4.633333333333334,
           4.416666666666667,
           4.183333333333334,
           3.983333333333333,
           4.45,
           4.016666666666667
          ],
          [
           4.533333333333334,
           4.708333333333333,
           4.85,
           4.566666666666666,
           4.2,
           4.791666666666667,
           4.550000000000001
          ]
         ]
        }
       ],
       "layout": {
        "height": 600,
        "width": 600
       }
      },
      "text/html": [
       "<div>\n",
       "        \n",
       "        \n",
       "            <div id=\"79044db3-8739-4740-b09d-9ad0c6c8ea2a\" class=\"plotly-graph-div\" style=\"height:600px; width:600px;\"></div>\n",
       "            <script type=\"text/javascript\">\n",
       "                require([\"plotly\"], function(Plotly) {\n",
       "                    window.PLOTLYENV=window.PLOTLYENV || {};\n",
       "                    window.PLOTLYENV.BASE_URL='https://plot.ly';\n",
       "                    \n",
       "                if (document.getElementById(\"79044db3-8739-4740-b09d-9ad0c6c8ea2a\")) {\n",
       "                    Plotly.newPlot(\n",
       "                        '79044db3-8739-4740-b09d-9ad0c6c8ea2a',\n",
       "                        [{\"colorbar\": {\"ticks\": \"outside\"}, \"colorscale\": [[0.0, \"rgb(215,25,28)\"], [0.255690072639225, \"rgb(215,25,28)\"], [0.255690072639225, \"rgb(253,174,97)\"], [0.8523002421307504, \"rgb(253,174,97)\"], [0.8523002421307504, \"rgb(166,217,106)\"], [1.0, \"rgb(166,217,106)\"]], \"type\": \"heatmap\", \"uid\": \"02ae98a8-c4be-44dd-bdfd-c2f904348794\", \"x\": [\"AAP\", \"CD\", \"CEC\", \"CL\", \"CMCT\", \"CSC\", \"SIEE\"], \"y\": [\"1ESO\", \"1PMAR\", \"2ESO\", \"2PMAR\", \"3ESO\", \"4ESO\"], \"z\": [[4.731250000000001, 5.1000000000000005, 5.20625, 4.76875, 4.2875000000000005, 5.3812500000000005, 4.525], [3.45, 3.125, 2.8000000000000003, 3.75, 3.75, 3.75, 3.125], [4.5375, 4.875, 4.35, 4.5875, 4.325, 4.7, 4.5875], [3.5500000000000003, 3.95, 4.175, 3.95, 3.075, 3.95, 3.5500000000000003], [4.25, 4.633333333333334, 4.416666666666667, 4.183333333333334, 3.983333333333333, 4.45, 4.016666666666667], [4.533333333333334, 4.708333333333333, 4.85, 4.566666666666666, 4.2, 4.791666666666667, 4.550000000000001]]}],\n",
       "                        {\"height\": 600, \"width\": 600},\n",
       "                        {\"showLink\": false, \"linkText\": \"Export to plot.ly\", \"plotlyServerURL\": \"https://plot.ly\", \"responsive\": true}\n",
       "                    ).then(function(){\n",
       "                            \n",
       "var gd = document.getElementById('79044db3-8739-4740-b09d-9ad0c6c8ea2a');\n",
       "var x = new MutationObserver(function (mutations, observer) {{\n",
       "        var display = window.getComputedStyle(gd).display;\n",
       "        if (!display || display === 'none') {{\n",
       "            console.log([gd, 'removed!']);\n",
       "            Plotly.purge(gd);\n",
       "            observer.disconnect();\n",
       "        }}\n",
       "}});\n",
       "\n",
       "// Listen for the removal of the full notebook cells\n",
       "var notebookContainer = gd.closest('#notebook-container');\n",
       "if (notebookContainer) {{\n",
       "    x.observe(notebookContainer, {childList: true});\n",
       "}}\n",
       "\n",
       "// Listen for the clearing of the current output cell\n",
       "var outputEl = gd.closest('.output');\n",
       "if (outputEl) {{\n",
       "    x.observe(outputEl, {childList: true});\n",
       "}}\n",
       "\n",
       "                        })\n",
       "                };\n",
       "                });\n",
       "            </script>\n",
       "        </div>"
      ]
     },
     "metadata": {},
     "output_type": "display_data"
    }
   ],
   "source": [
    "colors = cl.scales['4']['div']['RdYlGn']\n",
    "q1 = np.quantile(dfc_bc_marked.values, q=0.1)\n",
    "q2 = 5\n",
    "q3 = np.quantile(dfc_bc_marked.values, q=0.9)\n",
    "if q3 > q2:\n",
    "    new_thresholds = [q1, q2, q3]\n",
    "else:\n",
    "    new_thresholds = [q1, q2]\n",
    "thresholds = utils.normalize_thresholds(dfc_bc_marked, new_thresholds)\n",
    "colorscale = utils.make_colorscale(colors, thresholds, discrete=True)\n",
    "\n",
    "myplotly.heatmap(dfc_bc_marked.index, dfc_bc_marked.columns, dfc_bc_marked.values.T, colorscale)"
   ]
  },
  {
   "cell_type": "markdown",
   "metadata": {},
   "source": [
    "### Nivel competencial resumen por nivel"
   ]
  },
  {
   "cell_type": "code",
   "execution_count": 31,
   "metadata": {
    "scrolled": false
   },
   "outputs": [
    {
     "data": {
      "application/vnd.plotly.v1+json": {
       "config": {
        "linkText": "Export to plot.ly",
        "plotlyServerURL": "https://plot.ly",
        "responsive": true,
        "showLink": false
       },
       "data": [
        {
         "marker": {
          "color": [
           "red",
           "red",
           "red",
           "red",
           "red",
           "red"
          ]
         },
         "type": "bar",
         "uid": "eb6eb332-67a7-4456-8115-03ee1d326b77",
         "x": [
          "1ESO",
          "1PMAR",
          "2ESO",
          "2PMAR",
          "3ESO",
          "4ESO"
         ],
         "y": [
          4.857142857142856,
          3.392857142857143,
          4.566071428571429,
          3.7428571428571433,
          4.276190476190475,
          4.6
         ]
        }
       ],
       "layout": {
        "title": {
         "text": ""
        },
        "yaxis": {
         "range": [
          0,
          10
         ]
        }
       }
      },
      "text/html": [
       "<div>\n",
       "        \n",
       "        \n",
       "            <div id=\"56032a8e-e009-4b4a-969c-9eb291c110f7\" class=\"plotly-graph-div\" style=\"height:525px; width:100%;\"></div>\n",
       "            <script type=\"text/javascript\">\n",
       "                require([\"plotly\"], function(Plotly) {\n",
       "                    window.PLOTLYENV=window.PLOTLYENV || {};\n",
       "                    window.PLOTLYENV.BASE_URL='https://plot.ly';\n",
       "                    \n",
       "                if (document.getElementById(\"56032a8e-e009-4b4a-969c-9eb291c110f7\")) {\n",
       "                    Plotly.newPlot(\n",
       "                        '56032a8e-e009-4b4a-969c-9eb291c110f7',\n",
       "                        [{\"marker\": {\"color\": [\"red\", \"red\", \"red\", \"red\", \"red\", \"red\"]}, \"type\": \"bar\", \"uid\": \"68d590c9-db3d-42c0-8c63-761345a3fe7b\", \"x\": [\"1ESO\", \"1PMAR\", \"2ESO\", \"2PMAR\", \"3ESO\", \"4ESO\"], \"y\": [4.857142857142856, 3.392857142857143, 4.566071428571429, 3.7428571428571433, 4.276190476190475, 4.6]}],\n",
       "                        {\"title\": {\"text\": \"\"}, \"yaxis\": {\"range\": [0, 10]}},\n",
       "                        {\"showLink\": false, \"linkText\": \"Export to plot.ly\", \"plotlyServerURL\": \"https://plot.ly\", \"responsive\": true}\n",
       "                    ).then(function(){\n",
       "                            \n",
       "var gd = document.getElementById('56032a8e-e009-4b4a-969c-9eb291c110f7');\n",
       "var x = new MutationObserver(function (mutations, observer) {{\n",
       "        var display = window.getComputedStyle(gd).display;\n",
       "        if (!display || display === 'none') {{\n",
       "            console.log([gd, 'removed!']);\n",
       "            Plotly.purge(gd);\n",
       "            observer.disconnect();\n",
       "        }}\n",
       "}});\n",
       "\n",
       "// Listen for the removal of the full notebook cells\n",
       "var notebookContainer = gd.closest('#notebook-container');\n",
       "if (notebookContainer) {{\n",
       "    x.observe(notebookContainer, {childList: true});\n",
       "}}\n",
       "\n",
       "// Listen for the clearing of the current output cell\n",
       "var outputEl = gd.closest('.output');\n",
       "if (outputEl) {{\n",
       "    x.observe(outputEl, {childList: true});\n",
       "}}\n",
       "\n",
       "                        })\n",
       "                };\n",
       "                });\n",
       "            </script>\n",
       "        </div>"
      ]
     },
     "metadata": {},
     "output_type": "display_data"
    }
   ],
   "source": [
    "aux = dfc_bc['marca'].groupby(dfc_bc['nivel']).mean()\n",
    "myplotly.bar_simple(aux.index, aux, is_percentage=False, yaxis_range=[0, 10], mark_colors=True)"
   ]
  },
  {
   "cell_type": "markdown",
   "metadata": {},
   "source": [
    "### Nivel competencial resumen por competencias básicas"
   ]
  },
  {
   "cell_type": "code",
   "execution_count": 32,
   "metadata": {},
   "outputs": [
    {
     "data": {
      "application/vnd.plotly.v1+json": {
       "config": {
        "linkText": "Export to plot.ly",
        "plotlyServerURL": "https://plot.ly",
        "responsive": true,
        "showLink": false
       },
       "data": [
        {
         "marker": {
          "color": [
           "red",
           "red",
           "red",
           "red",
           "red",
           "red",
           "red"
          ]
         },
         "type": "bar",
         "uid": "6252294e-9ad1-45ce-880b-ab2c98413309",
         "x": [
          "AAP",
          "CD",
          "CEC",
          "CL",
          "CMCT",
          "CSC",
          "SIEE"
         ],
         "y": [
          4.382142857142857,
          4.660714285714286,
          4.5928571428571425,
          4.442857142857143,
          4.083928571428571,
          4.739285714285715,
          4.260714285714286
         ]
        }
       ],
       "layout": {
        "title": {
         "text": ""
        },
        "yaxis": {
         "range": [
          0,
          10
         ]
        }
       }
      },
      "text/html": [
       "<div>\n",
       "        \n",
       "        \n",
       "            <div id=\"08b8417d-57d1-4010-bfd8-d03111181b4e\" class=\"plotly-graph-div\" style=\"height:525px; width:100%;\"></div>\n",
       "            <script type=\"text/javascript\">\n",
       "                require([\"plotly\"], function(Plotly) {\n",
       "                    window.PLOTLYENV=window.PLOTLYENV || {};\n",
       "                    window.PLOTLYENV.BASE_URL='https://plot.ly';\n",
       "                    \n",
       "                if (document.getElementById(\"08b8417d-57d1-4010-bfd8-d03111181b4e\")) {\n",
       "                    Plotly.newPlot(\n",
       "                        '08b8417d-57d1-4010-bfd8-d03111181b4e',\n",
       "                        [{\"marker\": {\"color\": [\"red\", \"red\", \"red\", \"red\", \"red\", \"red\", \"red\"]}, \"type\": \"bar\", \"uid\": \"0e91a07d-4e2b-4a12-b8ac-558b87087eb1\", \"x\": [\"AAP\", \"CD\", \"CEC\", \"CL\", \"CMCT\", \"CSC\", \"SIEE\"], \"y\": [4.382142857142857, 4.660714285714286, 4.5928571428571425, 4.442857142857143, 4.083928571428571, 4.739285714285715, 4.260714285714286]}],\n",
       "                        {\"title\": {\"text\": \"\"}, \"yaxis\": {\"range\": [0, 10]}},\n",
       "                        {\"showLink\": false, \"linkText\": \"Export to plot.ly\", \"plotlyServerURL\": \"https://plot.ly\", \"responsive\": true}\n",
       "                    ).then(function(){\n",
       "                            \n",
       "var gd = document.getElementById('08b8417d-57d1-4010-bfd8-d03111181b4e');\n",
       "var x = new MutationObserver(function (mutations, observer) {{\n",
       "        var display = window.getComputedStyle(gd).display;\n",
       "        if (!display || display === 'none') {{\n",
       "            console.log([gd, 'removed!']);\n",
       "            Plotly.purge(gd);\n",
       "            observer.disconnect();\n",
       "        }}\n",
       "}});\n",
       "\n",
       "// Listen for the removal of the full notebook cells\n",
       "var notebookContainer = gd.closest('#notebook-container');\n",
       "if (notebookContainer) {{\n",
       "    x.observe(notebookContainer, {childList: true});\n",
       "}}\n",
       "\n",
       "// Listen for the clearing of the current output cell\n",
       "var outputEl = gd.closest('.output');\n",
       "if (outputEl) {{\n",
       "    x.observe(outputEl, {childList: true});\n",
       "}}\n",
       "\n",
       "                        })\n",
       "                };\n",
       "                });\n",
       "            </script>\n",
       "        </div>"
      ]
     },
     "metadata": {},
     "output_type": "display_data"
    }
   ],
   "source": [
    "aux = dfc_bc['marca'].groupby(dfc_bc['item']).mean()\n",
    "myplotly.bar_simple(aux.index, aux, is_percentage=False, yaxis_range=[0, 10], mark_colors=True)"
   ]
  },
  {
   "cell_type": "markdown",
   "metadata": {},
   "source": [
    "### Máximo nivel competencial"
   ]
  },
  {
   "cell_type": "code",
   "execution_count": 33,
   "metadata": {
    "scrolled": false
   },
   "outputs": [
    {
     "data": {
      "text/plain": [
       "item     CSC\n",
       "marca      6\n",
       "Name: ESO1D, dtype: object"
      ]
     },
     "execution_count": 33,
     "metadata": {},
     "output_type": "execute_result"
    }
   ],
   "source": [
    "dfc_bc.iloc[dfc_bc.reset_index()['marca'].idxmax()][['item', 'marca']]"
   ]
  },
  {
   "cell_type": "markdown",
   "metadata": {},
   "source": [
    "### Mínimo nivel competencial"
   ]
  },
  {
   "cell_type": "code",
   "execution_count": 34,
   "metadata": {
    "scrolled": false
   },
   "outputs": [
    {
     "data": {
      "text/plain": [
       "item     CEC\n",
       "marca    2.8\n",
       "Name: ESO2C, dtype: object"
      ]
     },
     "execution_count": 34,
     "metadata": {},
     "output_type": "execute_result"
    }
   ],
   "source": [
    "dfc_bc.iloc[dfc_bc.reset_index()['marca'].idxmin()][['item', 'marca']]"
   ]
  },
  {
   "cell_type": "markdown",
   "metadata": {},
   "source": [
    "## Evolución de los niveles competenciales"
   ]
  },
  {
   "cell_type": "code",
   "execution_count": 35,
   "metadata": {},
   "outputs": [
    {
     "data": {
      "application/vnd.plotly.v1+json": {
       "config": {
        "linkText": "Export to plot.ly",
        "plotlyServerURL": "https://plot.ly",
        "responsive": true,
        "showLink": false
       },
       "data": [
        {
         "hoverinfo": "x+name+text",
         "line": {
          "width": 3
         },
         "marker": {
          "size": 8
         },
         "name": "AAP",
         "text": [
          "4.34",
          "4.72",
          "4.38"
         ],
         "type": "scatter",
         "uid": "7397feb9-a522-4d58-a403-46f75994c65b",
         "x": [
          "C1718",
          "C1819",
          "C1920"
         ],
         "y": [
          4.3403846153846155,
          4.7153846153846155,
          4.382142857142857
         ]
        },
        {
         "hoverinfo": "x+name+text",
         "line": {
          "width": 3
         },
         "marker": {
          "size": 8
         },
         "name": "CD",
         "text": [
          "4.87",
          "4.86",
          "4.66"
         ],
         "type": "scatter",
         "uid": "5817a139-4da2-4d4a-8534-ae45f0d41196",
         "x": [
          "C1718",
          "C1819",
          "C1920"
         ],
         "y": [
          4.8730769230769235,
          4.855769230769231,
          4.660714285714286
         ]
        },
        {
         "hoverinfo": "x+name+text",
         "line": {
          "width": 3
         },
         "marker": {
          "size": 8
         },
         "name": "CEC",
         "text": [
          "4.89",
          "4.92",
          "4.59"
         ],
         "type": "scatter",
         "uid": "1acc7711-9fb2-478b-8e08-3afccac66186",
         "x": [
          "C1718",
          "C1819",
          "C1920"
         ],
         "y": [
          4.890384615384615,
          4.921153846153846,
          4.5928571428571425
         ]
        },
        {
         "hoverinfo": "x+name+text",
         "line": {
          "width": 3
         },
         "marker": {
          "size": 8
         },
         "name": "CL",
         "text": [
          "4.50",
          "4.45",
          "4.44"
         ],
         "type": "scatter",
         "uid": "8108d7b0-79e3-45bd-af3d-cb5d8b9fda3d",
         "x": [
          "C1718",
          "C1819",
          "C1920"
         ],
         "y": [
          4.503846153846154,
          4.448076923076924,
          4.442857142857143
         ]
        },
        {
         "hoverinfo": "x+name+text",
         "line": {
          "width": 3
         },
         "marker": {
          "size": 8
         },
         "name": "CMCT",
         "text": [
          "4.43",
          "4.38",
          "4.08"
         ],
         "type": "scatter",
         "uid": "47c584da-02eb-4e70-8070-0a36f366f5fd",
         "x": [
          "C1718",
          "C1819",
          "C1920"
         ],
         "y": [
          4.430769230769231,
          4.3826923076923086,
          4.083928571428571
         ]
        },
        {
         "hoverinfo": "x+name+text",
         "line": {
          "width": 3
         },
         "marker": {
          "size": 8
         },
         "name": "CSC",
         "text": [
          "4.94",
          "4.74",
          "4.74"
         ],
         "type": "scatter",
         "uid": "48bb4a3f-b9e7-428a-9e73-abc51f89da40",
         "x": [
          "C1718",
          "C1819",
          "C1920"
         ],
         "y": [
          4.936538461538462,
          4.738461538461538,
          4.739285714285715
         ]
        },
        {
         "hoverinfo": "x+name+text",
         "line": {
          "width": 3
         },
         "marker": {
          "size": 8
         },
         "name": "SIEE",
         "text": [
          "4.52",
          "4.63",
          "4.26"
         ],
         "type": "scatter",
         "uid": "b49cfa1e-e183-4365-8a97-d688f81708cf",
         "x": [
          "C1718",
          "C1819",
          "C1920"
         ],
         "y": [
          4.521153846153846,
          4.625000000000001,
          4.260714285714286
         ]
        }
       ],
       "layout": {
        "height": 600,
        "width": 600,
        "xaxis": {
         "title": {
          "text": "Curso escolar"
         }
        },
        "yaxis": {
         "title": {
          "text": "Valoración CCBB"
         }
        }
       }
      },
      "text/html": [
       "<div>\n",
       "        \n",
       "        \n",
       "            <div id=\"a4acd0a6-6fae-4634-b9f6-f508903df97a\" class=\"plotly-graph-div\" style=\"height:600px; width:600px;\"></div>\n",
       "            <script type=\"text/javascript\">\n",
       "                require([\"plotly\"], function(Plotly) {\n",
       "                    window.PLOTLYENV=window.PLOTLYENV || {};\n",
       "                    window.PLOTLYENV.BASE_URL='https://plot.ly';\n",
       "                    \n",
       "                if (document.getElementById(\"a4acd0a6-6fae-4634-b9f6-f508903df97a\")) {\n",
       "                    Plotly.newPlot(\n",
       "                        'a4acd0a6-6fae-4634-b9f6-f508903df97a',\n",
       "                        [{\"hoverinfo\": \"x+name+text\", \"line\": {\"width\": 3}, \"marker\": {\"size\": 8}, \"name\": \"AAP\", \"text\": [\"4.34\", \"4.72\", \"4.38\"], \"type\": \"scatter\", \"uid\": \"e6165fc6-2ff0-4bd0-980c-b949db4ad1fb\", \"x\": [\"C1718\", \"C1819\", \"C1920\"], \"y\": [4.3403846153846155, 4.7153846153846155, 4.382142857142857]}, {\"hoverinfo\": \"x+name+text\", \"line\": {\"width\": 3}, \"marker\": {\"size\": 8}, \"name\": \"CD\", \"text\": [\"4.87\", \"4.86\", \"4.66\"], \"type\": \"scatter\", \"uid\": \"2f19bec9-f860-46e1-be6b-21bc34f4090d\", \"x\": [\"C1718\", \"C1819\", \"C1920\"], \"y\": [4.8730769230769235, 4.855769230769231, 4.660714285714286]}, {\"hoverinfo\": \"x+name+text\", \"line\": {\"width\": 3}, \"marker\": {\"size\": 8}, \"name\": \"CEC\", \"text\": [\"4.89\", \"4.92\", \"4.59\"], \"type\": \"scatter\", \"uid\": \"01e44fdb-be79-4c35-9a5a-a8f1e6da6fe4\", \"x\": [\"C1718\", \"C1819\", \"C1920\"], \"y\": [4.890384615384615, 4.921153846153846, 4.5928571428571425]}, {\"hoverinfo\": \"x+name+text\", \"line\": {\"width\": 3}, \"marker\": {\"size\": 8}, \"name\": \"CL\", \"text\": [\"4.50\", \"4.45\", \"4.44\"], \"type\": \"scatter\", \"uid\": \"a2f8befe-80d8-49e2-92f8-c403cd6c8a41\", \"x\": [\"C1718\", \"C1819\", \"C1920\"], \"y\": [4.503846153846154, 4.448076923076924, 4.442857142857143]}, {\"hoverinfo\": \"x+name+text\", \"line\": {\"width\": 3}, \"marker\": {\"size\": 8}, \"name\": \"CMCT\", \"text\": [\"4.43\", \"4.38\", \"4.08\"], \"type\": \"scatter\", \"uid\": \"5dff223d-5914-4145-b34a-12f1c0db2cdb\", \"x\": [\"C1718\", \"C1819\", \"C1920\"], \"y\": [4.430769230769231, 4.3826923076923086, 4.083928571428571]}, {\"hoverinfo\": \"x+name+text\", \"line\": {\"width\": 3}, \"marker\": {\"size\": 8}, \"name\": \"CSC\", \"text\": [\"4.94\", \"4.74\", \"4.74\"], \"type\": \"scatter\", \"uid\": \"39124a31-3209-43b9-ba28-b00649ebbcbf\", \"x\": [\"C1718\", \"C1819\", \"C1920\"], \"y\": [4.936538461538462, 4.738461538461538, 4.739285714285715]}, {\"hoverinfo\": \"x+name+text\", \"line\": {\"width\": 3}, \"marker\": {\"size\": 8}, \"name\": \"SIEE\", \"text\": [\"4.52\", \"4.63\", \"4.26\"], \"type\": \"scatter\", \"uid\": \"b08b1c03-98f3-41c0-8c99-e0e2d50f0b12\", \"x\": [\"C1718\", \"C1819\", \"C1920\"], \"y\": [4.521153846153846, 4.625000000000001, 4.260714285714286]}],\n",
       "                        {\"height\": 600, \"width\": 600, \"xaxis\": {\"title\": {\"text\": \"Curso escolar\"}}, \"yaxis\": {\"title\": {\"text\": \"Valoraci\\u00f3n CCBB\"}}},\n",
       "                        {\"showLink\": false, \"linkText\": \"Export to plot.ly\", \"plotlyServerURL\": \"https://plot.ly\", \"responsive\": true}\n",
       "                    ).then(function(){\n",
       "                            \n",
       "var gd = document.getElementById('a4acd0a6-6fae-4634-b9f6-f508903df97a');\n",
       "var x = new MutationObserver(function (mutations, observer) {{\n",
       "        var display = window.getComputedStyle(gd).display;\n",
       "        if (!display || display === 'none') {{\n",
       "            console.log([gd, 'removed!']);\n",
       "            Plotly.purge(gd);\n",
       "            observer.disconnect();\n",
       "        }}\n",
       "}});\n",
       "\n",
       "// Listen for the removal of the full notebook cells\n",
       "var notebookContainer = gd.closest('#notebook-container');\n",
       "if (notebookContainer) {{\n",
       "    x.observe(notebookContainer, {childList: true});\n",
       "}}\n",
       "\n",
       "// Listen for the clearing of the current output cell\n",
       "var outputEl = gd.closest('.output');\n",
       "if (outputEl) {{\n",
       "    x.observe(outputEl, {childList: true});\n",
       "}}\n",
       "\n",
       "                        })\n",
       "                };\n",
       "                });\n",
       "            </script>\n",
       "        </div>"
      ]
     },
     "metadata": {},
     "output_type": "display_data"
    }
   ],
   "source": [
    "# filter by evaluation\n",
    "df_bc_same_eval = df_bc.xs(labels[-1][1], level='evaluación')\n",
    "myplotly.bc_evolution(df_bc_same_eval)"
   ]
  },
  {
   "cell_type": "code",
   "execution_count": 36,
   "metadata": {},
   "outputs": [],
   "source": [
    "if EVALUATION > 1:\n",
    "    display(HTML('<h2>Evolución competencial con respecto a la evaluación anterior</h2>'))\n",
    "    \n",
    "    df_bc_comp['delta'] = df_bc_comp['marca_x'] - df_bc_comp['marca_y']\n",
    "    df_bc_comp_marked = df_bc_comp.groupby(['nivel_x', 'item']).mean().reset_index().pivot('item', 'nivel_x', 'delta')\n",
    "\n",
    "    min_diff_value = df_bc_comp_marked.values.min()\n",
    "    max_diff_value = df_bc_comp_marked.values.max()\n",
    "    print(f'El valor mínimo del diferencial es: {min_diff_value}')\n",
    "    print(f'El valor máximo del diferencial es: {max_diff_value}')\n",
    "    \n",
    "    values = input('Introduzca los 3 valores umbral (entre máximo y mínimo) separados por comas para la escala de colores:')\n",
    "    thresholds = [float(v) for v in re.split(' *, *', values)]\n",
    "\n",
    "    colors = cl.scales['4']['div']['RdYlGn']\n",
    "    thresholds = utils.normalize_thresholds(df_bc_comp_marked, thresholds)\n",
    "    colorscale = utils.make_colorscale(colors, thresholds=thresholds, discrete=True)\n",
    "\n",
    "    myplotly.heatmap(df_bc_comp_marked.index, df_bc_comp_marked.columns, df_bc_comp_marked.values.T, colorscale)"
   ]
  },
  {
   "cell_type": "markdown",
   "metadata": {},
   "source": [
    "## Correlación entre competencias básicas"
   ]
  },
  {
   "cell_type": "markdown",
   "metadata": {},
   "source": [
    "> Se considera que dos variables cuantitativas están correlacionadas cuando los valores de una de ellas varían sistemáticamente con respecto a los valores homónimos de la otra: si tenemos dos variables (A y B) existe correlación entre ellas si al disminuir los valores de A lo hacen también los de B y viceversa. La correlación entre dos variables no implica, por sí misma, ninguna relación de causalidad.\n",
    "\n",
    "Fuente: [Wikipedia](https://es.wikipedia.org/wiki/Correlaci%C3%B3n)"
   ]
  },
  {
   "cell_type": "code",
   "execution_count": 37,
   "metadata": {},
   "outputs": [
    {
     "data": {
      "application/vnd.plotly.v1+json": {
       "config": {
        "linkText": "Export to plot.ly",
        "plotlyServerURL": "https://plot.ly",
        "responsive": true,
        "showLink": false
       },
       "data": [
        {
         "colorbar": {
          "ticks": "outside"
         },
         "colorscale": [
          [
           0,
           "rgb(197,27,125)"
          ],
          [
           0.14285714285714285,
           "rgb(222,119,174)"
          ],
          [
           0.2857142857142857,
           "rgb(241,182,218)"
          ],
          [
           0.42857142857142855,
           "rgb(253,224,239)"
          ],
          [
           0.5714285714285714,
           "rgb(230,245,208)"
          ],
          [
           0.7142857142857142,
           "rgb(184,225,134)"
          ],
          [
           0.8571428571428571,
           "rgb(127,188,65)"
          ],
          [
           1,
           "rgb(77,146,33)"
          ]
         ],
         "type": "heatmap",
         "uid": "ac70b538-17ed-425f-b9a7-8360e5251df8",
         "x": [
          "AAP",
          "CD",
          "CEC",
          "CL",
          "CMCT",
          "CSC",
          "SIEE"
         ],
         "y": [
          "AAP",
          "CD",
          "CEC",
          "CL",
          "CMCT",
          "CSC",
          "SIEE"
         ],
         "z": [
          [
           null,
           0.7979581726111534,
           0.725987042064368,
           0.8449877315187009,
           0.6913104170410097,
           0.8329798288889888,
           0.8924640102123588
          ],
          [
           null,
           null,
           0.8269817466092441,
           0.7105438370506634,
           0.6635492574095196,
           0.7998388628993065,
           0.7695702362436688
          ],
          [
           null,
           null,
           null,
           0.7405385438157704,
           0.3546610209286865,
           0.8789806759775143,
           0.7271424630891955
          ],
          [
           null,
           null,
           null,
           null,
           0.4640083848499614,
           0.8530534149195521,
           0.8746051943668927
          ],
          [
           null,
           null,
           null,
           null,
           null,
           0.49723940910928,
           0.5874894562272945
          ],
          [
           null,
           null,
           null,
           null,
           null,
           null,
           0.8228929024555719
          ],
          [
           null,
           null,
           null,
           null,
           null,
           null,
           null
          ]
         ]
        }
       ],
       "layout": {
        "height": 600,
        "width": 600
       }
      },
      "text/html": [
       "<div>\n",
       "        \n",
       "        \n",
       "            <div id=\"2fe948f1-1de1-4eaf-af31-961f68fbeaa7\" class=\"plotly-graph-div\" style=\"height:600px; width:600px;\"></div>\n",
       "            <script type=\"text/javascript\">\n",
       "                require([\"plotly\"], function(Plotly) {\n",
       "                    window.PLOTLYENV=window.PLOTLYENV || {};\n",
       "                    window.PLOTLYENV.BASE_URL='https://plot.ly';\n",
       "                    \n",
       "                if (document.getElementById(\"2fe948f1-1de1-4eaf-af31-961f68fbeaa7\")) {\n",
       "                    Plotly.newPlot(\n",
       "                        '2fe948f1-1de1-4eaf-af31-961f68fbeaa7',\n",
       "                        [{\"colorbar\": {\"ticks\": \"outside\"}, \"colorscale\": [[0.0, \"rgb(197,27,125)\"], [0.14285714285714285, \"rgb(222,119,174)\"], [0.2857142857142857, \"rgb(241,182,218)\"], [0.42857142857142855, \"rgb(253,224,239)\"], [0.5714285714285714, \"rgb(230,245,208)\"], [0.7142857142857142, \"rgb(184,225,134)\"], [0.8571428571428571, \"rgb(127,188,65)\"], [1.0, \"rgb(77,146,33)\"]], \"type\": \"heatmap\", \"uid\": \"2b281710-cb73-4622-a6e7-70ab13b2882e\", \"x\": [\"AAP\", \"CD\", \"CEC\", \"CL\", \"CMCT\", \"CSC\", \"SIEE\"], \"y\": [\"AAP\", \"CD\", \"CEC\", \"CL\", \"CMCT\", \"CSC\", \"SIEE\"], \"z\": [[null, 0.7979581726111534, 0.725987042064368, 0.8449877315187009, 0.6913104170410097, 0.8329798288889888, 0.8924640102123588], [null, null, 0.8269817466092441, 0.7105438370506634, 0.6635492574095196, 0.7998388628993065, 0.7695702362436688], [null, null, null, 0.7405385438157704, 0.3546610209286865, 0.8789806759775143, 0.7271424630891955], [null, null, null, null, 0.4640083848499614, 0.8530534149195521, 0.8746051943668927], [null, null, null, null, null, 0.49723940910928, 0.5874894562272945], [null, null, null, null, null, null, 0.8228929024555719], [null, null, null, null, null, null, null]]}],\n",
       "                        {\"height\": 600, \"width\": 600},\n",
       "                        {\"showLink\": false, \"linkText\": \"Export to plot.ly\", \"plotlyServerURL\": \"https://plot.ly\", \"responsive\": true}\n",
       "                    ).then(function(){\n",
       "                            \n",
       "var gd = document.getElementById('2fe948f1-1de1-4eaf-af31-961f68fbeaa7');\n",
       "var x = new MutationObserver(function (mutations, observer) {{\n",
       "        var display = window.getComputedStyle(gd).display;\n",
       "        if (!display || display === 'none') {{\n",
       "            console.log([gd, 'removed!']);\n",
       "            Plotly.purge(gd);\n",
       "            observer.disconnect();\n",
       "        }}\n",
       "}});\n",
       "\n",
       "// Listen for the removal of the full notebook cells\n",
       "var notebookContainer = gd.closest('#notebook-container');\n",
       "if (notebookContainer) {{\n",
       "    x.observe(notebookContainer, {childList: true});\n",
       "}}\n",
       "\n",
       "// Listen for the clearing of the current output cell\n",
       "var outputEl = gd.closest('.output');\n",
       "if (outputEl) {{\n",
       "    x.observe(outputEl, {childList: true});\n",
       "}}\n",
       "\n",
       "                        })\n",
       "                };\n",
       "                });\n",
       "            </script>\n",
       "        </div>"
      ]
     },
     "metadata": {},
     "output_type": "display_data"
    }
   ],
   "source": [
    "aux = dfc_bc.reset_index().pivot(index='grupo', columns='item', values='marca').corr()\n",
    "aux.values[np.triu_indices(aux.shape[0])] = np.NaN\n",
    "\n",
    "colorscale = utils.make_colorscale(cl.scales['8']['div']['PiYG'])\n",
    "myplotly.heatmap(aux.index, aux.columns, aux.values.T, colorscale=colorscale)"
   ]
  },
  {
   "cell_type": "markdown",
   "metadata": {},
   "source": [
    "## Mejores y peores valoraciones de competencias básicas por grupo"
   ]
  },
  {
   "cell_type": "code",
   "execution_count": 38,
   "metadata": {
    "scrolled": true
   },
   "outputs": [
    {
     "data": {
      "application/vnd.plotly.v1+json": {
       "config": {
        "linkText": "Export to plot.ly",
        "plotlyServerURL": "https://plot.ly",
        "responsive": true,
        "showLink": false
       },
       "data": [
        {
         "marker": {
          "color": "green",
          "size": [
           15,
           16.575000000000003,
           16.05,
           18,
           15.3,
           14.849999999999998,
           11.25,
           14.475000000000001,
           14.399999999999999,
           14.025000000000002,
           12.524999999999999,
           14.475000000000001,
           15.825,
           14.174999999999999
          ]
         },
         "mode": "markers",
         "name": "Mejor valoración",
         "text": [
          5,
          5.52,
          5.35,
          6,
          5.1,
          4.95,
          3.75,
          4.82,
          4.8,
          4.68,
          4.18,
          4.82,
          5.28,
          4.72
         ],
         "type": "scatter",
         "uid": "de1d85e4-f8ad-4b9b-85b3-ba6274518611",
         "x": [
          "ESO1A",
          "ESO1B",
          "ESO1C",
          "ESO1D",
          "ESO2A",
          "ESO2B",
          "ESO2C",
          "ESO3A",
          "ESO3B",
          "ESO3C",
          "ESO3D",
          "ESO4A",
          "ESO4B",
          "ESO4C"
         ],
         "y": [
          "CSC",
          "CEC",
          "CSC",
          "CSC",
          "CL",
          "CD",
          "CL",
          "CEC",
          "CD",
          "CD",
          "CEC",
          "CD",
          "CEC",
          "CEC"
         ]
        },
        {
         "marker": {
          "color": "red",
          "size": [
           12.600000000000001,
           12.375,
           12.600000000000001,
           13.275000000000002,
           12.75,
           12.225000000000001,
           8.4,
           10.799999999999999,
           12,
           11.774999999999999,
           9.225000000000001,
           13.05,
           14.100000000000001,
           9.825
          ]
         },
         "mode": "markers",
         "name": "Peor valoración",
         "text": [
          4.2,
          4.12,
          4.2,
          4.43,
          4.25,
          4.08,
          2.8,
          3.6,
          4,
          3.92,
          3.08,
          4.35,
          4.7,
          3.28
         ],
         "type": "scatter",
         "uid": "32a08b7e-d686-4bd9-8ca5-8e2a19e3fbda",
         "x": [
          "ESO1A",
          "ESO1B",
          "ESO1C",
          "ESO1D",
          "ESO2A",
          "ESO2B",
          "ESO2C",
          "ESO3A",
          "ESO3B",
          "ESO3C",
          "ESO3D",
          "ESO4A",
          "ESO4B",
          "ESO4C"
         ],
         "y": [
          "CMCT",
          "SIEE",
          "CMCT",
          "CMCT",
          "CMCT",
          "CL",
          "CEC",
          "CMCT",
          "SIEE",
          "CMCT",
          "CMCT",
          "SIEE",
          "CL",
          "CMCT"
         ]
        }
       ],
       "layout": {
        "height": 600,
        "hovermode": "closest",
        "width": 600
       }
      },
      "text/html": [
       "<div>\n",
       "        \n",
       "        \n",
       "            <div id=\"f6147e04-f170-407c-94b6-e226c35c9bfb\" class=\"plotly-graph-div\" style=\"height:600px; width:600px;\"></div>\n",
       "            <script type=\"text/javascript\">\n",
       "                require([\"plotly\"], function(Plotly) {\n",
       "                    window.PLOTLYENV=window.PLOTLYENV || {};\n",
       "                    window.PLOTLYENV.BASE_URL='https://plot.ly';\n",
       "                    \n",
       "                if (document.getElementById(\"f6147e04-f170-407c-94b6-e226c35c9bfb\")) {\n",
       "                    Plotly.newPlot(\n",
       "                        'f6147e04-f170-407c-94b6-e226c35c9bfb',\n",
       "                        [{\"marker\": {\"color\": \"green\", \"size\": [15.0, 16.575000000000003, 16.05, 18.0, 15.3, 14.849999999999998, 11.25, 14.475000000000001, 14.399999999999999, 14.025000000000002, 12.524999999999999, 14.475000000000001, 15.825, 14.174999999999999]}, \"mode\": \"markers\", \"name\": \"Mejor valoraci\\u00f3n\", \"text\": [5.0, 5.52, 5.35, 6.0, 5.1, 4.95, 3.75, 4.82, 4.8, 4.68, 4.18, 4.82, 5.28, 4.72], \"type\": \"scatter\", \"uid\": \"02e38ac3-cb31-4d1d-b215-9fc6f72a39d8\", \"x\": [\"ESO1A\", \"ESO1B\", \"ESO1C\", \"ESO1D\", \"ESO2A\", \"ESO2B\", \"ESO2C\", \"ESO3A\", \"ESO3B\", \"ESO3C\", \"ESO3D\", \"ESO4A\", \"ESO4B\", \"ESO4C\"], \"y\": [\"CSC\", \"CEC\", \"CSC\", \"CSC\", \"CL\", \"CD\", \"CL\", \"CEC\", \"CD\", \"CD\", \"CEC\", \"CD\", \"CEC\", \"CEC\"]}, {\"marker\": {\"color\": \"red\", \"size\": [12.600000000000001, 12.375, 12.600000000000001, 13.275000000000002, 12.75, 12.225000000000001, 8.4, 10.799999999999999, 12.0, 11.774999999999999, 9.225000000000001, 13.05, 14.100000000000001, 9.825]}, \"mode\": \"markers\", \"name\": \"Peor valoraci\\u00f3n\", \"text\": [4.2, 4.12, 4.2, 4.43, 4.25, 4.08, 2.8, 3.6, 4.0, 3.92, 3.08, 4.35, 4.7, 3.28], \"type\": \"scatter\", \"uid\": \"dc38910b-0a97-499e-85da-21c3c1a136a6\", \"x\": [\"ESO1A\", \"ESO1B\", \"ESO1C\", \"ESO1D\", \"ESO2A\", \"ESO2B\", \"ESO2C\", \"ESO3A\", \"ESO3B\", \"ESO3C\", \"ESO3D\", \"ESO4A\", \"ESO4B\", \"ESO4C\"], \"y\": [\"CMCT\", \"SIEE\", \"CMCT\", \"CMCT\", \"CMCT\", \"CL\", \"CEC\", \"CMCT\", \"SIEE\", \"CMCT\", \"CMCT\", \"SIEE\", \"CL\", \"CMCT\"]}],\n",
       "                        {\"height\": 600, \"hovermode\": \"closest\", \"width\": 600},\n",
       "                        {\"showLink\": false, \"linkText\": \"Export to plot.ly\", \"plotlyServerURL\": \"https://plot.ly\", \"responsive\": true}\n",
       "                    ).then(function(){\n",
       "                            \n",
       "var gd = document.getElementById('f6147e04-f170-407c-94b6-e226c35c9bfb');\n",
       "var x = new MutationObserver(function (mutations, observer) {{\n",
       "        var display = window.getComputedStyle(gd).display;\n",
       "        if (!display || display === 'none') {{\n",
       "            console.log([gd, 'removed!']);\n",
       "            Plotly.purge(gd);\n",
       "            observer.disconnect();\n",
       "        }}\n",
       "}});\n",
       "\n",
       "// Listen for the removal of the full notebook cells\n",
       "var notebookContainer = gd.closest('#notebook-container');\n",
       "if (notebookContainer) {{\n",
       "    x.observe(notebookContainer, {childList: true});\n",
       "}}\n",
       "\n",
       "// Listen for the clearing of the current output cell\n",
       "var outputEl = gd.closest('.output');\n",
       "if (outputEl) {{\n",
       "    x.observe(outputEl, {childList: true});\n",
       "}}\n",
       "\n",
       "                        })\n",
       "                };\n",
       "                });\n",
       "            </script>\n",
       "        </div>"
      ]
     },
     "metadata": {},
     "output_type": "display_data"
    }
   ],
   "source": [
    "myplotly.bc_extremes(dfc_bc)"
   ]
  },
  {
   "cell_type": "markdown",
   "metadata": {},
   "source": [
    "# ABSENTISMO"
   ]
  },
  {
   "cell_type": "markdown",
   "metadata": {},
   "source": [
    "<div class=\"alert alert-success\" role=\"alert\">\n",
    "    ABSENTISMO = <b>Faltas justificadas + Faltas injustificadas</b>\n",
    "</div>\n",
    "\n",
    "**Se va a estudiar el ABSENTISMO ACUMULADO desde el 1 de septiembre hasta la fecha de finalización del trimestre de análisis.**"
   ]
  },
  {
   "cell_type": "markdown",
   "metadata": {},
   "source": [
    "## ABSENTISMO TOTAL vs ABSENTISMO JUSTIFICADO"
   ]
  },
  {
   "cell_type": "code",
   "execution_count": 39,
   "metadata": {},
   "outputs": [
    {
     "data": {
      "application/vnd.plotly.v1+json": {
       "config": {
        "linkText": "Export to plot.ly",
        "plotlyServerURL": "https://plot.ly",
        "responsive": true,
        "showLink": false
       },
       "data": [
        {
         "marker": {
          "color": "rgb(166,206,227)"
         },
         "name": "Abs. Total (%)",
         "orientation": "h",
         "type": "bar",
         "uid": "8ad0c416-a907-4d9f-b597-c9887aa216e2",
         "x": [
          3.48,
          4.86,
          3.5300000000000002,
          6.32,
          4.56,
          3.5500000000000003,
          11.88,
          4.97,
          6.61,
          5.01,
          6.17,
          5.34,
          5.13,
          9.14,
          23.29,
          26.72,
          4.02,
          8.77,
          5.53,
          6.27,
          20.75,
          15.290000000000001,
          20.919999999999998,
          19.83,
          14.93,
          11.08,
          10.43,
          12.76,
          13.27,
          10.97,
          9.73,
          8.1,
          7.66,
          10.84,
          7.1000000000000005,
          18.02
         ],
         "y": [
          "ESO1A",
          "ESO1B",
          "ESO1C",
          "ESO1D",
          "ESO2A",
          "ESO2B",
          "ESO2C",
          "ESO3A",
          "ESO3B",
          "ESO3C",
          "ESO3D",
          "ESO4A",
          "ESO4B",
          "ESO4C",
          "1FPB",
          "2FPB",
          "1CIE",
          "1SOC",
          "2CIE",
          "2SOC",
          "1TEL",
          "1ELE",
          "1CAR",
          "2TEL",
          "2ELE",
          "2CAR",
          "1ARI",
          "1ALO",
          "1GIT",
          "1ASR",
          "1DAW",
          "2ARI",
          "2ALO",
          "2GIT",
          "2ASR",
          "2DAW"
         ]
        },
        {
         "marker": {
          "color": "rgb(31,120,180)"
         },
         "name": "Abs. Justificado (%)",
         "orientation": "h",
         "type": "bar",
         "uid": "242a52c0-4b40-41ef-a614-75878f131eb9",
         "x": [
          1.02,
          0.89,
          0.72,
          1.49,
          0.66,
          0.83,
          2.06,
          2.07,
          1.7,
          2.71,
          2.49,
          2.61,
          3.28,
          2.81,
          4.88,
          9.62,
          2.08,
          2.12,
          1.83,
          2.17,
          3.09,
          1.9,
          3.47,
          3.45,
          2.34,
          2.36,
          2.71,
          1.66,
          3.91,
          1.56,
          3.81,
          1.77,
          1.98,
          2.7,
          1.74,
          1.79
         ],
         "y": [
          "ESO1A",
          "ESO1B",
          "ESO1C",
          "ESO1D",
          "ESO2A",
          "ESO2B",
          "ESO2C",
          "ESO3A",
          "ESO3B",
          "ESO3C",
          "ESO3D",
          "ESO4A",
          "ESO4B",
          "ESO4C",
          "1FPB",
          "2FPB",
          "1CIE",
          "1SOC",
          "2CIE",
          "2SOC",
          "1TEL",
          "1ELE",
          "1CAR",
          "2TEL",
          "2ELE",
          "2CAR",
          "1ARI",
          "1ALO",
          "1GIT",
          "1ASR",
          "1DAW",
          "2ARI",
          "2ALO",
          "2GIT",
          "2ASR",
          "2DAW"
         ]
        }
       ],
       "layout": {
        "barmode": "overlay",
        "height": 1000,
        "title": {
         "text": ""
        },
        "width": 700,
        "yaxis": {
         "autorange": "reversed",
         "type": "category"
        }
       }
      },
      "text/html": [
       "<div>\n",
       "        \n",
       "        \n",
       "            <div id=\"e4be4369-92f0-4195-a35f-a45a6f15c494\" class=\"plotly-graph-div\" style=\"height:1000px; width:700px;\"></div>\n",
       "            <script type=\"text/javascript\">\n",
       "                require([\"plotly\"], function(Plotly) {\n",
       "                    window.PLOTLYENV=window.PLOTLYENV || {};\n",
       "                    window.PLOTLYENV.BASE_URL='https://plot.ly';\n",
       "                    \n",
       "                if (document.getElementById(\"e4be4369-92f0-4195-a35f-a45a6f15c494\")) {\n",
       "                    Plotly.newPlot(\n",
       "                        'e4be4369-92f0-4195-a35f-a45a6f15c494',\n",
       "                        [{\"marker\": {\"color\": \"rgb(166,206,227)\"}, \"name\": \"Abs. Total (%)\", \"orientation\": \"h\", \"type\": \"bar\", \"uid\": \"c5610d95-2e7e-464a-957d-8dce0d09c507\", \"x\": [3.48, 4.86, 3.5300000000000002, 6.32, 4.56, 3.5500000000000003, 11.88, 4.97, 6.61, 5.01, 6.17, 5.34, 5.13, 9.14, 23.29, 26.72, 4.02, 8.77, 5.53, 6.27, 20.75, 15.290000000000001, 20.919999999999998, 19.83, 14.93, 11.08, 10.43, 12.76, 13.27, 10.97, 9.73, 8.1, 7.66, 10.84, 7.1000000000000005, 18.02], \"y\": [\"ESO1A\", \"ESO1B\", \"ESO1C\", \"ESO1D\", \"ESO2A\", \"ESO2B\", \"ESO2C\", \"ESO3A\", \"ESO3B\", \"ESO3C\", \"ESO3D\", \"ESO4A\", \"ESO4B\", \"ESO4C\", \"1FPB\", \"2FPB\", \"1CIE\", \"1SOC\", \"2CIE\", \"2SOC\", \"1TEL\", \"1ELE\", \"1CAR\", \"2TEL\", \"2ELE\", \"2CAR\", \"1ARI\", \"1ALO\", \"1GIT\", \"1ASR\", \"1DAW\", \"2ARI\", \"2ALO\", \"2GIT\", \"2ASR\", \"2DAW\"]}, {\"marker\": {\"color\": \"rgb(31,120,180)\"}, \"name\": \"Abs. Justificado (%)\", \"orientation\": \"h\", \"type\": \"bar\", \"uid\": \"489d2096-02bc-480a-a519-d2df477b7dc8\", \"x\": [1.02, 0.89, 0.72, 1.49, 0.66, 0.83, 2.06, 2.07, 1.7, 2.71, 2.49, 2.61, 3.28, 2.81, 4.88, 9.62, 2.08, 2.12, 1.83, 2.17, 3.09, 1.9, 3.47, 3.45, 2.34, 2.36, 2.71, 1.66, 3.91, 1.56, 3.81, 1.77, 1.98, 2.7, 1.74, 1.79], \"y\": [\"ESO1A\", \"ESO1B\", \"ESO1C\", \"ESO1D\", \"ESO2A\", \"ESO2B\", \"ESO2C\", \"ESO3A\", \"ESO3B\", \"ESO3C\", \"ESO3D\", \"ESO4A\", \"ESO4B\", \"ESO4C\", \"1FPB\", \"2FPB\", \"1CIE\", \"1SOC\", \"2CIE\", \"2SOC\", \"1TEL\", \"1ELE\", \"1CAR\", \"2TEL\", \"2ELE\", \"2CAR\", \"1ARI\", \"1ALO\", \"1GIT\", \"1ASR\", \"1DAW\", \"2ARI\", \"2ALO\", \"2GIT\", \"2ASR\", \"2DAW\"]}],\n",
       "                        {\"barmode\": \"overlay\", \"height\": 1000, \"title\": {\"text\": \"\"}, \"width\": 700, \"yaxis\": {\"autorange\": \"reversed\", \"type\": \"category\"}},\n",
       "                        {\"showLink\": false, \"linkText\": \"Export to plot.ly\", \"plotlyServerURL\": \"https://plot.ly\", \"responsive\": true}\n",
       "                    ).then(function(){\n",
       "                            \n",
       "var gd = document.getElementById('e4be4369-92f0-4195-a35f-a45a6f15c494');\n",
       "var x = new MutationObserver(function (mutations, observer) {{\n",
       "        var display = window.getComputedStyle(gd).display;\n",
       "        if (!display || display === 'none') {{\n",
       "            console.log([gd, 'removed!']);\n",
       "            Plotly.purge(gd);\n",
       "            observer.disconnect();\n",
       "        }}\n",
       "}});\n",
       "\n",
       "// Listen for the removal of the full notebook cells\n",
       "var notebookContainer = gd.closest('#notebook-container');\n",
       "if (notebookContainer) {{\n",
       "    x.observe(notebookContainer, {childList: true});\n",
       "}}\n",
       "\n",
       "// Listen for the clearing of the current output cell\n",
       "var outputEl = gd.closest('.output');\n",
       "if (outputEl) {{\n",
       "    x.observe(outputEl, {childList: true});\n",
       "}}\n",
       "\n",
       "                        })\n",
       "                };\n",
       "                });\n",
       "            </script>\n",
       "        </div>"
      ]
     },
     "metadata": {},
     "output_type": "display_data"
    }
   ],
   "source": [
    "myplotly.hbar((dfc['absentismo'], dfc['absentismo_justificado']), dfc.index,\n",
    "              trace_names=('Abs. Total (%)', 'Abs. Justificado (%)'))"
   ]
  },
  {
   "cell_type": "markdown",
   "metadata": {},
   "source": [
    "## ESO"
   ]
  },
  {
   "cell_type": "code",
   "execution_count": 40,
   "metadata": {
    "scrolled": true
   },
   "outputs": [
    {
     "data": {
      "application/vnd.plotly.v1+json": {
       "config": {
        "linkText": "Export to plot.ly",
        "plotlyServerURL": "https://plot.ly",
        "responsive": true,
        "showLink": false
       },
       "data": [
        {
         "hoverinfo": "x+text",
         "marker": {
          "color": [
           3.48,
           4.86,
           3.5300000000000002,
           6.32,
           4.56,
           3.5500000000000003,
           11.88,
           4.97,
           6.61,
           5.01,
           6.17,
           5.34,
           5.13,
           9.14
          ],
          "colorscale": [
           [
            0,
            "rgb(252,174,145)"
           ],
           [
            0.3333333333333333,
            "rgb(251,106,74)"
           ],
           [
            0.6666666666666666,
            "rgb(222,45,38)"
           ],
           [
            1,
            "rgb(165,15,21)"
           ]
          ]
         },
         "text": [
          "3.48%",
          "4.86%",
          "3.53%",
          "6.32%",
          "4.56%",
          "3.55%",
          "11.88%",
          "4.97%",
          "6.61%",
          "5.01%",
          "6.17%",
          "5.34%",
          "5.13%",
          "9.14%"
         ],
         "type": "bar",
         "uid": "cb8ee4fc-d130-4178-8894-a18cadf655e9",
         "x": [
          "ESO1A",
          "ESO1B",
          "ESO1C",
          "ESO1D",
          "ESO2A",
          "ESO2B",
          "ESO2C",
          "ESO3A",
          "ESO3B",
          "ESO3C",
          "ESO3D",
          "ESO4A",
          "ESO4B",
          "ESO4C"
         ],
         "y": [
          3.48,
          4.86,
          3.5300000000000002,
          6.32,
          4.56,
          3.5500000000000003,
          11.88,
          4.97,
          6.61,
          5.01,
          6.17,
          5.34,
          5.13,
          9.14
         ]
        }
       ],
       "layout": {
        "title": {
         "text": ""
        }
       }
      },
      "text/html": [
       "<div>\n",
       "        \n",
       "        \n",
       "            <div id=\"dae0b6e1-6421-49ea-8b82-be70e56a5139\" class=\"plotly-graph-div\" style=\"height:525px; width:100%;\"></div>\n",
       "            <script type=\"text/javascript\">\n",
       "                require([\"plotly\"], function(Plotly) {\n",
       "                    window.PLOTLYENV=window.PLOTLYENV || {};\n",
       "                    window.PLOTLYENV.BASE_URL='https://plot.ly';\n",
       "                    \n",
       "                if (document.getElementById(\"dae0b6e1-6421-49ea-8b82-be70e56a5139\")) {\n",
       "                    Plotly.newPlot(\n",
       "                        'dae0b6e1-6421-49ea-8b82-be70e56a5139',\n",
       "                        [{\"hoverinfo\": \"x+text\", \"marker\": {\"color\": [3.48, 4.86, 3.5300000000000002, 6.32, 4.56, 3.5500000000000003, 11.88, 4.97, 6.61, 5.01, 6.17, 5.34, 5.13, 9.14], \"colorscale\": [[0.0, \"rgb(252,174,145)\"], [0.3333333333333333, \"rgb(251,106,74)\"], [0.6666666666666666, \"rgb(222,45,38)\"], [1.0, \"rgb(165,15,21)\"]]}, \"text\": [\"3.48%\", \"4.86%\", \"3.53%\", \"6.32%\", \"4.56%\", \"3.55%\", \"11.88%\", \"4.97%\", \"6.61%\", \"5.01%\", \"6.17%\", \"5.34%\", \"5.13%\", \"9.14%\"], \"type\": \"bar\", \"uid\": \"cb1e75a5-86e6-4a49-ac7d-0eb7a0b18031\", \"x\": [\"ESO1A\", \"ESO1B\", \"ESO1C\", \"ESO1D\", \"ESO2A\", \"ESO2B\", \"ESO2C\", \"ESO3A\", \"ESO3B\", \"ESO3C\", \"ESO3D\", \"ESO4A\", \"ESO4B\", \"ESO4C\"], \"y\": [3.48, 4.86, 3.5300000000000002, 6.32, 4.56, 3.5500000000000003, 11.88, 4.97, 6.61, 5.01, 6.17, 5.34, 5.13, 9.14]}],\n",
       "                        {\"title\": {\"text\": \"\"}},\n",
       "                        {\"showLink\": false, \"linkText\": \"Export to plot.ly\", \"plotlyServerURL\": \"https://plot.ly\", \"responsive\": true}\n",
       "                    ).then(function(){\n",
       "                            \n",
       "var gd = document.getElementById('dae0b6e1-6421-49ea-8b82-be70e56a5139');\n",
       "var x = new MutationObserver(function (mutations, observer) {{\n",
       "        var display = window.getComputedStyle(gd).display;\n",
       "        if (!display || display === 'none') {{\n",
       "            console.log([gd, 'removed!']);\n",
       "            Plotly.purge(gd);\n",
       "            observer.disconnect();\n",
       "        }}\n",
       "}});\n",
       "\n",
       "// Listen for the removal of the full notebook cells\n",
       "var notebookContainer = gd.closest('#notebook-container');\n",
       "if (notebookContainer) {{\n",
       "    x.observe(notebookContainer, {childList: true});\n",
       "}}\n",
       "\n",
       "// Listen for the clearing of the current output cell\n",
       "var outputEl = gd.closest('.output');\n",
       "if (outputEl) {{\n",
       "    x.observe(outputEl, {childList: true});\n",
       "}}\n",
       "\n",
       "                        })\n",
       "                };\n",
       "                });\n",
       "            </script>\n",
       "        </div>"
      ]
     },
     "metadata": {},
     "output_type": "display_data"
    }
   ],
   "source": [
    "myplotly.bar_simple(dfc_ESO.index, dfc_ESO['absentismo'], colormap='Reds')"
   ]
  },
  {
   "cell_type": "markdown",
   "metadata": {},
   "source": [
    "# FPB"
   ]
  },
  {
   "cell_type": "code",
   "execution_count": 41,
   "metadata": {},
   "outputs": [
    {
     "data": {
      "application/vnd.plotly.v1+json": {
       "config": {
        "linkText": "Export to plot.ly",
        "plotlyServerURL": "https://plot.ly",
        "responsive": true,
        "showLink": false
       },
       "data": [
        {
         "hoverinfo": "x+text",
         "marker": {
          "color": [
           23.29,
           26.72
          ],
          "colorscale": [
           [
            0,
            "rgb(252,174,145)"
           ],
           [
            0.3333333333333333,
            "rgb(251,106,74)"
           ],
           [
            0.6666666666666666,
            "rgb(222,45,38)"
           ],
           [
            1,
            "rgb(165,15,21)"
           ]
          ]
         },
         "text": [
          "23.29%",
          "26.72%"
         ],
         "type": "bar",
         "uid": "ab2fd9ab-e413-4fdc-af38-b58416488de3",
         "x": [
          "1FPB",
          "2FPB"
         ],
         "y": [
          23.29,
          26.72
         ]
        }
       ],
       "layout": {
        "title": {
         "text": ""
        }
       }
      },
      "text/html": [
       "<div>\n",
       "        \n",
       "        \n",
       "            <div id=\"e078cc7f-897b-4427-96b2-aa5019ff648d\" class=\"plotly-graph-div\" style=\"height:525px; width:100%;\"></div>\n",
       "            <script type=\"text/javascript\">\n",
       "                require([\"plotly\"], function(Plotly) {\n",
       "                    window.PLOTLYENV=window.PLOTLYENV || {};\n",
       "                    window.PLOTLYENV.BASE_URL='https://plot.ly';\n",
       "                    \n",
       "                if (document.getElementById(\"e078cc7f-897b-4427-96b2-aa5019ff648d\")) {\n",
       "                    Plotly.newPlot(\n",
       "                        'e078cc7f-897b-4427-96b2-aa5019ff648d',\n",
       "                        [{\"hoverinfo\": \"x+text\", \"marker\": {\"color\": [23.29, 26.72], \"colorscale\": [[0.0, \"rgb(252,174,145)\"], [0.3333333333333333, \"rgb(251,106,74)\"], [0.6666666666666666, \"rgb(222,45,38)\"], [1.0, \"rgb(165,15,21)\"]]}, \"text\": [\"23.29%\", \"26.72%\"], \"type\": \"bar\", \"uid\": \"6ebbdcad-c0c9-4378-8e0d-a963b9761dc4\", \"x\": [\"1FPB\", \"2FPB\"], \"y\": [23.29, 26.72]}],\n",
       "                        {\"title\": {\"text\": \"\"}},\n",
       "                        {\"showLink\": false, \"linkText\": \"Export to plot.ly\", \"plotlyServerURL\": \"https://plot.ly\", \"responsive\": true}\n",
       "                    ).then(function(){\n",
       "                            \n",
       "var gd = document.getElementById('e078cc7f-897b-4427-96b2-aa5019ff648d');\n",
       "var x = new MutationObserver(function (mutations, observer) {{\n",
       "        var display = window.getComputedStyle(gd).display;\n",
       "        if (!display || display === 'none') {{\n",
       "            console.log([gd, 'removed!']);\n",
       "            Plotly.purge(gd);\n",
       "            observer.disconnect();\n",
       "        }}\n",
       "}});\n",
       "\n",
       "// Listen for the removal of the full notebook cells\n",
       "var notebookContainer = gd.closest('#notebook-container');\n",
       "if (notebookContainer) {{\n",
       "    x.observe(notebookContainer, {childList: true});\n",
       "}}\n",
       "\n",
       "// Listen for the clearing of the current output cell\n",
       "var outputEl = gd.closest('.output');\n",
       "if (outputEl) {{\n",
       "    x.observe(outputEl, {childList: true});\n",
       "}}\n",
       "\n",
       "                        })\n",
       "                };\n",
       "                });\n",
       "            </script>\n",
       "        </div>"
      ]
     },
     "metadata": {},
     "output_type": "display_data"
    }
   ],
   "source": [
    "myplotly.bar_simple(dfc_FPB.index, dfc_FPB['absentismo'], colormap='Reds')"
   ]
  },
  {
   "cell_type": "markdown",
   "metadata": {},
   "source": [
    "## BACHILLERATO"
   ]
  },
  {
   "cell_type": "code",
   "execution_count": 42,
   "metadata": {
    "scrolled": false
   },
   "outputs": [
    {
     "data": {
      "application/vnd.plotly.v1+json": {
       "config": {
        "linkText": "Export to plot.ly",
        "plotlyServerURL": "https://plot.ly",
        "responsive": true,
        "showLink": false
       },
       "data": [
        {
         "hoverinfo": "x+text",
         "marker": {
          "color": [
           4.02,
           8.77,
           5.53,
           6.27
          ],
          "colorscale": [
           [
            0,
            "rgb(252,174,145)"
           ],
           [
            0.3333333333333333,
            "rgb(251,106,74)"
           ],
           [
            0.6666666666666666,
            "rgb(222,45,38)"
           ],
           [
            1,
            "rgb(165,15,21)"
           ]
          ]
         },
         "text": [
          "4.02%",
          "8.77%",
          "5.53%",
          "6.27%"
         ],
         "type": "bar",
         "uid": "5155272d-9cc2-4e01-820f-ebdaef1a185e",
         "x": [
          "1CIE",
          "1SOC",
          "2CIE",
          "2SOC"
         ],
         "y": [
          4.02,
          8.77,
          5.53,
          6.27
         ]
        }
       ],
       "layout": {
        "title": {
         "text": ""
        }
       }
      },
      "text/html": [
       "<div>\n",
       "        \n",
       "        \n",
       "            <div id=\"dc3e0c67-0b57-4ff7-89c6-c278390d4b3b\" class=\"plotly-graph-div\" style=\"height:525px; width:100%;\"></div>\n",
       "            <script type=\"text/javascript\">\n",
       "                require([\"plotly\"], function(Plotly) {\n",
       "                    window.PLOTLYENV=window.PLOTLYENV || {};\n",
       "                    window.PLOTLYENV.BASE_URL='https://plot.ly';\n",
       "                    \n",
       "                if (document.getElementById(\"dc3e0c67-0b57-4ff7-89c6-c278390d4b3b\")) {\n",
       "                    Plotly.newPlot(\n",
       "                        'dc3e0c67-0b57-4ff7-89c6-c278390d4b3b',\n",
       "                        [{\"hoverinfo\": \"x+text\", \"marker\": {\"color\": [4.02, 8.77, 5.53, 6.27], \"colorscale\": [[0.0, \"rgb(252,174,145)\"], [0.3333333333333333, \"rgb(251,106,74)\"], [0.6666666666666666, \"rgb(222,45,38)\"], [1.0, \"rgb(165,15,21)\"]]}, \"text\": [\"4.02%\", \"8.77%\", \"5.53%\", \"6.27%\"], \"type\": \"bar\", \"uid\": \"8ad3f468-dab1-42ff-a7c5-8394a1c1d420\", \"x\": [\"1CIE\", \"1SOC\", \"2CIE\", \"2SOC\"], \"y\": [4.02, 8.77, 5.53, 6.27]}],\n",
       "                        {\"title\": {\"text\": \"\"}},\n",
       "                        {\"showLink\": false, \"linkText\": \"Export to plot.ly\", \"plotlyServerURL\": \"https://plot.ly\", \"responsive\": true}\n",
       "                    ).then(function(){\n",
       "                            \n",
       "var gd = document.getElementById('dc3e0c67-0b57-4ff7-89c6-c278390d4b3b');\n",
       "var x = new MutationObserver(function (mutations, observer) {{\n",
       "        var display = window.getComputedStyle(gd).display;\n",
       "        if (!display || display === 'none') {{\n",
       "            console.log([gd, 'removed!']);\n",
       "            Plotly.purge(gd);\n",
       "            observer.disconnect();\n",
       "        }}\n",
       "}});\n",
       "\n",
       "// Listen for the removal of the full notebook cells\n",
       "var notebookContainer = gd.closest('#notebook-container');\n",
       "if (notebookContainer) {{\n",
       "    x.observe(notebookContainer, {childList: true});\n",
       "}}\n",
       "\n",
       "// Listen for the clearing of the current output cell\n",
       "var outputEl = gd.closest('.output');\n",
       "if (outputEl) {{\n",
       "    x.observe(outputEl, {childList: true});\n",
       "}}\n",
       "\n",
       "                        })\n",
       "                };\n",
       "                });\n",
       "            </script>\n",
       "        </div>"
      ]
     },
     "metadata": {},
     "output_type": "display_data"
    }
   ],
   "source": [
    "myplotly.bar_simple(dfc_BACH.index, dfc_BACH['absentismo'], colormap='Reds')"
   ]
  },
  {
   "cell_type": "markdown",
   "metadata": {},
   "source": [
    "## CICLOS FORMATIVOS DE GRADO MEDIO"
   ]
  },
  {
   "cell_type": "code",
   "execution_count": 43,
   "metadata": {},
   "outputs": [
    {
     "data": {
      "application/vnd.plotly.v1+json": {
       "config": {
        "linkText": "Export to plot.ly",
        "plotlyServerURL": "https://plot.ly",
        "responsive": true,
        "showLink": false
       },
       "data": [
        {
         "hoverinfo": "x+text",
         "marker": {
          "color": [
           20.75,
           15.290000000000001,
           20.919999999999998,
           19.83,
           14.93,
           11.08
          ],
          "colorscale": [
           [
            0,
            "rgb(252,174,145)"
           ],
           [
            0.3333333333333333,
            "rgb(251,106,74)"
           ],
           [
            0.6666666666666666,
            "rgb(222,45,38)"
           ],
           [
            1,
            "rgb(165,15,21)"
           ]
          ]
         },
         "text": [
          "20.75%",
          "15.29%",
          "20.92%",
          "19.83%",
          "14.93%",
          "11.08%"
         ],
         "type": "bar",
         "uid": "bade3e12-0e5a-4f94-892b-3781a7420730",
         "x": [
          "1TEL",
          "1ELE",
          "1CAR",
          "2TEL",
          "2ELE",
          "2CAR"
         ],
         "y": [
          20.75,
          15.290000000000001,
          20.919999999999998,
          19.83,
          14.93,
          11.08
         ]
        }
       ],
       "layout": {
        "title": {
         "text": ""
        }
       }
      },
      "text/html": [
       "<div>\n",
       "        \n",
       "        \n",
       "            <div id=\"d57d3ad1-49a0-430d-897f-ed51ec2622e6\" class=\"plotly-graph-div\" style=\"height:525px; width:100%;\"></div>\n",
       "            <script type=\"text/javascript\">\n",
       "                require([\"plotly\"], function(Plotly) {\n",
       "                    window.PLOTLYENV=window.PLOTLYENV || {};\n",
       "                    window.PLOTLYENV.BASE_URL='https://plot.ly';\n",
       "                    \n",
       "                if (document.getElementById(\"d57d3ad1-49a0-430d-897f-ed51ec2622e6\")) {\n",
       "                    Plotly.newPlot(\n",
       "                        'd57d3ad1-49a0-430d-897f-ed51ec2622e6',\n",
       "                        [{\"hoverinfo\": \"x+text\", \"marker\": {\"color\": [20.75, 15.290000000000001, 20.919999999999998, 19.83, 14.93, 11.08], \"colorscale\": [[0.0, \"rgb(252,174,145)\"], [0.3333333333333333, \"rgb(251,106,74)\"], [0.6666666666666666, \"rgb(222,45,38)\"], [1.0, \"rgb(165,15,21)\"]]}, \"text\": [\"20.75%\", \"15.29%\", \"20.92%\", \"19.83%\", \"14.93%\", \"11.08%\"], \"type\": \"bar\", \"uid\": \"c1ba2b86-5864-4c85-be8a-87301e0adf03\", \"x\": [\"1TEL\", \"1ELE\", \"1CAR\", \"2TEL\", \"2ELE\", \"2CAR\"], \"y\": [20.75, 15.290000000000001, 20.919999999999998, 19.83, 14.93, 11.08]}],\n",
       "                        {\"title\": {\"text\": \"\"}},\n",
       "                        {\"showLink\": false, \"linkText\": \"Export to plot.ly\", \"plotlyServerURL\": \"https://plot.ly\", \"responsive\": true}\n",
       "                    ).then(function(){\n",
       "                            \n",
       "var gd = document.getElementById('d57d3ad1-49a0-430d-897f-ed51ec2622e6');\n",
       "var x = new MutationObserver(function (mutations, observer) {{\n",
       "        var display = window.getComputedStyle(gd).display;\n",
       "        if (!display || display === 'none') {{\n",
       "            console.log([gd, 'removed!']);\n",
       "            Plotly.purge(gd);\n",
       "            observer.disconnect();\n",
       "        }}\n",
       "}});\n",
       "\n",
       "// Listen for the removal of the full notebook cells\n",
       "var notebookContainer = gd.closest('#notebook-container');\n",
       "if (notebookContainer) {{\n",
       "    x.observe(notebookContainer, {childList: true});\n",
       "}}\n",
       "\n",
       "// Listen for the clearing of the current output cell\n",
       "var outputEl = gd.closest('.output');\n",
       "if (outputEl) {{\n",
       "    x.observe(outputEl, {childList: true});\n",
       "}}\n",
       "\n",
       "                        })\n",
       "                };\n",
       "                });\n",
       "            </script>\n",
       "        </div>"
      ]
     },
     "metadata": {},
     "output_type": "display_data"
    }
   ],
   "source": [
    "myplotly.bar_simple(dfc_CFGM.index, dfc_CFGM['absentismo'], colormap='Reds')"
   ]
  },
  {
   "cell_type": "markdown",
   "metadata": {},
   "source": [
    "## CICLOS FORMATIVOS DE GRADO SUPERIOR"
   ]
  },
  {
   "cell_type": "code",
   "execution_count": 44,
   "metadata": {
    "scrolled": false
   },
   "outputs": [
    {
     "data": {
      "application/vnd.plotly.v1+json": {
       "config": {
        "linkText": "Export to plot.ly",
        "plotlyServerURL": "https://plot.ly",
        "responsive": true,
        "showLink": false
       },
       "data": [
        {
         "hoverinfo": "x+text",
         "marker": {
          "color": [
           10.43,
           12.76,
           13.27,
           10.97,
           9.73,
           8.1,
           7.66,
           10.84,
           7.1000000000000005,
           18.02
          ],
          "colorscale": [
           [
            0,
            "rgb(252,174,145)"
           ],
           [
            0.3333333333333333,
            "rgb(251,106,74)"
           ],
           [
            0.6666666666666666,
            "rgb(222,45,38)"
           ],
           [
            1,
            "rgb(165,15,21)"
           ]
          ]
         },
         "text": [
          "10.43%",
          "12.76%",
          "13.27%",
          "10.97%",
          "9.73%",
          "8.10%",
          "7.66%",
          "10.84%",
          "7.10%",
          "18.02%"
         ],
         "type": "bar",
         "uid": "d60303cb-3191-4b64-8b04-9564db2f0a93",
         "x": [
          "1ARI",
          "1ALO",
          "1GIT",
          "1ASR",
          "1DAW",
          "2ARI",
          "2ALO",
          "2GIT",
          "2ASR",
          "2DAW"
         ],
         "y": [
          10.43,
          12.76,
          13.27,
          10.97,
          9.73,
          8.1,
          7.66,
          10.84,
          7.1000000000000005,
          18.02
         ]
        }
       ],
       "layout": {
        "title": {
         "text": ""
        }
       }
      },
      "text/html": [
       "<div>\n",
       "        \n",
       "        \n",
       "            <div id=\"c10f027f-222e-4efd-b91f-a8b1b6b03b86\" class=\"plotly-graph-div\" style=\"height:525px; width:100%;\"></div>\n",
       "            <script type=\"text/javascript\">\n",
       "                require([\"plotly\"], function(Plotly) {\n",
       "                    window.PLOTLYENV=window.PLOTLYENV || {};\n",
       "                    window.PLOTLYENV.BASE_URL='https://plot.ly';\n",
       "                    \n",
       "                if (document.getElementById(\"c10f027f-222e-4efd-b91f-a8b1b6b03b86\")) {\n",
       "                    Plotly.newPlot(\n",
       "                        'c10f027f-222e-4efd-b91f-a8b1b6b03b86',\n",
       "                        [{\"hoverinfo\": \"x+text\", \"marker\": {\"color\": [10.43, 12.76, 13.27, 10.97, 9.73, 8.1, 7.66, 10.84, 7.1000000000000005, 18.02], \"colorscale\": [[0.0, \"rgb(252,174,145)\"], [0.3333333333333333, \"rgb(251,106,74)\"], [0.6666666666666666, \"rgb(222,45,38)\"], [1.0, \"rgb(165,15,21)\"]]}, \"text\": [\"10.43%\", \"12.76%\", \"13.27%\", \"10.97%\", \"9.73%\", \"8.10%\", \"7.66%\", \"10.84%\", \"7.10%\", \"18.02%\"], \"type\": \"bar\", \"uid\": \"3c4526e1-1f26-4922-90e4-304c430a11c4\", \"x\": [\"1ARI\", \"1ALO\", \"1GIT\", \"1ASR\", \"1DAW\", \"2ARI\", \"2ALO\", \"2GIT\", \"2ASR\", \"2DAW\"], \"y\": [10.43, 12.76, 13.27, 10.97, 9.73, 8.1, 7.66, 10.84, 7.1000000000000005, 18.02]}],\n",
       "                        {\"title\": {\"text\": \"\"}},\n",
       "                        {\"showLink\": false, \"linkText\": \"Export to plot.ly\", \"plotlyServerURL\": \"https://plot.ly\", \"responsive\": true}\n",
       "                    ).then(function(){\n",
       "                            \n",
       "var gd = document.getElementById('c10f027f-222e-4efd-b91f-a8b1b6b03b86');\n",
       "var x = new MutationObserver(function (mutations, observer) {{\n",
       "        var display = window.getComputedStyle(gd).display;\n",
       "        if (!display || display === 'none') {{\n",
       "            console.log([gd, 'removed!']);\n",
       "            Plotly.purge(gd);\n",
       "            observer.disconnect();\n",
       "        }}\n",
       "}});\n",
       "\n",
       "// Listen for the removal of the full notebook cells\n",
       "var notebookContainer = gd.closest('#notebook-container');\n",
       "if (notebookContainer) {{\n",
       "    x.observe(notebookContainer, {childList: true});\n",
       "}}\n",
       "\n",
       "// Listen for the clearing of the current output cell\n",
       "var outputEl = gd.closest('.output');\n",
       "if (outputEl) {{\n",
       "    x.observe(outputEl, {childList: true});\n",
       "}}\n",
       "\n",
       "                        })\n",
       "                };\n",
       "                });\n",
       "            </script>\n",
       "        </div>"
      ]
     },
     "metadata": {},
     "output_type": "display_data"
    }
   ],
   "source": [
    "myplotly.bar_simple(dfc_CFGS.index, dfc_CFGS['absentismo'], colormap='Reds')"
   ]
  },
  {
   "cell_type": "markdown",
   "metadata": {},
   "source": [
    "## GLOBAL"
   ]
  },
  {
   "cell_type": "code",
   "execution_count": 45,
   "metadata": {
    "scrolled": true
   },
   "outputs": [
    {
     "data": {
      "application/vnd.plotly.v1+json": {
       "config": {
        "linkText": "Export to plot.ly",
        "plotlyServerURL": "https://plot.ly",
        "responsive": true,
        "showLink": false
       },
       "data": [
        {
         "hoverinfo": "x+text",
         "marker": {
          "color": [
           5.753571428571428,
           25.005,
           6.1475,
           17.133333333333333,
           10.887999999999998
          ],
          "colorscale": [
           [
            0,
            "rgb(252,174,145)"
           ],
           [
            0.3333333333333333,
            "rgb(251,106,74)"
           ],
           [
            0.6666666666666666,
            "rgb(222,45,38)"
           ],
           [
            1,
            "rgb(165,15,21)"
           ]
          ]
         },
         "text": [
          "5.75%",
          "25.00%",
          "6.15%",
          "17.13%",
          "10.89%"
         ],
         "type": "bar",
         "uid": "8a20cc27-6e1b-4910-807c-15ab4b213ac1",
         "x": [
          "ESO",
          "FPB",
          "BACH",
          "CFGM",
          "CFGS"
         ],
         "y": [
          5.753571428571428,
          25.005,
          6.1475,
          17.133333333333333,
          10.887999999999998
         ]
        }
       ],
       "layout": {
        "title": {
         "text": ""
        }
       }
      },
      "text/html": [
       "<div>\n",
       "        \n",
       "        \n",
       "            <div id=\"2e86a1fe-0cc5-4074-84b2-de1fe585f8c5\" class=\"plotly-graph-div\" style=\"height:525px; width:100%;\"></div>\n",
       "            <script type=\"text/javascript\">\n",
       "                require([\"plotly\"], function(Plotly) {\n",
       "                    window.PLOTLYENV=window.PLOTLYENV || {};\n",
       "                    window.PLOTLYENV.BASE_URL='https://plot.ly';\n",
       "                    \n",
       "                if (document.getElementById(\"2e86a1fe-0cc5-4074-84b2-de1fe585f8c5\")) {\n",
       "                    Plotly.newPlot(\n",
       "                        '2e86a1fe-0cc5-4074-84b2-de1fe585f8c5',\n",
       "                        [{\"hoverinfo\": \"x+text\", \"marker\": {\"color\": [5.753571428571428, 25.005, 6.1475, 17.133333333333333, 10.887999999999998], \"colorscale\": [[0.0, \"rgb(252,174,145)\"], [0.3333333333333333, \"rgb(251,106,74)\"], [0.6666666666666666, \"rgb(222,45,38)\"], [1.0, \"rgb(165,15,21)\"]]}, \"text\": [\"5.75%\", \"25.00%\", \"6.15%\", \"17.13%\", \"10.89%\"], \"type\": \"bar\", \"uid\": \"8fca352f-a0ea-4fc3-9147-59c01b204d22\", \"x\": [\"ESO\", \"FPB\", \"BACH\", \"CFGM\", \"CFGS\"], \"y\": [5.753571428571428, 25.005, 6.1475, 17.133333333333333, 10.887999999999998]}],\n",
       "                        {\"title\": {\"text\": \"\"}},\n",
       "                        {\"showLink\": false, \"linkText\": \"Export to plot.ly\", \"plotlyServerURL\": \"https://plot.ly\", \"responsive\": true}\n",
       "                    ).then(function(){\n",
       "                            \n",
       "var gd = document.getElementById('2e86a1fe-0cc5-4074-84b2-de1fe585f8c5');\n",
       "var x = new MutationObserver(function (mutations, observer) {{\n",
       "        var display = window.getComputedStyle(gd).display;\n",
       "        if (!display || display === 'none') {{\n",
       "            console.log([gd, 'removed!']);\n",
       "            Plotly.purge(gd);\n",
       "            observer.disconnect();\n",
       "        }}\n",
       "}});\n",
       "\n",
       "// Listen for the removal of the full notebook cells\n",
       "var notebookContainer = gd.closest('#notebook-container');\n",
       "if (notebookContainer) {{\n",
       "    x.observe(notebookContainer, {childList: true});\n",
       "}}\n",
       "\n",
       "// Listen for the clearing of the current output cell\n",
       "var outputEl = gd.closest('.output');\n",
       "if (outputEl) {{\n",
       "    x.observe(outputEl, {childList: true});\n",
       "}}\n",
       "\n",
       "                        })\n",
       "                };\n",
       "                });\n",
       "            </script>\n",
       "        </div>"
      ]
     },
     "metadata": {},
     "output_type": "display_data"
    }
   ],
   "source": [
    "myplotly.bar_simple(dfc_summary.index, dfc_summary['absentismo'], colormap='Reds')"
   ]
  },
  {
   "cell_type": "markdown",
   "metadata": {},
   "source": [
    "## COMPARATIVA CON LOS ÚLTIMOS CURSOS"
   ]
  },
  {
   "cell_type": "code",
   "execution_count": 46,
   "metadata": {},
   "outputs": [
    {
     "data": {
      "application/vnd.plotly.v1+json": {
       "config": {
        "linkText": "Export to plot.ly",
        "plotlyServerURL": "https://plot.ly",
        "responsive": true,
        "showLink": false
       },
       "data": [
        {
         "hoverinfo": "x+text+name",
         "name": "C1718",
         "text": [
          "6.95%",
          "27.52%",
          "5.31%",
          "14.93%",
          "12.86%"
         ],
         "type": "bar",
         "uid": "a88f7c92-1955-4b45-95c7-a252fd18325e",
         "x": [
          "ESO",
          "FPB",
          "BACH",
          "CFGM",
          "CFGS"
         ],
         "y": [
          6.952307692307694,
          27.520000000000003,
          5.31,
          14.928333333333333,
          12.864999999999998
         ]
        },
        {
         "hoverinfo": "x+text+name",
         "name": "C1819",
         "text": [
          "7.09%",
          "21.60%",
          "5.67%",
          "14.40%",
          "11.74%"
         ],
         "type": "bar",
         "uid": "f4713c19-8bb0-438d-ace5-63a8c0db13f8",
         "x": [
          "ESO",
          "FPB",
          "BACH",
          "CFGM",
          "CFGS"
         ],
         "y": [
          7.090769230769231,
          21.6,
          5.67,
          14.403333333333336,
          11.738000000000001
         ]
        },
        {
         "hoverinfo": "x+text+name",
         "name": "C1920",
         "text": [
          "5.75%",
          "25.00%",
          "6.15%",
          "17.13%",
          "10.89%"
         ],
         "type": "bar",
         "uid": "6d304532-a15e-4c6f-9e52-1234a4bf42ff",
         "x": [
          "ESO",
          "FPB",
          "BACH",
          "CFGM",
          "CFGS"
         ],
         "y": [
          5.753571428571428,
          25.005,
          6.1475,
          17.133333333333333,
          10.887999999999998
         ]
        }
       ],
       "layout": {
        "barmode": "group"
       }
      },
      "text/html": [
       "<div>\n",
       "        \n",
       "        \n",
       "            <div id=\"1dbc5f15-65a2-4000-83c6-532abad78bc7\" class=\"plotly-graph-div\" style=\"height:525px; width:100%;\"></div>\n",
       "            <script type=\"text/javascript\">\n",
       "                require([\"plotly\"], function(Plotly) {\n",
       "                    window.PLOTLYENV=window.PLOTLYENV || {};\n",
       "                    window.PLOTLYENV.BASE_URL='https://plot.ly';\n",
       "                    \n",
       "                if (document.getElementById(\"1dbc5f15-65a2-4000-83c6-532abad78bc7\")) {\n",
       "                    Plotly.newPlot(\n",
       "                        '1dbc5f15-65a2-4000-83c6-532abad78bc7',\n",
       "                        [{\"hoverinfo\": \"x+text+name\", \"name\": \"C1718\", \"text\": [\"6.95%\", \"27.52%\", \"5.31%\", \"14.93%\", \"12.86%\"], \"type\": \"bar\", \"uid\": \"45d1d10a-dd0d-4073-b5e6-f0b013b63886\", \"x\": [\"ESO\", \"FPB\", \"BACH\", \"CFGM\", \"CFGS\"], \"y\": [6.952307692307694, 27.520000000000003, 5.31, 14.928333333333333, 12.864999999999998]}, {\"hoverinfo\": \"x+text+name\", \"name\": \"C1819\", \"text\": [\"7.09%\", \"21.60%\", \"5.67%\", \"14.40%\", \"11.74%\"], \"type\": \"bar\", \"uid\": \"150d2e66-c045-4b8d-b6a0-259e70134de4\", \"x\": [\"ESO\", \"FPB\", \"BACH\", \"CFGM\", \"CFGS\"], \"y\": [7.090769230769231, 21.6, 5.67, 14.403333333333336, 11.738000000000001]}, {\"hoverinfo\": \"x+text+name\", \"name\": \"C1920\", \"text\": [\"5.75%\", \"25.00%\", \"6.15%\", \"17.13%\", \"10.89%\"], \"type\": \"bar\", \"uid\": \"bf710090-c3f1-45f2-805c-73657c94bda5\", \"x\": [\"ESO\", \"FPB\", \"BACH\", \"CFGM\", \"CFGS\"], \"y\": [5.753571428571428, 25.005, 6.1475, 17.133333333333333, 10.887999999999998]}],\n",
       "                        {\"barmode\": \"group\"},\n",
       "                        {\"showLink\": false, \"linkText\": \"Export to plot.ly\", \"plotlyServerURL\": \"https://plot.ly\", \"responsive\": true}\n",
       "                    ).then(function(){\n",
       "                            \n",
       "var gd = document.getElementById('1dbc5f15-65a2-4000-83c6-532abad78bc7');\n",
       "var x = new MutationObserver(function (mutations, observer) {{\n",
       "        var display = window.getComputedStyle(gd).display;\n",
       "        if (!display || display === 'none') {{\n",
       "            console.log([gd, 'removed!']);\n",
       "            Plotly.purge(gd);\n",
       "            observer.disconnect();\n",
       "        }}\n",
       "}});\n",
       "\n",
       "// Listen for the removal of the full notebook cells\n",
       "var notebookContainer = gd.closest('#notebook-container');\n",
       "if (notebookContainer) {{\n",
       "    x.observe(notebookContainer, {childList: true});\n",
       "}}\n",
       "\n",
       "// Listen for the clearing of the current output cell\n",
       "var outputEl = gd.closest('.output');\n",
       "if (outputEl) {{\n",
       "    x.observe(outputEl, {childList: true});\n",
       "}}\n",
       "\n",
       "                        })\n",
       "                };\n",
       "                });\n",
       "            </script>\n",
       "        </div>"
      ]
     },
     "metadata": {},
     "output_type": "display_data"
    }
   ],
   "source": [
    "aux = df.groupby(['etapa', 'curso', 'evaluación']).mean().reset_index().set_index('etapa')\n",
    "series = {year: aux.loc[stages].query(f'curso == \"{year}\" & evaluación == \"{labels[-1][1]}\"')['absentismo'].values\n",
    "          for year in years}\n",
    "\n",
    "myplotly.cbar(stages, series)"
   ]
  },
  {
   "cell_type": "code",
   "execution_count": 47,
   "metadata": {
    "scrolled": false
   },
   "outputs": [
    {
     "data": {
      "text/html": [
       "\n",
       "<div class='alert alert-info' role=\"alert\">\n",
       "    Absentismo global medio: <b>10.19</b>%\n",
       "</div>\n"
      ],
      "text/plain": [
       "<IPython.core.display.HTML object>"
      ]
     },
     "metadata": {},
     "output_type": "display_data"
    }
   ],
   "source": [
    "mean_absence = dfc['absentismo'].mean()\n",
    "display(HTML(f'''\n",
    "<div class='alert alert-info' role=\"alert\">\n",
    "    Absentismo global medio: <b>{mean_absence:.2f}</b>%\n",
    "</div>\n",
    "'''))"
   ]
  },
  {
   "cell_type": "code",
   "execution_count": 48,
   "metadata": {
    "scrolled": false
   },
   "outputs": [],
   "source": [
    "if EVALUATION > 1:\n",
    "    display(HTML('<h2>EVOLUCIÓN DE GRUPOS CON RESPECTO A LA EVALUACIÓN ANTERIOR'))\n",
    "\n",
    "    aux = df_comp['absentismo_x'] - df_comp['absentismo_y']\n",
    "    myplotly.dbar(aux.index, aux, inverted_colors=True)"
   ]
  },
  {
   "cell_type": "markdown",
   "metadata": {},
   "source": [
    "# GESTIÓN DE LA CONVIVENCIA"
   ]
  },
  {
   "cell_type": "markdown",
   "metadata": {},
   "source": [
    "## PARTES DE GESTIÓN"
   ]
  },
  {
   "cell_type": "code",
   "execution_count": 49,
   "metadata": {},
   "outputs": [
    {
     "data": {
      "application/vnd.plotly.v1+json": {
       "config": {
        "linkText": "Export to plot.ly",
        "plotlyServerURL": "https://plot.ly",
        "responsive": true,
        "showLink": false
       },
       "data": [
        {
         "marker": {
          "color": [
           1,
           2,
           1,
           3,
           3,
           6,
           3,
           5,
           10,
           6,
           7
          ],
          "colorscale": [
           [
            0,
            "rgb(252,174,145)"
           ],
           [
            0.3333333333333333,
            "rgb(251,106,74)"
           ],
           [
            0.6666666666666666,
            "rgb(222,45,38)"
           ],
           [
            1,
            "rgb(165,15,21)"
           ]
          ]
         },
         "type": "bar",
         "uid": "fb731aad-2301-40b9-a4fa-0e66e14aad77",
         "x": [
          "ESO1A",
          "ESO1C",
          "ESO1D",
          "ESO2A",
          "ESO2B",
          "ESO2C",
          "ESO3C",
          "ESO4C",
          "1FPB",
          "2FPB",
          "1SOC"
         ],
         "y": [
          1,
          2,
          1,
          3,
          3,
          6,
          3,
          5,
          10,
          6,
          7
         ]
        }
       ],
       "layout": {
        "title": {
         "text": ""
        }
       }
      },
      "text/html": [
       "<div>\n",
       "        \n",
       "        \n",
       "            <div id=\"b3cb3751-7d56-4a1a-94b9-c24b60fbd178\" class=\"plotly-graph-div\" style=\"height:525px; width:100%;\"></div>\n",
       "            <script type=\"text/javascript\">\n",
       "                require([\"plotly\"], function(Plotly) {\n",
       "                    window.PLOTLYENV=window.PLOTLYENV || {};\n",
       "                    window.PLOTLYENV.BASE_URL='https://plot.ly';\n",
       "                    \n",
       "                if (document.getElementById(\"b3cb3751-7d56-4a1a-94b9-c24b60fbd178\")) {\n",
       "                    Plotly.newPlot(\n",
       "                        'b3cb3751-7d56-4a1a-94b9-c24b60fbd178',\n",
       "                        [{\"marker\": {\"color\": [1.0, 2.0, 1.0, 3.0, 3.0, 6.0, 3.0, 5.0, 10.0, 6.0, 7.0], \"colorscale\": [[0.0, \"rgb(252,174,145)\"], [0.3333333333333333, \"rgb(251,106,74)\"], [0.6666666666666666, \"rgb(222,45,38)\"], [1.0, \"rgb(165,15,21)\"]]}, \"type\": \"bar\", \"uid\": \"14b50bc2-32de-4bac-abaa-0b94f01fbd98\", \"x\": [\"ESO1A\", \"ESO1C\", \"ESO1D\", \"ESO2A\", \"ESO2B\", \"ESO2C\", \"ESO3C\", \"ESO4C\", \"1FPB\", \"2FPB\", \"1SOC\"], \"y\": [1.0, 2.0, 1.0, 3.0, 3.0, 6.0, 3.0, 5.0, 10.0, 6.0, 7.0]}],\n",
       "                        {\"title\": {\"text\": \"\"}},\n",
       "                        {\"showLink\": false, \"linkText\": \"Export to plot.ly\", \"plotlyServerURL\": \"https://plot.ly\", \"responsive\": true}\n",
       "                    ).then(function(){\n",
       "                            \n",
       "var gd = document.getElementById('b3cb3751-7d56-4a1a-94b9-c24b60fbd178');\n",
       "var x = new MutationObserver(function (mutations, observer) {{\n",
       "        var display = window.getComputedStyle(gd).display;\n",
       "        if (!display || display === 'none') {{\n",
       "            console.log([gd, 'removed!']);\n",
       "            Plotly.purge(gd);\n",
       "            observer.disconnect();\n",
       "        }}\n",
       "}});\n",
       "\n",
       "// Listen for the removal of the full notebook cells\n",
       "var notebookContainer = gd.closest('#notebook-container');\n",
       "if (notebookContainer) {{\n",
       "    x.observe(notebookContainer, {childList: true});\n",
       "}}\n",
       "\n",
       "// Listen for the clearing of the current output cell\n",
       "var outputEl = gd.closest('.output');\n",
       "if (outputEl) {{\n",
       "    x.observe(outputEl, {childList: true});\n",
       "}}\n",
       "\n",
       "                        })\n",
       "                };\n",
       "                });\n",
       "            </script>\n",
       "        </div>"
      ]
     },
     "metadata": {},
     "output_type": "display_data"
    }
   ],
   "source": [
    "dfc_reports = dfc.query('partes > 0')['partes']\n",
    "myplotly.bar_simple(dfc_reports.index, dfc_reports, colormap='Reds', is_percentage=False)"
   ]
  },
  {
   "cell_type": "markdown",
   "metadata": {},
   "source": [
    "## COMPARATIVA CON LOS ÚLTIMOS CURSOS"
   ]
  },
  {
   "cell_type": "code",
   "execution_count": 50,
   "metadata": {},
   "outputs": [
    {
     "data": {
      "application/vnd.plotly.v1+json": {
       "config": {
        "linkText": "Export to plot.ly",
        "plotlyServerURL": "https://plot.ly",
        "responsive": true,
        "showLink": false
       },
       "data": [
        {
         "name": "C1718",
         "type": "bar",
         "uid": "8f1d2e1a-7997-43dd-8002-bfb54a09de29",
         "x": [
          "ESO",
          "FPB",
          "BACH",
          "CFGM",
          "CFGS"
         ],
         "y": [
          64,
          17,
          1,
          3,
          1
         ]
        },
        {
         "name": "C1819",
         "type": "bar",
         "uid": "0c18c053-ae45-4650-8887-5041d38fcf96",
         "x": [
          "ESO",
          "FPB",
          "BACH",
          "CFGM",
          "CFGS"
         ],
         "y": [
          22,
          2,
          1,
          0,
          0
         ]
        },
        {
         "name": "C1920",
         "type": "bar",
         "uid": "af62e455-80f1-4573-b881-703c3a7f163a",
         "x": [
          "ESO",
          "FPB",
          "BACH",
          "CFGM",
          "CFGS"
         ],
         "y": [
          24,
          16,
          7,
          0,
          0
         ]
        }
       ],
       "layout": {
        "barmode": "group"
       }
      },
      "text/html": [
       "<div>\n",
       "        \n",
       "        \n",
       "            <div id=\"8bcbb7ec-a430-4a09-b1cf-6a29ff00147e\" class=\"plotly-graph-div\" style=\"height:525px; width:100%;\"></div>\n",
       "            <script type=\"text/javascript\">\n",
       "                require([\"plotly\"], function(Plotly) {\n",
       "                    window.PLOTLYENV=window.PLOTLYENV || {};\n",
       "                    window.PLOTLYENV.BASE_URL='https://plot.ly';\n",
       "                    \n",
       "                if (document.getElementById(\"8bcbb7ec-a430-4a09-b1cf-6a29ff00147e\")) {\n",
       "                    Plotly.newPlot(\n",
       "                        '8bcbb7ec-a430-4a09-b1cf-6a29ff00147e',\n",
       "                        [{\"name\": \"C1718\", \"type\": \"bar\", \"uid\": \"5161c311-c251-41ae-a3dd-d7d8f1e0d22f\", \"x\": [\"ESO\", \"FPB\", \"BACH\", \"CFGM\", \"CFGS\"], \"y\": [64.0, 17.0, 1.0, 3.0, 1.0]}, {\"name\": \"C1819\", \"type\": \"bar\", \"uid\": \"ad49b9ad-6f6b-4493-8d9d-3b8c124c4d2a\", \"x\": [\"ESO\", \"FPB\", \"BACH\", \"CFGM\", \"CFGS\"], \"y\": [22.0, 2.0, 1.0, 0.0, 0.0]}, {\"name\": \"C1920\", \"type\": \"bar\", \"uid\": \"d732071f-d095-4147-9bf8-bb5fd13fdb1e\", \"x\": [\"ESO\", \"FPB\", \"BACH\", \"CFGM\", \"CFGS\"], \"y\": [24.0, 16.0, 7.0, 0.0, 0.0]}],\n",
       "                        {\"barmode\": \"group\"},\n",
       "                        {\"showLink\": false, \"linkText\": \"Export to plot.ly\", \"plotlyServerURL\": \"https://plot.ly\", \"responsive\": true}\n",
       "                    ).then(function(){\n",
       "                            \n",
       "var gd = document.getElementById('8bcbb7ec-a430-4a09-b1cf-6a29ff00147e');\n",
       "var x = new MutationObserver(function (mutations, observer) {{\n",
       "        var display = window.getComputedStyle(gd).display;\n",
       "        if (!display || display === 'none') {{\n",
       "            console.log([gd, 'removed!']);\n",
       "            Plotly.purge(gd);\n",
       "            observer.disconnect();\n",
       "        }}\n",
       "}});\n",
       "\n",
       "// Listen for the removal of the full notebook cells\n",
       "var notebookContainer = gd.closest('#notebook-container');\n",
       "if (notebookContainer) {{\n",
       "    x.observe(notebookContainer, {childList: true});\n",
       "}}\n",
       "\n",
       "// Listen for the clearing of the current output cell\n",
       "var outputEl = gd.closest('.output');\n",
       "if (outputEl) {{\n",
       "    x.observe(outputEl, {childList: true});\n",
       "}}\n",
       "\n",
       "                        })\n",
       "                };\n",
       "                });\n",
       "            </script>\n",
       "        </div>"
      ]
     },
     "metadata": {},
     "output_type": "display_data"
    }
   ],
   "source": [
    "aux = df.groupby(['etapa', 'curso', 'evaluación']).sum().reset_index().set_index('etapa')\n",
    "series = {year: aux.loc[stages].query(f'curso == \"{year}\" & evaluación == \"{labels[-1][1]}\"')['partes'].values\n",
    "          for year in years}\n",
    "\n",
    "myplotly.cbar(stages, series, is_percentage=False)"
   ]
  },
  {
   "cell_type": "code",
   "execution_count": 51,
   "metadata": {
    "scrolled": false
   },
   "outputs": [
    {
     "data": {
      "text/html": [
       "\n",
       "<div class='alert alert-info' role=\"alert\">\n",
       "    Total de partes de gestión: <b>47</b>\n",
       "</div>\n"
      ],
      "text/plain": [
       "<IPython.core.display.HTML object>"
      ]
     },
     "metadata": {},
     "output_type": "display_data"
    }
   ],
   "source": [
    "total_reports = dfc_reports.sum()\n",
    "display(HTML(f'''\n",
    "<div class='alert alert-info' role=\"alert\">\n",
    "    Total de partes de gestión: <b>{total_reports:.0f}</b>\n",
    "</div>\n",
    "'''))"
   ]
  },
  {
   "cell_type": "code",
   "execution_count": 52,
   "metadata": {
    "scrolled": true
   },
   "outputs": [],
   "source": [
    "if EVALUATION > 1:\n",
    "    display(HTML('<h2>EVOLUCIÓN DE GRUPOS CON RESPECTO A LA EVALUACIÓN ANTERIOR'))\n",
    "\n",
    "    aux = df_comp['partes_x'] - df_comp['partes_y']\n",
    "    myplotly.dbar(aux.index, aux, is_percentage=False, inverted_colors=True)"
   ]
  },
  {
   "cell_type": "markdown",
   "metadata": {},
   "source": [
    "## SUSPENSIÓN DEL DERECHO DE ASISTENCIA"
   ]
  },
  {
   "cell_type": "code",
   "execution_count": 53,
   "metadata": {},
   "outputs": [
    {
     "data": {
      "application/vnd.plotly.v1+json": {
       "config": {
        "linkText": "Export to plot.ly",
        "plotlyServerURL": "https://plot.ly",
        "responsive": true,
        "showLink": false
       },
       "data": [
        {
         "marker": {
          "color": [
           1,
           1,
           1,
           1,
           3,
           3,
           1
          ],
          "colorscale": [
           [
            0,
            "rgb(252,174,145)"
           ],
           [
            0.3333333333333333,
            "rgb(251,106,74)"
           ],
           [
            0.6666666666666666,
            "rgb(222,45,38)"
           ],
           [
            1,
            "rgb(165,15,21)"
           ]
          ]
         },
         "type": "bar",
         "uid": "1fc4971f-e73e-4908-8b80-0e82d2df53b9",
         "x": [
          "ESO1D",
          "ESO2B",
          "ESO2C",
          "ESO3C",
          "1FPB",
          "2FPB",
          "1SOC"
         ],
         "y": [
          1,
          1,
          1,
          1,
          3,
          3,
          1
         ]
        }
       ],
       "layout": {
        "title": {
         "text": ""
        }
       }
      },
      "text/html": [
       "<div>\n",
       "        \n",
       "        \n",
       "            <div id=\"a919a835-bfcd-4d53-aaf6-b0eeee1c39d9\" class=\"plotly-graph-div\" style=\"height:525px; width:100%;\"></div>\n",
       "            <script type=\"text/javascript\">\n",
       "                require([\"plotly\"], function(Plotly) {\n",
       "                    window.PLOTLYENV=window.PLOTLYENV || {};\n",
       "                    window.PLOTLYENV.BASE_URL='https://plot.ly';\n",
       "                    \n",
       "                if (document.getElementById(\"a919a835-bfcd-4d53-aaf6-b0eeee1c39d9\")) {\n",
       "                    Plotly.newPlot(\n",
       "                        'a919a835-bfcd-4d53-aaf6-b0eeee1c39d9',\n",
       "                        [{\"marker\": {\"color\": [1.0, 1.0, 1.0, 1.0, 3.0, 3.0, 1.0], \"colorscale\": [[0.0, \"rgb(252,174,145)\"], [0.3333333333333333, \"rgb(251,106,74)\"], [0.6666666666666666, \"rgb(222,45,38)\"], [1.0, \"rgb(165,15,21)\"]]}, \"type\": \"bar\", \"uid\": \"8d24cbf7-a972-4b8f-ad9c-d42bee84aa75\", \"x\": [\"ESO1D\", \"ESO2B\", \"ESO2C\", \"ESO3C\", \"1FPB\", \"2FPB\", \"1SOC\"], \"y\": [1.0, 1.0, 1.0, 1.0, 3.0, 3.0, 1.0]}],\n",
       "                        {\"title\": {\"text\": \"\"}},\n",
       "                        {\"showLink\": false, \"linkText\": \"Export to plot.ly\", \"plotlyServerURL\": \"https://plot.ly\", \"responsive\": true}\n",
       "                    ).then(function(){\n",
       "                            \n",
       "var gd = document.getElementById('a919a835-bfcd-4d53-aaf6-b0eeee1c39d9');\n",
       "var x = new MutationObserver(function (mutations, observer) {{\n",
       "        var display = window.getComputedStyle(gd).display;\n",
       "        if (!display || display === 'none') {{\n",
       "            console.log([gd, 'removed!']);\n",
       "            Plotly.purge(gd);\n",
       "            observer.disconnect();\n",
       "        }}\n",
       "}});\n",
       "\n",
       "// Listen for the removal of the full notebook cells\n",
       "var notebookContainer = gd.closest('#notebook-container');\n",
       "if (notebookContainer) {{\n",
       "    x.observe(notebookContainer, {childList: true});\n",
       "}}\n",
       "\n",
       "// Listen for the clearing of the current output cell\n",
       "var outputEl = gd.closest('.output');\n",
       "if (outputEl) {{\n",
       "    x.observe(outputEl, {childList: true});\n",
       "}}\n",
       "\n",
       "                        })\n",
       "                };\n",
       "                });\n",
       "            </script>\n",
       "        </div>"
      ]
     },
     "metadata": {},
     "output_type": "display_data"
    }
   ],
   "source": [
    "dfc_non_attendance = dfc.query('suspensión_asistencia > 0')['suspensión_asistencia']\n",
    "myplotly.bar_simple(dfc_non_attendance.index, dfc_non_attendance, colormap='Reds', is_percentage=False)"
   ]
  },
  {
   "cell_type": "markdown",
   "metadata": {},
   "source": [
    "## COMPARATIVA CON LOS ÚLTIMOS CURSOS"
   ]
  },
  {
   "cell_type": "code",
   "execution_count": 54,
   "metadata": {},
   "outputs": [
    {
     "data": {
      "application/vnd.plotly.v1+json": {
       "config": {
        "linkText": "Export to plot.ly",
        "plotlyServerURL": "https://plot.ly",
        "responsive": true,
        "showLink": false
       },
       "data": [
        {
         "name": "C1718",
         "type": "bar",
         "uid": "9c949a1a-7abd-45d6-ac9a-fbff63eff0f7",
         "x": [
          "ESO",
          "FPB",
          "BACH",
          "CFGM",
          "CFGS"
         ],
         "y": [
          6,
          6,
          0,
          1,
          1
         ]
        },
        {
         "name": "C1819",
         "type": "bar",
         "uid": "d6230754-5eb2-4cfe-9947-e062caad27f0",
         "x": [
          "ESO",
          "FPB",
          "BACH",
          "CFGM",
          "CFGS"
         ],
         "y": [
          2,
          1,
          0,
          0,
          0
         ]
        },
        {
         "name": "C1920",
         "type": "bar",
         "uid": "3f7020ea-3e54-40d8-aaf7-3d116609e00e",
         "x": [
          "ESO",
          "FPB",
          "BACH",
          "CFGM",
          "CFGS"
         ],
         "y": [
          4,
          6,
          1,
          0,
          0
         ]
        }
       ],
       "layout": {
        "barmode": "group"
       }
      },
      "text/html": [
       "<div>\n",
       "        \n",
       "        \n",
       "            <div id=\"1186c334-bd1e-4d66-a928-4380fe4afe5c\" class=\"plotly-graph-div\" style=\"height:525px; width:100%;\"></div>\n",
       "            <script type=\"text/javascript\">\n",
       "                require([\"plotly\"], function(Plotly) {\n",
       "                    window.PLOTLYENV=window.PLOTLYENV || {};\n",
       "                    window.PLOTLYENV.BASE_URL='https://plot.ly';\n",
       "                    \n",
       "                if (document.getElementById(\"1186c334-bd1e-4d66-a928-4380fe4afe5c\")) {\n",
       "                    Plotly.newPlot(\n",
       "                        '1186c334-bd1e-4d66-a928-4380fe4afe5c',\n",
       "                        [{\"name\": \"C1718\", \"type\": \"bar\", \"uid\": \"7c1feff7-85f6-415c-b8b7-4cd2c1ea3b97\", \"x\": [\"ESO\", \"FPB\", \"BACH\", \"CFGM\", \"CFGS\"], \"y\": [6.0, 6.0, 0.0, 1.0, 1.0]}, {\"name\": \"C1819\", \"type\": \"bar\", \"uid\": \"f29683c3-919d-4d4a-a1e5-3a04967362ca\", \"x\": [\"ESO\", \"FPB\", \"BACH\", \"CFGM\", \"CFGS\"], \"y\": [2.0, 1.0, 0.0, 0.0, 0.0]}, {\"name\": \"C1920\", \"type\": \"bar\", \"uid\": \"7ecd216e-d862-4370-8a40-3be4164d512f\", \"x\": [\"ESO\", \"FPB\", \"BACH\", \"CFGM\", \"CFGS\"], \"y\": [4.0, 6.0, 1.0, 0.0, 0.0]}],\n",
       "                        {\"barmode\": \"group\"},\n",
       "                        {\"showLink\": false, \"linkText\": \"Export to plot.ly\", \"plotlyServerURL\": \"https://plot.ly\", \"responsive\": true}\n",
       "                    ).then(function(){\n",
       "                            \n",
       "var gd = document.getElementById('1186c334-bd1e-4d66-a928-4380fe4afe5c');\n",
       "var x = new MutationObserver(function (mutations, observer) {{\n",
       "        var display = window.getComputedStyle(gd).display;\n",
       "        if (!display || display === 'none') {{\n",
       "            console.log([gd, 'removed!']);\n",
       "            Plotly.purge(gd);\n",
       "            observer.disconnect();\n",
       "        }}\n",
       "}});\n",
       "\n",
       "// Listen for the removal of the full notebook cells\n",
       "var notebookContainer = gd.closest('#notebook-container');\n",
       "if (notebookContainer) {{\n",
       "    x.observe(notebookContainer, {childList: true});\n",
       "}}\n",
       "\n",
       "// Listen for the clearing of the current output cell\n",
       "var outputEl = gd.closest('.output');\n",
       "if (outputEl) {{\n",
       "    x.observe(outputEl, {childList: true});\n",
       "}}\n",
       "\n",
       "                        })\n",
       "                };\n",
       "                });\n",
       "            </script>\n",
       "        </div>"
      ]
     },
     "metadata": {},
     "output_type": "display_data"
    }
   ],
   "source": [
    "aux = df.groupby(['etapa', 'curso', 'evaluación']).sum().reset_index().set_index('etapa')\n",
    "series = {year: aux.loc[stages].query(f'curso == \"{year}\" & evaluación == \"{labels[-1][1]}\"')['suspensión_asistencia'].values\n",
    "          for year in years}\n",
    "\n",
    "myplotly.cbar(stages, series, is_percentage=False)"
   ]
  },
  {
   "cell_type": "code",
   "execution_count": 55,
   "metadata": {
    "scrolled": false
   },
   "outputs": [
    {
     "data": {
      "text/html": [
       "\n",
       "<div class='alert alert-info' role=\"alert\">\n",
       "    Total de partes de gestión con <b>suspensión</b> del derecho de asistencia: <b>11</b>\n",
       "</div>\n"
      ],
      "text/plain": [
       "<IPython.core.display.HTML object>"
      ]
     },
     "metadata": {},
     "output_type": "display_data"
    }
   ],
   "source": [
    "total_non_attendance = dfc_non_attendance.sum()\n",
    "display(HTML(f'''\n",
    "<div class='alert alert-info' role=\"alert\">\n",
    "    Total de partes de gestión con <b>suspensión</b> del derecho de asistencia: <b>{total_non_attendance:.0f}</b>\n",
    "</div>\n",
    "'''))"
   ]
  },
  {
   "cell_type": "markdown",
   "metadata": {},
   "source": [
    "# RELACIÓN `éxito-competencias básicas`"
   ]
  },
  {
   "cell_type": "markdown",
   "metadata": {},
   "source": [
    "> **NOTA**: Análisis únicamente con grupos de la ESO."
   ]
  },
  {
   "cell_type": "code",
   "execution_count": 56,
   "metadata": {},
   "outputs": [
    {
     "data": {
      "application/vnd.plotly.v1+json": {
       "config": {
        "linkText": "Export to plot.ly",
        "plotlyServerURL": "https://plot.ly",
        "responsive": true,
        "showLink": false
       },
       "data": [
        {
         "marker": {
          "size": 12
         },
         "mode": "markers",
         "name": "",
         "showlegend": false,
         "text": [
          "ESO1A",
          "ESO1B",
          "ESO1C",
          "ESO1D",
          "ESO2A",
          "ESO2B",
          "ESO2C",
          "ESO3A",
          "ESO3B",
          "ESO3C",
          "ESO3D",
          "ESO4A",
          "ESO4B",
          "ESO4C"
         ],
         "type": "scatter",
         "uid": "3c234a6e-1022-4223-a548-51f915198011",
         "x": [
          32,
          23.1,
          25,
          40.7,
          50,
          25,
          12.5,
          15.4,
          26.9,
          28.6,
          16.7,
          47.6,
          40,
          12
         ],
         "y": [
          4.628571428571428,
          4.796428571428572,
          4.757142857142857,
          5.246428571428573,
          4.775,
          4.357142857142857,
          3.392857142857143,
          4.260714285714286,
          4.210714285714285,
          4.357142857142857,
          3.7428571428571433,
          4.546428571428572,
          4.989285714285714,
          4.264285714285714
         ]
        },
        {
         "hoverinfo": "skip",
         "mode": "lines",
         "name": "Regresión",
         "type": "scatter",
         "uid": "fd7bfab7-b9b5-4973-9c94-2143e11e6258",
         "x": [
          32,
          23.1,
          25,
          40.7,
          50,
          25,
          12.5,
          15.4,
          26.9,
          28.6,
          16.7,
          47.6,
          40,
          12
         ],
         "y": [
          4.55216658625204,
          4.31392931678529,
          4.364788958581563,
          4.78505020921392,
          5.033994771690411,
          4.364788958581563,
          4.030186052027139,
          4.107813926347765,
          4.4156486003778355,
          4.461154595669237,
          4.142612628629426,
          4.969751013631962,
          4.766312446446872,
          4.016801935764962
         ]
        }
       ],
       "layout": {
        "height": 600,
        "hovermode": "closest",
        "width": 600,
        "xaxis": {
         "title": {
          "text": "Éxito"
         }
        },
        "yaxis": {
         "title": {
          "text": "Competencias básicas"
         }
        }
       }
      },
      "text/html": [
       "<div>\n",
       "        \n",
       "        \n",
       "            <div id=\"ca56474e-399f-4f6d-8c91-909e0eb7987d\" class=\"plotly-graph-div\" style=\"height:600px; width:600px;\"></div>\n",
       "            <script type=\"text/javascript\">\n",
       "                require([\"plotly\"], function(Plotly) {\n",
       "                    window.PLOTLYENV=window.PLOTLYENV || {};\n",
       "                    window.PLOTLYENV.BASE_URL='https://plot.ly';\n",
       "                    \n",
       "                if (document.getElementById(\"ca56474e-399f-4f6d-8c91-909e0eb7987d\")) {\n",
       "                    Plotly.newPlot(\n",
       "                        'ca56474e-399f-4f6d-8c91-909e0eb7987d',\n",
       "                        [{\"marker\": {\"size\": 12}, \"mode\": \"markers\", \"name\": \"\", \"showlegend\": false, \"text\": [\"ESO1A\", \"ESO1B\", \"ESO1C\", \"ESO1D\", \"ESO2A\", \"ESO2B\", \"ESO2C\", \"ESO3A\", \"ESO3B\", \"ESO3C\", \"ESO3D\", \"ESO4A\", \"ESO4B\", \"ESO4C\"], \"type\": \"scatter\", \"uid\": \"d7e7d5db-8bdd-45f1-9ec0-480544121f5b\", \"x\": [32.0, 23.1, 25.0, 40.7, 50.0, 25.0, 12.5, 15.4, 26.9, 28.6, 16.7, 47.6, 40.0, 12.0], \"y\": [4.628571428571428, 4.796428571428572, 4.757142857142857, 5.246428571428573, 4.775, 4.357142857142857, 3.392857142857143, 4.260714285714286, 4.210714285714285, 4.357142857142857, 3.7428571428571433, 4.546428571428572, 4.989285714285714, 4.264285714285714]}, {\"hoverinfo\": \"skip\", \"mode\": \"lines\", \"name\": \"Regresi\\u00f3n\", \"type\": \"scatter\", \"uid\": \"d2ed2c7c-48f1-4022-9e02-31d772fb3026\", \"x\": [32.0, 23.1, 25.0, 40.7, 50.0, 25.0, 12.5, 15.4, 26.9, 28.6, 16.7, 47.6, 40.0, 12.0], \"y\": [4.55216658625204, 4.31392931678529, 4.364788958581563, 4.78505020921392, 5.033994771690411, 4.364788958581563, 4.030186052027139, 4.107813926347765, 4.4156486003778355, 4.461154595669237, 4.142612628629426, 4.969751013631962, 4.766312446446872, 4.016801935764962]}],\n",
       "                        {\"height\": 600, \"hovermode\": \"closest\", \"width\": 600, \"xaxis\": {\"title\": {\"text\": \"\\u00c9xito\"}}, \"yaxis\": {\"title\": {\"text\": \"Competencias b\\u00e1sicas\"}}},\n",
       "                        {\"showLink\": false, \"linkText\": \"Export to plot.ly\", \"plotlyServerURL\": \"https://plot.ly\", \"responsive\": true}\n",
       "                    ).then(function(){\n",
       "                            \n",
       "var gd = document.getElementById('ca56474e-399f-4f6d-8c91-909e0eb7987d');\n",
       "var x = new MutationObserver(function (mutations, observer) {{\n",
       "        var display = window.getComputedStyle(gd).display;\n",
       "        if (!display || display === 'none') {{\n",
       "            console.log([gd, 'removed!']);\n",
       "            Plotly.purge(gd);\n",
       "            observer.disconnect();\n",
       "        }}\n",
       "}});\n",
       "\n",
       "// Listen for the removal of the full notebook cells\n",
       "var notebookContainer = gd.closest('#notebook-container');\n",
       "if (notebookContainer) {{\n",
       "    x.observe(notebookContainer, {childList: true});\n",
       "}}\n",
       "\n",
       "// Listen for the clearing of the current output cell\n",
       "var outputEl = gd.closest('.output');\n",
       "if (outputEl) {{\n",
       "    x.observe(outputEl, {childList: true});\n",
       "}}\n",
       "\n",
       "                        })\n",
       "                };\n",
       "                });\n",
       "            </script>\n",
       "        </div>"
      ]
     },
     "metadata": {},
     "output_type": "display_data"
    }
   ],
   "source": [
    "myplotly.scatter(dfc_ESO['éxito'], dfc_ESO['ccbb'], dfc_ESO.index,\n",
    "        x_title='Éxito', y_title='Competencias básicas')"
   ]
  },
  {
   "cell_type": "code",
   "execution_count": 57,
   "metadata": {},
   "outputs": [
    {
     "data": {
      "text/html": [
       "\n",
       "    <div class='alert alert-success' role='alert'>\n",
       "        COEFICIENTE DE CORRELACIÓN: <b>0.6882</b>\n",
       "    </div>\n"
      ],
      "text/plain": [
       "<IPython.core.display.HTML object>"
      ]
     },
     "metadata": {},
     "output_type": "display_data"
    }
   ],
   "source": [
    "corr = dfc_ESO.corrwith(dfc['éxito'])['ccbb']\n",
    "display(HTML(f'''\n",
    "    <div class='alert alert-success' role='alert'>\n",
    "        COEFICIENTE DE CORRELACIÓN: <b>{corr:.4f}</b>\n",
    "    </div>\n",
    "'''))"
   ]
  },
  {
   "cell_type": "markdown",
   "metadata": {},
   "source": [
    "## Detección de *outliers*"
   ]
  },
  {
   "cell_type": "markdown",
   "metadata": {},
   "source": [
    "### Bajo éxito y alta adquisición de competencias básicas"
   ]
  },
  {
   "cell_type": "code",
   "execution_count": 58,
   "metadata": {
    "scrolled": false
   },
   "outputs": [
    {
     "data": {
      "text/html": [
       "<div>\n",
       "<style scoped>\n",
       "    .dataframe tbody tr th:only-of-type {\n",
       "        vertical-align: middle;\n",
       "    }\n",
       "\n",
       "    .dataframe tbody tr th {\n",
       "        vertical-align: top;\n",
       "    }\n",
       "\n",
       "    .dataframe thead th {\n",
       "        text-align: right;\n",
       "    }\n",
       "</style>\n",
       "<table border=\"1\" class=\"dataframe\">\n",
       "  <thead>\n",
       "    <tr style=\"text-align: right;\">\n",
       "      <th></th>\n",
       "      <th>éxito</th>\n",
       "      <th>ccbb</th>\n",
       "    </tr>\n",
       "    <tr>\n",
       "      <th>grupo</th>\n",
       "      <th></th>\n",
       "      <th></th>\n",
       "    </tr>\n",
       "  </thead>\n",
       "  <tbody>\n",
       "  </tbody>\n",
       "</table>\n",
       "</div>"
      ],
      "text/plain": [
       "Empty DataFrame\n",
       "Columns: [éxito, ccbb]\n",
       "Index: []"
      ]
     },
     "execution_count": 58,
     "metadata": {},
     "output_type": "execute_result"
    }
   ],
   "source": [
    "dfc_ESO[(dfc_ESO['éxito'] < 20) & (dfc_ESO['ccbb'] > 5)][['éxito', 'ccbb']]"
   ]
  },
  {
   "cell_type": "markdown",
   "metadata": {},
   "source": [
    "### Alto éxito y baja adquisición de competencias básicas"
   ]
  },
  {
   "cell_type": "code",
   "execution_count": 59,
   "metadata": {
    "scrolled": false
   },
   "outputs": [
    {
     "data": {
      "text/html": [
       "<div>\n",
       "<style scoped>\n",
       "    .dataframe tbody tr th:only-of-type {\n",
       "        vertical-align: middle;\n",
       "    }\n",
       "\n",
       "    .dataframe tbody tr th {\n",
       "        vertical-align: top;\n",
       "    }\n",
       "\n",
       "    .dataframe thead th {\n",
       "        text-align: right;\n",
       "    }\n",
       "</style>\n",
       "<table border=\"1\" class=\"dataframe\">\n",
       "  <thead>\n",
       "    <tr style=\"text-align: right;\">\n",
       "      <th></th>\n",
       "      <th>éxito</th>\n",
       "      <th>ccbb</th>\n",
       "    </tr>\n",
       "    <tr>\n",
       "      <th>grupo</th>\n",
       "      <th></th>\n",
       "      <th></th>\n",
       "    </tr>\n",
       "  </thead>\n",
       "  <tbody>\n",
       "  </tbody>\n",
       "</table>\n",
       "</div>"
      ],
      "text/plain": [
       "Empty DataFrame\n",
       "Columns: [éxito, ccbb]\n",
       "Index: []"
      ]
     },
     "execution_count": 59,
     "metadata": {},
     "output_type": "execute_result"
    }
   ],
   "source": [
    "dfc_ESO[(dfc_ESO['éxito'] > 50) & (dfc_ESO['ccbb'] < 4)][['éxito', 'ccbb']]"
   ]
  },
  {
   "cell_type": "markdown",
   "metadata": {},
   "source": [
    "# RELACIÓN `ratio-éxito`"
   ]
  },
  {
   "cell_type": "code",
   "execution_count": 60,
   "metadata": {},
   "outputs": [
    {
     "data": {
      "application/vnd.plotly.v1+json": {
       "config": {
        "linkText": "Export to plot.ly",
        "plotlyServerURL": "https://plot.ly",
        "responsive": true,
        "showLink": false
       },
       "data": [
        {
         "marker": {
          "size": 12
         },
         "mode": "markers",
         "name": "",
         "showlegend": false,
         "text": [
          "ESO1A",
          "ESO1B",
          "ESO1C",
          "ESO1D",
          "ESO2A",
          "ESO2B",
          "ESO2C",
          "ESO3A",
          "ESO3B",
          "ESO3C",
          "ESO3D",
          "ESO4A",
          "ESO4B",
          "ESO4C",
          "1FPB",
          "2FPB",
          "1CIE",
          "1SOC",
          "2CIE",
          "2SOC",
          "1TEL",
          "1ELE",
          "1CAR",
          "2TEL",
          "2ELE",
          "2CAR",
          "1ARI",
          "1ALO",
          "1GIT",
          "1ASR",
          "1DAW",
          "2ARI",
          "2ALO",
          "2GIT",
          "2ASR",
          "2DAW"
         ],
         "type": "scatter",
         "uid": "b76ec7ea-5056-4726-9690-0fc67162c16a",
         "x": [
          25,
          26,
          28,
          27,
          24,
          16,
          8,
          26,
          26,
          28,
          12,
          21,
          25,
          25,
          15,
          7,
          17,
          25,
          19,
          24,
          17,
          17,
          20,
          9,
          13,
          11,
          14,
          29,
          28,
          29,
          29,
          15,
          23,
          23,
          19,
          13
         ],
         "y": [
          32,
          23.1,
          25,
          40.7,
          50,
          25,
          12.5,
          15.4,
          26.9,
          28.6,
          16.7,
          47.6,
          40,
          12,
          33.3,
          28.6,
          52.9,
          24,
          47.4,
          25,
          23.5,
          23.5,
          25,
          88.9,
          30.8,
          27.3,
          71.4,
          62.1,
          71.4,
          41.4,
          34.5,
          46.7,
          95.7,
          78.3,
          84.2,
          38.5
         ]
        },
        {
         "hoverinfo": "skip",
         "mode": "lines",
         "name": "Regresión",
         "type": "scatter",
         "uid": "56e2bc15-a6d0-4348-ae5b-d976c42e421e",
         "x": [
          25,
          26,
          28,
          27,
          24,
          16,
          8,
          26,
          26,
          28,
          12,
          21,
          25,
          25,
          15,
          7,
          17,
          25,
          19,
          24,
          17,
          17,
          20,
          9,
          13,
          11,
          14,
          29,
          28,
          29,
          29,
          15,
          23,
          23,
          19,
          13
         ],
         "y": [
          40.519573535487815,
          40.57229597427561,
          40.67774085185119,
          40.6250184130634,
          40.466851096700026,
          40.04507158639769,
          39.62329207609536,
          40.57229597427561,
          40.57229597427561,
          40.67774085185119,
          39.834181831246525,
          40.30868378033665,
          40.519573535487815,
          40.519573535487815,
          39.9923491476099,
          39.570569637307564,
          40.097794025185486,
          40.519573535487815,
          40.203238902761065,
          40.466851096700026,
          40.097794025185486,
          40.097794025185486,
          40.25596134154886,
          39.67601451488315,
          39.886904270034314,
          39.781459392458736,
          39.93962670882211,
          40.73046329063898,
          40.67774085185119,
          40.73046329063898,
          40.73046329063898,
          39.9923491476099,
          40.41412865791224,
          40.41412865791224,
          40.203238902761065,
          39.886904270034314
         ]
        }
       ],
       "layout": {
        "height": 600,
        "hovermode": "closest",
        "width": 600,
        "xaxis": {
         "title": {
          "text": "Ratio"
         }
        },
        "yaxis": {
         "title": {
          "text": "Éxito"
         }
        }
       }
      },
      "text/html": [
       "<div>\n",
       "        \n",
       "        \n",
       "            <div id=\"a7518b53-487f-479f-841c-6963e82dd310\" class=\"plotly-graph-div\" style=\"height:600px; width:600px;\"></div>\n",
       "            <script type=\"text/javascript\">\n",
       "                require([\"plotly\"], function(Plotly) {\n",
       "                    window.PLOTLYENV=window.PLOTLYENV || {};\n",
       "                    window.PLOTLYENV.BASE_URL='https://plot.ly';\n",
       "                    \n",
       "                if (document.getElementById(\"a7518b53-487f-479f-841c-6963e82dd310\")) {\n",
       "                    Plotly.newPlot(\n",
       "                        'a7518b53-487f-479f-841c-6963e82dd310',\n",
       "                        [{\"marker\": {\"size\": 12}, \"mode\": \"markers\", \"name\": \"\", \"showlegend\": false, \"text\": [\"ESO1A\", \"ESO1B\", \"ESO1C\", \"ESO1D\", \"ESO2A\", \"ESO2B\", \"ESO2C\", \"ESO3A\", \"ESO3B\", \"ESO3C\", \"ESO3D\", \"ESO4A\", \"ESO4B\", \"ESO4C\", \"1FPB\", \"2FPB\", \"1CIE\", \"1SOC\", \"2CIE\", \"2SOC\", \"1TEL\", \"1ELE\", \"1CAR\", \"2TEL\", \"2ELE\", \"2CAR\", \"1ARI\", \"1ALO\", \"1GIT\", \"1ASR\", \"1DAW\", \"2ARI\", \"2ALO\", \"2GIT\", \"2ASR\", \"2DAW\"], \"type\": \"scatter\", \"uid\": \"3807510b-8db5-440e-9282-eb05d74e2dc4\", \"x\": [25, 26, 28, 27, 24, 16, 8, 26, 26, 28, 12, 21, 25, 25, 15, 7, 17, 25, 19, 24, 17, 17, 20, 9, 13, 11, 14, 29, 28, 29, 29, 15, 23, 23, 19, 13], \"y\": [32.0, 23.1, 25.0, 40.7, 50.0, 25.0, 12.5, 15.4, 26.9, 28.6, 16.7, 47.6, 40.0, 12.0, 33.3, 28.6, 52.9, 24.0, 47.4, 25.0, 23.5, 23.5, 25.0, 88.9, 30.8, 27.3, 71.4, 62.1, 71.4, 41.4, 34.5, 46.7, 95.7, 78.3, 84.2, 38.5]}, {\"hoverinfo\": \"skip\", \"mode\": \"lines\", \"name\": \"Regresi\\u00f3n\", \"type\": \"scatter\", \"uid\": \"4200723f-5ae7-4b00-9d2c-dc40b2ed3a35\", \"x\": [25, 26, 28, 27, 24, 16, 8, 26, 26, 28, 12, 21, 25, 25, 15, 7, 17, 25, 19, 24, 17, 17, 20, 9, 13, 11, 14, 29, 28, 29, 29, 15, 23, 23, 19, 13], \"y\": [40.519573535487815, 40.57229597427561, 40.67774085185119, 40.6250184130634, 40.466851096700026, 40.04507158639769, 39.62329207609536, 40.57229597427561, 40.57229597427561, 40.67774085185119, 39.834181831246525, 40.30868378033665, 40.519573535487815, 40.519573535487815, 39.9923491476099, 39.570569637307564, 40.097794025185486, 40.519573535487815, 40.203238902761065, 40.466851096700026, 40.097794025185486, 40.097794025185486, 40.25596134154886, 39.67601451488315, 39.886904270034314, 39.781459392458736, 39.93962670882211, 40.73046329063898, 40.67774085185119, 40.73046329063898, 40.73046329063898, 39.9923491476099, 40.41412865791224, 40.41412865791224, 40.203238902761065, 39.886904270034314]}],\n",
       "                        {\"height\": 600, \"hovermode\": \"closest\", \"width\": 600, \"xaxis\": {\"title\": {\"text\": \"Ratio\"}}, \"yaxis\": {\"title\": {\"text\": \"\\u00c9xito\"}}},\n",
       "                        {\"showLink\": false, \"linkText\": \"Export to plot.ly\", \"plotlyServerURL\": \"https://plot.ly\", \"responsive\": true}\n",
       "                    ).then(function(){\n",
       "                            \n",
       "var gd = document.getElementById('a7518b53-487f-479f-841c-6963e82dd310');\n",
       "var x = new MutationObserver(function (mutations, observer) {{\n",
       "        var display = window.getComputedStyle(gd).display;\n",
       "        if (!display || display === 'none') {{\n",
       "            console.log([gd, 'removed!']);\n",
       "            Plotly.purge(gd);\n",
       "            observer.disconnect();\n",
       "        }}\n",
       "}});\n",
       "\n",
       "// Listen for the removal of the full notebook cells\n",
       "var notebookContainer = gd.closest('#notebook-container');\n",
       "if (notebookContainer) {{\n",
       "    x.observe(notebookContainer, {childList: true});\n",
       "}}\n",
       "\n",
       "// Listen for the clearing of the current output cell\n",
       "var outputEl = gd.closest('.output');\n",
       "if (outputEl) {{\n",
       "    x.observe(outputEl, {childList: true});\n",
       "}}\n",
       "\n",
       "                        })\n",
       "                };\n",
       "                });\n",
       "            </script>\n",
       "        </div>"
      ]
     },
     "metadata": {},
     "output_type": "display_data"
    }
   ],
   "source": [
    "myplotly.scatter(dfc['ratio'], dfc['éxito'], dfc.index,\n",
    "        x_title='Ratio', y_title='Éxito')"
   ]
  },
  {
   "cell_type": "code",
   "execution_count": 61,
   "metadata": {},
   "outputs": [
    {
     "data": {
      "text/html": [
       "\n",
       "    <div class='alert alert-success' role='alert'>\n",
       "        COEFICIENTE DE CORRELACIÓN: <b>0.0158</b>\n",
       "    </div>\n"
      ],
      "text/plain": [
       "<IPython.core.display.HTML object>"
      ]
     },
     "metadata": {},
     "output_type": "display_data"
    }
   ],
   "source": [
    "corr = dfc.corrwith(dfc['ratio'])['éxito']\n",
    "display(HTML(f'''\n",
    "    <div class='alert alert-success' role='alert'>\n",
    "        COEFICIENTE DE CORRELACIÓN: <b>{corr:.4f}</b>\n",
    "    </div>\n",
    "'''))"
   ]
  },
  {
   "cell_type": "markdown",
   "metadata": {},
   "source": [
    "## Detección de *outliers*"
   ]
  },
  {
   "cell_type": "markdown",
   "metadata": {},
   "source": [
    "### Baja ratio y bajo éxito"
   ]
  },
  {
   "cell_type": "code",
   "execution_count": 62,
   "metadata": {
    "scrolled": false
   },
   "outputs": [
    {
     "data": {
      "text/html": [
       "<div>\n",
       "<style scoped>\n",
       "    .dataframe tbody tr th:only-of-type {\n",
       "        vertical-align: middle;\n",
       "    }\n",
       "\n",
       "    .dataframe tbody tr th {\n",
       "        vertical-align: top;\n",
       "    }\n",
       "\n",
       "    .dataframe thead th {\n",
       "        text-align: right;\n",
       "    }\n",
       "</style>\n",
       "<table border=\"1\" class=\"dataframe\">\n",
       "  <thead>\n",
       "    <tr style=\"text-align: right;\">\n",
       "      <th></th>\n",
       "      <th>ratio</th>\n",
       "      <th>éxito</th>\n",
       "    </tr>\n",
       "    <tr>\n",
       "      <th>grupo</th>\n",
       "      <th></th>\n",
       "      <th></th>\n",
       "    </tr>\n",
       "  </thead>\n",
       "  <tbody>\n",
       "    <tr>\n",
       "      <th>ESO2C</th>\n",
       "      <td>8</td>\n",
       "      <td>12.5</td>\n",
       "    </tr>\n",
       "    <tr>\n",
       "      <th>ESO3D</th>\n",
       "      <td>12</td>\n",
       "      <td>16.7</td>\n",
       "    </tr>\n",
       "  </tbody>\n",
       "</table>\n",
       "</div>"
      ],
      "text/plain": [
       "       ratio  éxito\n",
       "grupo              \n",
       "ESO2C      8   12.5\n",
       "ESO3D     12   16.7"
      ]
     },
     "execution_count": 62,
     "metadata": {},
     "output_type": "execute_result"
    }
   ],
   "source": [
    "dfc[(dfc['ratio'] < 20) & (dfc['éxito'] < 20)][['ratio', 'éxito']]"
   ]
  },
  {
   "cell_type": "markdown",
   "metadata": {},
   "source": [
    "### Alta ratio y alto éxito"
   ]
  },
  {
   "cell_type": "code",
   "execution_count": 63,
   "metadata": {
    "scrolled": false
   },
   "outputs": [
    {
     "data": {
      "text/html": [
       "<div>\n",
       "<style scoped>\n",
       "    .dataframe tbody tr th:only-of-type {\n",
       "        vertical-align: middle;\n",
       "    }\n",
       "\n",
       "    .dataframe tbody tr th {\n",
       "        vertical-align: top;\n",
       "    }\n",
       "\n",
       "    .dataframe thead th {\n",
       "        text-align: right;\n",
       "    }\n",
       "</style>\n",
       "<table border=\"1\" class=\"dataframe\">\n",
       "  <thead>\n",
       "    <tr style=\"text-align: right;\">\n",
       "      <th></th>\n",
       "      <th>ratio</th>\n",
       "      <th>éxito</th>\n",
       "    </tr>\n",
       "    <tr>\n",
       "      <th>grupo</th>\n",
       "      <th></th>\n",
       "      <th></th>\n",
       "    </tr>\n",
       "  </thead>\n",
       "  <tbody>\n",
       "    <tr>\n",
       "      <th>1ALO</th>\n",
       "      <td>29</td>\n",
       "      <td>62.1</td>\n",
       "    </tr>\n",
       "    <tr>\n",
       "      <th>1GIT</th>\n",
       "      <td>28</td>\n",
       "      <td>71.4</td>\n",
       "    </tr>\n",
       "  </tbody>\n",
       "</table>\n",
       "</div>"
      ],
      "text/plain": [
       "       ratio  éxito\n",
       "grupo              \n",
       "1ALO      29   62.1\n",
       "1GIT      28   71.4"
      ]
     },
     "execution_count": 63,
     "metadata": {},
     "output_type": "execute_result"
    }
   ],
   "source": [
    "dfc[(dfc['ratio'] > 25) & (dfc['éxito'] > 50)][['ratio', 'éxito']]"
   ]
  },
  {
   "cell_type": "markdown",
   "metadata": {},
   "source": [
    "# RELACIÓN `absentismo-éxito`"
   ]
  },
  {
   "cell_type": "code",
   "execution_count": 64,
   "metadata": {},
   "outputs": [
    {
     "data": {
      "application/vnd.plotly.v1+json": {
       "config": {
        "linkText": "Export to plot.ly",
        "plotlyServerURL": "https://plot.ly",
        "responsive": true,
        "showLink": false
       },
       "data": [
        {
         "marker": {
          "size": 12
         },
         "mode": "markers",
         "name": "",
         "showlegend": false,
         "text": [
          "ESO1A",
          "ESO1B",
          "ESO1C",
          "ESO1D",
          "ESO2A",
          "ESO2B",
          "ESO2C",
          "ESO3A",
          "ESO3B",
          "ESO3C",
          "ESO3D",
          "ESO4A",
          "ESO4B",
          "ESO4C",
          "1FPB",
          "2FPB",
          "1CIE",
          "1SOC",
          "2CIE",
          "2SOC",
          "1TEL",
          "1ELE",
          "1CAR",
          "2TEL",
          "2ELE",
          "2CAR",
          "1ARI",
          "1ALO",
          "1GIT",
          "1ASR",
          "1DAW",
          "2ARI",
          "2ALO",
          "2GIT",
          "2ASR",
          "2DAW"
         ],
         "type": "scatter",
         "uid": "60ec4e66-8654-47de-9199-0dbf84cc1e59",
         "x": [
          3.48,
          4.86,
          3.5300000000000002,
          6.32,
          4.56,
          3.5500000000000003,
          11.88,
          4.97,
          6.61,
          5.01,
          6.17,
          5.34,
          5.13,
          9.14,
          23.29,
          26.72,
          4.02,
          8.77,
          5.53,
          6.27,
          20.75,
          15.290000000000001,
          20.919999999999998,
          19.83,
          14.93,
          11.08,
          10.43,
          12.76,
          13.27,
          10.97,
          9.73,
          8.1,
          7.66,
          10.84,
          7.1000000000000005,
          18.02
         ],
         "y": [
          32,
          23.1,
          25,
          40.7,
          50,
          25,
          12.5,
          15.4,
          26.9,
          28.6,
          16.7,
          47.6,
          40,
          12,
          33.3,
          28.6,
          52.9,
          24,
          47.4,
          25,
          23.5,
          23.5,
          25,
          88.9,
          30.8,
          27.3,
          71.4,
          62.1,
          71.4,
          41.4,
          34.5,
          46.7,
          95.7,
          78.3,
          84.2,
          38.5
         ]
        },
        {
         "hoverinfo": "skip",
         "mode": "lines",
         "name": "Regresión",
         "type": "scatter",
         "uid": "bf07ed17-35fd-4b37-90a4-66a1c9011a8b",
         "x": [
          3.48,
          4.86,
          3.5300000000000002,
          6.32,
          4.56,
          3.5500000000000003,
          11.88,
          4.97,
          6.61,
          5.01,
          6.17,
          5.34,
          5.13,
          9.14,
          23.29,
          26.72,
          4.02,
          8.77,
          5.53,
          6.27,
          20.75,
          15.290000000000001,
          20.919999999999998,
          19.83,
          14.93,
          11.08,
          10.43,
          12.76,
          13.27,
          10.97,
          9.73,
          8.1,
          7.66,
          10.84,
          7.1000000000000005,
          18.02
         ],
         "y": [
          39.60615354920618,
          39.743716338175076,
          39.61113770822679,
          39.889253781576954,
          39.713811384051404,
          39.61313137183504,
          40.44349226466903,
          39.754681488020424,
          39.918161903896504,
          39.758668815236916,
          39.874301304515114,
          39.79156426477295,
          39.77063079688638,
          40.170360350339486,
          41.580877353172745,
          41.92279066198674,
          39.65998246662879,
          40.13347757358695,
          39.81050406905128,
          39.88426962255634,
          41.32768207492564,
          40.783411909874786,
          41.34462821559572,
          41.235973548946376,
          40.74752596492638,
          40.36374572033924,
          40.29895165307128,
          40.53121346343181,
          40.582051885442056,
          40.35278057049389,
          40.22917342678271,
          40.06668984271075,
          40.02282924332936,
          40.3398217570403,
          39.9670066622985,
          41.05554699240022
         ]
        }
       ],
       "layout": {
        "height": 600,
        "hovermode": "closest",
        "width": 600,
        "xaxis": {
         "title": {
          "text": "Absentismo"
         }
        },
        "yaxis": {
         "title": {
          "text": "Éxito"
         }
        }
       }
      },
      "text/html": [
       "<div>\n",
       "        \n",
       "        \n",
       "            <div id=\"f5aabb24-28c2-4c2e-a3dc-ac7cdf1184a5\" class=\"plotly-graph-div\" style=\"height:600px; width:600px;\"></div>\n",
       "            <script type=\"text/javascript\">\n",
       "                require([\"plotly\"], function(Plotly) {\n",
       "                    window.PLOTLYENV=window.PLOTLYENV || {};\n",
       "                    window.PLOTLYENV.BASE_URL='https://plot.ly';\n",
       "                    \n",
       "                if (document.getElementById(\"f5aabb24-28c2-4c2e-a3dc-ac7cdf1184a5\")) {\n",
       "                    Plotly.newPlot(\n",
       "                        'f5aabb24-28c2-4c2e-a3dc-ac7cdf1184a5',\n",
       "                        [{\"marker\": {\"size\": 12}, \"mode\": \"markers\", \"name\": \"\", \"showlegend\": false, \"text\": [\"ESO1A\", \"ESO1B\", \"ESO1C\", \"ESO1D\", \"ESO2A\", \"ESO2B\", \"ESO2C\", \"ESO3A\", \"ESO3B\", \"ESO3C\", \"ESO3D\", \"ESO4A\", \"ESO4B\", \"ESO4C\", \"1FPB\", \"2FPB\", \"1CIE\", \"1SOC\", \"2CIE\", \"2SOC\", \"1TEL\", \"1ELE\", \"1CAR\", \"2TEL\", \"2ELE\", \"2CAR\", \"1ARI\", \"1ALO\", \"1GIT\", \"1ASR\", \"1DAW\", \"2ARI\", \"2ALO\", \"2GIT\", \"2ASR\", \"2DAW\"], \"type\": \"scatter\", \"uid\": \"6f5a22bb-61e7-4bae-b7a7-54be6328252b\", \"x\": [3.48, 4.86, 3.5300000000000002, 6.32, 4.56, 3.5500000000000003, 11.88, 4.97, 6.61, 5.01, 6.17, 5.34, 5.13, 9.14, 23.29, 26.72, 4.02, 8.77, 5.53, 6.27, 20.75, 15.290000000000001, 20.919999999999998, 19.83, 14.93, 11.08, 10.43, 12.76, 13.27, 10.97, 9.73, 8.1, 7.66, 10.84, 7.1000000000000005, 18.02], \"y\": [32.0, 23.1, 25.0, 40.7, 50.0, 25.0, 12.5, 15.4, 26.9, 28.6, 16.7, 47.6, 40.0, 12.0, 33.3, 28.6, 52.9, 24.0, 47.4, 25.0, 23.5, 23.5, 25.0, 88.9, 30.8, 27.3, 71.4, 62.1, 71.4, 41.4, 34.5, 46.7, 95.7, 78.3, 84.2, 38.5]}, {\"hoverinfo\": \"skip\", \"mode\": \"lines\", \"name\": \"Regresi\\u00f3n\", \"type\": \"scatter\", \"uid\": \"9680528b-89b2-4183-a164-7e05357c4ca5\", \"x\": [3.48, 4.86, 3.5300000000000002, 6.32, 4.56, 3.5500000000000003, 11.88, 4.97, 6.61, 5.01, 6.17, 5.34, 5.13, 9.14, 23.29, 26.72, 4.02, 8.77, 5.53, 6.27, 20.75, 15.290000000000001, 20.919999999999998, 19.83, 14.93, 11.08, 10.43, 12.76, 13.27, 10.97, 9.73, 8.1, 7.66, 10.84, 7.1000000000000005, 18.02], \"y\": [39.60615354920618, 39.743716338175076, 39.61113770822679, 39.889253781576954, 39.713811384051404, 39.61313137183504, 40.44349226466903, 39.754681488020424, 39.918161903896504, 39.758668815236916, 39.874301304515114, 39.79156426477295, 39.77063079688638, 40.170360350339486, 41.580877353172745, 41.92279066198674, 39.65998246662879, 40.13347757358695, 39.81050406905128, 39.88426962255634, 41.32768207492564, 40.783411909874786, 41.34462821559572, 41.235973548946376, 40.74752596492638, 40.36374572033924, 40.29895165307128, 40.53121346343181, 40.582051885442056, 40.35278057049389, 40.22917342678271, 40.06668984271075, 40.02282924332936, 40.3398217570403, 39.9670066622985, 41.05554699240022]}],\n",
       "                        {\"height\": 600, \"hovermode\": \"closest\", \"width\": 600, \"xaxis\": {\"title\": {\"text\": \"Absentismo\"}}, \"yaxis\": {\"title\": {\"text\": \"\\u00c9xito\"}}},\n",
       "                        {\"showLink\": false, \"linkText\": \"Export to plot.ly\", \"plotlyServerURL\": \"https://plot.ly\", \"responsive\": true}\n",
       "                    ).then(function(){\n",
       "                            \n",
       "var gd = document.getElementById('f5aabb24-28c2-4c2e-a3dc-ac7cdf1184a5');\n",
       "var x = new MutationObserver(function (mutations, observer) {{\n",
       "        var display = window.getComputedStyle(gd).display;\n",
       "        if (!display || display === 'none') {{\n",
       "            console.log([gd, 'removed!']);\n",
       "            Plotly.purge(gd);\n",
       "            observer.disconnect();\n",
       "        }}\n",
       "}});\n",
       "\n",
       "// Listen for the removal of the full notebook cells\n",
       "var notebookContainer = gd.closest('#notebook-container');\n",
       "if (notebookContainer) {{\n",
       "    x.observe(notebookContainer, {childList: true});\n",
       "}}\n",
       "\n",
       "// Listen for the clearing of the current output cell\n",
       "var outputEl = gd.closest('.output');\n",
       "if (outputEl) {{\n",
       "    x.observe(outputEl, {childList: true});\n",
       "}}\n",
       "\n",
       "                        })\n",
       "                };\n",
       "                });\n",
       "            </script>\n",
       "        </div>"
      ]
     },
     "metadata": {},
     "output_type": "display_data"
    }
   ],
   "source": [
    "myplotly.scatter(dfc['absentismo'], dfc['éxito'], dfc.index,\n",
    "        x_title='Absentismo', y_title='Éxito')"
   ]
  },
  {
   "cell_type": "code",
   "execution_count": 65,
   "metadata": {},
   "outputs": [
    {
     "data": {
      "text/html": [
       "\n",
       "    <div class='alert alert-success' role='alert'>\n",
       "        COEFICIENTE DE CORRELACIÓN: <b>0.0277</b>\n",
       "    </div>\n"
      ],
      "text/plain": [
       "<IPython.core.display.HTML object>"
      ]
     },
     "metadata": {},
     "output_type": "display_data"
    }
   ],
   "source": [
    "corr = dfc.corrwith(dfc['absentismo'])['éxito']\n",
    "display(HTML(f'''\n",
    "    <div class='alert alert-success' role='alert'>\n",
    "        COEFICIENTE DE CORRELACIÓN: <b>{corr:.4f}</b>\n",
    "    </div>\n",
    "'''))"
   ]
  },
  {
   "cell_type": "markdown",
   "metadata": {},
   "source": [
    "## Detección de *outliers*"
   ]
  },
  {
   "cell_type": "markdown",
   "metadata": {},
   "source": [
    "### Bajo absentismo y bajo éxito"
   ]
  },
  {
   "cell_type": "code",
   "execution_count": 66,
   "metadata": {
    "scrolled": false
   },
   "outputs": [
    {
     "data": {
      "text/html": [
       "<div>\n",
       "<style scoped>\n",
       "    .dataframe tbody tr th:only-of-type {\n",
       "        vertical-align: middle;\n",
       "    }\n",
       "\n",
       "    .dataframe tbody tr th {\n",
       "        vertical-align: top;\n",
       "    }\n",
       "\n",
       "    .dataframe thead th {\n",
       "        text-align: right;\n",
       "    }\n",
       "</style>\n",
       "<table border=\"1\" class=\"dataframe\">\n",
       "  <thead>\n",
       "    <tr style=\"text-align: right;\">\n",
       "      <th></th>\n",
       "      <th>absentismo</th>\n",
       "      <th>éxito</th>\n",
       "    </tr>\n",
       "    <tr>\n",
       "      <th>grupo</th>\n",
       "      <th></th>\n",
       "      <th></th>\n",
       "    </tr>\n",
       "  </thead>\n",
       "  <tbody>\n",
       "    <tr>\n",
       "      <th>ESO4C</th>\n",
       "      <td>9.14</td>\n",
       "      <td>12.0</td>\n",
       "    </tr>\n",
       "  </tbody>\n",
       "</table>\n",
       "</div>"
      ],
      "text/plain": [
       "       absentismo  éxito\n",
       "grupo                   \n",
       "ESO4C        9.14   12.0"
      ]
     },
     "execution_count": 66,
     "metadata": {},
     "output_type": "execute_result"
    }
   ],
   "source": [
    "dfc[(dfc['absentismo'] < 10) & (dfc['éxito'] < 15)][['absentismo', 'éxito']]"
   ]
  },
  {
   "cell_type": "markdown",
   "metadata": {},
   "source": [
    "### Alto absentismo y alto éxito"
   ]
  },
  {
   "cell_type": "code",
   "execution_count": 67,
   "metadata": {
    "scrolled": false
   },
   "outputs": [
    {
     "data": {
      "text/html": [
       "<div>\n",
       "<style scoped>\n",
       "    .dataframe tbody tr th:only-of-type {\n",
       "        vertical-align: middle;\n",
       "    }\n",
       "\n",
       "    .dataframe tbody tr th {\n",
       "        vertical-align: top;\n",
       "    }\n",
       "\n",
       "    .dataframe thead th {\n",
       "        text-align: right;\n",
       "    }\n",
       "</style>\n",
       "<table border=\"1\" class=\"dataframe\">\n",
       "  <thead>\n",
       "    <tr style=\"text-align: right;\">\n",
       "      <th></th>\n",
       "      <th>absentismo</th>\n",
       "      <th>éxito</th>\n",
       "    </tr>\n",
       "    <tr>\n",
       "      <th>grupo</th>\n",
       "      <th></th>\n",
       "      <th></th>\n",
       "    </tr>\n",
       "  </thead>\n",
       "  <tbody>\n",
       "  </tbody>\n",
       "</table>\n",
       "</div>"
      ],
      "text/plain": [
       "Empty DataFrame\n",
       "Columns: [absentismo, éxito]\n",
       "Index: []"
      ]
     },
     "execution_count": 67,
     "metadata": {},
     "output_type": "execute_result"
    }
   ],
   "source": [
    "dfc[(dfc['absentismo'] > 25) & (dfc['éxito'] > 50)][['absentismo', 'éxito']]"
   ]
  },
  {
   "cell_type": "markdown",
   "metadata": {},
   "source": [
    "# RELACIÓN `partes-éxito`"
   ]
  },
  {
   "cell_type": "code",
   "execution_count": 68,
   "metadata": {},
   "outputs": [
    {
     "data": {
      "application/vnd.plotly.v1+json": {
       "config": {
        "linkText": "Export to plot.ly",
        "plotlyServerURL": "https://plot.ly",
        "responsive": true,
        "showLink": false
       },
       "data": [
        {
         "marker": {
          "size": 12
         },
         "mode": "markers",
         "name": "",
         "showlegend": false,
         "text": [
          "ESO1A",
          "ESO1B",
          "ESO1C",
          "ESO1D",
          "ESO2A",
          "ESO2B",
          "ESO2C",
          "ESO3A",
          "ESO3B",
          "ESO3C",
          "ESO3D",
          "ESO4A",
          "ESO4B",
          "ESO4C",
          "1FPB",
          "2FPB",
          "1CIE",
          "1SOC",
          "2CIE",
          "2SOC",
          "1TEL",
          "1ELE",
          "1CAR",
          "2TEL",
          "2ELE",
          "2CAR",
          "1ARI",
          "1ALO",
          "1GIT",
          "1ASR",
          "1DAW",
          "2ARI",
          "2ALO",
          "2GIT",
          "2ASR",
          "2DAW"
         ],
         "type": "scatter",
         "uid": "2d095224-b4f5-4643-a878-a3c58aafbf5d",
         "x": [
          1,
          0,
          2,
          1,
          3,
          3,
          6,
          0,
          0,
          3,
          0,
          0,
          0,
          5,
          10,
          6,
          0,
          7,
          0,
          0,
          0,
          0,
          0,
          0,
          0,
          0,
          0,
          0,
          0,
          0,
          0,
          0,
          0,
          0,
          0,
          0
         ],
         "y": [
          32,
          23.1,
          25,
          40.7,
          50,
          25,
          12.5,
          15.4,
          26.9,
          28.6,
          16.7,
          47.6,
          40,
          12,
          33.3,
          28.6,
          52.9,
          24,
          47.4,
          25,
          23.5,
          23.5,
          25,
          88.9,
          30.8,
          27.3,
          71.4,
          62.1,
          71.4,
          41.4,
          34.5,
          46.7,
          95.7,
          78.3,
          84.2,
          38.5
         ]
        },
        {
         "hoverinfo": "skip",
         "mode": "lines",
         "name": "Regresión",
         "type": "scatter",
         "uid": "39c5a545-c7c2-483e-9070-0f15dd542941",
         "x": [
          1,
          0,
          2,
          1,
          3,
          3,
          6,
          0,
          0,
          3,
          0,
          0,
          0,
          5,
          10,
          6,
          0,
          7,
          0,
          0,
          0,
          0,
          0,
          0,
          0,
          0,
          0,
          0,
          0,
          0,
          0,
          0,
          0,
          0,
          0,
          0
         ],
         "y": [
          41.19013401403957,
          44.18511805998724,
          38.1951499680919,
          41.19013401403957,
          35.20016592214423,
          35.20016592214423,
          26.21521378430122,
          44.18511805998724,
          44.18511805998724,
          35.20016592214423,
          44.18511805998724,
          44.18511805998724,
          44.18511805998724,
          29.210197830248887,
          14.235277600510535,
          26.21521378430122,
          44.18511805998724,
          23.22022973835355,
          44.18511805998724,
          44.18511805998724,
          44.18511805998724,
          44.18511805998724,
          44.18511805998724,
          44.18511805998724,
          44.18511805998724,
          44.18511805998724,
          44.18511805998724,
          44.18511805998724,
          44.18511805998724,
          44.18511805998724,
          44.18511805998724,
          44.18511805998724,
          44.18511805998724,
          44.18511805998724,
          44.18511805998724,
          44.18511805998724
         ]
        }
       ],
       "layout": {
        "height": 600,
        "hovermode": "closest",
        "width": 600,
        "xaxis": {
         "title": {
          "text": "Partes de gestión"
         }
        },
        "yaxis": {
         "title": {
          "text": "Éxito"
         }
        }
       }
      },
      "text/html": [
       "<div>\n",
       "        \n",
       "        \n",
       "            <div id=\"2d11fce8-feeb-4525-ac7a-886f70f30e0d\" class=\"plotly-graph-div\" style=\"height:600px; width:600px;\"></div>\n",
       "            <script type=\"text/javascript\">\n",
       "                require([\"plotly\"], function(Plotly) {\n",
       "                    window.PLOTLYENV=window.PLOTLYENV || {};\n",
       "                    window.PLOTLYENV.BASE_URL='https://plot.ly';\n",
       "                    \n",
       "                if (document.getElementById(\"2d11fce8-feeb-4525-ac7a-886f70f30e0d\")) {\n",
       "                    Plotly.newPlot(\n",
       "                        '2d11fce8-feeb-4525-ac7a-886f70f30e0d',\n",
       "                        [{\"marker\": {\"size\": 12}, \"mode\": \"markers\", \"name\": \"\", \"showlegend\": false, \"text\": [\"ESO1A\", \"ESO1B\", \"ESO1C\", \"ESO1D\", \"ESO2A\", \"ESO2B\", \"ESO2C\", \"ESO3A\", \"ESO3B\", \"ESO3C\", \"ESO3D\", \"ESO4A\", \"ESO4B\", \"ESO4C\", \"1FPB\", \"2FPB\", \"1CIE\", \"1SOC\", \"2CIE\", \"2SOC\", \"1TEL\", \"1ELE\", \"1CAR\", \"2TEL\", \"2ELE\", \"2CAR\", \"1ARI\", \"1ALO\", \"1GIT\", \"1ASR\", \"1DAW\", \"2ARI\", \"2ALO\", \"2GIT\", \"2ASR\", \"2DAW\"], \"type\": \"scatter\", \"uid\": \"8680a253-cebb-41cb-9d26-b2e8a5b11de3\", \"x\": [1.0, 0.0, 2.0, 1.0, 3.0, 3.0, 6.0, 0.0, 0.0, 3.0, 0.0, 0.0, 0.0, 5.0, 10.0, 6.0, 0.0, 7.0, 0.0, 0.0, 0.0, 0.0, 0.0, 0.0, 0.0, 0.0, 0.0, 0.0, 0.0, 0.0, 0.0, 0.0, 0.0, 0.0, 0.0, 0.0], \"y\": [32.0, 23.1, 25.0, 40.7, 50.0, 25.0, 12.5, 15.4, 26.9, 28.6, 16.7, 47.6, 40.0, 12.0, 33.3, 28.6, 52.9, 24.0, 47.4, 25.0, 23.5, 23.5, 25.0, 88.9, 30.8, 27.3, 71.4, 62.1, 71.4, 41.4, 34.5, 46.7, 95.7, 78.3, 84.2, 38.5]}, {\"hoverinfo\": \"skip\", \"mode\": \"lines\", \"name\": \"Regresi\\u00f3n\", \"type\": \"scatter\", \"uid\": \"1d18d0e2-52d2-40b8-bdf8-56d557849c25\", \"x\": [1.0, 0.0, 2.0, 1.0, 3.0, 3.0, 6.0, 0.0, 0.0, 3.0, 0.0, 0.0, 0.0, 5.0, 10.0, 6.0, 0.0, 7.0, 0.0, 0.0, 0.0, 0.0, 0.0, 0.0, 0.0, 0.0, 0.0, 0.0, 0.0, 0.0, 0.0, 0.0, 0.0, 0.0, 0.0, 0.0], \"y\": [41.19013401403957, 44.18511805998724, 38.1951499680919, 41.19013401403957, 35.20016592214423, 35.20016592214423, 26.21521378430122, 44.18511805998724, 44.18511805998724, 35.20016592214423, 44.18511805998724, 44.18511805998724, 44.18511805998724, 29.210197830248887, 14.235277600510535, 26.21521378430122, 44.18511805998724, 23.22022973835355, 44.18511805998724, 44.18511805998724, 44.18511805998724, 44.18511805998724, 44.18511805998724, 44.18511805998724, 44.18511805998724, 44.18511805998724, 44.18511805998724, 44.18511805998724, 44.18511805998724, 44.18511805998724, 44.18511805998724, 44.18511805998724, 44.18511805998724, 44.18511805998724, 44.18511805998724, 44.18511805998724]}],\n",
       "                        {\"height\": 600, \"hovermode\": \"closest\", \"width\": 600, \"xaxis\": {\"title\": {\"text\": \"Partes de gesti\\u00f3n\"}}, \"yaxis\": {\"title\": {\"text\": \"\\u00c9xito\"}}},\n",
       "                        {\"showLink\": false, \"linkText\": \"Export to plot.ly\", \"plotlyServerURL\": \"https://plot.ly\", \"responsive\": true}\n",
       "                    ).then(function(){\n",
       "                            \n",
       "var gd = document.getElementById('2d11fce8-feeb-4525-ac7a-886f70f30e0d');\n",
       "var x = new MutationObserver(function (mutations, observer) {{\n",
       "        var display = window.getComputedStyle(gd).display;\n",
       "        if (!display || display === 'none') {{\n",
       "            console.log([gd, 'removed!']);\n",
       "            Plotly.purge(gd);\n",
       "            observer.disconnect();\n",
       "        }}\n",
       "}});\n",
       "\n",
       "// Listen for the removal of the full notebook cells\n",
       "var notebookContainer = gd.closest('#notebook-container');\n",
       "if (notebookContainer) {{\n",
       "    x.observe(notebookContainer, {childList: true});\n",
       "}}\n",
       "\n",
       "// Listen for the clearing of the current output cell\n",
       "var outputEl = gd.closest('.output');\n",
       "if (outputEl) {{\n",
       "    x.observe(outputEl, {childList: true});\n",
       "}}\n",
       "\n",
       "                        })\n",
       "                };\n",
       "                });\n",
       "            </script>\n",
       "        </div>"
      ]
     },
     "metadata": {},
     "output_type": "display_data"
    }
   ],
   "source": [
    "myplotly.scatter(dfc['partes'], dfc['éxito'], dfc.index,\n",
    "        x_title='Partes de gestión', y_title='Éxito')"
   ]
  },
  {
   "cell_type": "code",
   "execution_count": 69,
   "metadata": {},
   "outputs": [
    {
     "data": {
      "text/html": [
       "\n",
       "    <div class='alert alert-success' role='alert'>\n",
       "        COEFICIENTE DE CORRELACIÓN: <b>-0.3360</b>\n",
       "    </div>\n"
      ],
      "text/plain": [
       "<IPython.core.display.HTML object>"
      ]
     },
     "metadata": {},
     "output_type": "display_data"
    }
   ],
   "source": [
    "corr = dfc.corrwith(dfc['partes'])['éxito']\n",
    "display(HTML(f'''\n",
    "    <div class='alert alert-success' role='alert'>\n",
    "        COEFICIENTE DE CORRELACIÓN: <b>{corr:.4f}</b>\n",
    "    </div>\n",
    "'''))"
   ]
  },
  {
   "cell_type": "markdown",
   "metadata": {},
   "source": [
    "## Detección de *outliers*"
   ]
  },
  {
   "cell_type": "markdown",
   "metadata": {},
   "source": [
    "### Bajo número de partes y bajo éxito"
   ]
  },
  {
   "cell_type": "code",
   "execution_count": 70,
   "metadata": {
    "scrolled": false
   },
   "outputs": [
    {
     "data": {
      "text/html": [
       "<div>\n",
       "<style scoped>\n",
       "    .dataframe tbody tr th:only-of-type {\n",
       "        vertical-align: middle;\n",
       "    }\n",
       "\n",
       "    .dataframe tbody tr th {\n",
       "        vertical-align: top;\n",
       "    }\n",
       "\n",
       "    .dataframe thead th {\n",
       "        text-align: right;\n",
       "    }\n",
       "</style>\n",
       "<table border=\"1\" class=\"dataframe\">\n",
       "  <thead>\n",
       "    <tr style=\"text-align: right;\">\n",
       "      <th></th>\n",
       "      <th>partes</th>\n",
       "      <th>éxito</th>\n",
       "    </tr>\n",
       "    <tr>\n",
       "      <th>grupo</th>\n",
       "      <th></th>\n",
       "      <th></th>\n",
       "    </tr>\n",
       "  </thead>\n",
       "  <tbody>\n",
       "  </tbody>\n",
       "</table>\n",
       "</div>"
      ],
      "text/plain": [
       "Empty DataFrame\n",
       "Columns: [partes, éxito]\n",
       "Index: []"
      ]
     },
     "execution_count": 70,
     "metadata": {},
     "output_type": "execute_result"
    }
   ],
   "source": [
    "dfc[(dfc['partes'] < 10) & (dfc['éxito'] < 10)][['partes', 'éxito']]"
   ]
  },
  {
   "cell_type": "markdown",
   "metadata": {},
   "source": [
    "### Alto número de partes y alto éxito"
   ]
  },
  {
   "cell_type": "code",
   "execution_count": 71,
   "metadata": {
    "scrolled": false
   },
   "outputs": [
    {
     "data": {
      "text/html": [
       "<div>\n",
       "<style scoped>\n",
       "    .dataframe tbody tr th:only-of-type {\n",
       "        vertical-align: middle;\n",
       "    }\n",
       "\n",
       "    .dataframe tbody tr th {\n",
       "        vertical-align: top;\n",
       "    }\n",
       "\n",
       "    .dataframe thead th {\n",
       "        text-align: right;\n",
       "    }\n",
       "</style>\n",
       "<table border=\"1\" class=\"dataframe\">\n",
       "  <thead>\n",
       "    <tr style=\"text-align: right;\">\n",
       "      <th></th>\n",
       "      <th>partes</th>\n",
       "      <th>éxito</th>\n",
       "    </tr>\n",
       "    <tr>\n",
       "      <th>grupo</th>\n",
       "      <th></th>\n",
       "      <th></th>\n",
       "    </tr>\n",
       "  </thead>\n",
       "  <tbody>\n",
       "  </tbody>\n",
       "</table>\n",
       "</div>"
      ],
      "text/plain": [
       "Empty DataFrame\n",
       "Columns: [partes, éxito]\n",
       "Index: []"
      ]
     },
     "execution_count": 71,
     "metadata": {},
     "output_type": "execute_result"
    }
   ],
   "source": [
    "dfc[(dfc['partes'] > 15) & (dfc['éxito'] > 30)][['partes', 'éxito']]"
   ]
  },
  {
   "cell_type": "markdown",
   "metadata": {},
   "source": [
    "# GRUPOS MÁGICOS"
   ]
  },
  {
   "cell_type": "markdown",
   "metadata": {},
   "source": [
    "> Son aquellos que tienen mejores valores de éxito escolar, menor absentismo y menos partes de gestión."
   ]
  },
  {
   "cell_type": "markdown",
   "metadata": {},
   "source": [
    "\\begin{equation}\n",
    "magic = 0.6 · success + 0.2 · e^{-absence} + 0.2 · e^{-reports}\n",
    "\\end{equation}"
   ]
  },
  {
   "cell_type": "code",
   "execution_count": 72,
   "metadata": {
    "scrolled": true
   },
   "outputs": [
    {
     "data": {
      "application/vnd.plotly.v1+json": {
       "config": {
        "linkText": "Export to plot.ly",
        "plotlyServerURL": "https://plot.ly",
        "responsive": true,
        "showLink": false
       },
       "data": [
        {
         "name": "Éxito escolar",
         "type": "bar",
         "uid": "270ac1e1-7ada-41a5-b6cf-6985d0539282",
         "x": [
          "2ALO",
          "2TEL",
          "2ASR",
          "2GIT",
          "1ARI",
          "1GIT",
          "1ALO",
          "1CIE",
          "ESO2A",
          "ESO4A",
          "2CIE",
          "2ARI",
          "1ASR",
          "ESO1D",
          "ESO4B",
          "2DAW",
          "1DAW",
          "1FPB",
          "ESO1A",
          "2ELE",
          "ESO3C",
          "2FPB",
          "2CAR",
          "ESO3B",
          "2SOC",
          "1CAR",
          "ESO1C",
          "ESO2B",
          "1SOC",
          "1ELE",
          "1TEL",
          "ESO1B",
          "ESO3D",
          "ESO3A",
          "ESO2C",
          "ESO4C"
         ],
         "y": [
          95.7,
          88.9,
          84.2,
          78.3,
          71.4,
          71.4,
          62.1,
          52.9,
          50,
          47.6,
          47.4,
          46.7,
          41.4,
          40.7,
          40,
          38.5,
          34.5,
          33.3,
          32,
          30.8,
          28.6,
          28.6,
          27.3,
          26.9,
          25,
          25,
          25,
          25,
          24,
          23.5,
          23.5,
          23.1,
          16.7,
          15.4,
          12.5,
          12
         ]
        },
        {
         "name": "Absentismo",
         "type": "bar",
         "uid": "f015968c-49fd-42d9-8a58-e0dbb3194e97",
         "x": [
          "2ALO",
          "2TEL",
          "2ASR",
          "2GIT",
          "1ARI",
          "1GIT",
          "1ALO",
          "1CIE",
          "ESO2A",
          "ESO4A",
          "2CIE",
          "2ARI",
          "1ASR",
          "ESO1D",
          "ESO4B",
          "2DAW",
          "1DAW",
          "1FPB",
          "ESO1A",
          "2ELE",
          "ESO3C",
          "2FPB",
          "2CAR",
          "ESO3B",
          "2SOC",
          "1CAR",
          "ESO1C",
          "ESO2B",
          "1SOC",
          "1ELE",
          "1TEL",
          "ESO1B",
          "ESO3D",
          "ESO3A",
          "ESO2C",
          "ESO4C"
         ],
         "y": [
          7.66,
          19.83,
          7.1000000000000005,
          10.84,
          10.43,
          13.27,
          12.76,
          4.02,
          4.56,
          5.34,
          5.53,
          8.1,
          10.97,
          6.32,
          5.13,
          18.02,
          9.73,
          23.29,
          3.48,
          14.93,
          5.01,
          26.72,
          11.08,
          6.61,
          6.27,
          20.919999999999998,
          3.5300000000000002,
          3.5500000000000003,
          8.77,
          15.290000000000001,
          20.75,
          4.86,
          6.17,
          4.97,
          11.88,
          9.14
         ]
        },
        {
         "name": "Partes gestión",
         "type": "bar",
         "uid": "52ad6abe-08ab-40d5-af8e-d6137dfd5185",
         "x": [
          "2ALO",
          "2TEL",
          "2ASR",
          "2GIT",
          "1ARI",
          "1GIT",
          "1ALO",
          "1CIE",
          "ESO2A",
          "ESO4A",
          "2CIE",
          "2ARI",
          "1ASR",
          "ESO1D",
          "ESO4B",
          "2DAW",
          "1DAW",
          "1FPB",
          "ESO1A",
          "2ELE",
          "ESO3C",
          "2FPB",
          "2CAR",
          "ESO3B",
          "2SOC",
          "1CAR",
          "ESO1C",
          "ESO2B",
          "1SOC",
          "1ELE",
          "1TEL",
          "ESO1B",
          "ESO3D",
          "ESO3A",
          "ESO2C",
          "ESO4C"
         ],
         "y": [
          0,
          0,
          0,
          0,
          0,
          0,
          0,
          0,
          3,
          0,
          0,
          0,
          0,
          1,
          0,
          0,
          0,
          10,
          1,
          0,
          3,
          6,
          0,
          0,
          0,
          0,
          2,
          3,
          7,
          0,
          0,
          0,
          0,
          0,
          6,
          5
         ]
        }
       ],
       "layout": {
        "barmode": "stack"
       }
      },
      "text/html": [
       "<div>\n",
       "        \n",
       "        \n",
       "            <div id=\"a55cd028-4cd6-47bc-848a-de91623cd354\" class=\"plotly-graph-div\" style=\"height:525px; width:100%;\"></div>\n",
       "            <script type=\"text/javascript\">\n",
       "                require([\"plotly\"], function(Plotly) {\n",
       "                    window.PLOTLYENV=window.PLOTLYENV || {};\n",
       "                    window.PLOTLYENV.BASE_URL='https://plot.ly';\n",
       "                    \n",
       "                if (document.getElementById(\"a55cd028-4cd6-47bc-848a-de91623cd354\")) {\n",
       "                    Plotly.newPlot(\n",
       "                        'a55cd028-4cd6-47bc-848a-de91623cd354',\n",
       "                        [{\"name\": \"\\u00c9xito escolar\", \"type\": \"bar\", \"uid\": \"1b8f3ab7-db1f-409b-9a86-29b563a0ab78\", \"x\": [\"2ALO\", \"2TEL\", \"2ASR\", \"2GIT\", \"1ARI\", \"1GIT\", \"1ALO\", \"1CIE\", \"ESO2A\", \"ESO4A\", \"2CIE\", \"2ARI\", \"1ASR\", \"ESO1D\", \"ESO4B\", \"2DAW\", \"1DAW\", \"1FPB\", \"ESO1A\", \"2ELE\", \"ESO3C\", \"2FPB\", \"2CAR\", \"ESO3B\", \"2SOC\", \"1CAR\", \"ESO1C\", \"ESO2B\", \"1SOC\", \"1ELE\", \"1TEL\", \"ESO1B\", \"ESO3D\", \"ESO3A\", \"ESO2C\", \"ESO4C\"], \"y\": [95.7, 88.9, 84.2, 78.3, 71.4, 71.4, 62.1, 52.9, 50.0, 47.6, 47.4, 46.7, 41.4, 40.7, 40.0, 38.5, 34.5, 33.3, 32.0, 30.8, 28.6, 28.6, 27.3, 26.9, 25.0, 25.0, 25.0, 25.0, 24.0, 23.5, 23.5, 23.1, 16.7, 15.4, 12.5, 12.0]}, {\"name\": \"Absentismo\", \"type\": \"bar\", \"uid\": \"671a9503-15cf-4bc9-85da-b38a9ce25dd8\", \"x\": [\"2ALO\", \"2TEL\", \"2ASR\", \"2GIT\", \"1ARI\", \"1GIT\", \"1ALO\", \"1CIE\", \"ESO2A\", \"ESO4A\", \"2CIE\", \"2ARI\", \"1ASR\", \"ESO1D\", \"ESO4B\", \"2DAW\", \"1DAW\", \"1FPB\", \"ESO1A\", \"2ELE\", \"ESO3C\", \"2FPB\", \"2CAR\", \"ESO3B\", \"2SOC\", \"1CAR\", \"ESO1C\", \"ESO2B\", \"1SOC\", \"1ELE\", \"1TEL\", \"ESO1B\", \"ESO3D\", \"ESO3A\", \"ESO2C\", \"ESO4C\"], \"y\": [7.66, 19.83, 7.1000000000000005, 10.84, 10.43, 13.27, 12.76, 4.02, 4.56, 5.34, 5.53, 8.1, 10.97, 6.32, 5.13, 18.02, 9.73, 23.29, 3.48, 14.93, 5.01, 26.72, 11.08, 6.61, 6.27, 20.919999999999998, 3.5300000000000002, 3.5500000000000003, 8.77, 15.290000000000001, 20.75, 4.86, 6.17, 4.97, 11.88, 9.14]}, {\"name\": \"Partes gesti\\u00f3n\", \"type\": \"bar\", \"uid\": \"bc81c71c-2ac3-482c-b993-e3271c109445\", \"x\": [\"2ALO\", \"2TEL\", \"2ASR\", \"2GIT\", \"1ARI\", \"1GIT\", \"1ALO\", \"1CIE\", \"ESO2A\", \"ESO4A\", \"2CIE\", \"2ARI\", \"1ASR\", \"ESO1D\", \"ESO4B\", \"2DAW\", \"1DAW\", \"1FPB\", \"ESO1A\", \"2ELE\", \"ESO3C\", \"2FPB\", \"2CAR\", \"ESO3B\", \"2SOC\", \"1CAR\", \"ESO1C\", \"ESO2B\", \"1SOC\", \"1ELE\", \"1TEL\", \"ESO1B\", \"ESO3D\", \"ESO3A\", \"ESO2C\", \"ESO4C\"], \"y\": [0.0, 0.0, 0.0, 0.0, 0.0, 0.0, 0.0, 0.0, 3.0, 0.0, 0.0, 0.0, 0.0, 1.0, 0.0, 0.0, 0.0, 10.0, 1.0, 0.0, 3.0, 6.0, 0.0, 0.0, 0.0, 0.0, 2.0, 3.0, 7.0, 0.0, 0.0, 0.0, 0.0, 0.0, 6.0, 5.0]}],\n",
       "                        {\"barmode\": \"stack\"},\n",
       "                        {\"showLink\": false, \"linkText\": \"Export to plot.ly\", \"plotlyServerURL\": \"https://plot.ly\", \"responsive\": true}\n",
       "                    ).then(function(){\n",
       "                            \n",
       "var gd = document.getElementById('a55cd028-4cd6-47bc-848a-de91623cd354');\n",
       "var x = new MutationObserver(function (mutations, observer) {{\n",
       "        var display = window.getComputedStyle(gd).display;\n",
       "        if (!display || display === 'none') {{\n",
       "            console.log([gd, 'removed!']);\n",
       "            Plotly.purge(gd);\n",
       "            observer.disconnect();\n",
       "        }}\n",
       "}});\n",
       "\n",
       "// Listen for the removal of the full notebook cells\n",
       "var notebookContainer = gd.closest('#notebook-container');\n",
       "if (notebookContainer) {{\n",
       "    x.observe(notebookContainer, {childList: true});\n",
       "}}\n",
       "\n",
       "// Listen for the clearing of the current output cell\n",
       "var outputEl = gd.closest('.output');\n",
       "if (outputEl) {{\n",
       "    x.observe(outputEl, {childList: true});\n",
       "}}\n",
       "\n",
       "                        })\n",
       "                };\n",
       "                });\n",
       "            </script>\n",
       "        </div>"
      ]
     },
     "metadata": {},
     "output_type": "display_data"
    }
   ],
   "source": [
    "df2 = dfc.copy()\n",
    "df2['magic'] = 0.6 * df2['éxito'] + 0.2 * \\\n",
    "    np.exp(-df2['absentismo']) + 0.2 * np.exp(-df2['partes'])\n",
    "magic = df2.sort_values('magic', ascending=False)\n",
    "\n",
    "series = {\n",
    "    'Éxito escolar': magic['éxito'].values,\n",
    "    'Absentismo': magic['absentismo'].values,\n",
    "    'Partes gestión': magic['partes'].values\n",
    "}\n",
    "\n",
    "myplotly.cbar(magic.index, series, is_percentage=False, barmode='stack')"
   ]
  }
 ],
 "metadata": {
  "kernelspec": {
   "display_name": "Python 3",
   "language": "python",
   "name": "python3"
  },
  "language_info": {
   "codemirror_mode": {
    "name": "ipython",
    "version": 3
   },
   "file_extension": ".py",
   "mimetype": "text/x-python",
   "name": "python",
   "nbconvert_exporter": "python",
   "pygments_lexer": "ipython3",
   "version": "3.7.4"
  }
 },
 "nbformat": 4,
 "nbformat_minor": 2
}
