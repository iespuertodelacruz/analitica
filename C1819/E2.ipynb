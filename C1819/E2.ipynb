{
 "cells": [
  {
   "cell_type": "code",
   "execution_count": 2,
   "metadata": {
    "scrolled": false
   },
   "outputs": [],
   "source": [
    "YEAR, EVALUATION = 2018, 2"
   ]
  },
  {
   "cell_type": "code",
   "execution_count": 3,
   "metadata": {
    "scrolled": false
   },
   "outputs": [
    {
     "data": {
      "text/html": [
       "<h1>ANÁLISIS DE LA 2ª EVALUACIÓN</h1>"
      ],
      "text/plain": [
       "<IPython.core.display.HTML object>"
      ]
     },
     "metadata": {},
     "output_type": "display_data"
    },
    {
     "data": {
      "text/html": [
       "<h2>IES Puerto de la Cruz - Telesforo Bravo | Curso 2018-2019</h2>"
      ],
      "text/plain": [
       "<IPython.core.display.HTML object>"
      ]
     },
     "metadata": {},
     "output_type": "display_data"
    }
   ],
   "source": [
    "from IPython.core.display import display, HTML\n",
    "display(HTML(f'<h1>ANÁLISIS DE LA {EVALUATION}ª EVALUACIÓN</h1>'))\n",
    "display(HTML(f'<h2>IES Puerto de la Cruz - Telesforo Bravo | Curso {YEAR}-{YEAR + 1}</h2>'))"
   ]
  },
  {
   "cell_type": "code",
   "execution_count": 4,
   "metadata": {
    "scrolled": false
   },
   "outputs": [
    {
     "data": {
      "text/html": [
       "        <script type=\"text/javascript\">\n",
       "        window.PlotlyConfig = {MathJaxConfig: 'local'};\n",
       "        if (window.MathJax) {MathJax.Hub.Config({SVG: {font: \"STIX-Web\"}});}\n",
       "        if (typeof require !== 'undefined') {\n",
       "        require.undef(\"plotly\");\n",
       "        requirejs.config({\n",
       "            paths: {\n",
       "                'plotly': ['https://cdn.plot.ly/plotly-latest.min']\n",
       "            }\n",
       "        });\n",
       "        require(['plotly'], function(Plotly) {\n",
       "            window._Plotly = Plotly;\n",
       "        });\n",
       "        }\n",
       "        </script>\n",
       "        "
      ]
     },
     "metadata": {},
     "output_type": "display_data"
    },
    {
     "data": {
      "text/html": [
       "        <script type=\"text/javascript\">\n",
       "        window.PlotlyConfig = {MathJaxConfig: 'local'};\n",
       "        if (window.MathJax) {MathJax.Hub.Config({SVG: {font: \"STIX-Web\"}});}\n",
       "        if (typeof require !== 'undefined') {\n",
       "        require.undef(\"plotly\");\n",
       "        requirejs.config({\n",
       "            paths: {\n",
       "                'plotly': ['https://cdn.plot.ly/plotly-latest.min']\n",
       "            }\n",
       "        });\n",
       "        require(['plotly'], function(Plotly) {\n",
       "            window._Plotly = Plotly;\n",
       "        });\n",
       "        }\n",
       "        </script>\n",
       "        "
      ]
     },
     "metadata": {},
     "output_type": "display_data"
    }
   ],
   "source": [
    "import os\n",
    "import sys\n",
    "\n",
    "import pandas as pd\n",
    "import numpy as np\n",
    "from scipy import stats\n",
    "import seaborn as sns\n",
    "from matplotlib import pyplot as plt\n",
    "from plotly.offline import init_notebook_mode, iplot\n",
    "import plotly.graph_objs as go\n",
    "import colorlover as cl\n",
    "from IPython.core.display import display, HTML\n",
    "\n",
    "sys.path.append('..')\n",
    "from services import loaders, charts, myplotly\n",
    "\n",
    "init_notebook_mode(connected=True)"
   ]
  },
  {
   "cell_type": "markdown",
   "metadata": {},
   "source": [
    "Estilo propio para los dataframes:"
   ]
  },
  {
   "cell_type": "code",
   "execution_count": 5,
   "metadata": {},
   "outputs": [
    {
     "data": {
      "text/html": [
       "<style>/* title of columns */\n",
       "table.dataframe thead th {\n",
       "    font-size: 1.2em !important;\n",
       "    padding-top: 0.2em !important;\n",
       "    padding-bottom: 0.2em !important;\n",
       "}\n",
       "\n",
       "/* title of rows */\n",
       "table.dataframe tbody th {\n",
       "    font-size: 1.2em !important;\n",
       "    background: rgba(199, 199, 199, 0.356) !important;\n",
       "    border: 1px solid black !important;\n",
       "}\n",
       "\n",
       "/* style for each cell */\n",
       "table.dataframe td {\n",
       "    font-size: 1.15em !important;\n",
       "    border: 1px solid black !important;\n",
       "}\n",
       "\n",
       "/* disable zebra-style */\n",
       "table.dataframe tbody tr {\n",
       "    background: white !important;\n",
       "}\n",
       "\n",
       "/* row color on hover */\n",
       "table.dataframe tbody tr:hover {\n",
       "    background: rgba(43, 137, 226, 0.144) !important;\n",
       "}\n",
       "\n",
       "/* Settings for slides */\n",
       "\n",
       ".present table.dataframe thead th {\n",
       "    font-size: 1.5em !important;\n",
       "}\n",
       "\n",
       ".present table.dataframe tbody th {\n",
       "    font-size: 1.5em !important;\n",
       "}\n",
       "\n",
       ".present table.dataframe td {\n",
       "    font-size: 1.3em !important;\n",
       "}\n",
       "\n",
       ".present table.dataframe thead th {\n",
       "    border-bottom: none !important;\n",
       "    padding-top: 0.1em !important;\n",
       "    padding-bottom: 0.1em !important;\n",
       "}\n",
       "</style>"
      ],
      "text/plain": [
       "<IPython.core.display.HTML object>"
      ]
     },
     "execution_count": 5,
     "metadata": {},
     "output_type": "execute_result"
    }
   ],
   "source": [
    "with open('../custom.css') as f:\n",
    "    css_rules = ''.join(f.readlines())\n",
    "HTML('<style>' + css_rules + '</style>')"
   ]
  },
  {
   "cell_type": "markdown",
   "metadata": {},
   "source": [
    "Deshabilitar el *auto-scrolling* en todo el notebook:"
   ]
  },
  {
   "cell_type": "code",
   "execution_count": 6,
   "metadata": {},
   "outputs": [
    {
     "data": {
      "application/javascript": [
       "IPython.OutputArea.prototype._should_scroll = function(lines) {\n",
       "    return false;\n",
       "}\n"
      ],
      "text/plain": [
       "<IPython.core.display.Javascript object>"
      ]
     },
     "metadata": {},
     "output_type": "display_data"
    }
   ],
   "source": [
    "%%javascript\n",
    "IPython.OutputArea.prototype._should_scroll = function(lines) {\n",
    "    return false;\n",
    "}"
   ]
  },
  {
   "cell_type": "markdown",
   "metadata": {},
   "source": [
    "## CARGA DE DATOS"
   ]
  },
  {
   "cell_type": "code",
   "execution_count": 7,
   "metadata": {},
   "outputs": [],
   "source": [
    "df, df_bc, labels = loaders.load_data(YEAR, EVALUATION)"
   ]
  },
  {
   "cell_type": "code",
   "execution_count": 8,
   "metadata": {},
   "outputs": [
    {
     "data": {
      "text/html": [
       "<div>\n",
       "<style scoped>\n",
       "    .dataframe tbody tr th:only-of-type {\n",
       "        vertical-align: middle;\n",
       "    }\n",
       "\n",
       "    .dataframe tbody tr th {\n",
       "        vertical-align: top;\n",
       "    }\n",
       "\n",
       "    .dataframe thead th {\n",
       "        text-align: right;\n",
       "    }\n",
       "</style>\n",
       "<table border=\"1\" class=\"dataframe\">\n",
       "  <thead>\n",
       "    <tr style=\"text-align: right;\">\n",
       "      <th></th>\n",
       "      <th></th>\n",
       "      <th></th>\n",
       "      <th>etapa</th>\n",
       "      <th>éxito</th>\n",
       "      <th>absentismo_justificado</th>\n",
       "      <th>absentismo_injustificado</th>\n",
       "      <th>partes</th>\n",
       "      <th>suspensión_asistencia</th>\n",
       "      <th>ratio</th>\n",
       "      <th>absentismo</th>\n",
       "      <th>éxito_abs</th>\n",
       "      <th>ccbb</th>\n",
       "    </tr>\n",
       "    <tr>\n",
       "      <th>curso</th>\n",
       "      <th>evaluación</th>\n",
       "      <th>grupo</th>\n",
       "      <th></th>\n",
       "      <th></th>\n",
       "      <th></th>\n",
       "      <th></th>\n",
       "      <th></th>\n",
       "      <th></th>\n",
       "      <th></th>\n",
       "      <th></th>\n",
       "      <th></th>\n",
       "      <th></th>\n",
       "    </tr>\n",
       "  </thead>\n",
       "  <tbody>\n",
       "    <tr>\n",
       "      <th rowspan=\"5\" valign=\"top\">C1617</th>\n",
       "      <th rowspan=\"5\" valign=\"top\">E1</th>\n",
       "      <th>ESO1A</th>\n",
       "      <td>ESO</td>\n",
       "      <td>41.7</td>\n",
       "      <td>0.87</td>\n",
       "      <td>6.08</td>\n",
       "      <td>4.0</td>\n",
       "      <td>0.0</td>\n",
       "      <td>24</td>\n",
       "      <td>6.95</td>\n",
       "      <td>10.0</td>\n",
       "      <td>4.478571</td>\n",
       "    </tr>\n",
       "    <tr>\n",
       "      <th>ESO1B</th>\n",
       "      <td>ESO</td>\n",
       "      <td>46.2</td>\n",
       "      <td>2.82</td>\n",
       "      <td>2.63</td>\n",
       "      <td>3.0</td>\n",
       "      <td>0.0</td>\n",
       "      <td>26</td>\n",
       "      <td>5.45</td>\n",
       "      <td>12.0</td>\n",
       "      <td>5.232143</td>\n",
       "    </tr>\n",
       "    <tr>\n",
       "      <th>ESO1C</th>\n",
       "      <td>ESO</td>\n",
       "      <td>28.0</td>\n",
       "      <td>4.51</td>\n",
       "      <td>7.12</td>\n",
       "      <td>2.0</td>\n",
       "      <td>1.0</td>\n",
       "      <td>25</td>\n",
       "      <td>11.63</td>\n",
       "      <td>7.0</td>\n",
       "      <td>4.057143</td>\n",
       "    </tr>\n",
       "    <tr>\n",
       "      <th>ESO1D</th>\n",
       "      <td>ESO</td>\n",
       "      <td>46.2</td>\n",
       "      <td>1.03</td>\n",
       "      <td>3.66</td>\n",
       "      <td>3.0</td>\n",
       "      <td>0.0</td>\n",
       "      <td>26</td>\n",
       "      <td>4.69</td>\n",
       "      <td>12.0</td>\n",
       "      <td>4.435714</td>\n",
       "    </tr>\n",
       "    <tr>\n",
       "      <th>ESO2A</th>\n",
       "      <td>ESO</td>\n",
       "      <td>46.2</td>\n",
       "      <td>1.45</td>\n",
       "      <td>2.87</td>\n",
       "      <td>2.0</td>\n",
       "      <td>0.0</td>\n",
       "      <td>26</td>\n",
       "      <td>4.32</td>\n",
       "      <td>12.0</td>\n",
       "      <td>5.032143</td>\n",
       "    </tr>\n",
       "  </tbody>\n",
       "</table>\n",
       "</div>"
      ],
      "text/plain": [
       "                       etapa  éxito  absentismo_justificado  \\\n",
       "curso evaluación grupo                                        \n",
       "C1617 E1         ESO1A   ESO   41.7                    0.87   \n",
       "                 ESO1B   ESO   46.2                    2.82   \n",
       "                 ESO1C   ESO   28.0                    4.51   \n",
       "                 ESO1D   ESO   46.2                    1.03   \n",
       "                 ESO2A   ESO   46.2                    1.45   \n",
       "\n",
       "                        absentismo_injustificado  partes  \\\n",
       "curso evaluación grupo                                     \n",
       "C1617 E1         ESO1A                      6.08     4.0   \n",
       "                 ESO1B                      2.63     3.0   \n",
       "                 ESO1C                      7.12     2.0   \n",
       "                 ESO1D                      3.66     3.0   \n",
       "                 ESO2A                      2.87     2.0   \n",
       "\n",
       "                        suspensión_asistencia  ratio  absentismo  éxito_abs  \\\n",
       "curso evaluación grupo                                                        \n",
       "C1617 E1         ESO1A                    0.0     24        6.95       10.0   \n",
       "                 ESO1B                    0.0     26        5.45       12.0   \n",
       "                 ESO1C                    1.0     25       11.63        7.0   \n",
       "                 ESO1D                    0.0     26        4.69       12.0   \n",
       "                 ESO2A                    0.0     26        4.32       12.0   \n",
       "\n",
       "                            ccbb  \n",
       "curso evaluación grupo            \n",
       "C1617 E1         ESO1A  4.478571  \n",
       "                 ESO1B  5.232143  \n",
       "                 ESO1C  4.057143  \n",
       "                 ESO1D  4.435714  \n",
       "                 ESO2A  5.032143  "
      ]
     },
     "execution_count": 8,
     "metadata": {},
     "output_type": "execute_result"
    }
   ],
   "source": [
    "df.head()"
   ]
  },
  {
   "cell_type": "code",
   "execution_count": 9,
   "metadata": {},
   "outputs": [
    {
     "data": {
      "text/html": [
       "<div>\n",
       "<style scoped>\n",
       "    .dataframe tbody tr th:only-of-type {\n",
       "        vertical-align: middle;\n",
       "    }\n",
       "\n",
       "    .dataframe tbody tr th {\n",
       "        vertical-align: top;\n",
       "    }\n",
       "\n",
       "    .dataframe thead th {\n",
       "        text-align: right;\n",
       "    }\n",
       "</style>\n",
       "<table border=\"1\" class=\"dataframe\">\n",
       "  <thead>\n",
       "    <tr style=\"text-align: right;\">\n",
       "      <th></th>\n",
       "      <th></th>\n",
       "      <th></th>\n",
       "      <th>nivel</th>\n",
       "      <th>item</th>\n",
       "      <th>PA</th>\n",
       "      <th>AD</th>\n",
       "      <th>MA</th>\n",
       "      <th>EX</th>\n",
       "      <th>marca</th>\n",
       "    </tr>\n",
       "    <tr>\n",
       "      <th>curso</th>\n",
       "      <th>evaluación</th>\n",
       "      <th>grupo</th>\n",
       "      <th></th>\n",
       "      <th></th>\n",
       "      <th></th>\n",
       "      <th></th>\n",
       "      <th></th>\n",
       "      <th></th>\n",
       "      <th></th>\n",
       "    </tr>\n",
       "  </thead>\n",
       "  <tbody>\n",
       "    <tr>\n",
       "      <th rowspan=\"5\" valign=\"top\">C1617</th>\n",
       "      <th rowspan=\"5\" valign=\"top\">E1</th>\n",
       "      <th>ESO1A</th>\n",
       "      <td>1ESO</td>\n",
       "      <td>CL</td>\n",
       "      <td>42</td>\n",
       "      <td>46</td>\n",
       "      <td>12</td>\n",
       "      <td>0</td>\n",
       "      <td>4.250</td>\n",
       "    </tr>\n",
       "    <tr>\n",
       "      <th>ESO1A</th>\n",
       "      <td>1ESO</td>\n",
       "      <td>CMCT</td>\n",
       "      <td>50</td>\n",
       "      <td>46</td>\n",
       "      <td>4</td>\n",
       "      <td>0</td>\n",
       "      <td>3.850</td>\n",
       "    </tr>\n",
       "    <tr>\n",
       "      <th>ESO1A</th>\n",
       "      <td>1ESO</td>\n",
       "      <td>CD</td>\n",
       "      <td>17</td>\n",
       "      <td>75</td>\n",
       "      <td>8</td>\n",
       "      <td>0</td>\n",
       "      <td>4.775</td>\n",
       "    </tr>\n",
       "    <tr>\n",
       "      <th>ESO1A</th>\n",
       "      <td>1ESO</td>\n",
       "      <td>AAP</td>\n",
       "      <td>25</td>\n",
       "      <td>67</td>\n",
       "      <td>8</td>\n",
       "      <td>0</td>\n",
       "      <td>4.575</td>\n",
       "    </tr>\n",
       "    <tr>\n",
       "      <th>ESO1A</th>\n",
       "      <td>1ESO</td>\n",
       "      <td>CSC</td>\n",
       "      <td>12</td>\n",
       "      <td>75</td>\n",
       "      <td>12</td>\n",
       "      <td>0</td>\n",
       "      <td>4.950</td>\n",
       "    </tr>\n",
       "  </tbody>\n",
       "</table>\n",
       "</div>"
      ],
      "text/plain": [
       "                       nivel  item  PA  AD  MA  EX  marca\n",
       "curso evaluación grupo                                   \n",
       "C1617 E1         ESO1A  1ESO    CL  42  46  12   0  4.250\n",
       "                 ESO1A  1ESO  CMCT  50  46   4   0  3.850\n",
       "                 ESO1A  1ESO    CD  17  75   8   0  4.775\n",
       "                 ESO1A  1ESO   AAP  25  67   8   0  4.575\n",
       "                 ESO1A  1ESO   CSC  12  75  12   0  4.950"
      ]
     },
     "execution_count": 9,
     "metadata": {},
     "output_type": "execute_result"
    }
   ],
   "source": [
    "df_bc.head()"
   ]
  },
  {
   "cell_type": "code",
   "execution_count": 10,
   "metadata": {
    "scrolled": false
   },
   "outputs": [],
   "source": [
    "# dataframe for current year and evaluation\n",
    "dfc = df.loc[labels[-1]]\n",
    "dfc_bc = df_bc.loc[labels[-1]]"
   ]
  },
  {
   "cell_type": "code",
   "execution_count": 11,
   "metadata": {
    "scrolled": false
   },
   "outputs": [],
   "source": [
    "# dataframe for comparisons with last evaluation\n",
    "df_comp = dfc.merge(df.loc[labels[-2]], left_index=True, right_index=True)\n",
    "\n",
    "df_bc_last_eval_new_index = df_bc.loc[labels[-2]].reset_index().set_index(['grupo', 'item'])\n",
    "dfc_bc_new_index = dfc_bc.reset_index().set_index(['grupo', 'item'])\n",
    "df_bc_comp = dfc_bc_new_index.merge(df_bc_last_eval_new_index, left_index=True, right_index=True)\n",
    "df_bc_comp = df_bc_comp.reset_index().set_index(['grupo'])"
   ]
  },
  {
   "cell_type": "code",
   "execution_count": 12,
   "metadata": {},
   "outputs": [],
   "source": [
    "# recurrent variables\n",
    "stages = df['etapa'].unique()\n",
    "years = df.index.levels[0]"
   ]
  },
  {
   "cell_type": "markdown",
   "metadata": {},
   "source": [
    "# ÉXITO ESCOLAR"
   ]
  },
  {
   "cell_type": "markdown",
   "metadata": {},
   "source": [
    "<div class=\"alert alert-success\" role=\"alert\">\n",
    "    ÉXITO ESCOLAR = <b>0 suspensos</b>\n",
    "</div>"
   ]
  },
  {
   "cell_type": "markdown",
   "metadata": {},
   "source": [
    "## ÉXITO EN VALORES ABSOLUTOS"
   ]
  },
  {
   "cell_type": "code",
   "execution_count": 13,
   "metadata": {
    "scrolled": true
   },
   "outputs": [
    {
     "data": {
      "application/vnd.plotly.v1+json": {
       "config": {
        "linkText": "Export to plot.ly",
        "plotlyServerURL": "https://plot.ly",
        "responsive": true,
        "showLink": false
       },
       "data": [
        {
         "marker": {
          "color": "rgb(166,206,227)"
         },
         "name": "Ratio",
         "orientation": "h",
         "type": "bar",
         "uid": "d4f3ea29-ebad-40d4-87c8-6754b52dcde0",
         "x": [
          20,
          19,
          25,
          28,
          30,
          29,
          10,
          21,
          23,
          24,
          10,
          25,
          28,
          20,
          5,
          21,
          27,
          19,
          29,
          15,
          19,
          18,
          11,
          8,
          9,
          17,
          29,
          26,
          31,
          18,
          13,
          23,
          28,
          17,
          15
         ],
         "y": [
          "ESO1A",
          "ESO1B",
          "ESO1C",
          "ESO2A",
          "ESO2B",
          "ESO2C",
          "ESO2D",
          "ESO3A",
          "ESO3B",
          "ESO3C",
          "ESO3D",
          "ESO4A",
          "ESO4B",
          "1FPB",
          "2FPB",
          "1CIE",
          "1SOC",
          "2CIE",
          "2SOC",
          "1TEL",
          "1ELE",
          "1CAR",
          "2TEL",
          "2ELE",
          "2CAR",
          "1ARI",
          "1ALO",
          "1GIT",
          "1ASR",
          "1DAW",
          "2ARI",
          "2ALO",
          "2GIT",
          "2ASR",
          "2DAW"
         ]
        },
        {
         "marker": {
          "color": "rgb(31,120,180)"
         },
         "name": "Éxito",
         "orientation": "h",
         "type": "bar",
         "uid": "826cc34f-0444-46cd-97e0-84fab77dd1fd",
         "x": [
          3,
          9,
          3,
          15,
          13,
          12,
          3,
          9,
          8,
          5,
          1,
          11,
          3,
          3,
          5,
          7,
          7,
          5,
          11,
          5,
          7,
          5,
          11,
          7,
          8,
          7,
          21,
          12,
          11,
          6,
          13,
          23,
          23,
          16,
          13
         ],
         "y": [
          "ESO1A",
          "ESO1B",
          "ESO1C",
          "ESO2A",
          "ESO2B",
          "ESO2C",
          "ESO2D",
          "ESO3A",
          "ESO3B",
          "ESO3C",
          "ESO3D",
          "ESO4A",
          "ESO4B",
          "1FPB",
          "2FPB",
          "1CIE",
          "1SOC",
          "2CIE",
          "2SOC",
          "1TEL",
          "1ELE",
          "1CAR",
          "2TEL",
          "2ELE",
          "2CAR",
          "1ARI",
          "1ALO",
          "1GIT",
          "1ASR",
          "1DAW",
          "2ARI",
          "2ALO",
          "2GIT",
          "2ASR",
          "2DAW"
         ]
        }
       ],
       "layout": {
        "barmode": "overlay",
        "height": 1000,
        "title": {
         "text": ""
        },
        "width": 700,
        "yaxis": {
         "autorange": "reversed",
         "type": "category"
        }
       }
      },
      "text/html": [
       "<div>\n",
       "        \n",
       "        \n",
       "            <div id=\"d9d646c0-cdb5-46e5-814e-495fdc7a2554\" class=\"plotly-graph-div\" style=\"height:1000px; width:700px;\"></div>\n",
       "            <script type=\"text/javascript\">\n",
       "                require([\"plotly\"], function(Plotly) {\n",
       "                    window.PLOTLYENV=window.PLOTLYENV || {};\n",
       "                    window.PLOTLYENV.BASE_URL='https://plot.ly';\n",
       "                    \n",
       "                if (document.getElementById(\"d9d646c0-cdb5-46e5-814e-495fdc7a2554\")) {\n",
       "                    Plotly.newPlot(\n",
       "                        'd9d646c0-cdb5-46e5-814e-495fdc7a2554',\n",
       "                        [{\"marker\": {\"color\": \"rgb(166,206,227)\"}, \"name\": \"Ratio\", \"orientation\": \"h\", \"type\": \"bar\", \"uid\": \"dd453622-09a2-46ff-99b8-1d4e3f64efe0\", \"x\": [20, 19, 25, 28, 30, 29, 10, 21, 23, 24, 10, 25, 28, 20, 5, 21, 27, 19, 29, 15, 19, 18, 11, 8, 9, 17, 29, 26, 31, 18, 13, 23, 28, 17, 15], \"y\": [\"ESO1A\", \"ESO1B\", \"ESO1C\", \"ESO2A\", \"ESO2B\", \"ESO2C\", \"ESO2D\", \"ESO3A\", \"ESO3B\", \"ESO3C\", \"ESO3D\", \"ESO4A\", \"ESO4B\", \"1FPB\", \"2FPB\", \"1CIE\", \"1SOC\", \"2CIE\", \"2SOC\", \"1TEL\", \"1ELE\", \"1CAR\", \"2TEL\", \"2ELE\", \"2CAR\", \"1ARI\", \"1ALO\", \"1GIT\", \"1ASR\", \"1DAW\", \"2ARI\", \"2ALO\", \"2GIT\", \"2ASR\", \"2DAW\"]}, {\"marker\": {\"color\": \"rgb(31,120,180)\"}, \"name\": \"\\u00c9xito\", \"orientation\": \"h\", \"type\": \"bar\", \"uid\": \"2fd4b48d-144c-4987-8577-a93525b0d194\", \"x\": [3.0, 9.0, 3.0, 15.0, 13.0, 12.0, 3.0, 9.0, 8.0, 5.0, 1.0, 11.0, 3.0, 3.0, 5.0, 7.0, 7.0, 5.0, 11.0, 5.0, 7.0, 5.0, 11.0, 7.0, 8.0, 7.0, 21.0, 12.0, 11.0, 6.0, 13.0, 23.0, 23.0, 16.0, 13.0], \"y\": [\"ESO1A\", \"ESO1B\", \"ESO1C\", \"ESO2A\", \"ESO2B\", \"ESO2C\", \"ESO2D\", \"ESO3A\", \"ESO3B\", \"ESO3C\", \"ESO3D\", \"ESO4A\", \"ESO4B\", \"1FPB\", \"2FPB\", \"1CIE\", \"1SOC\", \"2CIE\", \"2SOC\", \"1TEL\", \"1ELE\", \"1CAR\", \"2TEL\", \"2ELE\", \"2CAR\", \"1ARI\", \"1ALO\", \"1GIT\", \"1ASR\", \"1DAW\", \"2ARI\", \"2ALO\", \"2GIT\", \"2ASR\", \"2DAW\"]}],\n",
       "                        {\"barmode\": \"overlay\", \"height\": 1000, \"title\": {\"text\": \"\"}, \"width\": 700, \"yaxis\": {\"autorange\": \"reversed\", \"type\": \"category\"}},\n",
       "                        {\"showLink\": false, \"linkText\": \"Export to plot.ly\", \"plotlyServerURL\": \"https://plot.ly\", \"responsive\": true}\n",
       "                    ).then(function(){\n",
       "                            \n",
       "var gd = document.getElementById('d9d646c0-cdb5-46e5-814e-495fdc7a2554');\n",
       "var x = new MutationObserver(function (mutations, observer) {{\n",
       "        var display = window.getComputedStyle(gd).display;\n",
       "        if (!display || display === 'none') {{\n",
       "            console.log([gd, 'removed!']);\n",
       "            Plotly.purge(gd);\n",
       "            observer.disconnect();\n",
       "        }}\n",
       "}});\n",
       "\n",
       "// Listen for the removal of the full notebook cells\n",
       "var notebookContainer = gd.closest('#notebook-container');\n",
       "if (notebookContainer) {{\n",
       "    x.observe(notebookContainer, {childList: true});\n",
       "}}\n",
       "\n",
       "// Listen for the clearing of the current output cell\n",
       "var outputEl = gd.closest('.output');\n",
       "if (outputEl) {{\n",
       "    x.observe(outputEl, {childList: true});\n",
       "}}\n",
       "\n",
       "                        })\n",
       "                };\n",
       "                });\n",
       "            </script>\n",
       "        </div>"
      ]
     },
     "metadata": {},
     "output_type": "display_data"
    }
   ],
   "source": [
    "myplotly.hbar((dfc['ratio'], dfc['éxito_abs']), dfc.index, trace_names=('Ratio', 'Éxito'))"
   ]
  },
  {
   "cell_type": "markdown",
   "metadata": {},
   "source": [
    "## ESO"
   ]
  },
  {
   "cell_type": "code",
   "execution_count": 14,
   "metadata": {
    "scrolled": false
   },
   "outputs": [
    {
     "data": {
      "application/vnd.plotly.v1+json": {
       "config": {
        "linkText": "Export to plot.ly",
        "plotlyServerURL": "https://plot.ly",
        "responsive": true,
        "showLink": false
       },
       "data": [
        {
         "hoverinfo": "x+text",
         "marker": {
          "color": [
           15,
           47.4,
           12,
           53.6,
           43.3,
           41.4,
           30,
           42.9,
           34.8,
           20.8,
           10,
           44,
           10.7
          ],
          "colorscale": [
           [
            0,
            "rgb(186,228,179)"
           ],
           [
            0.3333333333333333,
            "rgb(116,196,118)"
           ],
           [
            0.6666666666666666,
            "rgb(49,163,84)"
           ],
           [
            1,
            "rgb(0,109,44)"
           ]
          ]
         },
         "text": [
          "15.00%",
          "47.40%",
          "12.00%",
          "53.60%",
          "43.30%",
          "41.40%",
          "30.00%",
          "42.90%",
          "34.80%",
          "20.80%",
          "10.00%",
          "44.00%",
          "10.70%"
         ],
         "type": "bar",
         "uid": "accfb73a-a082-49e3-997e-42e87fb572ad",
         "x": [
          "ESO1A",
          "ESO1B",
          "ESO1C",
          "ESO2A",
          "ESO2B",
          "ESO2C",
          "ESO2D",
          "ESO3A",
          "ESO3B",
          "ESO3C",
          "ESO3D",
          "ESO4A",
          "ESO4B"
         ],
         "y": [
          15,
          47.4,
          12,
          53.6,
          43.3,
          41.4,
          30,
          42.9,
          34.8,
          20.8,
          10,
          44,
          10.7
         ]
        }
       ],
       "layout": {
        "title": {
         "text": ""
        }
       }
      },
      "text/html": [
       "<div>\n",
       "        \n",
       "        \n",
       "            <div id=\"ba4b44a7-70a2-4faf-9f07-f86b49ad0320\" class=\"plotly-graph-div\" style=\"height:525px; width:100%;\"></div>\n",
       "            <script type=\"text/javascript\">\n",
       "                require([\"plotly\"], function(Plotly) {\n",
       "                    window.PLOTLYENV=window.PLOTLYENV || {};\n",
       "                    window.PLOTLYENV.BASE_URL='https://plot.ly';\n",
       "                    \n",
       "                if (document.getElementById(\"ba4b44a7-70a2-4faf-9f07-f86b49ad0320\")) {\n",
       "                    Plotly.newPlot(\n",
       "                        'ba4b44a7-70a2-4faf-9f07-f86b49ad0320',\n",
       "                        [{\"hoverinfo\": \"x+text\", \"marker\": {\"color\": [15.0, 47.4, 12.0, 53.6, 43.3, 41.4, 30.0, 42.9, 34.8, 20.8, 10.0, 44.0, 10.7], \"colorscale\": [[0.0, \"rgb(186,228,179)\"], [0.3333333333333333, \"rgb(116,196,118)\"], [0.6666666666666666, \"rgb(49,163,84)\"], [1.0, \"rgb(0,109,44)\"]]}, \"text\": [\"15.00%\", \"47.40%\", \"12.00%\", \"53.60%\", \"43.30%\", \"41.40%\", \"30.00%\", \"42.90%\", \"34.80%\", \"20.80%\", \"10.00%\", \"44.00%\", \"10.70%\"], \"type\": \"bar\", \"uid\": \"92c32e26-0a11-456c-a528-2fae7f54b74d\", \"x\": [\"ESO1A\", \"ESO1B\", \"ESO1C\", \"ESO2A\", \"ESO2B\", \"ESO2C\", \"ESO2D\", \"ESO3A\", \"ESO3B\", \"ESO3C\", \"ESO3D\", \"ESO4A\", \"ESO4B\"], \"y\": [15.0, 47.4, 12.0, 53.6, 43.3, 41.4, 30.0, 42.9, 34.8, 20.8, 10.0, 44.0, 10.7]}],\n",
       "                        {\"title\": {\"text\": \"\"}},\n",
       "                        {\"showLink\": false, \"linkText\": \"Export to plot.ly\", \"plotlyServerURL\": \"https://plot.ly\", \"responsive\": true}\n",
       "                    ).then(function(){\n",
       "                            \n",
       "var gd = document.getElementById('ba4b44a7-70a2-4faf-9f07-f86b49ad0320');\n",
       "var x = new MutationObserver(function (mutations, observer) {{\n",
       "        var display = window.getComputedStyle(gd).display;\n",
       "        if (!display || display === 'none') {{\n",
       "            console.log([gd, 'removed!']);\n",
       "            Plotly.purge(gd);\n",
       "            observer.disconnect();\n",
       "        }}\n",
       "}});\n",
       "\n",
       "// Listen for the removal of the full notebook cells\n",
       "var notebookContainer = gd.closest('#notebook-container');\n",
       "if (notebookContainer) {{\n",
       "    x.observe(notebookContainer, {childList: true});\n",
       "}}\n",
       "\n",
       "// Listen for the clearing of the current output cell\n",
       "var outputEl = gd.closest('.output');\n",
       "if (outputEl) {{\n",
       "    x.observe(outputEl, {childList: true});\n",
       "}}\n",
       "\n",
       "                        })\n",
       "                };\n",
       "                });\n",
       "            </script>\n",
       "        </div>"
      ]
     },
     "metadata": {},
     "output_type": "display_data"
    }
   ],
   "source": [
    "dfc_ESO = loaders.get_data_by_stages(dfc, 'ESO')\n",
    "myplotly.bar_simple(dfc_ESO.index, dfc_ESO['éxito'])"
   ]
  },
  {
   "cell_type": "code",
   "execution_count": 15,
   "metadata": {
    "scrolled": true
   },
   "outputs": [
    {
     "data": {
      "text/plain": [
       "éxito                       31.223077\n",
       "absentismo_justificado       2.947692\n",
       "absentismo_injustificado     4.873846\n",
       "partes                       1.153846\n",
       "suspensión_asistencia        0.692308\n",
       "ratio                       22.461538\n",
       "absentismo                   7.821538\n",
       "éxito_abs                    7.307692\n",
       "ccbb                         4.740110\n",
       "dtype: float64"
      ]
     },
     "execution_count": 15,
     "metadata": {},
     "output_type": "execute_result"
    }
   ],
   "source": [
    "dfc_ESO.mean()"
   ]
  },
  {
   "cell_type": "markdown",
   "metadata": {},
   "source": [
    "## FPB"
   ]
  },
  {
   "cell_type": "code",
   "execution_count": 16,
   "metadata": {},
   "outputs": [
    {
     "data": {
      "application/vnd.plotly.v1+json": {
       "config": {
        "linkText": "Export to plot.ly",
        "plotlyServerURL": "https://plot.ly",
        "responsive": true,
        "showLink": false
       },
       "data": [
        {
         "hoverinfo": "x+text",
         "marker": {
          "color": [
           15,
           100
          ],
          "colorscale": [
           [
            0,
            "rgb(186,228,179)"
           ],
           [
            0.3333333333333333,
            "rgb(116,196,118)"
           ],
           [
            0.6666666666666666,
            "rgb(49,163,84)"
           ],
           [
            1,
            "rgb(0,109,44)"
           ]
          ]
         },
         "text": [
          "15.00%",
          "100.00%"
         ],
         "type": "bar",
         "uid": "eb8fc7c0-143b-4840-98a4-393011bb6d31",
         "x": [
          "1FPB",
          "2FPB"
         ],
         "y": [
          15,
          100
         ]
        }
       ],
       "layout": {
        "title": {
         "text": ""
        }
       }
      },
      "text/html": [
       "<div>\n",
       "        \n",
       "        \n",
       "            <div id=\"c4f73377-01b5-4077-a492-ee7f1fb08116\" class=\"plotly-graph-div\" style=\"height:525px; width:100%;\"></div>\n",
       "            <script type=\"text/javascript\">\n",
       "                require([\"plotly\"], function(Plotly) {\n",
       "                    window.PLOTLYENV=window.PLOTLYENV || {};\n",
       "                    window.PLOTLYENV.BASE_URL='https://plot.ly';\n",
       "                    \n",
       "                if (document.getElementById(\"c4f73377-01b5-4077-a492-ee7f1fb08116\")) {\n",
       "                    Plotly.newPlot(\n",
       "                        'c4f73377-01b5-4077-a492-ee7f1fb08116',\n",
       "                        [{\"hoverinfo\": \"x+text\", \"marker\": {\"color\": [15.0, 100.0], \"colorscale\": [[0.0, \"rgb(186,228,179)\"], [0.3333333333333333, \"rgb(116,196,118)\"], [0.6666666666666666, \"rgb(49,163,84)\"], [1.0, \"rgb(0,109,44)\"]]}, \"text\": [\"15.00%\", \"100.00%\"], \"type\": \"bar\", \"uid\": \"62c847ea-36c7-4c21-abb8-5a61ca0ab291\", \"x\": [\"1FPB\", \"2FPB\"], \"y\": [15.0, 100.0]}],\n",
       "                        {\"title\": {\"text\": \"\"}},\n",
       "                        {\"showLink\": false, \"linkText\": \"Export to plot.ly\", \"plotlyServerURL\": \"https://plot.ly\", \"responsive\": true}\n",
       "                    ).then(function(){\n",
       "                            \n",
       "var gd = document.getElementById('c4f73377-01b5-4077-a492-ee7f1fb08116');\n",
       "var x = new MutationObserver(function (mutations, observer) {{\n",
       "        var display = window.getComputedStyle(gd).display;\n",
       "        if (!display || display === 'none') {{\n",
       "            console.log([gd, 'removed!']);\n",
       "            Plotly.purge(gd);\n",
       "            observer.disconnect();\n",
       "        }}\n",
       "}});\n",
       "\n",
       "// Listen for the removal of the full notebook cells\n",
       "var notebookContainer = gd.closest('#notebook-container');\n",
       "if (notebookContainer) {{\n",
       "    x.observe(notebookContainer, {childList: true});\n",
       "}}\n",
       "\n",
       "// Listen for the clearing of the current output cell\n",
       "var outputEl = gd.closest('.output');\n",
       "if (outputEl) {{\n",
       "    x.observe(outputEl, {childList: true});\n",
       "}}\n",
       "\n",
       "                        })\n",
       "                };\n",
       "                });\n",
       "            </script>\n",
       "        </div>"
      ]
     },
     "metadata": {},
     "output_type": "display_data"
    }
   ],
   "source": [
    "dfc_FPB = loaders.get_data_by_stages(dfc, 'FPB')\n",
    "myplotly.bar_simple(dfc_FPB.index, dfc_FPB['éxito'])"
   ]
  },
  {
   "cell_type": "code",
   "execution_count": 17,
   "metadata": {},
   "outputs": [
    {
     "data": {
      "text/plain": [
       "éxito                       57.500\n",
       "absentismo_justificado       3.750\n",
       "absentismo_injustificado    22.435\n",
       "partes                       3.500\n",
       "suspensión_asistencia        1.000\n",
       "ratio                       12.500\n",
       "absentismo                  26.185\n",
       "éxito_abs                    4.000\n",
       "ccbb                           NaN\n",
       "dtype: float64"
      ]
     },
     "execution_count": 17,
     "metadata": {},
     "output_type": "execute_result"
    }
   ],
   "source": [
    "dfc_FPB.mean()"
   ]
  },
  {
   "cell_type": "markdown",
   "metadata": {},
   "source": [
    "## BACHILLERATO"
   ]
  },
  {
   "cell_type": "code",
   "execution_count": 18,
   "metadata": {
    "scrolled": true
   },
   "outputs": [
    {
     "data": {
      "application/vnd.plotly.v1+json": {
       "config": {
        "linkText": "Export to plot.ly",
        "plotlyServerURL": "https://plot.ly",
        "responsive": true,
        "showLink": false
       },
       "data": [
        {
         "hoverinfo": "x+text",
         "marker": {
          "color": [
           33.3,
           25.9,
           26.3,
           37.9
          ],
          "colorscale": [
           [
            0,
            "rgb(186,228,179)"
           ],
           [
            0.3333333333333333,
            "rgb(116,196,118)"
           ],
           [
            0.6666666666666666,
            "rgb(49,163,84)"
           ],
           [
            1,
            "rgb(0,109,44)"
           ]
          ]
         },
         "text": [
          "33.30%",
          "25.90%",
          "26.30%",
          "37.90%"
         ],
         "type": "bar",
         "uid": "c5562429-6864-4914-ba8d-f9797e9536b6",
         "x": [
          "1CIE",
          "1SOC",
          "2CIE",
          "2SOC"
         ],
         "y": [
          33.3,
          25.9,
          26.3,
          37.9
         ]
        }
       ],
       "layout": {
        "title": {
         "text": ""
        }
       }
      },
      "text/html": [
       "<div>\n",
       "        \n",
       "        \n",
       "            <div id=\"64986749-f047-47b5-ba2b-af539bd278ae\" class=\"plotly-graph-div\" style=\"height:525px; width:100%;\"></div>\n",
       "            <script type=\"text/javascript\">\n",
       "                require([\"plotly\"], function(Plotly) {\n",
       "                    window.PLOTLYENV=window.PLOTLYENV || {};\n",
       "                    window.PLOTLYENV.BASE_URL='https://plot.ly';\n",
       "                    \n",
       "                if (document.getElementById(\"64986749-f047-47b5-ba2b-af539bd278ae\")) {\n",
       "                    Plotly.newPlot(\n",
       "                        '64986749-f047-47b5-ba2b-af539bd278ae',\n",
       "                        [{\"hoverinfo\": \"x+text\", \"marker\": {\"color\": [33.3, 25.9, 26.3, 37.9], \"colorscale\": [[0.0, \"rgb(186,228,179)\"], [0.3333333333333333, \"rgb(116,196,118)\"], [0.6666666666666666, \"rgb(49,163,84)\"], [1.0, \"rgb(0,109,44)\"]]}, \"text\": [\"33.30%\", \"25.90%\", \"26.30%\", \"37.90%\"], \"type\": \"bar\", \"uid\": \"3767dd4b-3b25-4dc9-bfa6-26ac1b403c10\", \"x\": [\"1CIE\", \"1SOC\", \"2CIE\", \"2SOC\"], \"y\": [33.3, 25.9, 26.3, 37.9]}],\n",
       "                        {\"title\": {\"text\": \"\"}},\n",
       "                        {\"showLink\": false, \"linkText\": \"Export to plot.ly\", \"plotlyServerURL\": \"https://plot.ly\", \"responsive\": true}\n",
       "                    ).then(function(){\n",
       "                            \n",
       "var gd = document.getElementById('64986749-f047-47b5-ba2b-af539bd278ae');\n",
       "var x = new MutationObserver(function (mutations, observer) {{\n",
       "        var display = window.getComputedStyle(gd).display;\n",
       "        if (!display || display === 'none') {{\n",
       "            console.log([gd, 'removed!']);\n",
       "            Plotly.purge(gd);\n",
       "            observer.disconnect();\n",
       "        }}\n",
       "}});\n",
       "\n",
       "// Listen for the removal of the full notebook cells\n",
       "var notebookContainer = gd.closest('#notebook-container');\n",
       "if (notebookContainer) {{\n",
       "    x.observe(notebookContainer, {childList: true});\n",
       "}}\n",
       "\n",
       "// Listen for the clearing of the current output cell\n",
       "var outputEl = gd.closest('.output');\n",
       "if (outputEl) {{\n",
       "    x.observe(outputEl, {childList: true});\n",
       "}}\n",
       "\n",
       "                        })\n",
       "                };\n",
       "                });\n",
       "            </script>\n",
       "        </div>"
      ]
     },
     "metadata": {},
     "output_type": "display_data"
    }
   ],
   "source": [
    "dfc_BACH = loaders.get_data_by_stages(dfc, 'BACH')\n",
    "myplotly.bar_simple(dfc_BACH.index, dfc_BACH['éxito'])"
   ]
  },
  {
   "cell_type": "code",
   "execution_count": 19,
   "metadata": {
    "scrolled": false
   },
   "outputs": [
    {
     "data": {
      "text/plain": [
       "éxito                       30.850\n",
       "absentismo_justificado       3.370\n",
       "absentismo_injustificado     3.125\n",
       "partes                       0.000\n",
       "suspensión_asistencia        0.000\n",
       "ratio                       24.000\n",
       "absentismo                   6.495\n",
       "éxito_abs                    7.500\n",
       "ccbb                           NaN\n",
       "dtype: float64"
      ]
     },
     "execution_count": 19,
     "metadata": {},
     "output_type": "execute_result"
    }
   ],
   "source": [
    "dfc_BACH.mean()"
   ]
  },
  {
   "cell_type": "markdown",
   "metadata": {},
   "source": [
    "## CICLOS FORMATIVOS DE GRADO MEDIO"
   ]
  },
  {
   "cell_type": "code",
   "execution_count": 20,
   "metadata": {
    "scrolled": true
   },
   "outputs": [
    {
     "data": {
      "application/vnd.plotly.v1+json": {
       "config": {
        "linkText": "Export to plot.ly",
        "plotlyServerURL": "https://plot.ly",
        "responsive": true,
        "showLink": false
       },
       "data": [
        {
         "hoverinfo": "x+text",
         "marker": {
          "color": [
           33.3,
           36.8,
           27.8,
           100,
           87.5,
           88.9
          ],
          "colorscale": [
           [
            0,
            "rgb(186,228,179)"
           ],
           [
            0.3333333333333333,
            "rgb(116,196,118)"
           ],
           [
            0.6666666666666666,
            "rgb(49,163,84)"
           ],
           [
            1,
            "rgb(0,109,44)"
           ]
          ]
         },
         "text": [
          "33.30%",
          "36.80%",
          "27.80%",
          "100.00%",
          "87.50%",
          "88.90%"
         ],
         "type": "bar",
         "uid": "7ef193a0-e873-4133-bcb7-a4909ba5cd6b",
         "x": [
          "1TEL",
          "1ELE",
          "1CAR",
          "2TEL",
          "2ELE",
          "2CAR"
         ],
         "y": [
          33.3,
          36.8,
          27.8,
          100,
          87.5,
          88.9
         ]
        }
       ],
       "layout": {
        "title": {
         "text": ""
        }
       }
      },
      "text/html": [
       "<div>\n",
       "        \n",
       "        \n",
       "            <div id=\"d8727259-0055-4969-aeba-7c1fddabe5bb\" class=\"plotly-graph-div\" style=\"height:525px; width:100%;\"></div>\n",
       "            <script type=\"text/javascript\">\n",
       "                require([\"plotly\"], function(Plotly) {\n",
       "                    window.PLOTLYENV=window.PLOTLYENV || {};\n",
       "                    window.PLOTLYENV.BASE_URL='https://plot.ly';\n",
       "                    \n",
       "                if (document.getElementById(\"d8727259-0055-4969-aeba-7c1fddabe5bb\")) {\n",
       "                    Plotly.newPlot(\n",
       "                        'd8727259-0055-4969-aeba-7c1fddabe5bb',\n",
       "                        [{\"hoverinfo\": \"x+text\", \"marker\": {\"color\": [33.3, 36.8, 27.8, 100.0, 87.5, 88.9], \"colorscale\": [[0.0, \"rgb(186,228,179)\"], [0.3333333333333333, \"rgb(116,196,118)\"], [0.6666666666666666, \"rgb(49,163,84)\"], [1.0, \"rgb(0,109,44)\"]]}, \"text\": [\"33.30%\", \"36.80%\", \"27.80%\", \"100.00%\", \"87.50%\", \"88.90%\"], \"type\": \"bar\", \"uid\": \"cbfcb59c-6abb-423c-8dc4-2e70ea0e3f72\", \"x\": [\"1TEL\", \"1ELE\", \"1CAR\", \"2TEL\", \"2ELE\", \"2CAR\"], \"y\": [33.3, 36.8, 27.8, 100.0, 87.5, 88.9]}],\n",
       "                        {\"title\": {\"text\": \"\"}},\n",
       "                        {\"showLink\": false, \"linkText\": \"Export to plot.ly\", \"plotlyServerURL\": \"https://plot.ly\", \"responsive\": true}\n",
       "                    ).then(function(){\n",
       "                            \n",
       "var gd = document.getElementById('d8727259-0055-4969-aeba-7c1fddabe5bb');\n",
       "var x = new MutationObserver(function (mutations, observer) {{\n",
       "        var display = window.getComputedStyle(gd).display;\n",
       "        if (!display || display === 'none') {{\n",
       "            console.log([gd, 'removed!']);\n",
       "            Plotly.purge(gd);\n",
       "            observer.disconnect();\n",
       "        }}\n",
       "}});\n",
       "\n",
       "// Listen for the removal of the full notebook cells\n",
       "var notebookContainer = gd.closest('#notebook-container');\n",
       "if (notebookContainer) {{\n",
       "    x.observe(notebookContainer, {childList: true});\n",
       "}}\n",
       "\n",
       "// Listen for the clearing of the current output cell\n",
       "var outputEl = gd.closest('.output');\n",
       "if (outputEl) {{\n",
       "    x.observe(outputEl, {childList: true});\n",
       "}}\n",
       "\n",
       "                        })\n",
       "                };\n",
       "                });\n",
       "            </script>\n",
       "        </div>"
      ]
     },
     "metadata": {},
     "output_type": "display_data"
    }
   ],
   "source": [
    "dfc_CFGM = loaders.get_data_by_stages(dfc, 'CFGM')\n",
    "myplotly.bar_simple(dfc_CFGM.index, dfc_CFGM['éxito'])"
   ]
  },
  {
   "cell_type": "code",
   "execution_count": 21,
   "metadata": {
    "scrolled": false
   },
   "outputs": [
    {
     "data": {
      "text/plain": [
       "éxito                       62.383333\n",
       "absentismo_justificado       2.661667\n",
       "absentismo_injustificado    12.836667\n",
       "partes                       0.000000\n",
       "suspensión_asistencia        0.000000\n",
       "ratio                       13.333333\n",
       "absentismo                  15.498333\n",
       "éxito_abs                    7.166667\n",
       "ccbb                              NaN\n",
       "dtype: float64"
      ]
     },
     "execution_count": 21,
     "metadata": {},
     "output_type": "execute_result"
    }
   ],
   "source": [
    "dfc_CFGM.mean()"
   ]
  },
  {
   "cell_type": "markdown",
   "metadata": {},
   "source": [
    "## CICLOS FORMATIVOS DE GRADO SUPERIOR"
   ]
  },
  {
   "cell_type": "code",
   "execution_count": 22,
   "metadata": {
    "scrolled": true
   },
   "outputs": [
    {
     "data": {
      "application/vnd.plotly.v1+json": {
       "config": {
        "linkText": "Export to plot.ly",
        "plotlyServerURL": "https://plot.ly",
        "responsive": true,
        "showLink": false
       },
       "data": [
        {
         "hoverinfo": "x+text",
         "marker": {
          "color": [
           41.2,
           72.4,
           46.2,
           35.5,
           33.3,
           100,
           100,
           82.1,
           94.1,
           86.7
          ],
          "colorscale": [
           [
            0,
            "rgb(186,228,179)"
           ],
           [
            0.3333333333333333,
            "rgb(116,196,118)"
           ],
           [
            0.6666666666666666,
            "rgb(49,163,84)"
           ],
           [
            1,
            "rgb(0,109,44)"
           ]
          ]
         },
         "text": [
          "41.20%",
          "72.40%",
          "46.20%",
          "35.50%",
          "33.30%",
          "100.00%",
          "100.00%",
          "82.10%",
          "94.10%",
          "86.70%"
         ],
         "type": "bar",
         "uid": "a65dfc29-bb60-415a-85b0-0520a07f2e1d",
         "x": [
          "1ARI",
          "1ALO",
          "1GIT",
          "1ASR",
          "1DAW",
          "2ARI",
          "2ALO",
          "2GIT",
          "2ASR",
          "2DAW"
         ],
         "y": [
          41.2,
          72.4,
          46.2,
          35.5,
          33.3,
          100,
          100,
          82.1,
          94.1,
          86.7
         ]
        }
       ],
       "layout": {
        "title": {
         "text": ""
        }
       }
      },
      "text/html": [
       "<div>\n",
       "        \n",
       "        \n",
       "            <div id=\"7cb92dfd-6c87-4f99-82d9-3d767fe08438\" class=\"plotly-graph-div\" style=\"height:525px; width:100%;\"></div>\n",
       "            <script type=\"text/javascript\">\n",
       "                require([\"plotly\"], function(Plotly) {\n",
       "                    window.PLOTLYENV=window.PLOTLYENV || {};\n",
       "                    window.PLOTLYENV.BASE_URL='https://plot.ly';\n",
       "                    \n",
       "                if (document.getElementById(\"7cb92dfd-6c87-4f99-82d9-3d767fe08438\")) {\n",
       "                    Plotly.newPlot(\n",
       "                        '7cb92dfd-6c87-4f99-82d9-3d767fe08438',\n",
       "                        [{\"hoverinfo\": \"x+text\", \"marker\": {\"color\": [41.2, 72.4, 46.2, 35.5, 33.3, 100.0, 100.0, 82.1, 94.1, 86.7], \"colorscale\": [[0.0, \"rgb(186,228,179)\"], [0.3333333333333333, \"rgb(116,196,118)\"], [0.6666666666666666, \"rgb(49,163,84)\"], [1.0, \"rgb(0,109,44)\"]]}, \"text\": [\"41.20%\", \"72.40%\", \"46.20%\", \"35.50%\", \"33.30%\", \"100.00%\", \"100.00%\", \"82.10%\", \"94.10%\", \"86.70%\"], \"type\": \"bar\", \"uid\": \"dd194249-fafe-4795-bd0e-7d45f8951bb7\", \"x\": [\"1ARI\", \"1ALO\", \"1GIT\", \"1ASR\", \"1DAW\", \"2ARI\", \"2ALO\", \"2GIT\", \"2ASR\", \"2DAW\"], \"y\": [41.2, 72.4, 46.2, 35.5, 33.3, 100.0, 100.0, 82.1, 94.1, 86.7]}],\n",
       "                        {\"title\": {\"text\": \"\"}},\n",
       "                        {\"showLink\": false, \"linkText\": \"Export to plot.ly\", \"plotlyServerURL\": \"https://plot.ly\", \"responsive\": true}\n",
       "                    ).then(function(){\n",
       "                            \n",
       "var gd = document.getElementById('7cb92dfd-6c87-4f99-82d9-3d767fe08438');\n",
       "var x = new MutationObserver(function (mutations, observer) {{\n",
       "        var display = window.getComputedStyle(gd).display;\n",
       "        if (!display || display === 'none') {{\n",
       "            console.log([gd, 'removed!']);\n",
       "            Plotly.purge(gd);\n",
       "            observer.disconnect();\n",
       "        }}\n",
       "}});\n",
       "\n",
       "// Listen for the removal of the full notebook cells\n",
       "var notebookContainer = gd.closest('#notebook-container');\n",
       "if (notebookContainer) {{\n",
       "    x.observe(notebookContainer, {childList: true});\n",
       "}}\n",
       "\n",
       "// Listen for the clearing of the current output cell\n",
       "var outputEl = gd.closest('.output');\n",
       "if (outputEl) {{\n",
       "    x.observe(outputEl, {childList: true});\n",
       "}}\n",
       "\n",
       "                        })\n",
       "                };\n",
       "                });\n",
       "            </script>\n",
       "        </div>"
      ]
     },
     "metadata": {},
     "output_type": "display_data"
    }
   ],
   "source": [
    "dfc_CFGS = loaders.get_data_by_stages(dfc, 'CFGS')\n",
    "myplotly.bar_simple(dfc_CFGS.index, dfc_CFGS['éxito'])"
   ]
  },
  {
   "cell_type": "code",
   "execution_count": 23,
   "metadata": {
    "scrolled": false
   },
   "outputs": [
    {
     "data": {
      "text/plain": [
       "éxito                       69.150\n",
       "absentismo_justificado       2.456\n",
       "absentismo_injustificado     8.464\n",
       "partes                       0.000\n",
       "suspensión_asistencia        0.000\n",
       "ratio                       21.700\n",
       "absentismo                  10.920\n",
       "éxito_abs                   14.500\n",
       "ccbb                           NaN\n",
       "dtype: float64"
      ]
     },
     "execution_count": 23,
     "metadata": {},
     "output_type": "execute_result"
    }
   ],
   "source": [
    "dfc_CFGS.mean()"
   ]
  },
  {
   "cell_type": "markdown",
   "metadata": {},
   "source": [
    "## GLOBAL"
   ]
  },
  {
   "cell_type": "code",
   "execution_count": 24,
   "metadata": {
    "scrolled": false
   },
   "outputs": [
    {
     "data": {
      "application/vnd.plotly.v1+json": {
       "config": {
        "linkText": "Export to plot.ly",
        "plotlyServerURL": "https://plot.ly",
        "responsive": true,
        "showLink": false
       },
       "data": [
        {
         "hoverinfo": "x+text",
         "marker": {
          "color": [
           31.223076923076924,
           57.5,
           30.85,
           62.383333333333326,
           69.15
          ],
          "colorscale": [
           [
            0,
            "rgb(186,228,179)"
           ],
           [
            0.3333333333333333,
            "rgb(116,196,118)"
           ],
           [
            0.6666666666666666,
            "rgb(49,163,84)"
           ],
           [
            1,
            "rgb(0,109,44)"
           ]
          ]
         },
         "text": [
          "31.22%",
          "57.50%",
          "30.85%",
          "62.38%",
          "69.15%"
         ],
         "type": "bar",
         "uid": "35ec3698-45c0-4af0-88fe-0f71e2d99d2e",
         "x": [
          "ESO",
          "FPB",
          "BACH",
          "CFGM",
          "CFGS"
         ],
         "y": [
          31.223076923076924,
          57.5,
          30.85,
          62.383333333333326,
          69.15
         ]
        }
       ],
       "layout": {
        "title": {
         "text": ""
        }
       }
      },
      "text/html": [
       "<div>\n",
       "        \n",
       "        \n",
       "            <div id=\"c4a9cef8-9074-4a6d-a55b-72a8a5a574a8\" class=\"plotly-graph-div\" style=\"height:525px; width:100%;\"></div>\n",
       "            <script type=\"text/javascript\">\n",
       "                require([\"plotly\"], function(Plotly) {\n",
       "                    window.PLOTLYENV=window.PLOTLYENV || {};\n",
       "                    window.PLOTLYENV.BASE_URL='https://plot.ly';\n",
       "                    \n",
       "                if (document.getElementById(\"c4a9cef8-9074-4a6d-a55b-72a8a5a574a8\")) {\n",
       "                    Plotly.newPlot(\n",
       "                        'c4a9cef8-9074-4a6d-a55b-72a8a5a574a8',\n",
       "                        [{\"hoverinfo\": \"x+text\", \"marker\": {\"color\": [31.223076923076924, 57.5, 30.85, 62.383333333333326, 69.15], \"colorscale\": [[0.0, \"rgb(186,228,179)\"], [0.3333333333333333, \"rgb(116,196,118)\"], [0.6666666666666666, \"rgb(49,163,84)\"], [1.0, \"rgb(0,109,44)\"]]}, \"text\": [\"31.22%\", \"57.50%\", \"30.85%\", \"62.38%\", \"69.15%\"], \"type\": \"bar\", \"uid\": \"cf907af5-b5c0-4171-81af-629c75c28813\", \"x\": [\"ESO\", \"FPB\", \"BACH\", \"CFGM\", \"CFGS\"], \"y\": [31.223076923076924, 57.5, 30.85, 62.383333333333326, 69.15]}],\n",
       "                        {\"title\": {\"text\": \"\"}},\n",
       "                        {\"showLink\": false, \"linkText\": \"Export to plot.ly\", \"plotlyServerURL\": \"https://plot.ly\", \"responsive\": true}\n",
       "                    ).then(function(){\n",
       "                            \n",
       "var gd = document.getElementById('c4a9cef8-9074-4a6d-a55b-72a8a5a574a8');\n",
       "var x = new MutationObserver(function (mutations, observer) {{\n",
       "        var display = window.getComputedStyle(gd).display;\n",
       "        if (!display || display === 'none') {{\n",
       "            console.log([gd, 'removed!']);\n",
       "            Plotly.purge(gd);\n",
       "            observer.disconnect();\n",
       "        }}\n",
       "}});\n",
       "\n",
       "// Listen for the removal of the full notebook cells\n",
       "var notebookContainer = gd.closest('#notebook-container');\n",
       "if (notebookContainer) {{\n",
       "    x.observe(notebookContainer, {childList: true});\n",
       "}}\n",
       "\n",
       "// Listen for the clearing of the current output cell\n",
       "var outputEl = gd.closest('.output');\n",
       "if (outputEl) {{\n",
       "    x.observe(outputEl, {childList: true});\n",
       "}}\n",
       "\n",
       "                        })\n",
       "                };\n",
       "                });\n",
       "            </script>\n",
       "        </div>"
      ]
     },
     "metadata": {},
     "output_type": "display_data"
    }
   ],
   "source": [
    "dfc_summary = dfc.groupby('etapa').mean().loc[stages]\n",
    "myplotly.bar_simple(dfc_summary.index, dfc_summary['éxito'])"
   ]
  },
  {
   "cell_type": "markdown",
   "metadata": {},
   "source": [
    "## COMPARATIVA CON LOS ÚLTIMOS CURSOS"
   ]
  },
  {
   "cell_type": "code",
   "execution_count": 25,
   "metadata": {},
   "outputs": [
    {
     "data": {
      "application/vnd.plotly.v1+json": {
       "config": {
        "linkText": "Export to plot.ly",
        "plotlyServerURL": "https://plot.ly",
        "responsive": true,
        "showLink": false
       },
       "data": [
        {
         "hoverinfo": "x+text+name",
         "name": "C1617",
         "text": [
          "26.36%",
          "64.75%",
          "33.60%",
          "62.95%",
          "68.75%"
         ],
         "type": "bar",
         "uid": "ebab4f45-31a5-4f33-8810-22bc7047675e",
         "x": [
          "ESO",
          "FPB",
          "BACH",
          "CFGM",
          "CFGS"
         ],
         "y": [
          26.358333333333334,
          64.75,
          33.6,
          62.95000000000001,
          68.75
         ]
        },
        {
         "hoverinfo": "x+text+name",
         "name": "C1718",
         "text": [
          "28.35%",
          "40.90%",
          "45.92%",
          "61.03%",
          "66.63%"
         ],
         "type": "bar",
         "uid": "c338cdcf-2f34-4bdf-afff-98380aec597f",
         "x": [
          "ESO",
          "FPB",
          "BACH",
          "CFGM",
          "CFGS"
         ],
         "y": [
          28.346153846153847,
          40.9,
          45.925,
          61.03333333333334,
          66.63000000000001
         ]
        },
        {
         "hoverinfo": "x+text+name",
         "name": "C1819",
         "text": [
          "31.22%",
          "57.50%",
          "30.85%",
          "62.38%",
          "69.15%"
         ],
         "type": "bar",
         "uid": "d3f6c75c-a774-4c23-98a6-fcfd6d621cc8",
         "x": [
          "ESO",
          "FPB",
          "BACH",
          "CFGM",
          "CFGS"
         ],
         "y": [
          31.223076923076924,
          57.5,
          30.85,
          62.383333333333326,
          69.15
         ]
        }
       ],
       "layout": {
        "barmode": "group"
       }
      },
      "text/html": [
       "<div>\n",
       "        \n",
       "        \n",
       "            <div id=\"c962623e-dff4-4c11-b86b-9567c3a63f55\" class=\"plotly-graph-div\" style=\"height:525px; width:100%;\"></div>\n",
       "            <script type=\"text/javascript\">\n",
       "                require([\"plotly\"], function(Plotly) {\n",
       "                    window.PLOTLYENV=window.PLOTLYENV || {};\n",
       "                    window.PLOTLYENV.BASE_URL='https://plot.ly';\n",
       "                    \n",
       "                if (document.getElementById(\"c962623e-dff4-4c11-b86b-9567c3a63f55\")) {\n",
       "                    Plotly.newPlot(\n",
       "                        'c962623e-dff4-4c11-b86b-9567c3a63f55',\n",
       "                        [{\"hoverinfo\": \"x+text+name\", \"name\": \"C1617\", \"text\": [\"26.36%\", \"64.75%\", \"33.60%\", \"62.95%\", \"68.75%\"], \"type\": \"bar\", \"uid\": \"5bb70bcd-7be8-4843-911d-55b7a0f1c538\", \"x\": [\"ESO\", \"FPB\", \"BACH\", \"CFGM\", \"CFGS\"], \"y\": [26.358333333333334, 64.75, 33.6, 62.95000000000001, 68.75]}, {\"hoverinfo\": \"x+text+name\", \"name\": \"C1718\", \"text\": [\"28.35%\", \"40.90%\", \"45.92%\", \"61.03%\", \"66.63%\"], \"type\": \"bar\", \"uid\": \"cf3998d2-7b41-4344-aa4f-44addf50bedb\", \"x\": [\"ESO\", \"FPB\", \"BACH\", \"CFGM\", \"CFGS\"], \"y\": [28.346153846153847, 40.9, 45.925, 61.03333333333334, 66.63000000000001]}, {\"hoverinfo\": \"x+text+name\", \"name\": \"C1819\", \"text\": [\"31.22%\", \"57.50%\", \"30.85%\", \"62.38%\", \"69.15%\"], \"type\": \"bar\", \"uid\": \"58853708-4ba2-4fa1-99b8-c8c6553ce0a4\", \"x\": [\"ESO\", \"FPB\", \"BACH\", \"CFGM\", \"CFGS\"], \"y\": [31.223076923076924, 57.5, 30.85, 62.383333333333326, 69.15]}],\n",
       "                        {\"barmode\": \"group\"},\n",
       "                        {\"showLink\": false, \"linkText\": \"Export to plot.ly\", \"plotlyServerURL\": \"https://plot.ly\", \"responsive\": true}\n",
       "                    ).then(function(){\n",
       "                            \n",
       "var gd = document.getElementById('c962623e-dff4-4c11-b86b-9567c3a63f55');\n",
       "var x = new MutationObserver(function (mutations, observer) {{\n",
       "        var display = window.getComputedStyle(gd).display;\n",
       "        if (!display || display === 'none') {{\n",
       "            console.log([gd, 'removed!']);\n",
       "            Plotly.purge(gd);\n",
       "            observer.disconnect();\n",
       "        }}\n",
       "}});\n",
       "\n",
       "// Listen for the removal of the full notebook cells\n",
       "var notebookContainer = gd.closest('#notebook-container');\n",
       "if (notebookContainer) {{\n",
       "    x.observe(notebookContainer, {childList: true});\n",
       "}}\n",
       "\n",
       "// Listen for the clearing of the current output cell\n",
       "var outputEl = gd.closest('.output');\n",
       "if (outputEl) {{\n",
       "    x.observe(outputEl, {childList: true});\n",
       "}}\n",
       "\n",
       "                        })\n",
       "                };\n",
       "                });\n",
       "            </script>\n",
       "        </div>"
      ]
     },
     "metadata": {},
     "output_type": "display_data"
    }
   ],
   "source": [
    "aux = df.groupby(['etapa', 'curso', 'evaluación']).mean().reset_index().set_index('etapa')\n",
    "series = {year: aux.loc[stages].query(f'curso == \"{year}\" & evaluación == \"{labels[-1][1]}\"')['éxito'].values\n",
    "          for year in years}\n",
    "\n",
    "myplotly.cbar(stages, series)"
   ]
  },
  {
   "cell_type": "code",
   "execution_count": 26,
   "metadata": {
    "scrolled": false
   },
   "outputs": [
    {
     "data": {
      "text/html": [
       "\n",
       "<div class='alert alert-info' role=\"alert\">\n",
       "    Éxito global medio: <b>48.86</b>%\n",
       "</div>\n"
      ],
      "text/plain": [
       "<IPython.core.display.HTML object>"
      ]
     },
     "metadata": {},
     "output_type": "display_data"
    }
   ],
   "source": [
    "mean_success = dfc['éxito'].mean()\n",
    "display(HTML(f'''\n",
    "<div class='alert alert-info' role=\"alert\">\n",
    "    Éxito global medio: <b>{mean_success:.2f}</b>%\n",
    "</div>\n",
    "'''))"
   ]
  },
  {
   "cell_type": "code",
   "execution_count": 27,
   "metadata": {
    "scrolled": false
   },
   "outputs": [
    {
     "data": {
      "text/html": [
       "<h2>EVOLUCIÓN DE GRUPOS CON RESPECTO A LA EVALUACIÓN ANTERIOR</h2>"
      ],
      "text/plain": [
       "<IPython.core.display.HTML object>"
      ]
     },
     "metadata": {},
     "output_type": "display_data"
    },
    {
     "data": {
      "application/vnd.plotly.v1+json": {
       "config": {
        "linkText": "Export to plot.ly",
        "plotlyServerURL": "https://plot.ly",
        "responsive": true,
        "showLink": false
       },
       "data": [
        {
         "hoverinfo": "x+text",
         "marker": {
          "color": [
           "red",
           "green",
           "red",
           "green",
           "green",
           "red",
           "green",
           "green",
           "red",
           "red",
           "green",
           "red",
           "red",
           "red",
           "green",
           "red",
           "red",
           "green",
           "red",
           "green",
           "green",
           "red",
           "green",
           "green",
           "green",
           "red",
           "red",
           "green",
           "red",
           "green",
           "green",
           "green",
           "green",
           "green",
           "green"
          ]
         },
         "text": [
          "-5.00%",
          "0.00%",
          "-16.00%",
          "10.70%",
          "0.40%",
          "-5.00%",
          "20.90%",
          "19.10%",
          "-1.60%",
          "-2.30%",
          "0.00%",
          "-8.00%",
          "-9.30%",
          "-15.00%",
          "20.00%",
          "-14.30%",
          "-3.70%",
          "5.20%",
          "-12.10%",
          "12.20%",
          "11.80%",
          "-27.80%",
          "27.30%",
          "37.50%",
          "22.20%",
          "-29.40%",
          "-10.40%",
          "2.90%",
          "-6.40%",
          "14.80%",
          "50.00%",
          "8.70%",
          "25.00%",
          "35.30%",
          "36.70%"
         ],
         "type": "bar",
         "uid": "bbfaf632-6a95-4bcd-aedb-e54c0304f622",
         "x": [
          "ESO1A",
          "ESO1B",
          "ESO1C",
          "ESO2A",
          "ESO2B",
          "ESO2C",
          "ESO2D",
          "ESO3A",
          "ESO3B",
          "ESO3C",
          "ESO3D",
          "ESO4A",
          "ESO4B",
          "1FPB",
          "2FPB",
          "1CIE",
          "1SOC",
          "2CIE",
          "2SOC",
          "1TEL",
          "1ELE",
          "1CAR",
          "2TEL",
          "2ELE",
          "2CAR",
          "1ARI",
          "1ALO",
          "1GIT",
          "1ASR",
          "1DAW",
          "2ARI",
          "2ALO",
          "2GIT",
          "2ASR",
          "2DAW"
         ],
         "y": [
          -5,
          0,
          -16,
          10.700000000000003,
          0.3999999999999986,
          -5,
          20.9,
          19.099999999999998,
          -1.6000000000000014,
          -2.3000000000000007,
          0,
          -8,
          -9.3,
          -15,
          20,
          -14.300000000000004,
          -3.700000000000003,
          5.199999999999999,
          -12.100000000000001,
          12.199999999999996,
          11.799999999999997,
          -27.8,
          27.299999999999997,
          37.5,
          22.200000000000003,
          -29.39999999999999,
          -10.399999999999991,
          2.9000000000000057,
          -6.399999999999999,
          14.799999999999997,
          50,
          8.700000000000003,
          24.999999999999993,
          35.3,
          36.7
         ]
        }
       ],
       "layout": {
        "title": {
         "text": ""
        }
       }
      },
      "text/html": [
       "<div>\n",
       "        \n",
       "        \n",
       "            <div id=\"a8b3f032-2128-4809-ad54-e14108beee81\" class=\"plotly-graph-div\" style=\"height:525px; width:100%;\"></div>\n",
       "            <script type=\"text/javascript\">\n",
       "                require([\"plotly\"], function(Plotly) {\n",
       "                    window.PLOTLYENV=window.PLOTLYENV || {};\n",
       "                    window.PLOTLYENV.BASE_URL='https://plot.ly';\n",
       "                    \n",
       "                if (document.getElementById(\"a8b3f032-2128-4809-ad54-e14108beee81\")) {\n",
       "                    Plotly.newPlot(\n",
       "                        'a8b3f032-2128-4809-ad54-e14108beee81',\n",
       "                        [{\"hoverinfo\": \"x+text\", \"marker\": {\"color\": [\"red\", \"green\", \"red\", \"green\", \"green\", \"red\", \"green\", \"green\", \"red\", \"red\", \"green\", \"red\", \"red\", \"red\", \"green\", \"red\", \"red\", \"green\", \"red\", \"green\", \"green\", \"red\", \"green\", \"green\", \"green\", \"red\", \"red\", \"green\", \"red\", \"green\", \"green\", \"green\", \"green\", \"green\", \"green\"]}, \"text\": [\"-5.00%\", \"0.00%\", \"-16.00%\", \"10.70%\", \"0.40%\", \"-5.00%\", \"20.90%\", \"19.10%\", \"-1.60%\", \"-2.30%\", \"0.00%\", \"-8.00%\", \"-9.30%\", \"-15.00%\", \"20.00%\", \"-14.30%\", \"-3.70%\", \"5.20%\", \"-12.10%\", \"12.20%\", \"11.80%\", \"-27.80%\", \"27.30%\", \"37.50%\", \"22.20%\", \"-29.40%\", \"-10.40%\", \"2.90%\", \"-6.40%\", \"14.80%\", \"50.00%\", \"8.70%\", \"25.00%\", \"35.30%\", \"36.70%\"], \"type\": \"bar\", \"uid\": \"13fa258f-584d-42b3-861e-87e8dcb0fc4f\", \"x\": [\"ESO1A\", \"ESO1B\", \"ESO1C\", \"ESO2A\", \"ESO2B\", \"ESO2C\", \"ESO2D\", \"ESO3A\", \"ESO3B\", \"ESO3C\", \"ESO3D\", \"ESO4A\", \"ESO4B\", \"1FPB\", \"2FPB\", \"1CIE\", \"1SOC\", \"2CIE\", \"2SOC\", \"1TEL\", \"1ELE\", \"1CAR\", \"2TEL\", \"2ELE\", \"2CAR\", \"1ARI\", \"1ALO\", \"1GIT\", \"1ASR\", \"1DAW\", \"2ARI\", \"2ALO\", \"2GIT\", \"2ASR\", \"2DAW\"], \"y\": [-5.0, 0.0, -16.0, 10.700000000000003, 0.3999999999999986, -5.0, 20.9, 19.099999999999998, -1.6000000000000014, -2.3000000000000007, 0.0, -8.0, -9.3, -15.0, 20.0, -14.300000000000004, -3.700000000000003, 5.199999999999999, -12.100000000000001, 12.199999999999996, 11.799999999999997, -27.8, 27.299999999999997, 37.5, 22.200000000000003, -29.39999999999999, -10.399999999999991, 2.9000000000000057, -6.399999999999999, 14.799999999999997, 50.0, 8.700000000000003, 24.999999999999993, 35.3, 36.7]}],\n",
       "                        {\"title\": {\"text\": \"\"}},\n",
       "                        {\"showLink\": false, \"linkText\": \"Export to plot.ly\", \"plotlyServerURL\": \"https://plot.ly\", \"responsive\": true}\n",
       "                    ).then(function(){\n",
       "                            \n",
       "var gd = document.getElementById('a8b3f032-2128-4809-ad54-e14108beee81');\n",
       "var x = new MutationObserver(function (mutations, observer) {{\n",
       "        var display = window.getComputedStyle(gd).display;\n",
       "        if (!display || display === 'none') {{\n",
       "            console.log([gd, 'removed!']);\n",
       "            Plotly.purge(gd);\n",
       "            observer.disconnect();\n",
       "        }}\n",
       "}});\n",
       "\n",
       "// Listen for the removal of the full notebook cells\n",
       "var notebookContainer = gd.closest('#notebook-container');\n",
       "if (notebookContainer) {{\n",
       "    x.observe(notebookContainer, {childList: true});\n",
       "}}\n",
       "\n",
       "// Listen for the clearing of the current output cell\n",
       "var outputEl = gd.closest('.output');\n",
       "if (outputEl) {{\n",
       "    x.observe(outputEl, {childList: true});\n",
       "}}\n",
       "\n",
       "                        })\n",
       "                };\n",
       "                });\n",
       "            </script>\n",
       "        </div>"
      ]
     },
     "metadata": {},
     "output_type": "display_data"
    }
   ],
   "source": [
    "if EVALUATION > 1:\n",
    "    display(HTML('<h2>EVOLUCIÓN DE GRUPOS CON RESPECTO A LA EVALUACIÓN ANTERIOR</h2>'))\n",
    "\n",
    "    aux = df_comp['éxito_x'] - df_comp['éxito_y']\n",
    "    myplotly.dbar(aux.index, aux)"
   ]
  },
  {
   "cell_type": "markdown",
   "metadata": {},
   "source": [
    "## COMPETENCIAS BÁSICAS"
   ]
  },
  {
   "cell_type": "markdown",
   "metadata": {},
   "source": [
    "**CL**: Comunicación lingüística.  \n",
    "**CMCT**: Competencia matemática y competencias básicas en ciencia y tecnología.  \n",
    "**CD**: Competencia digital.  \n",
    "**AAP**: Aprender a aprender.  \n",
    "**CSC**: Competencias sociales y cívicas.  \n",
    "**SIEE**: Sentido de iniciativa y espíritu emprendedor.  \n",
    "**CEC**: Conciencia y expresiones culturales."
   ]
  },
  {
   "cell_type": "markdown",
   "metadata": {},
   "source": [
    "#### Valor resumen por competencia básica:\n",
    "\\begin{equation}\n",
    "MARCA = 0.025 * \\mathbb{PA} + 0.050 * \\mathbb{AD} + 0.075 * \\mathbb{MA} + 0.1 * \\mathbb{EX}\n",
    "\\end{equation}\n",
    "\n",
    ", donde $\\mathbb{PA}$, $\\mathbb{AD}$, $\\mathbb{MA}$ y $\\mathbb{EX}$ son los porcentajes de adquisición de la competencia básica en cuestión."
   ]
  },
  {
   "cell_type": "markdown",
   "metadata": {},
   "source": [
    "### ESTUDIO POR NIVELES Y COMPETENCIA"
   ]
  },
  {
   "cell_type": "code",
   "execution_count": 29,
   "metadata": {
    "scrolled": true
   },
   "outputs": [
    {
     "data": {
      "application/vnd.plotly.v1+json": {
       "config": {
        "linkText": "Export to plot.ly",
        "plotlyServerURL": "https://plot.ly",
        "responsive": true,
        "showLink": false
       },
       "data": [
        {
         "hoverinfo": "x+text+name",
         "legendgroup": "PA",
         "marker": {
          "color": "rgb(215,25,28)"
         },
         "name": "PA",
         "text": [
          "33.67%",
          "14.33%",
          "22.33%",
          "38.00%",
          "40.67%",
          "30.33%",
          "46.33%"
         ],
         "type": "bar",
         "uid": "396e622d-0af6-4081-837f-2584cde06bfa",
         "x": [
          "AAP",
          "CD",
          "CEC",
          "CL",
          "CMCT",
          "CSC",
          "SIEE"
         ],
         "xaxis": "x",
         "y": [
          33.666666666666664,
          14.333333333333334,
          22.333333333333332,
          38,
          40.666666666666664,
          30.333333333333332,
          46.333333333333336
         ],
         "yaxis": "y"
        },
        {
         "hoverinfo": "x+text+name",
         "legendgroup": "AD",
         "marker": {
          "color": "rgb(253,174,97)"
         },
         "name": "AD",
         "text": [
          "53.33%",
          "75.00%",
          "76.33%",
          "53.33%",
          "46.33%",
          "62.67%",
          "45.00%"
         ],
         "type": "bar",
         "uid": "798f88d3-d546-4e64-bee9-a078f62c06bf",
         "x": [
          "AAP",
          "CD",
          "CEC",
          "CL",
          "CMCT",
          "CSC",
          "SIEE"
         ],
         "xaxis": "x",
         "y": [
          53.333333333333336,
          75,
          76.33333333333333,
          53.333333333333336,
          46.333333333333336,
          62.666666666666664,
          45
         ],
         "yaxis": "y"
        },
        {
         "hoverinfo": "x+text+name",
         "legendgroup": "MA",
         "marker": {
          "color": "rgb(171,221,164)"
         },
         "name": "MA",
         "text": [
          "11.33%",
          "10.67%",
          "1.33%",
          "7.00%",
          "11.33%",
          "7.00%",
          "7.00%"
         ],
         "type": "bar",
         "uid": "df653faf-fb8b-48fc-960b-05ba9a8fddc8",
         "x": [
          "AAP",
          "CD",
          "CEC",
          "CL",
          "CMCT",
          "CSC",
          "SIEE"
         ],
         "xaxis": "x",
         "y": [
          11.333333333333334,
          10.666666666666666,
          1.3333333333333333,
          7,
          11.333333333333334,
          7,
          7
         ],
         "yaxis": "y"
        },
        {
         "hoverinfo": "x+text+name",
         "legendgroup": "EX",
         "marker": {
          "color": "rgb(43,131,186)"
         },
         "name": "EX",
         "text": [
          "1.67%",
          "0.00%",
          "0.00%",
          "1.67%",
          "1.67%",
          "0.00%",
          "1.67%"
         ],
         "type": "bar",
         "uid": "0b5ca192-9adb-4398-a24b-1f36d5ffcfa5",
         "x": [
          "AAP",
          "CD",
          "CEC",
          "CL",
          "CMCT",
          "CSC",
          "SIEE"
         ],
         "xaxis": "x",
         "y": [
          1.6666666666666667,
          0,
          0,
          1.6666666666666667,
          1.6666666666666667,
          0,
          1.6666666666666667
         ],
         "yaxis": "y"
        },
        {
         "hoverinfo": "x+text+name",
         "legendgroup": "PA",
         "marker": {
          "color": "rgb(215,25,28)"
         },
         "name": "PA",
         "showlegend": false,
         "text": [
          "35.33%",
          "22.00%",
          "23.00%",
          "33.00%",
          "36.67%",
          "28.67%",
          "30.67%"
         ],
         "type": "bar",
         "uid": "ce2d7509-e1d1-49e1-8c22-bcb35bb9184c",
         "x": [
          "AAP",
          "CD",
          "CEC",
          "CL",
          "CMCT",
          "CSC",
          "SIEE"
         ],
         "xaxis": "x2",
         "y": [
          35.333333333333336,
          22,
          23,
          33,
          36.666666666666664,
          28.666666666666668,
          30.666666666666668
         ],
         "yaxis": "y"
        },
        {
         "hoverinfo": "x+text+name",
         "legendgroup": "AD",
         "marker": {
          "color": "rgb(253,174,97)"
         },
         "name": "AD",
         "showlegend": false,
         "text": [
          "39.00%",
          "56.67%",
          "53.00%",
          "39.33%",
          "34.33%",
          "48.33%",
          "49.33%"
         ],
         "type": "bar",
         "uid": "3167e27a-a778-427f-833d-5cd448507ab5",
         "x": [
          "AAP",
          "CD",
          "CEC",
          "CL",
          "CMCT",
          "CSC",
          "SIEE"
         ],
         "xaxis": "x2",
         "y": [
          39,
          56.666666666666664,
          53,
          39.333333333333336,
          34.333333333333336,
          48.333333333333336,
          49.333333333333336
         ],
         "yaxis": "y"
        },
        {
         "hoverinfo": "x+text+name",
         "legendgroup": "MA",
         "marker": {
          "color": "rgb(171,221,164)"
         },
         "name": "MA",
         "showlegend": false,
         "text": [
          "24.33%",
          "20.67%",
          "22.00%",
          "25.33%",
          "22.00%",
          "19.67%",
          "19.67%"
         ],
         "type": "bar",
         "uid": "f10940d9-d613-44dd-8c31-9cf43043e3f4",
         "x": [
          "AAP",
          "CD",
          "CEC",
          "CL",
          "CMCT",
          "CSC",
          "SIEE"
         ],
         "xaxis": "x2",
         "y": [
          24.333333333333332,
          20.666666666666668,
          22,
          25.333333333333332,
          22,
          19.666666666666668,
          19.666666666666668
         ],
         "yaxis": "y"
        },
        {
         "hoverinfo": "x+text+name",
         "legendgroup": "EX",
         "marker": {
          "color": "rgb(43,131,186)"
         },
         "name": "EX",
         "showlegend": false,
         "text": [
          "1.00%",
          "1.00%",
          "2.00%",
          "2.33%",
          "7.00%",
          "3.67%",
          "0.00%"
         ],
         "type": "bar",
         "uid": "9e380bf8-0cf4-40b4-802a-2cc5bea34c98",
         "x": [
          "AAP",
          "CD",
          "CEC",
          "CL",
          "CMCT",
          "CSC",
          "SIEE"
         ],
         "xaxis": "x2",
         "y": [
          1,
          1,
          2,
          2.3333333333333335,
          7,
          3.6666666666666665,
          0
         ],
         "yaxis": "y"
        },
        {
         "hoverinfo": "x+text+name",
         "legendgroup": "PA",
         "marker": {
          "color": "rgb(215,25,28)"
         },
         "name": "PA",
         "showlegend": false,
         "text": [
          "50.00%",
          "10.00%",
          "20.00%",
          "40.00%",
          "50.00%",
          "60.00%",
          "50.00%"
         ],
         "type": "bar",
         "uid": "acb10b4a-2686-4e0a-8d85-d61c7850ecdc",
         "x": [
          "AAP",
          "CD",
          "CEC",
          "CL",
          "CMCT",
          "CSC",
          "SIEE"
         ],
         "xaxis": "x3",
         "y": [
          50,
          10,
          20,
          40,
          50,
          60,
          50
         ],
         "yaxis": "y2"
        },
        {
         "hoverinfo": "x+text+name",
         "legendgroup": "AD",
         "marker": {
          "color": "rgb(253,174,97)"
         },
         "name": "AD",
         "showlegend": false,
         "text": [
          "50.00%",
          "90.00%",
          "80.00%",
          "60.00%",
          "50.00%",
          "40.00%",
          "50.00%"
         ],
         "type": "bar",
         "uid": "bb99ec22-628c-4c41-a72c-55aaa52c8f65",
         "x": [
          "AAP",
          "CD",
          "CEC",
          "CL",
          "CMCT",
          "CSC",
          "SIEE"
         ],
         "xaxis": "x3",
         "y": [
          50,
          90,
          80,
          60,
          50,
          40,
          50
         ],
         "yaxis": "y2"
        },
        {
         "hoverinfo": "x+text+name",
         "legendgroup": "MA",
         "marker": {
          "color": "rgb(171,221,164)"
         },
         "name": "MA",
         "showlegend": false,
         "text": [
          "0.00%",
          "0.00%",
          "0.00%",
          "0.00%",
          "0.00%",
          "0.00%",
          "0.00%"
         ],
         "type": "bar",
         "uid": "b6c0309d-43a7-451e-95cc-f9a1b77a1d6a",
         "x": [
          "AAP",
          "CD",
          "CEC",
          "CL",
          "CMCT",
          "CSC",
          "SIEE"
         ],
         "xaxis": "x3",
         "y": [
          0,
          0,
          0,
          0,
          0,
          0,
          0
         ],
         "yaxis": "y2"
        },
        {
         "hoverinfo": "x+text+name",
         "legendgroup": "EX",
         "marker": {
          "color": "rgb(43,131,186)"
         },
         "name": "EX",
         "showlegend": false,
         "text": [
          "0.00%",
          "0.00%",
          "0.00%",
          "0.00%",
          "0.00%",
          "0.00%",
          "0.00%"
         ],
         "type": "bar",
         "uid": "95b6c51f-4878-45c1-a57e-bdced5c8fb30",
         "x": [
          "AAP",
          "CD",
          "CEC",
          "CL",
          "CMCT",
          "CSC",
          "SIEE"
         ],
         "xaxis": "x3",
         "y": [
          0,
          0,
          0,
          0,
          0,
          0,
          0
         ],
         "yaxis": "y2"
        },
        {
         "hoverinfo": "x+text+name",
         "legendgroup": "PA",
         "marker": {
          "color": "rgb(215,25,28)"
         },
         "name": "PA",
         "showlegend": false,
         "text": [
          "21.00%",
          "2.67%",
          "2.67%",
          "34.33%",
          "38.67%",
          "13.00%",
          "20.33%"
         ],
         "type": "bar",
         "uid": "bc951a69-668a-4db1-b0da-7dfdaf367884",
         "x": [
          "AAP",
          "CD",
          "CEC",
          "CL",
          "CMCT",
          "CSC",
          "SIEE"
         ],
         "xaxis": "x4",
         "y": [
          21,
          2.6666666666666665,
          2.6666666666666665,
          34.333333333333336,
          38.666666666666664,
          13,
          20.333333333333332
         ],
         "yaxis": "y2"
        },
        {
         "hoverinfo": "x+text+name",
         "legendgroup": "AD",
         "marker": {
          "color": "rgb(253,174,97)"
         },
         "name": "AD",
         "showlegend": false,
         "text": [
          "53.67%",
          "69.33%",
          "73.67%",
          "46.33%",
          "28.67%",
          "66.33%",
          "55.33%"
         ],
         "type": "bar",
         "uid": "feb2f8eb-8fc4-471f-b7ed-31c5ca71c5ad",
         "x": [
          "AAP",
          "CD",
          "CEC",
          "CL",
          "CMCT",
          "CSC",
          "SIEE"
         ],
         "xaxis": "x4",
         "y": [
          53.666666666666664,
          69.33333333333333,
          73.66666666666667,
          46.333333333333336,
          28.666666666666668,
          66.33333333333333,
          55.333333333333336
         ],
         "yaxis": "y2"
        },
        {
         "hoverinfo": "x+text+name",
         "legendgroup": "MA",
         "marker": {
          "color": "rgb(171,221,164)"
         },
         "name": "MA",
         "showlegend": false,
         "text": [
          "16.33%",
          "23.33%",
          "22.33%",
          "15.00%",
          "25.33%",
          "18.00%",
          "17.33%"
         ],
         "type": "bar",
         "uid": "a072f101-8bbb-4453-8131-e708154a948a",
         "x": [
          "AAP",
          "CD",
          "CEC",
          "CL",
          "CMCT",
          "CSC",
          "SIEE"
         ],
         "xaxis": "x4",
         "y": [
          16.333333333333332,
          23.333333333333332,
          22.333333333333332,
          15,
          25.333333333333332,
          18,
          17.333333333333332
         ],
         "yaxis": "y2"
        },
        {
         "hoverinfo": "x+text+name",
         "legendgroup": "EX",
         "marker": {
          "color": "rgb(43,131,186)"
         },
         "name": "EX",
         "showlegend": false,
         "text": [
          "9.00%",
          "4.67%",
          "1.33%",
          "4.33%",
          "7.67%",
          "2.67%",
          "7.67%"
         ],
         "type": "bar",
         "uid": "4fe9791b-e3ad-454e-8139-1958c2c09a2a",
         "x": [
          "AAP",
          "CD",
          "CEC",
          "CL",
          "CMCT",
          "CSC",
          "SIEE"
         ],
         "xaxis": "x4",
         "y": [
          9,
          4.666666666666667,
          1.3333333333333333,
          4.333333333333333,
          7.666666666666667,
          2.6666666666666665,
          7.666666666666667
         ],
         "yaxis": "y2"
        },
        {
         "hoverinfo": "x+text+name",
         "legendgroup": "PA",
         "marker": {
          "color": "rgb(215,25,28)"
         },
         "name": "PA",
         "showlegend": false,
         "text": [
          "50.00%",
          "70.00%",
          "20.00%",
          "60.00%",
          "70.00%",
          "40.00%",
          "60.00%"
         ],
         "type": "bar",
         "uid": "3b883cc3-21a9-448c-a094-887139a393fe",
         "x": [
          "AAP",
          "CD",
          "CEC",
          "CL",
          "CMCT",
          "CSC",
          "SIEE"
         ],
         "xaxis": "x5",
         "y": [
          50,
          70,
          20,
          60,
          70,
          40,
          60
         ],
         "yaxis": "y3"
        },
        {
         "hoverinfo": "x+text+name",
         "legendgroup": "AD",
         "marker": {
          "color": "rgb(253,174,97)"
         },
         "name": "AD",
         "showlegend": false,
         "text": [
          "50.00%",
          "30.00%",
          "80.00%",
          "40.00%",
          "30.00%",
          "60.00%",
          "40.00%"
         ],
         "type": "bar",
         "uid": "71e9f5f8-b32f-40c8-bc14-5ef332050961",
         "x": [
          "AAP",
          "CD",
          "CEC",
          "CL",
          "CMCT",
          "CSC",
          "SIEE"
         ],
         "xaxis": "x5",
         "y": [
          50,
          30,
          80,
          40,
          30,
          60,
          40
         ],
         "yaxis": "y3"
        },
        {
         "hoverinfo": "x+text+name",
         "legendgroup": "MA",
         "marker": {
          "color": "rgb(171,221,164)"
         },
         "name": "MA",
         "showlegend": false,
         "text": [
          "0.00%",
          "0.00%",
          "0.00%",
          "0.00%",
          "0.00%",
          "0.00%",
          "0.00%"
         ],
         "type": "bar",
         "uid": "a8480e42-9d37-47bc-a278-66f8f35eb955",
         "x": [
          "AAP",
          "CD",
          "CEC",
          "CL",
          "CMCT",
          "CSC",
          "SIEE"
         ],
         "xaxis": "x5",
         "y": [
          0,
          0,
          0,
          0,
          0,
          0,
          0
         ],
         "yaxis": "y3"
        },
        {
         "hoverinfo": "x+text+name",
         "legendgroup": "EX",
         "marker": {
          "color": "rgb(43,131,186)"
         },
         "name": "EX",
         "showlegend": false,
         "text": [
          "0.00%",
          "0.00%",
          "0.00%",
          "0.00%",
          "0.00%",
          "0.00%",
          "0.00%"
         ],
         "type": "bar",
         "uid": "e40437fe-a6ac-46b1-833d-35dc76fa912e",
         "x": [
          "AAP",
          "CD",
          "CEC",
          "CL",
          "CMCT",
          "CSC",
          "SIEE"
         ],
         "xaxis": "x5",
         "y": [
          0,
          0,
          0,
          0,
          0,
          0,
          0
         ],
         "yaxis": "y3"
        },
        {
         "hoverinfo": "x+text+name",
         "legendgroup": "PA",
         "marker": {
          "color": "rgb(215,25,28)"
         },
         "name": "PA",
         "showlegend": false,
         "text": [
          "26.00%",
          "4.00%",
          "9.00%",
          "42.00%",
          "54.00%",
          "11.00%",
          "31.00%"
         ],
         "type": "bar",
         "uid": "73e8286f-bc85-42a6-832b-7b116dbde51f",
         "x": [
          "AAP",
          "CD",
          "CEC",
          "CL",
          "CMCT",
          "CSC",
          "SIEE"
         ],
         "xaxis": "x6",
         "y": [
          26,
          4,
          9,
          42,
          54,
          11,
          31
         ],
         "yaxis": "y3"
        },
        {
         "hoverinfo": "x+text+name",
         "legendgroup": "AD",
         "marker": {
          "color": "rgb(253,174,97)"
         },
         "name": "AD",
         "showlegend": false,
         "text": [
          "52.50%",
          "73.00%",
          "73.00%",
          "36.50%",
          "30.00%",
          "64.00%",
          "51.00%"
         ],
         "type": "bar",
         "uid": "e06a370f-8dc1-46a8-aeba-c573ec3c1406",
         "x": [
          "AAP",
          "CD",
          "CEC",
          "CL",
          "CMCT",
          "CSC",
          "SIEE"
         ],
         "xaxis": "x6",
         "y": [
          52.5,
          73,
          73,
          36.5,
          30,
          64,
          51
         ],
         "yaxis": "y3"
        },
        {
         "hoverinfo": "x+text+name",
         "legendgroup": "MA",
         "marker": {
          "color": "rgb(171,221,164)"
         },
         "name": "MA",
         "showlegend": false,
         "text": [
          "17.50%",
          "19.00%",
          "12.00%",
          "15.50%",
          "12.00%",
          "20.50%",
          "11.50%"
         ],
         "type": "bar",
         "uid": "4585393b-2740-46be-849c-fc4e8b25ed3b",
         "x": [
          "AAP",
          "CD",
          "CEC",
          "CL",
          "CMCT",
          "CSC",
          "SIEE"
         ],
         "xaxis": "x6",
         "y": [
          17.5,
          19,
          12,
          15.5,
          12,
          20.5,
          11.5
         ],
         "yaxis": "y3"
        },
        {
         "hoverinfo": "x+text+name",
         "legendgroup": "EX",
         "marker": {
          "color": "rgb(43,131,186)"
         },
         "name": "EX",
         "showlegend": false,
         "text": [
          "4.00%",
          "4.00%",
          "6.00%",
          "6.00%",
          "4.00%",
          "4.00%",
          "6.00%"
         ],
         "type": "bar",
         "uid": "483d1f64-3831-4851-a1bb-171eb8aeb888",
         "x": [
          "AAP",
          "CD",
          "CEC",
          "CL",
          "CMCT",
          "CSC",
          "SIEE"
         ],
         "xaxis": "x6",
         "y": [
          4,
          4,
          6,
          6,
          4,
          4,
          6
         ],
         "yaxis": "y3"
        }
       ],
       "layout": {
        "annotations": [
         {
          "font": {
           "size": 16
          },
          "showarrow": false,
          "text": "1ESO",
          "x": 0.225,
          "xanchor": "center",
          "xref": "paper",
          "y": 1,
          "yanchor": "bottom",
          "yref": "paper"
         },
         {
          "font": {
           "size": 16
          },
          "showarrow": false,
          "text": "2ESO",
          "x": 0.775,
          "xanchor": "center",
          "xref": "paper",
          "y": 1,
          "yanchor": "bottom",
          "yref": "paper"
         },
         {
          "font": {
           "size": 16
          },
          "showarrow": false,
          "text": "1PMAR",
          "x": 0.225,
          "xanchor": "center",
          "xref": "paper",
          "y": 0.6111111111111112,
          "yanchor": "bottom",
          "yref": "paper"
         },
         {
          "font": {
           "size": 16
          },
          "showarrow": false,
          "text": "3ESO",
          "x": 0.775,
          "xanchor": "center",
          "xref": "paper",
          "y": 0.6111111111111112,
          "yanchor": "bottom",
          "yref": "paper"
         },
         {
          "font": {
           "size": 16
          },
          "showarrow": false,
          "text": "2PMAR",
          "x": 0.225,
          "xanchor": "center",
          "xref": "paper",
          "y": 0.22222222222222224,
          "yanchor": "bottom",
          "yref": "paper"
         },
         {
          "font": {
           "size": 16
          },
          "showarrow": false,
          "text": "4ESO",
          "x": 0.775,
          "xanchor": "center",
          "xref": "paper",
          "y": 0.22222222222222224,
          "yanchor": "bottom",
          "yref": "paper"
         }
        ],
        "barmode": "group",
        "height": 800,
        "xaxis": {
         "anchor": "y",
         "domain": [
          0,
          0.45
         ]
        },
        "xaxis2": {
         "anchor": "free",
         "domain": [
          0.55,
          1
         ],
         "position": 0.7777777777777778
        },
        "xaxis3": {
         "anchor": "y2",
         "domain": [
          0,
          0.45
         ]
        },
        "xaxis4": {
         "anchor": "free",
         "domain": [
          0.55,
          1
         ],
         "position": 0.3888888888888889
        },
        "xaxis5": {
         "anchor": "y3",
         "domain": [
          0,
          0.45
         ]
        },
        "xaxis6": {
         "anchor": "free",
         "domain": [
          0.55,
          1
         ],
         "position": 0
        },
        "yaxis": {
         "anchor": "x",
         "domain": [
          0.7777777777777778,
          1
         ]
        },
        "yaxis2": {
         "anchor": "x3",
         "domain": [
          0.3888888888888889,
          0.6111111111111112
         ]
        },
        "yaxis3": {
         "anchor": "x5",
         "domain": [
          0,
          0.22222222222222224
         ]
        }
       }
      },
      "text/html": [
       "<div>\n",
       "        \n",
       "        \n",
       "            <div id=\"b85983a7-b6d6-49b5-aa81-3c46bd3e9dac\" class=\"plotly-graph-div\" style=\"height:800px; width:100%;\"></div>\n",
       "            <script type=\"text/javascript\">\n",
       "                require([\"plotly\"], function(Plotly) {\n",
       "                    window.PLOTLYENV=window.PLOTLYENV || {};\n",
       "                    window.PLOTLYENV.BASE_URL='https://plot.ly';\n",
       "                    \n",
       "                if (document.getElementById(\"b85983a7-b6d6-49b5-aa81-3c46bd3e9dac\")) {\n",
       "                    Plotly.newPlot(\n",
       "                        'b85983a7-b6d6-49b5-aa81-3c46bd3e9dac',\n",
       "                        [{\"hoverinfo\": \"x+text+name\", \"legendgroup\": \"PA\", \"marker\": {\"color\": \"rgb(215,25,28)\"}, \"name\": \"PA\", \"text\": [\"33.67%\", \"14.33%\", \"22.33%\", \"38.00%\", \"40.67%\", \"30.33%\", \"46.33%\"], \"type\": \"bar\", \"uid\": \"ed58a808-b779-4457-9383-1ded41805564\", \"x\": [\"AAP\", \"CD\", \"CEC\", \"CL\", \"CMCT\", \"CSC\", \"SIEE\"], \"xaxis\": \"x\", \"y\": [33.666666666666664, 14.333333333333334, 22.333333333333332, 38.0, 40.666666666666664, 30.333333333333332, 46.333333333333336], \"yaxis\": \"y\"}, {\"hoverinfo\": \"x+text+name\", \"legendgroup\": \"AD\", \"marker\": {\"color\": \"rgb(253,174,97)\"}, \"name\": \"AD\", \"text\": [\"53.33%\", \"75.00%\", \"76.33%\", \"53.33%\", \"46.33%\", \"62.67%\", \"45.00%\"], \"type\": \"bar\", \"uid\": \"0282abd5-ab83-43a4-91cc-bd35b83a410a\", \"x\": [\"AAP\", \"CD\", \"CEC\", \"CL\", \"CMCT\", \"CSC\", \"SIEE\"], \"xaxis\": \"x\", \"y\": [53.333333333333336, 75.0, 76.33333333333333, 53.333333333333336, 46.333333333333336, 62.666666666666664, 45.0], \"yaxis\": \"y\"}, {\"hoverinfo\": \"x+text+name\", \"legendgroup\": \"MA\", \"marker\": {\"color\": \"rgb(171,221,164)\"}, \"name\": \"MA\", \"text\": [\"11.33%\", \"10.67%\", \"1.33%\", \"7.00%\", \"11.33%\", \"7.00%\", \"7.00%\"], \"type\": \"bar\", \"uid\": \"5434162c-d34e-4c00-89b2-37c8cccc03be\", \"x\": [\"AAP\", \"CD\", \"CEC\", \"CL\", \"CMCT\", \"CSC\", \"SIEE\"], \"xaxis\": \"x\", \"y\": [11.333333333333334, 10.666666666666666, 1.3333333333333333, 7.0, 11.333333333333334, 7.0, 7.0], \"yaxis\": \"y\"}, {\"hoverinfo\": \"x+text+name\", \"legendgroup\": \"EX\", \"marker\": {\"color\": \"rgb(43,131,186)\"}, \"name\": \"EX\", \"text\": [\"1.67%\", \"0.00%\", \"0.00%\", \"1.67%\", \"1.67%\", \"0.00%\", \"1.67%\"], \"type\": \"bar\", \"uid\": \"a94649c9-7c96-44cb-bdf7-67963837d3b4\", \"x\": [\"AAP\", \"CD\", \"CEC\", \"CL\", \"CMCT\", \"CSC\", \"SIEE\"], \"xaxis\": \"x\", \"y\": [1.6666666666666667, 0.0, 0.0, 1.6666666666666667, 1.6666666666666667, 0.0, 1.6666666666666667], \"yaxis\": \"y\"}, {\"hoverinfo\": \"x+text+name\", \"legendgroup\": \"PA\", \"marker\": {\"color\": \"rgb(215,25,28)\"}, \"name\": \"PA\", \"showlegend\": false, \"text\": [\"35.33%\", \"22.00%\", \"23.00%\", \"33.00%\", \"36.67%\", \"28.67%\", \"30.67%\"], \"type\": \"bar\", \"uid\": \"27b11b90-91d7-4511-bc0d-af7fbdedff35\", \"x\": [\"AAP\", \"CD\", \"CEC\", \"CL\", \"CMCT\", \"CSC\", \"SIEE\"], \"xaxis\": \"x2\", \"y\": [35.333333333333336, 22.0, 23.0, 33.0, 36.666666666666664, 28.666666666666668, 30.666666666666668], \"yaxis\": \"y\"}, {\"hoverinfo\": \"x+text+name\", \"legendgroup\": \"AD\", \"marker\": {\"color\": \"rgb(253,174,97)\"}, \"name\": \"AD\", \"showlegend\": false, \"text\": [\"39.00%\", \"56.67%\", \"53.00%\", \"39.33%\", \"34.33%\", \"48.33%\", \"49.33%\"], \"type\": \"bar\", \"uid\": \"791ddd0b-f4b4-40d5-90f6-4e1f73ecb1e0\", \"x\": [\"AAP\", \"CD\", \"CEC\", \"CL\", \"CMCT\", \"CSC\", \"SIEE\"], \"xaxis\": \"x2\", \"y\": [39.0, 56.666666666666664, 53.0, 39.333333333333336, 34.333333333333336, 48.333333333333336, 49.333333333333336], \"yaxis\": \"y\"}, {\"hoverinfo\": \"x+text+name\", \"legendgroup\": \"MA\", \"marker\": {\"color\": \"rgb(171,221,164)\"}, \"name\": \"MA\", \"showlegend\": false, \"text\": [\"24.33%\", \"20.67%\", \"22.00%\", \"25.33%\", \"22.00%\", \"19.67%\", \"19.67%\"], \"type\": \"bar\", \"uid\": \"b467751e-3e45-43c3-acb8-f8a08b352784\", \"x\": [\"AAP\", \"CD\", \"CEC\", \"CL\", \"CMCT\", \"CSC\", \"SIEE\"], \"xaxis\": \"x2\", \"y\": [24.333333333333332, 20.666666666666668, 22.0, 25.333333333333332, 22.0, 19.666666666666668, 19.666666666666668], \"yaxis\": \"y\"}, {\"hoverinfo\": \"x+text+name\", \"legendgroup\": \"EX\", \"marker\": {\"color\": \"rgb(43,131,186)\"}, \"name\": \"EX\", \"showlegend\": false, \"text\": [\"1.00%\", \"1.00%\", \"2.00%\", \"2.33%\", \"7.00%\", \"3.67%\", \"0.00%\"], \"type\": \"bar\", \"uid\": \"c61ec251-57c6-4000-a856-3a4422792bab\", \"x\": [\"AAP\", \"CD\", \"CEC\", \"CL\", \"CMCT\", \"CSC\", \"SIEE\"], \"xaxis\": \"x2\", \"y\": [1.0, 1.0, 2.0, 2.3333333333333335, 7.0, 3.6666666666666665, 0.0], \"yaxis\": \"y\"}, {\"hoverinfo\": \"x+text+name\", \"legendgroup\": \"PA\", \"marker\": {\"color\": \"rgb(215,25,28)\"}, \"name\": \"PA\", \"showlegend\": false, \"text\": [\"50.00%\", \"10.00%\", \"20.00%\", \"40.00%\", \"50.00%\", \"60.00%\", \"50.00%\"], \"type\": \"bar\", \"uid\": \"d3238c03-d69b-42a6-8c50-3131972ce244\", \"x\": [\"AAP\", \"CD\", \"CEC\", \"CL\", \"CMCT\", \"CSC\", \"SIEE\"], \"xaxis\": \"x3\", \"y\": [50.0, 10.0, 20.0, 40.0, 50.0, 60.0, 50.0], \"yaxis\": \"y2\"}, {\"hoverinfo\": \"x+text+name\", \"legendgroup\": \"AD\", \"marker\": {\"color\": \"rgb(253,174,97)\"}, \"name\": \"AD\", \"showlegend\": false, \"text\": [\"50.00%\", \"90.00%\", \"80.00%\", \"60.00%\", \"50.00%\", \"40.00%\", \"50.00%\"], \"type\": \"bar\", \"uid\": \"0c09f511-e12b-4b0a-942c-0c2a1f55e51b\", \"x\": [\"AAP\", \"CD\", \"CEC\", \"CL\", \"CMCT\", \"CSC\", \"SIEE\"], \"xaxis\": \"x3\", \"y\": [50.0, 90.0, 80.0, 60.0, 50.0, 40.0, 50.0], \"yaxis\": \"y2\"}, {\"hoverinfo\": \"x+text+name\", \"legendgroup\": \"MA\", \"marker\": {\"color\": \"rgb(171,221,164)\"}, \"name\": \"MA\", \"showlegend\": false, \"text\": [\"0.00%\", \"0.00%\", \"0.00%\", \"0.00%\", \"0.00%\", \"0.00%\", \"0.00%\"], \"type\": \"bar\", \"uid\": \"3c0f4f03-4417-4045-b857-c7c2f6b0553a\", \"x\": [\"AAP\", \"CD\", \"CEC\", \"CL\", \"CMCT\", \"CSC\", \"SIEE\"], \"xaxis\": \"x3\", \"y\": [0.0, 0.0, 0.0, 0.0, 0.0, 0.0, 0.0], \"yaxis\": \"y2\"}, {\"hoverinfo\": \"x+text+name\", \"legendgroup\": \"EX\", \"marker\": {\"color\": \"rgb(43,131,186)\"}, \"name\": \"EX\", \"showlegend\": false, \"text\": [\"0.00%\", \"0.00%\", \"0.00%\", \"0.00%\", \"0.00%\", \"0.00%\", \"0.00%\"], \"type\": \"bar\", \"uid\": \"4306d3a1-5705-483e-be81-e8ff3ea3b474\", \"x\": [\"AAP\", \"CD\", \"CEC\", \"CL\", \"CMCT\", \"CSC\", \"SIEE\"], \"xaxis\": \"x3\", \"y\": [0.0, 0.0, 0.0, 0.0, 0.0, 0.0, 0.0], \"yaxis\": \"y2\"}, {\"hoverinfo\": \"x+text+name\", \"legendgroup\": \"PA\", \"marker\": {\"color\": \"rgb(215,25,28)\"}, \"name\": \"PA\", \"showlegend\": false, \"text\": [\"21.00%\", \"2.67%\", \"2.67%\", \"34.33%\", \"38.67%\", \"13.00%\", \"20.33%\"], \"type\": \"bar\", \"uid\": \"4a4a866b-0491-4f33-90f5-4ddd883fae08\", \"x\": [\"AAP\", \"CD\", \"CEC\", \"CL\", \"CMCT\", \"CSC\", \"SIEE\"], \"xaxis\": \"x4\", \"y\": [21.0, 2.6666666666666665, 2.6666666666666665, 34.333333333333336, 38.666666666666664, 13.0, 20.333333333333332], \"yaxis\": \"y2\"}, {\"hoverinfo\": \"x+text+name\", \"legendgroup\": \"AD\", \"marker\": {\"color\": \"rgb(253,174,97)\"}, \"name\": \"AD\", \"showlegend\": false, \"text\": [\"53.67%\", \"69.33%\", \"73.67%\", \"46.33%\", \"28.67%\", \"66.33%\", \"55.33%\"], \"type\": \"bar\", \"uid\": \"c26921a2-9bca-4c3f-9422-bd7871fd7668\", \"x\": [\"AAP\", \"CD\", \"CEC\", \"CL\", \"CMCT\", \"CSC\", \"SIEE\"], \"xaxis\": \"x4\", \"y\": [53.666666666666664, 69.33333333333333, 73.66666666666667, 46.333333333333336, 28.666666666666668, 66.33333333333333, 55.333333333333336], \"yaxis\": \"y2\"}, {\"hoverinfo\": \"x+text+name\", \"legendgroup\": \"MA\", \"marker\": {\"color\": \"rgb(171,221,164)\"}, \"name\": \"MA\", \"showlegend\": false, \"text\": [\"16.33%\", \"23.33%\", \"22.33%\", \"15.00%\", \"25.33%\", \"18.00%\", \"17.33%\"], \"type\": \"bar\", \"uid\": \"32805b15-ba21-4f8d-8f39-c4411c80cd9f\", \"x\": [\"AAP\", \"CD\", \"CEC\", \"CL\", \"CMCT\", \"CSC\", \"SIEE\"], \"xaxis\": \"x4\", \"y\": [16.333333333333332, 23.333333333333332, 22.333333333333332, 15.0, 25.333333333333332, 18.0, 17.333333333333332], \"yaxis\": \"y2\"}, {\"hoverinfo\": \"x+text+name\", \"legendgroup\": \"EX\", \"marker\": {\"color\": \"rgb(43,131,186)\"}, \"name\": \"EX\", \"showlegend\": false, \"text\": [\"9.00%\", \"4.67%\", \"1.33%\", \"4.33%\", \"7.67%\", \"2.67%\", \"7.67%\"], \"type\": \"bar\", \"uid\": \"a6fbb36a-f021-4490-9581-ee38cd3d9a5a\", \"x\": [\"AAP\", \"CD\", \"CEC\", \"CL\", \"CMCT\", \"CSC\", \"SIEE\"], \"xaxis\": \"x4\", \"y\": [9.0, 4.666666666666667, 1.3333333333333333, 4.333333333333333, 7.666666666666667, 2.6666666666666665, 7.666666666666667], \"yaxis\": \"y2\"}, {\"hoverinfo\": \"x+text+name\", \"legendgroup\": \"PA\", \"marker\": {\"color\": \"rgb(215,25,28)\"}, \"name\": \"PA\", \"showlegend\": false, \"text\": [\"50.00%\", \"70.00%\", \"20.00%\", \"60.00%\", \"70.00%\", \"40.00%\", \"60.00%\"], \"type\": \"bar\", \"uid\": \"550dd068-6d7b-4c95-857d-08d8f7d5aa20\", \"x\": [\"AAP\", \"CD\", \"CEC\", \"CL\", \"CMCT\", \"CSC\", \"SIEE\"], \"xaxis\": \"x5\", \"y\": [50.0, 70.0, 20.0, 60.0, 70.0, 40.0, 60.0], \"yaxis\": \"y3\"}, {\"hoverinfo\": \"x+text+name\", \"legendgroup\": \"AD\", \"marker\": {\"color\": \"rgb(253,174,97)\"}, \"name\": \"AD\", \"showlegend\": false, \"text\": [\"50.00%\", \"30.00%\", \"80.00%\", \"40.00%\", \"30.00%\", \"60.00%\", \"40.00%\"], \"type\": \"bar\", \"uid\": \"17bfe635-5d29-4818-9069-b93f5e61881c\", \"x\": [\"AAP\", \"CD\", \"CEC\", \"CL\", \"CMCT\", \"CSC\", \"SIEE\"], \"xaxis\": \"x5\", \"y\": [50.0, 30.0, 80.0, 40.0, 30.0, 60.0, 40.0], \"yaxis\": \"y3\"}, {\"hoverinfo\": \"x+text+name\", \"legendgroup\": \"MA\", \"marker\": {\"color\": \"rgb(171,221,164)\"}, \"name\": \"MA\", \"showlegend\": false, \"text\": [\"0.00%\", \"0.00%\", \"0.00%\", \"0.00%\", \"0.00%\", \"0.00%\", \"0.00%\"], \"type\": \"bar\", \"uid\": \"96b63ae5-a18d-494e-a18c-1a5cfcf0e31f\", \"x\": [\"AAP\", \"CD\", \"CEC\", \"CL\", \"CMCT\", \"CSC\", \"SIEE\"], \"xaxis\": \"x5\", \"y\": [0.0, 0.0, 0.0, 0.0, 0.0, 0.0, 0.0], \"yaxis\": \"y3\"}, {\"hoverinfo\": \"x+text+name\", \"legendgroup\": \"EX\", \"marker\": {\"color\": \"rgb(43,131,186)\"}, \"name\": \"EX\", \"showlegend\": false, \"text\": [\"0.00%\", \"0.00%\", \"0.00%\", \"0.00%\", \"0.00%\", \"0.00%\", \"0.00%\"], \"type\": \"bar\", \"uid\": \"ad6ffa4e-47ea-43e9-aa06-52a0298a9a79\", \"x\": [\"AAP\", \"CD\", \"CEC\", \"CL\", \"CMCT\", \"CSC\", \"SIEE\"], \"xaxis\": \"x5\", \"y\": [0.0, 0.0, 0.0, 0.0, 0.0, 0.0, 0.0], \"yaxis\": \"y3\"}, {\"hoverinfo\": \"x+text+name\", \"legendgroup\": \"PA\", \"marker\": {\"color\": \"rgb(215,25,28)\"}, \"name\": \"PA\", \"showlegend\": false, \"text\": [\"26.00%\", \"4.00%\", \"9.00%\", \"42.00%\", \"54.00%\", \"11.00%\", \"31.00%\"], \"type\": \"bar\", \"uid\": \"9f1b45b7-b24a-4f1d-b069-11447a626a65\", \"x\": [\"AAP\", \"CD\", \"CEC\", \"CL\", \"CMCT\", \"CSC\", \"SIEE\"], \"xaxis\": \"x6\", \"y\": [26.0, 4.0, 9.0, 42.0, 54.0, 11.0, 31.0], \"yaxis\": \"y3\"}, {\"hoverinfo\": \"x+text+name\", \"legendgroup\": \"AD\", \"marker\": {\"color\": \"rgb(253,174,97)\"}, \"name\": \"AD\", \"showlegend\": false, \"text\": [\"52.50%\", \"73.00%\", \"73.00%\", \"36.50%\", \"30.00%\", \"64.00%\", \"51.00%\"], \"type\": \"bar\", \"uid\": \"0596388a-7097-4d68-b4d4-434084f36f83\", \"x\": [\"AAP\", \"CD\", \"CEC\", \"CL\", \"CMCT\", \"CSC\", \"SIEE\"], \"xaxis\": \"x6\", \"y\": [52.5, 73.0, 73.0, 36.5, 30.0, 64.0, 51.0], \"yaxis\": \"y3\"}, {\"hoverinfo\": \"x+text+name\", \"legendgroup\": \"MA\", \"marker\": {\"color\": \"rgb(171,221,164)\"}, \"name\": \"MA\", \"showlegend\": false, \"text\": [\"17.50%\", \"19.00%\", \"12.00%\", \"15.50%\", \"12.00%\", \"20.50%\", \"11.50%\"], \"type\": \"bar\", \"uid\": \"028bc4d4-fd8a-43f1-9eae-82f697a54a11\", \"x\": [\"AAP\", \"CD\", \"CEC\", \"CL\", \"CMCT\", \"CSC\", \"SIEE\"], \"xaxis\": \"x6\", \"y\": [17.5, 19.0, 12.0, 15.5, 12.0, 20.5, 11.5], \"yaxis\": \"y3\"}, {\"hoverinfo\": \"x+text+name\", \"legendgroup\": \"EX\", \"marker\": {\"color\": \"rgb(43,131,186)\"}, \"name\": \"EX\", \"showlegend\": false, \"text\": [\"4.00%\", \"4.00%\", \"6.00%\", \"6.00%\", \"4.00%\", \"4.00%\", \"6.00%\"], \"type\": \"bar\", \"uid\": \"a7d52414-b31a-4a8b-98e7-ed449a248861\", \"x\": [\"AAP\", \"CD\", \"CEC\", \"CL\", \"CMCT\", \"CSC\", \"SIEE\"], \"xaxis\": \"x6\", \"y\": [4.0, 4.0, 6.0, 6.0, 4.0, 4.0, 6.0], \"yaxis\": \"y3\"}],\n",
       "                        {\"annotations\": [{\"font\": {\"size\": 16}, \"showarrow\": false, \"text\": \"1ESO\", \"x\": 0.225, \"xanchor\": \"center\", \"xref\": \"paper\", \"y\": 1.0, \"yanchor\": \"bottom\", \"yref\": \"paper\"}, {\"font\": {\"size\": 16}, \"showarrow\": false, \"text\": \"2ESO\", \"x\": 0.775, \"xanchor\": \"center\", \"xref\": \"paper\", \"y\": 1.0, \"yanchor\": \"bottom\", \"yref\": \"paper\"}, {\"font\": {\"size\": 16}, \"showarrow\": false, \"text\": \"1PMAR\", \"x\": 0.225, \"xanchor\": \"center\", \"xref\": \"paper\", \"y\": 0.6111111111111112, \"yanchor\": \"bottom\", \"yref\": \"paper\"}, {\"font\": {\"size\": 16}, \"showarrow\": false, \"text\": \"3ESO\", \"x\": 0.775, \"xanchor\": \"center\", \"xref\": \"paper\", \"y\": 0.6111111111111112, \"yanchor\": \"bottom\", \"yref\": \"paper\"}, {\"font\": {\"size\": 16}, \"showarrow\": false, \"text\": \"2PMAR\", \"x\": 0.225, \"xanchor\": \"center\", \"xref\": \"paper\", \"y\": 0.22222222222222224, \"yanchor\": \"bottom\", \"yref\": \"paper\"}, {\"font\": {\"size\": 16}, \"showarrow\": false, \"text\": \"4ESO\", \"x\": 0.775, \"xanchor\": \"center\", \"xref\": \"paper\", \"y\": 0.22222222222222224, \"yanchor\": \"bottom\", \"yref\": \"paper\"}], \"barmode\": \"group\", \"height\": 800, \"xaxis\": {\"anchor\": \"y\", \"domain\": [0.0, 0.45]}, \"xaxis2\": {\"anchor\": \"free\", \"domain\": [0.55, 1.0], \"position\": 0.7777777777777778}, \"xaxis3\": {\"anchor\": \"y2\", \"domain\": [0.0, 0.45]}, \"xaxis4\": {\"anchor\": \"free\", \"domain\": [0.55, 1.0], \"position\": 0.3888888888888889}, \"xaxis5\": {\"anchor\": \"y3\", \"domain\": [0.0, 0.45]}, \"xaxis6\": {\"anchor\": \"free\", \"domain\": [0.55, 1.0], \"position\": 0.0}, \"yaxis\": {\"anchor\": \"x\", \"domain\": [0.7777777777777778, 1.0]}, \"yaxis2\": {\"anchor\": \"x3\", \"domain\": [0.3888888888888889, 0.6111111111111112]}, \"yaxis3\": {\"anchor\": \"x5\", \"domain\": [0.0, 0.22222222222222224]}},\n",
       "                        {\"showLink\": false, \"linkText\": \"Export to plot.ly\", \"plotlyServerURL\": \"https://plot.ly\", \"responsive\": true}\n",
       "                    ).then(function(){\n",
       "                            \n",
       "var gd = document.getElementById('b85983a7-b6d6-49b5-aa81-3c46bd3e9dac');\n",
       "var x = new MutationObserver(function (mutations, observer) {{\n",
       "        var display = window.getComputedStyle(gd).display;\n",
       "        if (!display || display === 'none') {{\n",
       "            console.log([gd, 'removed!']);\n",
       "            Plotly.purge(gd);\n",
       "            observer.disconnect();\n",
       "        }}\n",
       "}});\n",
       "\n",
       "// Listen for the removal of the full notebook cells\n",
       "var notebookContainer = gd.closest('#notebook-container');\n",
       "if (notebookContainer) {{\n",
       "    x.observe(notebookContainer, {childList: true});\n",
       "}}\n",
       "\n",
       "// Listen for the clearing of the current output cell\n",
       "var outputEl = gd.closest('.output');\n",
       "if (outputEl) {{\n",
       "    x.observe(outputEl, {childList: true});\n",
       "}}\n",
       "\n",
       "                        })\n",
       "                };\n",
       "                });\n",
       "            </script>\n",
       "        </div>"
      ]
     },
     "metadata": {},
     "output_type": "display_data"
    }
   ],
   "source": [
    "myplotly.bc_bar(dfc_bc)"
   ]
  },
  {
   "cell_type": "markdown",
   "metadata": {},
   "source": [
    "## Análisis simplificado por competencias básicas"
   ]
  },
  {
   "cell_type": "code",
   "execution_count": 28,
   "metadata": {
    "scrolled": true
   },
   "outputs": [
    {
     "data": {
      "image/png": "[encoded data removed]",
      "text/plain": [
       "<Figure size 500x500 with 2 Axes>"
      ]
     },
     "metadata": {
      "needs_background": "light"
     },
     "output_type": "display_data"
    }
   ],
   "source": [
    "dfc_bc_marked = dfc_bc.groupby(['nivel', 'item']).mean().reset_index().pivot('item', 'nivel', 'marca')\n",
    "\n",
    "sns.set_context('notebook')\n",
    "charts.rgb_heatmap(dfc_bc_marked)"
   ]
  },
  {
   "cell_type": "markdown",
   "metadata": {},
   "source": [
    "### Nivel competencial resumen por nivel"
   ]
  },
  {
   "cell_type": "code",
   "execution_count": 29,
   "metadata": {
    "scrolled": false
   },
   "outputs": [
    {
     "data": {
      "text/plain": [
       "nivel\n",
       "3ESO     5.291667\n",
       "4ESO     4.989286\n",
       "2ESO     4.922619\n",
       "1ESO     4.440476\n",
       "1PMAR    4.000000\n",
       "2PMAR    3.678571\n",
       "Name: marca, dtype: float64"
      ]
     },
     "execution_count": 29,
     "metadata": {},
     "output_type": "execute_result"
    }
   ],
   "source": [
    "dfc_bc['marca'].groupby(dfc_bc['nivel']).mean().sort_values(ascending=False)"
   ]
  },
  {
   "cell_type": "markdown",
   "metadata": {},
   "source": [
    "### Nivel competencial resumen por competencias básicas"
   ]
  },
  {
   "cell_type": "code",
   "execution_count": 30,
   "metadata": {
    "scrolled": false
   },
   "outputs": [
    {
     "data": {
      "text/plain": [
       "item\n",
       "CD      5.094231\n",
       "CEC     5.005769\n",
       "CSC     4.790385\n",
       "AAP     4.717308\n",
       "SIEE    4.559615\n",
       "CL      4.513462\n",
       "CMCT    4.500000\n",
       "Name: marca, dtype: float64"
      ]
     },
     "execution_count": 30,
     "metadata": {},
     "output_type": "execute_result"
    }
   ],
   "source": [
    "dfc_bc['marca'].groupby(dfc_bc['item']).mean().sort_values(ascending=False)"
   ]
  },
  {
   "cell_type": "markdown",
   "metadata": {},
   "source": [
    "### Máximo nivel competencial"
   ]
  },
  {
   "cell_type": "code",
   "execution_count": 31,
   "metadata": {
    "scrolled": false
   },
   "outputs": [
    {
     "data": {
      "text/plain": [
       "item        CD\n",
       "marca    6.075\n",
       "Name: ESO3B, dtype: object"
      ]
     },
     "execution_count": 31,
     "metadata": {},
     "output_type": "execute_result"
    }
   ],
   "source": [
    "dfc_bc.iloc[dfc_bc.reset_index()['marca'].idxmax()][['item', 'marca']]"
   ]
  },
  {
   "cell_type": "markdown",
   "metadata": {},
   "source": [
    "### Mínimo nivel competencial"
   ]
  },
  {
   "cell_type": "code",
   "execution_count": 32,
   "metadata": {
    "scrolled": false
   },
   "outputs": [
    {
     "data": {
      "text/plain": [
       "item     CMCT\n",
       "marca    3.25\n",
       "Name: ESO3D, dtype: object"
      ]
     },
     "execution_count": 32,
     "metadata": {},
     "output_type": "execute_result"
    }
   ],
   "source": [
    "dfc_bc.iloc[dfc_bc.reset_index()['marca'].idxmin()][['item', 'marca']]"
   ]
  },
  {
   "cell_type": "markdown",
   "metadata": {},
   "source": [
    "## Evolución de los niveles competenciales"
   ]
  },
  {
   "cell_type": "code",
   "execution_count": 33,
   "metadata": {
    "scrolled": false
   },
   "outputs": [
    {
     "data": {
      "image/png": "[encoded data removed]",
      "text/plain": [
       "<Figure size 500x500 with 1 Axes>"
      ]
     },
     "metadata": {
      "needs_background": "light"
     },
     "output_type": "display_data"
    }
   ],
   "source": [
    "aux = df_bc.groupby(['curso', 'item']).mean().reset_index()[['curso', 'item', 'marca']]\n",
    "\n",
    "sns.set_context('talk')\n",
    "charts.bc_evolution_chart(aux)"
   ]
  },
  {
   "cell_type": "code",
   "execution_count": 34,
   "metadata": {},
   "outputs": [
    {
     "data": {
      "text/html": [
       "<h2>Evolución competencial con respecto a la evaluación anterior"
      ],
      "text/plain": [
       "<IPython.core.display.HTML object>"
      ]
     },
     "metadata": {},
     "output_type": "display_data"
    },
    {
     "data": {
      "image/png": "[encoded data removed]",
      "text/plain": [
       "<Figure size 500x500 with 2 Axes>"
      ]
     },
     "metadata": {
      "needs_background": "light"
     },
     "output_type": "display_data"
    }
   ],
   "source": [
    "if EVALUATION > 1:\n",
    "    display(HTML('<h2>Evolución competencial con respecto a la evaluación anterior'))\n",
    "\n",
    "    df_bc_comp['delta'] = df_bc_comp['marca_x'] - df_bc_comp['marca_y']\n",
    "    df_bc_comp_marked = df_bc_comp.groupby(['nivel_x', 'item']).mean().reset_index().pivot('item', 'nivel_x', 'delta')\n",
    "\n",
    "    sns.set_context('notebook')\n",
    "    charts.rgb_heatmap(df_bc_comp_marked, center=0)"
   ]
  },
  {
   "cell_type": "markdown",
   "metadata": {},
   "source": [
    "# ABSENTISMO"
   ]
  },
  {
   "cell_type": "markdown",
   "metadata": {},
   "source": [
    "<div class=\"alert alert-success\" role=\"alert\">\n",
    "    ABSENTISMO = <b>Faltas justificadas + Faltas injustificadas</b>\n",
    "</div>\n",
    "\n",
    "**Se va a estudiar el ABSENTISMO ACUMULADO desde el 1 de septiembre hasta la fecha de finalización del trimestre de análisis.**"
   ]
  },
  {
   "cell_type": "markdown",
   "metadata": {},
   "source": [
    "## ABSENTISMO TOTAL vs ABSENTISMO JUSTIFICADO"
   ]
  },
  {
   "cell_type": "code",
   "execution_count": 35,
   "metadata": {},
   "outputs": [
    {
     "data": {
      "application/vnd.plotly.v1+json": {
       "config": {
        "linkText": "Export to plot.ly",
        "plotlyServerURL": "https://plot.ly",
        "responsive": true,
        "showLink": false
       },
       "data": [
        {
         "marker": {
          "color": "rgb(166,206,227)"
         },
         "name": "Abs. Total (%)",
         "orientation": "h",
         "type": "bar",
         "uid": "73405b70-3ff6-499c-8372-52f70f857c8b",
         "x": [
          5.99,
          6.68,
          7.78,
          6.52,
          9.01,
          9.23,
          4.23,
          6.66,
          6.390000000000001,
          6.550000000000001,
          14.06,
          7.41,
          11.17,
          39.57,
          12.8,
          5.77,
          6.66,
          7.25,
          6.3,
          24.099999999999998,
          18.740000000000002,
          20.130000000000003,
          9.3,
          10.17,
          10.549999999999999,
          8.780000000000001,
          10.17,
          16.12,
          14.45,
          17.36,
          5.42,
          4.92,
          14.18,
          6.630000000000001,
          11.17
         ],
         "y": [
          "ESO1A",
          "ESO1B",
          "ESO1C",
          "ESO2A",
          "ESO2B",
          "ESO2C",
          "ESO2D",
          "ESO3A",
          "ESO3B",
          "ESO3C",
          "ESO3D",
          "ESO4A",
          "ESO4B",
          "1FPB",
          "2FPB",
          "1CIE",
          "1SOC",
          "2CIE",
          "2SOC",
          "1TEL",
          "1ELE",
          "1CAR",
          "2TEL",
          "2ELE",
          "2CAR",
          "1ARI",
          "1ALO",
          "1GIT",
          "1ASR",
          "1DAW",
          "2ARI",
          "2ALO",
          "2GIT",
          "2ASR",
          "2DAW"
         ]
        },
        {
         "marker": {
          "color": "rgb(31,120,180)"
         },
         "name": "Abs. Justificado (%)",
         "orientation": "h",
         "type": "bar",
         "uid": "0cf1dc72-cdc2-42d6-88f7-734afb291844",
         "x": [
          2.04,
          0.94,
          2.08,
          2.69,
          1.22,
          2.11,
          1.02,
          3.4,
          4.29,
          2.97,
          8.46,
          2.98,
          4.12,
          4.67,
          2.83,
          2.74,
          4.14,
          3.35,
          3.25,
          4.72,
          5.16,
          0.94,
          1.97,
          3.08,
          0.1,
          2.46,
          2.26,
          4.96,
          2.78,
          2.79,
          1.49,
          1.02,
          2.28,
          2.52,
          2
         ],
         "y": [
          "ESO1A",
          "ESO1B",
          "ESO1C",
          "ESO2A",
          "ESO2B",
          "ESO2C",
          "ESO2D",
          "ESO3A",
          "ESO3B",
          "ESO3C",
          "ESO3D",
          "ESO4A",
          "ESO4B",
          "1FPB",
          "2FPB",
          "1CIE",
          "1SOC",
          "2CIE",
          "2SOC",
          "1TEL",
          "1ELE",
          "1CAR",
          "2TEL",
          "2ELE",
          "2CAR",
          "1ARI",
          "1ALO",
          "1GIT",
          "1ASR",
          "1DAW",
          "2ARI",
          "2ALO",
          "2GIT",
          "2ASR",
          "2DAW"
         ]
        }
       ],
       "layout": {
        "barmode": "overlay",
        "height": 1000,
        "title": {
         "text": ""
        },
        "width": 700,
        "yaxis": {
         "autorange": "reversed",
         "type": "category"
        }
       }
      },
      "text/html": [
       "<div>\n",
       "        \n",
       "        \n",
       "            <div id=\"2f0a6656-c0cf-48e6-95e6-c43e12e18a35\" class=\"plotly-graph-div\" style=\"height:1000px; width:700px;\"></div>\n",
       "            <script type=\"text/javascript\">\n",
       "                require([\"plotly\"], function(Plotly) {\n",
       "                    window.PLOTLYENV=window.PLOTLYENV || {};\n",
       "                    window.PLOTLYENV.BASE_URL='https://plot.ly';\n",
       "                    \n",
       "                if (document.getElementById(\"2f0a6656-c0cf-48e6-95e6-c43e12e18a35\")) {\n",
       "                    Plotly.newPlot(\n",
       "                        '2f0a6656-c0cf-48e6-95e6-c43e12e18a35',\n",
       "                        [{\"marker\": {\"color\": \"rgb(166,206,227)\"}, \"name\": \"Abs. Total (%)\", \"orientation\": \"h\", \"type\": \"bar\", \"uid\": \"977c0ccf-3d4e-462f-9016-00cbfb0fab4c\", \"x\": [5.99, 6.68, 7.78, 6.52, 9.01, 9.23, 4.23, 6.66, 6.390000000000001, 6.550000000000001, 14.06, 7.41, 11.17, 39.57, 12.8, 5.77, 6.66, 7.25, 6.3, 24.099999999999998, 18.740000000000002, 20.130000000000003, 9.3, 10.17, 10.549999999999999, 8.780000000000001, 10.17, 16.12, 14.45, 17.36, 5.42, 4.92, 14.18, 6.630000000000001, 11.17], \"y\": [\"ESO1A\", \"ESO1B\", \"ESO1C\", \"ESO2A\", \"ESO2B\", \"ESO2C\", \"ESO2D\", \"ESO3A\", \"ESO3B\", \"ESO3C\", \"ESO3D\", \"ESO4A\", \"ESO4B\", \"1FPB\", \"2FPB\", \"1CIE\", \"1SOC\", \"2CIE\", \"2SOC\", \"1TEL\", \"1ELE\", \"1CAR\", \"2TEL\", \"2ELE\", \"2CAR\", \"1ARI\", \"1ALO\", \"1GIT\", \"1ASR\", \"1DAW\", \"2ARI\", \"2ALO\", \"2GIT\", \"2ASR\", \"2DAW\"]}, {\"marker\": {\"color\": \"rgb(31,120,180)\"}, \"name\": \"Abs. Justificado (%)\", \"orientation\": \"h\", \"type\": \"bar\", \"uid\": \"c0d63cb8-6dd5-414b-9c0c-c2952646c974\", \"x\": [2.04, 0.94, 2.08, 2.69, 1.22, 2.11, 1.02, 3.4, 4.29, 2.97, 8.46, 2.98, 4.12, 4.67, 2.83, 2.74, 4.14, 3.35, 3.25, 4.72, 5.16, 0.94, 1.97, 3.08, 0.1, 2.46, 2.26, 4.96, 2.78, 2.79, 1.49, 1.02, 2.28, 2.52, 2.0], \"y\": [\"ESO1A\", \"ESO1B\", \"ESO1C\", \"ESO2A\", \"ESO2B\", \"ESO2C\", \"ESO2D\", \"ESO3A\", \"ESO3B\", \"ESO3C\", \"ESO3D\", \"ESO4A\", \"ESO4B\", \"1FPB\", \"2FPB\", \"1CIE\", \"1SOC\", \"2CIE\", \"2SOC\", \"1TEL\", \"1ELE\", \"1CAR\", \"2TEL\", \"2ELE\", \"2CAR\", \"1ARI\", \"1ALO\", \"1GIT\", \"1ASR\", \"1DAW\", \"2ARI\", \"2ALO\", \"2GIT\", \"2ASR\", \"2DAW\"]}],\n",
       "                        {\"barmode\": \"overlay\", \"height\": 1000, \"title\": {\"text\": \"\"}, \"width\": 700, \"yaxis\": {\"autorange\": \"reversed\", \"type\": \"category\"}},\n",
       "                        {\"showLink\": false, \"linkText\": \"Export to plot.ly\", \"plotlyServerURL\": \"https://plot.ly\", \"responsive\": true}\n",
       "                    ).then(function(){\n",
       "                            \n",
       "var gd = document.getElementById('2f0a6656-c0cf-48e6-95e6-c43e12e18a35');\n",
       "var x = new MutationObserver(function (mutations, observer) {{\n",
       "        var display = window.getComputedStyle(gd).display;\n",
       "        if (!display || display === 'none') {{\n",
       "            console.log([gd, 'removed!']);\n",
       "            Plotly.purge(gd);\n",
       "            observer.disconnect();\n",
       "        }}\n",
       "}});\n",
       "\n",
       "// Listen for the removal of the full notebook cells\n",
       "var notebookContainer = gd.closest('#notebook-container');\n",
       "if (notebookContainer) {{\n",
       "    x.observe(notebookContainer, {childList: true});\n",
       "}}\n",
       "\n",
       "// Listen for the clearing of the current output cell\n",
       "var outputEl = gd.closest('.output');\n",
       "if (outputEl) {{\n",
       "    x.observe(outputEl, {childList: true});\n",
       "}}\n",
       "\n",
       "                        })\n",
       "                };\n",
       "                });\n",
       "            </script>\n",
       "        </div>"
      ]
     },
     "metadata": {},
     "output_type": "display_data"
    }
   ],
   "source": [
    "myplotly.hbar((dfc['absentismo'], dfc['absentismo_justificado']), dfc.index,\n",
    "              trace_names=('Abs. Total (%)', 'Abs. Justificado (%)'))"
   ]
  },
  {
   "cell_type": "markdown",
   "metadata": {},
   "source": [
    "## ESO"
   ]
  },
  {
   "cell_type": "code",
   "execution_count": 36,
   "metadata": {
    "scrolled": true
   },
   "outputs": [
    {
     "data": {
      "application/vnd.plotly.v1+json": {
       "config": {
        "linkText": "Export to plot.ly",
        "plotlyServerURL": "https://plot.ly",
        "responsive": true,
        "showLink": false
       },
       "data": [
        {
         "hoverinfo": "x+text",
         "marker": {
          "color": [
           5.99,
           6.68,
           7.78,
           6.52,
           9.01,
           9.23,
           4.23,
           6.66,
           6.390000000000001,
           6.550000000000001,
           14.06,
           7.41,
           11.17
          ],
          "colorscale": [
           [
            0,
            "rgb(252,174,145)"
           ],
           [
            0.3333333333333333,
            "rgb(251,106,74)"
           ],
           [
            0.6666666666666666,
            "rgb(222,45,38)"
           ],
           [
            1,
            "rgb(165,15,21)"
           ]
          ]
         },
         "text": [
          "5.99%",
          "6.68%",
          "7.78%",
          "6.52%",
          "9.01%",
          "9.23%",
          "4.23%",
          "6.66%",
          "6.39%",
          "6.55%",
          "14.06%",
          "7.41%",
          "11.17%"
         ],
         "type": "bar",
         "uid": "5775b535-ef46-439b-b7fb-584f84db0559",
         "x": [
          "ESO1A",
          "ESO1B",
          "ESO1C",
          "ESO2A",
          "ESO2B",
          "ESO2C",
          "ESO2D",
          "ESO3A",
          "ESO3B",
          "ESO3C",
          "ESO3D",
          "ESO4A",
          "ESO4B"
         ],
         "y": [
          5.99,
          6.68,
          7.78,
          6.52,
          9.01,
          9.23,
          4.23,
          6.66,
          6.390000000000001,
          6.550000000000001,
          14.06,
          7.41,
          11.17
         ]
        }
       ],
       "layout": {
        "title": {
         "text": ""
        }
       }
      },
      "text/html": [
       "<div>\n",
       "        \n",
       "        \n",
       "            <div id=\"f0235807-ce08-4cb4-95fc-1a3aa32c0d16\" class=\"plotly-graph-div\" style=\"height:525px; width:100%;\"></div>\n",
       "            <script type=\"text/javascript\">\n",
       "                require([\"plotly\"], function(Plotly) {\n",
       "                    window.PLOTLYENV=window.PLOTLYENV || {};\n",
       "                    window.PLOTLYENV.BASE_URL='https://plot.ly';\n",
       "                    \n",
       "                if (document.getElementById(\"f0235807-ce08-4cb4-95fc-1a3aa32c0d16\")) {\n",
       "                    Plotly.newPlot(\n",
       "                        'f0235807-ce08-4cb4-95fc-1a3aa32c0d16',\n",
       "                        [{\"hoverinfo\": \"x+text\", \"marker\": {\"color\": [5.99, 6.68, 7.78, 6.52, 9.01, 9.23, 4.23, 6.66, 6.390000000000001, 6.550000000000001, 14.06, 7.41, 11.17], \"colorscale\": [[0.0, \"rgb(252,174,145)\"], [0.3333333333333333, \"rgb(251,106,74)\"], [0.6666666666666666, \"rgb(222,45,38)\"], [1.0, \"rgb(165,15,21)\"]]}, \"text\": [\"5.99%\", \"6.68%\", \"7.78%\", \"6.52%\", \"9.01%\", \"9.23%\", \"4.23%\", \"6.66%\", \"6.39%\", \"6.55%\", \"14.06%\", \"7.41%\", \"11.17%\"], \"type\": \"bar\", \"uid\": \"086e2c49-459d-4444-84cb-47093d09f398\", \"x\": [\"ESO1A\", \"ESO1B\", \"ESO1C\", \"ESO2A\", \"ESO2B\", \"ESO2C\", \"ESO2D\", \"ESO3A\", \"ESO3B\", \"ESO3C\", \"ESO3D\", \"ESO4A\", \"ESO4B\"], \"y\": [5.99, 6.68, 7.78, 6.52, 9.01, 9.23, 4.23, 6.66, 6.390000000000001, 6.550000000000001, 14.06, 7.41, 11.17]}],\n",
       "                        {\"title\": {\"text\": \"\"}},\n",
       "                        {\"showLink\": false, \"linkText\": \"Export to plot.ly\", \"plotlyServerURL\": \"https://plot.ly\", \"responsive\": true}\n",
       "                    ).then(function(){\n",
       "                            \n",
       "var gd = document.getElementById('f0235807-ce08-4cb4-95fc-1a3aa32c0d16');\n",
       "var x = new MutationObserver(function (mutations, observer) {{\n",
       "        var display = window.getComputedStyle(gd).display;\n",
       "        if (!display || display === 'none') {{\n",
       "            console.log([gd, 'removed!']);\n",
       "            Plotly.purge(gd);\n",
       "            observer.disconnect();\n",
       "        }}\n",
       "}});\n",
       "\n",
       "// Listen for the removal of the full notebook cells\n",
       "var notebookContainer = gd.closest('#notebook-container');\n",
       "if (notebookContainer) {{\n",
       "    x.observe(notebookContainer, {childList: true});\n",
       "}}\n",
       "\n",
       "// Listen for the clearing of the current output cell\n",
       "var outputEl = gd.closest('.output');\n",
       "if (outputEl) {{\n",
       "    x.observe(outputEl, {childList: true});\n",
       "}}\n",
       "\n",
       "                        })\n",
       "                };\n",
       "                });\n",
       "            </script>\n",
       "        </div>"
      ]
     },
     "metadata": {},
     "output_type": "display_data"
    }
   ],
   "source": [
    "myplotly.bar_simple(dfc_ESO.index, dfc_ESO['absentismo'], colormap='Reds')"
   ]
  },
  {
   "cell_type": "markdown",
   "metadata": {},
   "source": [
    "# FPB"
   ]
  },
  {
   "cell_type": "code",
   "execution_count": 37,
   "metadata": {},
   "outputs": [
    {
     "data": {
      "application/vnd.plotly.v1+json": {
       "config": {
        "linkText": "Export to plot.ly",
        "plotlyServerURL": "https://plot.ly",
        "responsive": true,
        "showLink": false
       },
       "data": [
        {
         "hoverinfo": "x+text",
         "marker": {
          "color": [
           39.57,
           12.8
          ],
          "colorscale": [
           [
            0,
            "rgb(252,174,145)"
           ],
           [
            0.3333333333333333,
            "rgb(251,106,74)"
           ],
           [
            0.6666666666666666,
            "rgb(222,45,38)"
           ],
           [
            1,
            "rgb(165,15,21)"
           ]
          ]
         },
         "text": [
          "39.57%",
          "12.80%"
         ],
         "type": "bar",
         "uid": "9984833c-ffcb-474f-af23-61c48f1af2c7",
         "x": [
          "1FPB",
          "2FPB"
         ],
         "y": [
          39.57,
          12.8
         ]
        }
       ],
       "layout": {
        "title": {
         "text": ""
        }
       }
      },
      "text/html": [
       "<div>\n",
       "        \n",
       "        \n",
       "            <div id=\"6097ca91-defe-4047-b45b-995a4b8ebc8e\" class=\"plotly-graph-div\" style=\"height:525px; width:100%;\"></div>\n",
       "            <script type=\"text/javascript\">\n",
       "                require([\"plotly\"], function(Plotly) {\n",
       "                    window.PLOTLYENV=window.PLOTLYENV || {};\n",
       "                    window.PLOTLYENV.BASE_URL='https://plot.ly';\n",
       "                    \n",
       "                if (document.getElementById(\"6097ca91-defe-4047-b45b-995a4b8ebc8e\")) {\n",
       "                    Plotly.newPlot(\n",
       "                        '6097ca91-defe-4047-b45b-995a4b8ebc8e',\n",
       "                        [{\"hoverinfo\": \"x+text\", \"marker\": {\"color\": [39.57, 12.8], \"colorscale\": [[0.0, \"rgb(252,174,145)\"], [0.3333333333333333, \"rgb(251,106,74)\"], [0.6666666666666666, \"rgb(222,45,38)\"], [1.0, \"rgb(165,15,21)\"]]}, \"text\": [\"39.57%\", \"12.80%\"], \"type\": \"bar\", \"uid\": \"43a7f8f4-59ee-41f9-a5bb-8c7afb170fda\", \"x\": [\"1FPB\", \"2FPB\"], \"y\": [39.57, 12.8]}],\n",
       "                        {\"title\": {\"text\": \"\"}},\n",
       "                        {\"showLink\": false, \"linkText\": \"Export to plot.ly\", \"plotlyServerURL\": \"https://plot.ly\", \"responsive\": true}\n",
       "                    ).then(function(){\n",
       "                            \n",
       "var gd = document.getElementById('6097ca91-defe-4047-b45b-995a4b8ebc8e');\n",
       "var x = new MutationObserver(function (mutations, observer) {{\n",
       "        var display = window.getComputedStyle(gd).display;\n",
       "        if (!display || display === 'none') {{\n",
       "            console.log([gd, 'removed!']);\n",
       "            Plotly.purge(gd);\n",
       "            observer.disconnect();\n",
       "        }}\n",
       "}});\n",
       "\n",
       "// Listen for the removal of the full notebook cells\n",
       "var notebookContainer = gd.closest('#notebook-container');\n",
       "if (notebookContainer) {{\n",
       "    x.observe(notebookContainer, {childList: true});\n",
       "}}\n",
       "\n",
       "// Listen for the clearing of the current output cell\n",
       "var outputEl = gd.closest('.output');\n",
       "if (outputEl) {{\n",
       "    x.observe(outputEl, {childList: true});\n",
       "}}\n",
       "\n",
       "                        })\n",
       "                };\n",
       "                });\n",
       "            </script>\n",
       "        </div>"
      ]
     },
     "metadata": {},
     "output_type": "display_data"
    }
   ],
   "source": [
    "myplotly.bar_simple(dfc_FPB.index, dfc_FPB['absentismo'], colormap='Reds')"
   ]
  },
  {
   "cell_type": "markdown",
   "metadata": {},
   "source": [
    "## BACHILLERATO"
   ]
  },
  {
   "cell_type": "code",
   "execution_count": 38,
   "metadata": {
    "scrolled": false
   },
   "outputs": [
    {
     "data": {
      "application/vnd.plotly.v1+json": {
       "config": {
        "linkText": "Export to plot.ly",
        "plotlyServerURL": "https://plot.ly",
        "responsive": true,
        "showLink": false
       },
       "data": [
        {
         "hoverinfo": "x+text",
         "marker": {
          "color": [
           5.77,
           6.66,
           7.25,
           6.3
          ],
          "colorscale": [
           [
            0,
            "rgb(252,174,145)"
           ],
           [
            0.3333333333333333,
            "rgb(251,106,74)"
           ],
           [
            0.6666666666666666,
            "rgb(222,45,38)"
           ],
           [
            1,
            "rgb(165,15,21)"
           ]
          ]
         },
         "text": [
          "5.77%",
          "6.66%",
          "7.25%",
          "6.30%"
         ],
         "type": "bar",
         "uid": "bc291d5c-9beb-4904-b92c-26c7daf27214",
         "x": [
          "1CIE",
          "1SOC",
          "2CIE",
          "2SOC"
         ],
         "y": [
          5.77,
          6.66,
          7.25,
          6.3
         ]
        }
       ],
       "layout": {
        "title": {
         "text": ""
        }
       }
      },
      "text/html": [
       "<div>\n",
       "        \n",
       "        \n",
       "            <div id=\"aeca628f-4b69-42a9-809b-ab2f280abf62\" class=\"plotly-graph-div\" style=\"height:525px; width:100%;\"></div>\n",
       "            <script type=\"text/javascript\">\n",
       "                require([\"plotly\"], function(Plotly) {\n",
       "                    window.PLOTLYENV=window.PLOTLYENV || {};\n",
       "                    window.PLOTLYENV.BASE_URL='https://plot.ly';\n",
       "                    \n",
       "                if (document.getElementById(\"aeca628f-4b69-42a9-809b-ab2f280abf62\")) {\n",
       "                    Plotly.newPlot(\n",
       "                        'aeca628f-4b69-42a9-809b-ab2f280abf62',\n",
       "                        [{\"hoverinfo\": \"x+text\", \"marker\": {\"color\": [5.77, 6.66, 7.25, 6.3], \"colorscale\": [[0.0, \"rgb(252,174,145)\"], [0.3333333333333333, \"rgb(251,106,74)\"], [0.6666666666666666, \"rgb(222,45,38)\"], [1.0, \"rgb(165,15,21)\"]]}, \"text\": [\"5.77%\", \"6.66%\", \"7.25%\", \"6.30%\"], \"type\": \"bar\", \"uid\": \"8e1c6b92-1d7d-4d1a-8dbc-3f2939ec1863\", \"x\": [\"1CIE\", \"1SOC\", \"2CIE\", \"2SOC\"], \"y\": [5.77, 6.66, 7.25, 6.3]}],\n",
       "                        {\"title\": {\"text\": \"\"}},\n",
       "                        {\"showLink\": false, \"linkText\": \"Export to plot.ly\", \"plotlyServerURL\": \"https://plot.ly\", \"responsive\": true}\n",
       "                    ).then(function(){\n",
       "                            \n",
       "var gd = document.getElementById('aeca628f-4b69-42a9-809b-ab2f280abf62');\n",
       "var x = new MutationObserver(function (mutations, observer) {{\n",
       "        var display = window.getComputedStyle(gd).display;\n",
       "        if (!display || display === 'none') {{\n",
       "            console.log([gd, 'removed!']);\n",
       "            Plotly.purge(gd);\n",
       "            observer.disconnect();\n",
       "        }}\n",
       "}});\n",
       "\n",
       "// Listen for the removal of the full notebook cells\n",
       "var notebookContainer = gd.closest('#notebook-container');\n",
       "if (notebookContainer) {{\n",
       "    x.observe(notebookContainer, {childList: true});\n",
       "}}\n",
       "\n",
       "// Listen for the clearing of the current output cell\n",
       "var outputEl = gd.closest('.output');\n",
       "if (outputEl) {{\n",
       "    x.observe(outputEl, {childList: true});\n",
       "}}\n",
       "\n",
       "                        })\n",
       "                };\n",
       "                });\n",
       "            </script>\n",
       "        </div>"
      ]
     },
     "metadata": {},
     "output_type": "display_data"
    }
   ],
   "source": [
    "myplotly.bar_simple(dfc_BACH.index, dfc_BACH['absentismo'], colormap='Reds')"
   ]
  },
  {
   "cell_type": "markdown",
   "metadata": {},
   "source": [
    "## CICLOS FORMATIVOS DE GRADO MEDIO"
   ]
  },
  {
   "cell_type": "code",
   "execution_count": 39,
   "metadata": {},
   "outputs": [
    {
     "data": {
      "application/vnd.plotly.v1+json": {
       "config": {
        "linkText": "Export to plot.ly",
        "plotlyServerURL": "https://plot.ly",
        "responsive": true,
        "showLink": false
       },
       "data": [
        {
         "hoverinfo": "x+text",
         "marker": {
          "color": [
           24.099999999999998,
           18.740000000000002,
           20.130000000000003,
           9.3,
           10.17,
           10.549999999999999
          ],
          "colorscale": [
           [
            0,
            "rgb(252,174,145)"
           ],
           [
            0.3333333333333333,
            "rgb(251,106,74)"
           ],
           [
            0.6666666666666666,
            "rgb(222,45,38)"
           ],
           [
            1,
            "rgb(165,15,21)"
           ]
          ]
         },
         "text": [
          "24.10%",
          "18.74%",
          "20.13%",
          "9.30%",
          "10.17%",
          "10.55%"
         ],
         "type": "bar",
         "uid": "aa7714ba-7192-4ba4-ba9b-4e9338bd5950",
         "x": [
          "1TEL",
          "1ELE",
          "1CAR",
          "2TEL",
          "2ELE",
          "2CAR"
         ],
         "y": [
          24.099999999999998,
          18.740000000000002,
          20.130000000000003,
          9.3,
          10.17,
          10.549999999999999
         ]
        }
       ],
       "layout": {
        "title": {
         "text": ""
        }
       }
      },
      "text/html": [
       "<div>\n",
       "        \n",
       "        \n",
       "            <div id=\"11c6bbf2-ed93-4dd3-9af8-a5826b38b2ed\" class=\"plotly-graph-div\" style=\"height:525px; width:100%;\"></div>\n",
       "            <script type=\"text/javascript\">\n",
       "                require([\"plotly\"], function(Plotly) {\n",
       "                    window.PLOTLYENV=window.PLOTLYENV || {};\n",
       "                    window.PLOTLYENV.BASE_URL='https://plot.ly';\n",
       "                    \n",
       "                if (document.getElementById(\"11c6bbf2-ed93-4dd3-9af8-a5826b38b2ed\")) {\n",
       "                    Plotly.newPlot(\n",
       "                        '11c6bbf2-ed93-4dd3-9af8-a5826b38b2ed',\n",
       "                        [{\"hoverinfo\": \"x+text\", \"marker\": {\"color\": [24.099999999999998, 18.740000000000002, 20.130000000000003, 9.3, 10.17, 10.549999999999999], \"colorscale\": [[0.0, \"rgb(252,174,145)\"], [0.3333333333333333, \"rgb(251,106,74)\"], [0.6666666666666666, \"rgb(222,45,38)\"], [1.0, \"rgb(165,15,21)\"]]}, \"text\": [\"24.10%\", \"18.74%\", \"20.13%\", \"9.30%\", \"10.17%\", \"10.55%\"], \"type\": \"bar\", \"uid\": \"c31198d5-c1c9-4f17-ba90-e9e63a074379\", \"x\": [\"1TEL\", \"1ELE\", \"1CAR\", \"2TEL\", \"2ELE\", \"2CAR\"], \"y\": [24.099999999999998, 18.740000000000002, 20.130000000000003, 9.3, 10.17, 10.549999999999999]}],\n",
       "                        {\"title\": {\"text\": \"\"}},\n",
       "                        {\"showLink\": false, \"linkText\": \"Export to plot.ly\", \"plotlyServerURL\": \"https://plot.ly\", \"responsive\": true}\n",
       "                    ).then(function(){\n",
       "                            \n",
       "var gd = document.getElementById('11c6bbf2-ed93-4dd3-9af8-a5826b38b2ed');\n",
       "var x = new MutationObserver(function (mutations, observer) {{\n",
       "        var display = window.getComputedStyle(gd).display;\n",
       "        if (!display || display === 'none') {{\n",
       "            console.log([gd, 'removed!']);\n",
       "            Plotly.purge(gd);\n",
       "            observer.disconnect();\n",
       "        }}\n",
       "}});\n",
       "\n",
       "// Listen for the removal of the full notebook cells\n",
       "var notebookContainer = gd.closest('#notebook-container');\n",
       "if (notebookContainer) {{\n",
       "    x.observe(notebookContainer, {childList: true});\n",
       "}}\n",
       "\n",
       "// Listen for the clearing of the current output cell\n",
       "var outputEl = gd.closest('.output');\n",
       "if (outputEl) {{\n",
       "    x.observe(outputEl, {childList: true});\n",
       "}}\n",
       "\n",
       "                        })\n",
       "                };\n",
       "                });\n",
       "            </script>\n",
       "        </div>"
      ]
     },
     "metadata": {},
     "output_type": "display_data"
    }
   ],
   "source": [
    "myplotly.bar_simple(dfc_CFGM.index, dfc_CFGM['absentismo'], colormap='Reds')"
   ]
  },
  {
   "cell_type": "markdown",
   "metadata": {},
   "source": [
    "## CICLOS FORMATIVOS DE GRADO SUPERIOR"
   ]
  },
  {
   "cell_type": "code",
   "execution_count": 40,
   "metadata": {
    "scrolled": false
   },
   "outputs": [
    {
     "data": {
      "application/vnd.plotly.v1+json": {
       "config": {
        "linkText": "Export to plot.ly",
        "plotlyServerURL": "https://plot.ly",
        "responsive": true,
        "showLink": false
       },
       "data": [
        {
         "hoverinfo": "x+text",
         "marker": {
          "color": [
           8.780000000000001,
           10.17,
           16.12,
           14.45,
           17.36,
           5.42,
           4.92,
           14.18,
           6.630000000000001,
           11.17
          ],
          "colorscale": [
           [
            0,
            "rgb(252,174,145)"
           ],
           [
            0.3333333333333333,
            "rgb(251,106,74)"
           ],
           [
            0.6666666666666666,
            "rgb(222,45,38)"
           ],
           [
            1,
            "rgb(165,15,21)"
           ]
          ]
         },
         "text": [
          "8.78%",
          "10.17%",
          "16.12%",
          "14.45%",
          "17.36%",
          "5.42%",
          "4.92%",
          "14.18%",
          "6.63%",
          "11.17%"
         ],
         "type": "bar",
         "uid": "ae45def5-58dc-41a6-8d05-76fcd0c4dbcb",
         "x": [
          "1ARI",
          "1ALO",
          "1GIT",
          "1ASR",
          "1DAW",
          "2ARI",
          "2ALO",
          "2GIT",
          "2ASR",
          "2DAW"
         ],
         "y": [
          8.780000000000001,
          10.17,
          16.12,
          14.45,
          17.36,
          5.42,
          4.92,
          14.18,
          6.630000000000001,
          11.17
         ]
        }
       ],
       "layout": {
        "title": {
         "text": ""
        }
       }
      },
      "text/html": [
       "<div>\n",
       "        \n",
       "        \n",
       "            <div id=\"e55bfea0-5134-4add-b872-397294dd14bc\" class=\"plotly-graph-div\" style=\"height:525px; width:100%;\"></div>\n",
       "            <script type=\"text/javascript\">\n",
       "                require([\"plotly\"], function(Plotly) {\n",
       "                    window.PLOTLYENV=window.PLOTLYENV || {};\n",
       "                    window.PLOTLYENV.BASE_URL='https://plot.ly';\n",
       "                    \n",
       "                if (document.getElementById(\"e55bfea0-5134-4add-b872-397294dd14bc\")) {\n",
       "                    Plotly.newPlot(\n",
       "                        'e55bfea0-5134-4add-b872-397294dd14bc',\n",
       "                        [{\"hoverinfo\": \"x+text\", \"marker\": {\"color\": [8.780000000000001, 10.17, 16.12, 14.45, 17.36, 5.42, 4.92, 14.18, 6.630000000000001, 11.17], \"colorscale\": [[0.0, \"rgb(252,174,145)\"], [0.3333333333333333, \"rgb(251,106,74)\"], [0.6666666666666666, \"rgb(222,45,38)\"], [1.0, \"rgb(165,15,21)\"]]}, \"text\": [\"8.78%\", \"10.17%\", \"16.12%\", \"14.45%\", \"17.36%\", \"5.42%\", \"4.92%\", \"14.18%\", \"6.63%\", \"11.17%\"], \"type\": \"bar\", \"uid\": \"a07b59f2-4bb0-4fd5-8184-3ed3aa514323\", \"x\": [\"1ARI\", \"1ALO\", \"1GIT\", \"1ASR\", \"1DAW\", \"2ARI\", \"2ALO\", \"2GIT\", \"2ASR\", \"2DAW\"], \"y\": [8.780000000000001, 10.17, 16.12, 14.45, 17.36, 5.42, 4.92, 14.18, 6.630000000000001, 11.17]}],\n",
       "                        {\"title\": {\"text\": \"\"}},\n",
       "                        {\"showLink\": false, \"linkText\": \"Export to plot.ly\", \"plotlyServerURL\": \"https://plot.ly\", \"responsive\": true}\n",
       "                    ).then(function(){\n",
       "                            \n",
       "var gd = document.getElementById('e55bfea0-5134-4add-b872-397294dd14bc');\n",
       "var x = new MutationObserver(function (mutations, observer) {{\n",
       "        var display = window.getComputedStyle(gd).display;\n",
       "        if (!display || display === 'none') {{\n",
       "            console.log([gd, 'removed!']);\n",
       "            Plotly.purge(gd);\n",
       "            observer.disconnect();\n",
       "        }}\n",
       "}});\n",
       "\n",
       "// Listen for the removal of the full notebook cells\n",
       "var notebookContainer = gd.closest('#notebook-container');\n",
       "if (notebookContainer) {{\n",
       "    x.observe(notebookContainer, {childList: true});\n",
       "}}\n",
       "\n",
       "// Listen for the clearing of the current output cell\n",
       "var outputEl = gd.closest('.output');\n",
       "if (outputEl) {{\n",
       "    x.observe(outputEl, {childList: true});\n",
       "}}\n",
       "\n",
       "                        })\n",
       "                };\n",
       "                });\n",
       "            </script>\n",
       "        </div>"
      ]
     },
     "metadata": {},
     "output_type": "display_data"
    }
   ],
   "source": [
    "myplotly.bar_simple(dfc_CFGS.index, dfc_CFGS['absentismo'], colormap='Reds')"
   ]
  },
  {
   "cell_type": "markdown",
   "metadata": {},
   "source": [
    "## GLOBAL"
   ]
  },
  {
   "cell_type": "code",
   "execution_count": 41,
   "metadata": {
    "scrolled": true
   },
   "outputs": [
    {
     "data": {
      "application/vnd.plotly.v1+json": {
       "config": {
        "linkText": "Export to plot.ly",
        "plotlyServerURL": "https://plot.ly",
        "responsive": true,
        "showLink": false
       },
       "data": [
        {
         "hoverinfo": "x+text",
         "marker": {
          "color": [
           7.821538461538461,
           26.185000000000002,
           6.495,
           15.498333333333335,
           10.92
          ],
          "colorscale": [
           [
            0,
            "rgb(252,174,145)"
           ],
           [
            0.3333333333333333,
            "rgb(251,106,74)"
           ],
           [
            0.6666666666666666,
            "rgb(222,45,38)"
           ],
           [
            1,
            "rgb(165,15,21)"
           ]
          ]
         },
         "text": [
          "7.82%",
          "26.19%",
          "6.50%",
          "15.50%",
          "10.92%"
         ],
         "type": "bar",
         "uid": "d964582f-1a62-4688-8407-4a3571d5a2da",
         "x": [
          "ESO",
          "FPB",
          "BACH",
          "CFGM",
          "CFGS"
         ],
         "y": [
          7.821538461538461,
          26.185000000000002,
          6.495,
          15.498333333333335,
          10.92
         ]
        }
       ],
       "layout": {
        "title": {
         "text": ""
        }
       }
      },
      "text/html": [
       "<div>\n",
       "        \n",
       "        \n",
       "            <div id=\"14174cc1-06bf-471d-bec7-4dfef2e5c25d\" class=\"plotly-graph-div\" style=\"height:525px; width:100%;\"></div>\n",
       "            <script type=\"text/javascript\">\n",
       "                require([\"plotly\"], function(Plotly) {\n",
       "                    window.PLOTLYENV=window.PLOTLYENV || {};\n",
       "                    window.PLOTLYENV.BASE_URL='https://plot.ly';\n",
       "                    \n",
       "                if (document.getElementById(\"14174cc1-06bf-471d-bec7-4dfef2e5c25d\")) {\n",
       "                    Plotly.newPlot(\n",
       "                        '14174cc1-06bf-471d-bec7-4dfef2e5c25d',\n",
       "                        [{\"hoverinfo\": \"x+text\", \"marker\": {\"color\": [7.821538461538461, 26.185000000000002, 6.495, 15.498333333333335, 10.92], \"colorscale\": [[0.0, \"rgb(252,174,145)\"], [0.3333333333333333, \"rgb(251,106,74)\"], [0.6666666666666666, \"rgb(222,45,38)\"], [1.0, \"rgb(165,15,21)\"]]}, \"text\": [\"7.82%\", \"26.19%\", \"6.50%\", \"15.50%\", \"10.92%\"], \"type\": \"bar\", \"uid\": \"c0a87d62-a992-4908-ae8d-77baf805d5f2\", \"x\": [\"ESO\", \"FPB\", \"BACH\", \"CFGM\", \"CFGS\"], \"y\": [7.821538461538461, 26.185000000000002, 6.495, 15.498333333333335, 10.92]}],\n",
       "                        {\"title\": {\"text\": \"\"}},\n",
       "                        {\"showLink\": false, \"linkText\": \"Export to plot.ly\", \"plotlyServerURL\": \"https://plot.ly\", \"responsive\": true}\n",
       "                    ).then(function(){\n",
       "                            \n",
       "var gd = document.getElementById('14174cc1-06bf-471d-bec7-4dfef2e5c25d');\n",
       "var x = new MutationObserver(function (mutations, observer) {{\n",
       "        var display = window.getComputedStyle(gd).display;\n",
       "        if (!display || display === 'none') {{\n",
       "            console.log([gd, 'removed!']);\n",
       "            Plotly.purge(gd);\n",
       "            observer.disconnect();\n",
       "        }}\n",
       "}});\n",
       "\n",
       "// Listen for the removal of the full notebook cells\n",
       "var notebookContainer = gd.closest('#notebook-container');\n",
       "if (notebookContainer) {{\n",
       "    x.observe(notebookContainer, {childList: true});\n",
       "}}\n",
       "\n",
       "// Listen for the clearing of the current output cell\n",
       "var outputEl = gd.closest('.output');\n",
       "if (outputEl) {{\n",
       "    x.observe(outputEl, {childList: true});\n",
       "}}\n",
       "\n",
       "                        })\n",
       "                };\n",
       "                });\n",
       "            </script>\n",
       "        </div>"
      ]
     },
     "metadata": {},
     "output_type": "display_data"
    }
   ],
   "source": [
    "myplotly.bar_simple(dfc_summary.index, dfc_summary['absentismo'], colormap='Reds')"
   ]
  },
  {
   "cell_type": "markdown",
   "metadata": {},
   "source": [
    "## COMPARATIVA CON LOS ÚLTIMOS CURSOS"
   ]
  },
  {
   "cell_type": "code",
   "execution_count": 42,
   "metadata": {},
   "outputs": [
    {
     "data": {
      "application/vnd.plotly.v1+json": {
       "config": {
        "linkText": "Export to plot.ly",
        "plotlyServerURL": "https://plot.ly",
        "responsive": true,
        "showLink": false
       },
       "data": [
        {
         "hoverinfo": "x+text+name",
         "name": "C1617",
         "text": [
          "8.29%",
          "19.37%",
          "8.71%",
          "20.69%",
          "12.55%"
         ],
         "type": "bar",
         "uid": "fd91ef24-ca11-444c-bc21-729a04ec904b",
         "x": [
          "ESO",
          "FPB",
          "BACH",
          "CFGM",
          "CFGS"
         ],
         "y": [
          8.2875,
          19.37,
          8.712499999999999,
          20.691666666666666,
          12.55
         ]
        },
        {
         "hoverinfo": "x+text+name",
         "name": "C1718",
         "text": [
          "8.09%",
          "25.40%",
          "6.58%",
          "15.20%",
          "12.61%"
         ],
         "type": "bar",
         "uid": "f3038dde-da59-4544-bf39-209a9c610274",
         "x": [
          "ESO",
          "FPB",
          "BACH",
          "CFGM",
          "CFGS"
         ],
         "y": [
          8.086153846153845,
          25.400000000000002,
          6.58,
          15.200000000000001,
          12.609999999999998
         ]
        },
        {
         "hoverinfo": "x+text+name",
         "name": "C1819",
         "text": [
          "7.82%",
          "26.19%",
          "6.50%",
          "15.50%",
          "10.92%"
         ],
         "type": "bar",
         "uid": "04c8f7d6-d3c4-4ced-bf11-ce835bd92b1d",
         "x": [
          "ESO",
          "FPB",
          "BACH",
          "CFGM",
          "CFGS"
         ],
         "y": [
          7.821538461538461,
          26.185000000000002,
          6.495,
          15.498333333333335,
          10.92
         ]
        }
       ],
       "layout": {
        "barmode": "group"
       }
      },
      "text/html": [
       "<div>\n",
       "        \n",
       "        \n",
       "            <div id=\"e269c9a1-ad25-4abb-9a05-d38a2954717a\" class=\"plotly-graph-div\" style=\"height:525px; width:100%;\"></div>\n",
       "            <script type=\"text/javascript\">\n",
       "                require([\"plotly\"], function(Plotly) {\n",
       "                    window.PLOTLYENV=window.PLOTLYENV || {};\n",
       "                    window.PLOTLYENV.BASE_URL='https://plot.ly';\n",
       "                    \n",
       "                if (document.getElementById(\"e269c9a1-ad25-4abb-9a05-d38a2954717a\")) {\n",
       "                    Plotly.newPlot(\n",
       "                        'e269c9a1-ad25-4abb-9a05-d38a2954717a',\n",
       "                        [{\"hoverinfo\": \"x+text+name\", \"name\": \"C1617\", \"text\": [\"8.29%\", \"19.37%\", \"8.71%\", \"20.69%\", \"12.55%\"], \"type\": \"bar\", \"uid\": \"f1a16af7-a17b-4558-938b-d6dd3ff8f9c3\", \"x\": [\"ESO\", \"FPB\", \"BACH\", \"CFGM\", \"CFGS\"], \"y\": [8.2875, 19.37, 8.712499999999999, 20.691666666666666, 12.55]}, {\"hoverinfo\": \"x+text+name\", \"name\": \"C1718\", \"text\": [\"8.09%\", \"25.40%\", \"6.58%\", \"15.20%\", \"12.61%\"], \"type\": \"bar\", \"uid\": \"3d32da69-ee66-4232-8d6a-62aa5591299a\", \"x\": [\"ESO\", \"FPB\", \"BACH\", \"CFGM\", \"CFGS\"], \"y\": [8.086153846153845, 25.400000000000002, 6.58, 15.200000000000001, 12.609999999999998]}, {\"hoverinfo\": \"x+text+name\", \"name\": \"C1819\", \"text\": [\"7.82%\", \"26.19%\", \"6.50%\", \"15.50%\", \"10.92%\"], \"type\": \"bar\", \"uid\": \"a9c9043a-59e0-44f7-b1bc-efd956bf5bdc\", \"x\": [\"ESO\", \"FPB\", \"BACH\", \"CFGM\", \"CFGS\"], \"y\": [7.821538461538461, 26.185000000000002, 6.495, 15.498333333333335, 10.92]}],\n",
       "                        {\"barmode\": \"group\"},\n",
       "                        {\"showLink\": false, \"linkText\": \"Export to plot.ly\", \"plotlyServerURL\": \"https://plot.ly\", \"responsive\": true}\n",
       "                    ).then(function(){\n",
       "                            \n",
       "var gd = document.getElementById('e269c9a1-ad25-4abb-9a05-d38a2954717a');\n",
       "var x = new MutationObserver(function (mutations, observer) {{\n",
       "        var display = window.getComputedStyle(gd).display;\n",
       "        if (!display || display === 'none') {{\n",
       "            console.log([gd, 'removed!']);\n",
       "            Plotly.purge(gd);\n",
       "            observer.disconnect();\n",
       "        }}\n",
       "}});\n",
       "\n",
       "// Listen for the removal of the full notebook cells\n",
       "var notebookContainer = gd.closest('#notebook-container');\n",
       "if (notebookContainer) {{\n",
       "    x.observe(notebookContainer, {childList: true});\n",
       "}}\n",
       "\n",
       "// Listen for the clearing of the current output cell\n",
       "var outputEl = gd.closest('.output');\n",
       "if (outputEl) {{\n",
       "    x.observe(outputEl, {childList: true});\n",
       "}}\n",
       "\n",
       "                        })\n",
       "                };\n",
       "                });\n",
       "            </script>\n",
       "        </div>"
      ]
     },
     "metadata": {},
     "output_type": "display_data"
    }
   ],
   "source": [
    "aux = df.groupby(['etapa', 'curso', 'evaluación']).mean().reset_index().set_index('etapa')\n",
    "series = {year: aux.loc[stages].query(f'curso == \"{year}\" & evaluación == \"{labels[-1][1]}\"')['absentismo'].values\n",
    "          for year in years}\n",
    "\n",
    "myplotly.cbar(stages, series)"
   ]
  },
  {
   "cell_type": "code",
   "execution_count": 43,
   "metadata": {
    "scrolled": false
   },
   "outputs": [
    {
     "data": {
      "text/html": [
       "\n",
       "<div class='alert alert-info' role=\"alert\">\n",
       "    Absentismo global medio: <b>10.92</b>%\n",
       "</div>\n"
      ],
      "text/plain": [
       "<IPython.core.display.HTML object>"
      ]
     },
     "metadata": {},
     "output_type": "display_data"
    }
   ],
   "source": [
    "mean_absence = dfc['absentismo'].mean()\n",
    "display(HTML(f'''\n",
    "<div class='alert alert-info' role=\"alert\">\n",
    "    Absentismo global medio: <b>{mean_absence:.2f}</b>%\n",
    "</div>\n",
    "'''))"
   ]
  },
  {
   "cell_type": "code",
   "execution_count": 44,
   "metadata": {
    "scrolled": false
   },
   "outputs": [
    {
     "data": {
      "text/html": [
       "<h2>EVOLUCIÓN DE GRUPOS CON RESPECTO A LA EVALUACIÓN ANTERIOR"
      ],
      "text/plain": [
       "<IPython.core.display.HTML object>"
      ]
     },
     "metadata": {},
     "output_type": "display_data"
    },
    {
     "data": {
      "application/vnd.plotly.v1+json": {
       "config": {
        "linkText": "Export to plot.ly",
        "plotlyServerURL": "https://plot.ly",
        "responsive": true,
        "showLink": false
       },
       "data": [
        {
         "hoverinfo": "x+text",
         "marker": {
          "color": [
           "red",
           "red",
           "red",
           "red",
           "red",
           "red",
           "green",
           "red",
           "red",
           "green",
           "red",
           "green",
           "red",
           "red",
           "red",
           "red",
           "red",
           "red",
           "red",
           "red",
           "red",
           "red",
           "green",
           "red",
           "green",
           "red",
           "red",
           "green",
           "red",
           "green",
           "green",
           "green",
           "green",
           "green",
           "green"
          ]
         },
         "text": [
          "2.17%",
          "0.52%",
          "1.39%",
          "0.13%",
          "2.72%",
          "1.35%",
          "-1.54%",
          "0.27%",
          "0.21%",
          "-0.27%",
          "0.97%",
          "-0.53%",
          "2.11%",
          "6.71%",
          "2.46%",
          "1.33%",
          "0.56%",
          "0.73%",
          "0.68%",
          "1.01%",
          "4.49%",
          "1.74%",
          "-1.46%",
          "1.17%",
          "-0.38%",
          "0.58%",
          "1.52%",
          "-0.23%",
          "1.54%",
          "-1.00%",
          "-2.79%",
          "-1.43%",
          "-5.10%",
          "-0.99%",
          "-0.28%"
         ],
         "type": "bar",
         "uid": "4000e6b1-5f7c-450f-9978-39bea1617c51",
         "x": [
          "ESO1A",
          "ESO1B",
          "ESO1C",
          "ESO2A",
          "ESO2B",
          "ESO2C",
          "ESO2D",
          "ESO3A",
          "ESO3B",
          "ESO3C",
          "ESO3D",
          "ESO4A",
          "ESO4B",
          "1FPB",
          "2FPB",
          "1CIE",
          "1SOC",
          "2CIE",
          "2SOC",
          "1TEL",
          "1ELE",
          "1CAR",
          "2TEL",
          "2ELE",
          "2CAR",
          "1ARI",
          "1ALO",
          "1GIT",
          "1ASR",
          "1DAW",
          "2ARI",
          "2ALO",
          "2GIT",
          "2ASR",
          "2DAW"
         ],
         "y": [
          2.17,
          0.5200000000000005,
          1.3900000000000006,
          0.1299999999999999,
          2.7199999999999998,
          1.3500000000000005,
          -1.54,
          0.2699999999999996,
          0.21000000000000085,
          -0.2699999999999996,
          0.9700000000000006,
          -0.5299999999999994,
          2.1099999999999994,
          6.710000000000001,
          2.460000000000001,
          1.33,
          0.5600000000000005,
          0.7300000000000004,
          0.6800000000000006,
          1.009999999999998,
          4.490000000000002,
          1.740000000000002,
          -1.459999999999999,
          1.17,
          -0.3800000000000008,
          0.5800000000000018,
          1.5199999999999996,
          -0.23000000000000043,
          1.5399999999999991,
          -1,
          -2.790000000000001,
          -1.4299999999999997,
          -5.100000000000001,
          -0.9899999999999984,
          -0.28000000000000114
         ]
        }
       ],
       "layout": {
        "title": {
         "text": ""
        }
       }
      },
      "text/html": [
       "<div>\n",
       "        \n",
       "        \n",
       "            <div id=\"feeb3b64-263f-4cf0-b882-7454d541fcbf\" class=\"plotly-graph-div\" style=\"height:525px; width:100%;\"></div>\n",
       "            <script type=\"text/javascript\">\n",
       "                require([\"plotly\"], function(Plotly) {\n",
       "                    window.PLOTLYENV=window.PLOTLYENV || {};\n",
       "                    window.PLOTLYENV.BASE_URL='https://plot.ly';\n",
       "                    \n",
       "                if (document.getElementById(\"feeb3b64-263f-4cf0-b882-7454d541fcbf\")) {\n",
       "                    Plotly.newPlot(\n",
       "                        'feeb3b64-263f-4cf0-b882-7454d541fcbf',\n",
       "                        [{\"hoverinfo\": \"x+text\", \"marker\": {\"color\": [\"red\", \"red\", \"red\", \"red\", \"red\", \"red\", \"green\", \"red\", \"red\", \"green\", \"red\", \"green\", \"red\", \"red\", \"red\", \"red\", \"red\", \"red\", \"red\", \"red\", \"red\", \"red\", \"green\", \"red\", \"green\", \"red\", \"red\", \"green\", \"red\", \"green\", \"green\", \"green\", \"green\", \"green\", \"green\"]}, \"text\": [\"2.17%\", \"0.52%\", \"1.39%\", \"0.13%\", \"2.72%\", \"1.35%\", \"-1.54%\", \"0.27%\", \"0.21%\", \"-0.27%\", \"0.97%\", \"-0.53%\", \"2.11%\", \"6.71%\", \"2.46%\", \"1.33%\", \"0.56%\", \"0.73%\", \"0.68%\", \"1.01%\", \"4.49%\", \"1.74%\", \"-1.46%\", \"1.17%\", \"-0.38%\", \"0.58%\", \"1.52%\", \"-0.23%\", \"1.54%\", \"-1.00%\", \"-2.79%\", \"-1.43%\", \"-5.10%\", \"-0.99%\", \"-0.28%\"], \"type\": \"bar\", \"uid\": \"cfa594ad-b756-4335-9dff-da3cf6aa4e5f\", \"x\": [\"ESO1A\", \"ESO1B\", \"ESO1C\", \"ESO2A\", \"ESO2B\", \"ESO2C\", \"ESO2D\", \"ESO3A\", \"ESO3B\", \"ESO3C\", \"ESO3D\", \"ESO4A\", \"ESO4B\", \"1FPB\", \"2FPB\", \"1CIE\", \"1SOC\", \"2CIE\", \"2SOC\", \"1TEL\", \"1ELE\", \"1CAR\", \"2TEL\", \"2ELE\", \"2CAR\", \"1ARI\", \"1ALO\", \"1GIT\", \"1ASR\", \"1DAW\", \"2ARI\", \"2ALO\", \"2GIT\", \"2ASR\", \"2DAW\"], \"y\": [2.17, 0.5200000000000005, 1.3900000000000006, 0.1299999999999999, 2.7199999999999998, 1.3500000000000005, -1.54, 0.2699999999999996, 0.21000000000000085, -0.2699999999999996, 0.9700000000000006, -0.5299999999999994, 2.1099999999999994, 6.710000000000001, 2.460000000000001, 1.33, 0.5600000000000005, 0.7300000000000004, 0.6800000000000006, 1.009999999999998, 4.490000000000002, 1.740000000000002, -1.459999999999999, 1.17, -0.3800000000000008, 0.5800000000000018, 1.5199999999999996, -0.23000000000000043, 1.5399999999999991, -1.0, -2.790000000000001, -1.4299999999999997, -5.100000000000001, -0.9899999999999984, -0.28000000000000114]}],\n",
       "                        {\"title\": {\"text\": \"\"}},\n",
       "                        {\"showLink\": false, \"linkText\": \"Export to plot.ly\", \"plotlyServerURL\": \"https://plot.ly\", \"responsive\": true}\n",
       "                    ).then(function(){\n",
       "                            \n",
       "var gd = document.getElementById('feeb3b64-263f-4cf0-b882-7454d541fcbf');\n",
       "var x = new MutationObserver(function (mutations, observer) {{\n",
       "        var display = window.getComputedStyle(gd).display;\n",
       "        if (!display || display === 'none') {{\n",
       "            console.log([gd, 'removed!']);\n",
       "            Plotly.purge(gd);\n",
       "            observer.disconnect();\n",
       "        }}\n",
       "}});\n",
       "\n",
       "// Listen for the removal of the full notebook cells\n",
       "var notebookContainer = gd.closest('#notebook-container');\n",
       "if (notebookContainer) {{\n",
       "    x.observe(notebookContainer, {childList: true});\n",
       "}}\n",
       "\n",
       "// Listen for the clearing of the current output cell\n",
       "var outputEl = gd.closest('.output');\n",
       "if (outputEl) {{\n",
       "    x.observe(outputEl, {childList: true});\n",
       "}}\n",
       "\n",
       "                        })\n",
       "                };\n",
       "                });\n",
       "            </script>\n",
       "        </div>"
      ]
     },
     "metadata": {},
     "output_type": "display_data"
    }
   ],
   "source": [
    "if EVALUATION > 1:\n",
    "    display(HTML('<h2>EVOLUCIÓN DE GRUPOS CON RESPECTO A LA EVALUACIÓN ANTERIOR'))\n",
    "\n",
    "    aux = df_comp['absentismo_x'] - df_comp['absentismo_y']\n",
    "    myplotly.dbar(aux.index, aux, inverted_colors=True)"
   ]
  },
  {
   "cell_type": "markdown",
   "metadata": {},
   "source": [
    "# GESTIÓN DE LA CONVIVENCIA"
   ]
  },
  {
   "cell_type": "markdown",
   "metadata": {},
   "source": [
    "## PARTES DE GESTIÓN"
   ]
  },
  {
   "cell_type": "code",
   "execution_count": 45,
   "metadata": {},
   "outputs": [
    {
     "data": {
      "application/vnd.plotly.v1+json": {
       "config": {
        "linkText": "Export to plot.ly",
        "plotlyServerURL": "https://plot.ly",
        "responsive": true,
        "showLink": false
       },
       "data": [
        {
         "marker": {
          "color": [
           8,
           3,
           2,
           1,
           1,
           7
          ],
          "colorscale": [
           [
            0,
            "rgb(252,174,145)"
           ],
           [
            0.3333333333333333,
            "rgb(251,106,74)"
           ],
           [
            0.6666666666666666,
            "rgb(222,45,38)"
           ],
           [
            1,
            "rgb(165,15,21)"
           ]
          ]
         },
         "type": "bar",
         "uid": "c0924b23-6f8c-45e8-b534-a46e9f9a1f31",
         "x": [
          "ESO1A",
          "ESO1C",
          "ESO2A",
          "ESO2C",
          "ESO2D",
          "1FPB"
         ],
         "y": [
          8,
          3,
          2,
          1,
          1,
          7
         ]
        }
       ],
       "layout": {
        "title": {
         "text": ""
        }
       }
      },
      "text/html": [
       "<div>\n",
       "        \n",
       "        \n",
       "            <div id=\"4bf1ec49-9c3c-49bc-b521-2a78f9b9f19b\" class=\"plotly-graph-div\" style=\"height:525px; width:100%;\"></div>\n",
       "            <script type=\"text/javascript\">\n",
       "                require([\"plotly\"], function(Plotly) {\n",
       "                    window.PLOTLYENV=window.PLOTLYENV || {};\n",
       "                    window.PLOTLYENV.BASE_URL='https://plot.ly';\n",
       "                    \n",
       "                if (document.getElementById(\"4bf1ec49-9c3c-49bc-b521-2a78f9b9f19b\")) {\n",
       "                    Plotly.newPlot(\n",
       "                        '4bf1ec49-9c3c-49bc-b521-2a78f9b9f19b',\n",
       "                        [{\"marker\": {\"color\": [8.0, 3.0, 2.0, 1.0, 1.0, 7.0], \"colorscale\": [[0.0, \"rgb(252,174,145)\"], [0.3333333333333333, \"rgb(251,106,74)\"], [0.6666666666666666, \"rgb(222,45,38)\"], [1.0, \"rgb(165,15,21)\"]]}, \"type\": \"bar\", \"uid\": \"3a1f8c14-3afe-4539-8104-e6edab409982\", \"x\": [\"ESO1A\", \"ESO1C\", \"ESO2A\", \"ESO2C\", \"ESO2D\", \"1FPB\"], \"y\": [8.0, 3.0, 2.0, 1.0, 1.0, 7.0]}],\n",
       "                        {\"title\": {\"text\": \"\"}},\n",
       "                        {\"showLink\": false, \"linkText\": \"Export to plot.ly\", \"plotlyServerURL\": \"https://plot.ly\", \"responsive\": true}\n",
       "                    ).then(function(){\n",
       "                            \n",
       "var gd = document.getElementById('4bf1ec49-9c3c-49bc-b521-2a78f9b9f19b');\n",
       "var x = new MutationObserver(function (mutations, observer) {{\n",
       "        var display = window.getComputedStyle(gd).display;\n",
       "        if (!display || display === 'none') {{\n",
       "            console.log([gd, 'removed!']);\n",
       "            Plotly.purge(gd);\n",
       "            observer.disconnect();\n",
       "        }}\n",
       "}});\n",
       "\n",
       "// Listen for the removal of the full notebook cells\n",
       "var notebookContainer = gd.closest('#notebook-container');\n",
       "if (notebookContainer) {{\n",
       "    x.observe(notebookContainer, {childList: true});\n",
       "}}\n",
       "\n",
       "// Listen for the clearing of the current output cell\n",
       "var outputEl = gd.closest('.output');\n",
       "if (outputEl) {{\n",
       "    x.observe(outputEl, {childList: true});\n",
       "}}\n",
       "\n",
       "                        })\n",
       "                };\n",
       "                });\n",
       "            </script>\n",
       "        </div>"
      ]
     },
     "metadata": {},
     "output_type": "display_data"
    }
   ],
   "source": [
    "dfc_reports = dfc.query('partes > 0')['partes']\n",
    "myplotly.bar_simple(dfc_reports.index, dfc_reports, colormap='Reds', is_percentage=False)"
   ]
  },
  {
   "cell_type": "markdown",
   "metadata": {},
   "source": [
    "## COMPARATIVA CON LOS ÚLTIMOS CURSOS"
   ]
  },
  {
   "cell_type": "code",
   "execution_count": 46,
   "metadata": {},
   "outputs": [
    {
     "data": {
      "application/vnd.plotly.v1+json": {
       "config": {
        "linkText": "Export to plot.ly",
        "plotlyServerURL": "https://plot.ly",
        "responsive": true,
        "showLink": false
       },
       "data": [
        {
         "name": "C1617",
         "type": "bar",
         "uid": "f15db75b-4cc4-4f9d-b9d9-65535fe6d406",
         "x": [
          "ESO",
          "FPB",
          "BACH",
          "CFGM",
          "CFGS"
         ],
         "y": [
          31,
          16,
          9,
          0,
          0
         ]
        },
        {
         "name": "C1718",
         "type": "bar",
         "uid": "fabd9c51-3131-4f8d-a5a7-727cbf1a7ebc",
         "x": [
          "ESO",
          "FPB",
          "BACH",
          "CFGM",
          "CFGS"
         ],
         "y": [
          74,
          11,
          0,
          3,
          0
         ]
        },
        {
         "name": "C1819",
         "type": "bar",
         "uid": "bba17bf7-9b7b-4be8-870a-9fd0b551fc04",
         "x": [
          "ESO",
          "FPB",
          "BACH",
          "CFGM",
          "CFGS"
         ],
         "y": [
          15,
          7,
          0,
          0,
          0
         ]
        }
       ],
       "layout": {
        "barmode": "group"
       }
      },
      "text/html": [
       "<div>\n",
       "        \n",
       "        \n",
       "            <div id=\"8a8f1e49-f4cd-486c-aeb6-88b59d74df85\" class=\"plotly-graph-div\" style=\"height:525px; width:100%;\"></div>\n",
       "            <script type=\"text/javascript\">\n",
       "                require([\"plotly\"], function(Plotly) {\n",
       "                    window.PLOTLYENV=window.PLOTLYENV || {};\n",
       "                    window.PLOTLYENV.BASE_URL='https://plot.ly';\n",
       "                    \n",
       "                if (document.getElementById(\"8a8f1e49-f4cd-486c-aeb6-88b59d74df85\")) {\n",
       "                    Plotly.newPlot(\n",
       "                        '8a8f1e49-f4cd-486c-aeb6-88b59d74df85',\n",
       "                        [{\"name\": \"C1617\", \"type\": \"bar\", \"uid\": \"08f92711-72fd-4139-bf74-70a5c3fd3859\", \"x\": [\"ESO\", \"FPB\", \"BACH\", \"CFGM\", \"CFGS\"], \"y\": [31.0, 16.0, 9.0, 0.0, 0.0]}, {\"name\": \"C1718\", \"type\": \"bar\", \"uid\": \"622f3b8f-533c-4627-87fc-65810f5e7c26\", \"x\": [\"ESO\", \"FPB\", \"BACH\", \"CFGM\", \"CFGS\"], \"y\": [74.0, 11.0, 0.0, 3.0, 0.0]}, {\"name\": \"C1819\", \"type\": \"bar\", \"uid\": \"1bf9bb61-3675-4dee-83c6-7af685f66714\", \"x\": [\"ESO\", \"FPB\", \"BACH\", \"CFGM\", \"CFGS\"], \"y\": [15.0, 7.0, 0.0, 0.0, 0.0]}],\n",
       "                        {\"barmode\": \"group\"},\n",
       "                        {\"showLink\": false, \"linkText\": \"Export to plot.ly\", \"plotlyServerURL\": \"https://plot.ly\", \"responsive\": true}\n",
       "                    ).then(function(){\n",
       "                            \n",
       "var gd = document.getElementById('8a8f1e49-f4cd-486c-aeb6-88b59d74df85');\n",
       "var x = new MutationObserver(function (mutations, observer) {{\n",
       "        var display = window.getComputedStyle(gd).display;\n",
       "        if (!display || display === 'none') {{\n",
       "            console.log([gd, 'removed!']);\n",
       "            Plotly.purge(gd);\n",
       "            observer.disconnect();\n",
       "        }}\n",
       "}});\n",
       "\n",
       "// Listen for the removal of the full notebook cells\n",
       "var notebookContainer = gd.closest('#notebook-container');\n",
       "if (notebookContainer) {{\n",
       "    x.observe(notebookContainer, {childList: true});\n",
       "}}\n",
       "\n",
       "// Listen for the clearing of the current output cell\n",
       "var outputEl = gd.closest('.output');\n",
       "if (outputEl) {{\n",
       "    x.observe(outputEl, {childList: true});\n",
       "}}\n",
       "\n",
       "                        })\n",
       "                };\n",
       "                });\n",
       "            </script>\n",
       "        </div>"
      ]
     },
     "metadata": {},
     "output_type": "display_data"
    }
   ],
   "source": [
    "aux = df.groupby(['etapa', 'curso', 'evaluación']).sum().reset_index().set_index('etapa')\n",
    "series = {year: aux.loc[stages].query(f'curso == \"{year}\" & evaluación == \"{labels[-1][1]}\"')['partes'].values\n",
    "          for year in years}\n",
    "\n",
    "myplotly.cbar(stages, series, is_percentage=False)"
   ]
  },
  {
   "cell_type": "code",
   "execution_count": 47,
   "metadata": {
    "scrolled": false
   },
   "outputs": [
    {
     "data": {
      "text/html": [
       "\n",
       "<div class='alert alert-info' role=\"alert\">\n",
       "    Total de partes de gestión: <b>22</b>\n",
       "</div>\n"
      ],
      "text/plain": [
       "<IPython.core.display.HTML object>"
      ]
     },
     "metadata": {},
     "output_type": "display_data"
    }
   ],
   "source": [
    "total_reports = dfc_reports.sum()\n",
    "display(HTML(f'''\n",
    "<div class='alert alert-info' role=\"alert\">\n",
    "    Total de partes de gestión: <b>{total_reports:.0f}</b>\n",
    "</div>\n",
    "'''))"
   ]
  },
  {
   "cell_type": "code",
   "execution_count": 48,
   "metadata": {
    "scrolled": true
   },
   "outputs": [
    {
     "data": {
      "text/html": [
       "<h2>EVOLUCIÓN DE GRUPOS CON RESPECTO A LA EVALUACIÓN ANTERIOR"
      ],
      "text/plain": [
       "<IPython.core.display.HTML object>"
      ]
     },
     "metadata": {},
     "output_type": "display_data"
    },
    {
     "data": {
      "application/vnd.plotly.v1+json": {
       "config": {
        "linkText": "Export to plot.ly",
        "plotlyServerURL": "https://plot.ly",
        "responsive": true,
        "showLink": false
       },
       "data": [
        {
         "marker": {
          "color": [
           "red",
           "green",
           "red",
           "green",
           "green",
           "green",
           "green",
           "green",
           "green",
           "green",
           "green",
           "green",
           "green",
           "red",
           "green",
           "green",
           "green",
           "green",
           "green",
           "green",
           "green",
           "green",
           "green",
           "green",
           "green",
           "green",
           "green",
           "green",
           "green",
           "green",
           "green",
           "green",
           "green",
           "green",
           "green"
          ]
         },
         "type": "bar",
         "uid": "00533ec9-657f-4343-a078-9b079ba872fa",
         "x": [
          "ESO1A",
          "ESO1B",
          "ESO1C",
          "ESO2A",
          "ESO2B",
          "ESO2C",
          "ESO2D",
          "ESO3A",
          "ESO3B",
          "ESO3C",
          "ESO3D",
          "ESO4A",
          "ESO4B",
          "1FPB",
          "2FPB",
          "1CIE",
          "1SOC",
          "2CIE",
          "2SOC",
          "1TEL",
          "1ELE",
          "1CAR",
          "2TEL",
          "2ELE",
          "2CAR",
          "1ARI",
          "1ALO",
          "1GIT",
          "1ASR",
          "1DAW",
          "2ARI",
          "2ALO",
          "2GIT",
          "2ASR",
          "2DAW"
         ],
         "y": [
          4,
          -5,
          2,
          0,
          -3,
          0,
          -1,
          0,
          0,
          -1,
          0,
          -2,
          -1,
          5,
          0,
          0,
          -1,
          0,
          0,
          0,
          0,
          0,
          0,
          0,
          0,
          0,
          0,
          0,
          0,
          0,
          0,
          0,
          0,
          0,
          0
         ]
        }
       ],
       "layout": {
        "title": {
         "text": ""
        }
       }
      },
      "text/html": [
       "<div>\n",
       "        \n",
       "        \n",
       "            <div id=\"8d333d9d-274b-4ec0-967d-4a272c27d2c7\" class=\"plotly-graph-div\" style=\"height:525px; width:100%;\"></div>\n",
       "            <script type=\"text/javascript\">\n",
       "                require([\"plotly\"], function(Plotly) {\n",
       "                    window.PLOTLYENV=window.PLOTLYENV || {};\n",
       "                    window.PLOTLYENV.BASE_URL='https://plot.ly';\n",
       "                    \n",
       "                if (document.getElementById(\"8d333d9d-274b-4ec0-967d-4a272c27d2c7\")) {\n",
       "                    Plotly.newPlot(\n",
       "                        '8d333d9d-274b-4ec0-967d-4a272c27d2c7',\n",
       "                        [{\"marker\": {\"color\": [\"red\", \"green\", \"red\", \"green\", \"green\", \"green\", \"green\", \"green\", \"green\", \"green\", \"green\", \"green\", \"green\", \"red\", \"green\", \"green\", \"green\", \"green\", \"green\", \"green\", \"green\", \"green\", \"green\", \"green\", \"green\", \"green\", \"green\", \"green\", \"green\", \"green\", \"green\", \"green\", \"green\", \"green\", \"green\"]}, \"type\": \"bar\", \"uid\": \"bbe32516-36a4-4446-9613-46f789900db8\", \"x\": [\"ESO1A\", \"ESO1B\", \"ESO1C\", \"ESO2A\", \"ESO2B\", \"ESO2C\", \"ESO2D\", \"ESO3A\", \"ESO3B\", \"ESO3C\", \"ESO3D\", \"ESO4A\", \"ESO4B\", \"1FPB\", \"2FPB\", \"1CIE\", \"1SOC\", \"2CIE\", \"2SOC\", \"1TEL\", \"1ELE\", \"1CAR\", \"2TEL\", \"2ELE\", \"2CAR\", \"1ARI\", \"1ALO\", \"1GIT\", \"1ASR\", \"1DAW\", \"2ARI\", \"2ALO\", \"2GIT\", \"2ASR\", \"2DAW\"], \"y\": [4.0, -5.0, 2.0, 0.0, -3.0, 0.0, -1.0, 0.0, 0.0, -1.0, 0.0, -2.0, -1.0, 5.0, 0.0, 0.0, -1.0, 0.0, 0.0, 0.0, 0.0, 0.0, 0.0, 0.0, 0.0, 0.0, 0.0, 0.0, 0.0, 0.0, 0.0, 0.0, 0.0, 0.0, 0.0]}],\n",
       "                        {\"title\": {\"text\": \"\"}},\n",
       "                        {\"showLink\": false, \"linkText\": \"Export to plot.ly\", \"plotlyServerURL\": \"https://plot.ly\", \"responsive\": true}\n",
       "                    ).then(function(){\n",
       "                            \n",
       "var gd = document.getElementById('8d333d9d-274b-4ec0-967d-4a272c27d2c7');\n",
       "var x = new MutationObserver(function (mutations, observer) {{\n",
       "        var display = window.getComputedStyle(gd).display;\n",
       "        if (!display || display === 'none') {{\n",
       "            console.log([gd, 'removed!']);\n",
       "            Plotly.purge(gd);\n",
       "            observer.disconnect();\n",
       "        }}\n",
       "}});\n",
       "\n",
       "// Listen for the removal of the full notebook cells\n",
       "var notebookContainer = gd.closest('#notebook-container');\n",
       "if (notebookContainer) {{\n",
       "    x.observe(notebookContainer, {childList: true});\n",
       "}}\n",
       "\n",
       "// Listen for the clearing of the current output cell\n",
       "var outputEl = gd.closest('.output');\n",
       "if (outputEl) {{\n",
       "    x.observe(outputEl, {childList: true});\n",
       "}}\n",
       "\n",
       "                        })\n",
       "                };\n",
       "                });\n",
       "            </script>\n",
       "        </div>"
      ]
     },
     "metadata": {},
     "output_type": "display_data"
    }
   ],
   "source": [
    "if EVALUATION > 1:\n",
    "    display(HTML('<h2>EVOLUCIÓN DE GRUPOS CON RESPECTO A LA EVALUACIÓN ANTERIOR'))\n",
    "\n",
    "    aux = df_comp['partes_x'] - df_comp['partes_y']\n",
    "    myplotly.dbar(aux.index, aux, is_percentage=False, inverted_colors=True)"
   ]
  },
  {
   "cell_type": "markdown",
   "metadata": {},
   "source": [
    "## SUSPENSIÓN DEL DERECHO DE ASISTENCIA"
   ]
  },
  {
   "cell_type": "code",
   "execution_count": 49,
   "metadata": {},
   "outputs": [
    {
     "data": {
      "application/vnd.plotly.v1+json": {
       "config": {
        "linkText": "Export to plot.ly",
        "plotlyServerURL": "https://plot.ly",
        "responsive": true,
        "showLink": false
       },
       "data": [
        {
         "marker": {
          "color": [
           7,
           1,
           1,
           2
          ],
          "colorscale": [
           [
            0,
            "rgb(252,174,145)"
           ],
           [
            0.3333333333333333,
            "rgb(251,106,74)"
           ],
           [
            0.6666666666666666,
            "rgb(222,45,38)"
           ],
           [
            1,
            "rgb(165,15,21)"
           ]
          ]
         },
         "type": "bar",
         "uid": "fadcddeb-0c30-451a-91a9-c861340ec80a",
         "x": [
          "ESO1A",
          "ESO1C",
          "ESO2A",
          "1FPB"
         ],
         "y": [
          7,
          1,
          1,
          2
         ]
        }
       ],
       "layout": {
        "title": {
         "text": ""
        }
       }
      },
      "text/html": [
       "<div>\n",
       "        \n",
       "        \n",
       "            <div id=\"42ee77ec-3987-4d15-84ca-47e52de82a77\" class=\"plotly-graph-div\" style=\"height:525px; width:100%;\"></div>\n",
       "            <script type=\"text/javascript\">\n",
       "                require([\"plotly\"], function(Plotly) {\n",
       "                    window.PLOTLYENV=window.PLOTLYENV || {};\n",
       "                    window.PLOTLYENV.BASE_URL='https://plot.ly';\n",
       "                    \n",
       "                if (document.getElementById(\"42ee77ec-3987-4d15-84ca-47e52de82a77\")) {\n",
       "                    Plotly.newPlot(\n",
       "                        '42ee77ec-3987-4d15-84ca-47e52de82a77',\n",
       "                        [{\"marker\": {\"color\": [7.0, 1.0, 1.0, 2.0], \"colorscale\": [[0.0, \"rgb(252,174,145)\"], [0.3333333333333333, \"rgb(251,106,74)\"], [0.6666666666666666, \"rgb(222,45,38)\"], [1.0, \"rgb(165,15,21)\"]]}, \"type\": \"bar\", \"uid\": \"fda0ffa5-1ebc-4e6c-b58a-28351d18121e\", \"x\": [\"ESO1A\", \"ESO1C\", \"ESO2A\", \"1FPB\"], \"y\": [7.0, 1.0, 1.0, 2.0]}],\n",
       "                        {\"title\": {\"text\": \"\"}},\n",
       "                        {\"showLink\": false, \"linkText\": \"Export to plot.ly\", \"plotlyServerURL\": \"https://plot.ly\", \"responsive\": true}\n",
       "                    ).then(function(){\n",
       "                            \n",
       "var gd = document.getElementById('42ee77ec-3987-4d15-84ca-47e52de82a77');\n",
       "var x = new MutationObserver(function (mutations, observer) {{\n",
       "        var display = window.getComputedStyle(gd).display;\n",
       "        if (!display || display === 'none') {{\n",
       "            console.log([gd, 'removed!']);\n",
       "            Plotly.purge(gd);\n",
       "            observer.disconnect();\n",
       "        }}\n",
       "}});\n",
       "\n",
       "// Listen for the removal of the full notebook cells\n",
       "var notebookContainer = gd.closest('#notebook-container');\n",
       "if (notebookContainer) {{\n",
       "    x.observe(notebookContainer, {childList: true});\n",
       "}}\n",
       "\n",
       "// Listen for the clearing of the current output cell\n",
       "var outputEl = gd.closest('.output');\n",
       "if (outputEl) {{\n",
       "    x.observe(outputEl, {childList: true});\n",
       "}}\n",
       "\n",
       "                        })\n",
       "                };\n",
       "                });\n",
       "            </script>\n",
       "        </div>"
      ]
     },
     "metadata": {},
     "output_type": "display_data"
    }
   ],
   "source": [
    "dfc_non_attendance = dfc.query('suspensión_asistencia > 0')['suspensión_asistencia']\n",
    "myplotly.bar_simple(dfc_non_attendance.index, dfc_non_attendance, colormap='Reds', is_percentage=False)"
   ]
  },
  {
   "cell_type": "markdown",
   "metadata": {},
   "source": [
    "## COMPARATIVA CON LOS ÚLTIMOS CURSOS"
   ]
  },
  {
   "cell_type": "code",
   "execution_count": 50,
   "metadata": {},
   "outputs": [
    {
     "data": {
      "application/vnd.plotly.v1+json": {
       "config": {
        "linkText": "Export to plot.ly",
        "plotlyServerURL": "https://plot.ly",
        "responsive": true,
        "showLink": false
       },
       "data": [
        {
         "name": "C1617",
         "type": "bar",
         "uid": "d36ccb99-60a8-490f-9ee3-9c95533b6e4e",
         "x": [
          "ESO",
          "FPB",
          "BACH",
          "CFGM",
          "CFGS"
         ],
         "y": [
          2,
          5,
          1,
          0,
          0
         ]
        },
        {
         "name": "C1718",
         "type": "bar",
         "uid": "d7637dea-c70a-4646-afc6-e4800030571e",
         "x": [
          "ESO",
          "FPB",
          "BACH",
          "CFGM",
          "CFGS"
         ],
         "y": [
          12,
          4,
          0,
          0,
          0
         ]
        },
        {
         "name": "C1819",
         "type": "bar",
         "uid": "e32009fd-11bc-473e-8581-b880ea3c0dee",
         "x": [
          "ESO",
          "FPB",
          "BACH",
          "CFGM",
          "CFGS"
         ],
         "y": [
          9,
          2,
          0,
          0,
          0
         ]
        }
       ],
       "layout": {
        "barmode": "group"
       }
      },
      "text/html": [
       "<div>\n",
       "        \n",
       "        \n",
       "            <div id=\"6dabfb1a-671d-4666-8c29-d0667a897acf\" class=\"plotly-graph-div\" style=\"height:525px; width:100%;\"></div>\n",
       "            <script type=\"text/javascript\">\n",
       "                require([\"plotly\"], function(Plotly) {\n",
       "                    window.PLOTLYENV=window.PLOTLYENV || {};\n",
       "                    window.PLOTLYENV.BASE_URL='https://plot.ly';\n",
       "                    \n",
       "                if (document.getElementById(\"6dabfb1a-671d-4666-8c29-d0667a897acf\")) {\n",
       "                    Plotly.newPlot(\n",
       "                        '6dabfb1a-671d-4666-8c29-d0667a897acf',\n",
       "                        [{\"name\": \"C1617\", \"type\": \"bar\", \"uid\": \"2ae9248a-d473-4a18-86fa-37fd6ad639b4\", \"x\": [\"ESO\", \"FPB\", \"BACH\", \"CFGM\", \"CFGS\"], \"y\": [2.0, 5.0, 1.0, 0.0, 0.0]}, {\"name\": \"C1718\", \"type\": \"bar\", \"uid\": \"303b69f1-9bb1-419f-9555-6079141b866a\", \"x\": [\"ESO\", \"FPB\", \"BACH\", \"CFGM\", \"CFGS\"], \"y\": [12.0, 4.0, 0.0, 0.0, 0.0]}, {\"name\": \"C1819\", \"type\": \"bar\", \"uid\": \"bb96526b-4b82-4ab1-afc7-9f227f7342af\", \"x\": [\"ESO\", \"FPB\", \"BACH\", \"CFGM\", \"CFGS\"], \"y\": [9.0, 2.0, 0.0, 0.0, 0.0]}],\n",
       "                        {\"barmode\": \"group\"},\n",
       "                        {\"showLink\": false, \"linkText\": \"Export to plot.ly\", \"plotlyServerURL\": \"https://plot.ly\", \"responsive\": true}\n",
       "                    ).then(function(){\n",
       "                            \n",
       "var gd = document.getElementById('6dabfb1a-671d-4666-8c29-d0667a897acf');\n",
       "var x = new MutationObserver(function (mutations, observer) {{\n",
       "        var display = window.getComputedStyle(gd).display;\n",
       "        if (!display || display === 'none') {{\n",
       "            console.log([gd, 'removed!']);\n",
       "            Plotly.purge(gd);\n",
       "            observer.disconnect();\n",
       "        }}\n",
       "}});\n",
       "\n",
       "// Listen for the removal of the full notebook cells\n",
       "var notebookContainer = gd.closest('#notebook-container');\n",
       "if (notebookContainer) {{\n",
       "    x.observe(notebookContainer, {childList: true});\n",
       "}}\n",
       "\n",
       "// Listen for the clearing of the current output cell\n",
       "var outputEl = gd.closest('.output');\n",
       "if (outputEl) {{\n",
       "    x.observe(outputEl, {childList: true});\n",
       "}}\n",
       "\n",
       "                        })\n",
       "                };\n",
       "                });\n",
       "            </script>\n",
       "        </div>"
      ]
     },
     "metadata": {},
     "output_type": "display_data"
    }
   ],
   "source": [
    "aux = df.groupby(['etapa', 'curso', 'evaluación']).sum().reset_index().set_index('etapa')\n",
    "series = {year: aux.loc[stages].query(f'curso == \"{year}\" & evaluación == \"{labels[-1][1]}\"')['suspensión_asistencia'].values\n",
    "          for year in years}\n",
    "\n",
    "myplotly.cbar(stages, series, is_percentage=False)"
   ]
  },
  {
   "cell_type": "code",
   "execution_count": 51,
   "metadata": {
    "scrolled": false
   },
   "outputs": [
    {
     "data": {
      "text/html": [
       "\n",
       "<div class='alert alert-info' role=\"alert\">\n",
       "    Total de partes de gestión con <b>suspensión</b> del derecho de asistencia: <b>11</b>\n",
       "</div>\n"
      ],
      "text/plain": [
       "<IPython.core.display.HTML object>"
      ]
     },
     "metadata": {},
     "output_type": "display_data"
    }
   ],
   "source": [
    "total_non_attendance = dfc_non_attendance.sum()\n",
    "display(HTML(f'''\n",
    "<div class='alert alert-info' role=\"alert\">\n",
    "    Total de partes de gestión con <b>suspensión</b> del derecho de asistencia: <b>{total_non_attendance:.0f}</b>\n",
    "</div>\n",
    "'''))"
   ]
  },
  {
   "cell_type": "markdown",
   "metadata": {},
   "source": [
    "# RELACIÓN `éxito-competencias básicas`"
   ]
  },
  {
   "cell_type": "markdown",
   "metadata": {},
   "source": [
    "> **NOTA**: Análisis únicamente con grupos de la ESO."
   ]
  },
  {
   "cell_type": "code",
   "execution_count": 52,
   "metadata": {},
   "outputs": [
    {
     "data": {
      "application/vnd.plotly.v1+json": {
       "config": {
        "linkText": "Export to plot.ly",
        "plotlyServerURL": "https://plot.ly",
        "responsive": true,
        "showLink": false
       },
       "data": [
        {
         "marker": {
          "size": 12
         },
         "mode": "markers",
         "name": "",
         "showlegend": false,
         "text": [
          "ESO1A",
          "ESO1B",
          "ESO1C",
          "ESO2A",
          "ESO2B",
          "ESO2C",
          "ESO2D",
          "ESO3A",
          "ESO3B",
          "ESO3C",
          "ESO3D",
          "ESO4A",
          "ESO4B"
         ],
         "type": "scatter",
         "uid": "30d345f8-fbdd-4309-a028-3ec38dafb587",
         "x": [
          15,
          47.4,
          12,
          53.6,
          43.3,
          41.4,
          30,
          42.9,
          34.8,
          20.8,
          10,
          44,
          10.7
         ],
         "y": [
          3.9464285714285716,
          5.203571428571428,
          4.171428571428572,
          4.928571428571429,
          4.6571428571428575,
          5.182142857142857,
          4,
          5.639285714285714,
          5.721428571428572,
          4.514285714285714,
          3.6785714285714284,
          5.6,
          4.378571428571429
         ]
        },
        {
         "hoverinfo": "skip",
         "mode": "lines",
         "name": "Regresión",
         "type": "scatter",
         "uid": "96423a1c-3bbf-422c-93e0-0160a5ac5028",
         "x": [
          15,
          47.4,
          12,
          53.6,
          43.3,
          41.4,
          30,
          42.9,
          34.8,
          20.8,
          10,
          44,
          10.7
         ],
         "y": [
          4.203389634427208,
          5.275303203386647,
          4.104138378042075,
          5.48042246658259,
          5.139659819660299,
          5.0768006906163805,
          4.699645916352875,
          5.126426318808948,
          4.858447926569088,
          4.395275396771799,
          4.037970873785319,
          5.162818446150164,
          4.061129500275183
         ]
        }
       ],
       "layout": {
        "height": 600,
        "hovermode": "closest",
        "width": 600,
        "xaxis": {
         "title": {
          "text": "Éxito"
         }
        },
        "yaxis": {
         "title": {
          "text": "Competencias básicas"
         }
        }
       }
      },
      "text/html": [
       "<div>\n",
       "        \n",
       "        \n",
       "            <div id=\"eb537a64-8974-4cdb-b544-9afb5f1ce18e\" class=\"plotly-graph-div\" style=\"height:600px; width:600px;\"></div>\n",
       "            <script type=\"text/javascript\">\n",
       "                require([\"plotly\"], function(Plotly) {\n",
       "                    window.PLOTLYENV=window.PLOTLYENV || {};\n",
       "                    window.PLOTLYENV.BASE_URL='https://plot.ly';\n",
       "                    \n",
       "                if (document.getElementById(\"eb537a64-8974-4cdb-b544-9afb5f1ce18e\")) {\n",
       "                    Plotly.newPlot(\n",
       "                        'eb537a64-8974-4cdb-b544-9afb5f1ce18e',\n",
       "                        [{\"marker\": {\"size\": 12}, \"mode\": \"markers\", \"name\": \"\", \"showlegend\": false, \"text\": [\"ESO1A\", \"ESO1B\", \"ESO1C\", \"ESO2A\", \"ESO2B\", \"ESO2C\", \"ESO2D\", \"ESO3A\", \"ESO3B\", \"ESO3C\", \"ESO3D\", \"ESO4A\", \"ESO4B\"], \"type\": \"scatter\", \"uid\": \"4c4971a9-3f62-4914-9f37-0ab4cfca9682\", \"x\": [15.0, 47.4, 12.0, 53.6, 43.3, 41.4, 30.0, 42.9, 34.8, 20.8, 10.0, 44.0, 10.7], \"y\": [3.9464285714285716, 5.203571428571428, 4.171428571428572, 4.928571428571429, 4.6571428571428575, 5.182142857142857, 4.0, 5.639285714285714, 5.721428571428572, 4.514285714285714, 3.6785714285714284, 5.6, 4.378571428571429]}, {\"hoverinfo\": \"skip\", \"mode\": \"lines\", \"name\": \"Regresi\\u00f3n\", \"type\": \"scatter\", \"uid\": \"3ee594e6-4702-400f-9c65-eb6380005291\", \"x\": [15.0, 47.4, 12.0, 53.6, 43.3, 41.4, 30.0, 42.9, 34.8, 20.8, 10.0, 44.0, 10.7], \"y\": [4.203389634427208, 5.275303203386647, 4.104138378042075, 5.48042246658259, 5.139659819660299, 5.0768006906163805, 4.699645916352875, 5.126426318808948, 4.858447926569088, 4.395275396771799, 4.037970873785319, 5.162818446150164, 4.061129500275183]}],\n",
       "                        {\"height\": 600, \"hovermode\": \"closest\", \"width\": 600, \"xaxis\": {\"title\": {\"text\": \"\\u00c9xito\"}}, \"yaxis\": {\"title\": {\"text\": \"Competencias b\\u00e1sicas\"}}},\n",
       "                        {\"showLink\": false, \"linkText\": \"Export to plot.ly\", \"plotlyServerURL\": \"https://plot.ly\", \"responsive\": true}\n",
       "                    ).then(function(){\n",
       "                            \n",
       "var gd = document.getElementById('eb537a64-8974-4cdb-b544-9afb5f1ce18e');\n",
       "var x = new MutationObserver(function (mutations, observer) {{\n",
       "        var display = window.getComputedStyle(gd).display;\n",
       "        if (!display || display === 'none') {{\n",
       "            console.log([gd, 'removed!']);\n",
       "            Plotly.purge(gd);\n",
       "            observer.disconnect();\n",
       "        }}\n",
       "}});\n",
       "\n",
       "// Listen for the removal of the full notebook cells\n",
       "var notebookContainer = gd.closest('#notebook-container');\n",
       "if (notebookContainer) {{\n",
       "    x.observe(notebookContainer, {childList: true});\n",
       "}}\n",
       "\n",
       "// Listen for the clearing of the current output cell\n",
       "var outputEl = gd.closest('.output');\n",
       "if (outputEl) {{\n",
       "    x.observe(outputEl, {childList: true});\n",
       "}}\n",
       "\n",
       "                        })\n",
       "                };\n",
       "                });\n",
       "            </script>\n",
       "        </div>"
      ]
     },
     "metadata": {},
     "output_type": "display_data"
    }
   ],
   "source": [
    "myplotly.scatter(dfc_ESO['éxito'], dfc_ESO['ccbb'], dfc_ESO.index,\n",
    "        x_title='Éxito', y_title='Competencias básicas')"
   ]
  },
  {
   "cell_type": "code",
   "execution_count": 53,
   "metadata": {},
   "outputs": [
    {
     "data": {
      "text/html": [
       "\n",
       "    <div class='alert alert-success' role='alert'>\n",
       "        COEFICIENTE DE CORRELACIÓN: <b>0.7464</b>\n",
       "    </div>\n"
      ],
      "text/plain": [
       "<IPython.core.display.HTML object>"
      ]
     },
     "metadata": {},
     "output_type": "display_data"
    }
   ],
   "source": [
    "corr = dfc_ESO.corrwith(dfc['éxito'])['ccbb']\n",
    "display(HTML(f'''\n",
    "    <div class='alert alert-success' role='alert'>\n",
    "        COEFICIENTE DE CORRELACIÓN: <b>{corr:.4f}</b>\n",
    "    </div>\n",
    "'''))"
   ]
  },
  {
   "cell_type": "markdown",
   "metadata": {},
   "source": [
    "## Detección de *outliers*"
   ]
  },
  {
   "cell_type": "markdown",
   "metadata": {},
   "source": [
    "### Bajo éxito y alta adquisición de competencias básicas"
   ]
  },
  {
   "cell_type": "code",
   "execution_count": 54,
   "metadata": {
    "scrolled": false
   },
   "outputs": [
    {
     "data": {
      "text/html": [
       "<div>\n",
       "<style scoped>\n",
       "    .dataframe tbody tr th:only-of-type {\n",
       "        vertical-align: middle;\n",
       "    }\n",
       "\n",
       "    .dataframe tbody tr th {\n",
       "        vertical-align: top;\n",
       "    }\n",
       "\n",
       "    .dataframe thead th {\n",
       "        text-align: right;\n",
       "    }\n",
       "</style>\n",
       "<table border=\"1\" class=\"dataframe\">\n",
       "  <thead>\n",
       "    <tr style=\"text-align: right;\">\n",
       "      <th></th>\n",
       "      <th>éxito</th>\n",
       "      <th>ccbb</th>\n",
       "    </tr>\n",
       "    <tr>\n",
       "      <th>grupo</th>\n",
       "      <th></th>\n",
       "      <th></th>\n",
       "    </tr>\n",
       "  </thead>\n",
       "  <tbody>\n",
       "  </tbody>\n",
       "</table>\n",
       "</div>"
      ],
      "text/plain": [
       "Empty DataFrame\n",
       "Columns: [éxito, ccbb]\n",
       "Index: []"
      ]
     },
     "execution_count": 54,
     "metadata": {},
     "output_type": "execute_result"
    }
   ],
   "source": [
    "dfc_ESO[(dfc_ESO['éxito'] < 20) & (dfc_ESO['ccbb'] > 5)][['éxito', 'ccbb']]"
   ]
  },
  {
   "cell_type": "markdown",
   "metadata": {},
   "source": [
    "### Alto éxito y baja adquisición de competencias básicas"
   ]
  },
  {
   "cell_type": "code",
   "execution_count": 55,
   "metadata": {
    "scrolled": false
   },
   "outputs": [
    {
     "data": {
      "text/html": [
       "<div>\n",
       "<style scoped>\n",
       "    .dataframe tbody tr th:only-of-type {\n",
       "        vertical-align: middle;\n",
       "    }\n",
       "\n",
       "    .dataframe tbody tr th {\n",
       "        vertical-align: top;\n",
       "    }\n",
       "\n",
       "    .dataframe thead th {\n",
       "        text-align: right;\n",
       "    }\n",
       "</style>\n",
       "<table border=\"1\" class=\"dataframe\">\n",
       "  <thead>\n",
       "    <tr style=\"text-align: right;\">\n",
       "      <th></th>\n",
       "      <th>éxito</th>\n",
       "      <th>ccbb</th>\n",
       "    </tr>\n",
       "    <tr>\n",
       "      <th>grupo</th>\n",
       "      <th></th>\n",
       "      <th></th>\n",
       "    </tr>\n",
       "  </thead>\n",
       "  <tbody>\n",
       "  </tbody>\n",
       "</table>\n",
       "</div>"
      ],
      "text/plain": [
       "Empty DataFrame\n",
       "Columns: [éxito, ccbb]\n",
       "Index: []"
      ]
     },
     "execution_count": 55,
     "metadata": {},
     "output_type": "execute_result"
    }
   ],
   "source": [
    "dfc_ESO[(dfc_ESO['éxito'] > 50) & (dfc_ESO['ccbb'] < 4)][['éxito', 'ccbb']]"
   ]
  },
  {
   "cell_type": "markdown",
   "metadata": {},
   "source": [
    "# RELACIÓN `ratio-éxito`"
   ]
  },
  {
   "cell_type": "code",
   "execution_count": 56,
   "metadata": {},
   "outputs": [
    {
     "data": {
      "application/vnd.plotly.v1+json": {
       "config": {
        "linkText": "Export to plot.ly",
        "plotlyServerURL": "https://plot.ly",
        "responsive": true,
        "showLink": false
       },
       "data": [
        {
         "marker": {
          "size": 12
         },
         "mode": "markers",
         "name": "",
         "showlegend": false,
         "text": [
          "ESO1A",
          "ESO1B",
          "ESO1C",
          "ESO2A",
          "ESO2B",
          "ESO2C",
          "ESO2D",
          "ESO3A",
          "ESO3B",
          "ESO3C",
          "ESO3D",
          "ESO4A",
          "ESO4B",
          "1FPB",
          "2FPB",
          "1CIE",
          "1SOC",
          "2CIE",
          "2SOC",
          "1TEL",
          "1ELE",
          "1CAR",
          "2TEL",
          "2ELE",
          "2CAR",
          "1ARI",
          "1ALO",
          "1GIT",
          "1ASR",
          "1DAW",
          "2ARI",
          "2ALO",
          "2GIT",
          "2ASR",
          "2DAW"
         ],
         "type": "scatter",
         "uid": "a95d33fc-d36e-419d-afbd-4694cb346128",
         "x": [
          20,
          19,
          25,
          28,
          30,
          29,
          10,
          21,
          23,
          24,
          10,
          25,
          28,
          20,
          5,
          21,
          27,
          19,
          29,
          15,
          19,
          18,
          11,
          8,
          9,
          17,
          29,
          26,
          31,
          18,
          13,
          23,
          28,
          17,
          15
         ],
         "y": [
          15,
          47.4,
          12,
          53.6,
          43.3,
          41.4,
          30,
          42.9,
          34.8,
          20.8,
          10,
          44,
          10.7,
          15,
          100,
          33.3,
          25.9,
          26.3,
          37.9,
          33.3,
          36.8,
          27.8,
          100,
          87.5,
          88.9,
          41.2,
          72.4,
          46.2,
          35.5,
          33.3,
          100,
          100,
          82.1,
          94.1,
          86.7
         ]
        },
        {
         "hoverinfo": "skip",
         "mode": "lines",
         "name": "Regresión",
         "type": "scatter",
         "uid": "409cc730-8485-4776-b222-3ff6f10d2ca6",
         "x": [
          20,
          19,
          25,
          28,
          30,
          29,
          10,
          21,
          23,
          24,
          10,
          25,
          28,
          20,
          5,
          21,
          27,
          19,
          29,
          15,
          19,
          18,
          11,
          8,
          9,
          17,
          29,
          26,
          31,
          18,
          13,
          23,
          28,
          17,
          15
         ],
         "y": [
          49.289912120709666,
          50.7946045431935,
          41.7664500082905,
          37.252372740839,
          34.24298789587134,
          35.747680318355165,
          64.336836345548,
          47.78521969822583,
          44.77583485325817,
          43.27114243077433,
          64.336836345548,
          41.7664500082905,
          37.252372740839,
          49.289912120709666,
          71.86029845796716,
          47.78521969822583,
          38.757065163322835,
          50.7946045431935,
          35.747680318355165,
          56.81337423312883,
          50.7946045431935,
          52.29929696567733,
          62.832143923064166,
          67.34622119051566,
          65.84152876803184,
          53.80398938816116,
          35.747680318355165,
          40.26175758580666,
          32.7382954733875,
          52.29929696567733,
          59.822759078096496,
          44.77583485325817,
          37.252372740839,
          53.80398938816116,
          56.81337423312883
         ]
        }
       ],
       "layout": {
        "height": 600,
        "hovermode": "closest",
        "width": 600,
        "xaxis": {
         "title": {
          "text": "Ratio"
         }
        },
        "yaxis": {
         "title": {
          "text": "Éxito"
         }
        }
       }
      },
      "text/html": [
       "<div>\n",
       "        \n",
       "        \n",
       "            <div id=\"6c3e1165-6386-4a28-a60e-02380824036f\" class=\"plotly-graph-div\" style=\"height:600px; width:600px;\"></div>\n",
       "            <script type=\"text/javascript\">\n",
       "                require([\"plotly\"], function(Plotly) {\n",
       "                    window.PLOTLYENV=window.PLOTLYENV || {};\n",
       "                    window.PLOTLYENV.BASE_URL='https://plot.ly';\n",
       "                    \n",
       "                if (document.getElementById(\"6c3e1165-6386-4a28-a60e-02380824036f\")) {\n",
       "                    Plotly.newPlot(\n",
       "                        '6c3e1165-6386-4a28-a60e-02380824036f',\n",
       "                        [{\"marker\": {\"size\": 12}, \"mode\": \"markers\", \"name\": \"\", \"showlegend\": false, \"text\": [\"ESO1A\", \"ESO1B\", \"ESO1C\", \"ESO2A\", \"ESO2B\", \"ESO2C\", \"ESO2D\", \"ESO3A\", \"ESO3B\", \"ESO3C\", \"ESO3D\", \"ESO4A\", \"ESO4B\", \"1FPB\", \"2FPB\", \"1CIE\", \"1SOC\", \"2CIE\", \"2SOC\", \"1TEL\", \"1ELE\", \"1CAR\", \"2TEL\", \"2ELE\", \"2CAR\", \"1ARI\", \"1ALO\", \"1GIT\", \"1ASR\", \"1DAW\", \"2ARI\", \"2ALO\", \"2GIT\", \"2ASR\", \"2DAW\"], \"type\": \"scatter\", \"uid\": \"0ea6901a-1fec-4681-bef2-44fcee529aab\", \"x\": [20, 19, 25, 28, 30, 29, 10, 21, 23, 24, 10, 25, 28, 20, 5, 21, 27, 19, 29, 15, 19, 18, 11, 8, 9, 17, 29, 26, 31, 18, 13, 23, 28, 17, 15], \"y\": [15.0, 47.4, 12.0, 53.6, 43.3, 41.4, 30.0, 42.9, 34.8, 20.8, 10.0, 44.0, 10.7, 15.0, 100.0, 33.3, 25.9, 26.3, 37.9, 33.3, 36.8, 27.8, 100.0, 87.5, 88.9, 41.2, 72.4, 46.2, 35.5, 33.3, 100.0, 100.0, 82.1, 94.1, 86.7]}, {\"hoverinfo\": \"skip\", \"mode\": \"lines\", \"name\": \"Regresi\\u00f3n\", \"type\": \"scatter\", \"uid\": \"2d7048d2-7825-4978-84da-b4bc31101e3d\", \"x\": [20, 19, 25, 28, 30, 29, 10, 21, 23, 24, 10, 25, 28, 20, 5, 21, 27, 19, 29, 15, 19, 18, 11, 8, 9, 17, 29, 26, 31, 18, 13, 23, 28, 17, 15], \"y\": [49.289912120709666, 50.7946045431935, 41.7664500082905, 37.252372740839, 34.24298789587134, 35.747680318355165, 64.336836345548, 47.78521969822583, 44.77583485325817, 43.27114243077433, 64.336836345548, 41.7664500082905, 37.252372740839, 49.289912120709666, 71.86029845796716, 47.78521969822583, 38.757065163322835, 50.7946045431935, 35.747680318355165, 56.81337423312883, 50.7946045431935, 52.29929696567733, 62.832143923064166, 67.34622119051566, 65.84152876803184, 53.80398938816116, 35.747680318355165, 40.26175758580666, 32.7382954733875, 52.29929696567733, 59.822759078096496, 44.77583485325817, 37.252372740839, 53.80398938816116, 56.81337423312883]}],\n",
       "                        {\"height\": 600, \"hovermode\": \"closest\", \"width\": 600, \"xaxis\": {\"title\": {\"text\": \"Ratio\"}}, \"yaxis\": {\"title\": {\"text\": \"\\u00c9xito\"}}},\n",
       "                        {\"showLink\": false, \"linkText\": \"Export to plot.ly\", \"plotlyServerURL\": \"https://plot.ly\", \"responsive\": true}\n",
       "                    ).then(function(){\n",
       "                            \n",
       "var gd = document.getElementById('6c3e1165-6386-4a28-a60e-02380824036f');\n",
       "var x = new MutationObserver(function (mutations, observer) {{\n",
       "        var display = window.getComputedStyle(gd).display;\n",
       "        if (!display || display === 'none') {{\n",
       "            console.log([gd, 'removed!']);\n",
       "            Plotly.purge(gd);\n",
       "            observer.disconnect();\n",
       "        }}\n",
       "}});\n",
       "\n",
       "// Listen for the removal of the full notebook cells\n",
       "var notebookContainer = gd.closest('#notebook-container');\n",
       "if (notebookContainer) {{\n",
       "    x.observe(notebookContainer, {childList: true});\n",
       "}}\n",
       "\n",
       "// Listen for the clearing of the current output cell\n",
       "var outputEl = gd.closest('.output');\n",
       "if (outputEl) {{\n",
       "    x.observe(outputEl, {childList: true});\n",
       "}}\n",
       "\n",
       "                        })\n",
       "                };\n",
       "                });\n",
       "            </script>\n",
       "        </div>"
      ]
     },
     "metadata": {},
     "output_type": "display_data"
    }
   ],
   "source": [
    "myplotly.scatter(dfc['ratio'], dfc['éxito'], dfc.index,\n",
    "        x_title='Ratio', y_title='Éxito')"
   ]
  },
  {
   "cell_type": "code",
   "execution_count": 58,
   "metadata": {},
   "outputs": [
    {
     "data": {
      "text/html": [
       "\n",
       "    <div class='alert alert-success' role='alert'>\n",
       "        COEFICIENTE DE CORRELACIÓN: <b>-0.3634</b>\n",
       "    </div>\n"
      ],
      "text/plain": [
       "<IPython.core.display.HTML object>"
      ]
     },
     "metadata": {},
     "output_type": "display_data"
    }
   ],
   "source": [
    "corr = dfc.corrwith(dfc['ratio'])['éxito']\n",
    "display(HTML(f'''\n",
    "    <div class='alert alert-success' role='alert'>\n",
    "        COEFICIENTE DE CORRELACIÓN: <b>{corr:.4f}</b>\n",
    "    </div>\n",
    "'''))"
   ]
  },
  {
   "cell_type": "markdown",
   "metadata": {},
   "source": [
    "## Detección de *outliers*"
   ]
  },
  {
   "cell_type": "markdown",
   "metadata": {},
   "source": [
    "### Baja ratio y bajo éxito"
   ]
  },
  {
   "cell_type": "code",
   "execution_count": 59,
   "metadata": {
    "scrolled": false
   },
   "outputs": [
    {
     "data": {
      "text/html": [
       "<div>\n",
       "<style scoped>\n",
       "    .dataframe tbody tr th:only-of-type {\n",
       "        vertical-align: middle;\n",
       "    }\n",
       "\n",
       "    .dataframe tbody tr th {\n",
       "        vertical-align: top;\n",
       "    }\n",
       "\n",
       "    .dataframe thead th {\n",
       "        text-align: right;\n",
       "    }\n",
       "</style>\n",
       "<table border=\"1\" class=\"dataframe\">\n",
       "  <thead>\n",
       "    <tr style=\"text-align: right;\">\n",
       "      <th></th>\n",
       "      <th>ratio</th>\n",
       "      <th>éxito</th>\n",
       "    </tr>\n",
       "    <tr>\n",
       "      <th>grupo</th>\n",
       "      <th></th>\n",
       "      <th></th>\n",
       "    </tr>\n",
       "  </thead>\n",
       "  <tbody>\n",
       "    <tr>\n",
       "      <th>ESO3D</th>\n",
       "      <td>10</td>\n",
       "      <td>10.0</td>\n",
       "    </tr>\n",
       "  </tbody>\n",
       "</table>\n",
       "</div>"
      ],
      "text/plain": [
       "       ratio  éxito\n",
       "grupo              \n",
       "ESO3D     10   10.0"
      ]
     },
     "execution_count": 59,
     "metadata": {},
     "output_type": "execute_result"
    }
   ],
   "source": [
    "dfc[(dfc['ratio'] < 20) & (dfc['éxito'] < 20)][['ratio', 'éxito']]"
   ]
  },
  {
   "cell_type": "markdown",
   "metadata": {},
   "source": [
    "### Alta ratio y alto éxito"
   ]
  },
  {
   "cell_type": "code",
   "execution_count": 60,
   "metadata": {
    "scrolled": false
   },
   "outputs": [
    {
     "data": {
      "text/html": [
       "<div>\n",
       "<style scoped>\n",
       "    .dataframe tbody tr th:only-of-type {\n",
       "        vertical-align: middle;\n",
       "    }\n",
       "\n",
       "    .dataframe tbody tr th {\n",
       "        vertical-align: top;\n",
       "    }\n",
       "\n",
       "    .dataframe thead th {\n",
       "        text-align: right;\n",
       "    }\n",
       "</style>\n",
       "<table border=\"1\" class=\"dataframe\">\n",
       "  <thead>\n",
       "    <tr style=\"text-align: right;\">\n",
       "      <th></th>\n",
       "      <th>ratio</th>\n",
       "      <th>éxito</th>\n",
       "    </tr>\n",
       "    <tr>\n",
       "      <th>grupo</th>\n",
       "      <th></th>\n",
       "      <th></th>\n",
       "    </tr>\n",
       "  </thead>\n",
       "  <tbody>\n",
       "    <tr>\n",
       "      <th>ESO2A</th>\n",
       "      <td>28</td>\n",
       "      <td>53.6</td>\n",
       "    </tr>\n",
       "    <tr>\n",
       "      <th>1ALO</th>\n",
       "      <td>29</td>\n",
       "      <td>72.4</td>\n",
       "    </tr>\n",
       "    <tr>\n",
       "      <th>2GIT</th>\n",
       "      <td>28</td>\n",
       "      <td>82.1</td>\n",
       "    </tr>\n",
       "  </tbody>\n",
       "</table>\n",
       "</div>"
      ],
      "text/plain": [
       "       ratio  éxito\n",
       "grupo              \n",
       "ESO2A     28   53.6\n",
       "1ALO      29   72.4\n",
       "2GIT      28   82.1"
      ]
     },
     "execution_count": 60,
     "metadata": {},
     "output_type": "execute_result"
    }
   ],
   "source": [
    "dfc[(dfc['ratio'] > 25) & (dfc['éxito'] > 50)][['ratio', 'éxito']]"
   ]
  },
  {
   "cell_type": "markdown",
   "metadata": {},
   "source": [
    "# RELACIÓN `absentismo-éxito`"
   ]
  },
  {
   "cell_type": "code",
   "execution_count": 73,
   "metadata": {},
   "outputs": [
    {
     "data": {
      "application/vnd.plotly.v1+json": {
       "config": {
        "linkText": "Export to plot.ly",
        "plotlyServerURL": "https://plot.ly",
        "responsive": true,
        "showLink": false
       },
       "data": [
        {
         "marker": {
          "size": 12
         },
         "mode": "markers",
         "name": "",
         "showlegend": false,
         "text": [
          "ESO1A",
          "ESO1B",
          "ESO1C",
          "ESO2A",
          "ESO2B",
          "ESO2C",
          "ESO2D",
          "ESO3A",
          "ESO3B",
          "ESO3C",
          "ESO3D",
          "ESO4A",
          "ESO4B",
          "1FPB",
          "2FPB",
          "1CIE",
          "1SOC",
          "2CIE",
          "2SOC",
          "1TEL",
          "1ELE",
          "1CAR",
          "2TEL",
          "2ELE",
          "2CAR",
          "1ARI",
          "1ALO",
          "1GIT",
          "1ASR",
          "1DAW",
          "2ARI",
          "2ALO",
          "2GIT",
          "2ASR",
          "2DAW"
         ],
         "type": "scatter",
         "uid": "6cf897ec-449a-4601-9dac-0df50b92b7cf",
         "x": [
          5.99,
          6.68,
          7.78,
          6.52,
          9.01,
          9.23,
          4.23,
          6.66,
          6.390000000000001,
          6.550000000000001,
          14.06,
          7.41,
          11.17,
          39.57,
          12.8,
          5.77,
          6.66,
          7.25,
          6.3,
          24.099999999999998,
          18.740000000000002,
          20.130000000000003,
          9.3,
          10.17,
          10.549999999999999,
          8.780000000000001,
          10.17,
          16.12,
          14.45,
          17.36,
          5.42,
          4.92,
          14.18,
          6.630000000000001,
          11.17
         ],
         "y": [
          15,
          47.4,
          12,
          53.6,
          43.3,
          41.4,
          30,
          42.9,
          34.8,
          20.8,
          10,
          44,
          10.7,
          15,
          100,
          33.3,
          25.9,
          26.3,
          37.9,
          33.3,
          36.8,
          27.8,
          100,
          87.5,
          88.9,
          41.2,
          72.4,
          46.2,
          35.5,
          33.3,
          100,
          100,
          82.1,
          94.1,
          86.7
         ]
        },
        {
         "hoverinfo": "skip",
         "mode": "lines",
         "name": "Regresión",
         "type": "scatter",
         "uid": "979bffa8-1160-477f-b4c3-fbdcedc77095",
         "x": [
          5.99,
          6.68,
          7.78,
          6.52,
          9.01,
          9.23,
          4.23,
          6.66,
          6.390000000000001,
          6.550000000000001,
          14.06,
          7.41,
          11.17,
          39.57,
          12.8,
          5.77,
          6.66,
          7.25,
          6.3,
          24.099999999999998,
          18.740000000000002,
          20.130000000000003,
          9.3,
          10.17,
          10.549999999999999,
          8.780000000000001,
          10.17,
          16.12,
          14.45,
          17.36,
          5.42,
          4.92,
          14.18,
          6.630000000000001,
          11.17
         ],
         "y": [
          53.434659644003325,
          52.79446708212883,
          51.77387024435791,
          52.942917531259155,
          50.63265741666861,
          50.42853804911442,
          55.067614584436804,
          52.813023388270125,
          53.06353352117753,
          52.91508307204722,
          45.947190115993,
          52.11716190797177,
          48.628576353409336,
          22.27862163277821,
          47.11623740289424,
          53.63877901155751,
          52.813023388270125,
          52.265612357102086,
          53.14703689881334,
          36.63192443306566,
          41.60501447893125,
          40.31535120211163,
          50.36359097761991,
          49.556391660473814,
          49.203821843789314,
          50.84605493729343,
          49.556391660473814,
          44.03589058344018,
          45.585342146237856,
          42.88539960268023,
          53.96351436903008,
          54.42742202256231,
          45.835852279145264,
          52.840857847482056,
          48.628576353409336
         ]
        }
       ],
       "layout": {
        "height": 600,
        "hovermode": "closest",
        "width": 600,
        "xaxis": {
         "title": {
          "text": "Absentismo"
         }
        },
        "yaxis": {
         "title": {
          "text": "Éxito"
         }
        }
       }
      },
      "text/html": [
       "<div>\n",
       "        \n",
       "        \n",
       "            <div id=\"d8abd5b0-f473-4dde-9eb5-3687dc8d72e6\" class=\"plotly-graph-div\" style=\"height:600px; width:600px;\"></div>\n",
       "            <script type=\"text/javascript\">\n",
       "                require([\"plotly\"], function(Plotly) {\n",
       "                    window.PLOTLYENV=window.PLOTLYENV || {};\n",
       "                    window.PLOTLYENV.BASE_URL='https://plot.ly';\n",
       "                    \n",
       "                if (document.getElementById(\"d8abd5b0-f473-4dde-9eb5-3687dc8d72e6\")) {\n",
       "                    Plotly.newPlot(\n",
       "                        'd8abd5b0-f473-4dde-9eb5-3687dc8d72e6',\n",
       "                        [{\"marker\": {\"size\": 12}, \"mode\": \"markers\", \"name\": \"\", \"showlegend\": false, \"text\": [\"ESO1A\", \"ESO1B\", \"ESO1C\", \"ESO2A\", \"ESO2B\", \"ESO2C\", \"ESO2D\", \"ESO3A\", \"ESO3B\", \"ESO3C\", \"ESO3D\", \"ESO4A\", \"ESO4B\", \"1FPB\", \"2FPB\", \"1CIE\", \"1SOC\", \"2CIE\", \"2SOC\", \"1TEL\", \"1ELE\", \"1CAR\", \"2TEL\", \"2ELE\", \"2CAR\", \"1ARI\", \"1ALO\", \"1GIT\", \"1ASR\", \"1DAW\", \"2ARI\", \"2ALO\", \"2GIT\", \"2ASR\", \"2DAW\"], \"type\": \"scatter\", \"uid\": \"8ea97e5d-f499-44cc-b779-825081a93b82\", \"x\": [5.99, 6.68, 7.78, 6.52, 9.01, 9.23, 4.23, 6.66, 6.390000000000001, 6.550000000000001, 14.06, 7.41, 11.17, 39.57, 12.8, 5.77, 6.66, 7.25, 6.3, 24.099999999999998, 18.740000000000002, 20.130000000000003, 9.3, 10.17, 10.549999999999999, 8.780000000000001, 10.17, 16.12, 14.45, 17.36, 5.42, 4.92, 14.18, 6.630000000000001, 11.17], \"y\": [15.0, 47.4, 12.0, 53.6, 43.3, 41.4, 30.0, 42.9, 34.8, 20.8, 10.0, 44.0, 10.7, 15.0, 100.0, 33.3, 25.9, 26.3, 37.9, 33.3, 36.8, 27.8, 100.0, 87.5, 88.9, 41.2, 72.4, 46.2, 35.5, 33.3, 100.0, 100.0, 82.1, 94.1, 86.7]}, {\"hoverinfo\": \"skip\", \"mode\": \"lines\", \"name\": \"Regresi\\u00f3n\", \"type\": \"scatter\", \"uid\": \"c5eb310f-9ba1-4ddd-9b59-1a7fc54348aa\", \"x\": [5.99, 6.68, 7.78, 6.52, 9.01, 9.23, 4.23, 6.66, 6.390000000000001, 6.550000000000001, 14.06, 7.41, 11.17, 39.57, 12.8, 5.77, 6.66, 7.25, 6.3, 24.099999999999998, 18.740000000000002, 20.130000000000003, 9.3, 10.17, 10.549999999999999, 8.780000000000001, 10.17, 16.12, 14.45, 17.36, 5.42, 4.92, 14.18, 6.630000000000001, 11.17], \"y\": [53.434659644003325, 52.79446708212883, 51.77387024435791, 52.942917531259155, 50.63265741666861, 50.42853804911442, 55.067614584436804, 52.813023388270125, 53.06353352117753, 52.91508307204722, 45.947190115993, 52.11716190797177, 48.628576353409336, 22.27862163277821, 47.11623740289424, 53.63877901155751, 52.813023388270125, 52.265612357102086, 53.14703689881334, 36.63192443306566, 41.60501447893125, 40.31535120211163, 50.36359097761991, 49.556391660473814, 49.203821843789314, 50.84605493729343, 49.556391660473814, 44.03589058344018, 45.585342146237856, 42.88539960268023, 53.96351436903008, 54.42742202256231, 45.835852279145264, 52.840857847482056, 48.628576353409336]}],\n",
       "                        {\"height\": 600, \"hovermode\": \"closest\", \"width\": 600, \"xaxis\": {\"title\": {\"text\": \"Absentismo\"}}, \"yaxis\": {\"title\": {\"text\": \"\\u00c9xito\"}}},\n",
       "                        {\"showLink\": false, \"linkText\": \"Export to plot.ly\", \"plotlyServerURL\": \"https://plot.ly\", \"responsive\": true}\n",
       "                    ).then(function(){\n",
       "                            \n",
       "var gd = document.getElementById('d8abd5b0-f473-4dde-9eb5-3687dc8d72e6');\n",
       "var x = new MutationObserver(function (mutations, observer) {{\n",
       "        var display = window.getComputedStyle(gd).display;\n",
       "        if (!display || display === 'none') {{\n",
       "            console.log([gd, 'removed!']);\n",
       "            Plotly.purge(gd);\n",
       "            observer.disconnect();\n",
       "        }}\n",
       "}});\n",
       "\n",
       "// Listen for the removal of the full notebook cells\n",
       "var notebookContainer = gd.closest('#notebook-container');\n",
       "if (notebookContainer) {{\n",
       "    x.observe(notebookContainer, {childList: true});\n",
       "}}\n",
       "\n",
       "// Listen for the clearing of the current output cell\n",
       "var outputEl = gd.closest('.output');\n",
       "if (outputEl) {{\n",
       "    x.observe(outputEl, {childList: true});\n",
       "}}\n",
       "\n",
       "                        })\n",
       "                };\n",
       "                });\n",
       "            </script>\n",
       "        </div>"
      ]
     },
     "metadata": {},
     "output_type": "display_data"
    }
   ],
   "source": [
    "myplotly.scatter(dfc['absentismo'], dfc['éxito'], dfc.index,\n",
    "        x_title='Absentismo', y_title='Éxito')"
   ]
  },
  {
   "cell_type": "code",
   "execution_count": 74,
   "metadata": {},
   "outputs": [
    {
     "data": {
      "text/html": [
       "\n",
       "    <div class='alert alert-success' role='alert'>\n",
       "        COEFICIENTE DE CORRELACIÓN: <b>-0.2167</b>\n",
       "    </div>\n"
      ],
      "text/plain": [
       "<IPython.core.display.HTML object>"
      ]
     },
     "metadata": {},
     "output_type": "display_data"
    }
   ],
   "source": [
    "corr = dfc.corrwith(dfc['absentismo'])['éxito']\n",
    "display(HTML(f'''\n",
    "    <div class='alert alert-success' role='alert'>\n",
    "        COEFICIENTE DE CORRELACIÓN: <b>{corr:.4f}</b>\n",
    "    </div>\n",
    "'''))"
   ]
  },
  {
   "cell_type": "markdown",
   "metadata": {},
   "source": [
    "## Detección de *outliers*"
   ]
  },
  {
   "cell_type": "markdown",
   "metadata": {},
   "source": [
    "### Bajo absentismo y bajo éxito"
   ]
  },
  {
   "cell_type": "code",
   "execution_count": 75,
   "metadata": {
    "scrolled": false
   },
   "outputs": [
    {
     "data": {
      "text/html": [
       "<div>\n",
       "<style scoped>\n",
       "    .dataframe tbody tr th:only-of-type {\n",
       "        vertical-align: middle;\n",
       "    }\n",
       "\n",
       "    .dataframe tbody tr th {\n",
       "        vertical-align: top;\n",
       "    }\n",
       "\n",
       "    .dataframe thead th {\n",
       "        text-align: right;\n",
       "    }\n",
       "</style>\n",
       "<table border=\"1\" class=\"dataframe\">\n",
       "  <thead>\n",
       "    <tr style=\"text-align: right;\">\n",
       "      <th></th>\n",
       "      <th>absentismo</th>\n",
       "      <th>éxito</th>\n",
       "    </tr>\n",
       "    <tr>\n",
       "      <th>grupo</th>\n",
       "      <th></th>\n",
       "      <th></th>\n",
       "    </tr>\n",
       "  </thead>\n",
       "  <tbody>\n",
       "    <tr>\n",
       "      <th>ESO1C</th>\n",
       "      <td>7.78</td>\n",
       "      <td>12.0</td>\n",
       "    </tr>\n",
       "  </tbody>\n",
       "</table>\n",
       "</div>"
      ],
      "text/plain": [
       "       absentismo  éxito\n",
       "grupo                   \n",
       "ESO1C        7.78   12.0"
      ]
     },
     "execution_count": 75,
     "metadata": {},
     "output_type": "execute_result"
    }
   ],
   "source": [
    "dfc[(dfc['absentismo'] < 10) & (dfc['éxito'] < 15)][['absentismo', 'éxito']]"
   ]
  },
  {
   "cell_type": "markdown",
   "metadata": {},
   "source": [
    "### Alto absentismo y alto éxito"
   ]
  },
  {
   "cell_type": "code",
   "execution_count": 76,
   "metadata": {
    "scrolled": false
   },
   "outputs": [
    {
     "data": {
      "text/html": [
       "<div>\n",
       "<style scoped>\n",
       "    .dataframe tbody tr th:only-of-type {\n",
       "        vertical-align: middle;\n",
       "    }\n",
       "\n",
       "    .dataframe tbody tr th {\n",
       "        vertical-align: top;\n",
       "    }\n",
       "\n",
       "    .dataframe thead th {\n",
       "        text-align: right;\n",
       "    }\n",
       "</style>\n",
       "<table border=\"1\" class=\"dataframe\">\n",
       "  <thead>\n",
       "    <tr style=\"text-align: right;\">\n",
       "      <th></th>\n",
       "      <th>absentismo</th>\n",
       "      <th>éxito</th>\n",
       "    </tr>\n",
       "    <tr>\n",
       "      <th>grupo</th>\n",
       "      <th></th>\n",
       "      <th></th>\n",
       "    </tr>\n",
       "  </thead>\n",
       "  <tbody>\n",
       "  </tbody>\n",
       "</table>\n",
       "</div>"
      ],
      "text/plain": [
       "Empty DataFrame\n",
       "Columns: [absentismo, éxito]\n",
       "Index: []"
      ]
     },
     "execution_count": 76,
     "metadata": {},
     "output_type": "execute_result"
    }
   ],
   "source": [
    "dfc[(dfc['absentismo'] > 25) & (dfc['éxito'] > 50)][['absentismo', 'éxito']]"
   ]
  },
  {
   "cell_type": "markdown",
   "metadata": {},
   "source": [
    "# RELACIÓN `partes-éxito`"
   ]
  },
  {
   "cell_type": "code",
   "execution_count": 49,
   "metadata": {},
   "outputs": [
    {
     "data": {
      "application/vnd.plotly.v1+json": {
       "config": {
        "linkText": "Export to plot.ly",
        "plotlyServerURL": "https://plot.ly",
        "responsive": true,
        "showLink": false
       },
       "data": [
        {
         "marker": {
          "size": 12
         },
         "mode": "markers",
         "name": "",
         "showlegend": false,
         "text": [
          "ESO1A",
          "ESO1B",
          "ESO1C",
          "ESO2A",
          "ESO2B",
          "ESO2C",
          "ESO2D",
          "ESO3A",
          "ESO3B",
          "ESO3C",
          "ESO3D",
          "ESO4A",
          "ESO4B",
          "1FPB",
          "2FPB",
          "1CIE",
          "1SOC",
          "2CIE",
          "2SOC",
          "1TEL",
          "1ELE",
          "1CAR",
          "2TEL",
          "2ELE",
          "2CAR",
          "1ARI",
          "1ALO",
          "1GIT",
          "1ASR",
          "1DAW",
          "2ARI",
          "2ALO",
          "2GIT",
          "2ASR",
          "2DAW"
         ],
         "type": "scatter",
         "uid": "4d03f1f4-6e8f-4fe3-8e50-785e08315266",
         "x": [
          8,
          0,
          3,
          2,
          0,
          1,
          1,
          0,
          0,
          0,
          0,
          0,
          0,
          7,
          0,
          0,
          0,
          0,
          0,
          0,
          0,
          0,
          0,
          0,
          0,
          0,
          0,
          0,
          0,
          0,
          0,
          0,
          0,
          0,
          0
         ],
         "y": [
          15,
          47.4,
          12,
          53.6,
          43.3,
          41.4,
          30,
          42.9,
          34.8,
          20.8,
          10,
          44,
          10.7,
          15,
          100,
          33.3,
          25.9,
          26.3,
          37.9,
          33.3,
          36.8,
          27.8,
          100,
          87.5,
          88.9,
          41.2,
          72.4,
          46.2,
          35.5,
          33.3,
          100,
          100,
          82.1,
          94.1,
          86.7
         ]
        },
        {
         "hoverinfo": "skip",
         "mode": "lines",
         "name": "Regresión",
         "type": "scatter",
         "uid": "1d212ec3-ea29-435c-86b6-47a0b71011be",
         "x": [
          8,
          0,
          3,
          2,
          0,
          1,
          1,
          0,
          0,
          0,
          0,
          0,
          0,
          7,
          0,
          0,
          0,
          0,
          0,
          0,
          0,
          0,
          0,
          0,
          0,
          0,
          0,
          0,
          0,
          0,
          0,
          0,
          0,
          0,
          0
         ],
         "y": [
          7.840840840840826,
          52.35775775775775,
          35.6639139139139,
          41.22852852852852,
          52.35775775775775,
          46.79314314314314,
          46.79314314314314,
          52.35775775775775,
          52.35775775775775,
          52.35775775775775,
          52.35775775775775,
          52.35775775775775,
          52.35775775775775,
          13.405455455455439,
          52.35775775775775,
          52.35775775775775,
          52.35775775775775,
          52.35775775775775,
          52.35775775775775,
          52.35775775775775,
          52.35775775775775,
          52.35775775775775,
          52.35775775775775,
          52.35775775775775,
          52.35775775775775,
          52.35775775775775,
          52.35775775775775,
          52.35775775775775,
          52.35775775775775,
          52.35775775775775,
          52.35775775775775,
          52.35775775775775,
          52.35775775775775,
          52.35775775775775,
          52.35775775775775
         ]
        }
       ],
       "layout": {
        "height": 600,
        "hovermode": "closest",
        "width": 600,
        "xaxis": {
         "title": {
          "text": "Partes de gestión"
         }
        },
        "yaxis": {
         "title": {
          "text": "Éxito"
         }
        }
       }
      },
      "text/html": [
       "<div>\n",
       "        \n",
       "        \n",
       "            <div id=\"27cf57b1-0c80-4acf-b239-fd2e95de8122\" class=\"plotly-graph-div\" style=\"height:600px; width:600px;\"></div>\n",
       "            <script type=\"text/javascript\">\n",
       "                require([\"plotly\"], function(Plotly) {\n",
       "                    window.PLOTLYENV=window.PLOTLYENV || {};\n",
       "                    window.PLOTLYENV.BASE_URL='https://plot.ly';\n",
       "                    \n",
       "                if (document.getElementById(\"27cf57b1-0c80-4acf-b239-fd2e95de8122\")) {\n",
       "                    Plotly.newPlot(\n",
       "                        '27cf57b1-0c80-4acf-b239-fd2e95de8122',\n",
       "                        [{\"marker\": {\"size\": 12}, \"mode\": \"markers\", \"name\": \"\", \"showlegend\": false, \"text\": [\"ESO1A\", \"ESO1B\", \"ESO1C\", \"ESO2A\", \"ESO2B\", \"ESO2C\", \"ESO2D\", \"ESO3A\", \"ESO3B\", \"ESO3C\", \"ESO3D\", \"ESO4A\", \"ESO4B\", \"1FPB\", \"2FPB\", \"1CIE\", \"1SOC\", \"2CIE\", \"2SOC\", \"1TEL\", \"1ELE\", \"1CAR\", \"2TEL\", \"2ELE\", \"2CAR\", \"1ARI\", \"1ALO\", \"1GIT\", \"1ASR\", \"1DAW\", \"2ARI\", \"2ALO\", \"2GIT\", \"2ASR\", \"2DAW\"], \"type\": \"scatter\", \"uid\": \"47764d96-4708-4fd4-ad12-055cddf59602\", \"x\": [8.0, 0.0, 3.0, 2.0, 0.0, 1.0, 1.0, 0.0, 0.0, 0.0, 0.0, 0.0, 0.0, 7.0, 0.0, 0.0, 0.0, 0.0, 0.0, 0.0, 0.0, 0.0, 0.0, 0.0, 0.0, 0.0, 0.0, 0.0, 0.0, 0.0, 0.0, 0.0, 0.0, 0.0, 0.0], \"y\": [15.0, 47.4, 12.0, 53.6, 43.3, 41.4, 30.0, 42.9, 34.8, 20.8, 10.0, 44.0, 10.7, 15.0, 100.0, 33.3, 25.9, 26.3, 37.9, 33.3, 36.8, 27.8, 100.0, 87.5, 88.9, 41.2, 72.4, 46.2, 35.5, 33.3, 100.0, 100.0, 82.1, 94.1, 86.7]}, {\"hoverinfo\": \"skip\", \"mode\": \"lines\", \"name\": \"Regresi\\u00f3n\", \"type\": \"scatter\", \"uid\": \"6187a8fb-5411-47b9-88aa-4015b6f30f77\", \"x\": [8.0, 0.0, 3.0, 2.0, 0.0, 1.0, 1.0, 0.0, 0.0, 0.0, 0.0, 0.0, 0.0, 7.0, 0.0, 0.0, 0.0, 0.0, 0.0, 0.0, 0.0, 0.0, 0.0, 0.0, 0.0, 0.0, 0.0, 0.0, 0.0, 0.0, 0.0, 0.0, 0.0, 0.0, 0.0], \"y\": [7.840840840840826, 52.35775775775775, 35.6639139139139, 41.22852852852852, 52.35775775775775, 46.79314314314314, 46.79314314314314, 52.35775775775775, 52.35775775775775, 52.35775775775775, 52.35775775775775, 52.35775775775775, 52.35775775775775, 13.405455455455439, 52.35775775775775, 52.35775775775775, 52.35775775775775, 52.35775775775775, 52.35775775775775, 52.35775775775775, 52.35775775775775, 52.35775775775775, 52.35775775775775, 52.35775775775775, 52.35775775775775, 52.35775775775775, 52.35775775775775, 52.35775775775775, 52.35775775775775, 52.35775775775775, 52.35775775775775, 52.35775775775775, 52.35775775775775, 52.35775775775775, 52.35775775775775]}],\n",
       "                        {\"height\": 600, \"hovermode\": \"closest\", \"width\": 600, \"xaxis\": {\"title\": {\"text\": \"Partes de gesti\\u00f3n\"}}, \"yaxis\": {\"title\": {\"text\": \"\\u00c9xito\"}}},\n",
       "                        {\"showLink\": false, \"linkText\": \"Export to plot.ly\", \"plotlyServerURL\": \"https://plot.ly\", \"responsive\": true}\n",
       "                    ).then(function(){\n",
       "                            \n",
       "var gd = document.getElementById('27cf57b1-0c80-4acf-b239-fd2e95de8122');\n",
       "var x = new MutationObserver(function (mutations, observer) {{\n",
       "        var display = window.getComputedStyle(gd).display;\n",
       "        if (!display || display === 'none') {{\n",
       "            console.log([gd, 'removed!']);\n",
       "            Plotly.purge(gd);\n",
       "            observer.disconnect();\n",
       "        }}\n",
       "}});\n",
       "\n",
       "// Listen for the removal of the full notebook cells\n",
       "var notebookContainer = gd.closest('#notebook-container');\n",
       "if (notebookContainer) {{\n",
       "    x.observe(notebookContainer, {childList: true});\n",
       "}}\n",
       "\n",
       "// Listen for the clearing of the current output cell\n",
       "var outputEl = gd.closest('.output');\n",
       "if (outputEl) {{\n",
       "    x.observe(outputEl, {childList: true});\n",
       "}}\n",
       "\n",
       "                        })\n",
       "                };\n",
       "                });\n",
       "            </script>\n",
       "        </div>"
      ]
     },
     "metadata": {},
     "output_type": "display_data"
    }
   ],
   "source": [
    "myplotly.scatter(dfc['partes'], dfc['éxito'], dfc.index,\n",
    "        x_title='Partes de gestión', y_title='Éxito')"
   ]
  },
  {
   "cell_type": "code",
   "execution_count": 78,
   "metadata": {},
   "outputs": [
    {
     "data": {
      "text/html": [
       "\n",
       "    <div class='alert alert-success' role='alert'>\n",
       "        COEFICIENTE DE CORRELACIÓN: <b>-0.3459</b>\n",
       "    </div>\n"
      ],
      "text/plain": [
       "<IPython.core.display.HTML object>"
      ]
     },
     "metadata": {},
     "output_type": "display_data"
    }
   ],
   "source": [
    "corr = dfc.corrwith(dfc['partes'])['éxito']\n",
    "display(HTML(f'''\n",
    "    <div class='alert alert-success' role='alert'>\n",
    "        COEFICIENTE DE CORRELACIÓN: <b>{corr:.4f}</b>\n",
    "    </div>\n",
    "'''))"
   ]
  },
  {
   "cell_type": "markdown",
   "metadata": {},
   "source": [
    "## Detección de *outliers*"
   ]
  },
  {
   "cell_type": "markdown",
   "metadata": {},
   "source": [
    "### Bajo número de partes y bajo éxito"
   ]
  },
  {
   "cell_type": "code",
   "execution_count": 79,
   "metadata": {
    "scrolled": false
   },
   "outputs": [
    {
     "data": {
      "text/html": [
       "<div>\n",
       "<style scoped>\n",
       "    .dataframe tbody tr th:only-of-type {\n",
       "        vertical-align: middle;\n",
       "    }\n",
       "\n",
       "    .dataframe tbody tr th {\n",
       "        vertical-align: top;\n",
       "    }\n",
       "\n",
       "    .dataframe thead th {\n",
       "        text-align: right;\n",
       "    }\n",
       "</style>\n",
       "<table border=\"1\" class=\"dataframe\">\n",
       "  <thead>\n",
       "    <tr style=\"text-align: right;\">\n",
       "      <th></th>\n",
       "      <th>partes</th>\n",
       "      <th>éxito</th>\n",
       "    </tr>\n",
       "    <tr>\n",
       "      <th>grupo</th>\n",
       "      <th></th>\n",
       "      <th></th>\n",
       "    </tr>\n",
       "  </thead>\n",
       "  <tbody>\n",
       "  </tbody>\n",
       "</table>\n",
       "</div>"
      ],
      "text/plain": [
       "Empty DataFrame\n",
       "Columns: [partes, éxito]\n",
       "Index: []"
      ]
     },
     "execution_count": 79,
     "metadata": {},
     "output_type": "execute_result"
    }
   ],
   "source": [
    "dfc[(dfc['partes'] < 10) & (dfc['éxito'] < 10)][['partes', 'éxito']]"
   ]
  },
  {
   "cell_type": "markdown",
   "metadata": {},
   "source": [
    "### Alto número de partes y alto éxito"
   ]
  },
  {
   "cell_type": "code",
   "execution_count": 80,
   "metadata": {
    "scrolled": false
   },
   "outputs": [
    {
     "data": {
      "text/html": [
       "<div>\n",
       "<style scoped>\n",
       "    .dataframe tbody tr th:only-of-type {\n",
       "        vertical-align: middle;\n",
       "    }\n",
       "\n",
       "    .dataframe tbody tr th {\n",
       "        vertical-align: top;\n",
       "    }\n",
       "\n",
       "    .dataframe thead th {\n",
       "        text-align: right;\n",
       "    }\n",
       "</style>\n",
       "<table border=\"1\" class=\"dataframe\">\n",
       "  <thead>\n",
       "    <tr style=\"text-align: right;\">\n",
       "      <th></th>\n",
       "      <th>partes</th>\n",
       "      <th>éxito</th>\n",
       "    </tr>\n",
       "    <tr>\n",
       "      <th>grupo</th>\n",
       "      <th></th>\n",
       "      <th></th>\n",
       "    </tr>\n",
       "  </thead>\n",
       "  <tbody>\n",
       "  </tbody>\n",
       "</table>\n",
       "</div>"
      ],
      "text/plain": [
       "Empty DataFrame\n",
       "Columns: [partes, éxito]\n",
       "Index: []"
      ]
     },
     "execution_count": 80,
     "metadata": {},
     "output_type": "execute_result"
    }
   ],
   "source": [
    "dfc[(dfc['partes'] > 15) & (dfc['éxito'] > 30)][['partes', 'éxito']]"
   ]
  },
  {
   "cell_type": "markdown",
   "metadata": {},
   "source": [
    "# GRUPOS MÁGICOS"
   ]
  },
  {
   "cell_type": "markdown",
   "metadata": {},
   "source": [
    "> Son aquellos que tienen mejores valores de éxito escolar, menor absentismo y menos partes de gestión."
   ]
  },
  {
   "cell_type": "markdown",
   "metadata": {},
   "source": [
    "\\begin{equation}\n",
    "magic = 0.6 · success + 0.2 · e^{-absence} + 0.2 · e^{-reports}\n",
    "\\end{equation}"
   ]
  },
  {
   "cell_type": "code",
   "execution_count": 81,
   "metadata": {
    "scrolled": true
   },
   "outputs": [
    {
     "data": {
      "image/png": "[encoded data removed]",
      "text/plain": [
       "<Figure size 1500x500 with 2 Axes>"
      ]
     },
     "metadata": {
      "needs_background": "light"
     },
     "output_type": "display_data"
    }
   ],
   "source": [
    "df2 = dfc.copy()\n",
    "df2['magic'] = 0.6 * df2['éxito'] + 0.2 * \\\n",
    "    np.exp(-df2['absentismo']) + 0.2 * np.exp(-df2['partes'])\n",
    "magic = df2.sort_values('magic', ascending=False)\n",
    "\n",
    "charts.magic_groups(magic)"
   ]
  },
  {
   "cell_type": "markdown",
   "metadata": {},
   "source": [
    "# PRUEBAS DE CERTIFICACIÓN PARA POBLACIÓN ESCOLAR"
   ]
  },
  {
   "cell_type": "code",
   "execution_count": 82,
   "metadata": {},
   "outputs": [
    {
     "data": {
      "text/html": [
       "<div>\n",
       "<style scoped>\n",
       "    .dataframe tbody tr th:only-of-type {\n",
       "        vertical-align: middle;\n",
       "    }\n",
       "\n",
       "    .dataframe tbody tr th {\n",
       "        vertical-align: top;\n",
       "    }\n",
       "\n",
       "    .dataframe thead th {\n",
       "        text-align: right;\n",
       "    }\n",
       "</style>\n",
       "<table border=\"1\" class=\"dataframe\">\n",
       "  <thead>\n",
       "    <tr style=\"text-align: right;\">\n",
       "      <th></th>\n",
       "      <th>grupo</th>\n",
       "      <th>NO CERTIFICA</th>\n",
       "      <th>CERTIFICA</th>\n",
       "    </tr>\n",
       "  </thead>\n",
       "  <tbody>\n",
       "    <tr>\n",
       "      <th>0</th>\n",
       "      <td>ING-B1</td>\n",
       "      <td>16</td>\n",
       "      <td>18</td>\n",
       "    </tr>\n",
       "    <tr>\n",
       "      <th>1</th>\n",
       "      <td>ING-B2</td>\n",
       "      <td>11</td>\n",
       "      <td>16</td>\n",
       "    </tr>\n",
       "  </tbody>\n",
       "</table>\n",
       "</div>"
      ],
      "text/plain": [
       "    grupo  NO CERTIFICA  CERTIFICA\n",
       "0  ING-B1            16         18\n",
       "1  ING-B2            11         16"
      ]
     },
     "execution_count": 82,
     "metadata": {},
     "output_type": "execute_result"
    }
   ],
   "source": [
    "path = f'../data/pcei/{labels[-1][0]}_PCEI.csv'\n",
    "df_pcei = pd.read_csv(path, encoding='cp1252', sep=';', nrows=2, usecols=range(5, 8), engine='python')\n",
    "\n",
    "df_pcei.rename(columns={'GRUPO': 'grupo', 'NEGATIVAS': 'NO CERTIFICA', 'POSITIVAS': 'CERTIFICA'}, inplace=True)\n",
    "df_pcei"
   ]
  },
  {
   "cell_type": "code",
   "execution_count": 91,
   "metadata": {},
   "outputs": [
    {
     "data": {
      "application/vnd.plotly.v1+json": {
       "config": {
        "linkText": "Export to plot.ly",
        "plotlyServerURL": "https://plot.ly",
        "responsive": true,
        "showLink": false
       },
       "data": [
        {
         "name": "NO CERTIFICA",
         "type": "bar",
         "uid": "27605cf5-f27a-4429-9a69-b43b37e82f89",
         "x": [
          "ING-B1",
          "ING-B2"
         ],
         "y": [
          16,
          11
         ]
        },
        {
         "name": "CERTIFICA",
         "type": "bar",
         "uid": "e274c2b1-58da-43dc-a6d4-1af0deefc08c",
         "x": [
          "ING-B1",
          "ING-B2"
         ],
         "y": [
          18,
          16
         ]
        }
       ],
       "layout": {
        "barmode": "group"
       }
      },
      "text/html": [
       "<div>\n",
       "        \n",
       "        \n",
       "            <div id=\"014a77e2-1980-4fd1-a0d2-9b7b4bf98d24\" class=\"plotly-graph-div\" style=\"height:525px; width:100%;\"></div>\n",
       "            <script type=\"text/javascript\">\n",
       "                require([\"plotly\"], function(Plotly) {\n",
       "                    window.PLOTLYENV=window.PLOTLYENV || {};\n",
       "                    window.PLOTLYENV.BASE_URL='https://plot.ly';\n",
       "                    \n",
       "                if (document.getElementById(\"014a77e2-1980-4fd1-a0d2-9b7b4bf98d24\")) {\n",
       "                    Plotly.newPlot(\n",
       "                        '014a77e2-1980-4fd1-a0d2-9b7b4bf98d24',\n",
       "                        [{\"name\": \"NO CERTIFICA\", \"type\": \"bar\", \"uid\": \"cf588ea5-b55a-4f0b-adb8-cf4e0974e716\", \"x\": [\"ING-B1\", \"ING-B2\"], \"y\": [16, 11]}, {\"name\": \"CERTIFICA\", \"type\": \"bar\", \"uid\": \"5180b185-b70c-4f12-9245-2e724fb1a9d3\", \"x\": [\"ING-B1\", \"ING-B2\"], \"y\": [18, 16]}],\n",
       "                        {\"barmode\": \"group\"},\n",
       "                        {\"showLink\": false, \"linkText\": \"Export to plot.ly\", \"plotlyServerURL\": \"https://plot.ly\", \"responsive\": true}\n",
       "                    ).then(function(){\n",
       "                            \n",
       "var gd = document.getElementById('014a77e2-1980-4fd1-a0d2-9b7b4bf98d24');\n",
       "var x = new MutationObserver(function (mutations, observer) {{\n",
       "        var display = window.getComputedStyle(gd).display;\n",
       "        if (!display || display === 'none') {{\n",
       "            console.log([gd, 'removed!']);\n",
       "            Plotly.purge(gd);\n",
       "            observer.disconnect();\n",
       "        }}\n",
       "}});\n",
       "\n",
       "// Listen for the removal of the full notebook cells\n",
       "var notebookContainer = gd.closest('#notebook-container');\n",
       "if (notebookContainer) {{\n",
       "    x.observe(notebookContainer, {childList: true});\n",
       "}}\n",
       "\n",
       "// Listen for the clearing of the current output cell\n",
       "var outputEl = gd.closest('.output');\n",
       "if (outputEl) {{\n",
       "    x.observe(outputEl, {childList: true});\n",
       "}}\n",
       "\n",
       "                        })\n",
       "                };\n",
       "                });\n",
       "            </script>\n",
       "        </div>"
      ]
     },
     "metadata": {},
     "output_type": "display_data"
    }
   ],
   "source": [
    "x_labels = df_pcei['grupo']\n",
    "series = df_pcei.drop('grupo', axis=1).to_dict(orient='list')\n",
    "\n",
    "myplotly.cbar(x_labels, series, is_percentage=False)"
   ]
  }
 ],
 "metadata": {
  "kernelspec": {
   "display_name": "Python 3",
   "language": "python",
   "name": "python3"
  },
  "language_info": {
   "codemirror_mode": {
    "name": "ipython",
    "version": 3
   },
   "file_extension": ".py",
   "mimetype": "text/x-python",
   "name": "python",
   "nbconvert_exporter": "python",
   "pygments_lexer": "ipython3",
   "version": "3.7.0"
  }
 },
 "nbformat": 4,
 "nbformat_minor": 2
}
