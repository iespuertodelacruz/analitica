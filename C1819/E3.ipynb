{
 "cells": [
  {
   "cell_type": "code",
   "execution_count": 1,
   "metadata": {
    "scrolled": false
   },
   "outputs": [],
   "source": [
    "YEAR, EVALUATION = 2018, 3"
   ]
  },
  {
   "cell_type": "code",
   "execution_count": 2,
   "metadata": {
    "scrolled": false
   },
   "outputs": [
    {
     "data": {
      "text/html": [
       "<h1>ANÁLISIS DE LA 3ª EVALUACIÓN</h1>"
      ],
      "text/plain": [
       "<IPython.core.display.HTML object>"
      ]
     },
     "metadata": {},
     "output_type": "display_data"
    },
    {
     "data": {
      "text/html": [
       "<h2>IES Puerto de la Cruz - Telesforo Bravo | Curso 2018-2019</h2>"
      ],
      "text/plain": [
       "<IPython.core.display.HTML object>"
      ]
     },
     "metadata": {},
     "output_type": "display_data"
    }
   ],
   "source": [
    "from IPython.core.display import display, HTML\n",
    "display(HTML(f'<h1>ANÁLISIS DE LA {EVALUATION}ª EVALUACIÓN</h1>'))\n",
    "display(HTML(f'<h2>IES Puerto de la Cruz - Telesforo Bravo | Curso {YEAR}-{YEAR + 1}</h2>'))"
   ]
  },
  {
   "cell_type": "code",
   "execution_count": 3,
   "metadata": {
    "scrolled": false
   },
   "outputs": [
    {
     "data": {
      "text/html": [
       "        <script type=\"text/javascript\">\n",
       "        window.PlotlyConfig = {MathJaxConfig: 'local'};\n",
       "        if (window.MathJax) {MathJax.Hub.Config({SVG: {font: \"STIX-Web\"}});}\n",
       "        if (typeof require !== 'undefined') {\n",
       "        require.undef(\"plotly\");\n",
       "        requirejs.config({\n",
       "            paths: {\n",
       "                'plotly': ['https://cdn.plot.ly/plotly-latest.min']\n",
       "            }\n",
       "        });\n",
       "        require(['plotly'], function(Plotly) {\n",
       "            window._Plotly = Plotly;\n",
       "        });\n",
       "        }\n",
       "        </script>\n",
       "        "
      ]
     },
     "metadata": {},
     "output_type": "display_data"
    },
    {
     "data": {
      "text/html": [
       "        <script type=\"text/javascript\">\n",
       "        window.PlotlyConfig = {MathJaxConfig: 'local'};\n",
       "        if (window.MathJax) {MathJax.Hub.Config({SVG: {font: \"STIX-Web\"}});}\n",
       "        if (typeof require !== 'undefined') {\n",
       "        require.undef(\"plotly\");\n",
       "        requirejs.config({\n",
       "            paths: {\n",
       "                'plotly': ['https://cdn.plot.ly/plotly-latest.min']\n",
       "            }\n",
       "        });\n",
       "        require(['plotly'], function(Plotly) {\n",
       "            window._Plotly = Plotly;\n",
       "        });\n",
       "        }\n",
       "        </script>\n",
       "        "
      ]
     },
     "metadata": {},
     "output_type": "display_data"
    }
   ],
   "source": [
    "import os\n",
    "import sys\n",
    "import re\n",
    "\n",
    "import pandas as pd\n",
    "import numpy as np\n",
    "from scipy import stats\n",
    "import seaborn as sns\n",
    "from matplotlib import pyplot as plt\n",
    "from plotly.offline import init_notebook_mode, iplot\n",
    "import plotly.graph_objs as go\n",
    "import colorlover as cl\n",
    "from IPython.core.display import display, HTML\n",
    "\n",
    "sys.path.append('..')\n",
    "from services import loaders, charts, myplotly, utils\n",
    "\n",
    "init_notebook_mode(connected=True)"
   ]
  },
  {
   "cell_type": "markdown",
   "metadata": {},
   "source": [
    "Estilo propio para los dataframes:"
   ]
  },
  {
   "cell_type": "code",
   "execution_count": 4,
   "metadata": {},
   "outputs": [
    {
     "data": {
      "text/html": [
       "<style>/* title of columns */\n",
       "table.dataframe thead th {\n",
       "    font-size: 1.2em !important;\n",
       "    padding-top: 0.2em !important;\n",
       "    padding-bottom: 0.2em !important;\n",
       "}\n",
       "\n",
       "/* title of rows */\n",
       "table.dataframe tbody th {\n",
       "    font-size: 1.2em !important;\n",
       "    background: rgba(199, 199, 199, 0.356) !important;\n",
       "    border: 1px solid black !important;\n",
       "}\n",
       "\n",
       "/* style for each cell */\n",
       "table.dataframe td {\n",
       "    font-size: 1.15em !important;\n",
       "    border: 1px solid black !important;\n",
       "}\n",
       "\n",
       "/* disable zebra-style */\n",
       "table.dataframe tbody tr {\n",
       "    background: white !important;\n",
       "}\n",
       "\n",
       "/* row color on hover */\n",
       "table.dataframe tbody tr:hover {\n",
       "    background: rgba(43, 137, 226, 0.144) !important;\n",
       "}\n",
       "\n",
       "/* Settings for slides */\n",
       "\n",
       ".present table.dataframe thead th {\n",
       "    font-size: 1.5em !important;\n",
       "}\n",
       "\n",
       ".present table.dataframe tbody th {\n",
       "    font-size: 1.5em !important;\n",
       "}\n",
       "\n",
       ".present table.dataframe td {\n",
       "    font-size: 1.3em !important;\n",
       "}\n",
       "\n",
       ".present table.dataframe thead th {\n",
       "    border-bottom: none !important;\n",
       "    padding-top: 0.1em !important;\n",
       "    padding-bottom: 0.1em !important;\n",
       "}\n",
       "</style>"
      ],
      "text/plain": [
       "<IPython.core.display.HTML object>"
      ]
     },
     "execution_count": 4,
     "metadata": {},
     "output_type": "execute_result"
    }
   ],
   "source": [
    "with open('../custom.css') as f:\n",
    "    css_rules = ''.join(f.readlines())\n",
    "HTML('<style>' + css_rules + '</style>')"
   ]
  },
  {
   "cell_type": "markdown",
   "metadata": {},
   "source": [
    "Deshabilitar el *auto-scrolling* en todo el notebook:"
   ]
  },
  {
   "cell_type": "code",
   "execution_count": 5,
   "metadata": {},
   "outputs": [
    {
     "data": {
      "application/javascript": [
       "IPython.OutputArea.prototype._should_scroll = function(lines) {\n",
       "    return false;\n",
       "}\n"
      ],
      "text/plain": [
       "<IPython.core.display.Javascript object>"
      ]
     },
     "metadata": {},
     "output_type": "display_data"
    }
   ],
   "source": [
    "%%javascript\n",
    "IPython.OutputArea.prototype._should_scroll = function(lines) {\n",
    "    return false;\n",
    "}"
   ]
  },
  {
   "cell_type": "markdown",
   "metadata": {},
   "source": [
    "## CARGA DE DATOS"
   ]
  },
  {
   "cell_type": "code",
   "execution_count": 6,
   "metadata": {},
   "outputs": [],
   "source": [
    "df, df_bc, labels = loaders.load_data(YEAR, EVALUATION)"
   ]
  },
  {
   "cell_type": "code",
   "execution_count": 7,
   "metadata": {},
   "outputs": [
    {
     "data": {
      "text/html": [
       "<div>\n",
       "<style scoped>\n",
       "    .dataframe tbody tr th:only-of-type {\n",
       "        vertical-align: middle;\n",
       "    }\n",
       "\n",
       "    .dataframe tbody tr th {\n",
       "        vertical-align: top;\n",
       "    }\n",
       "\n",
       "    .dataframe thead th {\n",
       "        text-align: right;\n",
       "    }\n",
       "</style>\n",
       "<table border=\"1\" class=\"dataframe\">\n",
       "  <thead>\n",
       "    <tr style=\"text-align: right;\">\n",
       "      <th></th>\n",
       "      <th></th>\n",
       "      <th></th>\n",
       "      <th>etapa</th>\n",
       "      <th>éxito</th>\n",
       "      <th>absentismo_justificado</th>\n",
       "      <th>absentismo_injustificado</th>\n",
       "      <th>partes</th>\n",
       "      <th>suspensión_asistencia</th>\n",
       "      <th>ratio</th>\n",
       "      <th>absentismo</th>\n",
       "      <th>éxito_abs</th>\n",
       "      <th>ccbb</th>\n",
       "    </tr>\n",
       "    <tr>\n",
       "      <th>curso</th>\n",
       "      <th>evaluación</th>\n",
       "      <th>grupo</th>\n",
       "      <th></th>\n",
       "      <th></th>\n",
       "      <th></th>\n",
       "      <th></th>\n",
       "      <th></th>\n",
       "      <th></th>\n",
       "      <th></th>\n",
       "      <th></th>\n",
       "      <th></th>\n",
       "      <th></th>\n",
       "    </tr>\n",
       "  </thead>\n",
       "  <tbody>\n",
       "    <tr>\n",
       "      <th rowspan=\"5\" valign=\"top\">C1617</th>\n",
       "      <th rowspan=\"5\" valign=\"top\">E1</th>\n",
       "      <th>ESO1A</th>\n",
       "      <td>ESO</td>\n",
       "      <td>41.7</td>\n",
       "      <td>0.87</td>\n",
       "      <td>6.08</td>\n",
       "      <td>4.0</td>\n",
       "      <td>0.0</td>\n",
       "      <td>24</td>\n",
       "      <td>6.95</td>\n",
       "      <td>10.0</td>\n",
       "      <td>4.478571</td>\n",
       "    </tr>\n",
       "    <tr>\n",
       "      <th>ESO1B</th>\n",
       "      <td>ESO</td>\n",
       "      <td>46.2</td>\n",
       "      <td>2.82</td>\n",
       "      <td>2.63</td>\n",
       "      <td>3.0</td>\n",
       "      <td>0.0</td>\n",
       "      <td>26</td>\n",
       "      <td>5.45</td>\n",
       "      <td>12.0</td>\n",
       "      <td>5.232143</td>\n",
       "    </tr>\n",
       "    <tr>\n",
       "      <th>ESO1C</th>\n",
       "      <td>ESO</td>\n",
       "      <td>28.0</td>\n",
       "      <td>4.51</td>\n",
       "      <td>7.12</td>\n",
       "      <td>2.0</td>\n",
       "      <td>1.0</td>\n",
       "      <td>25</td>\n",
       "      <td>11.63</td>\n",
       "      <td>7.0</td>\n",
       "      <td>4.057143</td>\n",
       "    </tr>\n",
       "    <tr>\n",
       "      <th>ESO1D</th>\n",
       "      <td>ESO</td>\n",
       "      <td>46.2</td>\n",
       "      <td>1.03</td>\n",
       "      <td>3.66</td>\n",
       "      <td>3.0</td>\n",
       "      <td>0.0</td>\n",
       "      <td>26</td>\n",
       "      <td>4.69</td>\n",
       "      <td>12.0</td>\n",
       "      <td>4.435714</td>\n",
       "    </tr>\n",
       "    <tr>\n",
       "      <th>ESO2A</th>\n",
       "      <td>ESO</td>\n",
       "      <td>46.2</td>\n",
       "      <td>1.45</td>\n",
       "      <td>2.87</td>\n",
       "      <td>2.0</td>\n",
       "      <td>0.0</td>\n",
       "      <td>26</td>\n",
       "      <td>4.32</td>\n",
       "      <td>12.0</td>\n",
       "      <td>5.032143</td>\n",
       "    </tr>\n",
       "  </tbody>\n",
       "</table>\n",
       "</div>"
      ],
      "text/plain": [
       "                       etapa  éxito  absentismo_justificado  \\\n",
       "curso evaluación grupo                                        \n",
       "C1617 E1         ESO1A   ESO   41.7                    0.87   \n",
       "                 ESO1B   ESO   46.2                    2.82   \n",
       "                 ESO1C   ESO   28.0                    4.51   \n",
       "                 ESO1D   ESO   46.2                    1.03   \n",
       "                 ESO2A   ESO   46.2                    1.45   \n",
       "\n",
       "                        absentismo_injustificado  partes  \\\n",
       "curso evaluación grupo                                     \n",
       "C1617 E1         ESO1A                      6.08     4.0   \n",
       "                 ESO1B                      2.63     3.0   \n",
       "                 ESO1C                      7.12     2.0   \n",
       "                 ESO1D                      3.66     3.0   \n",
       "                 ESO2A                      2.87     2.0   \n",
       "\n",
       "                        suspensión_asistencia  ratio  absentismo  éxito_abs  \\\n",
       "curso evaluación grupo                                                        \n",
       "C1617 E1         ESO1A                    0.0     24        6.95       10.0   \n",
       "                 ESO1B                    0.0     26        5.45       12.0   \n",
       "                 ESO1C                    1.0     25       11.63        7.0   \n",
       "                 ESO1D                    0.0     26        4.69       12.0   \n",
       "                 ESO2A                    0.0     26        4.32       12.0   \n",
       "\n",
       "                            ccbb  \n",
       "curso evaluación grupo            \n",
       "C1617 E1         ESO1A  4.478571  \n",
       "                 ESO1B  5.232143  \n",
       "                 ESO1C  4.057143  \n",
       "                 ESO1D  4.435714  \n",
       "                 ESO2A  5.032143  "
      ]
     },
     "execution_count": 7,
     "metadata": {},
     "output_type": "execute_result"
    }
   ],
   "source": [
    "df.head()"
   ]
  },
  {
   "cell_type": "code",
   "execution_count": 8,
   "metadata": {},
   "outputs": [
    {
     "data": {
      "text/html": [
       "<div>\n",
       "<style scoped>\n",
       "    .dataframe tbody tr th:only-of-type {\n",
       "        vertical-align: middle;\n",
       "    }\n",
       "\n",
       "    .dataframe tbody tr th {\n",
       "        vertical-align: top;\n",
       "    }\n",
       "\n",
       "    .dataframe thead th {\n",
       "        text-align: right;\n",
       "    }\n",
       "</style>\n",
       "<table border=\"1\" class=\"dataframe\">\n",
       "  <thead>\n",
       "    <tr style=\"text-align: right;\">\n",
       "      <th></th>\n",
       "      <th></th>\n",
       "      <th></th>\n",
       "      <th>nivel</th>\n",
       "      <th>item</th>\n",
       "      <th>PA</th>\n",
       "      <th>AD</th>\n",
       "      <th>MA</th>\n",
       "      <th>EX</th>\n",
       "      <th>marca</th>\n",
       "    </tr>\n",
       "    <tr>\n",
       "      <th>curso</th>\n",
       "      <th>evaluación</th>\n",
       "      <th>grupo</th>\n",
       "      <th></th>\n",
       "      <th></th>\n",
       "      <th></th>\n",
       "      <th></th>\n",
       "      <th></th>\n",
       "      <th></th>\n",
       "      <th></th>\n",
       "    </tr>\n",
       "  </thead>\n",
       "  <tbody>\n",
       "    <tr>\n",
       "      <th rowspan=\"5\" valign=\"top\">C1617</th>\n",
       "      <th rowspan=\"5\" valign=\"top\">E1</th>\n",
       "      <th>ESO1A</th>\n",
       "      <td>1ESO</td>\n",
       "      <td>CL</td>\n",
       "      <td>42</td>\n",
       "      <td>46</td>\n",
       "      <td>12</td>\n",
       "      <td>0</td>\n",
       "      <td>4.250</td>\n",
       "    </tr>\n",
       "    <tr>\n",
       "      <th>ESO1A</th>\n",
       "      <td>1ESO</td>\n",
       "      <td>CMCT</td>\n",
       "      <td>50</td>\n",
       "      <td>46</td>\n",
       "      <td>4</td>\n",
       "      <td>0</td>\n",
       "      <td>3.850</td>\n",
       "    </tr>\n",
       "    <tr>\n",
       "      <th>ESO1A</th>\n",
       "      <td>1ESO</td>\n",
       "      <td>CD</td>\n",
       "      <td>17</td>\n",
       "      <td>75</td>\n",
       "      <td>8</td>\n",
       "      <td>0</td>\n",
       "      <td>4.775</td>\n",
       "    </tr>\n",
       "    <tr>\n",
       "      <th>ESO1A</th>\n",
       "      <td>1ESO</td>\n",
       "      <td>AAP</td>\n",
       "      <td>25</td>\n",
       "      <td>67</td>\n",
       "      <td>8</td>\n",
       "      <td>0</td>\n",
       "      <td>4.575</td>\n",
       "    </tr>\n",
       "    <tr>\n",
       "      <th>ESO1A</th>\n",
       "      <td>1ESO</td>\n",
       "      <td>CSC</td>\n",
       "      <td>12</td>\n",
       "      <td>75</td>\n",
       "      <td>12</td>\n",
       "      <td>0</td>\n",
       "      <td>4.950</td>\n",
       "    </tr>\n",
       "  </tbody>\n",
       "</table>\n",
       "</div>"
      ],
      "text/plain": [
       "                       nivel  item  PA  AD  MA  EX  marca\n",
       "curso evaluación grupo                                   \n",
       "C1617 E1         ESO1A  1ESO    CL  42  46  12   0  4.250\n",
       "                 ESO1A  1ESO  CMCT  50  46   4   0  3.850\n",
       "                 ESO1A  1ESO    CD  17  75   8   0  4.775\n",
       "                 ESO1A  1ESO   AAP  25  67   8   0  4.575\n",
       "                 ESO1A  1ESO   CSC  12  75  12   0  4.950"
      ]
     },
     "execution_count": 8,
     "metadata": {},
     "output_type": "execute_result"
    }
   ],
   "source": [
    "df_bc.head()"
   ]
  },
  {
   "cell_type": "code",
   "execution_count": 9,
   "metadata": {
    "scrolled": false
   },
   "outputs": [],
   "source": [
    "# dataframe for current year and evaluation\n",
    "dfc = df.loc[labels[-1]]\n",
    "dfc_bc = df_bc.loc[labels[-1]]"
   ]
  },
  {
   "cell_type": "code",
   "execution_count": 10,
   "metadata": {
    "scrolled": false
   },
   "outputs": [],
   "source": [
    "# dataframe for comparisons with last evaluation\n",
    "df_comp = dfc.merge(df.loc[labels[-2]], left_index=True, right_index=True)\n",
    "\n",
    "df_bc_last_eval_new_index = df_bc.loc[labels[-2]].reset_index().set_index(['grupo', 'item'])\n",
    "dfc_bc_new_index = dfc_bc.reset_index().set_index(['grupo', 'item'])\n",
    "df_bc_comp = dfc_bc_new_index.merge(df_bc_last_eval_new_index, left_index=True, right_index=True)\n",
    "df_bc_comp = df_bc_comp.reset_index().set_index(['grupo'])"
   ]
  },
  {
   "cell_type": "code",
   "execution_count": 11,
   "metadata": {},
   "outputs": [],
   "source": [
    "# recurrent variables\n",
    "stages = df['etapa'].unique()\n",
    "years = df.index.levels[0]"
   ]
  },
  {
   "cell_type": "markdown",
   "metadata": {},
   "source": [
    "# ÉXITO ESCOLAR"
   ]
  },
  {
   "cell_type": "markdown",
   "metadata": {},
   "source": [
    "<div class=\"alert alert-success\" role=\"alert\">\n",
    "    ÉXITO ESCOLAR = <b>0 suspensos</b>\n",
    "</div>"
   ]
  },
  {
   "cell_type": "markdown",
   "metadata": {},
   "source": [
    "## ÉXITO EN VALORES ABSOLUTOS"
   ]
  },
  {
   "cell_type": "code",
   "execution_count": 12,
   "metadata": {
    "scrolled": true
   },
   "outputs": [
    {
     "data": {
      "application/vnd.plotly.v1+json": {
       "config": {
        "linkText": "Export to plot.ly",
        "plotlyServerURL": "https://plot.ly",
        "responsive": true,
        "showLink": false
       },
       "data": [
        {
         "marker": {
          "color": "rgb(166,206,227)"
         },
         "name": "Ratio",
         "orientation": "h",
         "type": "bar",
         "uid": "a7fe3318-afcf-43da-8192-1d6aa7b48fcf",
         "x": [
          20,
          19,
          25,
          28,
          30,
          29,
          10,
          21,
          23,
          25,
          10,
          25,
          29,
          13,
          5,
          21,
          26,
          19,
          29,
          15,
          18,
          15,
          11,
          8,
          8,
          17,
          28,
          25,
          31,
          18,
          13,
          26,
          23,
          16,
          14,
          30,
          15,
          13
         ],
         "y": [
          "ESO1A",
          "ESO1B",
          "ESO1C",
          "ESO2A",
          "ESO2B",
          "ESO2C",
          "ESO2D",
          "ESO3A",
          "ESO3B",
          "ESO3C",
          "ESO3D",
          "ESO4A",
          "ESO4B",
          "1FPB",
          "2FPB",
          "1CIE",
          "1SOC",
          "2CIE",
          "2SOC",
          "1TEL",
          "1ELE",
          "1CAR",
          "2TEL",
          "2ELE",
          "2CAR",
          "1ARI",
          "1ALO",
          "1GIT",
          "1ASR",
          "1DAW",
          "2ARI",
          "2ALO",
          "2GIT",
          "2ASR",
          "2DAW",
          "1DAM",
          "2DAM",
          "3DAM"
         ]
        },
        {
         "marker": {
          "color": "rgb(31,120,180)"
         },
         "name": "Éxito",
         "orientation": "h",
         "type": "bar",
         "uid": "bc444e17-6bc6-4fa5-8711-b9a1c0356e5c",
         "x": [
          7,
          12,
          11,
          16,
          17,
          15,
          2,
          18,
          12,
          7,
          2,
          17,
          10,
          7,
          5,
          10,
          14,
          13,
          21,
          9,
          10,
          10,
          11,
          8,
          8,
          14,
          24,
          16,
          13,
          10,
          13,
          23,
          23,
          16,
          13,
          8,
          4,
          11
         ],
         "y": [
          "ESO1A",
          "ESO1B",
          "ESO1C",
          "ESO2A",
          "ESO2B",
          "ESO2C",
          "ESO2D",
          "ESO3A",
          "ESO3B",
          "ESO3C",
          "ESO3D",
          "ESO4A",
          "ESO4B",
          "1FPB",
          "2FPB",
          "1CIE",
          "1SOC",
          "2CIE",
          "2SOC",
          "1TEL",
          "1ELE",
          "1CAR",
          "2TEL",
          "2ELE",
          "2CAR",
          "1ARI",
          "1ALO",
          "1GIT",
          "1ASR",
          "1DAW",
          "2ARI",
          "2ALO",
          "2GIT",
          "2ASR",
          "2DAW",
          "1DAM",
          "2DAM",
          "3DAM"
         ]
        }
       ],
       "layout": {
        "barmode": "overlay",
        "height": 1000,
        "title": {
         "text": ""
        },
        "width": 700,
        "yaxis": {
         "autorange": "reversed",
         "type": "category"
        }
       }
      },
      "text/html": [
       "<div>\n",
       "        \n",
       "        \n",
       "            <div id=\"d871c912-a273-427f-bf76-8e999ffe435e\" class=\"plotly-graph-div\" style=\"height:1000px; width:700px;\"></div>\n",
       "            <script type=\"text/javascript\">\n",
       "                require([\"plotly\"], function(Plotly) {\n",
       "                    window.PLOTLYENV=window.PLOTLYENV || {};\n",
       "                    window.PLOTLYENV.BASE_URL='https://plot.ly';\n",
       "                    \n",
       "                if (document.getElementById(\"d871c912-a273-427f-bf76-8e999ffe435e\")) {\n",
       "                    Plotly.newPlot(\n",
       "                        'd871c912-a273-427f-bf76-8e999ffe435e',\n",
       "                        [{\"marker\": {\"color\": \"rgb(166,206,227)\"}, \"name\": \"Ratio\", \"orientation\": \"h\", \"type\": \"bar\", \"uid\": \"ac43bc88-b8de-45ae-9a1c-a00de4a60c27\", \"x\": [20, 19, 25, 28, 30, 29, 10, 21, 23, 25, 10, 25, 29, 13, 5, 21, 26, 19, 29, 15, 18, 15, 11, 8, 8, 17, 28, 25, 31, 18, 13, 26, 23, 16, 14, 30, 15, 13], \"y\": [\"ESO1A\", \"ESO1B\", \"ESO1C\", \"ESO2A\", \"ESO2B\", \"ESO2C\", \"ESO2D\", \"ESO3A\", \"ESO3B\", \"ESO3C\", \"ESO3D\", \"ESO4A\", \"ESO4B\", \"1FPB\", \"2FPB\", \"1CIE\", \"1SOC\", \"2CIE\", \"2SOC\", \"1TEL\", \"1ELE\", \"1CAR\", \"2TEL\", \"2ELE\", \"2CAR\", \"1ARI\", \"1ALO\", \"1GIT\", \"1ASR\", \"1DAW\", \"2ARI\", \"2ALO\", \"2GIT\", \"2ASR\", \"2DAW\", \"1DAM\", \"2DAM\", \"3DAM\"]}, {\"marker\": {\"color\": \"rgb(31,120,180)\"}, \"name\": \"\\u00c9xito\", \"orientation\": \"h\", \"type\": \"bar\", \"uid\": \"2a231aa0-251d-4c41-b5bf-21af6374e42f\", \"x\": [7.0, 12.0, 11.0, 16.0, 17.0, 15.0, 2.0, 18.0, 12.0, 7.0, 2.0, 17.0, 10.0, 7.0, 5.0, 10.0, 14.0, 13.0, 21.0, 9.0, 10.0, 10.0, 11.0, 8.0, 8.0, 14.0, 24.0, 16.0, 13.0, 10.0, 13.0, 23.0, 23.0, 16.0, 13.0, 8.0, 4.0, 11.0], \"y\": [\"ESO1A\", \"ESO1B\", \"ESO1C\", \"ESO2A\", \"ESO2B\", \"ESO2C\", \"ESO2D\", \"ESO3A\", \"ESO3B\", \"ESO3C\", \"ESO3D\", \"ESO4A\", \"ESO4B\", \"1FPB\", \"2FPB\", \"1CIE\", \"1SOC\", \"2CIE\", \"2SOC\", \"1TEL\", \"1ELE\", \"1CAR\", \"2TEL\", \"2ELE\", \"2CAR\", \"1ARI\", \"1ALO\", \"1GIT\", \"1ASR\", \"1DAW\", \"2ARI\", \"2ALO\", \"2GIT\", \"2ASR\", \"2DAW\", \"1DAM\", \"2DAM\", \"3DAM\"]}],\n",
       "                        {\"barmode\": \"overlay\", \"height\": 1000, \"title\": {\"text\": \"\"}, \"width\": 700, \"yaxis\": {\"autorange\": \"reversed\", \"type\": \"category\"}},\n",
       "                        {\"showLink\": false, \"linkText\": \"Export to plot.ly\", \"plotlyServerURL\": \"https://plot.ly\", \"responsive\": true}\n",
       "                    ).then(function(){\n",
       "                            \n",
       "var gd = document.getElementById('d871c912-a273-427f-bf76-8e999ffe435e');\n",
       "var x = new MutationObserver(function (mutations, observer) {{\n",
       "        var display = window.getComputedStyle(gd).display;\n",
       "        if (!display || display === 'none') {{\n",
       "            console.log([gd, 'removed!']);\n",
       "            Plotly.purge(gd);\n",
       "            observer.disconnect();\n",
       "        }}\n",
       "}});\n",
       "\n",
       "// Listen for the removal of the full notebook cells\n",
       "var notebookContainer = gd.closest('#notebook-container');\n",
       "if (notebookContainer) {{\n",
       "    x.observe(notebookContainer, {childList: true});\n",
       "}}\n",
       "\n",
       "// Listen for the clearing of the current output cell\n",
       "var outputEl = gd.closest('.output');\n",
       "if (outputEl) {{\n",
       "    x.observe(outputEl, {childList: true});\n",
       "}}\n",
       "\n",
       "                        })\n",
       "                };\n",
       "                });\n",
       "            </script>\n",
       "        </div>"
      ]
     },
     "metadata": {},
     "output_type": "display_data"
    }
   ],
   "source": [
    "myplotly.hbar((dfc['ratio'], dfc['éxito_abs']), dfc.index, trace_names=('Ratio', 'Éxito'))"
   ]
  },
  {
   "cell_type": "markdown",
   "metadata": {},
   "source": [
    "## ESO"
   ]
  },
  {
   "cell_type": "code",
   "execution_count": 13,
   "metadata": {
    "scrolled": false
   },
   "outputs": [
    {
     "data": {
      "application/vnd.plotly.v1+json": {
       "config": {
        "linkText": "Export to plot.ly",
        "plotlyServerURL": "https://plot.ly",
        "responsive": true,
        "showLink": false
       },
       "data": [
        {
         "hoverinfo": "x+text",
         "marker": {
          "color": [
           35,
           63.2,
           44,
           57.1,
           56.7,
           51.7,
           20,
           85.7,
           52.2,
           28,
           20,
           68,
           34.5
          ],
          "colorscale": [
           [
            0,
            "rgb(186,228,179)"
           ],
           [
            0.3333333333333333,
            "rgb(116,196,118)"
           ],
           [
            0.6666666666666666,
            "rgb(49,163,84)"
           ],
           [
            1,
            "rgb(0,109,44)"
           ]
          ]
         },
         "text": [
          "35.00%",
          "63.20%",
          "44.00%",
          "57.10%",
          "56.70%",
          "51.70%",
          "20.00%",
          "85.70%",
          "52.20%",
          "28.00%",
          "20.00%",
          "68.00%",
          "34.50%"
         ],
         "type": "bar",
         "uid": "d31e1e7b-e583-4a64-a400-c51427151396",
         "x": [
          "ESO1A",
          "ESO1B",
          "ESO1C",
          "ESO2A",
          "ESO2B",
          "ESO2C",
          "ESO2D",
          "ESO3A",
          "ESO3B",
          "ESO3C",
          "ESO3D",
          "ESO4A",
          "ESO4B"
         ],
         "y": [
          35,
          63.2,
          44,
          57.1,
          56.7,
          51.7,
          20,
          85.7,
          52.2,
          28,
          20,
          68,
          34.5
         ]
        }
       ],
       "layout": {
        "title": {
         "text": ""
        }
       }
      },
      "text/html": [
       "<div>\n",
       "        \n",
       "        \n",
       "            <div id=\"ed62f2e5-4d12-4510-ac03-5b6bd298f8fd\" class=\"plotly-graph-div\" style=\"height:525px; width:100%;\"></div>\n",
       "            <script type=\"text/javascript\">\n",
       "                require([\"plotly\"], function(Plotly) {\n",
       "                    window.PLOTLYENV=window.PLOTLYENV || {};\n",
       "                    window.PLOTLYENV.BASE_URL='https://plot.ly';\n",
       "                    \n",
       "                if (document.getElementById(\"ed62f2e5-4d12-4510-ac03-5b6bd298f8fd\")) {\n",
       "                    Plotly.newPlot(\n",
       "                        'ed62f2e5-4d12-4510-ac03-5b6bd298f8fd',\n",
       "                        [{\"hoverinfo\": \"x+text\", \"marker\": {\"color\": [35.0, 63.2, 44.0, 57.1, 56.7, 51.7, 20.0, 85.7, 52.2, 28.0, 20.0, 68.0, 34.5], \"colorscale\": [[0.0, \"rgb(186,228,179)\"], [0.3333333333333333, \"rgb(116,196,118)\"], [0.6666666666666666, \"rgb(49,163,84)\"], [1.0, \"rgb(0,109,44)\"]]}, \"text\": [\"35.00%\", \"63.20%\", \"44.00%\", \"57.10%\", \"56.70%\", \"51.70%\", \"20.00%\", \"85.70%\", \"52.20%\", \"28.00%\", \"20.00%\", \"68.00%\", \"34.50%\"], \"type\": \"bar\", \"uid\": \"bb58bef7-8e28-400c-9b35-03eb6336b865\", \"x\": [\"ESO1A\", \"ESO1B\", \"ESO1C\", \"ESO2A\", \"ESO2B\", \"ESO2C\", \"ESO2D\", \"ESO3A\", \"ESO3B\", \"ESO3C\", \"ESO3D\", \"ESO4A\", \"ESO4B\"], \"y\": [35.0, 63.2, 44.0, 57.1, 56.7, 51.7, 20.0, 85.7, 52.2, 28.0, 20.0, 68.0, 34.5]}],\n",
       "                        {\"title\": {\"text\": \"\"}},\n",
       "                        {\"showLink\": false, \"linkText\": \"Export to plot.ly\", \"plotlyServerURL\": \"https://plot.ly\", \"responsive\": true}\n",
       "                    ).then(function(){\n",
       "                            \n",
       "var gd = document.getElementById('ed62f2e5-4d12-4510-ac03-5b6bd298f8fd');\n",
       "var x = new MutationObserver(function (mutations, observer) {{\n",
       "        var display = window.getComputedStyle(gd).display;\n",
       "        if (!display || display === 'none') {{\n",
       "            console.log([gd, 'removed!']);\n",
       "            Plotly.purge(gd);\n",
       "            observer.disconnect();\n",
       "        }}\n",
       "}});\n",
       "\n",
       "// Listen for the removal of the full notebook cells\n",
       "var notebookContainer = gd.closest('#notebook-container');\n",
       "if (notebookContainer) {{\n",
       "    x.observe(notebookContainer, {childList: true});\n",
       "}}\n",
       "\n",
       "// Listen for the clearing of the current output cell\n",
       "var outputEl = gd.closest('.output');\n",
       "if (outputEl) {{\n",
       "    x.observe(outputEl, {childList: true});\n",
       "}}\n",
       "\n",
       "                        })\n",
       "                };\n",
       "                });\n",
       "            </script>\n",
       "        </div>"
      ]
     },
     "metadata": {},
     "output_type": "display_data"
    }
   ],
   "source": [
    "dfc_ESO = loaders.get_data_by_stages(dfc, 'ESO')\n",
    "myplotly.bar_simple(dfc_ESO.index, dfc_ESO['éxito'])"
   ]
  },
  {
   "cell_type": "code",
   "execution_count": 14,
   "metadata": {
    "scrolled": true
   },
   "outputs": [
    {
     "data": {
      "text/plain": [
       "éxito                       47.392308\n",
       "absentismo_justificado       3.411538\n",
       "absentismo_injustificado     5.007692\n",
       "partes                       0.615385\n",
       "suspensión_asistencia        0.076923\n",
       "ratio                       22.615385\n",
       "absentismo                   8.419231\n",
       "éxito_abs                   11.230769\n",
       "ccbb                         5.061538\n",
       "dtype: float64"
      ]
     },
     "execution_count": 14,
     "metadata": {},
     "output_type": "execute_result"
    }
   ],
   "source": [
    "dfc_ESO.mean()"
   ]
  },
  {
   "cell_type": "markdown",
   "metadata": {},
   "source": [
    "## FPB"
   ]
  },
  {
   "cell_type": "code",
   "execution_count": 15,
   "metadata": {},
   "outputs": [
    {
     "data": {
      "application/vnd.plotly.v1+json": {
       "config": {
        "linkText": "Export to plot.ly",
        "plotlyServerURL": "https://plot.ly",
        "responsive": true,
        "showLink": false
       },
       "data": [
        {
         "hoverinfo": "x+text",
         "marker": {
          "color": [
           53.8,
           100
          ],
          "colorscale": [
           [
            0,
            "rgb(186,228,179)"
           ],
           [
            0.3333333333333333,
            "rgb(116,196,118)"
           ],
           [
            0.6666666666666666,
            "rgb(49,163,84)"
           ],
           [
            1,
            "rgb(0,109,44)"
           ]
          ]
         },
         "text": [
          "53.80%",
          "100.00%"
         ],
         "type": "bar",
         "uid": "c332c596-2c53-4687-8c8c-d9420c643eec",
         "x": [
          "1FPB",
          "2FPB"
         ],
         "y": [
          53.8,
          100
         ]
        }
       ],
       "layout": {
        "title": {
         "text": ""
        }
       }
      },
      "text/html": [
       "<div>\n",
       "        \n",
       "        \n",
       "            <div id=\"45b175aa-c142-4140-accf-f02b79032c1f\" class=\"plotly-graph-div\" style=\"height:525px; width:100%;\"></div>\n",
       "            <script type=\"text/javascript\">\n",
       "                require([\"plotly\"], function(Plotly) {\n",
       "                    window.PLOTLYENV=window.PLOTLYENV || {};\n",
       "                    window.PLOTLYENV.BASE_URL='https://plot.ly';\n",
       "                    \n",
       "                if (document.getElementById(\"45b175aa-c142-4140-accf-f02b79032c1f\")) {\n",
       "                    Plotly.newPlot(\n",
       "                        '45b175aa-c142-4140-accf-f02b79032c1f',\n",
       "                        [{\"hoverinfo\": \"x+text\", \"marker\": {\"color\": [53.8, 100.0], \"colorscale\": [[0.0, \"rgb(186,228,179)\"], [0.3333333333333333, \"rgb(116,196,118)\"], [0.6666666666666666, \"rgb(49,163,84)\"], [1.0, \"rgb(0,109,44)\"]]}, \"text\": [\"53.80%\", \"100.00%\"], \"type\": \"bar\", \"uid\": \"c0ecb903-a425-4572-b57a-157c6ecece75\", \"x\": [\"1FPB\", \"2FPB\"], \"y\": [53.8, 100.0]}],\n",
       "                        {\"title\": {\"text\": \"\"}},\n",
       "                        {\"showLink\": false, \"linkText\": \"Export to plot.ly\", \"plotlyServerURL\": \"https://plot.ly\", \"responsive\": true}\n",
       "                    ).then(function(){\n",
       "                            \n",
       "var gd = document.getElementById('45b175aa-c142-4140-accf-f02b79032c1f');\n",
       "var x = new MutationObserver(function (mutations, observer) {{\n",
       "        var display = window.getComputedStyle(gd).display;\n",
       "        if (!display || display === 'none') {{\n",
       "            console.log([gd, 'removed!']);\n",
       "            Plotly.purge(gd);\n",
       "            observer.disconnect();\n",
       "        }}\n",
       "}});\n",
       "\n",
       "// Listen for the removal of the full notebook cells\n",
       "var notebookContainer = gd.closest('#notebook-container');\n",
       "if (notebookContainer) {{\n",
       "    x.observe(notebookContainer, {childList: true});\n",
       "}}\n",
       "\n",
       "// Listen for the clearing of the current output cell\n",
       "var outputEl = gd.closest('.output');\n",
       "if (outputEl) {{\n",
       "    x.observe(outputEl, {childList: true});\n",
       "}}\n",
       "\n",
       "                        })\n",
       "                };\n",
       "                });\n",
       "            </script>\n",
       "        </div>"
      ]
     },
     "metadata": {},
     "output_type": "display_data"
    }
   ],
   "source": [
    "dfc_FPB = loaders.get_data_by_stages(dfc, 'FPB')\n",
    "myplotly.bar_simple(dfc_FPB.index, dfc_FPB['éxito'])"
   ]
  },
  {
   "cell_type": "code",
   "execution_count": 16,
   "metadata": {},
   "outputs": [
    {
     "data": {
      "text/plain": [
       "éxito                       76.90\n",
       "absentismo_justificado       3.51\n",
       "absentismo_injustificado    20.19\n",
       "partes                       2.50\n",
       "suspensión_asistencia        3.00\n",
       "ratio                        9.00\n",
       "absentismo                  23.70\n",
       "éxito_abs                    6.00\n",
       "ccbb                          NaN\n",
       "dtype: float64"
      ]
     },
     "execution_count": 16,
     "metadata": {},
     "output_type": "execute_result"
    }
   ],
   "source": [
    "dfc_FPB.mean()"
   ]
  },
  {
   "cell_type": "markdown",
   "metadata": {},
   "source": [
    "## BACHILLERATO"
   ]
  },
  {
   "cell_type": "code",
   "execution_count": 17,
   "metadata": {
    "scrolled": true
   },
   "outputs": [
    {
     "data": {
      "application/vnd.plotly.v1+json": {
       "config": {
        "linkText": "Export to plot.ly",
        "plotlyServerURL": "https://plot.ly",
        "responsive": true,
        "showLink": false
       },
       "data": [
        {
         "hoverinfo": "x+text",
         "marker": {
          "color": [
           47.6,
           53.8,
           68.4,
           72.4
          ],
          "colorscale": [
           [
            0,
            "rgb(186,228,179)"
           ],
           [
            0.3333333333333333,
            "rgb(116,196,118)"
           ],
           [
            0.6666666666666666,
            "rgb(49,163,84)"
           ],
           [
            1,
            "rgb(0,109,44)"
           ]
          ]
         },
         "text": [
          "47.60%",
          "53.80%",
          "68.40%",
          "72.40%"
         ],
         "type": "bar",
         "uid": "c6c788f3-9d34-4428-b5c6-d5fda0d88198",
         "x": [
          "1CIE",
          "1SOC",
          "2CIE",
          "2SOC"
         ],
         "y": [
          47.6,
          53.8,
          68.4,
          72.4
         ]
        }
       ],
       "layout": {
        "title": {
         "text": ""
        }
       }
      },
      "text/html": [
       "<div>\n",
       "        \n",
       "        \n",
       "            <div id=\"a30bda57-0758-4284-9f5a-d1787997a037\" class=\"plotly-graph-div\" style=\"height:525px; width:100%;\"></div>\n",
       "            <script type=\"text/javascript\">\n",
       "                require([\"plotly\"], function(Plotly) {\n",
       "                    window.PLOTLYENV=window.PLOTLYENV || {};\n",
       "                    window.PLOTLYENV.BASE_URL='https://plot.ly';\n",
       "                    \n",
       "                if (document.getElementById(\"a30bda57-0758-4284-9f5a-d1787997a037\")) {\n",
       "                    Plotly.newPlot(\n",
       "                        'a30bda57-0758-4284-9f5a-d1787997a037',\n",
       "                        [{\"hoverinfo\": \"x+text\", \"marker\": {\"color\": [47.6, 53.8, 68.4, 72.4], \"colorscale\": [[0.0, \"rgb(186,228,179)\"], [0.3333333333333333, \"rgb(116,196,118)\"], [0.6666666666666666, \"rgb(49,163,84)\"], [1.0, \"rgb(0,109,44)\"]]}, \"text\": [\"47.60%\", \"53.80%\", \"68.40%\", \"72.40%\"], \"type\": \"bar\", \"uid\": \"ede56ef5-7383-41e6-b50c-f69cf3176079\", \"x\": [\"1CIE\", \"1SOC\", \"2CIE\", \"2SOC\"], \"y\": [47.6, 53.8, 68.4, 72.4]}],\n",
       "                        {\"title\": {\"text\": \"\"}},\n",
       "                        {\"showLink\": false, \"linkText\": \"Export to plot.ly\", \"plotlyServerURL\": \"https://plot.ly\", \"responsive\": true}\n",
       "                    ).then(function(){\n",
       "                            \n",
       "var gd = document.getElementById('a30bda57-0758-4284-9f5a-d1787997a037');\n",
       "var x = new MutationObserver(function (mutations, observer) {{\n",
       "        var display = window.getComputedStyle(gd).display;\n",
       "        if (!display || display === 'none') {{\n",
       "            console.log([gd, 'removed!']);\n",
       "            Plotly.purge(gd);\n",
       "            observer.disconnect();\n",
       "        }}\n",
       "}});\n",
       "\n",
       "// Listen for the removal of the full notebook cells\n",
       "var notebookContainer = gd.closest('#notebook-container');\n",
       "if (notebookContainer) {{\n",
       "    x.observe(notebookContainer, {childList: true});\n",
       "}}\n",
       "\n",
       "// Listen for the clearing of the current output cell\n",
       "var outputEl = gd.closest('.output');\n",
       "if (outputEl) {{\n",
       "    x.observe(outputEl, {childList: true});\n",
       "}}\n",
       "\n",
       "                        })\n",
       "                };\n",
       "                });\n",
       "            </script>\n",
       "        </div>"
      ]
     },
     "metadata": {},
     "output_type": "display_data"
    }
   ],
   "source": [
    "dfc_BACH = loaders.get_data_by_stages(dfc, 'BACH')\n",
    "myplotly.bar_simple(dfc_BACH.index, dfc_BACH['éxito'])"
   ]
  },
  {
   "cell_type": "code",
   "execution_count": 18,
   "metadata": {
    "scrolled": false
   },
   "outputs": [
    {
     "data": {
      "text/plain": [
       "éxito                       60.5500\n",
       "absentismo_justificado       2.9275\n",
       "absentismo_injustificado     3.1225\n",
       "partes                       0.2500\n",
       "suspensión_asistencia        0.0000\n",
       "ratio                       23.7500\n",
       "absentismo                   6.0500\n",
       "éxito_abs                   14.5000\n",
       "ccbb                            NaN\n",
       "dtype: float64"
      ]
     },
     "execution_count": 18,
     "metadata": {},
     "output_type": "execute_result"
    }
   ],
   "source": [
    "dfc_BACH.mean()"
   ]
  },
  {
   "cell_type": "markdown",
   "metadata": {},
   "source": [
    "## CICLOS FORMATIVOS DE GRADO MEDIO"
   ]
  },
  {
   "cell_type": "code",
   "execution_count": 19,
   "metadata": {
    "scrolled": true
   },
   "outputs": [
    {
     "data": {
      "application/vnd.plotly.v1+json": {
       "config": {
        "linkText": "Export to plot.ly",
        "plotlyServerURL": "https://plot.ly",
        "responsive": true,
        "showLink": false
       },
       "data": [
        {
         "hoverinfo": "x+text",
         "marker": {
          "color": [
           60,
           55.6,
           66.7,
           100,
           100,
           100
          ],
          "colorscale": [
           [
            0,
            "rgb(186,228,179)"
           ],
           [
            0.3333333333333333,
            "rgb(116,196,118)"
           ],
           [
            0.6666666666666666,
            "rgb(49,163,84)"
           ],
           [
            1,
            "rgb(0,109,44)"
           ]
          ]
         },
         "text": [
          "60.00%",
          "55.60%",
          "66.70%",
          "100.00%",
          "100.00%",
          "100.00%"
         ],
         "type": "bar",
         "uid": "354a18a1-7326-4b17-a759-643131a25ed1",
         "x": [
          "1TEL",
          "1ELE",
          "1CAR",
          "2TEL",
          "2ELE",
          "2CAR"
         ],
         "y": [
          60,
          55.6,
          66.7,
          100,
          100,
          100
         ]
        }
       ],
       "layout": {
        "title": {
         "text": ""
        }
       }
      },
      "text/html": [
       "<div>\n",
       "        \n",
       "        \n",
       "            <div id=\"1d2b9dc6-d1de-45a4-b24e-583511290720\" class=\"plotly-graph-div\" style=\"height:525px; width:100%;\"></div>\n",
       "            <script type=\"text/javascript\">\n",
       "                require([\"plotly\"], function(Plotly) {\n",
       "                    window.PLOTLYENV=window.PLOTLYENV || {};\n",
       "                    window.PLOTLYENV.BASE_URL='https://plot.ly';\n",
       "                    \n",
       "                if (document.getElementById(\"1d2b9dc6-d1de-45a4-b24e-583511290720\")) {\n",
       "                    Plotly.newPlot(\n",
       "                        '1d2b9dc6-d1de-45a4-b24e-583511290720',\n",
       "                        [{\"hoverinfo\": \"x+text\", \"marker\": {\"color\": [60.0, 55.6, 66.7, 100.0, 100.0, 100.0], \"colorscale\": [[0.0, \"rgb(186,228,179)\"], [0.3333333333333333, \"rgb(116,196,118)\"], [0.6666666666666666, \"rgb(49,163,84)\"], [1.0, \"rgb(0,109,44)\"]]}, \"text\": [\"60.00%\", \"55.60%\", \"66.70%\", \"100.00%\", \"100.00%\", \"100.00%\"], \"type\": \"bar\", \"uid\": \"43ebd356-5977-483a-bf3d-e54074cb2949\", \"x\": [\"1TEL\", \"1ELE\", \"1CAR\", \"2TEL\", \"2ELE\", \"2CAR\"], \"y\": [60.0, 55.6, 66.7, 100.0, 100.0, 100.0]}],\n",
       "                        {\"title\": {\"text\": \"\"}},\n",
       "                        {\"showLink\": false, \"linkText\": \"Export to plot.ly\", \"plotlyServerURL\": \"https://plot.ly\", \"responsive\": true}\n",
       "                    ).then(function(){\n",
       "                            \n",
       "var gd = document.getElementById('1d2b9dc6-d1de-45a4-b24e-583511290720');\n",
       "var x = new MutationObserver(function (mutations, observer) {{\n",
       "        var display = window.getComputedStyle(gd).display;\n",
       "        if (!display || display === 'none') {{\n",
       "            console.log([gd, 'removed!']);\n",
       "            Plotly.purge(gd);\n",
       "            observer.disconnect();\n",
       "        }}\n",
       "}});\n",
       "\n",
       "// Listen for the removal of the full notebook cells\n",
       "var notebookContainer = gd.closest('#notebook-container');\n",
       "if (notebookContainer) {{\n",
       "    x.observe(notebookContainer, {childList: true});\n",
       "}}\n",
       "\n",
       "// Listen for the clearing of the current output cell\n",
       "var outputEl = gd.closest('.output');\n",
       "if (outputEl) {{\n",
       "    x.observe(outputEl, {childList: true});\n",
       "}}\n",
       "\n",
       "                        })\n",
       "                };\n",
       "                });\n",
       "            </script>\n",
       "        </div>"
      ]
     },
     "metadata": {},
     "output_type": "display_data"
    }
   ],
   "source": [
    "dfc_CFGM = loaders.get_data_by_stages(dfc, 'CFGM')\n",
    "myplotly.bar_simple(dfc_CFGM.index, dfc_CFGM['éxito'])"
   ]
  },
  {
   "cell_type": "code",
   "execution_count": 20,
   "metadata": {
    "scrolled": false
   },
   "outputs": [
    {
     "data": {
      "text/plain": [
       "éxito                       80.383333\n",
       "absentismo_justificado       2.686667\n",
       "absentismo_injustificado    11.806667\n",
       "partes                       0.000000\n",
       "suspensión_asistencia        0.000000\n",
       "ratio                       12.500000\n",
       "absentismo                  14.493333\n",
       "éxito_abs                    9.333333\n",
       "ccbb                              NaN\n",
       "dtype: float64"
      ]
     },
     "execution_count": 20,
     "metadata": {},
     "output_type": "execute_result"
    }
   ],
   "source": [
    "dfc_CFGM.mean()"
   ]
  },
  {
   "cell_type": "markdown",
   "metadata": {},
   "source": [
    "## CICLOS FORMATIVOS DE GRADO SUPERIOR"
   ]
  },
  {
   "cell_type": "code",
   "execution_count": 21,
   "metadata": {
    "scrolled": true
   },
   "outputs": [
    {
     "data": {
      "application/vnd.plotly.v1+json": {
       "config": {
        "linkText": "Export to plot.ly",
        "plotlyServerURL": "https://plot.ly",
        "responsive": true,
        "showLink": false
       },
       "data": [
        {
         "hoverinfo": "x+text",
         "marker": {
          "color": [
           82.4,
           85.7,
           64,
           41.9,
           55.6,
           100,
           88.5,
           100,
           100,
           92.9,
           26.7,
           26.7,
           84.6
          ],
          "colorscale": [
           [
            0,
            "rgb(186,228,179)"
           ],
           [
            0.3333333333333333,
            "rgb(116,196,118)"
           ],
           [
            0.6666666666666666,
            "rgb(49,163,84)"
           ],
           [
            1,
            "rgb(0,109,44)"
           ]
          ]
         },
         "text": [
          "82.40%",
          "85.70%",
          "64.00%",
          "41.90%",
          "55.60%",
          "100.00%",
          "88.50%",
          "100.00%",
          "100.00%",
          "92.90%",
          "26.70%",
          "26.70%",
          "84.60%"
         ],
         "type": "bar",
         "uid": "24280ccd-e781-47d4-a721-66411c60edd4",
         "x": [
          "1ARI",
          "1ALO",
          "1GIT",
          "1ASR",
          "1DAW",
          "2ARI",
          "2ALO",
          "2GIT",
          "2ASR",
          "2DAW",
          "1DAM",
          "2DAM",
          "3DAM"
         ],
         "y": [
          82.4,
          85.7,
          64,
          41.9,
          55.6,
          100,
          88.5,
          100,
          100,
          92.9,
          26.7,
          26.7,
          84.6
         ]
        }
       ],
       "layout": {
        "title": {
         "text": ""
        }
       }
      },
      "text/html": [
       "<div>\n",
       "        \n",
       "        \n",
       "            <div id=\"37f53d75-beca-4177-9373-8da94ad19a34\" class=\"plotly-graph-div\" style=\"height:525px; width:100%;\"></div>\n",
       "            <script type=\"text/javascript\">\n",
       "                require([\"plotly\"], function(Plotly) {\n",
       "                    window.PLOTLYENV=window.PLOTLYENV || {};\n",
       "                    window.PLOTLYENV.BASE_URL='https://plot.ly';\n",
       "                    \n",
       "                if (document.getElementById(\"37f53d75-beca-4177-9373-8da94ad19a34\")) {\n",
       "                    Plotly.newPlot(\n",
       "                        '37f53d75-beca-4177-9373-8da94ad19a34',\n",
       "                        [{\"hoverinfo\": \"x+text\", \"marker\": {\"color\": [82.4, 85.7, 64.0, 41.9, 55.6, 100.0, 88.5, 100.0, 100.0, 92.9, 26.7, 26.7, 84.6], \"colorscale\": [[0.0, \"rgb(186,228,179)\"], [0.3333333333333333, \"rgb(116,196,118)\"], [0.6666666666666666, \"rgb(49,163,84)\"], [1.0, \"rgb(0,109,44)\"]]}, \"text\": [\"82.40%\", \"85.70%\", \"64.00%\", \"41.90%\", \"55.60%\", \"100.00%\", \"88.50%\", \"100.00%\", \"100.00%\", \"92.90%\", \"26.70%\", \"26.70%\", \"84.60%\"], \"type\": \"bar\", \"uid\": \"c45ac1d9-f283-459f-b887-94cb05529907\", \"x\": [\"1ARI\", \"1ALO\", \"1GIT\", \"1ASR\", \"1DAW\", \"2ARI\", \"2ALO\", \"2GIT\", \"2ASR\", \"2DAW\", \"1DAM\", \"2DAM\", \"3DAM\"], \"y\": [82.4, 85.7, 64.0, 41.9, 55.6, 100.0, 88.5, 100.0, 100.0, 92.9, 26.7, 26.7, 84.6]}],\n",
       "                        {\"title\": {\"text\": \"\"}},\n",
       "                        {\"showLink\": false, \"linkText\": \"Export to plot.ly\", \"plotlyServerURL\": \"https://plot.ly\", \"responsive\": true}\n",
       "                    ).then(function(){\n",
       "                            \n",
       "var gd = document.getElementById('37f53d75-beca-4177-9373-8da94ad19a34');\n",
       "var x = new MutationObserver(function (mutations, observer) {{\n",
       "        var display = window.getComputedStyle(gd).display;\n",
       "        if (!display || display === 'none') {{\n",
       "            console.log([gd, 'removed!']);\n",
       "            Plotly.purge(gd);\n",
       "            observer.disconnect();\n",
       "        }}\n",
       "}});\n",
       "\n",
       "// Listen for the removal of the full notebook cells\n",
       "var notebookContainer = gd.closest('#notebook-container');\n",
       "if (notebookContainer) {{\n",
       "    x.observe(notebookContainer, {childList: true});\n",
       "}}\n",
       "\n",
       "// Listen for the clearing of the current output cell\n",
       "var outputEl = gd.closest('.output');\n",
       "if (outputEl) {{\n",
       "    x.observe(outputEl, {childList: true});\n",
       "}}\n",
       "\n",
       "                        })\n",
       "                };\n",
       "                });\n",
       "            </script>\n",
       "        </div>"
      ]
     },
     "metadata": {},
     "output_type": "display_data"
    }
   ],
   "source": [
    "dfc_CFGS = loaders.get_data_by_stages(dfc, 'CFGS')\n",
    "myplotly.bar_simple(dfc_CFGS.index, dfc_CFGS['éxito'])"
   ]
  },
  {
   "cell_type": "code",
   "execution_count": 22,
   "metadata": {
    "scrolled": false
   },
   "outputs": [
    {
     "data": {
      "text/plain": [
       "éxito                       73.000000\n",
       "absentismo_justificado       1.666923\n",
       "absentismo_injustificado     6.467692\n",
       "partes                       0.000000\n",
       "suspensión_asistencia        0.000000\n",
       "ratio                       20.692308\n",
       "absentismo                   8.134615\n",
       "éxito_abs                   14.461538\n",
       "ccbb                              NaN\n",
       "dtype: float64"
      ]
     },
     "execution_count": 22,
     "metadata": {},
     "output_type": "execute_result"
    }
   ],
   "source": [
    "dfc_CFGS.mean()"
   ]
  },
  {
   "cell_type": "markdown",
   "metadata": {},
   "source": [
    "## GLOBAL"
   ]
  },
  {
   "cell_type": "code",
   "execution_count": 23,
   "metadata": {
    "scrolled": false
   },
   "outputs": [
    {
     "data": {
      "application/vnd.plotly.v1+json": {
       "config": {
        "linkText": "Export to plot.ly",
        "plotlyServerURL": "https://plot.ly",
        "responsive": true,
        "showLink": false
       },
       "data": [
        {
         "hoverinfo": "x+text",
         "marker": {
          "color": [
           47.39230769230768,
           76.9,
           60.550000000000004,
           80.38333333333334,
           73.00000000000001
          ],
          "colorscale": [
           [
            0,
            "rgb(186,228,179)"
           ],
           [
            0.3333333333333333,
            "rgb(116,196,118)"
           ],
           [
            0.6666666666666666,
            "rgb(49,163,84)"
           ],
           [
            1,
            "rgb(0,109,44)"
           ]
          ]
         },
         "text": [
          "47.39%",
          "76.90%",
          "60.55%",
          "80.38%",
          "73.00%"
         ],
         "type": "bar",
         "uid": "04456484-3b04-442e-a5ad-7659292ad928",
         "x": [
          "ESO",
          "FPB",
          "BACH",
          "CFGM",
          "CFGS"
         ],
         "y": [
          47.39230769230768,
          76.9,
          60.550000000000004,
          80.38333333333334,
          73.00000000000001
         ]
        }
       ],
       "layout": {
        "title": {
         "text": ""
        }
       }
      },
      "text/html": [
       "<div>\n",
       "        \n",
       "        \n",
       "            <div id=\"c806cbc8-03d2-4f6c-aa77-c6da06cf9d87\" class=\"plotly-graph-div\" style=\"height:525px; width:100%;\"></div>\n",
       "            <script type=\"text/javascript\">\n",
       "                require([\"plotly\"], function(Plotly) {\n",
       "                    window.PLOTLYENV=window.PLOTLYENV || {};\n",
       "                    window.PLOTLYENV.BASE_URL='https://plot.ly';\n",
       "                    \n",
       "                if (document.getElementById(\"c806cbc8-03d2-4f6c-aa77-c6da06cf9d87\")) {\n",
       "                    Plotly.newPlot(\n",
       "                        'c806cbc8-03d2-4f6c-aa77-c6da06cf9d87',\n",
       "                        [{\"hoverinfo\": \"x+text\", \"marker\": {\"color\": [47.39230769230768, 76.9, 60.550000000000004, 80.38333333333334, 73.00000000000001], \"colorscale\": [[0.0, \"rgb(186,228,179)\"], [0.3333333333333333, \"rgb(116,196,118)\"], [0.6666666666666666, \"rgb(49,163,84)\"], [1.0, \"rgb(0,109,44)\"]]}, \"text\": [\"47.39%\", \"76.90%\", \"60.55%\", \"80.38%\", \"73.00%\"], \"type\": \"bar\", \"uid\": \"f94f5bcd-44f3-4775-a344-3a6c5e9a0679\", \"x\": [\"ESO\", \"FPB\", \"BACH\", \"CFGM\", \"CFGS\"], \"y\": [47.39230769230768, 76.9, 60.550000000000004, 80.38333333333334, 73.00000000000001]}],\n",
       "                        {\"title\": {\"text\": \"\"}},\n",
       "                        {\"showLink\": false, \"linkText\": \"Export to plot.ly\", \"plotlyServerURL\": \"https://plot.ly\", \"responsive\": true}\n",
       "                    ).then(function(){\n",
       "                            \n",
       "var gd = document.getElementById('c806cbc8-03d2-4f6c-aa77-c6da06cf9d87');\n",
       "var x = new MutationObserver(function (mutations, observer) {{\n",
       "        var display = window.getComputedStyle(gd).display;\n",
       "        if (!display || display === 'none') {{\n",
       "            console.log([gd, 'removed!']);\n",
       "            Plotly.purge(gd);\n",
       "            observer.disconnect();\n",
       "        }}\n",
       "}});\n",
       "\n",
       "// Listen for the removal of the full notebook cells\n",
       "var notebookContainer = gd.closest('#notebook-container');\n",
       "if (notebookContainer) {{\n",
       "    x.observe(notebookContainer, {childList: true});\n",
       "}}\n",
       "\n",
       "// Listen for the clearing of the current output cell\n",
       "var outputEl = gd.closest('.output');\n",
       "if (outputEl) {{\n",
       "    x.observe(outputEl, {childList: true});\n",
       "}}\n",
       "\n",
       "                        })\n",
       "                };\n",
       "                });\n",
       "            </script>\n",
       "        </div>"
      ]
     },
     "metadata": {},
     "output_type": "display_data"
    }
   ],
   "source": [
    "dfc_summary = dfc.groupby('etapa').mean().loc[stages]\n",
    "myplotly.bar_simple(dfc_summary.index, dfc_summary['éxito'])"
   ]
  },
  {
   "cell_type": "markdown",
   "metadata": {},
   "source": [
    "## COMPARATIVA CON LOS ÚLTIMOS CURSOS"
   ]
  },
  {
   "cell_type": "code",
   "execution_count": 24,
   "metadata": {},
   "outputs": [
    {
     "data": {
      "application/vnd.plotly.v1+json": {
       "config": {
        "linkText": "Export to plot.ly",
        "plotlyServerURL": "https://plot.ly",
        "responsive": true,
        "showLink": false
       },
       "data": [
        {
         "hoverinfo": "x+text+name",
         "name": "C1617",
         "text": [
          "44.49%",
          "84.40%",
          "60.57%",
          "82.30%",
          "81.58%"
         ],
         "type": "bar",
         "uid": "17ae012a-62f1-424a-bdbb-3b52e6f5c214",
         "x": [
          "ESO",
          "FPB",
          "BACH",
          "CFGM",
          "CFGS"
         ],
         "y": [
          44.49166666666667,
          84.4,
          60.574999999999996,
          82.3,
          81.58000000000001
         ]
        },
        {
         "hoverinfo": "x+text+name",
         "name": "C1718",
         "text": [
          "42.08%",
          "72.75%",
          "65.90%",
          "76.47%",
          "74.25%"
         ],
         "type": "bar",
         "uid": "01c32ece-81cd-4fbe-9e1a-1a8c4c5de23f",
         "x": [
          "ESO",
          "FPB",
          "BACH",
          "CFGM",
          "CFGS"
         ],
         "y": [
          42.08461538461539,
          72.75,
          65.9,
          76.46666666666667,
          74.25384615384615
         ]
        },
        {
         "hoverinfo": "x+text+name",
         "name": "C1819",
         "text": [
          "47.39%",
          "76.90%",
          "60.55%",
          "80.38%",
          "73.00%"
         ],
         "type": "bar",
         "uid": "654594e6-0246-48cf-9b84-10a3ade0e739",
         "x": [
          "ESO",
          "FPB",
          "BACH",
          "CFGM",
          "CFGS"
         ],
         "y": [
          47.39230769230768,
          76.9,
          60.550000000000004,
          80.38333333333334,
          73.00000000000001
         ]
        }
       ],
       "layout": {
        "barmode": "group"
       }
      },
      "text/html": [
       "<div>\n",
       "        \n",
       "        \n",
       "            <div id=\"5dc65d83-cc13-4154-ae4f-27af50c1ec88\" class=\"plotly-graph-div\" style=\"height:525px; width:100%;\"></div>\n",
       "            <script type=\"text/javascript\">\n",
       "                require([\"plotly\"], function(Plotly) {\n",
       "                    window.PLOTLYENV=window.PLOTLYENV || {};\n",
       "                    window.PLOTLYENV.BASE_URL='https://plot.ly';\n",
       "                    \n",
       "                if (document.getElementById(\"5dc65d83-cc13-4154-ae4f-27af50c1ec88\")) {\n",
       "                    Plotly.newPlot(\n",
       "                        '5dc65d83-cc13-4154-ae4f-27af50c1ec88',\n",
       "                        [{\"hoverinfo\": \"x+text+name\", \"name\": \"C1617\", \"text\": [\"44.49%\", \"84.40%\", \"60.57%\", \"82.30%\", \"81.58%\"], \"type\": \"bar\", \"uid\": \"f162b81b-c892-4efa-bc3f-a61bedd860c7\", \"x\": [\"ESO\", \"FPB\", \"BACH\", \"CFGM\", \"CFGS\"], \"y\": [44.49166666666667, 84.4, 60.574999999999996, 82.3, 81.58000000000001]}, {\"hoverinfo\": \"x+text+name\", \"name\": \"C1718\", \"text\": [\"42.08%\", \"72.75%\", \"65.90%\", \"76.47%\", \"74.25%\"], \"type\": \"bar\", \"uid\": \"e5350a1a-d30a-42c6-bab1-f1167498a3c9\", \"x\": [\"ESO\", \"FPB\", \"BACH\", \"CFGM\", \"CFGS\"], \"y\": [42.08461538461539, 72.75, 65.9, 76.46666666666667, 74.25384615384615]}, {\"hoverinfo\": \"x+text+name\", \"name\": \"C1819\", \"text\": [\"47.39%\", \"76.90%\", \"60.55%\", \"80.38%\", \"73.00%\"], \"type\": \"bar\", \"uid\": \"2710a4d4-e0c5-4828-a8d4-6e2cc1d7f2b7\", \"x\": [\"ESO\", \"FPB\", \"BACH\", \"CFGM\", \"CFGS\"], \"y\": [47.39230769230768, 76.9, 60.550000000000004, 80.38333333333334, 73.00000000000001]}],\n",
       "                        {\"barmode\": \"group\"},\n",
       "                        {\"showLink\": false, \"linkText\": \"Export to plot.ly\", \"plotlyServerURL\": \"https://plot.ly\", \"responsive\": true}\n",
       "                    ).then(function(){\n",
       "                            \n",
       "var gd = document.getElementById('5dc65d83-cc13-4154-ae4f-27af50c1ec88');\n",
       "var x = new MutationObserver(function (mutations, observer) {{\n",
       "        var display = window.getComputedStyle(gd).display;\n",
       "        if (!display || display === 'none') {{\n",
       "            console.log([gd, 'removed!']);\n",
       "            Plotly.purge(gd);\n",
       "            observer.disconnect();\n",
       "        }}\n",
       "}});\n",
       "\n",
       "// Listen for the removal of the full notebook cells\n",
       "var notebookContainer = gd.closest('#notebook-container');\n",
       "if (notebookContainer) {{\n",
       "    x.observe(notebookContainer, {childList: true});\n",
       "}}\n",
       "\n",
       "// Listen for the clearing of the current output cell\n",
       "var outputEl = gd.closest('.output');\n",
       "if (outputEl) {{\n",
       "    x.observe(outputEl, {childList: true});\n",
       "}}\n",
       "\n",
       "                        })\n",
       "                };\n",
       "                });\n",
       "            </script>\n",
       "        </div>"
      ]
     },
     "metadata": {},
     "output_type": "display_data"
    }
   ],
   "source": [
    "aux = df.groupby(['etapa', 'curso', 'evaluación']).mean().reset_index().set_index('etapa')\n",
    "series = {year: aux.loc[stages].query(f'curso == \"{year}\" & evaluación == \"{labels[-1][1]}\"')['éxito'].values\n",
    "          for year in years}\n",
    "\n",
    "myplotly.cbar(stages, series)"
   ]
  },
  {
   "cell_type": "code",
   "execution_count": 25,
   "metadata": {
    "scrolled": false
   },
   "outputs": [
    {
     "data": {
      "text/html": [
       "\n",
       "<div class='alert alert-info' role=\"alert\">\n",
       "    Éxito global medio: <b>64.30</b>%\n",
       "</div>\n"
      ],
      "text/plain": [
       "<IPython.core.display.HTML object>"
      ]
     },
     "metadata": {},
     "output_type": "display_data"
    }
   ],
   "source": [
    "mean_success = dfc['éxito'].mean()\n",
    "display(HTML(f'''\n",
    "<div class='alert alert-info' role=\"alert\">\n",
    "    Éxito global medio: <b>{mean_success:.2f}</b>%\n",
    "</div>\n",
    "'''))"
   ]
  },
  {
   "cell_type": "code",
   "execution_count": 26,
   "metadata": {
    "scrolled": false
   },
   "outputs": [
    {
     "data": {
      "text/html": [
       "<h2>EVOLUCIÓN DE GRUPOS CON RESPECTO A LA EVALUACIÓN ANTERIOR</h2>"
      ],
      "text/plain": [
       "<IPython.core.display.HTML object>"
      ]
     },
     "metadata": {},
     "output_type": "display_data"
    },
    {
     "data": {
      "application/vnd.plotly.v1+json": {
       "config": {
        "linkText": "Export to plot.ly",
        "plotlyServerURL": "https://plot.ly",
        "responsive": true,
        "showLink": false
       },
       "data": [
        {
         "hoverinfo": "x+text",
         "marker": {
          "color": [
           "green",
           "green",
           "green",
           "green",
           "green",
           "green",
           "red",
           "green",
           "green",
           "green",
           "green",
           "green",
           "green",
           "green",
           "green",
           "green",
           "green",
           "green",
           "green",
           "green",
           "green",
           "green",
           "green",
           "green",
           "green",
           "green",
           "green",
           "green",
           "green",
           "green",
           "green",
           "red",
           "green",
           "green",
           "green"
          ]
         },
         "text": [
          "20.00%",
          "15.80%",
          "32.00%",
          "3.50%",
          "13.40%",
          "10.30%",
          "-10.00%",
          "42.80%",
          "17.40%",
          "7.20%",
          "10.00%",
          "24.00%",
          "23.80%",
          "38.80%",
          "0.00%",
          "14.30%",
          "27.90%",
          "42.10%",
          "34.50%",
          "26.70%",
          "18.80%",
          "38.90%",
          "0.00%",
          "12.50%",
          "11.10%",
          "41.20%",
          "13.30%",
          "17.80%",
          "6.40%",
          "22.30%",
          "0.00%",
          "-11.50%",
          "17.90%",
          "5.90%",
          "6.20%"
         ],
         "type": "bar",
         "uid": "5e3f20a7-eb55-4c6a-8bb8-a6b7528b569c",
         "x": [
          "ESO1A",
          "ESO1B",
          "ESO1C",
          "ESO2A",
          "ESO2B",
          "ESO2C",
          "ESO2D",
          "ESO3A",
          "ESO3B",
          "ESO3C",
          "ESO3D",
          "ESO4A",
          "ESO4B",
          "1FPB",
          "2FPB",
          "1CIE",
          "1SOC",
          "2CIE",
          "2SOC",
          "1TEL",
          "1ELE",
          "1CAR",
          "2TEL",
          "2ELE",
          "2CAR",
          "1ARI",
          "1ALO",
          "1GIT",
          "1ASR",
          "1DAW",
          "2ARI",
          "2ALO",
          "2GIT",
          "2ASR",
          "2DAW"
         ],
         "y": [
          20,
          15.800000000000004,
          32,
          3.5,
          13.400000000000006,
          10.300000000000004,
          -10,
          42.800000000000004,
          17.400000000000006,
          7.199999999999999,
          10,
          24,
          23.8,
          38.8,
          0,
          14.300000000000004,
          27.9,
          42.10000000000001,
          34.50000000000001,
          26.700000000000003,
          18.800000000000004,
          38.900000000000006,
          0,
          12.5,
          11.099999999999994,
          41.2,
          13.299999999999997,
          17.799999999999997,
          6.399999999999999,
          22.300000000000004,
          0,
          -11.5,
          17.900000000000006,
          5.900000000000006,
          6.200000000000003
         ]
        }
       ],
       "layout": {
        "title": {
         "text": ""
        }
       }
      },
      "text/html": [
       "<div>\n",
       "        \n",
       "        \n",
       "            <div id=\"b69c0cdb-0bfe-4564-a122-06dfcb317a58\" class=\"plotly-graph-div\" style=\"height:525px; width:100%;\"></div>\n",
       "            <script type=\"text/javascript\">\n",
       "                require([\"plotly\"], function(Plotly) {\n",
       "                    window.PLOTLYENV=window.PLOTLYENV || {};\n",
       "                    window.PLOTLYENV.BASE_URL='https://plot.ly';\n",
       "                    \n",
       "                if (document.getElementById(\"b69c0cdb-0bfe-4564-a122-06dfcb317a58\")) {\n",
       "                    Plotly.newPlot(\n",
       "                        'b69c0cdb-0bfe-4564-a122-06dfcb317a58',\n",
       "                        [{\"hoverinfo\": \"x+text\", \"marker\": {\"color\": [\"green\", \"green\", \"green\", \"green\", \"green\", \"green\", \"red\", \"green\", \"green\", \"green\", \"green\", \"green\", \"green\", \"green\", \"green\", \"green\", \"green\", \"green\", \"green\", \"green\", \"green\", \"green\", \"green\", \"green\", \"green\", \"green\", \"green\", \"green\", \"green\", \"green\", \"green\", \"red\", \"green\", \"green\", \"green\"]}, \"text\": [\"20.00%\", \"15.80%\", \"32.00%\", \"3.50%\", \"13.40%\", \"10.30%\", \"-10.00%\", \"42.80%\", \"17.40%\", \"7.20%\", \"10.00%\", \"24.00%\", \"23.80%\", \"38.80%\", \"0.00%\", \"14.30%\", \"27.90%\", \"42.10%\", \"34.50%\", \"26.70%\", \"18.80%\", \"38.90%\", \"0.00%\", \"12.50%\", \"11.10%\", \"41.20%\", \"13.30%\", \"17.80%\", \"6.40%\", \"22.30%\", \"0.00%\", \"-11.50%\", \"17.90%\", \"5.90%\", \"6.20%\"], \"type\": \"bar\", \"uid\": \"185ac894-a091-47c5-ad2d-f019f700facd\", \"x\": [\"ESO1A\", \"ESO1B\", \"ESO1C\", \"ESO2A\", \"ESO2B\", \"ESO2C\", \"ESO2D\", \"ESO3A\", \"ESO3B\", \"ESO3C\", \"ESO3D\", \"ESO4A\", \"ESO4B\", \"1FPB\", \"2FPB\", \"1CIE\", \"1SOC\", \"2CIE\", \"2SOC\", \"1TEL\", \"1ELE\", \"1CAR\", \"2TEL\", \"2ELE\", \"2CAR\", \"1ARI\", \"1ALO\", \"1GIT\", \"1ASR\", \"1DAW\", \"2ARI\", \"2ALO\", \"2GIT\", \"2ASR\", \"2DAW\"], \"y\": [20.0, 15.800000000000004, 32.0, 3.5, 13.400000000000006, 10.300000000000004, -10.0, 42.800000000000004, 17.400000000000006, 7.199999999999999, 10.0, 24.0, 23.8, 38.8, 0.0, 14.300000000000004, 27.9, 42.10000000000001, 34.50000000000001, 26.700000000000003, 18.800000000000004, 38.900000000000006, 0.0, 12.5, 11.099999999999994, 41.2, 13.299999999999997, 17.799999999999997, 6.399999999999999, 22.300000000000004, 0.0, -11.5, 17.900000000000006, 5.900000000000006, 6.200000000000003]}],\n",
       "                        {\"title\": {\"text\": \"\"}},\n",
       "                        {\"showLink\": false, \"linkText\": \"Export to plot.ly\", \"plotlyServerURL\": \"https://plot.ly\", \"responsive\": true}\n",
       "                    ).then(function(){\n",
       "                            \n",
       "var gd = document.getElementById('b69c0cdb-0bfe-4564-a122-06dfcb317a58');\n",
       "var x = new MutationObserver(function (mutations, observer) {{\n",
       "        var display = window.getComputedStyle(gd).display;\n",
       "        if (!display || display === 'none') {{\n",
       "            console.log([gd, 'removed!']);\n",
       "            Plotly.purge(gd);\n",
       "            observer.disconnect();\n",
       "        }}\n",
       "}});\n",
       "\n",
       "// Listen for the removal of the full notebook cells\n",
       "var notebookContainer = gd.closest('#notebook-container');\n",
       "if (notebookContainer) {{\n",
       "    x.observe(notebookContainer, {childList: true});\n",
       "}}\n",
       "\n",
       "// Listen for the clearing of the current output cell\n",
       "var outputEl = gd.closest('.output');\n",
       "if (outputEl) {{\n",
       "    x.observe(outputEl, {childList: true});\n",
       "}}\n",
       "\n",
       "                        })\n",
       "                };\n",
       "                });\n",
       "            </script>\n",
       "        </div>"
      ]
     },
     "metadata": {},
     "output_type": "display_data"
    }
   ],
   "source": [
    "if EVALUATION > 1:\n",
    "    display(HTML('<h2>EVOLUCIÓN DE GRUPOS CON RESPECTO A LA EVALUACIÓN ANTERIOR</h2>'))\n",
    "\n",
    "    aux = df_comp['éxito_x'] - df_comp['éxito_y']\n",
    "    myplotly.dbar(aux.index, aux)"
   ]
  },
  {
   "cell_type": "markdown",
   "metadata": {},
   "source": [
    "## COMPETENCIAS BÁSICAS"
   ]
  },
  {
   "cell_type": "markdown",
   "metadata": {},
   "source": [
    "**AAP**: Aprender a aprender.  \n",
    "**CD**: Competencia digital.  \n",
    "**CEC**: Conciencia y expresiones culturales.  \n",
    "**CL**: Comunicación lingüística.  \n",
    "**CMCT**: Competencia matemática y competencias básicas en ciencia y tecnología.  \n",
    "**CSC**: Competencias sociales y cívicas.  \n",
    "**SIEE**: Sentido de iniciativa y espíritu emprendedor.  "
   ]
  },
  {
   "cell_type": "markdown",
   "metadata": {},
   "source": [
    "#### Valor resumen por competencia básica:\n",
    "\\begin{equation}\n",
    "MARCA = 0.025 * \\mathbb{PA} + 0.050 * \\mathbb{AD} + 0.075 * \\mathbb{MA} + 0.1 * \\mathbb{EX}\n",
    "\\end{equation}\n",
    "\n",
    ", donde $\\mathbb{PA}$, $\\mathbb{AD}$, $\\mathbb{MA}$ y $\\mathbb{EX}$ son los porcentajes de adquisición de la competencia básica en cuestión."
   ]
  },
  {
   "cell_type": "markdown",
   "metadata": {},
   "source": [
    "### ESTUDIO POR NIVELES Y COMPETENCIA"
   ]
  },
  {
   "cell_type": "code",
   "execution_count": 27,
   "metadata": {
    "scrolled": false
   },
   "outputs": [
    {
     "data": {
      "application/vnd.plotly.v1+json": {
       "config": {
        "linkText": "Export to plot.ly",
        "plotlyServerURL": "https://plot.ly",
        "responsive": true,
        "showLink": false
       },
       "data": [
        {
         "hoverinfo": "x+text+name",
         "legendgroup": "PA",
         "marker": {
          "color": "rgb(215,25,28)"
         },
         "name": "PA",
         "text": [
          "34.00%",
          "17.33%",
          "19.00%",
          "37.33%",
          "32.33%",
          "28.00%",
          "41.00%"
         ],
         "type": "bar",
         "uid": "6d926ef3-5538-4fcd-9f81-cf565da60ebb",
         "x": [
          "AAP",
          "CD",
          "CEC",
          "CL",
          "CMCT",
          "CSC",
          "SIEE"
         ],
         "xaxis": "x",
         "y": [
          34,
          17.333333333333332,
          19,
          37.333333333333336,
          32.333333333333336,
          28,
          41
         ],
         "yaxis": "y"
        },
        {
         "hoverinfo": "x+text+name",
         "legendgroup": "AD",
         "marker": {
          "color": "rgb(253,174,97)"
         },
         "name": "AD",
         "text": [
          "53.00%",
          "68.00%",
          "66.67%",
          "48.67%",
          "48.67%",
          "65.67%",
          "48.67%"
         ],
         "type": "bar",
         "uid": "4147763b-2f6c-4cd7-a858-bc60b41f876a",
         "x": [
          "AAP",
          "CD",
          "CEC",
          "CL",
          "CMCT",
          "CSC",
          "SIEE"
         ],
         "xaxis": "x",
         "y": [
          53,
          68,
          66.66666666666667,
          48.666666666666664,
          48.666666666666664,
          65.66666666666667,
          48.666666666666664
         ],
         "yaxis": "y"
        },
        {
         "hoverinfo": "x+text+name",
         "legendgroup": "MA",
         "marker": {
          "color": "rgb(171,221,164)"
         },
         "name": "MA",
         "text": [
          "11.33%",
          "13.00%",
          "12.67%",
          "12.33%",
          "14.33%",
          "3.00%",
          "8.67%"
         ],
         "type": "bar",
         "uid": "337b78ff-d6cb-495b-b680-226c5d185f64",
         "x": [
          "AAP",
          "CD",
          "CEC",
          "CL",
          "CMCT",
          "CSC",
          "SIEE"
         ],
         "xaxis": "x",
         "y": [
          11.333333333333334,
          13,
          12.666666666666666,
          12.333333333333334,
          14.333333333333334,
          3,
          8.666666666666666
         ],
         "yaxis": "y"
        },
        {
         "hoverinfo": "x+text+name",
         "legendgroup": "EX",
         "marker": {
          "color": "rgb(43,131,186)"
         },
         "name": "EX",
         "text": [
          "1.67%",
          "1.67%",
          "1.67%",
          "1.67%",
          "4.67%",
          "3.67%",
          "1.67%"
         ],
         "type": "bar",
         "uid": "c8d510de-834b-4c70-a535-ff47f4cd933a",
         "x": [
          "AAP",
          "CD",
          "CEC",
          "CL",
          "CMCT",
          "CSC",
          "SIEE"
         ],
         "xaxis": "x",
         "y": [
          1.6666666666666667,
          1.6666666666666667,
          1.6666666666666667,
          1.6666666666666667,
          4.666666666666667,
          3.6666666666666665,
          1.6666666666666667
         ],
         "yaxis": "y"
        },
        {
         "hoverinfo": "x+text+name",
         "legendgroup": "PA",
         "marker": {
          "color": "rgb(215,25,28)"
         },
         "name": "PA",
         "showlegend": false,
         "text": [
          "22.67%",
          "9.00%",
          "16.00%",
          "24.00%",
          "36.00%",
          "15.67%",
          "24.00%"
         ],
         "type": "bar",
         "uid": "a52f9263-31f3-4320-a177-4ccd9e0b80dd",
         "x": [
          "AAP",
          "CD",
          "CEC",
          "CL",
          "CMCT",
          "CSC",
          "SIEE"
         ],
         "xaxis": "x2",
         "y": [
          22.666666666666668,
          9,
          16,
          24,
          36,
          15.666666666666666,
          24
         ],
         "yaxis": "y"
        },
        {
         "hoverinfo": "x+text+name",
         "legendgroup": "AD",
         "marker": {
          "color": "rgb(253,174,97)"
         },
         "name": "AD",
         "showlegend": false,
         "text": [
          "46.00%",
          "65.67%",
          "54.00%",
          "43.33%",
          "34.67%",
          "56.67%",
          "45.00%"
         ],
         "type": "bar",
         "uid": "79327d21-ffc7-4163-80ef-17fc7ad2d8c6",
         "x": [
          "AAP",
          "CD",
          "CEC",
          "CL",
          "CMCT",
          "CSC",
          "SIEE"
         ],
         "xaxis": "x2",
         "y": [
          46,
          65.66666666666667,
          54,
          43.333333333333336,
          34.666666666666664,
          56.666666666666664,
          45
         ],
         "yaxis": "y"
        },
        {
         "hoverinfo": "x+text+name",
         "legendgroup": "MA",
         "marker": {
          "color": "rgb(171,221,164)"
         },
         "name": "MA",
         "showlegend": false,
         "text": [
          "21.67%",
          "20.67%",
          "20.67%",
          "26.67%",
          "25.00%",
          "22.00%",
          "22.00%"
         ],
         "type": "bar",
         "uid": "0c693ef0-7fe3-4259-9a36-6b20cfe83525",
         "x": [
          "AAP",
          "CD",
          "CEC",
          "CL",
          "CMCT",
          "CSC",
          "SIEE"
         ],
         "xaxis": "x2",
         "y": [
          21.666666666666668,
          20.666666666666668,
          20.666666666666668,
          26.666666666666668,
          25,
          22,
          22
         ],
         "yaxis": "y"
        },
        {
         "hoverinfo": "x+text+name",
         "legendgroup": "EX",
         "marker": {
          "color": "rgb(43,131,186)"
         },
         "name": "EX",
         "showlegend": false,
         "text": [
          "9.33%",
          "4.33%",
          "9.00%",
          "5.67%",
          "4.67%",
          "5.67%",
          "9.00%"
         ],
         "type": "bar",
         "uid": "9d782d63-e077-481d-b7b7-96e309e3d1c1",
         "x": [
          "AAP",
          "CD",
          "CEC",
          "CL",
          "CMCT",
          "CSC",
          "SIEE"
         ],
         "xaxis": "x2",
         "y": [
          9.333333333333334,
          4.333333333333333,
          9,
          5.666666666666667,
          4.666666666666667,
          5.666666666666667,
          9
         ],
         "yaxis": "y"
        },
        {
         "hoverinfo": "x+text+name",
         "legendgroup": "PA",
         "marker": {
          "color": "rgb(215,25,28)"
         },
         "name": "PA",
         "showlegend": false,
         "text": [
          "30.00%",
          "30.00%",
          "0.00%",
          "70.00%",
          "10.00%",
          "20.00%",
          "40.00%"
         ],
         "type": "bar",
         "uid": "4853f408-ba9a-4116-823b-728740084f89",
         "x": [
          "AAP",
          "CD",
          "CEC",
          "CL",
          "CMCT",
          "CSC",
          "SIEE"
         ],
         "xaxis": "x3",
         "y": [
          30,
          30,
          0,
          70,
          10,
          20,
          40
         ],
         "yaxis": "y"
        },
        {
         "hoverinfo": "x+text+name",
         "legendgroup": "AD",
         "marker": {
          "color": "rgb(253,174,97)"
         },
         "name": "AD",
         "showlegend": false,
         "text": [
          "70.00%",
          "70.00%",
          "100.00%",
          "30.00%",
          "80.00%",
          "60.00%",
          "60.00%"
         ],
         "type": "bar",
         "uid": "e8866e66-5c7a-459f-a2cd-7964e720cb03",
         "x": [
          "AAP",
          "CD",
          "CEC",
          "CL",
          "CMCT",
          "CSC",
          "SIEE"
         ],
         "xaxis": "x3",
         "y": [
          70,
          70,
          100,
          30,
          80,
          60,
          60
         ],
         "yaxis": "y"
        },
        {
         "hoverinfo": "x+text+name",
         "legendgroup": "MA",
         "marker": {
          "color": "rgb(171,221,164)"
         },
         "name": "MA",
         "showlegend": false,
         "text": [
          "0.00%",
          "0.00%",
          "0.00%",
          "0.00%",
          "10.00%",
          "20.00%",
          "0.00%"
         ],
         "type": "bar",
         "uid": "10aa7973-deaa-48a3-ae5f-69c30bf548db",
         "x": [
          "AAP",
          "CD",
          "CEC",
          "CL",
          "CMCT",
          "CSC",
          "SIEE"
         ],
         "xaxis": "x3",
         "y": [
          0,
          0,
          0,
          0,
          10,
          20,
          0
         ],
         "yaxis": "y"
        },
        {
         "hoverinfo": "x+text+name",
         "legendgroup": "EX",
         "marker": {
          "color": "rgb(43,131,186)"
         },
         "name": "EX",
         "showlegend": false,
         "text": [
          "0.00%",
          "0.00%",
          "0.00%",
          "0.00%",
          "0.00%",
          "0.00%",
          "0.00%"
         ],
         "type": "bar",
         "uid": "ff288e5c-0384-4fb3-8855-5a9abaa29253",
         "x": [
          "AAP",
          "CD",
          "CEC",
          "CL",
          "CMCT",
          "CSC",
          "SIEE"
         ],
         "xaxis": "x3",
         "y": [
          0,
          0,
          0,
          0,
          0,
          0,
          0
         ],
         "yaxis": "y"
        },
        {
         "hoverinfo": "x+text+name",
         "legendgroup": "PA",
         "marker": {
          "color": "rgb(215,25,28)"
         },
         "name": "PA",
         "showlegend": false,
         "text": [
          "20.67%",
          "8.00%",
          "9.33%",
          "21.67%",
          "24.67%",
          "13.67%",
          "17.67%"
         ],
         "type": "bar",
         "uid": "e489e7f2-cc0a-4970-af6e-225c80cb1fd8",
         "x": [
          "AAP",
          "CD",
          "CEC",
          "CL",
          "CMCT",
          "CSC",
          "SIEE"
         ],
         "xaxis": "x4",
         "y": [
          20.666666666666668,
          8,
          9.333333333333334,
          21.666666666666668,
          24.666666666666668,
          13.666666666666666,
          17.666666666666668
         ],
         "yaxis": "y2"
        },
        {
         "hoverinfo": "x+text+name",
         "legendgroup": "AD",
         "marker": {
          "color": "rgb(253,174,97)"
         },
         "name": "AD",
         "showlegend": false,
         "text": [
          "46.33%",
          "64.00%",
          "62.33%",
          "53.33%",
          "44.33%",
          "56.67%",
          "57.00%"
         ],
         "type": "bar",
         "uid": "718500e2-181e-4f47-9689-492e7970cd05",
         "x": [
          "AAP",
          "CD",
          "CEC",
          "CL",
          "CMCT",
          "CSC",
          "SIEE"
         ],
         "xaxis": "x4",
         "y": [
          46.333333333333336,
          64,
          62.333333333333336,
          53.333333333333336,
          44.333333333333336,
          56.666666666666664,
          57
         ],
         "yaxis": "y2"
        },
        {
         "hoverinfo": "x+text+name",
         "legendgroup": "MA",
         "marker": {
          "color": "rgb(171,221,164)"
         },
         "name": "MA",
         "showlegend": false,
         "text": [
          "22.33%",
          "20.67%",
          "22.33%",
          "15.00%",
          "19.67%",
          "21.00%",
          "21.00%"
         ],
         "type": "bar",
         "uid": "40a5a5e9-33fa-40ca-95bc-3075a70bdc94",
         "x": [
          "AAP",
          "CD",
          "CEC",
          "CL",
          "CMCT",
          "CSC",
          "SIEE"
         ],
         "xaxis": "x4",
         "y": [
          22.333333333333332,
          20.666666666666668,
          22.333333333333332,
          15,
          19.666666666666668,
          21,
          21
         ],
         "yaxis": "y2"
        },
        {
         "hoverinfo": "x+text+name",
         "legendgroup": "EX",
         "marker": {
          "color": "rgb(43,131,186)"
         },
         "name": "EX",
         "showlegend": false,
         "text": [
          "10.33%",
          "7.67%",
          "6.33%",
          "10.00%",
          "11.67%",
          "9.00%",
          "4.67%"
         ],
         "type": "bar",
         "uid": "979e0bf2-5578-425b-9628-b8963a0e4dca",
         "x": [
          "AAP",
          "CD",
          "CEC",
          "CL",
          "CMCT",
          "CSC",
          "SIEE"
         ],
         "xaxis": "x4",
         "y": [
          10.333333333333334,
          7.666666666666667,
          6.333333333333333,
          10,
          11.666666666666666,
          9,
          4.666666666666667
         ],
         "yaxis": "y2"
        },
        {
         "hoverinfo": "x+text+name",
         "legendgroup": "PA",
         "marker": {
          "color": "rgb(215,25,28)"
         },
         "name": "PA",
         "showlegend": false,
         "text": [
          "50.00%",
          "60.00%",
          "20.00%",
          "60.00%",
          "30.00%",
          "30.00%",
          "70.00%"
         ],
         "type": "bar",
         "uid": "917d6c28-3847-477a-bc38-70c48e8c3361",
         "x": [
          "AAP",
          "CD",
          "CEC",
          "CL",
          "CMCT",
          "CSC",
          "SIEE"
         ],
         "xaxis": "x5",
         "y": [
          50,
          60,
          20,
          60,
          30,
          30,
          70
         ],
         "yaxis": "y2"
        },
        {
         "hoverinfo": "x+text+name",
         "legendgroup": "AD",
         "marker": {
          "color": "rgb(253,174,97)"
         },
         "name": "AD",
         "showlegend": false,
         "text": [
          "40.00%",
          "30.00%",
          "70.00%",
          "40.00%",
          "70.00%",
          "60.00%",
          "20.00%"
         ],
         "type": "bar",
         "uid": "ee037741-9744-47e9-84ac-788308c8b3eb",
         "x": [
          "AAP",
          "CD",
          "CEC",
          "CL",
          "CMCT",
          "CSC",
          "SIEE"
         ],
         "xaxis": "x5",
         "y": [
          40,
          30,
          70,
          40,
          70,
          60,
          20
         ],
         "yaxis": "y2"
        },
        {
         "hoverinfo": "x+text+name",
         "legendgroup": "MA",
         "marker": {
          "color": "rgb(171,221,164)"
         },
         "name": "MA",
         "showlegend": false,
         "text": [
          "10.00%",
          "10.00%",
          "10.00%",
          "0.00%",
          "0.00%",
          "10.00%",
          "10.00%"
         ],
         "type": "bar",
         "uid": "ede6577f-aa33-4d0c-a5de-04c13fe28ab8",
         "x": [
          "AAP",
          "CD",
          "CEC",
          "CL",
          "CMCT",
          "CSC",
          "SIEE"
         ],
         "xaxis": "x5",
         "y": [
          10,
          10,
          10,
          0,
          0,
          10,
          10
         ],
         "yaxis": "y2"
        },
        {
         "hoverinfo": "x+text+name",
         "legendgroup": "EX",
         "marker": {
          "color": "rgb(43,131,186)"
         },
         "name": "EX",
         "showlegend": false,
         "text": [
          "0.00%",
          "0.00%",
          "0.00%",
          "0.00%",
          "0.00%",
          "0.00%",
          "0.00%"
         ],
         "type": "bar",
         "uid": "7aee31ab-de8a-4251-93d9-45829be4059c",
         "x": [
          "AAP",
          "CD",
          "CEC",
          "CL",
          "CMCT",
          "CSC",
          "SIEE"
         ],
         "xaxis": "x5",
         "y": [
          0,
          0,
          0,
          0,
          0,
          0,
          0
         ],
         "yaxis": "y2"
        },
        {
         "hoverinfo": "x+text+name",
         "legendgroup": "PA",
         "marker": {
          "color": "rgb(215,25,28)"
         },
         "name": "PA",
         "showlegend": false,
         "text": [
          "16.00%",
          "7.00%",
          "5.50%",
          "27.00%",
          "38.00%",
          "7.00%",
          "14.00%"
         ],
         "type": "bar",
         "uid": "3f2ef1fa-d363-4718-8072-314dcffb16b9",
         "x": [
          "AAP",
          "CD",
          "CEC",
          "CL",
          "CMCT",
          "CSC",
          "SIEE"
         ],
         "xaxis": "x6",
         "y": [
          16,
          7,
          5.5,
          27,
          38,
          7,
          14
         ],
         "yaxis": "y2"
        },
        {
         "hoverinfo": "x+text+name",
         "legendgroup": "AD",
         "marker": {
          "color": "rgb(253,174,97)"
         },
         "name": "AD",
         "showlegend": false,
         "text": [
          "63.00%",
          "62.00%",
          "71.00%",
          "51.50%",
          "34.50%",
          "68.00%",
          "63.00%"
         ],
         "type": "bar",
         "uid": "55925d6f-155b-40b3-953f-667a1398000a",
         "x": [
          "AAP",
          "CD",
          "CEC",
          "CL",
          "CMCT",
          "CSC",
          "SIEE"
         ],
         "xaxis": "x6",
         "y": [
          63,
          62,
          71,
          51.5,
          34.5,
          68,
          63
         ],
         "yaxis": "y2"
        },
        {
         "hoverinfo": "x+text+name",
         "legendgroup": "MA",
         "marker": {
          "color": "rgb(171,221,164)"
         },
         "name": "MA",
         "showlegend": false,
         "text": [
          "15.00%",
          "25.00%",
          "17.50%",
          "11.50%",
          "21.50%",
          "21.00%",
          "15.00%"
         ],
         "type": "bar",
         "uid": "ceb61698-06ee-4dfd-b547-e172bb10530c",
         "x": [
          "AAP",
          "CD",
          "CEC",
          "CL",
          "CMCT",
          "CSC",
          "SIEE"
         ],
         "xaxis": "x6",
         "y": [
          15,
          25,
          17.5,
          11.5,
          21.5,
          21,
          15
         ],
         "yaxis": "y2"
        },
        {
         "hoverinfo": "x+text+name",
         "legendgroup": "EX",
         "marker": {
          "color": "rgb(43,131,186)"
         },
         "name": "EX",
         "showlegend": false,
         "text": [
          "6.00%",
          "6.00%",
          "6.00%",
          "9.50%",
          "6.00%",
          "4.00%",
          "8.00%"
         ],
         "type": "bar",
         "uid": "1a4aa779-82b9-49b6-becd-08881f681936",
         "x": [
          "AAP",
          "CD",
          "CEC",
          "CL",
          "CMCT",
          "CSC",
          "SIEE"
         ],
         "xaxis": "x6",
         "y": [
          6,
          6,
          6,
          9.5,
          6,
          4,
          8
         ],
         "yaxis": "y2"
        }
       ],
       "layout": {
        "annotations": [
         {
          "font": {
           "size": 16
          },
          "showarrow": false,
          "text": "1ESO",
          "x": 0.14444444444444446,
          "xanchor": "center",
          "xref": "paper",
          "y": 1,
          "yanchor": "bottom",
          "yref": "paper"
         },
         {
          "font": {
           "size": 16
          },
          "showarrow": false,
          "text": "2ESO",
          "x": 0.5,
          "xanchor": "center",
          "xref": "paper",
          "y": 1,
          "yanchor": "bottom",
          "yref": "paper"
         },
         {
          "font": {
           "size": 16
          },
          "showarrow": false,
          "text": "1PMAR",
          "x": 0.8555555555555556,
          "xanchor": "center",
          "xref": "paper",
          "y": 1,
          "yanchor": "bottom",
          "yref": "paper"
         },
         {
          "font": {
           "size": 16
          },
          "showarrow": false,
          "text": "3ESO",
          "x": 0.14444444444444446,
          "xanchor": "center",
          "xref": "paper",
          "y": 0.375,
          "yanchor": "bottom",
          "yref": "paper"
         },
         {
          "font": {
           "size": 16
          },
          "showarrow": false,
          "text": "2PMAR",
          "x": 0.5,
          "xanchor": "center",
          "xref": "paper",
          "y": 0.375,
          "yanchor": "bottom",
          "yref": "paper"
         },
         {
          "font": {
           "size": 16
          },
          "showarrow": false,
          "text": "4ESO",
          "x": 0.8555555555555556,
          "xanchor": "center",
          "xref": "paper",
          "y": 0.375,
          "yanchor": "bottom",
          "yref": "paper"
         }
        ],
        "barmode": "group",
        "height": 800,
        "xaxis": {
         "anchor": "y",
         "domain": [
          0,
          0.2888888888888889
         ]
        },
        "xaxis2": {
         "anchor": "free",
         "domain": [
          0.35555555555555557,
          0.6444444444444445
         ],
         "position": 0.625
        },
        "xaxis3": {
         "anchor": "free",
         "domain": [
          0.7111111111111111,
          1
         ],
         "position": 0.625
        },
        "xaxis4": {
         "anchor": "y2",
         "domain": [
          0,
          0.2888888888888889
         ]
        },
        "xaxis5": {
         "anchor": "free",
         "domain": [
          0.35555555555555557,
          0.6444444444444445
         ],
         "position": 0
        },
        "xaxis6": {
         "anchor": "free",
         "domain": [
          0.7111111111111111,
          1
         ],
         "position": 0
        },
        "yaxis": {
         "anchor": "x",
         "domain": [
          0.625,
          1
         ]
        },
        "yaxis2": {
         "anchor": "x4",
         "domain": [
          0,
          0.375
         ]
        }
       }
      },
      "text/html": [
       "<div>\n",
       "        \n",
       "        \n",
       "            <div id=\"171d0100-5eeb-46e0-b0de-79b230dc9a3c\" class=\"plotly-graph-div\" style=\"height:800px; width:100%;\"></div>\n",
       "            <script type=\"text/javascript\">\n",
       "                require([\"plotly\"], function(Plotly) {\n",
       "                    window.PLOTLYENV=window.PLOTLYENV || {};\n",
       "                    window.PLOTLYENV.BASE_URL='https://plot.ly';\n",
       "                    \n",
       "                if (document.getElementById(\"171d0100-5eeb-46e0-b0de-79b230dc9a3c\")) {\n",
       "                    Plotly.newPlot(\n",
       "                        '171d0100-5eeb-46e0-b0de-79b230dc9a3c',\n",
       "                        [{\"hoverinfo\": \"x+text+name\", \"legendgroup\": \"PA\", \"marker\": {\"color\": \"rgb(215,25,28)\"}, \"name\": \"PA\", \"text\": [\"34.00%\", \"17.33%\", \"19.00%\", \"37.33%\", \"32.33%\", \"28.00%\", \"41.00%\"], \"type\": \"bar\", \"uid\": \"3cf2bc3d-d16f-4be0-ba9c-a02b4e9d79df\", \"x\": [\"AAP\", \"CD\", \"CEC\", \"CL\", \"CMCT\", \"CSC\", \"SIEE\"], \"xaxis\": \"x\", \"y\": [34.0, 17.333333333333332, 19.0, 37.333333333333336, 32.333333333333336, 28.0, 41.0], \"yaxis\": \"y\"}, {\"hoverinfo\": \"x+text+name\", \"legendgroup\": \"AD\", \"marker\": {\"color\": \"rgb(253,174,97)\"}, \"name\": \"AD\", \"text\": [\"53.00%\", \"68.00%\", \"66.67%\", \"48.67%\", \"48.67%\", \"65.67%\", \"48.67%\"], \"type\": \"bar\", \"uid\": \"fc113c32-014e-4ad7-916e-755fff369ef1\", \"x\": [\"AAP\", \"CD\", \"CEC\", \"CL\", \"CMCT\", \"CSC\", \"SIEE\"], \"xaxis\": \"x\", \"y\": [53.0, 68.0, 66.66666666666667, 48.666666666666664, 48.666666666666664, 65.66666666666667, 48.666666666666664], \"yaxis\": \"y\"}, {\"hoverinfo\": \"x+text+name\", \"legendgroup\": \"MA\", \"marker\": {\"color\": \"rgb(171,221,164)\"}, \"name\": \"MA\", \"text\": [\"11.33%\", \"13.00%\", \"12.67%\", \"12.33%\", \"14.33%\", \"3.00%\", \"8.67%\"], \"type\": \"bar\", \"uid\": \"0a1e84bc-44bd-4c02-9b93-e976e4b036d1\", \"x\": [\"AAP\", \"CD\", \"CEC\", \"CL\", \"CMCT\", \"CSC\", \"SIEE\"], \"xaxis\": \"x\", \"y\": [11.333333333333334, 13.0, 12.666666666666666, 12.333333333333334, 14.333333333333334, 3.0, 8.666666666666666], \"yaxis\": \"y\"}, {\"hoverinfo\": \"x+text+name\", \"legendgroup\": \"EX\", \"marker\": {\"color\": \"rgb(43,131,186)\"}, \"name\": \"EX\", \"text\": [\"1.67%\", \"1.67%\", \"1.67%\", \"1.67%\", \"4.67%\", \"3.67%\", \"1.67%\"], \"type\": \"bar\", \"uid\": \"0dfedd2a-2022-4db2-8390-b6ec867acdc3\", \"x\": [\"AAP\", \"CD\", \"CEC\", \"CL\", \"CMCT\", \"CSC\", \"SIEE\"], \"xaxis\": \"x\", \"y\": [1.6666666666666667, 1.6666666666666667, 1.6666666666666667, 1.6666666666666667, 4.666666666666667, 3.6666666666666665, 1.6666666666666667], \"yaxis\": \"y\"}, {\"hoverinfo\": \"x+text+name\", \"legendgroup\": \"PA\", \"marker\": {\"color\": \"rgb(215,25,28)\"}, \"name\": \"PA\", \"showlegend\": false, \"text\": [\"22.67%\", \"9.00%\", \"16.00%\", \"24.00%\", \"36.00%\", \"15.67%\", \"24.00%\"], \"type\": \"bar\", \"uid\": \"b82c8730-7244-4be5-9b33-5a1ebe63dd24\", \"x\": [\"AAP\", \"CD\", \"CEC\", \"CL\", \"CMCT\", \"CSC\", \"SIEE\"], \"xaxis\": \"x2\", \"y\": [22.666666666666668, 9.0, 16.0, 24.0, 36.0, 15.666666666666666, 24.0], \"yaxis\": \"y\"}, {\"hoverinfo\": \"x+text+name\", \"legendgroup\": \"AD\", \"marker\": {\"color\": \"rgb(253,174,97)\"}, \"name\": \"AD\", \"showlegend\": false, \"text\": [\"46.00%\", \"65.67%\", \"54.00%\", \"43.33%\", \"34.67%\", \"56.67%\", \"45.00%\"], \"type\": \"bar\", \"uid\": \"686a2712-998f-4ebb-aa76-94c95bf4579c\", \"x\": [\"AAP\", \"CD\", \"CEC\", \"CL\", \"CMCT\", \"CSC\", \"SIEE\"], \"xaxis\": \"x2\", \"y\": [46.0, 65.66666666666667, 54.0, 43.333333333333336, 34.666666666666664, 56.666666666666664, 45.0], \"yaxis\": \"y\"}, {\"hoverinfo\": \"x+text+name\", \"legendgroup\": \"MA\", \"marker\": {\"color\": \"rgb(171,221,164)\"}, \"name\": \"MA\", \"showlegend\": false, \"text\": [\"21.67%\", \"20.67%\", \"20.67%\", \"26.67%\", \"25.00%\", \"22.00%\", \"22.00%\"], \"type\": \"bar\", \"uid\": \"3aaf2bea-165c-4614-b470-20cdc58ece42\", \"x\": [\"AAP\", \"CD\", \"CEC\", \"CL\", \"CMCT\", \"CSC\", \"SIEE\"], \"xaxis\": \"x2\", \"y\": [21.666666666666668, 20.666666666666668, 20.666666666666668, 26.666666666666668, 25.0, 22.0, 22.0], \"yaxis\": \"y\"}, {\"hoverinfo\": \"x+text+name\", \"legendgroup\": \"EX\", \"marker\": {\"color\": \"rgb(43,131,186)\"}, \"name\": \"EX\", \"showlegend\": false, \"text\": [\"9.33%\", \"4.33%\", \"9.00%\", \"5.67%\", \"4.67%\", \"5.67%\", \"9.00%\"], \"type\": \"bar\", \"uid\": \"468dee9d-5862-45ed-a014-327f94e4d7d3\", \"x\": [\"AAP\", \"CD\", \"CEC\", \"CL\", \"CMCT\", \"CSC\", \"SIEE\"], \"xaxis\": \"x2\", \"y\": [9.333333333333334, 4.333333333333333, 9.0, 5.666666666666667, 4.666666666666667, 5.666666666666667, 9.0], \"yaxis\": \"y\"}, {\"hoverinfo\": \"x+text+name\", \"legendgroup\": \"PA\", \"marker\": {\"color\": \"rgb(215,25,28)\"}, \"name\": \"PA\", \"showlegend\": false, \"text\": [\"30.00%\", \"30.00%\", \"0.00%\", \"70.00%\", \"10.00%\", \"20.00%\", \"40.00%\"], \"type\": \"bar\", \"uid\": \"e0f941e3-4016-41d3-acbd-9826f12b72ad\", \"x\": [\"AAP\", \"CD\", \"CEC\", \"CL\", \"CMCT\", \"CSC\", \"SIEE\"], \"xaxis\": \"x3\", \"y\": [30.0, 30.0, 0.0, 70.0, 10.0, 20.0, 40.0], \"yaxis\": \"y\"}, {\"hoverinfo\": \"x+text+name\", \"legendgroup\": \"AD\", \"marker\": {\"color\": \"rgb(253,174,97)\"}, \"name\": \"AD\", \"showlegend\": false, \"text\": [\"70.00%\", \"70.00%\", \"100.00%\", \"30.00%\", \"80.00%\", \"60.00%\", \"60.00%\"], \"type\": \"bar\", \"uid\": \"e7c279a3-6d3f-4c87-b50c-66df15ff5701\", \"x\": [\"AAP\", \"CD\", \"CEC\", \"CL\", \"CMCT\", \"CSC\", \"SIEE\"], \"xaxis\": \"x3\", \"y\": [70.0, 70.0, 100.0, 30.0, 80.0, 60.0, 60.0], \"yaxis\": \"y\"}, {\"hoverinfo\": \"x+text+name\", \"legendgroup\": \"MA\", \"marker\": {\"color\": \"rgb(171,221,164)\"}, \"name\": \"MA\", \"showlegend\": false, \"text\": [\"0.00%\", \"0.00%\", \"0.00%\", \"0.00%\", \"10.00%\", \"20.00%\", \"0.00%\"], \"type\": \"bar\", \"uid\": \"8166342a-cc4e-4bee-a180-8d903cbbe607\", \"x\": [\"AAP\", \"CD\", \"CEC\", \"CL\", \"CMCT\", \"CSC\", \"SIEE\"], \"xaxis\": \"x3\", \"y\": [0.0, 0.0, 0.0, 0.0, 10.0, 20.0, 0.0], \"yaxis\": \"y\"}, {\"hoverinfo\": \"x+text+name\", \"legendgroup\": \"EX\", \"marker\": {\"color\": \"rgb(43,131,186)\"}, \"name\": \"EX\", \"showlegend\": false, \"text\": [\"0.00%\", \"0.00%\", \"0.00%\", \"0.00%\", \"0.00%\", \"0.00%\", \"0.00%\"], \"type\": \"bar\", \"uid\": \"77ccb5a3-8f5d-4a8e-a09d-a91931029415\", \"x\": [\"AAP\", \"CD\", \"CEC\", \"CL\", \"CMCT\", \"CSC\", \"SIEE\"], \"xaxis\": \"x3\", \"y\": [0.0, 0.0, 0.0, 0.0, 0.0, 0.0, 0.0], \"yaxis\": \"y\"}, {\"hoverinfo\": \"x+text+name\", \"legendgroup\": \"PA\", \"marker\": {\"color\": \"rgb(215,25,28)\"}, \"name\": \"PA\", \"showlegend\": false, \"text\": [\"20.67%\", \"8.00%\", \"9.33%\", \"21.67%\", \"24.67%\", \"13.67%\", \"17.67%\"], \"type\": \"bar\", \"uid\": \"37925b72-468a-48ee-ac60-96a59f763e1e\", \"x\": [\"AAP\", \"CD\", \"CEC\", \"CL\", \"CMCT\", \"CSC\", \"SIEE\"], \"xaxis\": \"x4\", \"y\": [20.666666666666668, 8.0, 9.333333333333334, 21.666666666666668, 24.666666666666668, 13.666666666666666, 17.666666666666668], \"yaxis\": \"y2\"}, {\"hoverinfo\": \"x+text+name\", \"legendgroup\": \"AD\", \"marker\": {\"color\": \"rgb(253,174,97)\"}, \"name\": \"AD\", \"showlegend\": false, \"text\": [\"46.33%\", \"64.00%\", \"62.33%\", \"53.33%\", \"44.33%\", \"56.67%\", \"57.00%\"], \"type\": \"bar\", \"uid\": \"79306e2b-197c-4ce7-a72c-42c162879f7c\", \"x\": [\"AAP\", \"CD\", \"CEC\", \"CL\", \"CMCT\", \"CSC\", \"SIEE\"], \"xaxis\": \"x4\", \"y\": [46.333333333333336, 64.0, 62.333333333333336, 53.333333333333336, 44.333333333333336, 56.666666666666664, 57.0], \"yaxis\": \"y2\"}, {\"hoverinfo\": \"x+text+name\", \"legendgroup\": \"MA\", \"marker\": {\"color\": \"rgb(171,221,164)\"}, \"name\": \"MA\", \"showlegend\": false, \"text\": [\"22.33%\", \"20.67%\", \"22.33%\", \"15.00%\", \"19.67%\", \"21.00%\", \"21.00%\"], \"type\": \"bar\", \"uid\": \"e08e8128-4928-42ea-9a8b-92cae861568f\", \"x\": [\"AAP\", \"CD\", \"CEC\", \"CL\", \"CMCT\", \"CSC\", \"SIEE\"], \"xaxis\": \"x4\", \"y\": [22.333333333333332, 20.666666666666668, 22.333333333333332, 15.0, 19.666666666666668, 21.0, 21.0], \"yaxis\": \"y2\"}, {\"hoverinfo\": \"x+text+name\", \"legendgroup\": \"EX\", \"marker\": {\"color\": \"rgb(43,131,186)\"}, \"name\": \"EX\", \"showlegend\": false, \"text\": [\"10.33%\", \"7.67%\", \"6.33%\", \"10.00%\", \"11.67%\", \"9.00%\", \"4.67%\"], \"type\": \"bar\", \"uid\": \"5916acf4-6f5c-4618-830f-0b33f6a46e05\", \"x\": [\"AAP\", \"CD\", \"CEC\", \"CL\", \"CMCT\", \"CSC\", \"SIEE\"], \"xaxis\": \"x4\", \"y\": [10.333333333333334, 7.666666666666667, 6.333333333333333, 10.0, 11.666666666666666, 9.0, 4.666666666666667], \"yaxis\": \"y2\"}, {\"hoverinfo\": \"x+text+name\", \"legendgroup\": \"PA\", \"marker\": {\"color\": \"rgb(215,25,28)\"}, \"name\": \"PA\", \"showlegend\": false, \"text\": [\"50.00%\", \"60.00%\", \"20.00%\", \"60.00%\", \"30.00%\", \"30.00%\", \"70.00%\"], \"type\": \"bar\", \"uid\": \"66946949-ac15-401d-b99a-372206db3ba9\", \"x\": [\"AAP\", \"CD\", \"CEC\", \"CL\", \"CMCT\", \"CSC\", \"SIEE\"], \"xaxis\": \"x5\", \"y\": [50.0, 60.0, 20.0, 60.0, 30.0, 30.0, 70.0], \"yaxis\": \"y2\"}, {\"hoverinfo\": \"x+text+name\", \"legendgroup\": \"AD\", \"marker\": {\"color\": \"rgb(253,174,97)\"}, \"name\": \"AD\", \"showlegend\": false, \"text\": [\"40.00%\", \"30.00%\", \"70.00%\", \"40.00%\", \"70.00%\", \"60.00%\", \"20.00%\"], \"type\": \"bar\", \"uid\": \"d3b4140d-3f95-4967-9f99-77fd9ecca623\", \"x\": [\"AAP\", \"CD\", \"CEC\", \"CL\", \"CMCT\", \"CSC\", \"SIEE\"], \"xaxis\": \"x5\", \"y\": [40.0, 30.0, 70.0, 40.0, 70.0, 60.0, 20.0], \"yaxis\": \"y2\"}, {\"hoverinfo\": \"x+text+name\", \"legendgroup\": \"MA\", \"marker\": {\"color\": \"rgb(171,221,164)\"}, \"name\": \"MA\", \"showlegend\": false, \"text\": [\"10.00%\", \"10.00%\", \"10.00%\", \"0.00%\", \"0.00%\", \"10.00%\", \"10.00%\"], \"type\": \"bar\", \"uid\": \"2d332823-a8bc-4c77-8ba9-b332aa035123\", \"x\": [\"AAP\", \"CD\", \"CEC\", \"CL\", \"CMCT\", \"CSC\", \"SIEE\"], \"xaxis\": \"x5\", \"y\": [10.0, 10.0, 10.0, 0.0, 0.0, 10.0, 10.0], \"yaxis\": \"y2\"}, {\"hoverinfo\": \"x+text+name\", \"legendgroup\": \"EX\", \"marker\": {\"color\": \"rgb(43,131,186)\"}, \"name\": \"EX\", \"showlegend\": false, \"text\": [\"0.00%\", \"0.00%\", \"0.00%\", \"0.00%\", \"0.00%\", \"0.00%\", \"0.00%\"], \"type\": \"bar\", \"uid\": \"fb511c36-e373-488a-a8b1-dbf7aaa3cacb\", \"x\": [\"AAP\", \"CD\", \"CEC\", \"CL\", \"CMCT\", \"CSC\", \"SIEE\"], \"xaxis\": \"x5\", \"y\": [0.0, 0.0, 0.0, 0.0, 0.0, 0.0, 0.0], \"yaxis\": \"y2\"}, {\"hoverinfo\": \"x+text+name\", \"legendgroup\": \"PA\", \"marker\": {\"color\": \"rgb(215,25,28)\"}, \"name\": \"PA\", \"showlegend\": false, \"text\": [\"16.00%\", \"7.00%\", \"5.50%\", \"27.00%\", \"38.00%\", \"7.00%\", \"14.00%\"], \"type\": \"bar\", \"uid\": \"0ecc1cc7-7725-4776-9ce1-56984b74b0ef\", \"x\": [\"AAP\", \"CD\", \"CEC\", \"CL\", \"CMCT\", \"CSC\", \"SIEE\"], \"xaxis\": \"x6\", \"y\": [16.0, 7.0, 5.5, 27.0, 38.0, 7.0, 14.0], \"yaxis\": \"y2\"}, {\"hoverinfo\": \"x+text+name\", \"legendgroup\": \"AD\", \"marker\": {\"color\": \"rgb(253,174,97)\"}, \"name\": \"AD\", \"showlegend\": false, \"text\": [\"63.00%\", \"62.00%\", \"71.00%\", \"51.50%\", \"34.50%\", \"68.00%\", \"63.00%\"], \"type\": \"bar\", \"uid\": \"07e55118-6c57-4b3b-9103-608198504f61\", \"x\": [\"AAP\", \"CD\", \"CEC\", \"CL\", \"CMCT\", \"CSC\", \"SIEE\"], \"xaxis\": \"x6\", \"y\": [63.0, 62.0, 71.0, 51.5, 34.5, 68.0, 63.0], \"yaxis\": \"y2\"}, {\"hoverinfo\": \"x+text+name\", \"legendgroup\": \"MA\", \"marker\": {\"color\": \"rgb(171,221,164)\"}, \"name\": \"MA\", \"showlegend\": false, \"text\": [\"15.00%\", \"25.00%\", \"17.50%\", \"11.50%\", \"21.50%\", \"21.00%\", \"15.00%\"], \"type\": \"bar\", \"uid\": \"34db3baa-b9ef-4e44-b0c7-4cc777927e9d\", \"x\": [\"AAP\", \"CD\", \"CEC\", \"CL\", \"CMCT\", \"CSC\", \"SIEE\"], \"xaxis\": \"x6\", \"y\": [15.0, 25.0, 17.5, 11.5, 21.5, 21.0, 15.0], \"yaxis\": \"y2\"}, {\"hoverinfo\": \"x+text+name\", \"legendgroup\": \"EX\", \"marker\": {\"color\": \"rgb(43,131,186)\"}, \"name\": \"EX\", \"showlegend\": false, \"text\": [\"6.00%\", \"6.00%\", \"6.00%\", \"9.50%\", \"6.00%\", \"4.00%\", \"8.00%\"], \"type\": \"bar\", \"uid\": \"143e3fa9-ae38-4d02-a2d8-44540f88c37b\", \"x\": [\"AAP\", \"CD\", \"CEC\", \"CL\", \"CMCT\", \"CSC\", \"SIEE\"], \"xaxis\": \"x6\", \"y\": [6.0, 6.0, 6.0, 9.5, 6.0, 4.0, 8.0], \"yaxis\": \"y2\"}],\n",
       "                        {\"annotations\": [{\"font\": {\"size\": 16}, \"showarrow\": false, \"text\": \"1ESO\", \"x\": 0.14444444444444446, \"xanchor\": \"center\", \"xref\": \"paper\", \"y\": 1.0, \"yanchor\": \"bottom\", \"yref\": \"paper\"}, {\"font\": {\"size\": 16}, \"showarrow\": false, \"text\": \"2ESO\", \"x\": 0.5, \"xanchor\": \"center\", \"xref\": \"paper\", \"y\": 1.0, \"yanchor\": \"bottom\", \"yref\": \"paper\"}, {\"font\": {\"size\": 16}, \"showarrow\": false, \"text\": \"1PMAR\", \"x\": 0.8555555555555556, \"xanchor\": \"center\", \"xref\": \"paper\", \"y\": 1.0, \"yanchor\": \"bottom\", \"yref\": \"paper\"}, {\"font\": {\"size\": 16}, \"showarrow\": false, \"text\": \"3ESO\", \"x\": 0.14444444444444446, \"xanchor\": \"center\", \"xref\": \"paper\", \"y\": 0.375, \"yanchor\": \"bottom\", \"yref\": \"paper\"}, {\"font\": {\"size\": 16}, \"showarrow\": false, \"text\": \"2PMAR\", \"x\": 0.5, \"xanchor\": \"center\", \"xref\": \"paper\", \"y\": 0.375, \"yanchor\": \"bottom\", \"yref\": \"paper\"}, {\"font\": {\"size\": 16}, \"showarrow\": false, \"text\": \"4ESO\", \"x\": 0.8555555555555556, \"xanchor\": \"center\", \"xref\": \"paper\", \"y\": 0.375, \"yanchor\": \"bottom\", \"yref\": \"paper\"}], \"barmode\": \"group\", \"height\": 800, \"xaxis\": {\"anchor\": \"y\", \"domain\": [0.0, 0.2888888888888889]}, \"xaxis2\": {\"anchor\": \"free\", \"domain\": [0.35555555555555557, 0.6444444444444445], \"position\": 0.625}, \"xaxis3\": {\"anchor\": \"free\", \"domain\": [0.7111111111111111, 1.0], \"position\": 0.625}, \"xaxis4\": {\"anchor\": \"y2\", \"domain\": [0.0, 0.2888888888888889]}, \"xaxis5\": {\"anchor\": \"free\", \"domain\": [0.35555555555555557, 0.6444444444444445], \"position\": 0.0}, \"xaxis6\": {\"anchor\": \"free\", \"domain\": [0.7111111111111111, 1.0], \"position\": 0.0}, \"yaxis\": {\"anchor\": \"x\", \"domain\": [0.625, 1.0]}, \"yaxis2\": {\"anchor\": \"x4\", \"domain\": [0.0, 0.375]}},\n",
       "                        {\"showLink\": false, \"linkText\": \"Export to plot.ly\", \"plotlyServerURL\": \"https://plot.ly\", \"responsive\": true}\n",
       "                    ).then(function(){\n",
       "                            \n",
       "var gd = document.getElementById('171d0100-5eeb-46e0-b0de-79b230dc9a3c');\n",
       "var x = new MutationObserver(function (mutations, observer) {{\n",
       "        var display = window.getComputedStyle(gd).display;\n",
       "        if (!display || display === 'none') {{\n",
       "            console.log([gd, 'removed!']);\n",
       "            Plotly.purge(gd);\n",
       "            observer.disconnect();\n",
       "        }}\n",
       "}});\n",
       "\n",
       "// Listen for the removal of the full notebook cells\n",
       "var notebookContainer = gd.closest('#notebook-container');\n",
       "if (notebookContainer) {{\n",
       "    x.observe(notebookContainer, {childList: true});\n",
       "}}\n",
       "\n",
       "// Listen for the clearing of the current output cell\n",
       "var outputEl = gd.closest('.output');\n",
       "if (outputEl) {{\n",
       "    x.observe(outputEl, {childList: true});\n",
       "}}\n",
       "\n",
       "                        })\n",
       "                };\n",
       "                });\n",
       "            </script>\n",
       "        </div>"
      ]
     },
     "metadata": {},
     "output_type": "display_data"
    }
   ],
   "source": [
    "myplotly.bc_bar(dfc_bc)"
   ]
  },
  {
   "cell_type": "markdown",
   "metadata": {},
   "source": [
    "## Análisis simplificado por competencias básicas"
   ]
  },
  {
   "cell_type": "code",
   "execution_count": 28,
   "metadata": {
    "scrolled": true
   },
   "outputs": [],
   "source": [
    "dfc_bc_marked = dfc_bc.groupby(['nivel', 'item']).mean().reset_index().pivot('item', 'nivel', 'marca')"
   ]
  },
  {
   "cell_type": "code",
   "execution_count": 29,
   "metadata": {
    "scrolled": true
   },
   "outputs": [
    {
     "data": {
      "application/vnd.plotly.v1+json": {
       "config": {
        "linkText": "Export to plot.ly",
        "plotlyServerURL": "https://plot.ly",
        "responsive": true,
        "showLink": false
       },
       "data": [
        {
         "colorbar": {
          "ticks": "outside"
         },
         "colorscale": [
          [
           0,
           "rgb(215,25,28)"
          ],
          [
           0.30000000000000004,
           "rgb(215,25,28)"
          ],
          [
           0.30000000000000004,
           "rgb(253,174,97)"
          ],
          [
           0.7000000000000001,
           "rgb(253,174,97)"
          ],
          [
           0.7000000000000001,
           "rgb(166,217,106)"
          ],
          [
           0.9,
           "rgb(166,217,106)"
          ],
          [
           0.9,
           "rgb(26,150,65)"
          ],
          [
           1,
           "rgb(26,150,65)"
          ]
         ],
         "type": "heatmap",
         "uid": "a58c5f27-7983-4b58-8a61-6c4e6e54e51f",
         "x": [
          "AAP",
          "CD",
          "CEC",
          "CL",
          "CMCT",
          "CSC",
          "SIEE"
         ],
         "y": [
          "1ESO",
          "1PMAR",
          "2ESO",
          "2PMAR",
          "3ESO",
          "4ESO"
         ],
         "z": [
          [
           4.516666666666667,
           4.9750000000000005,
           4.925,
           4.458333333333333,
           4.783333333333334,
           4.575,
           4.2749999999999995
          ],
          [
           4.25,
           4.25,
           5,
           3.25,
           5,
           5,
           4
          ],
          [
           5.425,
           5.491666666666667,
           5.550000000000001,
           5.333333333333333,
           4.9750000000000005,
           5.441666666666666,
           5.400000000000001
          ],
          [
           4,
           3.75,
           4.75,
           3.5,
           4.25,
           4.5,
           3.5
          ],
          [
           5.541666666666667,
           5.716666666666668,
           5.658333333333334,
           5.333333333333333,
           5.4750000000000005,
           5.650000000000001,
           5.333333333333333
          ],
          [
           5.275,
           5.75,
           5.6,
           5.0625,
           4.8875,
           5.550000000000001,
           5.425
          ]
         ]
        }
       ],
       "layout": {
        "height": 600,
        "width": 600
       }
      },
      "text/html": [
       "<div>\n",
       "        \n",
       "        \n",
       "            <div id=\"dd3e416e-4cd7-4f31-8298-8f47c089b492\" class=\"plotly-graph-div\" style=\"height:600px; width:600px;\"></div>\n",
       "            <script type=\"text/javascript\">\n",
       "                require([\"plotly\"], function(Plotly) {\n",
       "                    window.PLOTLYENV=window.PLOTLYENV || {};\n",
       "                    window.PLOTLYENV.BASE_URL='https://plot.ly';\n",
       "                    \n",
       "                if (document.getElementById(\"dd3e416e-4cd7-4f31-8298-8f47c089b492\")) {\n",
       "                    Plotly.newPlot(\n",
       "                        'dd3e416e-4cd7-4f31-8298-8f47c089b492',\n",
       "                        [{\"colorbar\": {\"ticks\": \"outside\"}, \"colorscale\": [[0.0, \"rgb(215,25,28)\"], [0.30000000000000004, \"rgb(215,25,28)\"], [0.30000000000000004, \"rgb(253,174,97)\"], [0.7000000000000001, \"rgb(253,174,97)\"], [0.7000000000000001, \"rgb(166,217,106)\"], [0.9, \"rgb(166,217,106)\"], [0.9, \"rgb(26,150,65)\"], [1.0, \"rgb(26,150,65)\"]], \"type\": \"heatmap\", \"uid\": \"4634a80d-c619-4a44-9aec-729622d1d098\", \"x\": [\"AAP\", \"CD\", \"CEC\", \"CL\", \"CMCT\", \"CSC\", \"SIEE\"], \"y\": [\"1ESO\", \"1PMAR\", \"2ESO\", \"2PMAR\", \"3ESO\", \"4ESO\"], \"z\": [[4.516666666666667, 4.9750000000000005, 4.925, 4.458333333333333, 4.783333333333334, 4.575, 4.2749999999999995], [4.25, 4.25, 5.0, 3.25, 5.0, 5.0, 4.0], [5.425, 5.491666666666667, 5.550000000000001, 5.333333333333333, 4.9750000000000005, 5.441666666666666, 5.400000000000001], [4.0, 3.75, 4.75, 3.5, 4.25, 4.5, 3.5], [5.541666666666667, 5.716666666666668, 5.658333333333334, 5.333333333333333, 5.4750000000000005, 5.650000000000001, 5.333333333333333], [5.275, 5.75, 5.6, 5.0625, 4.8875, 5.550000000000001, 5.425]]}],\n",
       "                        {\"height\": 600, \"width\": 600},\n",
       "                        {\"showLink\": false, \"linkText\": \"Export to plot.ly\", \"plotlyServerURL\": \"https://plot.ly\", \"responsive\": true}\n",
       "                    ).then(function(){\n",
       "                            \n",
       "var gd = document.getElementById('dd3e416e-4cd7-4f31-8298-8f47c089b492');\n",
       "var x = new MutationObserver(function (mutations, observer) {{\n",
       "        var display = window.getComputedStyle(gd).display;\n",
       "        if (!display || display === 'none') {{\n",
       "            console.log([gd, 'removed!']);\n",
       "            Plotly.purge(gd);\n",
       "            observer.disconnect();\n",
       "        }}\n",
       "}});\n",
       "\n",
       "// Listen for the removal of the full notebook cells\n",
       "var notebookContainer = gd.closest('#notebook-container');\n",
       "if (notebookContainer) {{\n",
       "    x.observe(notebookContainer, {childList: true});\n",
       "}}\n",
       "\n",
       "// Listen for the clearing of the current output cell\n",
       "var outputEl = gd.closest('.output');\n",
       "if (outputEl) {{\n",
       "    x.observe(outputEl, {childList: true});\n",
       "}}\n",
       "\n",
       "                        })\n",
       "                };\n",
       "                });\n",
       "            </script>\n",
       "        </div>"
      ]
     },
     "metadata": {},
     "output_type": "display_data"
    }
   ],
   "source": [
    "colors = cl.scales['4']['div']['RdYlGn']\n",
    "thresholds = utils.normalize_thresholds(dfc_bc_marked, [4, 5, 5.5])\n",
    "colorscale = utils.make_colorscale(colors, thresholds, discrete=True)\n",
    "\n",
    "myplotly.heatmap(dfc_bc_marked.index, dfc_bc_marked.columns, dfc_bc_marked.values.T, colorscale)"
   ]
  },
  {
   "cell_type": "markdown",
   "metadata": {},
   "source": [
    "### Nivel competencial resumen por nivel"
   ]
  },
  {
   "cell_type": "code",
   "execution_count": 30,
   "metadata": {
    "scrolled": false
   },
   "outputs": [
    {
     "data": {
      "text/plain": [
       "nivel\n",
       "3ESO     5.529762\n",
       "2ESO     5.373810\n",
       "4ESO     5.364286\n",
       "1ESO     4.644048\n",
       "1PMAR    4.392857\n",
       "2PMAR    4.035714\n",
       "Name: marca, dtype: float64"
      ]
     },
     "execution_count": 30,
     "metadata": {},
     "output_type": "execute_result"
    }
   ],
   "source": [
    "dfc_bc['marca'].groupby(dfc_bc['nivel']).mean().sort_values(ascending=False)"
   ]
  },
  {
   "cell_type": "markdown",
   "metadata": {},
   "source": [
    "### Nivel competencial resumen por competencias básicas"
   ]
  },
  {
   "cell_type": "code",
   "execution_count": 31,
   "metadata": {
    "scrolled": false
   },
   "outputs": [
    {
     "data": {
      "text/plain": [
       "item\n",
       "CEC     5.334615\n",
       "CD      5.234615\n",
       "CSC     5.200000\n",
       "AAP     5.019231\n",
       "CMCT    4.978846\n",
       "SIEE    4.875000\n",
       "CL      4.788462\n",
       "Name: marca, dtype: float64"
      ]
     },
     "execution_count": 31,
     "metadata": {},
     "output_type": "execute_result"
    }
   ],
   "source": [
    "dfc_bc['marca'].groupby(dfc_bc['item']).mean().sort_values(ascending=False)"
   ]
  },
  {
   "cell_type": "markdown",
   "metadata": {},
   "source": [
    "### Máximo nivel competencial"
   ]
  },
  {
   "cell_type": "code",
   "execution_count": 32,
   "metadata": {
    "scrolled": false
   },
   "outputs": [
    {
     "data": {
      "text/plain": [
       "item      CD\n",
       "marca    6.4\n",
       "Name: ESO4A, dtype: object"
      ]
     },
     "execution_count": 32,
     "metadata": {},
     "output_type": "execute_result"
    }
   ],
   "source": [
    "dfc_bc.iloc[dfc_bc.reset_index()['marca'].idxmax()][['item', 'marca']]"
   ]
  },
  {
   "cell_type": "markdown",
   "metadata": {},
   "source": [
    "### Mínimo nivel competencial"
   ]
  },
  {
   "cell_type": "code",
   "execution_count": 33,
   "metadata": {
    "scrolled": false
   },
   "outputs": [
    {
     "data": {
      "text/plain": [
       "item       CL\n",
       "marca    3.25\n",
       "Name: ESO2D, dtype: object"
      ]
     },
     "execution_count": 33,
     "metadata": {},
     "output_type": "execute_result"
    }
   ],
   "source": [
    "dfc_bc.iloc[dfc_bc.reset_index()['marca'].idxmin()][['item', 'marca']]"
   ]
  },
  {
   "cell_type": "markdown",
   "metadata": {},
   "source": [
    "## Evolución de los niveles competenciales"
   ]
  },
  {
   "cell_type": "code",
   "execution_count": 34,
   "metadata": {},
   "outputs": [
    {
     "data": {
      "application/vnd.plotly.v1+json": {
       "config": {
        "linkText": "Export to plot.ly",
        "plotlyServerURL": "https://plot.ly",
        "responsive": true,
        "showLink": false
       },
       "data": [
        {
         "hoverinfo": "x+name+text",
         "line": {
          "width": 3
         },
         "marker": {
          "size": 8
         },
         "name": "AAP",
         "text": [
          "4.63",
          "4.48",
          "4.82"
         ],
         "type": "scatter",
         "uid": "b23ba9de-820c-42be-9689-8128a2021a5b",
         "x": [
          "C1617",
          "C1718",
          "C1819"
         ],
         "y": [
          4.634722222222222,
          4.476282051282052,
          4.817307692307693
         ]
        },
        {
         "hoverinfo": "x+name+text",
         "line": {
          "width": 3
         },
         "marker": {
          "size": 8
         },
         "name": "CD",
         "text": [
          "5.00",
          "4.90",
          "5.06"
         ],
         "type": "scatter",
         "uid": "ca27d838-e265-4e3e-a45f-ad98b0336ce5",
         "x": [
          "C1617",
          "C1718",
          "C1819"
         ],
         "y": [
          4.995833333333334,
          4.896153846153845,
          5.061538461538462
         ]
        },
        {
         "hoverinfo": "x+name+text",
         "line": {
          "width": 3
         },
         "marker": {
          "size": 8
         },
         "name": "CEC",
         "text": [
          "5.13",
          "4.97",
          "5.09"
         ],
         "type": "scatter",
         "uid": "177c5022-51d6-438d-a854-4e81c22ab65b",
         "x": [
          "C1617",
          "C1718",
          "C1819"
         ],
         "y": [
          5.127777777777779,
          4.966666666666668,
          5.087179487179486
         ]
        },
        {
         "hoverinfo": "x+name+text",
         "line": {
          "width": 3
         },
         "marker": {
          "size": 8
         },
         "name": "CL",
         "text": [
          "4.53",
          "4.49",
          "4.58"
         ],
         "type": "scatter",
         "uid": "cc0600d4-54be-4e69-b9db-45202cd08e68",
         "x": [
          "C1617",
          "C1718",
          "C1819"
         ],
         "y": [
          4.528472222222222,
          4.487820512820513,
          4.583333333333334
         ]
        },
        {
         "hoverinfo": "x+name+text",
         "line": {
          "width": 3
         },
         "marker": {
          "size": 8
         },
         "name": "CMCT",
         "text": [
          "4.51",
          "4.44",
          "4.62"
         ],
         "type": "scatter",
         "uid": "f9a0b1a5-8727-45a7-a51a-5959540e2468",
         "x": [
          "C1617",
          "C1718",
          "C1819"
         ],
         "y": [
          4.512499999999999,
          4.435897435897437,
          4.620512820512821
         ]
        },
        {
         "hoverinfo": "x+name+text",
         "line": {
          "width": 3
         },
         "marker": {
          "size": 8
         },
         "name": "CSC",
         "text": [
          "4.97",
          "4.92",
          "4.91"
         ],
         "type": "scatter",
         "uid": "84873a44-5a07-48fc-ad53-f047426633b4",
         "x": [
          "C1617",
          "C1718",
          "C1819"
         ],
         "y": [
          4.965972222222224,
          4.919871794871794,
          4.9096153846153845
         ]
        },
        {
         "hoverinfo": "x+name+text",
         "line": {
          "width": 3
         },
         "marker": {
          "size": 8
         },
         "name": "SIEE",
         "text": [
          "4.78",
          "4.53",
          "4.69"
         ],
         "type": "scatter",
         "uid": "ec73cc11-fee8-4351-a5ed-30c005517dfb",
         "x": [
          "C1617",
          "C1718",
          "C1819"
         ],
         "y": [
          4.778472222222224,
          4.528846153846154,
          4.686538461538462
         ]
        }
       ],
       "layout": {
        "height": 600,
        "width": 600,
        "xaxis": {
         "title": {
          "text": "Curso escolar"
         }
        },
        "yaxis": {
         "title": {
          "text": "Valoración CCBB"
         }
        }
       }
      },
      "text/html": [
       "<div>\n",
       "        \n",
       "        \n",
       "            <div id=\"ad7ca7f6-e842-47e8-a580-9813fc3423c1\" class=\"plotly-graph-div\" style=\"height:600px; width:600px;\"></div>\n",
       "            <script type=\"text/javascript\">\n",
       "                require([\"plotly\"], function(Plotly) {\n",
       "                    window.PLOTLYENV=window.PLOTLYENV || {};\n",
       "                    window.PLOTLYENV.BASE_URL='https://plot.ly';\n",
       "                    \n",
       "                if (document.getElementById(\"ad7ca7f6-e842-47e8-a580-9813fc3423c1\")) {\n",
       "                    Plotly.newPlot(\n",
       "                        'ad7ca7f6-e842-47e8-a580-9813fc3423c1',\n",
       "                        [{\"hoverinfo\": \"x+name+text\", \"line\": {\"width\": 3}, \"marker\": {\"size\": 8}, \"name\": \"AAP\", \"text\": [\"4.63\", \"4.48\", \"4.82\"], \"type\": \"scatter\", \"uid\": \"96326522-b95d-4bb4-9f44-a173a1de201a\", \"x\": [\"C1617\", \"C1718\", \"C1819\"], \"y\": [4.634722222222222, 4.476282051282052, 4.817307692307693]}, {\"hoverinfo\": \"x+name+text\", \"line\": {\"width\": 3}, \"marker\": {\"size\": 8}, \"name\": \"CD\", \"text\": [\"5.00\", \"4.90\", \"5.06\"], \"type\": \"scatter\", \"uid\": \"1b3e43a7-8085-4bed-98d6-ba674a6c879c\", \"x\": [\"C1617\", \"C1718\", \"C1819\"], \"y\": [4.995833333333334, 4.896153846153845, 5.061538461538462]}, {\"hoverinfo\": \"x+name+text\", \"line\": {\"width\": 3}, \"marker\": {\"size\": 8}, \"name\": \"CEC\", \"text\": [\"5.13\", \"4.97\", \"5.09\"], \"type\": \"scatter\", \"uid\": \"73941aae-47b7-464f-9d33-d35ab5eb9ca8\", \"x\": [\"C1617\", \"C1718\", \"C1819\"], \"y\": [5.127777777777779, 4.966666666666668, 5.087179487179486]}, {\"hoverinfo\": \"x+name+text\", \"line\": {\"width\": 3}, \"marker\": {\"size\": 8}, \"name\": \"CL\", \"text\": [\"4.53\", \"4.49\", \"4.58\"], \"type\": \"scatter\", \"uid\": \"8f5976ba-c574-4119-814e-cd4ecd11106d\", \"x\": [\"C1617\", \"C1718\", \"C1819\"], \"y\": [4.528472222222222, 4.487820512820513, 4.583333333333334]}, {\"hoverinfo\": \"x+name+text\", \"line\": {\"width\": 3}, \"marker\": {\"size\": 8}, \"name\": \"CMCT\", \"text\": [\"4.51\", \"4.44\", \"4.62\"], \"type\": \"scatter\", \"uid\": \"ad91a386-8185-47ac-9ff1-227ffba2d85c\", \"x\": [\"C1617\", \"C1718\", \"C1819\"], \"y\": [4.512499999999999, 4.435897435897437, 4.620512820512821]}, {\"hoverinfo\": \"x+name+text\", \"line\": {\"width\": 3}, \"marker\": {\"size\": 8}, \"name\": \"CSC\", \"text\": [\"4.97\", \"4.92\", \"4.91\"], \"type\": \"scatter\", \"uid\": \"c85e3178-5089-40e0-b55e-36094deaccb8\", \"x\": [\"C1617\", \"C1718\", \"C1819\"], \"y\": [4.965972222222224, 4.919871794871794, 4.9096153846153845]}, {\"hoverinfo\": \"x+name+text\", \"line\": {\"width\": 3}, \"marker\": {\"size\": 8}, \"name\": \"SIEE\", \"text\": [\"4.78\", \"4.53\", \"4.69\"], \"type\": \"scatter\", \"uid\": \"0290c86f-4b3f-4a2f-8382-06acc29a778f\", \"x\": [\"C1617\", \"C1718\", \"C1819\"], \"y\": [4.778472222222224, 4.528846153846154, 4.686538461538462]}],\n",
       "                        {\"height\": 600, \"width\": 600, \"xaxis\": {\"title\": {\"text\": \"Curso escolar\"}}, \"yaxis\": {\"title\": {\"text\": \"Valoraci\\u00f3n CCBB\"}}},\n",
       "                        {\"showLink\": false, \"linkText\": \"Export to plot.ly\", \"plotlyServerURL\": \"https://plot.ly\", \"responsive\": true}\n",
       "                    ).then(function(){\n",
       "                            \n",
       "var gd = document.getElementById('ad7ca7f6-e842-47e8-a580-9813fc3423c1');\n",
       "var x = new MutationObserver(function (mutations, observer) {{\n",
       "        var display = window.getComputedStyle(gd).display;\n",
       "        if (!display || display === 'none') {{\n",
       "            console.log([gd, 'removed!']);\n",
       "            Plotly.purge(gd);\n",
       "            observer.disconnect();\n",
       "        }}\n",
       "}});\n",
       "\n",
       "// Listen for the removal of the full notebook cells\n",
       "var notebookContainer = gd.closest('#notebook-container');\n",
       "if (notebookContainer) {{\n",
       "    x.observe(notebookContainer, {childList: true});\n",
       "}}\n",
       "\n",
       "// Listen for the clearing of the current output cell\n",
       "var outputEl = gd.closest('.output');\n",
       "if (outputEl) {{\n",
       "    x.observe(outputEl, {childList: true});\n",
       "}}\n",
       "\n",
       "                        })\n",
       "                };\n",
       "                });\n",
       "            </script>\n",
       "        </div>"
      ]
     },
     "metadata": {},
     "output_type": "display_data"
    }
   ],
   "source": [
    "myplotly.bc_evolution(df_bc)"
   ]
  },
  {
   "cell_type": "code",
   "execution_count": 36,
   "metadata": {},
   "outputs": [
    {
     "data": {
      "text/html": [
       "<h2>Evolución competencial con respecto a la evaluación anterior</h2>"
      ],
      "text/plain": [
       "<IPython.core.display.HTML object>"
      ]
     },
     "metadata": {},
     "output_type": "display_data"
    },
    {
     "name": "stdout",
     "output_type": "stream",
     "text": [
      "El valor mínimo del diferencial es: -0.75\n",
      "El valor máximo del diferencial es: 1.5\n",
      "Introduzca los 3 valores umbral (entre máximo y mínimo) separados por comas para la escala de colores:-0.5, 0, 1\n"
     ]
    },
    {
     "data": {
      "application/vnd.plotly.v1+json": {
       "config": {
        "linkText": "Export to plot.ly",
        "plotlyServerURL": "https://plot.ly",
        "responsive": true,
        "showLink": false
       },
       "data": [
        {
         "colorbar": {
          "ticks": "outside"
         },
         "colorscale": [
          [
           0,
           "rgb(215,25,28)"
          ],
          [
           0.1111111111111111,
           "rgb(215,25,28)"
          ],
          [
           0.1111111111111111,
           "rgb(253,174,97)"
          ],
          [
           0.3333333333333333,
           "rgb(253,174,97)"
          ],
          [
           0.3333333333333333,
           "rgb(166,217,106)"
          ],
          [
           0.7777777777777777,
           "rgb(166,217,106)"
          ],
          [
           0.7777777777777777,
           "rgb(26,150,65)"
          ],
          [
           1,
           "rgb(26,150,65)"
          ]
         ],
         "type": "heatmap",
         "uid": "d6a3350d-0d2c-4bc1-b82e-2fc2302be9bf",
         "x": [
          "AAP",
          "CD",
          "CEC",
          "CL",
          "CMCT",
          "CSC",
          "SIEE"
         ],
         "y": [
          "1ESO",
          "1PMAR",
          "2ESO",
          "2PMAR",
          "3ESO",
          "4ESO"
         ],
         "z": [
          [
           -0.008333333333333451,
           0.06666666666666643,
           0.4500000000000002,
           0.1499999999999999,
           0.43333333333333357,
           0.15833333333333352,
           0.17499999999999996
          ],
          [
           0.5,
           -0.5,
           0.5,
           -0.75,
           1.25,
           1.5,
           0.25
          ],
          [
           0.6666666666666673,
           0.45833333333333304,
           0.47500000000000026,
           0.40833333333333294,
           -0.008333333333333156,
           0.4666666666666662,
           0.6916666666666664
          ],
          [
           0.25,
           0.5,
           0.25,
           0,
           1,
           0.5,
           0
          ],
          [
           0.20833333333333362,
           -0.033333333333333805,
           0.10000000000000024,
           0.6,
           0.4083333333333338,
           0.3916666666666666,
           -0.008333333333333451
          ],
          [
           0.28750000000000053,
           0.1750000000000007,
           0.22499999999999964,
           0.42500000000000027,
           0.7375,
           0.13750000000000018,
           0.6374999999999995
          ]
         ]
        }
       ],
       "layout": {
        "height": 600,
        "width": 600
       }
      },
      "text/html": [
       "<div>\n",
       "        \n",
       "        \n",
       "            <div id=\"93927815-4881-4fe5-86b1-c7c98a5ef523\" class=\"plotly-graph-div\" style=\"height:600px; width:600px;\"></div>\n",
       "            <script type=\"text/javascript\">\n",
       "                require([\"plotly\"], function(Plotly) {\n",
       "                    window.PLOTLYENV=window.PLOTLYENV || {};\n",
       "                    window.PLOTLYENV.BASE_URL='https://plot.ly';\n",
       "                    \n",
       "                if (document.getElementById(\"93927815-4881-4fe5-86b1-c7c98a5ef523\")) {\n",
       "                    Plotly.newPlot(\n",
       "                        '93927815-4881-4fe5-86b1-c7c98a5ef523',\n",
       "                        [{\"colorbar\": {\"ticks\": \"outside\"}, \"colorscale\": [[0.0, \"rgb(215,25,28)\"], [0.1111111111111111, \"rgb(215,25,28)\"], [0.1111111111111111, \"rgb(253,174,97)\"], [0.3333333333333333, \"rgb(253,174,97)\"], [0.3333333333333333, \"rgb(166,217,106)\"], [0.7777777777777777, \"rgb(166,217,106)\"], [0.7777777777777777, \"rgb(26,150,65)\"], [1.0, \"rgb(26,150,65)\"]], \"type\": \"heatmap\", \"uid\": \"98a76c55-dec5-43b0-9256-ed7903a63830\", \"x\": [\"AAP\", \"CD\", \"CEC\", \"CL\", \"CMCT\", \"CSC\", \"SIEE\"], \"y\": [\"1ESO\", \"1PMAR\", \"2ESO\", \"2PMAR\", \"3ESO\", \"4ESO\"], \"z\": [[-0.008333333333333451, 0.06666666666666643, 0.4500000000000002, 0.1499999999999999, 0.43333333333333357, 0.15833333333333352, 0.17499999999999996], [0.5, -0.5, 0.5, -0.75, 1.25, 1.5, 0.25], [0.6666666666666673, 0.45833333333333304, 0.47500000000000026, 0.40833333333333294, -0.008333333333333156, 0.4666666666666662, 0.6916666666666664], [0.25, 0.5, 0.25, 0.0, 1.0, 0.5, 0.0], [0.20833333333333362, -0.033333333333333805, 0.10000000000000024, 0.6, 0.4083333333333338, 0.3916666666666666, -0.008333333333333451], [0.28750000000000053, 0.1750000000000007, 0.22499999999999964, 0.42500000000000027, 0.7375, 0.13750000000000018, 0.6374999999999995]]}],\n",
       "                        {\"height\": 600, \"width\": 600},\n",
       "                        {\"showLink\": false, \"linkText\": \"Export to plot.ly\", \"plotlyServerURL\": \"https://plot.ly\", \"responsive\": true}\n",
       "                    ).then(function(){\n",
       "                            \n",
       "var gd = document.getElementById('93927815-4881-4fe5-86b1-c7c98a5ef523');\n",
       "var x = new MutationObserver(function (mutations, observer) {{\n",
       "        var display = window.getComputedStyle(gd).display;\n",
       "        if (!display || display === 'none') {{\n",
       "            console.log([gd, 'removed!']);\n",
       "            Plotly.purge(gd);\n",
       "            observer.disconnect();\n",
       "        }}\n",
       "}});\n",
       "\n",
       "// Listen for the removal of the full notebook cells\n",
       "var notebookContainer = gd.closest('#notebook-container');\n",
       "if (notebookContainer) {{\n",
       "    x.observe(notebookContainer, {childList: true});\n",
       "}}\n",
       "\n",
       "// Listen for the clearing of the current output cell\n",
       "var outputEl = gd.closest('.output');\n",
       "if (outputEl) {{\n",
       "    x.observe(outputEl, {childList: true});\n",
       "}}\n",
       "\n",
       "                        })\n",
       "                };\n",
       "                });\n",
       "            </script>\n",
       "        </div>"
      ]
     },
     "metadata": {},
     "output_type": "display_data"
    }
   ],
   "source": [
    "if EVALUATION > 1:\n",
    "    display(HTML('<h2>Evolución competencial con respecto a la evaluación anterior</h2>'))\n",
    "    \n",
    "    df_bc_comp['delta'] = df_bc_comp['marca_x'] - df_bc_comp['marca_y']\n",
    "    df_bc_comp_marked = df_bc_comp.groupby(['nivel_x', 'item']).mean().reset_index().pivot('item', 'nivel_x', 'delta')\n",
    "\n",
    "    min_diff_value = df_bc_comp_marked.values.min()\n",
    "    max_diff_value = df_bc_comp_marked.values.max()\n",
    "    print(f'El valor mínimo del diferencial es: {min_diff_value}')\n",
    "    print(f'El valor máximo del diferencial es: {max_diff_value}')\n",
    "    \n",
    "    values = input('Introduzca los 3 valores umbral (entre máximo y mínimo) separados por comas para la escala de colores:')\n",
    "    thresholds = [float(v) for v in re.split(' *, *', values)]\n",
    "\n",
    "    colors = cl.scales['4']['div']['RdYlGn']\n",
    "    thresholds = utils.normalize_thresholds(df_bc_comp_marked, thresholds)\n",
    "    colorscale = utils.make_colorscale(colors, thresholds=thresholds, discrete=True)\n",
    "\n",
    "    myplotly.heatmap(df_bc_comp_marked.index, df_bc_comp_marked.columns, df_bc_comp_marked.values.T, colorscale)"
   ]
  },
  {
   "cell_type": "markdown",
   "metadata": {},
   "source": [
    "# ABSENTISMO"
   ]
  },
  {
   "cell_type": "markdown",
   "metadata": {},
   "source": [
    "<div class=\"alert alert-success\" role=\"alert\">\n",
    "    ABSENTISMO = <b>Faltas justificadas + Faltas injustificadas</b>\n",
    "</div>\n",
    "\n",
    "**Se va a estudiar el ABSENTISMO ACUMULADO desde el 1 de septiembre hasta la fecha de finalización del trimestre de análisis.**"
   ]
  },
  {
   "cell_type": "markdown",
   "metadata": {},
   "source": [
    "## ABSENTISMO TOTAL vs ABSENTISMO JUSTIFICADO"
   ]
  },
  {
   "cell_type": "code",
   "execution_count": 37,
   "metadata": {},
   "outputs": [
    {
     "data": {
      "application/vnd.plotly.v1+json": {
       "config": {
        "linkText": "Export to plot.ly",
        "plotlyServerURL": "https://plot.ly",
        "responsive": true,
        "showLink": false
       },
       "data": [
        {
         "marker": {
          "color": "rgb(166,206,227)"
         },
         "name": "Abs. Total (%)",
         "orientation": "h",
         "type": "bar",
         "uid": "29e1f90d-d618-4be2-bbbd-8f778e9771c5",
         "x": [
          6.41,
          6.95,
          7.59,
          5.9,
          9.64,
          8.92,
          4.140000000000001,
          6.369999999999999,
          6.130000000000001,
          8.17,
          19.24,
          7.66,
          12.33,
          37.13,
          10.27,
          5.529999999999999,
          7.279999999999999,
          6.1,
          5.29,
          23.439999999999998,
          18.61,
          18.939999999999998,
          7.6899999999999995,
          9.35,
          8.93,
          9.74,
          10.87,
          14.940000000000001,
          15.89,
          15.89,
          4.62,
          3.51,
          11.59,
          5.9,
          8.92,
          3.17,
          0.63,
          0.08
         ],
         "y": [
          "ESO1A",
          "ESO1B",
          "ESO1C",
          "ESO2A",
          "ESO2B",
          "ESO2C",
          "ESO2D",
          "ESO3A",
          "ESO3B",
          "ESO3C",
          "ESO3D",
          "ESO4A",
          "ESO4B",
          "1FPB",
          "2FPB",
          "1CIE",
          "1SOC",
          "2CIE",
          "2SOC",
          "1TEL",
          "1ELE",
          "1CAR",
          "2TEL",
          "2ELE",
          "2CAR",
          "1ARI",
          "1ALO",
          "1GIT",
          "1ASR",
          "1DAW",
          "2ARI",
          "2ALO",
          "2GIT",
          "2ASR",
          "2DAW",
          "1DAM",
          "2DAM",
          "3DAM"
         ]
        },
        {
         "marker": {
          "color": "rgb(31,120,180)"
         },
         "name": "Abs. Justificado (%)",
         "orientation": "h",
         "type": "bar",
         "uid": "aa9fe711-2b1e-4ff7-9bc9-3b1a8598b397",
         "x": [
          1.68,
          1.01,
          1.91,
          2.38,
          1.16,
          1.71,
          1.27,
          3.09,
          3.99,
          4.32,
          14.11,
          3.19,
          4.53,
          4.82,
          2.2,
          2.44,
          4.09,
          2.83,
          2.35,
          4.85,
          5.28,
          1.45,
          1.63,
          2.83,
          0.08,
          2.3,
          2,
          4.64,
          2.41,
          2.63,
          1.27,
          0.72,
          1.86,
          2.24,
          1.6,
          0,
          0,
          0
         ],
         "y": [
          "ESO1A",
          "ESO1B",
          "ESO1C",
          "ESO2A",
          "ESO2B",
          "ESO2C",
          "ESO2D",
          "ESO3A",
          "ESO3B",
          "ESO3C",
          "ESO3D",
          "ESO4A",
          "ESO4B",
          "1FPB",
          "2FPB",
          "1CIE",
          "1SOC",
          "2CIE",
          "2SOC",
          "1TEL",
          "1ELE",
          "1CAR",
          "2TEL",
          "2ELE",
          "2CAR",
          "1ARI",
          "1ALO",
          "1GIT",
          "1ASR",
          "1DAW",
          "2ARI",
          "2ALO",
          "2GIT",
          "2ASR",
          "2DAW",
          "1DAM",
          "2DAM",
          "3DAM"
         ]
        }
       ],
       "layout": {
        "barmode": "overlay",
        "height": 1000,
        "title": {
         "text": ""
        },
        "width": 700,
        "yaxis": {
         "autorange": "reversed",
         "type": "category"
        }
       }
      },
      "text/html": [
       "<div>\n",
       "        \n",
       "        \n",
       "            <div id=\"98189a2b-8cd4-49b5-ac20-e4285138b25c\" class=\"plotly-graph-div\" style=\"height:1000px; width:700px;\"></div>\n",
       "            <script type=\"text/javascript\">\n",
       "                require([\"plotly\"], function(Plotly) {\n",
       "                    window.PLOTLYENV=window.PLOTLYENV || {};\n",
       "                    window.PLOTLYENV.BASE_URL='https://plot.ly';\n",
       "                    \n",
       "                if (document.getElementById(\"98189a2b-8cd4-49b5-ac20-e4285138b25c\")) {\n",
       "                    Plotly.newPlot(\n",
       "                        '98189a2b-8cd4-49b5-ac20-e4285138b25c',\n",
       "                        [{\"marker\": {\"color\": \"rgb(166,206,227)\"}, \"name\": \"Abs. Total (%)\", \"orientation\": \"h\", \"type\": \"bar\", \"uid\": \"3e0c23a5-b9b2-4be2-9c5e-0234ef57ac2a\", \"x\": [6.41, 6.95, 7.59, 5.9, 9.64, 8.92, 4.140000000000001, 6.369999999999999, 6.130000000000001, 8.17, 19.24, 7.66, 12.33, 37.13, 10.27, 5.529999999999999, 7.279999999999999, 6.1, 5.29, 23.439999999999998, 18.61, 18.939999999999998, 7.6899999999999995, 9.35, 8.93, 9.74, 10.87, 14.940000000000001, 15.89, 15.89, 4.62, 3.51, 11.59, 5.9, 8.92, 3.17, 0.63, 0.08], \"y\": [\"ESO1A\", \"ESO1B\", \"ESO1C\", \"ESO2A\", \"ESO2B\", \"ESO2C\", \"ESO2D\", \"ESO3A\", \"ESO3B\", \"ESO3C\", \"ESO3D\", \"ESO4A\", \"ESO4B\", \"1FPB\", \"2FPB\", \"1CIE\", \"1SOC\", \"2CIE\", \"2SOC\", \"1TEL\", \"1ELE\", \"1CAR\", \"2TEL\", \"2ELE\", \"2CAR\", \"1ARI\", \"1ALO\", \"1GIT\", \"1ASR\", \"1DAW\", \"2ARI\", \"2ALO\", \"2GIT\", \"2ASR\", \"2DAW\", \"1DAM\", \"2DAM\", \"3DAM\"]}, {\"marker\": {\"color\": \"rgb(31,120,180)\"}, \"name\": \"Abs. Justificado (%)\", \"orientation\": \"h\", \"type\": \"bar\", \"uid\": \"35963724-b186-422b-9071-2313d3b4d840\", \"x\": [1.68, 1.01, 1.91, 2.38, 1.16, 1.71, 1.27, 3.09, 3.99, 4.32, 14.11, 3.19, 4.53, 4.82, 2.2, 2.44, 4.09, 2.83, 2.35, 4.85, 5.28, 1.45, 1.63, 2.83, 0.08, 2.3, 2.0, 4.64, 2.41, 2.63, 1.27, 0.72, 1.86, 2.24, 1.6, 0.0, 0.0, 0.0], \"y\": [\"ESO1A\", \"ESO1B\", \"ESO1C\", \"ESO2A\", \"ESO2B\", \"ESO2C\", \"ESO2D\", \"ESO3A\", \"ESO3B\", \"ESO3C\", \"ESO3D\", \"ESO4A\", \"ESO4B\", \"1FPB\", \"2FPB\", \"1CIE\", \"1SOC\", \"2CIE\", \"2SOC\", \"1TEL\", \"1ELE\", \"1CAR\", \"2TEL\", \"2ELE\", \"2CAR\", \"1ARI\", \"1ALO\", \"1GIT\", \"1ASR\", \"1DAW\", \"2ARI\", \"2ALO\", \"2GIT\", \"2ASR\", \"2DAW\", \"1DAM\", \"2DAM\", \"3DAM\"]}],\n",
       "                        {\"barmode\": \"overlay\", \"height\": 1000, \"title\": {\"text\": \"\"}, \"width\": 700, \"yaxis\": {\"autorange\": \"reversed\", \"type\": \"category\"}},\n",
       "                        {\"showLink\": false, \"linkText\": \"Export to plot.ly\", \"plotlyServerURL\": \"https://plot.ly\", \"responsive\": true}\n",
       "                    ).then(function(){\n",
       "                            \n",
       "var gd = document.getElementById('98189a2b-8cd4-49b5-ac20-e4285138b25c');\n",
       "var x = new MutationObserver(function (mutations, observer) {{\n",
       "        var display = window.getComputedStyle(gd).display;\n",
       "        if (!display || display === 'none') {{\n",
       "            console.log([gd, 'removed!']);\n",
       "            Plotly.purge(gd);\n",
       "            observer.disconnect();\n",
       "        }}\n",
       "}});\n",
       "\n",
       "// Listen for the removal of the full notebook cells\n",
       "var notebookContainer = gd.closest('#notebook-container');\n",
       "if (notebookContainer) {{\n",
       "    x.observe(notebookContainer, {childList: true});\n",
       "}}\n",
       "\n",
       "// Listen for the clearing of the current output cell\n",
       "var outputEl = gd.closest('.output');\n",
       "if (outputEl) {{\n",
       "    x.observe(outputEl, {childList: true});\n",
       "}}\n",
       "\n",
       "                        })\n",
       "                };\n",
       "                });\n",
       "            </script>\n",
       "        </div>"
      ]
     },
     "metadata": {},
     "output_type": "display_data"
    }
   ],
   "source": [
    "myplotly.hbar((dfc['absentismo'], dfc['absentismo_justificado']), dfc.index,\n",
    "              trace_names=('Abs. Total (%)', 'Abs. Justificado (%)'))"
   ]
  },
  {
   "cell_type": "markdown",
   "metadata": {},
   "source": [
    "## ESO"
   ]
  },
  {
   "cell_type": "code",
   "execution_count": 38,
   "metadata": {
    "scrolled": true
   },
   "outputs": [
    {
     "data": {
      "application/vnd.plotly.v1+json": {
       "config": {
        "linkText": "Export to plot.ly",
        "plotlyServerURL": "https://plot.ly",
        "responsive": true,
        "showLink": false
       },
       "data": [
        {
         "hoverinfo": "x+text",
         "marker": {
          "color": [
           6.41,
           6.95,
           7.59,
           5.9,
           9.64,
           8.92,
           4.140000000000001,
           6.369999999999999,
           6.130000000000001,
           8.17,
           19.24,
           7.66,
           12.33
          ],
          "colorscale": [
           [
            0,
            "rgb(252,174,145)"
           ],
           [
            0.3333333333333333,
            "rgb(251,106,74)"
           ],
           [
            0.6666666666666666,
            "rgb(222,45,38)"
           ],
           [
            1,
            "rgb(165,15,21)"
           ]
          ]
         },
         "text": [
          "6.41%",
          "6.95%",
          "7.59%",
          "5.90%",
          "9.64%",
          "8.92%",
          "4.14%",
          "6.37%",
          "6.13%",
          "8.17%",
          "19.24%",
          "7.66%",
          "12.33%"
         ],
         "type": "bar",
         "uid": "d00dd1ad-fb6c-4409-9e95-5be1954c5c99",
         "x": [
          "ESO1A",
          "ESO1B",
          "ESO1C",
          "ESO2A",
          "ESO2B",
          "ESO2C",
          "ESO2D",
          "ESO3A",
          "ESO3B",
          "ESO3C",
          "ESO3D",
          "ESO4A",
          "ESO4B"
         ],
         "y": [
          6.41,
          6.95,
          7.59,
          5.9,
          9.64,
          8.92,
          4.140000000000001,
          6.369999999999999,
          6.130000000000001,
          8.17,
          19.24,
          7.66,
          12.33
         ]
        }
       ],
       "layout": {
        "title": {
         "text": ""
        }
       }
      },
      "text/html": [
       "<div>\n",
       "        \n",
       "        \n",
       "            <div id=\"f961e3e6-0eec-4cd2-8425-21cacebacb50\" class=\"plotly-graph-div\" style=\"height:525px; width:100%;\"></div>\n",
       "            <script type=\"text/javascript\">\n",
       "                require([\"plotly\"], function(Plotly) {\n",
       "                    window.PLOTLYENV=window.PLOTLYENV || {};\n",
       "                    window.PLOTLYENV.BASE_URL='https://plot.ly';\n",
       "                    \n",
       "                if (document.getElementById(\"f961e3e6-0eec-4cd2-8425-21cacebacb50\")) {\n",
       "                    Plotly.newPlot(\n",
       "                        'f961e3e6-0eec-4cd2-8425-21cacebacb50',\n",
       "                        [{\"hoverinfo\": \"x+text\", \"marker\": {\"color\": [6.41, 6.95, 7.59, 5.9, 9.64, 8.92, 4.140000000000001, 6.369999999999999, 6.130000000000001, 8.17, 19.24, 7.66, 12.33], \"colorscale\": [[0.0, \"rgb(252,174,145)\"], [0.3333333333333333, \"rgb(251,106,74)\"], [0.6666666666666666, \"rgb(222,45,38)\"], [1.0, \"rgb(165,15,21)\"]]}, \"text\": [\"6.41%\", \"6.95%\", \"7.59%\", \"5.90%\", \"9.64%\", \"8.92%\", \"4.14%\", \"6.37%\", \"6.13%\", \"8.17%\", \"19.24%\", \"7.66%\", \"12.33%\"], \"type\": \"bar\", \"uid\": \"1bfe6163-2f73-411a-8816-d5922d36556e\", \"x\": [\"ESO1A\", \"ESO1B\", \"ESO1C\", \"ESO2A\", \"ESO2B\", \"ESO2C\", \"ESO2D\", \"ESO3A\", \"ESO3B\", \"ESO3C\", \"ESO3D\", \"ESO4A\", \"ESO4B\"], \"y\": [6.41, 6.95, 7.59, 5.9, 9.64, 8.92, 4.140000000000001, 6.369999999999999, 6.130000000000001, 8.17, 19.24, 7.66, 12.33]}],\n",
       "                        {\"title\": {\"text\": \"\"}},\n",
       "                        {\"showLink\": false, \"linkText\": \"Export to plot.ly\", \"plotlyServerURL\": \"https://plot.ly\", \"responsive\": true}\n",
       "                    ).then(function(){\n",
       "                            \n",
       "var gd = document.getElementById('f961e3e6-0eec-4cd2-8425-21cacebacb50');\n",
       "var x = new MutationObserver(function (mutations, observer) {{\n",
       "        var display = window.getComputedStyle(gd).display;\n",
       "        if (!display || display === 'none') {{\n",
       "            console.log([gd, 'removed!']);\n",
       "            Plotly.purge(gd);\n",
       "            observer.disconnect();\n",
       "        }}\n",
       "}});\n",
       "\n",
       "// Listen for the removal of the full notebook cells\n",
       "var notebookContainer = gd.closest('#notebook-container');\n",
       "if (notebookContainer) {{\n",
       "    x.observe(notebookContainer, {childList: true});\n",
       "}}\n",
       "\n",
       "// Listen for the clearing of the current output cell\n",
       "var outputEl = gd.closest('.output');\n",
       "if (outputEl) {{\n",
       "    x.observe(outputEl, {childList: true});\n",
       "}}\n",
       "\n",
       "                        })\n",
       "                };\n",
       "                });\n",
       "            </script>\n",
       "        </div>"
      ]
     },
     "metadata": {},
     "output_type": "display_data"
    }
   ],
   "source": [
    "myplotly.bar_simple(dfc_ESO.index, dfc_ESO['absentismo'], colormap='Reds')"
   ]
  },
  {
   "cell_type": "markdown",
   "metadata": {},
   "source": [
    "# FPB"
   ]
  },
  {
   "cell_type": "code",
   "execution_count": 39,
   "metadata": {},
   "outputs": [
    {
     "data": {
      "application/vnd.plotly.v1+json": {
       "config": {
        "linkText": "Export to plot.ly",
        "plotlyServerURL": "https://plot.ly",
        "responsive": true,
        "showLink": false
       },
       "data": [
        {
         "hoverinfo": "x+text",
         "marker": {
          "color": [
           37.13,
           10.27
          ],
          "colorscale": [
           [
            0,
            "rgb(252,174,145)"
           ],
           [
            0.3333333333333333,
            "rgb(251,106,74)"
           ],
           [
            0.6666666666666666,
            "rgb(222,45,38)"
           ],
           [
            1,
            "rgb(165,15,21)"
           ]
          ]
         },
         "text": [
          "37.13%",
          "10.27%"
         ],
         "type": "bar",
         "uid": "f625776d-bfe2-41ea-9490-bea70199e824",
         "x": [
          "1FPB",
          "2FPB"
         ],
         "y": [
          37.13,
          10.27
         ]
        }
       ],
       "layout": {
        "title": {
         "text": ""
        }
       }
      },
      "text/html": [
       "<div>\n",
       "        \n",
       "        \n",
       "            <div id=\"ecee761f-9a37-4c76-bff5-048bd95193d9\" class=\"plotly-graph-div\" style=\"height:525px; width:100%;\"></div>\n",
       "            <script type=\"text/javascript\">\n",
       "                require([\"plotly\"], function(Plotly) {\n",
       "                    window.PLOTLYENV=window.PLOTLYENV || {};\n",
       "                    window.PLOTLYENV.BASE_URL='https://plot.ly';\n",
       "                    \n",
       "                if (document.getElementById(\"ecee761f-9a37-4c76-bff5-048bd95193d9\")) {\n",
       "                    Plotly.newPlot(\n",
       "                        'ecee761f-9a37-4c76-bff5-048bd95193d9',\n",
       "                        [{\"hoverinfo\": \"x+text\", \"marker\": {\"color\": [37.13, 10.27], \"colorscale\": [[0.0, \"rgb(252,174,145)\"], [0.3333333333333333, \"rgb(251,106,74)\"], [0.6666666666666666, \"rgb(222,45,38)\"], [1.0, \"rgb(165,15,21)\"]]}, \"text\": [\"37.13%\", \"10.27%\"], \"type\": \"bar\", \"uid\": \"cf289911-b961-458c-bd8e-23d6f0a08a5f\", \"x\": [\"1FPB\", \"2FPB\"], \"y\": [37.13, 10.27]}],\n",
       "                        {\"title\": {\"text\": \"\"}},\n",
       "                        {\"showLink\": false, \"linkText\": \"Export to plot.ly\", \"plotlyServerURL\": \"https://plot.ly\", \"responsive\": true}\n",
       "                    ).then(function(){\n",
       "                            \n",
       "var gd = document.getElementById('ecee761f-9a37-4c76-bff5-048bd95193d9');\n",
       "var x = new MutationObserver(function (mutations, observer) {{\n",
       "        var display = window.getComputedStyle(gd).display;\n",
       "        if (!display || display === 'none') {{\n",
       "            console.log([gd, 'removed!']);\n",
       "            Plotly.purge(gd);\n",
       "            observer.disconnect();\n",
       "        }}\n",
       "}});\n",
       "\n",
       "// Listen for the removal of the full notebook cells\n",
       "var notebookContainer = gd.closest('#notebook-container');\n",
       "if (notebookContainer) {{\n",
       "    x.observe(notebookContainer, {childList: true});\n",
       "}}\n",
       "\n",
       "// Listen for the clearing of the current output cell\n",
       "var outputEl = gd.closest('.output');\n",
       "if (outputEl) {{\n",
       "    x.observe(outputEl, {childList: true});\n",
       "}}\n",
       "\n",
       "                        })\n",
       "                };\n",
       "                });\n",
       "            </script>\n",
       "        </div>"
      ]
     },
     "metadata": {},
     "output_type": "display_data"
    }
   ],
   "source": [
    "myplotly.bar_simple(dfc_FPB.index, dfc_FPB['absentismo'], colormap='Reds')"
   ]
  },
  {
   "cell_type": "markdown",
   "metadata": {},
   "source": [
    "## BACHILLERATO"
   ]
  },
  {
   "cell_type": "code",
   "execution_count": 40,
   "metadata": {
    "scrolled": false
   },
   "outputs": [
    {
     "data": {
      "application/vnd.plotly.v1+json": {
       "config": {
        "linkText": "Export to plot.ly",
        "plotlyServerURL": "https://plot.ly",
        "responsive": true,
        "showLink": false
       },
       "data": [
        {
         "hoverinfo": "x+text",
         "marker": {
          "color": [
           5.529999999999999,
           7.279999999999999,
           6.1,
           5.29
          ],
          "colorscale": [
           [
            0,
            "rgb(252,174,145)"
           ],
           [
            0.3333333333333333,
            "rgb(251,106,74)"
           ],
           [
            0.6666666666666666,
            "rgb(222,45,38)"
           ],
           [
            1,
            "rgb(165,15,21)"
           ]
          ]
         },
         "text": [
          "5.53%",
          "7.28%",
          "6.10%",
          "5.29%"
         ],
         "type": "bar",
         "uid": "2d0af78c-0c55-431c-bdc9-a11c8d231e67",
         "x": [
          "1CIE",
          "1SOC",
          "2CIE",
          "2SOC"
         ],
         "y": [
          5.529999999999999,
          7.279999999999999,
          6.1,
          5.29
         ]
        }
       ],
       "layout": {
        "title": {
         "text": ""
        }
       }
      },
      "text/html": [
       "<div>\n",
       "        \n",
       "        \n",
       "            <div id=\"1b736358-7c33-4ef3-bea1-bee598adc873\" class=\"plotly-graph-div\" style=\"height:525px; width:100%;\"></div>\n",
       "            <script type=\"text/javascript\">\n",
       "                require([\"plotly\"], function(Plotly) {\n",
       "                    window.PLOTLYENV=window.PLOTLYENV || {};\n",
       "                    window.PLOTLYENV.BASE_URL='https://plot.ly';\n",
       "                    \n",
       "                if (document.getElementById(\"1b736358-7c33-4ef3-bea1-bee598adc873\")) {\n",
       "                    Plotly.newPlot(\n",
       "                        '1b736358-7c33-4ef3-bea1-bee598adc873',\n",
       "                        [{\"hoverinfo\": \"x+text\", \"marker\": {\"color\": [5.529999999999999, 7.279999999999999, 6.1, 5.29], \"colorscale\": [[0.0, \"rgb(252,174,145)\"], [0.3333333333333333, \"rgb(251,106,74)\"], [0.6666666666666666, \"rgb(222,45,38)\"], [1.0, \"rgb(165,15,21)\"]]}, \"text\": [\"5.53%\", \"7.28%\", \"6.10%\", \"5.29%\"], \"type\": \"bar\", \"uid\": \"5334dadc-5f58-400f-a89a-ef0f3a10fe5e\", \"x\": [\"1CIE\", \"1SOC\", \"2CIE\", \"2SOC\"], \"y\": [5.529999999999999, 7.279999999999999, 6.1, 5.29]}],\n",
       "                        {\"title\": {\"text\": \"\"}},\n",
       "                        {\"showLink\": false, \"linkText\": \"Export to plot.ly\", \"plotlyServerURL\": \"https://plot.ly\", \"responsive\": true}\n",
       "                    ).then(function(){\n",
       "                            \n",
       "var gd = document.getElementById('1b736358-7c33-4ef3-bea1-bee598adc873');\n",
       "var x = new MutationObserver(function (mutations, observer) {{\n",
       "        var display = window.getComputedStyle(gd).display;\n",
       "        if (!display || display === 'none') {{\n",
       "            console.log([gd, 'removed!']);\n",
       "            Plotly.purge(gd);\n",
       "            observer.disconnect();\n",
       "        }}\n",
       "}});\n",
       "\n",
       "// Listen for the removal of the full notebook cells\n",
       "var notebookContainer = gd.closest('#notebook-container');\n",
       "if (notebookContainer) {{\n",
       "    x.observe(notebookContainer, {childList: true});\n",
       "}}\n",
       "\n",
       "// Listen for the clearing of the current output cell\n",
       "var outputEl = gd.closest('.output');\n",
       "if (outputEl) {{\n",
       "    x.observe(outputEl, {childList: true});\n",
       "}}\n",
       "\n",
       "                        })\n",
       "                };\n",
       "                });\n",
       "            </script>\n",
       "        </div>"
      ]
     },
     "metadata": {},
     "output_type": "display_data"
    }
   ],
   "source": [
    "myplotly.bar_simple(dfc_BACH.index, dfc_BACH['absentismo'], colormap='Reds')"
   ]
  },
  {
   "cell_type": "markdown",
   "metadata": {},
   "source": [
    "## CICLOS FORMATIVOS DE GRADO MEDIO"
   ]
  },
  {
   "cell_type": "code",
   "execution_count": 41,
   "metadata": {},
   "outputs": [
    {
     "data": {
      "application/vnd.plotly.v1+json": {
       "config": {
        "linkText": "Export to plot.ly",
        "plotlyServerURL": "https://plot.ly",
        "responsive": true,
        "showLink": false
       },
       "data": [
        {
         "hoverinfo": "x+text",
         "marker": {
          "color": [
           23.439999999999998,
           18.61,
           18.939999999999998,
           7.6899999999999995,
           9.35,
           8.93
          ],
          "colorscale": [
           [
            0,
            "rgb(252,174,145)"
           ],
           [
            0.3333333333333333,
            "rgb(251,106,74)"
           ],
           [
            0.6666666666666666,
            "rgb(222,45,38)"
           ],
           [
            1,
            "rgb(165,15,21)"
           ]
          ]
         },
         "text": [
          "23.44%",
          "18.61%",
          "18.94%",
          "7.69%",
          "9.35%",
          "8.93%"
         ],
         "type": "bar",
         "uid": "72d49dfd-d1d3-4465-9d34-0d02b8f154bc",
         "x": [
          "1TEL",
          "1ELE",
          "1CAR",
          "2TEL",
          "2ELE",
          "2CAR"
         ],
         "y": [
          23.439999999999998,
          18.61,
          18.939999999999998,
          7.6899999999999995,
          9.35,
          8.93
         ]
        }
       ],
       "layout": {
        "title": {
         "text": ""
        }
       }
      },
      "text/html": [
       "<div>\n",
       "        \n",
       "        \n",
       "            <div id=\"4532f642-df46-4b29-81b5-c1d8847fe4d2\" class=\"plotly-graph-div\" style=\"height:525px; width:100%;\"></div>\n",
       "            <script type=\"text/javascript\">\n",
       "                require([\"plotly\"], function(Plotly) {\n",
       "                    window.PLOTLYENV=window.PLOTLYENV || {};\n",
       "                    window.PLOTLYENV.BASE_URL='https://plot.ly';\n",
       "                    \n",
       "                if (document.getElementById(\"4532f642-df46-4b29-81b5-c1d8847fe4d2\")) {\n",
       "                    Plotly.newPlot(\n",
       "                        '4532f642-df46-4b29-81b5-c1d8847fe4d2',\n",
       "                        [{\"hoverinfo\": \"x+text\", \"marker\": {\"color\": [23.439999999999998, 18.61, 18.939999999999998, 7.6899999999999995, 9.35, 8.93], \"colorscale\": [[0.0, \"rgb(252,174,145)\"], [0.3333333333333333, \"rgb(251,106,74)\"], [0.6666666666666666, \"rgb(222,45,38)\"], [1.0, \"rgb(165,15,21)\"]]}, \"text\": [\"23.44%\", \"18.61%\", \"18.94%\", \"7.69%\", \"9.35%\", \"8.93%\"], \"type\": \"bar\", \"uid\": \"16b507f0-97e5-4667-8466-a89567b2c5ff\", \"x\": [\"1TEL\", \"1ELE\", \"1CAR\", \"2TEL\", \"2ELE\", \"2CAR\"], \"y\": [23.439999999999998, 18.61, 18.939999999999998, 7.6899999999999995, 9.35, 8.93]}],\n",
       "                        {\"title\": {\"text\": \"\"}},\n",
       "                        {\"showLink\": false, \"linkText\": \"Export to plot.ly\", \"plotlyServerURL\": \"https://plot.ly\", \"responsive\": true}\n",
       "                    ).then(function(){\n",
       "                            \n",
       "var gd = document.getElementById('4532f642-df46-4b29-81b5-c1d8847fe4d2');\n",
       "var x = new MutationObserver(function (mutations, observer) {{\n",
       "        var display = window.getComputedStyle(gd).display;\n",
       "        if (!display || display === 'none') {{\n",
       "            console.log([gd, 'removed!']);\n",
       "            Plotly.purge(gd);\n",
       "            observer.disconnect();\n",
       "        }}\n",
       "}});\n",
       "\n",
       "// Listen for the removal of the full notebook cells\n",
       "var notebookContainer = gd.closest('#notebook-container');\n",
       "if (notebookContainer) {{\n",
       "    x.observe(notebookContainer, {childList: true});\n",
       "}}\n",
       "\n",
       "// Listen for the clearing of the current output cell\n",
       "var outputEl = gd.closest('.output');\n",
       "if (outputEl) {{\n",
       "    x.observe(outputEl, {childList: true});\n",
       "}}\n",
       "\n",
       "                        })\n",
       "                };\n",
       "                });\n",
       "            </script>\n",
       "        </div>"
      ]
     },
     "metadata": {},
     "output_type": "display_data"
    }
   ],
   "source": [
    "myplotly.bar_simple(dfc_CFGM.index, dfc_CFGM['absentismo'], colormap='Reds')"
   ]
  },
  {
   "cell_type": "markdown",
   "metadata": {},
   "source": [
    "## CICLOS FORMATIVOS DE GRADO SUPERIOR"
   ]
  },
  {
   "cell_type": "code",
   "execution_count": 42,
   "metadata": {
    "scrolled": false
   },
   "outputs": [
    {
     "data": {
      "application/vnd.plotly.v1+json": {
       "config": {
        "linkText": "Export to plot.ly",
        "plotlyServerURL": "https://plot.ly",
        "responsive": true,
        "showLink": false
       },
       "data": [
        {
         "hoverinfo": "x+text",
         "marker": {
          "color": [
           9.74,
           10.87,
           14.940000000000001,
           15.89,
           15.89,
           4.62,
           3.51,
           11.59,
           5.9,
           8.92,
           3.17,
           0.63,
           0.08
          ],
          "colorscale": [
           [
            0,
            "rgb(252,174,145)"
           ],
           [
            0.3333333333333333,
            "rgb(251,106,74)"
           ],
           [
            0.6666666666666666,
            "rgb(222,45,38)"
           ],
           [
            1,
            "rgb(165,15,21)"
           ]
          ]
         },
         "text": [
          "9.74%",
          "10.87%",
          "14.94%",
          "15.89%",
          "15.89%",
          "4.62%",
          "3.51%",
          "11.59%",
          "5.90%",
          "8.92%",
          "3.17%",
          "0.63%",
          "0.08%"
         ],
         "type": "bar",
         "uid": "d159ce8a-fdbe-4e89-bc54-a72e5c1b3c6f",
         "x": [
          "1ARI",
          "1ALO",
          "1GIT",
          "1ASR",
          "1DAW",
          "2ARI",
          "2ALO",
          "2GIT",
          "2ASR",
          "2DAW",
          "1DAM",
          "2DAM",
          "3DAM"
         ],
         "y": [
          9.74,
          10.87,
          14.940000000000001,
          15.89,
          15.89,
          4.62,
          3.51,
          11.59,
          5.9,
          8.92,
          3.17,
          0.63,
          0.08
         ]
        }
       ],
       "layout": {
        "title": {
         "text": ""
        }
       }
      },
      "text/html": [
       "<div>\n",
       "        \n",
       "        \n",
       "            <div id=\"b7d7b985-3882-4089-8b43-c9bcd99fc15d\" class=\"plotly-graph-div\" style=\"height:525px; width:100%;\"></div>\n",
       "            <script type=\"text/javascript\">\n",
       "                require([\"plotly\"], function(Plotly) {\n",
       "                    window.PLOTLYENV=window.PLOTLYENV || {};\n",
       "                    window.PLOTLYENV.BASE_URL='https://plot.ly';\n",
       "                    \n",
       "                if (document.getElementById(\"b7d7b985-3882-4089-8b43-c9bcd99fc15d\")) {\n",
       "                    Plotly.newPlot(\n",
       "                        'b7d7b985-3882-4089-8b43-c9bcd99fc15d',\n",
       "                        [{\"hoverinfo\": \"x+text\", \"marker\": {\"color\": [9.74, 10.87, 14.940000000000001, 15.89, 15.89, 4.62, 3.51, 11.59, 5.9, 8.92, 3.17, 0.63, 0.08], \"colorscale\": [[0.0, \"rgb(252,174,145)\"], [0.3333333333333333, \"rgb(251,106,74)\"], [0.6666666666666666, \"rgb(222,45,38)\"], [1.0, \"rgb(165,15,21)\"]]}, \"text\": [\"9.74%\", \"10.87%\", \"14.94%\", \"15.89%\", \"15.89%\", \"4.62%\", \"3.51%\", \"11.59%\", \"5.90%\", \"8.92%\", \"3.17%\", \"0.63%\", \"0.08%\"], \"type\": \"bar\", \"uid\": \"c48cf3f4-e3db-4276-8a48-20198fca5eb2\", \"x\": [\"1ARI\", \"1ALO\", \"1GIT\", \"1ASR\", \"1DAW\", \"2ARI\", \"2ALO\", \"2GIT\", \"2ASR\", \"2DAW\", \"1DAM\", \"2DAM\", \"3DAM\"], \"y\": [9.74, 10.87, 14.940000000000001, 15.89, 15.89, 4.62, 3.51, 11.59, 5.9, 8.92, 3.17, 0.63, 0.08]}],\n",
       "                        {\"title\": {\"text\": \"\"}},\n",
       "                        {\"showLink\": false, \"linkText\": \"Export to plot.ly\", \"plotlyServerURL\": \"https://plot.ly\", \"responsive\": true}\n",
       "                    ).then(function(){\n",
       "                            \n",
       "var gd = document.getElementById('b7d7b985-3882-4089-8b43-c9bcd99fc15d');\n",
       "var x = new MutationObserver(function (mutations, observer) {{\n",
       "        var display = window.getComputedStyle(gd).display;\n",
       "        if (!display || display === 'none') {{\n",
       "            console.log([gd, 'removed!']);\n",
       "            Plotly.purge(gd);\n",
       "            observer.disconnect();\n",
       "        }}\n",
       "}});\n",
       "\n",
       "// Listen for the removal of the full notebook cells\n",
       "var notebookContainer = gd.closest('#notebook-container');\n",
       "if (notebookContainer) {{\n",
       "    x.observe(notebookContainer, {childList: true});\n",
       "}}\n",
       "\n",
       "// Listen for the clearing of the current output cell\n",
       "var outputEl = gd.closest('.output');\n",
       "if (outputEl) {{\n",
       "    x.observe(outputEl, {childList: true});\n",
       "}}\n",
       "\n",
       "                        })\n",
       "                };\n",
       "                });\n",
       "            </script>\n",
       "        </div>"
      ]
     },
     "metadata": {},
     "output_type": "display_data"
    }
   ],
   "source": [
    "myplotly.bar_simple(dfc_CFGS.index, dfc_CFGS['absentismo'], colormap='Reds')"
   ]
  },
  {
   "cell_type": "markdown",
   "metadata": {},
   "source": [
    "## GLOBAL"
   ]
  },
  {
   "cell_type": "code",
   "execution_count": 43,
   "metadata": {
    "scrolled": true
   },
   "outputs": [
    {
     "data": {
      "application/vnd.plotly.v1+json": {
       "config": {
        "linkText": "Export to plot.ly",
        "plotlyServerURL": "https://plot.ly",
        "responsive": true,
        "showLink": false
       },
       "data": [
        {
         "hoverinfo": "x+text",
         "marker": {
          "color": [
           8.419230769230769,
           23.700000000000003,
           6.049999999999999,
           14.49333333333333,
           8.134615384615385
          ],
          "colorscale": [
           [
            0,
            "rgb(252,174,145)"
           ],
           [
            0.3333333333333333,
            "rgb(251,106,74)"
           ],
           [
            0.6666666666666666,
            "rgb(222,45,38)"
           ],
           [
            1,
            "rgb(165,15,21)"
           ]
          ]
         },
         "text": [
          "8.42%",
          "23.70%",
          "6.05%",
          "14.49%",
          "8.13%"
         ],
         "type": "bar",
         "uid": "82a1f063-c8d9-4489-a6cd-c8a4337b8914",
         "x": [
          "ESO",
          "FPB",
          "BACH",
          "CFGM",
          "CFGS"
         ],
         "y": [
          8.419230769230769,
          23.700000000000003,
          6.049999999999999,
          14.49333333333333,
          8.134615384615385
         ]
        }
       ],
       "layout": {
        "title": {
         "text": ""
        }
       }
      },
      "text/html": [
       "<div>\n",
       "        \n",
       "        \n",
       "            <div id=\"2db742fd-e0e3-4677-bc7a-2b22f6b4b9fc\" class=\"plotly-graph-div\" style=\"height:525px; width:100%;\"></div>\n",
       "            <script type=\"text/javascript\">\n",
       "                require([\"plotly\"], function(Plotly) {\n",
       "                    window.PLOTLYENV=window.PLOTLYENV || {};\n",
       "                    window.PLOTLYENV.BASE_URL='https://plot.ly';\n",
       "                    \n",
       "                if (document.getElementById(\"2db742fd-e0e3-4677-bc7a-2b22f6b4b9fc\")) {\n",
       "                    Plotly.newPlot(\n",
       "                        '2db742fd-e0e3-4677-bc7a-2b22f6b4b9fc',\n",
       "                        [{\"hoverinfo\": \"x+text\", \"marker\": {\"color\": [8.419230769230769, 23.700000000000003, 6.049999999999999, 14.49333333333333, 8.134615384615385], \"colorscale\": [[0.0, \"rgb(252,174,145)\"], [0.3333333333333333, \"rgb(251,106,74)\"], [0.6666666666666666, \"rgb(222,45,38)\"], [1.0, \"rgb(165,15,21)\"]]}, \"text\": [\"8.42%\", \"23.70%\", \"6.05%\", \"14.49%\", \"8.13%\"], \"type\": \"bar\", \"uid\": \"f570a647-52e2-409e-baad-168c13f78b90\", \"x\": [\"ESO\", \"FPB\", \"BACH\", \"CFGM\", \"CFGS\"], \"y\": [8.419230769230769, 23.700000000000003, 6.049999999999999, 14.49333333333333, 8.134615384615385]}],\n",
       "                        {\"title\": {\"text\": \"\"}},\n",
       "                        {\"showLink\": false, \"linkText\": \"Export to plot.ly\", \"plotlyServerURL\": \"https://plot.ly\", \"responsive\": true}\n",
       "                    ).then(function(){\n",
       "                            \n",
       "var gd = document.getElementById('2db742fd-e0e3-4677-bc7a-2b22f6b4b9fc');\n",
       "var x = new MutationObserver(function (mutations, observer) {{\n",
       "        var display = window.getComputedStyle(gd).display;\n",
       "        if (!display || display === 'none') {{\n",
       "            console.log([gd, 'removed!']);\n",
       "            Plotly.purge(gd);\n",
       "            observer.disconnect();\n",
       "        }}\n",
       "}});\n",
       "\n",
       "// Listen for the removal of the full notebook cells\n",
       "var notebookContainer = gd.closest('#notebook-container');\n",
       "if (notebookContainer) {{\n",
       "    x.observe(notebookContainer, {childList: true});\n",
       "}}\n",
       "\n",
       "// Listen for the clearing of the current output cell\n",
       "var outputEl = gd.closest('.output');\n",
       "if (outputEl) {{\n",
       "    x.observe(outputEl, {childList: true});\n",
       "}}\n",
       "\n",
       "                        })\n",
       "                };\n",
       "                });\n",
       "            </script>\n",
       "        </div>"
      ]
     },
     "metadata": {},
     "output_type": "display_data"
    }
   ],
   "source": [
    "myplotly.bar_simple(dfc_summary.index, dfc_summary['absentismo'], colormap='Reds')"
   ]
  },
  {
   "cell_type": "markdown",
   "metadata": {},
   "source": [
    "## COMPARATIVA CON LOS ÚLTIMOS CURSOS"
   ]
  },
  {
   "cell_type": "code",
   "execution_count": 44,
   "metadata": {},
   "outputs": [
    {
     "data": {
      "application/vnd.plotly.v1+json": {
       "config": {
        "linkText": "Export to plot.ly",
        "plotlyServerURL": "https://plot.ly",
        "responsive": true,
        "showLink": false
       },
       "data": [
        {
         "hoverinfo": "x+text+name",
         "name": "C1617",
         "text": [
          "7.69%",
          "16.80%",
          "7.81%",
          "19.03%",
          "11.30%"
         ],
         "type": "bar",
         "uid": "be627a20-bd0f-4660-ac9f-998fa63ec884",
         "x": [
          "ESO",
          "FPB",
          "BACH",
          "CFGM",
          "CFGS"
         ],
         "y": [
          7.6925,
          16.795,
          7.8100000000000005,
          19.03,
          11.304
         ]
        },
        {
         "hoverinfo": "x+text+name",
         "name": "C1718",
         "text": [
          "8.43%",
          "22.71%",
          "5.81%",
          "15.28%",
          "9.63%"
         ],
         "type": "bar",
         "uid": "f2933ef4-fd0c-43fd-8eb2-3cd25cdf4128",
         "x": [
          "ESO",
          "FPB",
          "BACH",
          "CFGM",
          "CFGS"
         ],
         "y": [
          8.432307692307694,
          22.71,
          5.8149999999999995,
          15.280000000000001,
          9.633846153846152
         ]
        },
        {
         "hoverinfo": "x+text+name",
         "name": "C1819",
         "text": [
          "8.42%",
          "23.70%",
          "6.05%",
          "14.49%",
          "8.13%"
         ],
         "type": "bar",
         "uid": "0af091e7-94a5-4ed6-bb7f-3c2185d8ee43",
         "x": [
          "ESO",
          "FPB",
          "BACH",
          "CFGM",
          "CFGS"
         ],
         "y": [
          8.419230769230769,
          23.700000000000003,
          6.049999999999999,
          14.49333333333333,
          8.134615384615385
         ]
        }
       ],
       "layout": {
        "barmode": "group"
       }
      },
      "text/html": [
       "<div>\n",
       "        \n",
       "        \n",
       "            <div id=\"e3c58800-bd50-47f5-b5e0-33b35b101cb0\" class=\"plotly-graph-div\" style=\"height:525px; width:100%;\"></div>\n",
       "            <script type=\"text/javascript\">\n",
       "                require([\"plotly\"], function(Plotly) {\n",
       "                    window.PLOTLYENV=window.PLOTLYENV || {};\n",
       "                    window.PLOTLYENV.BASE_URL='https://plot.ly';\n",
       "                    \n",
       "                if (document.getElementById(\"e3c58800-bd50-47f5-b5e0-33b35b101cb0\")) {\n",
       "                    Plotly.newPlot(\n",
       "                        'e3c58800-bd50-47f5-b5e0-33b35b101cb0',\n",
       "                        [{\"hoverinfo\": \"x+text+name\", \"name\": \"C1617\", \"text\": [\"7.69%\", \"16.80%\", \"7.81%\", \"19.03%\", \"11.30%\"], \"type\": \"bar\", \"uid\": \"0dee27bf-1b18-4e2e-8c73-d8ac908093e1\", \"x\": [\"ESO\", \"FPB\", \"BACH\", \"CFGM\", \"CFGS\"], \"y\": [7.6925, 16.795, 7.8100000000000005, 19.03, 11.304]}, {\"hoverinfo\": \"x+text+name\", \"name\": \"C1718\", \"text\": [\"8.43%\", \"22.71%\", \"5.81%\", \"15.28%\", \"9.63%\"], \"type\": \"bar\", \"uid\": \"71565073-817c-419d-85af-7a7c197b23f1\", \"x\": [\"ESO\", \"FPB\", \"BACH\", \"CFGM\", \"CFGS\"], \"y\": [8.432307692307694, 22.71, 5.8149999999999995, 15.280000000000001, 9.633846153846152]}, {\"hoverinfo\": \"x+text+name\", \"name\": \"C1819\", \"text\": [\"8.42%\", \"23.70%\", \"6.05%\", \"14.49%\", \"8.13%\"], \"type\": \"bar\", \"uid\": \"000289d3-7857-4519-b45c-43c791165936\", \"x\": [\"ESO\", \"FPB\", \"BACH\", \"CFGM\", \"CFGS\"], \"y\": [8.419230769230769, 23.700000000000003, 6.049999999999999, 14.49333333333333, 8.134615384615385]}],\n",
       "                        {\"barmode\": \"group\"},\n",
       "                        {\"showLink\": false, \"linkText\": \"Export to plot.ly\", \"plotlyServerURL\": \"https://plot.ly\", \"responsive\": true}\n",
       "                    ).then(function(){\n",
       "                            \n",
       "var gd = document.getElementById('e3c58800-bd50-47f5-b5e0-33b35b101cb0');\n",
       "var x = new MutationObserver(function (mutations, observer) {{\n",
       "        var display = window.getComputedStyle(gd).display;\n",
       "        if (!display || display === 'none') {{\n",
       "            console.log([gd, 'removed!']);\n",
       "            Plotly.purge(gd);\n",
       "            observer.disconnect();\n",
       "        }}\n",
       "}});\n",
       "\n",
       "// Listen for the removal of the full notebook cells\n",
       "var notebookContainer = gd.closest('#notebook-container');\n",
       "if (notebookContainer) {{\n",
       "    x.observe(notebookContainer, {childList: true});\n",
       "}}\n",
       "\n",
       "// Listen for the clearing of the current output cell\n",
       "var outputEl = gd.closest('.output');\n",
       "if (outputEl) {{\n",
       "    x.observe(outputEl, {childList: true});\n",
       "}}\n",
       "\n",
       "                        })\n",
       "                };\n",
       "                });\n",
       "            </script>\n",
       "        </div>"
      ]
     },
     "metadata": {},
     "output_type": "display_data"
    }
   ],
   "source": [
    "aux = df.groupby(['etapa', 'curso', 'evaluación']).mean().reset_index().set_index('etapa')\n",
    "series = {year: aux.loc[stages].query(f'curso == \"{year}\" & evaluación == \"{labels[-1][1]}\"')['absentismo'].values\n",
    "          for year in years}\n",
    "\n",
    "myplotly.cbar(stages, series)"
   ]
  },
  {
   "cell_type": "code",
   "execution_count": 45,
   "metadata": {
    "scrolled": false
   },
   "outputs": [
    {
     "data": {
      "text/html": [
       "\n",
       "<div class='alert alert-info' role=\"alert\">\n",
       "    Absentismo global medio: <b>9.84</b>%\n",
       "</div>\n"
      ],
      "text/plain": [
       "<IPython.core.display.HTML object>"
      ]
     },
     "metadata": {},
     "output_type": "display_data"
    }
   ],
   "source": [
    "mean_absence = dfc['absentismo'].mean()\n",
    "display(HTML(f'''\n",
    "<div class='alert alert-info' role=\"alert\">\n",
    "    Absentismo global medio: <b>{mean_absence:.2f}</b>%\n",
    "</div>\n",
    "'''))"
   ]
  },
  {
   "cell_type": "code",
   "execution_count": 46,
   "metadata": {
    "scrolled": false
   },
   "outputs": [
    {
     "data": {
      "text/html": [
       "<h2>EVOLUCIÓN DE GRUPOS CON RESPECTO A LA EVALUACIÓN ANTERIOR"
      ],
      "text/plain": [
       "<IPython.core.display.HTML object>"
      ]
     },
     "metadata": {},
     "output_type": "display_data"
    },
    {
     "data": {
      "application/vnd.plotly.v1+json": {
       "config": {
        "linkText": "Export to plot.ly",
        "plotlyServerURL": "https://plot.ly",
        "responsive": true,
        "showLink": false
       },
       "data": [
        {
         "hoverinfo": "x+text",
         "marker": {
          "color": [
           "red",
           "red",
           "green",
           "green",
           "red",
           "green",
           "green",
           "green",
           "green",
           "red",
           "red",
           "red",
           "red",
           "green",
           "green",
           "green",
           "red",
           "green",
           "green",
           "green",
           "green",
           "green",
           "green",
           "green",
           "green",
           "red",
           "red",
           "green",
           "red",
           "green",
           "green",
           "green",
           "green",
           "green",
           "green"
          ]
         },
         "text": [
          "0.42%",
          "0.27%",
          "-0.19%",
          "-0.62%",
          "0.63%",
          "-0.31%",
          "-0.09%",
          "-0.29%",
          "-0.26%",
          "1.62%",
          "5.18%",
          "0.25%",
          "1.16%",
          "-2.44%",
          "-2.53%",
          "-0.24%",
          "0.62%",
          "-1.15%",
          "-1.01%",
          "-0.66%",
          "-0.13%",
          "-1.19%",
          "-1.61%",
          "-0.82%",
          "-1.62%",
          "0.96%",
          "0.70%",
          "-1.18%",
          "1.44%",
          "-1.47%",
          "-0.80%",
          "-1.41%",
          "-2.59%",
          "-0.73%",
          "-2.25%"
         ],
         "type": "bar",
         "uid": "670a196c-75f0-4257-bcc2-4eb49e7539b9",
         "x": [
          "ESO1A",
          "ESO1B",
          "ESO1C",
          "ESO2A",
          "ESO2B",
          "ESO2C",
          "ESO2D",
          "ESO3A",
          "ESO3B",
          "ESO3C",
          "ESO3D",
          "ESO4A",
          "ESO4B",
          "1FPB",
          "2FPB",
          "1CIE",
          "1SOC",
          "2CIE",
          "2SOC",
          "1TEL",
          "1ELE",
          "1CAR",
          "2TEL",
          "2ELE",
          "2CAR",
          "1ARI",
          "1ALO",
          "1GIT",
          "1ASR",
          "1DAW",
          "2ARI",
          "2ALO",
          "2GIT",
          "2ASR",
          "2DAW"
         ],
         "y": [
          0.41999999999999993,
          0.27000000000000046,
          -0.1900000000000004,
          -0.6199999999999992,
          0.6300000000000008,
          -0.3100000000000005,
          -0.08999999999999986,
          -0.2900000000000009,
          -0.2599999999999998,
          1.6199999999999992,
          5.179999999999998,
          0.25,
          1.1600000000000001,
          -2.4399999999999977,
          -2.530000000000001,
          -0.2400000000000002,
          0.6199999999999992,
          -1.1500000000000004,
          -1.0099999999999998,
          -0.6600000000000001,
          -0.13000000000000256,
          -1.1900000000000048,
          -1.6100000000000012,
          -0.8200000000000003,
          -1.6199999999999992,
          0.9599999999999991,
          0.6999999999999993,
          -1.1799999999999997,
          1.4400000000000013,
          -1.4699999999999989,
          -0.7999999999999998,
          -1.4100000000000001,
          -2.59,
          -0.7300000000000004,
          -2.25
         ]
        }
       ],
       "layout": {
        "title": {
         "text": ""
        }
       }
      },
      "text/html": [
       "<div>\n",
       "        \n",
       "        \n",
       "            <div id=\"e2bf7d0b-ccb9-4458-b1b6-777cbca79f4e\" class=\"plotly-graph-div\" style=\"height:525px; width:100%;\"></div>\n",
       "            <script type=\"text/javascript\">\n",
       "                require([\"plotly\"], function(Plotly) {\n",
       "                    window.PLOTLYENV=window.PLOTLYENV || {};\n",
       "                    window.PLOTLYENV.BASE_URL='https://plot.ly';\n",
       "                    \n",
       "                if (document.getElementById(\"e2bf7d0b-ccb9-4458-b1b6-777cbca79f4e\")) {\n",
       "                    Plotly.newPlot(\n",
       "                        'e2bf7d0b-ccb9-4458-b1b6-777cbca79f4e',\n",
       "                        [{\"hoverinfo\": \"x+text\", \"marker\": {\"color\": [\"red\", \"red\", \"green\", \"green\", \"red\", \"green\", \"green\", \"green\", \"green\", \"red\", \"red\", \"red\", \"red\", \"green\", \"green\", \"green\", \"red\", \"green\", \"green\", \"green\", \"green\", \"green\", \"green\", \"green\", \"green\", \"red\", \"red\", \"green\", \"red\", \"green\", \"green\", \"green\", \"green\", \"green\", \"green\"]}, \"text\": [\"0.42%\", \"0.27%\", \"-0.19%\", \"-0.62%\", \"0.63%\", \"-0.31%\", \"-0.09%\", \"-0.29%\", \"-0.26%\", \"1.62%\", \"5.18%\", \"0.25%\", \"1.16%\", \"-2.44%\", \"-2.53%\", \"-0.24%\", \"0.62%\", \"-1.15%\", \"-1.01%\", \"-0.66%\", \"-0.13%\", \"-1.19%\", \"-1.61%\", \"-0.82%\", \"-1.62%\", \"0.96%\", \"0.70%\", \"-1.18%\", \"1.44%\", \"-1.47%\", \"-0.80%\", \"-1.41%\", \"-2.59%\", \"-0.73%\", \"-2.25%\"], \"type\": \"bar\", \"uid\": \"179ba7bf-8a09-4d4d-8019-a31703524045\", \"x\": [\"ESO1A\", \"ESO1B\", \"ESO1C\", \"ESO2A\", \"ESO2B\", \"ESO2C\", \"ESO2D\", \"ESO3A\", \"ESO3B\", \"ESO3C\", \"ESO3D\", \"ESO4A\", \"ESO4B\", \"1FPB\", \"2FPB\", \"1CIE\", \"1SOC\", \"2CIE\", \"2SOC\", \"1TEL\", \"1ELE\", \"1CAR\", \"2TEL\", \"2ELE\", \"2CAR\", \"1ARI\", \"1ALO\", \"1GIT\", \"1ASR\", \"1DAW\", \"2ARI\", \"2ALO\", \"2GIT\", \"2ASR\", \"2DAW\"], \"y\": [0.41999999999999993, 0.27000000000000046, -0.1900000000000004, -0.6199999999999992, 0.6300000000000008, -0.3100000000000005, -0.08999999999999986, -0.2900000000000009, -0.2599999999999998, 1.6199999999999992, 5.179999999999998, 0.25, 1.1600000000000001, -2.4399999999999977, -2.530000000000001, -0.2400000000000002, 0.6199999999999992, -1.1500000000000004, -1.0099999999999998, -0.6600000000000001, -0.13000000000000256, -1.1900000000000048, -1.6100000000000012, -0.8200000000000003, -1.6199999999999992, 0.9599999999999991, 0.6999999999999993, -1.1799999999999997, 1.4400000000000013, -1.4699999999999989, -0.7999999999999998, -1.4100000000000001, -2.59, -0.7300000000000004, -2.25]}],\n",
       "                        {\"title\": {\"text\": \"\"}},\n",
       "                        {\"showLink\": false, \"linkText\": \"Export to plot.ly\", \"plotlyServerURL\": \"https://plot.ly\", \"responsive\": true}\n",
       "                    ).then(function(){\n",
       "                            \n",
       "var gd = document.getElementById('e2bf7d0b-ccb9-4458-b1b6-777cbca79f4e');\n",
       "var x = new MutationObserver(function (mutations, observer) {{\n",
       "        var display = window.getComputedStyle(gd).display;\n",
       "        if (!display || display === 'none') {{\n",
       "            console.log([gd, 'removed!']);\n",
       "            Plotly.purge(gd);\n",
       "            observer.disconnect();\n",
       "        }}\n",
       "}});\n",
       "\n",
       "// Listen for the removal of the full notebook cells\n",
       "var notebookContainer = gd.closest('#notebook-container');\n",
       "if (notebookContainer) {{\n",
       "    x.observe(notebookContainer, {childList: true});\n",
       "}}\n",
       "\n",
       "// Listen for the clearing of the current output cell\n",
       "var outputEl = gd.closest('.output');\n",
       "if (outputEl) {{\n",
       "    x.observe(outputEl, {childList: true});\n",
       "}}\n",
       "\n",
       "                        })\n",
       "                };\n",
       "                });\n",
       "            </script>\n",
       "        </div>"
      ]
     },
     "metadata": {},
     "output_type": "display_data"
    }
   ],
   "source": [
    "if EVALUATION > 1:\n",
    "    display(HTML('<h2>EVOLUCIÓN DE GRUPOS CON RESPECTO A LA EVALUACIÓN ANTERIOR'))\n",
    "\n",
    "    aux = df_comp['absentismo_x'] - df_comp['absentismo_y']\n",
    "    myplotly.dbar(aux.index, aux, inverted_colors=True)"
   ]
  },
  {
   "cell_type": "markdown",
   "metadata": {},
   "source": [
    "# GESTIÓN DE LA CONVIVENCIA"
   ]
  },
  {
   "cell_type": "markdown",
   "metadata": {},
   "source": [
    "## PARTES DE GESTIÓN"
   ]
  },
  {
   "cell_type": "code",
   "execution_count": 47,
   "metadata": {},
   "outputs": [
    {
     "data": {
      "application/vnd.plotly.v1+json": {
       "config": {
        "linkText": "Export to plot.ly",
        "plotlyServerURL": "https://plot.ly",
        "responsive": true,
        "showLink": false
       },
       "data": [
        {
         "marker": {
          "color": [
           2,
           1,
           3,
           1,
           1,
           5,
           1
          ],
          "colorscale": [
           [
            0,
            "rgb(252,174,145)"
           ],
           [
            0.3333333333333333,
            "rgb(251,106,74)"
           ],
           [
            0.6666666666666666,
            "rgb(222,45,38)"
           ],
           [
            1,
            "rgb(165,15,21)"
           ]
          ]
         },
         "type": "bar",
         "uid": "4ff6b0af-c849-4862-9c34-8fff16482e49",
         "x": [
          "ESO1A",
          "ESO1C",
          "ESO2A",
          "ESO3C",
          "ESO4B",
          "1FPB",
          "1SOC"
         ],
         "y": [
          2,
          1,
          3,
          1,
          1,
          5,
          1
         ]
        }
       ],
       "layout": {
        "title": {
         "text": ""
        }
       }
      },
      "text/html": [
       "<div>\n",
       "        \n",
       "        \n",
       "            <div id=\"0991f557-674f-4002-9678-a74956c06bfd\" class=\"plotly-graph-div\" style=\"height:525px; width:100%;\"></div>\n",
       "            <script type=\"text/javascript\">\n",
       "                require([\"plotly\"], function(Plotly) {\n",
       "                    window.PLOTLYENV=window.PLOTLYENV || {};\n",
       "                    window.PLOTLYENV.BASE_URL='https://plot.ly';\n",
       "                    \n",
       "                if (document.getElementById(\"0991f557-674f-4002-9678-a74956c06bfd\")) {\n",
       "                    Plotly.newPlot(\n",
       "                        '0991f557-674f-4002-9678-a74956c06bfd',\n",
       "                        [{\"marker\": {\"color\": [2.0, 1.0, 3.0, 1.0, 1.0, 5.0, 1.0], \"colorscale\": [[0.0, \"rgb(252,174,145)\"], [0.3333333333333333, \"rgb(251,106,74)\"], [0.6666666666666666, \"rgb(222,45,38)\"], [1.0, \"rgb(165,15,21)\"]]}, \"type\": \"bar\", \"uid\": \"e18a8e84-6025-4b0a-8050-7cc4c3be25ef\", \"x\": [\"ESO1A\", \"ESO1C\", \"ESO2A\", \"ESO3C\", \"ESO4B\", \"1FPB\", \"1SOC\"], \"y\": [2.0, 1.0, 3.0, 1.0, 1.0, 5.0, 1.0]}],\n",
       "                        {\"title\": {\"text\": \"\"}},\n",
       "                        {\"showLink\": false, \"linkText\": \"Export to plot.ly\", \"plotlyServerURL\": \"https://plot.ly\", \"responsive\": true}\n",
       "                    ).then(function(){\n",
       "                            \n",
       "var gd = document.getElementById('0991f557-674f-4002-9678-a74956c06bfd');\n",
       "var x = new MutationObserver(function (mutations, observer) {{\n",
       "        var display = window.getComputedStyle(gd).display;\n",
       "        if (!display || display === 'none') {{\n",
       "            console.log([gd, 'removed!']);\n",
       "            Plotly.purge(gd);\n",
       "            observer.disconnect();\n",
       "        }}\n",
       "}});\n",
       "\n",
       "// Listen for the removal of the full notebook cells\n",
       "var notebookContainer = gd.closest('#notebook-container');\n",
       "if (notebookContainer) {{\n",
       "    x.observe(notebookContainer, {childList: true});\n",
       "}}\n",
       "\n",
       "// Listen for the clearing of the current output cell\n",
       "var outputEl = gd.closest('.output');\n",
       "if (outputEl) {{\n",
       "    x.observe(outputEl, {childList: true});\n",
       "}}\n",
       "\n",
       "                        })\n",
       "                };\n",
       "                });\n",
       "            </script>\n",
       "        </div>"
      ]
     },
     "metadata": {},
     "output_type": "display_data"
    }
   ],
   "source": [
    "dfc_reports = dfc.query('partes > 0')['partes']\n",
    "myplotly.bar_simple(dfc_reports.index, dfc_reports, colormap='Reds', is_percentage=False)"
   ]
  },
  {
   "cell_type": "markdown",
   "metadata": {},
   "source": [
    "## COMPARATIVA CON LOS ÚLTIMOS CURSOS"
   ]
  },
  {
   "cell_type": "code",
   "execution_count": 48,
   "metadata": {},
   "outputs": [
    {
     "data": {
      "application/vnd.plotly.v1+json": {
       "config": {
        "linkText": "Export to plot.ly",
        "plotlyServerURL": "https://plot.ly",
        "responsive": true,
        "showLink": false
       },
       "data": [
        {
         "name": "C1617",
         "type": "bar",
         "uid": "9a6caa75-73ba-4fde-84a5-b456d59e8a5c",
         "x": [
          "ESO",
          "FPB",
          "BACH",
          "CFGM",
          "CFGS"
         ],
         "y": [
          25,
          4,
          1,
          0,
          0
         ]
        },
        {
         "name": "C1718",
         "type": "bar",
         "uid": "07815c24-bdbf-4003-b39e-298bb6d447e3",
         "x": [
          "ESO",
          "FPB",
          "BACH",
          "CFGM",
          "CFGS"
         ],
         "y": [
          22,
          6,
          0,
          2,
          0
         ]
        },
        {
         "name": "C1819",
         "type": "bar",
         "uid": "54639113-a2da-400b-88c2-18e358122f22",
         "x": [
          "ESO",
          "FPB",
          "BACH",
          "CFGM",
          "CFGS"
         ],
         "y": [
          8,
          5,
          1,
          0,
          0
         ]
        }
       ],
       "layout": {
        "barmode": "group"
       }
      },
      "text/html": [
       "<div>\n",
       "        \n",
       "        \n",
       "            <div id=\"a216e84a-c8e6-4e2d-afb7-61b1def28bf4\" class=\"plotly-graph-div\" style=\"height:525px; width:100%;\"></div>\n",
       "            <script type=\"text/javascript\">\n",
       "                require([\"plotly\"], function(Plotly) {\n",
       "                    window.PLOTLYENV=window.PLOTLYENV || {};\n",
       "                    window.PLOTLYENV.BASE_URL='https://plot.ly';\n",
       "                    \n",
       "                if (document.getElementById(\"a216e84a-c8e6-4e2d-afb7-61b1def28bf4\")) {\n",
       "                    Plotly.newPlot(\n",
       "                        'a216e84a-c8e6-4e2d-afb7-61b1def28bf4',\n",
       "                        [{\"name\": \"C1617\", \"type\": \"bar\", \"uid\": \"30ce7462-b1dd-45c0-a3a1-205dd6d88d37\", \"x\": [\"ESO\", \"FPB\", \"BACH\", \"CFGM\", \"CFGS\"], \"y\": [25.0, 4.0, 1.0, 0.0, 0.0]}, {\"name\": \"C1718\", \"type\": \"bar\", \"uid\": \"d5984cd2-15a8-42f7-ac7a-4958c2872e38\", \"x\": [\"ESO\", \"FPB\", \"BACH\", \"CFGM\", \"CFGS\"], \"y\": [22.0, 6.0, 0.0, 2.0, 0.0]}, {\"name\": \"C1819\", \"type\": \"bar\", \"uid\": \"ee613f79-2b20-443b-81fd-346a1578d9fc\", \"x\": [\"ESO\", \"FPB\", \"BACH\", \"CFGM\", \"CFGS\"], \"y\": [8.0, 5.0, 1.0, 0.0, 0.0]}],\n",
       "                        {\"barmode\": \"group\"},\n",
       "                        {\"showLink\": false, \"linkText\": \"Export to plot.ly\", \"plotlyServerURL\": \"https://plot.ly\", \"responsive\": true}\n",
       "                    ).then(function(){\n",
       "                            \n",
       "var gd = document.getElementById('a216e84a-c8e6-4e2d-afb7-61b1def28bf4');\n",
       "var x = new MutationObserver(function (mutations, observer) {{\n",
       "        var display = window.getComputedStyle(gd).display;\n",
       "        if (!display || display === 'none') {{\n",
       "            console.log([gd, 'removed!']);\n",
       "            Plotly.purge(gd);\n",
       "            observer.disconnect();\n",
       "        }}\n",
       "}});\n",
       "\n",
       "// Listen for the removal of the full notebook cells\n",
       "var notebookContainer = gd.closest('#notebook-container');\n",
       "if (notebookContainer) {{\n",
       "    x.observe(notebookContainer, {childList: true});\n",
       "}}\n",
       "\n",
       "// Listen for the clearing of the current output cell\n",
       "var outputEl = gd.closest('.output');\n",
       "if (outputEl) {{\n",
       "    x.observe(outputEl, {childList: true});\n",
       "}}\n",
       "\n",
       "                        })\n",
       "                };\n",
       "                });\n",
       "            </script>\n",
       "        </div>"
      ]
     },
     "metadata": {},
     "output_type": "display_data"
    }
   ],
   "source": [
    "aux = df.groupby(['etapa', 'curso', 'evaluación']).sum().reset_index().set_index('etapa')\n",
    "series = {year: aux.loc[stages].query(f'curso == \"{year}\" & evaluación == \"{labels[-1][1]}\"')['partes'].values\n",
    "          for year in years}\n",
    "\n",
    "myplotly.cbar(stages, series, is_percentage=False)"
   ]
  },
  {
   "cell_type": "code",
   "execution_count": 49,
   "metadata": {
    "scrolled": false
   },
   "outputs": [
    {
     "data": {
      "text/html": [
       "\n",
       "<div class='alert alert-info' role=\"alert\">\n",
       "    Total de partes de gestión: <b>14</b>\n",
       "</div>\n"
      ],
      "text/plain": [
       "<IPython.core.display.HTML object>"
      ]
     },
     "metadata": {},
     "output_type": "display_data"
    }
   ],
   "source": [
    "total_reports = dfc_reports.sum()\n",
    "display(HTML(f'''\n",
    "<div class='alert alert-info' role=\"alert\">\n",
    "    Total de partes de gestión: <b>{total_reports:.0f}</b>\n",
    "</div>\n",
    "'''))"
   ]
  },
  {
   "cell_type": "code",
   "execution_count": 50,
   "metadata": {
    "scrolled": true
   },
   "outputs": [
    {
     "data": {
      "text/html": [
       "<h2>EVOLUCIÓN DE GRUPOS CON RESPECTO A LA EVALUACIÓN ANTERIOR"
      ],
      "text/plain": [
       "<IPython.core.display.HTML object>"
      ]
     },
     "metadata": {},
     "output_type": "display_data"
    },
    {
     "data": {
      "application/vnd.plotly.v1+json": {
       "config": {
        "linkText": "Export to plot.ly",
        "plotlyServerURL": "https://plot.ly",
        "responsive": true,
        "showLink": false
       },
       "data": [
        {
         "marker": {
          "color": [
           "green",
           "green",
           "green",
           "red",
           "green",
           "green",
           "green",
           "green",
           "green",
           "red",
           "green",
           "green",
           "red",
           "green",
           "green",
           "green",
           "red",
           "green",
           "green",
           "green",
           "green",
           "green",
           "green",
           "green",
           "green",
           "green",
           "green",
           "green",
           "green",
           "green",
           "green",
           "green",
           "green",
           "green",
           "green"
          ]
         },
         "type": "bar",
         "uid": "d5fc011f-ffc2-4a4b-8a3e-b4848191476f",
         "x": [
          "ESO1A",
          "ESO1B",
          "ESO1C",
          "ESO2A",
          "ESO2B",
          "ESO2C",
          "ESO2D",
          "ESO3A",
          "ESO3B",
          "ESO3C",
          "ESO3D",
          "ESO4A",
          "ESO4B",
          "1FPB",
          "2FPB",
          "1CIE",
          "1SOC",
          "2CIE",
          "2SOC",
          "1TEL",
          "1ELE",
          "1CAR",
          "2TEL",
          "2ELE",
          "2CAR",
          "1ARI",
          "1ALO",
          "1GIT",
          "1ASR",
          "1DAW",
          "2ARI",
          "2ALO",
          "2GIT",
          "2ASR",
          "2DAW"
         ],
         "y": [
          -6,
          0,
          -2,
          1,
          0,
          -1,
          -1,
          0,
          0,
          1,
          0,
          0,
          1,
          -2,
          0,
          0,
          1,
          0,
          0,
          0,
          0,
          0,
          0,
          0,
          0,
          0,
          0,
          0,
          0,
          0,
          0,
          0,
          0,
          0,
          0
         ]
        }
       ],
       "layout": {
        "title": {
         "text": ""
        }
       }
      },
      "text/html": [
       "<div>\n",
       "        \n",
       "        \n",
       "            <div id=\"d1f3b860-4f9f-47a2-ae3d-8a1e877df6b0\" class=\"plotly-graph-div\" style=\"height:525px; width:100%;\"></div>\n",
       "            <script type=\"text/javascript\">\n",
       "                require([\"plotly\"], function(Plotly) {\n",
       "                    window.PLOTLYENV=window.PLOTLYENV || {};\n",
       "                    window.PLOTLYENV.BASE_URL='https://plot.ly';\n",
       "                    \n",
       "                if (document.getElementById(\"d1f3b860-4f9f-47a2-ae3d-8a1e877df6b0\")) {\n",
       "                    Plotly.newPlot(\n",
       "                        'd1f3b860-4f9f-47a2-ae3d-8a1e877df6b0',\n",
       "                        [{\"marker\": {\"color\": [\"green\", \"green\", \"green\", \"red\", \"green\", \"green\", \"green\", \"green\", \"green\", \"red\", \"green\", \"green\", \"red\", \"green\", \"green\", \"green\", \"red\", \"green\", \"green\", \"green\", \"green\", \"green\", \"green\", \"green\", \"green\", \"green\", \"green\", \"green\", \"green\", \"green\", \"green\", \"green\", \"green\", \"green\", \"green\"]}, \"type\": \"bar\", \"uid\": \"a70bf1d0-d3cb-4adf-901c-8f89fff225b8\", \"x\": [\"ESO1A\", \"ESO1B\", \"ESO1C\", \"ESO2A\", \"ESO2B\", \"ESO2C\", \"ESO2D\", \"ESO3A\", \"ESO3B\", \"ESO3C\", \"ESO3D\", \"ESO4A\", \"ESO4B\", \"1FPB\", \"2FPB\", \"1CIE\", \"1SOC\", \"2CIE\", \"2SOC\", \"1TEL\", \"1ELE\", \"1CAR\", \"2TEL\", \"2ELE\", \"2CAR\", \"1ARI\", \"1ALO\", \"1GIT\", \"1ASR\", \"1DAW\", \"2ARI\", \"2ALO\", \"2GIT\", \"2ASR\", \"2DAW\"], \"y\": [-6.0, 0.0, -2.0, 1.0, 0.0, -1.0, -1.0, 0.0, 0.0, 1.0, 0.0, 0.0, 1.0, -2.0, 0.0, 0.0, 1.0, 0.0, 0.0, 0.0, 0.0, 0.0, 0.0, 0.0, 0.0, 0.0, 0.0, 0.0, 0.0, 0.0, 0.0, 0.0, 0.0, 0.0, 0.0]}],\n",
       "                        {\"title\": {\"text\": \"\"}},\n",
       "                        {\"showLink\": false, \"linkText\": \"Export to plot.ly\", \"plotlyServerURL\": \"https://plot.ly\", \"responsive\": true}\n",
       "                    ).then(function(){\n",
       "                            \n",
       "var gd = document.getElementById('d1f3b860-4f9f-47a2-ae3d-8a1e877df6b0');\n",
       "var x = new MutationObserver(function (mutations, observer) {{\n",
       "        var display = window.getComputedStyle(gd).display;\n",
       "        if (!display || display === 'none') {{\n",
       "            console.log([gd, 'removed!']);\n",
       "            Plotly.purge(gd);\n",
       "            observer.disconnect();\n",
       "        }}\n",
       "}});\n",
       "\n",
       "// Listen for the removal of the full notebook cells\n",
       "var notebookContainer = gd.closest('#notebook-container');\n",
       "if (notebookContainer) {{\n",
       "    x.observe(notebookContainer, {childList: true});\n",
       "}}\n",
       "\n",
       "// Listen for the clearing of the current output cell\n",
       "var outputEl = gd.closest('.output');\n",
       "if (outputEl) {{\n",
       "    x.observe(outputEl, {childList: true});\n",
       "}}\n",
       "\n",
       "                        })\n",
       "                };\n",
       "                });\n",
       "            </script>\n",
       "        </div>"
      ]
     },
     "metadata": {},
     "output_type": "display_data"
    }
   ],
   "source": [
    "if EVALUATION > 1:\n",
    "    display(HTML('<h2>EVOLUCIÓN DE GRUPOS CON RESPECTO A LA EVALUACIÓN ANTERIOR'))\n",
    "\n",
    "    aux = df_comp['partes_x'] - df_comp['partes_y']\n",
    "    myplotly.dbar(aux.index, aux, is_percentage=False, inverted_colors=True)"
   ]
  },
  {
   "cell_type": "markdown",
   "metadata": {},
   "source": [
    "## SUSPENSIÓN DEL DERECHO DE ASISTENCIA"
   ]
  },
  {
   "cell_type": "code",
   "execution_count": 51,
   "metadata": {},
   "outputs": [
    {
     "data": {
      "application/vnd.plotly.v1+json": {
       "config": {
        "linkText": "Export to plot.ly",
        "plotlyServerURL": "https://plot.ly",
        "responsive": true,
        "showLink": false
       },
       "data": [
        {
         "marker": {
          "color": [
           1,
           6
          ],
          "colorscale": [
           [
            0,
            "rgb(252,174,145)"
           ],
           [
            0.3333333333333333,
            "rgb(251,106,74)"
           ],
           [
            0.6666666666666666,
            "rgb(222,45,38)"
           ],
           [
            1,
            "rgb(165,15,21)"
           ]
          ]
         },
         "type": "bar",
         "uid": "dd55bcf3-17ac-4cd2-a752-4e5dc4710e3b",
         "x": [
          "ESO2A",
          "1FPB"
         ],
         "y": [
          1,
          6
         ]
        }
       ],
       "layout": {
        "title": {
         "text": ""
        }
       }
      },
      "text/html": [
       "<div>\n",
       "        \n",
       "        \n",
       "            <div id=\"84fa0e4c-491d-4b8d-9b0d-71baf80245c2\" class=\"plotly-graph-div\" style=\"height:525px; width:100%;\"></div>\n",
       "            <script type=\"text/javascript\">\n",
       "                require([\"plotly\"], function(Plotly) {\n",
       "                    window.PLOTLYENV=window.PLOTLYENV || {};\n",
       "                    window.PLOTLYENV.BASE_URL='https://plot.ly';\n",
       "                    \n",
       "                if (document.getElementById(\"84fa0e4c-491d-4b8d-9b0d-71baf80245c2\")) {\n",
       "                    Plotly.newPlot(\n",
       "                        '84fa0e4c-491d-4b8d-9b0d-71baf80245c2',\n",
       "                        [{\"marker\": {\"color\": [1.0, 6.0], \"colorscale\": [[0.0, \"rgb(252,174,145)\"], [0.3333333333333333, \"rgb(251,106,74)\"], [0.6666666666666666, \"rgb(222,45,38)\"], [1.0, \"rgb(165,15,21)\"]]}, \"type\": \"bar\", \"uid\": \"24117ae1-72d6-4e57-93a4-fe1150a76023\", \"x\": [\"ESO2A\", \"1FPB\"], \"y\": [1.0, 6.0]}],\n",
       "                        {\"title\": {\"text\": \"\"}},\n",
       "                        {\"showLink\": false, \"linkText\": \"Export to plot.ly\", \"plotlyServerURL\": \"https://plot.ly\", \"responsive\": true}\n",
       "                    ).then(function(){\n",
       "                            \n",
       "var gd = document.getElementById('84fa0e4c-491d-4b8d-9b0d-71baf80245c2');\n",
       "var x = new MutationObserver(function (mutations, observer) {{\n",
       "        var display = window.getComputedStyle(gd).display;\n",
       "        if (!display || display === 'none') {{\n",
       "            console.log([gd, 'removed!']);\n",
       "            Plotly.purge(gd);\n",
       "            observer.disconnect();\n",
       "        }}\n",
       "}});\n",
       "\n",
       "// Listen for the removal of the full notebook cells\n",
       "var notebookContainer = gd.closest('#notebook-container');\n",
       "if (notebookContainer) {{\n",
       "    x.observe(notebookContainer, {childList: true});\n",
       "}}\n",
       "\n",
       "// Listen for the clearing of the current output cell\n",
       "var outputEl = gd.closest('.output');\n",
       "if (outputEl) {{\n",
       "    x.observe(outputEl, {childList: true});\n",
       "}}\n",
       "\n",
       "                        })\n",
       "                };\n",
       "                });\n",
       "            </script>\n",
       "        </div>"
      ]
     },
     "metadata": {},
     "output_type": "display_data"
    }
   ],
   "source": [
    "dfc_non_attendance = dfc.query('suspensión_asistencia > 0')['suspensión_asistencia']\n",
    "myplotly.bar_simple(dfc_non_attendance.index, dfc_non_attendance, colormap='Reds', is_percentage=False)"
   ]
  },
  {
   "cell_type": "markdown",
   "metadata": {},
   "source": [
    "## COMPARATIVA CON LOS ÚLTIMOS CURSOS"
   ]
  },
  {
   "cell_type": "code",
   "execution_count": 52,
   "metadata": {},
   "outputs": [
    {
     "data": {
      "application/vnd.plotly.v1+json": {
       "config": {
        "linkText": "Export to plot.ly",
        "plotlyServerURL": "https://plot.ly",
        "responsive": true,
        "showLink": false
       },
       "data": [
        {
         "name": "C1617",
         "type": "bar",
         "uid": "6e8ae725-49ef-49c0-9450-6c4a7922737d",
         "x": [
          "ESO",
          "FPB",
          "BACH",
          "CFGM",
          "CFGS"
         ],
         "y": [
          10,
          1,
          1,
          0,
          0
         ]
        },
        {
         "name": "C1718",
         "type": "bar",
         "uid": "cddaf229-d7d2-4035-896d-c1db37cd5bfb",
         "x": [
          "ESO",
          "FPB",
          "BACH",
          "CFGM",
          "CFGS"
         ],
         "y": [
          6,
          2,
          0,
          0,
          0
         ]
        },
        {
         "name": "C1819",
         "type": "bar",
         "uid": "48615d58-87ca-4677-88d2-3d165c8f5f94",
         "x": [
          "ESO",
          "FPB",
          "BACH",
          "CFGM",
          "CFGS"
         ],
         "y": [
          1,
          6,
          0,
          0,
          0
         ]
        }
       ],
       "layout": {
        "barmode": "group"
       }
      },
      "text/html": [
       "<div>\n",
       "        \n",
       "        \n",
       "            <div id=\"0462eec7-eab7-4bdb-84fb-c4c2f1a15c6a\" class=\"plotly-graph-div\" style=\"height:525px; width:100%;\"></div>\n",
       "            <script type=\"text/javascript\">\n",
       "                require([\"plotly\"], function(Plotly) {\n",
       "                    window.PLOTLYENV=window.PLOTLYENV || {};\n",
       "                    window.PLOTLYENV.BASE_URL='https://plot.ly';\n",
       "                    \n",
       "                if (document.getElementById(\"0462eec7-eab7-4bdb-84fb-c4c2f1a15c6a\")) {\n",
       "                    Plotly.newPlot(\n",
       "                        '0462eec7-eab7-4bdb-84fb-c4c2f1a15c6a',\n",
       "                        [{\"name\": \"C1617\", \"type\": \"bar\", \"uid\": \"115e7fb3-da69-4787-8348-d81d3cb47022\", \"x\": [\"ESO\", \"FPB\", \"BACH\", \"CFGM\", \"CFGS\"], \"y\": [10.0, 1.0, 1.0, 0.0, 0.0]}, {\"name\": \"C1718\", \"type\": \"bar\", \"uid\": \"f9be106c-7003-4bd0-b27a-b8cacf52745a\", \"x\": [\"ESO\", \"FPB\", \"BACH\", \"CFGM\", \"CFGS\"], \"y\": [6.0, 2.0, 0.0, 0.0, 0.0]}, {\"name\": \"C1819\", \"type\": \"bar\", \"uid\": \"51b9e375-0491-4dcf-bc20-5d404c4ec9a5\", \"x\": [\"ESO\", \"FPB\", \"BACH\", \"CFGM\", \"CFGS\"], \"y\": [1.0, 6.0, 0.0, 0.0, 0.0]}],\n",
       "                        {\"barmode\": \"group\"},\n",
       "                        {\"showLink\": false, \"linkText\": \"Export to plot.ly\", \"plotlyServerURL\": \"https://plot.ly\", \"responsive\": true}\n",
       "                    ).then(function(){\n",
       "                            \n",
       "var gd = document.getElementById('0462eec7-eab7-4bdb-84fb-c4c2f1a15c6a');\n",
       "var x = new MutationObserver(function (mutations, observer) {{\n",
       "        var display = window.getComputedStyle(gd).display;\n",
       "        if (!display || display === 'none') {{\n",
       "            console.log([gd, 'removed!']);\n",
       "            Plotly.purge(gd);\n",
       "            observer.disconnect();\n",
       "        }}\n",
       "}});\n",
       "\n",
       "// Listen for the removal of the full notebook cells\n",
       "var notebookContainer = gd.closest('#notebook-container');\n",
       "if (notebookContainer) {{\n",
       "    x.observe(notebookContainer, {childList: true});\n",
       "}}\n",
       "\n",
       "// Listen for the clearing of the current output cell\n",
       "var outputEl = gd.closest('.output');\n",
       "if (outputEl) {{\n",
       "    x.observe(outputEl, {childList: true});\n",
       "}}\n",
       "\n",
       "                        })\n",
       "                };\n",
       "                });\n",
       "            </script>\n",
       "        </div>"
      ]
     },
     "metadata": {},
     "output_type": "display_data"
    }
   ],
   "source": [
    "aux = df.groupby(['etapa', 'curso', 'evaluación']).sum().reset_index().set_index('etapa')\n",
    "series = {year: aux.loc[stages].query(f'curso == \"{year}\" & evaluación == \"{labels[-1][1]}\"')['suspensión_asistencia'].values\n",
    "          for year in years}\n",
    "\n",
    "myplotly.cbar(stages, series, is_percentage=False)"
   ]
  },
  {
   "cell_type": "code",
   "execution_count": 53,
   "metadata": {
    "scrolled": false
   },
   "outputs": [
    {
     "data": {
      "text/html": [
       "\n",
       "<div class='alert alert-info' role=\"alert\">\n",
       "    Total de partes de gestión con <b>suspensión</b> del derecho de asistencia: <b>7</b>\n",
       "</div>\n"
      ],
      "text/plain": [
       "<IPython.core.display.HTML object>"
      ]
     },
     "metadata": {},
     "output_type": "display_data"
    }
   ],
   "source": [
    "total_non_attendance = dfc_non_attendance.sum()\n",
    "display(HTML(f'''\n",
    "<div class='alert alert-info' role=\"alert\">\n",
    "    Total de partes de gestión con <b>suspensión</b> del derecho de asistencia: <b>{total_non_attendance:.0f}</b>\n",
    "</div>\n",
    "'''))"
   ]
  },
  {
   "cell_type": "markdown",
   "metadata": {},
   "source": [
    "# RELACIÓN `éxito-competencias básicas`"
   ]
  },
  {
   "cell_type": "markdown",
   "metadata": {},
   "source": [
    "> **NOTA**: Análisis únicamente con grupos de la ESO."
   ]
  },
  {
   "cell_type": "code",
   "execution_count": 54,
   "metadata": {},
   "outputs": [
    {
     "data": {
      "application/vnd.plotly.v1+json": {
       "config": {
        "linkText": "Export to plot.ly",
        "plotlyServerURL": "https://plot.ly",
        "responsive": true,
        "showLink": false
       },
       "data": [
        {
         "marker": {
          "size": 12
         },
         "mode": "markers",
         "name": "",
         "showlegend": false,
         "text": [
          "ESO1A",
          "ESO1B",
          "ESO1C",
          "ESO2A",
          "ESO2B",
          "ESO2C",
          "ESO2D",
          "ESO3A",
          "ESO3B",
          "ESO3C",
          "ESO3D",
          "ESO4A",
          "ESO4B"
         ],
         "type": "scatter",
         "uid": "c961dd28-482a-478c-905f-cc9f3bb5b26c",
         "x": [
          35,
          63.2,
          44,
          57.1,
          56.7,
          51.7,
          20,
          85.7,
          52.2,
          28,
          20,
          68,
          34.5
         ],
         "y": [
          4.214285714285714,
          5.260714285714286,
          4.457142857142857,
          5.160714285714286,
          5.175,
          5.7857142857142865,
          4.392857142857143,
          6.175,
          5.885714285714286,
          4.528571428571429,
          4.035714285714286,
          6.085714285714287,
          4.642857142857144
         ]
        },
        {
         "hoverinfo": "skip",
         "mode": "lines",
         "name": "Regresión",
         "type": "scatter",
         "uid": "11b090dd-e8e5-4706-920c-5fdf4ed4ca95",
         "x": [
          35,
          63.2,
          44,
          57.1,
          56.7,
          51.7,
          20,
          85.7,
          52.2,
          28,
          20,
          68,
          34.5
         ],
         "y": [
          4.653100321277601,
          5.582544282914048,
          4.949731372863702,
          5.381494347950136,
          5.36831074565742,
          5.203515716998476,
          4.158715235300768,
          6.324121911879297,
          5.21999521986437,
          4.422387281155079,
          4.158715235300768,
          5.740747510426635,
          4.636620818411707
         ]
        }
       ],
       "layout": {
        "height": 600,
        "hovermode": "closest",
        "width": 600,
        "xaxis": {
         "title": {
          "text": "Éxito"
         }
        },
        "yaxis": {
         "title": {
          "text": "Competencias básicas"
         }
        }
       }
      },
      "text/html": [
       "<div>\n",
       "        \n",
       "        \n",
       "            <div id=\"8d808eb4-9c42-47b1-aa11-18fc9c923c22\" class=\"plotly-graph-div\" style=\"height:600px; width:600px;\"></div>\n",
       "            <script type=\"text/javascript\">\n",
       "                require([\"plotly\"], function(Plotly) {\n",
       "                    window.PLOTLYENV=window.PLOTLYENV || {};\n",
       "                    window.PLOTLYENV.BASE_URL='https://plot.ly';\n",
       "                    \n",
       "                if (document.getElementById(\"8d808eb4-9c42-47b1-aa11-18fc9c923c22\")) {\n",
       "                    Plotly.newPlot(\n",
       "                        '8d808eb4-9c42-47b1-aa11-18fc9c923c22',\n",
       "                        [{\"marker\": {\"size\": 12}, \"mode\": \"markers\", \"name\": \"\", \"showlegend\": false, \"text\": [\"ESO1A\", \"ESO1B\", \"ESO1C\", \"ESO2A\", \"ESO2B\", \"ESO2C\", \"ESO2D\", \"ESO3A\", \"ESO3B\", \"ESO3C\", \"ESO3D\", \"ESO4A\", \"ESO4B\"], \"type\": \"scatter\", \"uid\": \"c696898c-79c9-4061-841c-4515371f38b8\", \"x\": [35.0, 63.2, 44.0, 57.1, 56.7, 51.7, 20.0, 85.7, 52.2, 28.0, 20.0, 68.0, 34.5], \"y\": [4.214285714285714, 5.260714285714286, 4.457142857142857, 5.160714285714286, 5.175, 5.7857142857142865, 4.392857142857143, 6.175, 5.885714285714286, 4.528571428571429, 4.035714285714286, 6.085714285714287, 4.642857142857144]}, {\"hoverinfo\": \"skip\", \"mode\": \"lines\", \"name\": \"Regresi\\u00f3n\", \"type\": \"scatter\", \"uid\": \"948c7eb9-a42b-45d4-bc8f-f22910c5b239\", \"x\": [35.0, 63.2, 44.0, 57.1, 56.7, 51.7, 20.0, 85.7, 52.2, 28.0, 20.0, 68.0, 34.5], \"y\": [4.653100321277601, 5.582544282914048, 4.949731372863702, 5.381494347950136, 5.36831074565742, 5.203515716998476, 4.158715235300768, 6.324121911879297, 5.21999521986437, 4.422387281155079, 4.158715235300768, 5.740747510426635, 4.636620818411707]}],\n",
       "                        {\"height\": 600, \"hovermode\": \"closest\", \"width\": 600, \"xaxis\": {\"title\": {\"text\": \"\\u00c9xito\"}}, \"yaxis\": {\"title\": {\"text\": \"Competencias b\\u00e1sicas\"}}},\n",
       "                        {\"showLink\": false, \"linkText\": \"Export to plot.ly\", \"plotlyServerURL\": \"https://plot.ly\", \"responsive\": true}\n",
       "                    ).then(function(){\n",
       "                            \n",
       "var gd = document.getElementById('8d808eb4-9c42-47b1-aa11-18fc9c923c22');\n",
       "var x = new MutationObserver(function (mutations, observer) {{\n",
       "        var display = window.getComputedStyle(gd).display;\n",
       "        if (!display || display === 'none') {{\n",
       "            console.log([gd, 'removed!']);\n",
       "            Plotly.purge(gd);\n",
       "            observer.disconnect();\n",
       "        }}\n",
       "}});\n",
       "\n",
       "// Listen for the removal of the full notebook cells\n",
       "var notebookContainer = gd.closest('#notebook-container');\n",
       "if (notebookContainer) {{\n",
       "    x.observe(notebookContainer, {childList: true});\n",
       "}}\n",
       "\n",
       "// Listen for the clearing of the current output cell\n",
       "var outputEl = gd.closest('.output');\n",
       "if (outputEl) {{\n",
       "    x.observe(outputEl, {childList: true});\n",
       "}}\n",
       "\n",
       "                        })\n",
       "                };\n",
       "                });\n",
       "            </script>\n",
       "        </div>"
      ]
     },
     "metadata": {},
     "output_type": "display_data"
    }
   ],
   "source": [
    "myplotly.scatter(dfc_ESO['éxito'], dfc_ESO['ccbb'], dfc_ESO.index,\n",
    "        x_title='Éxito', y_title='Competencias básicas')"
   ]
  },
  {
   "cell_type": "code",
   "execution_count": 55,
   "metadata": {},
   "outputs": [
    {
     "data": {
      "text/html": [
       "\n",
       "    <div class='alert alert-success' role='alert'>\n",
       "        COEFICIENTE DE CORRELACIÓN: <b>0.8677</b>\n",
       "    </div>\n"
      ],
      "text/plain": [
       "<IPython.core.display.HTML object>"
      ]
     },
     "metadata": {},
     "output_type": "display_data"
    }
   ],
   "source": [
    "corr = dfc_ESO.corrwith(dfc['éxito'])['ccbb']\n",
    "display(HTML(f'''\n",
    "    <div class='alert alert-success' role='alert'>\n",
    "        COEFICIENTE DE CORRELACIÓN: <b>{corr:.4f}</b>\n",
    "    </div>\n",
    "'''))"
   ]
  },
  {
   "cell_type": "markdown",
   "metadata": {},
   "source": [
    "## Detección de *outliers*"
   ]
  },
  {
   "cell_type": "markdown",
   "metadata": {},
   "source": [
    "### Bajo éxito y alta adquisición de competencias básicas"
   ]
  },
  {
   "cell_type": "code",
   "execution_count": 56,
   "metadata": {
    "scrolled": false
   },
   "outputs": [
    {
     "data": {
      "text/html": [
       "<div>\n",
       "<style scoped>\n",
       "    .dataframe tbody tr th:only-of-type {\n",
       "        vertical-align: middle;\n",
       "    }\n",
       "\n",
       "    .dataframe tbody tr th {\n",
       "        vertical-align: top;\n",
       "    }\n",
       "\n",
       "    .dataframe thead th {\n",
       "        text-align: right;\n",
       "    }\n",
       "</style>\n",
       "<table border=\"1\" class=\"dataframe\">\n",
       "  <thead>\n",
       "    <tr style=\"text-align: right;\">\n",
       "      <th></th>\n",
       "      <th>éxito</th>\n",
       "      <th>ccbb</th>\n",
       "    </tr>\n",
       "    <tr>\n",
       "      <th>grupo</th>\n",
       "      <th></th>\n",
       "      <th></th>\n",
       "    </tr>\n",
       "  </thead>\n",
       "  <tbody>\n",
       "  </tbody>\n",
       "</table>\n",
       "</div>"
      ],
      "text/plain": [
       "Empty DataFrame\n",
       "Columns: [éxito, ccbb]\n",
       "Index: []"
      ]
     },
     "execution_count": 56,
     "metadata": {},
     "output_type": "execute_result"
    }
   ],
   "source": [
    "dfc_ESO[(dfc_ESO['éxito'] < 20) & (dfc_ESO['ccbb'] > 5)][['éxito', 'ccbb']]"
   ]
  },
  {
   "cell_type": "markdown",
   "metadata": {},
   "source": [
    "### Alto éxito y baja adquisición de competencias básicas"
   ]
  },
  {
   "cell_type": "code",
   "execution_count": 57,
   "metadata": {
    "scrolled": false
   },
   "outputs": [
    {
     "data": {
      "text/html": [
       "<div>\n",
       "<style scoped>\n",
       "    .dataframe tbody tr th:only-of-type {\n",
       "        vertical-align: middle;\n",
       "    }\n",
       "\n",
       "    .dataframe tbody tr th {\n",
       "        vertical-align: top;\n",
       "    }\n",
       "\n",
       "    .dataframe thead th {\n",
       "        text-align: right;\n",
       "    }\n",
       "</style>\n",
       "<table border=\"1\" class=\"dataframe\">\n",
       "  <thead>\n",
       "    <tr style=\"text-align: right;\">\n",
       "      <th></th>\n",
       "      <th>éxito</th>\n",
       "      <th>ccbb</th>\n",
       "    </tr>\n",
       "    <tr>\n",
       "      <th>grupo</th>\n",
       "      <th></th>\n",
       "      <th></th>\n",
       "    </tr>\n",
       "  </thead>\n",
       "  <tbody>\n",
       "  </tbody>\n",
       "</table>\n",
       "</div>"
      ],
      "text/plain": [
       "Empty DataFrame\n",
       "Columns: [éxito, ccbb]\n",
       "Index: []"
      ]
     },
     "execution_count": 57,
     "metadata": {},
     "output_type": "execute_result"
    }
   ],
   "source": [
    "dfc_ESO[(dfc_ESO['éxito'] > 50) & (dfc_ESO['ccbb'] < 4)][['éxito', 'ccbb']]"
   ]
  },
  {
   "cell_type": "markdown",
   "metadata": {},
   "source": [
    "# RELACIÓN `ratio-éxito`"
   ]
  },
  {
   "cell_type": "code",
   "execution_count": 58,
   "metadata": {},
   "outputs": [
    {
     "data": {
      "application/vnd.plotly.v1+json": {
       "config": {
        "linkText": "Export to plot.ly",
        "plotlyServerURL": "https://plot.ly",
        "responsive": true,
        "showLink": false
       },
       "data": [
        {
         "marker": {
          "size": 12
         },
         "mode": "markers",
         "name": "",
         "showlegend": false,
         "text": [
          "ESO1A",
          "ESO1B",
          "ESO1C",
          "ESO2A",
          "ESO2B",
          "ESO2C",
          "ESO2D",
          "ESO3A",
          "ESO3B",
          "ESO3C",
          "ESO3D",
          "ESO4A",
          "ESO4B",
          "1FPB",
          "2FPB",
          "1CIE",
          "1SOC",
          "2CIE",
          "2SOC",
          "1TEL",
          "1ELE",
          "1CAR",
          "2TEL",
          "2ELE",
          "2CAR",
          "1ARI",
          "1ALO",
          "1GIT",
          "1ASR",
          "1DAW",
          "2ARI",
          "2ALO",
          "2GIT",
          "2ASR",
          "2DAW",
          "1DAM",
          "2DAM",
          "3DAM"
         ],
         "type": "scatter",
         "uid": "e1f1cc7c-4db4-4302-977f-5c6ed5dc99b6",
         "x": [
          20,
          19,
          25,
          28,
          30,
          29,
          10,
          21,
          23,
          25,
          10,
          25,
          29,
          13,
          5,
          21,
          26,
          19,
          29,
          15,
          18,
          15,
          11,
          8,
          8,
          17,
          28,
          25,
          31,
          18,
          13,
          26,
          23,
          16,
          14,
          30,
          15,
          13
         ],
         "y": [
          35,
          63.2,
          44,
          57.1,
          56.7,
          51.7,
          20,
          85.7,
          52.2,
          28,
          20,
          68,
          34.5,
          53.8,
          100,
          47.6,
          53.8,
          68.4,
          72.4,
          60,
          55.6,
          66.7,
          100,
          100,
          100,
          82.4,
          85.7,
          64,
          41.9,
          55.6,
          100,
          88.5,
          100,
          100,
          92.9,
          26.7,
          26.7,
          84.6
         ]
        },
        {
         "hoverinfo": "skip",
         "mode": "lines",
         "name": "Regresión",
         "type": "scatter",
         "uid": "58a01683-749d-4c90-b1c4-433ddab98263",
         "x": [
          20,
          19,
          25,
          28,
          30,
          29,
          10,
          21,
          23,
          25,
          10,
          25,
          29,
          13,
          5,
          21,
          26,
          19,
          29,
          15,
          18,
          15,
          11,
          8,
          8,
          17,
          28,
          25,
          31,
          18,
          13,
          26,
          23,
          16,
          14,
          30,
          15,
          13
         ],
         "y": [
          64.02485264044267,
          65.18658593635136,
          58.216186160899255,
          54.73098627317321,
          52.407519681355836,
          53.569252977264526,
          75.64218559952951,
          62.86311934453399,
          60.53965275271662,
          58.216186160899255,
          75.64218559952951,
          58.216186160899255,
          53.569252977264526,
          72.15698571180346,
          81.45085207907293,
          62.86311934453399,
          57.05445286499057,
          65.18658593635136,
          53.569252977264526,
          69.8335191199861,
          66.34831923226004,
          69.8335191199861,
          74.48045230362084,
          77.96565219134688,
          77.96565219134688,
          67.51005252816873,
          54.73098627317321,
          58.216186160899255,
          51.245786385447154,
          66.34831923226004,
          72.15698571180346,
          57.05445286499057,
          60.53965275271662,
          68.6717858240774,
          70.99525241589478,
          52.407519681355836,
          69.8335191199861,
          72.15698571180346
         ]
        }
       ],
       "layout": {
        "height": 600,
        "hovermode": "closest",
        "width": 600,
        "xaxis": {
         "title": {
          "text": "Ratio"
         }
        },
        "yaxis": {
         "title": {
          "text": "Éxito"
         }
        }
       }
      },
      "text/html": [
       "<div>\n",
       "        \n",
       "        \n",
       "            <div id=\"e811cd9d-a7dd-43b5-8ab0-81124c026ba0\" class=\"plotly-graph-div\" style=\"height:600px; width:600px;\"></div>\n",
       "            <script type=\"text/javascript\">\n",
       "                require([\"plotly\"], function(Plotly) {\n",
       "                    window.PLOTLYENV=window.PLOTLYENV || {};\n",
       "                    window.PLOTLYENV.BASE_URL='https://plot.ly';\n",
       "                    \n",
       "                if (document.getElementById(\"e811cd9d-a7dd-43b5-8ab0-81124c026ba0\")) {\n",
       "                    Plotly.newPlot(\n",
       "                        'e811cd9d-a7dd-43b5-8ab0-81124c026ba0',\n",
       "                        [{\"marker\": {\"size\": 12}, \"mode\": \"markers\", \"name\": \"\", \"showlegend\": false, \"text\": [\"ESO1A\", \"ESO1B\", \"ESO1C\", \"ESO2A\", \"ESO2B\", \"ESO2C\", \"ESO2D\", \"ESO3A\", \"ESO3B\", \"ESO3C\", \"ESO3D\", \"ESO4A\", \"ESO4B\", \"1FPB\", \"2FPB\", \"1CIE\", \"1SOC\", \"2CIE\", \"2SOC\", \"1TEL\", \"1ELE\", \"1CAR\", \"2TEL\", \"2ELE\", \"2CAR\", \"1ARI\", \"1ALO\", \"1GIT\", \"1ASR\", \"1DAW\", \"2ARI\", \"2ALO\", \"2GIT\", \"2ASR\", \"2DAW\", \"1DAM\", \"2DAM\", \"3DAM\"], \"type\": \"scatter\", \"uid\": \"17d8bace-47fc-45d0-8fad-b7f11994def9\", \"x\": [20, 19, 25, 28, 30, 29, 10, 21, 23, 25, 10, 25, 29, 13, 5, 21, 26, 19, 29, 15, 18, 15, 11, 8, 8, 17, 28, 25, 31, 18, 13, 26, 23, 16, 14, 30, 15, 13], \"y\": [35.0, 63.2, 44.0, 57.1, 56.7, 51.7, 20.0, 85.7, 52.2, 28.0, 20.0, 68.0, 34.5, 53.8, 100.0, 47.6, 53.8, 68.4, 72.4, 60.0, 55.6, 66.7, 100.0, 100.0, 100.0, 82.4, 85.7, 64.0, 41.9, 55.6, 100.0, 88.5, 100.0, 100.0, 92.9, 26.7, 26.7, 84.6]}, {\"hoverinfo\": \"skip\", \"mode\": \"lines\", \"name\": \"Regresi\\u00f3n\", \"type\": \"scatter\", \"uid\": \"0a8eefb0-6e10-4cf2-bb5b-56298952a8d5\", \"x\": [20, 19, 25, 28, 30, 29, 10, 21, 23, 25, 10, 25, 29, 13, 5, 21, 26, 19, 29, 15, 18, 15, 11, 8, 8, 17, 28, 25, 31, 18, 13, 26, 23, 16, 14, 30, 15, 13], \"y\": [64.02485264044267, 65.18658593635136, 58.216186160899255, 54.73098627317321, 52.407519681355836, 53.569252977264526, 75.64218559952951, 62.86311934453399, 60.53965275271662, 58.216186160899255, 75.64218559952951, 58.216186160899255, 53.569252977264526, 72.15698571180346, 81.45085207907293, 62.86311934453399, 57.05445286499057, 65.18658593635136, 53.569252977264526, 69.8335191199861, 66.34831923226004, 69.8335191199861, 74.48045230362084, 77.96565219134688, 77.96565219134688, 67.51005252816873, 54.73098627317321, 58.216186160899255, 51.245786385447154, 66.34831923226004, 72.15698571180346, 57.05445286499057, 60.53965275271662, 68.6717858240774, 70.99525241589478, 52.407519681355836, 69.8335191199861, 72.15698571180346]}],\n",
       "                        {\"height\": 600, \"hovermode\": \"closest\", \"width\": 600, \"xaxis\": {\"title\": {\"text\": \"Ratio\"}}, \"yaxis\": {\"title\": {\"text\": \"\\u00c9xito\"}}},\n",
       "                        {\"showLink\": false, \"linkText\": \"Export to plot.ly\", \"plotlyServerURL\": \"https://plot.ly\", \"responsive\": true}\n",
       "                    ).then(function(){\n",
       "                            \n",
       "var gd = document.getElementById('e811cd9d-a7dd-43b5-8ab0-81124c026ba0');\n",
       "var x = new MutationObserver(function (mutations, observer) {{\n",
       "        var display = window.getComputedStyle(gd).display;\n",
       "        if (!display || display === 'none') {{\n",
       "            console.log([gd, 'removed!']);\n",
       "            Plotly.purge(gd);\n",
       "            observer.disconnect();\n",
       "        }}\n",
       "}});\n",
       "\n",
       "// Listen for the removal of the full notebook cells\n",
       "var notebookContainer = gd.closest('#notebook-container');\n",
       "if (notebookContainer) {{\n",
       "    x.observe(notebookContainer, {childList: true});\n",
       "}}\n",
       "\n",
       "// Listen for the clearing of the current output cell\n",
       "var outputEl = gd.closest('.output');\n",
       "if (outputEl) {{\n",
       "    x.observe(outputEl, {childList: true});\n",
       "}}\n",
       "\n",
       "                        })\n",
       "                };\n",
       "                });\n",
       "            </script>\n",
       "        </div>"
      ]
     },
     "metadata": {},
     "output_type": "display_data"
    }
   ],
   "source": [
    "myplotly.scatter(dfc['ratio'], dfc['éxito'], dfc.index,\n",
    "        x_title='Ratio', y_title='Éxito')"
   ]
  },
  {
   "cell_type": "code",
   "execution_count": 59,
   "metadata": {},
   "outputs": [
    {
     "data": {
      "text/html": [
       "\n",
       "    <div class='alert alert-success' role='alert'>\n",
       "        COEFICIENTE DE CORRELACIÓN: <b>-0.3334</b>\n",
       "    </div>\n"
      ],
      "text/plain": [
       "<IPython.core.display.HTML object>"
      ]
     },
     "metadata": {},
     "output_type": "display_data"
    }
   ],
   "source": [
    "corr = dfc.corrwith(dfc['ratio'])['éxito']\n",
    "display(HTML(f'''\n",
    "    <div class='alert alert-success' role='alert'>\n",
    "        COEFICIENTE DE CORRELACIÓN: <b>{corr:.4f}</b>\n",
    "    </div>\n",
    "'''))"
   ]
  },
  {
   "cell_type": "markdown",
   "metadata": {},
   "source": [
    "## Detección de *outliers*"
   ]
  },
  {
   "cell_type": "markdown",
   "metadata": {},
   "source": [
    "### Baja ratio y bajo éxito"
   ]
  },
  {
   "cell_type": "code",
   "execution_count": 60,
   "metadata": {
    "scrolled": false
   },
   "outputs": [
    {
     "data": {
      "text/html": [
       "<div>\n",
       "<style scoped>\n",
       "    .dataframe tbody tr th:only-of-type {\n",
       "        vertical-align: middle;\n",
       "    }\n",
       "\n",
       "    .dataframe tbody tr th {\n",
       "        vertical-align: top;\n",
       "    }\n",
       "\n",
       "    .dataframe thead th {\n",
       "        text-align: right;\n",
       "    }\n",
       "</style>\n",
       "<table border=\"1\" class=\"dataframe\">\n",
       "  <thead>\n",
       "    <tr style=\"text-align: right;\">\n",
       "      <th></th>\n",
       "      <th>ratio</th>\n",
       "      <th>éxito</th>\n",
       "    </tr>\n",
       "    <tr>\n",
       "      <th>grupo</th>\n",
       "      <th></th>\n",
       "      <th></th>\n",
       "    </tr>\n",
       "  </thead>\n",
       "  <tbody>\n",
       "  </tbody>\n",
       "</table>\n",
       "</div>"
      ],
      "text/plain": [
       "Empty DataFrame\n",
       "Columns: [ratio, éxito]\n",
       "Index: []"
      ]
     },
     "execution_count": 60,
     "metadata": {},
     "output_type": "execute_result"
    }
   ],
   "source": [
    "dfc[(dfc['ratio'] < 20) & (dfc['éxito'] < 20)][['ratio', 'éxito']]"
   ]
  },
  {
   "cell_type": "markdown",
   "metadata": {},
   "source": [
    "### Alta ratio y alto éxito"
   ]
  },
  {
   "cell_type": "code",
   "execution_count": 61,
   "metadata": {
    "scrolled": false
   },
   "outputs": [
    {
     "data": {
      "text/html": [
       "<div>\n",
       "<style scoped>\n",
       "    .dataframe tbody tr th:only-of-type {\n",
       "        vertical-align: middle;\n",
       "    }\n",
       "\n",
       "    .dataframe tbody tr th {\n",
       "        vertical-align: top;\n",
       "    }\n",
       "\n",
       "    .dataframe thead th {\n",
       "        text-align: right;\n",
       "    }\n",
       "</style>\n",
       "<table border=\"1\" class=\"dataframe\">\n",
       "  <thead>\n",
       "    <tr style=\"text-align: right;\">\n",
       "      <th></th>\n",
       "      <th>ratio</th>\n",
       "      <th>éxito</th>\n",
       "    </tr>\n",
       "    <tr>\n",
       "      <th>grupo</th>\n",
       "      <th></th>\n",
       "      <th></th>\n",
       "    </tr>\n",
       "  </thead>\n",
       "  <tbody>\n",
       "    <tr>\n",
       "      <th>ESO2A</th>\n",
       "      <td>28</td>\n",
       "      <td>57.1</td>\n",
       "    </tr>\n",
       "    <tr>\n",
       "      <th>ESO2B</th>\n",
       "      <td>30</td>\n",
       "      <td>56.7</td>\n",
       "    </tr>\n",
       "    <tr>\n",
       "      <th>ESO2C</th>\n",
       "      <td>29</td>\n",
       "      <td>51.7</td>\n",
       "    </tr>\n",
       "    <tr>\n",
       "      <th>1SOC</th>\n",
       "      <td>26</td>\n",
       "      <td>53.8</td>\n",
       "    </tr>\n",
       "    <tr>\n",
       "      <th>2SOC</th>\n",
       "      <td>29</td>\n",
       "      <td>72.4</td>\n",
       "    </tr>\n",
       "    <tr>\n",
       "      <th>1ALO</th>\n",
       "      <td>28</td>\n",
       "      <td>85.7</td>\n",
       "    </tr>\n",
       "    <tr>\n",
       "      <th>2ALO</th>\n",
       "      <td>26</td>\n",
       "      <td>88.5</td>\n",
       "    </tr>\n",
       "  </tbody>\n",
       "</table>\n",
       "</div>"
      ],
      "text/plain": [
       "       ratio  éxito\n",
       "grupo              \n",
       "ESO2A     28   57.1\n",
       "ESO2B     30   56.7\n",
       "ESO2C     29   51.7\n",
       "1SOC      26   53.8\n",
       "2SOC      29   72.4\n",
       "1ALO      28   85.7\n",
       "2ALO      26   88.5"
      ]
     },
     "execution_count": 61,
     "metadata": {},
     "output_type": "execute_result"
    }
   ],
   "source": [
    "dfc[(dfc['ratio'] > 25) & (dfc['éxito'] > 50)][['ratio', 'éxito']]"
   ]
  },
  {
   "cell_type": "markdown",
   "metadata": {},
   "source": [
    "# RELACIÓN `absentismo-éxito`"
   ]
  },
  {
   "cell_type": "code",
   "execution_count": 62,
   "metadata": {},
   "outputs": [
    {
     "data": {
      "application/vnd.plotly.v1+json": {
       "config": {
        "linkText": "Export to plot.ly",
        "plotlyServerURL": "https://plot.ly",
        "responsive": true,
        "showLink": false
       },
       "data": [
        {
         "marker": {
          "size": 12
         },
         "mode": "markers",
         "name": "",
         "showlegend": false,
         "text": [
          "ESO1A",
          "ESO1B",
          "ESO1C",
          "ESO2A",
          "ESO2B",
          "ESO2C",
          "ESO2D",
          "ESO3A",
          "ESO3B",
          "ESO3C",
          "ESO3D",
          "ESO4A",
          "ESO4B",
          "1FPB",
          "2FPB",
          "1CIE",
          "1SOC",
          "2CIE",
          "2SOC",
          "1TEL",
          "1ELE",
          "1CAR",
          "2TEL",
          "2ELE",
          "2CAR",
          "1ARI",
          "1ALO",
          "1GIT",
          "1ASR",
          "1DAW",
          "2ARI",
          "2ALO",
          "2GIT",
          "2ASR",
          "2DAW",
          "1DAM",
          "2DAM",
          "3DAM"
         ],
         "type": "scatter",
         "uid": "baa165d5-c80f-485f-b297-8f46810cbd32",
         "x": [
          6.41,
          6.95,
          7.59,
          5.9,
          9.64,
          8.92,
          4.140000000000001,
          6.369999999999999,
          6.130000000000001,
          8.17,
          19.24,
          7.66,
          12.33,
          37.13,
          10.27,
          5.529999999999999,
          7.279999999999999,
          6.1,
          5.29,
          23.439999999999998,
          18.61,
          18.939999999999998,
          7.6899999999999995,
          9.35,
          8.93,
          9.74,
          10.87,
          14.940000000000001,
          15.89,
          15.89,
          4.62,
          3.51,
          11.59,
          5.9,
          8.92,
          3.17,
          0.63,
          0.08
         ],
         "y": [
          35,
          63.2,
          44,
          57.1,
          56.7,
          51.7,
          20,
          85.7,
          52.2,
          28,
          20,
          68,
          34.5,
          53.8,
          100,
          47.6,
          53.8,
          68.4,
          72.4,
          60,
          55.6,
          66.7,
          100,
          100,
          100,
          82.4,
          85.7,
          64,
          41.9,
          55.6,
          100,
          88.5,
          100,
          100,
          92.9,
          26.7,
          26.7,
          84.6
         ]
        },
        {
         "hoverinfo": "skip",
         "mode": "lines",
         "name": "Regresión",
         "type": "scatter",
         "uid": "96ce2c13-b85c-4dfc-9dc5-be0da74c7f02",
         "x": [
          6.41,
          6.95,
          7.59,
          5.9,
          9.64,
          8.92,
          4.140000000000001,
          6.369999999999999,
          6.130000000000001,
          8.17,
          19.24,
          7.66,
          12.33,
          37.13,
          10.27,
          5.529999999999999,
          7.279999999999999,
          6.1,
          5.29,
          23.439999999999998,
          18.61,
          18.939999999999998,
          7.6899999999999995,
          9.35,
          8.93,
          9.74,
          10.87,
          14.940000000000001,
          15.89,
          15.89,
          4.62,
          3.51,
          11.59,
          5.9,
          8.92,
          3.17,
          0.63,
          0.08
         ],
         "y": [
          65.66127719484885,
          65.44670192953699,
          65.19239050398218,
          65.86393161208782,
          64.37779921900196,
          64.6638995727511,
          66.56328803236354,
          65.67717165894602,
          65.77253844352907,
          64.96192077457314,
          60.56312783567992,
          65.16457519181212,
          63.30889650846693,
          53.45432876821833,
          64.12746140947145,
          66.0109554049867,
          65.3155726007353,
          65.78445929160196,
          66.10632218956975,
          58.89420910547653,
          60.81346564521043,
          60.68233631640874,
          65.15265434373924,
          64.49303408370648,
          64.65992595672681,
          64.33806305875902,
          63.88904444801382,
          62.27178272612625,
          61.89428920381834,
          61.89428920381834,
          66.37255446319743,
          66.81362584189405,
          63.602944094264664,
          65.86393161208782,
          64.6638995727511,
          66.94872878672004,
          67.95802725689066,
          68.17657613822682
         ]
        }
       ],
       "layout": {
        "height": 600,
        "hovermode": "closest",
        "width": 600,
        "xaxis": {
         "title": {
          "text": "Absentismo"
         }
        },
        "yaxis": {
         "title": {
          "text": "Éxito"
         }
        }
       }
      },
      "text/html": [
       "<div>\n",
       "        \n",
       "        \n",
       "            <div id=\"aeb8a864-fdc7-445a-9dbd-32b4e6d77be3\" class=\"plotly-graph-div\" style=\"height:600px; width:600px;\"></div>\n",
       "            <script type=\"text/javascript\">\n",
       "                require([\"plotly\"], function(Plotly) {\n",
       "                    window.PLOTLYENV=window.PLOTLYENV || {};\n",
       "                    window.PLOTLYENV.BASE_URL='https://plot.ly';\n",
       "                    \n",
       "                if (document.getElementById(\"aeb8a864-fdc7-445a-9dbd-32b4e6d77be3\")) {\n",
       "                    Plotly.newPlot(\n",
       "                        'aeb8a864-fdc7-445a-9dbd-32b4e6d77be3',\n",
       "                        [{\"marker\": {\"size\": 12}, \"mode\": \"markers\", \"name\": \"\", \"showlegend\": false, \"text\": [\"ESO1A\", \"ESO1B\", \"ESO1C\", \"ESO2A\", \"ESO2B\", \"ESO2C\", \"ESO2D\", \"ESO3A\", \"ESO3B\", \"ESO3C\", \"ESO3D\", \"ESO4A\", \"ESO4B\", \"1FPB\", \"2FPB\", \"1CIE\", \"1SOC\", \"2CIE\", \"2SOC\", \"1TEL\", \"1ELE\", \"1CAR\", \"2TEL\", \"2ELE\", \"2CAR\", \"1ARI\", \"1ALO\", \"1GIT\", \"1ASR\", \"1DAW\", \"2ARI\", \"2ALO\", \"2GIT\", \"2ASR\", \"2DAW\", \"1DAM\", \"2DAM\", \"3DAM\"], \"type\": \"scatter\", \"uid\": \"35e045e0-b903-432e-aaad-bc05b5bd58f2\", \"x\": [6.41, 6.95, 7.59, 5.9, 9.64, 8.92, 4.140000000000001, 6.369999999999999, 6.130000000000001, 8.17, 19.24, 7.66, 12.33, 37.13, 10.27, 5.529999999999999, 7.279999999999999, 6.1, 5.29, 23.439999999999998, 18.61, 18.939999999999998, 7.6899999999999995, 9.35, 8.93, 9.74, 10.87, 14.940000000000001, 15.89, 15.89, 4.62, 3.51, 11.59, 5.9, 8.92, 3.17, 0.63, 0.08], \"y\": [35.0, 63.2, 44.0, 57.1, 56.7, 51.7, 20.0, 85.7, 52.2, 28.0, 20.0, 68.0, 34.5, 53.8, 100.0, 47.6, 53.8, 68.4, 72.4, 60.0, 55.6, 66.7, 100.0, 100.0, 100.0, 82.4, 85.7, 64.0, 41.9, 55.6, 100.0, 88.5, 100.0, 100.0, 92.9, 26.7, 26.7, 84.6]}, {\"hoverinfo\": \"skip\", \"mode\": \"lines\", \"name\": \"Regresi\\u00f3n\", \"type\": \"scatter\", \"uid\": \"5e11780b-ab97-4707-a8db-3d0fe6d0cc68\", \"x\": [6.41, 6.95, 7.59, 5.9, 9.64, 8.92, 4.140000000000001, 6.369999999999999, 6.130000000000001, 8.17, 19.24, 7.66, 12.33, 37.13, 10.27, 5.529999999999999, 7.279999999999999, 6.1, 5.29, 23.439999999999998, 18.61, 18.939999999999998, 7.6899999999999995, 9.35, 8.93, 9.74, 10.87, 14.940000000000001, 15.89, 15.89, 4.62, 3.51, 11.59, 5.9, 8.92, 3.17, 0.63, 0.08], \"y\": [65.66127719484885, 65.44670192953699, 65.19239050398218, 65.86393161208782, 64.37779921900196, 64.6638995727511, 66.56328803236354, 65.67717165894602, 65.77253844352907, 64.96192077457314, 60.56312783567992, 65.16457519181212, 63.30889650846693, 53.45432876821833, 64.12746140947145, 66.0109554049867, 65.3155726007353, 65.78445929160196, 66.10632218956975, 58.89420910547653, 60.81346564521043, 60.68233631640874, 65.15265434373924, 64.49303408370648, 64.65992595672681, 64.33806305875902, 63.88904444801382, 62.27178272612625, 61.89428920381834, 61.89428920381834, 66.37255446319743, 66.81362584189405, 63.602944094264664, 65.86393161208782, 64.6638995727511, 66.94872878672004, 67.95802725689066, 68.17657613822682]}],\n",
       "                        {\"height\": 600, \"hovermode\": \"closest\", \"width\": 600, \"xaxis\": {\"title\": {\"text\": \"Absentismo\"}}, \"yaxis\": {\"title\": {\"text\": \"\\u00c9xito\"}}},\n",
       "                        {\"showLink\": false, \"linkText\": \"Export to plot.ly\", \"plotlyServerURL\": \"https://plot.ly\", \"responsive\": true}\n",
       "                    ).then(function(){\n",
       "                            \n",
       "var gd = document.getElementById('aeb8a864-fdc7-445a-9dbd-32b4e6d77be3');\n",
       "var x = new MutationObserver(function (mutations, observer) {{\n",
       "        var display = window.getComputedStyle(gd).display;\n",
       "        if (!display || display === 'none') {{\n",
       "            console.log([gd, 'removed!']);\n",
       "            Plotly.purge(gd);\n",
       "            observer.disconnect();\n",
       "        }}\n",
       "}});\n",
       "\n",
       "// Listen for the removal of the full notebook cells\n",
       "var notebookContainer = gd.closest('#notebook-container');\n",
       "if (notebookContainer) {{\n",
       "    x.observe(notebookContainer, {childList: true});\n",
       "}}\n",
       "\n",
       "// Listen for the clearing of the current output cell\n",
       "var outputEl = gd.closest('.output');\n",
       "if (outputEl) {{\n",
       "    x.observe(outputEl, {childList: true});\n",
       "}}\n",
       "\n",
       "                        })\n",
       "                };\n",
       "                });\n",
       "            </script>\n",
       "        </div>"
      ]
     },
     "metadata": {},
     "output_type": "display_data"
    }
   ],
   "source": [
    "myplotly.scatter(dfc['absentismo'], dfc['éxito'], dfc.index,\n",
    "        x_title='Absentismo', y_title='Éxito')"
   ]
  },
  {
   "cell_type": "code",
   "execution_count": 63,
   "metadata": {},
   "outputs": [
    {
     "data": {
      "text/html": [
       "\n",
       "    <div class='alert alert-success' role='alert'>\n",
       "        COEFICIENTE DE CORRELACIÓN: <b>-0.1081</b>\n",
       "    </div>\n"
      ],
      "text/plain": [
       "<IPython.core.display.HTML object>"
      ]
     },
     "metadata": {},
     "output_type": "display_data"
    }
   ],
   "source": [
    "corr = dfc.corrwith(dfc['absentismo'])['éxito']\n",
    "display(HTML(f'''\n",
    "    <div class='alert alert-success' role='alert'>\n",
    "        COEFICIENTE DE CORRELACIÓN: <b>{corr:.4f}</b>\n",
    "    </div>\n",
    "'''))"
   ]
  },
  {
   "cell_type": "markdown",
   "metadata": {},
   "source": [
    "## Detección de *outliers*"
   ]
  },
  {
   "cell_type": "markdown",
   "metadata": {},
   "source": [
    "### Bajo absentismo y bajo éxito"
   ]
  },
  {
   "cell_type": "code",
   "execution_count": 64,
   "metadata": {
    "scrolled": false
   },
   "outputs": [
    {
     "data": {
      "text/html": [
       "<div>\n",
       "<style scoped>\n",
       "    .dataframe tbody tr th:only-of-type {\n",
       "        vertical-align: middle;\n",
       "    }\n",
       "\n",
       "    .dataframe tbody tr th {\n",
       "        vertical-align: top;\n",
       "    }\n",
       "\n",
       "    .dataframe thead th {\n",
       "        text-align: right;\n",
       "    }\n",
       "</style>\n",
       "<table border=\"1\" class=\"dataframe\">\n",
       "  <thead>\n",
       "    <tr style=\"text-align: right;\">\n",
       "      <th></th>\n",
       "      <th>absentismo</th>\n",
       "      <th>éxito</th>\n",
       "    </tr>\n",
       "    <tr>\n",
       "      <th>grupo</th>\n",
       "      <th></th>\n",
       "      <th></th>\n",
       "    </tr>\n",
       "  </thead>\n",
       "  <tbody>\n",
       "  </tbody>\n",
       "</table>\n",
       "</div>"
      ],
      "text/plain": [
       "Empty DataFrame\n",
       "Columns: [absentismo, éxito]\n",
       "Index: []"
      ]
     },
     "execution_count": 64,
     "metadata": {},
     "output_type": "execute_result"
    }
   ],
   "source": [
    "dfc[(dfc['absentismo'] < 10) & (dfc['éxito'] < 15)][['absentismo', 'éxito']]"
   ]
  },
  {
   "cell_type": "markdown",
   "metadata": {},
   "source": [
    "### Alto absentismo y alto éxito"
   ]
  },
  {
   "cell_type": "code",
   "execution_count": 65,
   "metadata": {
    "scrolled": false
   },
   "outputs": [
    {
     "data": {
      "text/html": [
       "<div>\n",
       "<style scoped>\n",
       "    .dataframe tbody tr th:only-of-type {\n",
       "        vertical-align: middle;\n",
       "    }\n",
       "\n",
       "    .dataframe tbody tr th {\n",
       "        vertical-align: top;\n",
       "    }\n",
       "\n",
       "    .dataframe thead th {\n",
       "        text-align: right;\n",
       "    }\n",
       "</style>\n",
       "<table border=\"1\" class=\"dataframe\">\n",
       "  <thead>\n",
       "    <tr style=\"text-align: right;\">\n",
       "      <th></th>\n",
       "      <th>absentismo</th>\n",
       "      <th>éxito</th>\n",
       "    </tr>\n",
       "    <tr>\n",
       "      <th>grupo</th>\n",
       "      <th></th>\n",
       "      <th></th>\n",
       "    </tr>\n",
       "  </thead>\n",
       "  <tbody>\n",
       "    <tr>\n",
       "      <th>1FPB</th>\n",
       "      <td>37.13</td>\n",
       "      <td>53.8</td>\n",
       "    </tr>\n",
       "  </tbody>\n",
       "</table>\n",
       "</div>"
      ],
      "text/plain": [
       "       absentismo  éxito\n",
       "grupo                   \n",
       "1FPB        37.13   53.8"
      ]
     },
     "execution_count": 65,
     "metadata": {},
     "output_type": "execute_result"
    }
   ],
   "source": [
    "dfc[(dfc['absentismo'] > 25) & (dfc['éxito'] > 50)][['absentismo', 'éxito']]"
   ]
  },
  {
   "cell_type": "markdown",
   "metadata": {},
   "source": [
    "# RELACIÓN `partes-éxito`"
   ]
  },
  {
   "cell_type": "code",
   "execution_count": 66,
   "metadata": {},
   "outputs": [
    {
     "data": {
      "application/vnd.plotly.v1+json": {
       "config": {
        "linkText": "Export to plot.ly",
        "plotlyServerURL": "https://plot.ly",
        "responsive": true,
        "showLink": false
       },
       "data": [
        {
         "marker": {
          "size": 12
         },
         "mode": "markers",
         "name": "",
         "showlegend": false,
         "text": [
          "ESO1A",
          "ESO1B",
          "ESO1C",
          "ESO2A",
          "ESO2B",
          "ESO2C",
          "ESO2D",
          "ESO3A",
          "ESO3B",
          "ESO3C",
          "ESO3D",
          "ESO4A",
          "ESO4B",
          "1FPB",
          "2FPB",
          "1CIE",
          "1SOC",
          "2CIE",
          "2SOC",
          "1TEL",
          "1ELE",
          "1CAR",
          "2TEL",
          "2ELE",
          "2CAR",
          "1ARI",
          "1ALO",
          "1GIT",
          "1ASR",
          "1DAW",
          "2ARI",
          "2ALO",
          "2GIT",
          "2ASR",
          "2DAW",
          "1DAM",
          "2DAM",
          "3DAM"
         ],
         "type": "scatter",
         "uid": "48220585-9cd8-4653-a087-4fc078d2ec70",
         "x": [
          2,
          0,
          1,
          3,
          0,
          0,
          0,
          0,
          0,
          1,
          0,
          0,
          1,
          5,
          0,
          0,
          1,
          0,
          0,
          0,
          0,
          0,
          0,
          0,
          0,
          0,
          0,
          0,
          0,
          0,
          0,
          0,
          0,
          0,
          0,
          0,
          0,
          0
         ],
         "y": [
          35,
          63.2,
          44,
          57.1,
          56.7,
          51.7,
          20,
          85.7,
          52.2,
          28,
          20,
          68,
          34.5,
          53.8,
          100,
          47.6,
          53.8,
          68.4,
          72.4,
          60,
          55.6,
          66.7,
          100,
          100,
          100,
          82.4,
          85.7,
          64,
          41.9,
          55.6,
          100,
          88.5,
          100,
          100,
          92.9,
          26.7,
          26.7,
          84.6
         ]
        },
        {
         "hoverinfo": "skip",
         "mode": "lines",
         "name": "Regresión",
         "type": "scatter",
         "uid": "aebb7b8e-6d6f-4e4c-b4f9-3ff1e1d0f90b",
         "x": [
          2,
          0,
          1,
          3,
          0,
          0,
          0,
          0,
          0,
          1,
          0,
          0,
          1,
          5,
          0,
          0,
          1,
          0,
          0,
          0,
          0,
          0,
          0,
          0,
          0,
          0,
          0,
          0,
          0,
          0,
          0,
          0,
          0,
          0,
          0,
          0,
          0,
          0
         ],
         "y": [
          54.132,
          66.596,
          60.364000000000004,
          47.89999999999999,
          66.596,
          66.596,
          66.596,
          66.596,
          66.596,
          60.364000000000004,
          66.596,
          66.596,
          60.364000000000004,
          35.43599999999999,
          66.596,
          66.596,
          60.364000000000004,
          66.596,
          66.596,
          66.596,
          66.596,
          66.596,
          66.596,
          66.596,
          66.596,
          66.596,
          66.596,
          66.596,
          66.596,
          66.596,
          66.596,
          66.596,
          66.596,
          66.596,
          66.596,
          66.596,
          66.596,
          66.596
         ]
        }
       ],
       "layout": {
        "height": 600,
        "hovermode": "closest",
        "width": 600,
        "xaxis": {
         "title": {
          "text": "Partes de gestión"
         }
        },
        "yaxis": {
         "title": {
          "text": "Éxito"
         }
        }
       }
      },
      "text/html": [
       "<div>\n",
       "        \n",
       "        \n",
       "            <div id=\"992ca630-fcf6-4802-bcac-213209774d86\" class=\"plotly-graph-div\" style=\"height:600px; width:600px;\"></div>\n",
       "            <script type=\"text/javascript\">\n",
       "                require([\"plotly\"], function(Plotly) {\n",
       "                    window.PLOTLYENV=window.PLOTLYENV || {};\n",
       "                    window.PLOTLYENV.BASE_URL='https://plot.ly';\n",
       "                    \n",
       "                if (document.getElementById(\"992ca630-fcf6-4802-bcac-213209774d86\")) {\n",
       "                    Plotly.newPlot(\n",
       "                        '992ca630-fcf6-4802-bcac-213209774d86',\n",
       "                        [{\"marker\": {\"size\": 12}, \"mode\": \"markers\", \"name\": \"\", \"showlegend\": false, \"text\": [\"ESO1A\", \"ESO1B\", \"ESO1C\", \"ESO2A\", \"ESO2B\", \"ESO2C\", \"ESO2D\", \"ESO3A\", \"ESO3B\", \"ESO3C\", \"ESO3D\", \"ESO4A\", \"ESO4B\", \"1FPB\", \"2FPB\", \"1CIE\", \"1SOC\", \"2CIE\", \"2SOC\", \"1TEL\", \"1ELE\", \"1CAR\", \"2TEL\", \"2ELE\", \"2CAR\", \"1ARI\", \"1ALO\", \"1GIT\", \"1ASR\", \"1DAW\", \"2ARI\", \"2ALO\", \"2GIT\", \"2ASR\", \"2DAW\", \"1DAM\", \"2DAM\", \"3DAM\"], \"type\": \"scatter\", \"uid\": \"85e307bf-81ca-41fa-b84d-0e214042674f\", \"x\": [2.0, 0.0, 1.0, 3.0, 0.0, 0.0, 0.0, 0.0, 0.0, 1.0, 0.0, 0.0, 1.0, 5.0, 0.0, 0.0, 1.0, 0.0, 0.0, 0.0, 0.0, 0.0, 0.0, 0.0, 0.0, 0.0, 0.0, 0.0, 0.0, 0.0, 0.0, 0.0, 0.0, 0.0, 0.0, 0.0, 0.0, 0.0], \"y\": [35.0, 63.2, 44.0, 57.1, 56.7, 51.7, 20.0, 85.7, 52.2, 28.0, 20.0, 68.0, 34.5, 53.8, 100.0, 47.6, 53.8, 68.4, 72.4, 60.0, 55.6, 66.7, 100.0, 100.0, 100.0, 82.4, 85.7, 64.0, 41.9, 55.6, 100.0, 88.5, 100.0, 100.0, 92.9, 26.7, 26.7, 84.6]}, {\"hoverinfo\": \"skip\", \"mode\": \"lines\", \"name\": \"Regresi\\u00f3n\", \"type\": \"scatter\", \"uid\": \"b077951d-0be6-464b-9cd1-f5651e77ea49\", \"x\": [2.0, 0.0, 1.0, 3.0, 0.0, 0.0, 0.0, 0.0, 0.0, 1.0, 0.0, 0.0, 1.0, 5.0, 0.0, 0.0, 1.0, 0.0, 0.0, 0.0, 0.0, 0.0, 0.0, 0.0, 0.0, 0.0, 0.0, 0.0, 0.0, 0.0, 0.0, 0.0, 0.0, 0.0, 0.0, 0.0, 0.0, 0.0], \"y\": [54.132, 66.596, 60.364000000000004, 47.89999999999999, 66.596, 66.596, 66.596, 66.596, 66.596, 60.364000000000004, 66.596, 66.596, 60.364000000000004, 35.43599999999999, 66.596, 66.596, 60.364000000000004, 66.596, 66.596, 66.596, 66.596, 66.596, 66.596, 66.596, 66.596, 66.596, 66.596, 66.596, 66.596, 66.596, 66.596, 66.596, 66.596, 66.596, 66.596, 66.596, 66.596, 66.596]}],\n",
       "                        {\"height\": 600, \"hovermode\": \"closest\", \"width\": 600, \"xaxis\": {\"title\": {\"text\": \"Partes de gesti\\u00f3n\"}}, \"yaxis\": {\"title\": {\"text\": \"\\u00c9xito\"}}},\n",
       "                        {\"showLink\": false, \"linkText\": \"Export to plot.ly\", \"plotlyServerURL\": \"https://plot.ly\", \"responsive\": true}\n",
       "                    ).then(function(){\n",
       "                            \n",
       "var gd = document.getElementById('992ca630-fcf6-4802-bcac-213209774d86');\n",
       "var x = new MutationObserver(function (mutations, observer) {{\n",
       "        var display = window.getComputedStyle(gd).display;\n",
       "        if (!display || display === 'none') {{\n",
       "            console.log([gd, 'removed!']);\n",
       "            Plotly.purge(gd);\n",
       "            observer.disconnect();\n",
       "        }}\n",
       "}});\n",
       "\n",
       "// Listen for the removal of the full notebook cells\n",
       "var notebookContainer = gd.closest('#notebook-container');\n",
       "if (notebookContainer) {{\n",
       "    x.observe(notebookContainer, {childList: true});\n",
       "}}\n",
       "\n",
       "// Listen for the clearing of the current output cell\n",
       "var outputEl = gd.closest('.output');\n",
       "if (outputEl) {{\n",
       "    x.observe(outputEl, {childList: true});\n",
       "}}\n",
       "\n",
       "                        })\n",
       "                };\n",
       "                });\n",
       "            </script>\n",
       "        </div>"
      ]
     },
     "metadata": {},
     "output_type": "display_data"
    }
   ],
   "source": [
    "myplotly.scatter(dfc['partes'], dfc['éxito'], dfc.index,\n",
    "        x_title='Partes de gestión', y_title='Éxito')"
   ]
  },
  {
   "cell_type": "code",
   "execution_count": 67,
   "metadata": {},
   "outputs": [
    {
     "data": {
      "text/html": [
       "\n",
       "    <div class='alert alert-success' role='alert'>\n",
       "        COEFICIENTE DE CORRELACIÓN: <b>-0.2447</b>\n",
       "    </div>\n"
      ],
      "text/plain": [
       "<IPython.core.display.HTML object>"
      ]
     },
     "metadata": {},
     "output_type": "display_data"
    }
   ],
   "source": [
    "corr = dfc.corrwith(dfc['partes'])['éxito']\n",
    "display(HTML(f'''\n",
    "    <div class='alert alert-success' role='alert'>\n",
    "        COEFICIENTE DE CORRELACIÓN: <b>{corr:.4f}</b>\n",
    "    </div>\n",
    "'''))"
   ]
  },
  {
   "cell_type": "markdown",
   "metadata": {},
   "source": [
    "## Detección de *outliers*"
   ]
  },
  {
   "cell_type": "markdown",
   "metadata": {},
   "source": [
    "### Bajo número de partes y bajo éxito"
   ]
  },
  {
   "cell_type": "code",
   "execution_count": 68,
   "metadata": {
    "scrolled": false
   },
   "outputs": [
    {
     "data": {
      "text/html": [
       "<div>\n",
       "<style scoped>\n",
       "    .dataframe tbody tr th:only-of-type {\n",
       "        vertical-align: middle;\n",
       "    }\n",
       "\n",
       "    .dataframe tbody tr th {\n",
       "        vertical-align: top;\n",
       "    }\n",
       "\n",
       "    .dataframe thead th {\n",
       "        text-align: right;\n",
       "    }\n",
       "</style>\n",
       "<table border=\"1\" class=\"dataframe\">\n",
       "  <thead>\n",
       "    <tr style=\"text-align: right;\">\n",
       "      <th></th>\n",
       "      <th>partes</th>\n",
       "      <th>éxito</th>\n",
       "    </tr>\n",
       "    <tr>\n",
       "      <th>grupo</th>\n",
       "      <th></th>\n",
       "      <th></th>\n",
       "    </tr>\n",
       "  </thead>\n",
       "  <tbody>\n",
       "  </tbody>\n",
       "</table>\n",
       "</div>"
      ],
      "text/plain": [
       "Empty DataFrame\n",
       "Columns: [partes, éxito]\n",
       "Index: []"
      ]
     },
     "execution_count": 68,
     "metadata": {},
     "output_type": "execute_result"
    }
   ],
   "source": [
    "dfc[(dfc['partes'] < 10) & (dfc['éxito'] < 10)][['partes', 'éxito']]"
   ]
  },
  {
   "cell_type": "markdown",
   "metadata": {},
   "source": [
    "### Alto número de partes y alto éxito"
   ]
  },
  {
   "cell_type": "code",
   "execution_count": 69,
   "metadata": {
    "scrolled": false
   },
   "outputs": [
    {
     "data": {
      "text/html": [
       "<div>\n",
       "<style scoped>\n",
       "    .dataframe tbody tr th:only-of-type {\n",
       "        vertical-align: middle;\n",
       "    }\n",
       "\n",
       "    .dataframe tbody tr th {\n",
       "        vertical-align: top;\n",
       "    }\n",
       "\n",
       "    .dataframe thead th {\n",
       "        text-align: right;\n",
       "    }\n",
       "</style>\n",
       "<table border=\"1\" class=\"dataframe\">\n",
       "  <thead>\n",
       "    <tr style=\"text-align: right;\">\n",
       "      <th></th>\n",
       "      <th>partes</th>\n",
       "      <th>éxito</th>\n",
       "    </tr>\n",
       "    <tr>\n",
       "      <th>grupo</th>\n",
       "      <th></th>\n",
       "      <th></th>\n",
       "    </tr>\n",
       "  </thead>\n",
       "  <tbody>\n",
       "  </tbody>\n",
       "</table>\n",
       "</div>"
      ],
      "text/plain": [
       "Empty DataFrame\n",
       "Columns: [partes, éxito]\n",
       "Index: []"
      ]
     },
     "execution_count": 69,
     "metadata": {},
     "output_type": "execute_result"
    }
   ],
   "source": [
    "dfc[(dfc['partes'] > 15) & (dfc['éxito'] > 30)][['partes', 'éxito']]"
   ]
  },
  {
   "cell_type": "markdown",
   "metadata": {},
   "source": [
    "# GRUPOS MÁGICOS"
   ]
  },
  {
   "cell_type": "markdown",
   "metadata": {},
   "source": [
    "> Son aquellos que tienen mejores valores de éxito escolar, menor absentismo y menos partes de gestión."
   ]
  },
  {
   "cell_type": "markdown",
   "metadata": {},
   "source": [
    "\\begin{equation}\n",
    "magic = 0.6 · success + 0.2 · e^{-absence} + 0.2 · e^{-reports}\n",
    "\\end{equation}"
   ]
  },
  {
   "cell_type": "code",
   "execution_count": 70,
   "metadata": {
    "scrolled": true
   },
   "outputs": [
    {
     "data": {
      "application/vnd.plotly.v1+json": {
       "config": {
        "linkText": "Export to plot.ly",
        "plotlyServerURL": "https://plot.ly",
        "responsive": true,
        "showLink": false
       },
       "data": [
        {
         "name": "Éxito escolar",
         "type": "bar",
         "uid": "0eca10c1-c42a-4ec2-9b30-36254bad97e1",
         "x": [
          "2ARI",
          "2ASR",
          "2TEL",
          "2CAR",
          "2ELE",
          "2FPB",
          "2GIT",
          "2DAW",
          "2ALO",
          "ESO3A",
          "1ALO",
          "3DAM",
          "1ARI",
          "2SOC",
          "2CIE",
          "ESO4A",
          "1CAR",
          "1GIT",
          "ESO1B",
          "1TEL",
          "ESO2A",
          "ESO2B",
          "1DAW",
          "1ELE",
          "1SOC",
          "1FPB",
          "ESO3B",
          "ESO2C",
          "1CIE",
          "ESO1C",
          "1ASR",
          "ESO1A",
          "ESO4B",
          "ESO3C",
          "2DAM",
          "1DAM",
          "ESO2D",
          "ESO3D"
         ],
         "y": [
          100,
          100,
          100,
          100,
          100,
          100,
          100,
          92.9,
          88.5,
          85.7,
          85.7,
          84.6,
          82.4,
          72.4,
          68.4,
          68,
          66.7,
          64,
          63.2,
          60,
          57.1,
          56.7,
          55.6,
          55.6,
          53.8,
          53.8,
          52.2,
          51.7,
          47.6,
          44,
          41.9,
          35,
          34.5,
          28,
          26.7,
          26.7,
          20,
          20
         ]
        },
        {
         "name": "Absentismo",
         "type": "bar",
         "uid": "aee7118b-4a11-453d-ad69-24bc20dea68d",
         "x": [
          "2ARI",
          "2ASR",
          "2TEL",
          "2CAR",
          "2ELE",
          "2FPB",
          "2GIT",
          "2DAW",
          "2ALO",
          "ESO3A",
          "1ALO",
          "3DAM",
          "1ARI",
          "2SOC",
          "2CIE",
          "ESO4A",
          "1CAR",
          "1GIT",
          "ESO1B",
          "1TEL",
          "ESO2A",
          "ESO2B",
          "1DAW",
          "1ELE",
          "1SOC",
          "1FPB",
          "ESO3B",
          "ESO2C",
          "1CIE",
          "ESO1C",
          "1ASR",
          "ESO1A",
          "ESO4B",
          "ESO3C",
          "2DAM",
          "1DAM",
          "ESO2D",
          "ESO3D"
         ],
         "y": [
          4.62,
          5.9,
          7.6899999999999995,
          8.93,
          9.35,
          10.27,
          11.59,
          8.92,
          3.51,
          6.369999999999999,
          10.87,
          0.08,
          9.74,
          5.29,
          6.1,
          7.66,
          18.939999999999998,
          14.940000000000001,
          6.95,
          23.439999999999998,
          5.9,
          9.64,
          15.89,
          18.61,
          7.279999999999999,
          37.13,
          6.130000000000001,
          8.92,
          5.529999999999999,
          7.59,
          15.89,
          6.41,
          12.33,
          8.17,
          0.63,
          3.17,
          4.140000000000001,
          19.24
         ]
        },
        {
         "name": "Partes gestión",
         "type": "bar",
         "uid": "8a9e6498-543d-4f15-a33d-40647e1d984b",
         "x": [
          "2ARI",
          "2ASR",
          "2TEL",
          "2CAR",
          "2ELE",
          "2FPB",
          "2GIT",
          "2DAW",
          "2ALO",
          "ESO3A",
          "1ALO",
          "3DAM",
          "1ARI",
          "2SOC",
          "2CIE",
          "ESO4A",
          "1CAR",
          "1GIT",
          "ESO1B",
          "1TEL",
          "ESO2A",
          "ESO2B",
          "1DAW",
          "1ELE",
          "1SOC",
          "1FPB",
          "ESO3B",
          "ESO2C",
          "1CIE",
          "ESO1C",
          "1ASR",
          "ESO1A",
          "ESO4B",
          "ESO3C",
          "2DAM",
          "1DAM",
          "ESO2D",
          "ESO3D"
         ],
         "y": [
          0,
          0,
          0,
          0,
          0,
          0,
          0,
          0,
          0,
          0,
          0,
          0,
          0,
          0,
          0,
          0,
          0,
          0,
          0,
          0,
          3,
          0,
          0,
          0,
          1,
          5,
          0,
          0,
          0,
          1,
          0,
          2,
          1,
          1,
          0,
          0,
          0,
          0
         ]
        }
       ],
       "layout": {
        "barmode": "stack"
       }
      },
      "text/html": [
       "<div>\n",
       "        \n",
       "        \n",
       "            <div id=\"5abb4fc4-08ef-4737-a264-6fd5cac7c7f9\" class=\"plotly-graph-div\" style=\"height:525px; width:100%;\"></div>\n",
       "            <script type=\"text/javascript\">\n",
       "                require([\"plotly\"], function(Plotly) {\n",
       "                    window.PLOTLYENV=window.PLOTLYENV || {};\n",
       "                    window.PLOTLYENV.BASE_URL='https://plot.ly';\n",
       "                    \n",
       "                if (document.getElementById(\"5abb4fc4-08ef-4737-a264-6fd5cac7c7f9\")) {\n",
       "                    Plotly.newPlot(\n",
       "                        '5abb4fc4-08ef-4737-a264-6fd5cac7c7f9',\n",
       "                        [{\"name\": \"\\u00c9xito escolar\", \"type\": \"bar\", \"uid\": \"5550b6cd-793d-4d63-9aba-14433302a5a9\", \"x\": [\"2ARI\", \"2ASR\", \"2TEL\", \"2CAR\", \"2ELE\", \"2FPB\", \"2GIT\", \"2DAW\", \"2ALO\", \"ESO3A\", \"1ALO\", \"3DAM\", \"1ARI\", \"2SOC\", \"2CIE\", \"ESO4A\", \"1CAR\", \"1GIT\", \"ESO1B\", \"1TEL\", \"ESO2A\", \"ESO2B\", \"1DAW\", \"1ELE\", \"1SOC\", \"1FPB\", \"ESO3B\", \"ESO2C\", \"1CIE\", \"ESO1C\", \"1ASR\", \"ESO1A\", \"ESO4B\", \"ESO3C\", \"2DAM\", \"1DAM\", \"ESO2D\", \"ESO3D\"], \"y\": [100.0, 100.0, 100.0, 100.0, 100.0, 100.0, 100.0, 92.9, 88.5, 85.7, 85.7, 84.6, 82.4, 72.4, 68.4, 68.0, 66.7, 64.0, 63.2, 60.0, 57.1, 56.7, 55.6, 55.6, 53.8, 53.8, 52.2, 51.7, 47.6, 44.0, 41.9, 35.0, 34.5, 28.0, 26.7, 26.7, 20.0, 20.0]}, {\"name\": \"Absentismo\", \"type\": \"bar\", \"uid\": \"a82af7cd-c176-4007-b200-2f8429b3dd7d\", \"x\": [\"2ARI\", \"2ASR\", \"2TEL\", \"2CAR\", \"2ELE\", \"2FPB\", \"2GIT\", \"2DAW\", \"2ALO\", \"ESO3A\", \"1ALO\", \"3DAM\", \"1ARI\", \"2SOC\", \"2CIE\", \"ESO4A\", \"1CAR\", \"1GIT\", \"ESO1B\", \"1TEL\", \"ESO2A\", \"ESO2B\", \"1DAW\", \"1ELE\", \"1SOC\", \"1FPB\", \"ESO3B\", \"ESO2C\", \"1CIE\", \"ESO1C\", \"1ASR\", \"ESO1A\", \"ESO4B\", \"ESO3C\", \"2DAM\", \"1DAM\", \"ESO2D\", \"ESO3D\"], \"y\": [4.62, 5.9, 7.6899999999999995, 8.93, 9.35, 10.27, 11.59, 8.92, 3.51, 6.369999999999999, 10.87, 0.08, 9.74, 5.29, 6.1, 7.66, 18.939999999999998, 14.940000000000001, 6.95, 23.439999999999998, 5.9, 9.64, 15.89, 18.61, 7.279999999999999, 37.13, 6.130000000000001, 8.92, 5.529999999999999, 7.59, 15.89, 6.41, 12.33, 8.17, 0.63, 3.17, 4.140000000000001, 19.24]}, {\"name\": \"Partes gesti\\u00f3n\", \"type\": \"bar\", \"uid\": \"32fae398-0e52-4a8e-becd-27c891dad63b\", \"x\": [\"2ARI\", \"2ASR\", \"2TEL\", \"2CAR\", \"2ELE\", \"2FPB\", \"2GIT\", \"2DAW\", \"2ALO\", \"ESO3A\", \"1ALO\", \"3DAM\", \"1ARI\", \"2SOC\", \"2CIE\", \"ESO4A\", \"1CAR\", \"1GIT\", \"ESO1B\", \"1TEL\", \"ESO2A\", \"ESO2B\", \"1DAW\", \"1ELE\", \"1SOC\", \"1FPB\", \"ESO3B\", \"ESO2C\", \"1CIE\", \"ESO1C\", \"1ASR\", \"ESO1A\", \"ESO4B\", \"ESO3C\", \"2DAM\", \"1DAM\", \"ESO2D\", \"ESO3D\"], \"y\": [0.0, 0.0, 0.0, 0.0, 0.0, 0.0, 0.0, 0.0, 0.0, 0.0, 0.0, 0.0, 0.0, 0.0, 0.0, 0.0, 0.0, 0.0, 0.0, 0.0, 3.0, 0.0, 0.0, 0.0, 1.0, 5.0, 0.0, 0.0, 0.0, 1.0, 0.0, 2.0, 1.0, 1.0, 0.0, 0.0, 0.0, 0.0]}],\n",
       "                        {\"barmode\": \"stack\"},\n",
       "                        {\"showLink\": false, \"linkText\": \"Export to plot.ly\", \"plotlyServerURL\": \"https://plot.ly\", \"responsive\": true}\n",
       "                    ).then(function(){\n",
       "                            \n",
       "var gd = document.getElementById('5abb4fc4-08ef-4737-a264-6fd5cac7c7f9');\n",
       "var x = new MutationObserver(function (mutations, observer) {{\n",
       "        var display = window.getComputedStyle(gd).display;\n",
       "        if (!display || display === 'none') {{\n",
       "            console.log([gd, 'removed!']);\n",
       "            Plotly.purge(gd);\n",
       "            observer.disconnect();\n",
       "        }}\n",
       "}});\n",
       "\n",
       "// Listen for the removal of the full notebook cells\n",
       "var notebookContainer = gd.closest('#notebook-container');\n",
       "if (notebookContainer) {{\n",
       "    x.observe(notebookContainer, {childList: true});\n",
       "}}\n",
       "\n",
       "// Listen for the clearing of the current output cell\n",
       "var outputEl = gd.closest('.output');\n",
       "if (outputEl) {{\n",
       "    x.observe(outputEl, {childList: true});\n",
       "}}\n",
       "\n",
       "                        })\n",
       "                };\n",
       "                });\n",
       "            </script>\n",
       "        </div>"
      ]
     },
     "metadata": {},
     "output_type": "display_data"
    }
   ],
   "source": [
    "df2 = dfc.copy()\n",
    "df2['magic'] = 0.6 * df2['éxito'] + 0.2 * \\\n",
    "    np.exp(-df2['absentismo']) + 0.2 * np.exp(-df2['partes'])\n",
    "magic = df2.sort_values('magic', ascending=False)\n",
    "\n",
    "series = {\n",
    "    'Éxito escolar': magic['éxito'].values,\n",
    "    'Absentismo': magic['absentismo'].values,\n",
    "    'Partes gestión': magic['partes'].values\n",
    "}\n",
    "\n",
    "myplotly.cbar(magic.index, series, is_percentage=False, barmode='stack')"
   ]
  }
 ],
 "metadata": {
  "kernelspec": {
   "display_name": "Python 3",
   "language": "python",
   "name": "python3"
  },
  "language_info": {
   "codemirror_mode": {
    "name": "ipython",
    "version": 3
   },
   "file_extension": ".py",
   "mimetype": "text/x-python",
   "name": "python",
   "nbconvert_exporter": "python",
   "pygments_lexer": "ipython3",
   "version": "3.7.0"
  }
 },
 "nbformat": 4,
 "nbformat_minor": 2
}
